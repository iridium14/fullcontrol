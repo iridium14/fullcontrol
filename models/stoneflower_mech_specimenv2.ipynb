{
  "cells": [
    {
      "attachments": {},
      "cell_type": "markdown",
      "metadata": {
        "id": "ac9_FmrCOwQL"
      },
      "source": [
        "# FullControl design template\n",
        "\n",
        "*<<< check out demo models [here](https://github.com/FullControlXYZ/fullcontrol/tree/master/models/README.md) >>>*\n",
        "  \n",
        "run all cells in this notebook, or press shift+enter to run each cell sequentially \n",
        "\n",
        "if you change one of the code cells, make sure you run it and all subsequent cells again (in order)\n",
        "\n",
        "*this document is a jupyter notebook - if they're new to you, check out how they work: [link](https://www.google.com/search?q=ipynb+tutorial), [link](https://jupyter.org/try-jupyter/retro/notebooks/?path=notebooks/Intro.ipynb), [link](https://colab.research.google.com/)*"
      ]
    },
    {
      "cell_type": "code",
      "execution_count": 12,
      "metadata": {
        "id": "57XXnogSOvDx"
      },
      "outputs": [],
      "source": [
        "import fullcontrol as fc"
      ]
    },
    {
      "cell_type": "code",
      "execution_count": 13,
      "metadata": {},
      "outputs": [],
      "source": [
        "# printer/gcode parameters\n",
        "\n",
        "design_name = 'c1161-18-B'\n",
        "nozzle_temp = 0\n",
        "bed_temp = 0\n",
        "print_speed = 300\n",
        "fan_percent = 0\n",
        "printer_name='stoneflower3d' # generic / ultimaker2plus / prusa_i3 / ender_3 / cr_10 / bambulab_x1 / toolchanger_T0"
      ]
    },
    {
      "cell_type": "code",
      "execution_count": 14,
      "metadata": {
        "id": "DeWKjlzbPC0u"
      },
      "outputs": [],
      "source": [
        "# design parameters\n",
        "\n",
        "EW = 0.5 # extrusion width\n",
        "EH = 0.5 # extrusion height (and layer height)\n",
        "initial_z = EH*1 # initial nozzle position is set to 1x the extrusion height to get a bit of 'squish' for good bed adhesion\n",
        "layers = 3\n",
        "l=45\n",
        "b=4"
      ]
    },
    {
      "cell_type": "code",
      "execution_count": 25,
      "metadata": {
        "id": "kLPh7aTwQKrF"
      },
      "outputs": [],
      "source": [
        "# generate the design (make sure you've run the above cells before running this cell)\n",
        "initial_xyz=fc.Point(x=200, y=200, z=initial_z)\n",
        "steps = []\n",
        "\n",
        "for layer in range(layers):\n",
        "    \n",
        "        layer1=[]\n",
        "        first_point=fc.move(initial_xyz,fc.Vector(z=EH*layer))\n",
        "        rectangle_steps = fc.rectangleXY(first_point, b, l, cw = True)\n",
        "        start_point = fc.move(first_point,fc.Vector(x=EW,y=EW))\n",
        "        direction = fc.Vector(x=0,y=1)\n",
        "        amplitude = -(4-2*EW)\n",
        "        line_spacing = 1\n",
        "        periods = 22\n",
        "        extra_half_period = True\n",
        "        extra_end_line = False\n",
        "        infill_steps = fc.squarewaveXY(start_point, direction, amplitude, line_spacing, periods, extra_half_period, extra_end_line)\n",
        "        layer1.append(rectangle_steps)\n",
        "        layer1.append(infill_steps)        \n",
        "    \n",
        "        layer2=[]\n",
        "        first_point=fc.move(initial_xyz,fc.Vector(x=b,y=l,z=EH*layer))\n",
        "        rectangle_steps = fc.rectangleXY(first_point, -b, -l, cw = True)\n",
        "        start_point = fc.move(first_point,fc.Vector(x=-EW,y=-EW))\n",
        "        direction = fc.Vector(x=-1,y=0)\n",
        "        amplitude = (45-2*EW)\n",
        "        line_spacing = 1\n",
        "        periods = 2\n",
        "        extra_half_period = False\n",
        "        extra_end_line = False\n",
        "        infill_steps = fc.squarewaveXY(start_point, direction, amplitude, line_spacing, periods, extra_half_period, extra_end_line)\n",
        "        layer2.append(rectangle_steps)\n",
        "        layer2.append(infill_steps)\n",
        "        \n",
        "        layer3=[]\n",
        "        first_point=fc.move(initial_xyz,fc.Vector(x=b,z=EH*layer))\n",
        "        rectangle_steps = fc.rectangleXY(first_point, -b, l, cw = True)\n",
        "        start_point = fc.move(first_point,fc.Vector(x=-EW,y=EW))\n",
        "        direction = fc.Vector(x=1,y=1)\n",
        "        amplitude = -(4-2*EW)\n",
        "        line_spacing = 1\n",
        "        periods = 22\n",
        "        extra_half_period = True\n",
        "        extra_end_line = False\n",
        "        infill_steps = fc.squarewaveXY(start_point, direction, amplitude, line_spacing, periods, extra_half_period, extra_end_line)\n",
        "        layer3.append(rectangle_steps)\n",
        "        layer3.append(infill_steps)\n",
        "\n",
        "        layer4=[]\n",
        "        first_point=fc.move(initial_xyz,fc.Vector(z=EH*layer))\n",
        "        rectangle_steps = fc.rectangleXY(first_point, b, l, cw = True)\n",
        "        start_point = fc.move(first_point,fc.Vector(x=EW,y=EW))\n",
        "        direction = fc.Vector(x=1,y=0)\n",
        "        amplitude = (45-2*EW)\n",
        "        line_spacing = 1\n",
        "        periods = 2\n",
        "        extra_half_period = False\n",
        "        extra_end_line = False\n",
        "        infill_steps = fc.squarewaveXY(start_point, direction, amplitude, line_spacing, periods, extra_half_period, extra_end_line)\n",
        "        layer4.append(rectangle_steps)\n",
        "        layer4.append(infill_steps)\n",
        "        layertypes=[layer1,layer2,layer3,layer4]\n",
        "        steps.extend(layertypes[layer])    \n",
        "\n",
        "#steps = fc.move(rectangle_steps, fc.Vector(z=EH), copy=True, copy_quantity=layers)"
      ]
    },
    {
      "cell_type": "code",
      "execution_count": 26,
      "metadata": {
        "id": "ZVdfnpt5RSUi"
      },
      "outputs": [
        {
          "name": "stdout",
          "output_type": "stream",
          "text": [
            "warning - the list of steps should be a 1D list of fullcontrol class instances, it currently includes a 'list'\n",
            "   - fc.flatten() is being used to convert the design to a 1D list\n"
          ]
        },
        {
          "data": {
            "application/vnd.plotly.v1+json": {
              "config": {
                "plotlyServerURL": "https://plot.ly"
              },
              "data": [
                {
                  "line": {
                    "color": [
                      "rgb(0.00, 0.00, 255.00)",
                      "rgb(0.00, 0.00, 255.00)",
                      "rgb(0.00, 0.00, 255.00)",
                      "rgb(0.00, 0.00, 255.00)",
                      "rgb(0.00, 0.00, 255.00)",
                      "rgb(0.00, 0.00, 255.00)",
                      "rgb(0.00, 0.00, 255.00)",
                      "rgb(0.00, 0.00, 255.00)",
                      "rgb(0.00, 0.00, 255.00)",
                      "rgb(0.00, 0.00, 255.00)",
                      "rgb(0.00, 0.00, 255.00)",
                      "rgb(0.00, 0.00, 255.00)",
                      "rgb(0.00, 0.00, 255.00)",
                      "rgb(0.00, 0.00, 255.00)",
                      "rgb(0.00, 0.00, 255.00)",
                      "rgb(0.00, 0.00, 255.00)",
                      "rgb(0.00, 0.00, 255.00)",
                      "rgb(0.00, 0.00, 255.00)",
                      "rgb(0.00, 0.00, 255.00)",
                      "rgb(0.00, 0.00, 255.00)",
                      "rgb(0.00, 0.00, 255.00)",
                      "rgb(0.00, 0.00, 255.00)",
                      "rgb(0.00, 0.00, 255.00)",
                      "rgb(0.00, 0.00, 255.00)",
                      "rgb(0.00, 0.00, 255.00)",
                      "rgb(0.00, 0.00, 255.00)",
                      "rgb(0.00, 0.00, 255.00)",
                      "rgb(0.00, 0.00, 255.00)",
                      "rgb(0.00, 0.00, 255.00)",
                      "rgb(0.00, 0.00, 255.00)",
                      "rgb(0.00, 0.00, 255.00)",
                      "rgb(0.00, 0.00, 255.00)",
                      "rgb(0.00, 0.00, 255.00)",
                      "rgb(0.00, 0.00, 255.00)",
                      "rgb(0.00, 0.00, 255.00)",
                      "rgb(0.00, 0.00, 255.00)",
                      "rgb(0.00, 0.00, 255.00)",
                      "rgb(0.00, 0.00, 255.00)",
                      "rgb(0.00, 0.00, 255.00)",
                      "rgb(0.00, 0.00, 255.00)",
                      "rgb(0.00, 0.00, 255.00)",
                      "rgb(0.00, 0.00, 255.00)",
                      "rgb(0.00, 0.00, 255.00)",
                      "rgb(0.00, 0.00, 255.00)",
                      "rgb(0.00, 0.00, 255.00)",
                      "rgb(0.00, 0.00, 255.00)",
                      "rgb(0.00, 0.00, 255.00)",
                      "rgb(0.00, 0.00, 255.00)",
                      "rgb(0.00, 0.00, 255.00)",
                      "rgb(0.00, 0.00, 255.00)",
                      "rgb(0.00, 0.00, 255.00)",
                      "rgb(0.00, 0.00, 255.00)",
                      "rgb(0.00, 0.00, 255.00)",
                      "rgb(0.00, 0.00, 255.00)",
                      "rgb(0.00, 0.00, 255.00)",
                      "rgb(0.00, 0.00, 255.00)",
                      "rgb(0.00, 0.00, 255.00)",
                      "rgb(0.00, 0.00, 255.00)",
                      "rgb(0.00, 0.00, 255.00)",
                      "rgb(0.00, 0.00, 255.00)",
                      "rgb(0.00, 0.00, 255.00)",
                      "rgb(0.00, 0.00, 255.00)",
                      "rgb(0.00, 0.00, 255.00)",
                      "rgb(0.00, 0.00, 255.00)",
                      "rgb(0.00, 0.00, 255.00)",
                      "rgb(0.00, 0.00, 255.00)",
                      "rgb(0.00, 0.00, 255.00)",
                      "rgb(0.00, 0.00, 255.00)",
                      "rgb(0.00, 0.00, 255.00)",
                      "rgb(0.00, 0.00, 255.00)",
                      "rgb(0.00, 0.00, 255.00)",
                      "rgb(0.00, 0.00, 255.00)",
                      "rgb(0.00, 0.00, 255.00)",
                      "rgb(0.00, 0.00, 255.00)",
                      "rgb(0.00, 0.00, 255.00)",
                      "rgb(0.00, 0.00, 255.00)",
                      "rgb(0.00, 0.00, 255.00)",
                      "rgb(0.00, 0.00, 255.00)",
                      "rgb(0.00, 0.00, 255.00)",
                      "rgb(0.00, 0.00, 255.00)",
                      "rgb(0.00, 0.00, 255.00)",
                      "rgb(0.00, 0.00, 255.00)",
                      "rgb(0.00, 0.00, 255.00)",
                      "rgb(0.00, 0.00, 255.00)",
                      "rgb(0.00, 0.00, 255.00)",
                      "rgb(0.00, 0.00, 255.00)",
                      "rgb(0.00, 0.00, 255.00)",
                      "rgb(0.00, 0.00, 255.00)",
                      "rgb(0.00, 0.00, 255.00)",
                      "rgb(0.00, 0.00, 255.00)",
                      "rgb(0.00, 0.00, 255.00)",
                      "rgb(0.00, 0.00, 255.00)",
                      "rgb(0.00, 0.00, 255.00)",
                      "rgb(0.00, 0.00, 255.00)",
                      "rgb(0.00, 0.00, 255.00)",
                      "rgb(0.00, 127.50, 255.00)",
                      "rgb(0.00, 127.50, 255.00)",
                      "rgb(0.00, 127.50, 255.00)",
                      "rgb(0.00, 127.50, 255.00)",
                      "rgb(0.00, 127.50, 255.00)",
                      "rgb(0.00, 127.50, 255.00)",
                      "rgb(0.00, 127.50, 255.00)",
                      "rgb(0.00, 127.50, 255.00)",
                      "rgb(0.00, 127.50, 255.00)",
                      "rgb(0.00, 127.50, 255.00)",
                      "rgb(0.00, 127.50, 255.00)",
                      "rgb(0.00, 127.50, 255.00)",
                      "rgb(0.00, 127.50, 255.00)",
                      "rgb(0.00, 255.00, 255.00)",
                      "rgb(0.00, 255.00, 255.00)",
                      "rgb(0.00, 255.00, 255.00)",
                      "rgb(0.00, 255.00, 255.00)",
                      "rgb(0.00, 255.00, 255.00)",
                      "rgb(0.00, 255.00, 255.00)",
                      "rgb(0.00, 255.00, 255.00)",
                      "rgb(0.00, 255.00, 255.00)",
                      "rgb(0.00, 255.00, 255.00)",
                      "rgb(0.00, 255.00, 255.00)",
                      "rgb(0.00, 255.00, 255.00)",
                      "rgb(0.00, 255.00, 255.00)",
                      "rgb(0.00, 255.00, 255.00)",
                      "rgb(0.00, 255.00, 255.00)",
                      "rgb(0.00, 255.00, 255.00)",
                      "rgb(0.00, 255.00, 255.00)",
                      "rgb(0.00, 255.00, 255.00)",
                      "rgb(0.00, 255.00, 255.00)",
                      "rgb(0.00, 255.00, 255.00)",
                      "rgb(0.00, 255.00, 255.00)",
                      "rgb(0.00, 255.00, 255.00)",
                      "rgb(0.00, 255.00, 255.00)",
                      "rgb(0.00, 255.00, 255.00)",
                      "rgb(0.00, 255.00, 255.00)",
                      "rgb(0.00, 255.00, 255.00)",
                      "rgb(0.00, 255.00, 255.00)",
                      "rgb(0.00, 255.00, 255.00)",
                      "rgb(0.00, 255.00, 255.00)",
                      "rgb(0.00, 255.00, 255.00)",
                      "rgb(0.00, 255.00, 255.00)",
                      "rgb(0.00, 255.00, 255.00)",
                      "rgb(0.00, 255.00, 255.00)",
                      "rgb(0.00, 255.00, 255.00)",
                      "rgb(0.00, 255.00, 255.00)",
                      "rgb(0.00, 255.00, 255.00)",
                      "rgb(0.00, 255.00, 255.00)",
                      "rgb(0.00, 255.00, 255.00)",
                      "rgb(0.00, 255.00, 255.00)",
                      "rgb(0.00, 255.00, 255.00)",
                      "rgb(0.00, 255.00, 255.00)",
                      "rgb(0.00, 255.00, 255.00)",
                      "rgb(0.00, 255.00, 255.00)",
                      "rgb(0.00, 255.00, 255.00)",
                      "rgb(0.00, 255.00, 255.00)",
                      "rgb(0.00, 255.00, 255.00)",
                      "rgb(0.00, 255.00, 255.00)",
                      "rgb(0.00, 255.00, 255.00)",
                      "rgb(0.00, 255.00, 255.00)",
                      "rgb(0.00, 255.00, 255.00)",
                      "rgb(0.00, 255.00, 255.00)",
                      "rgb(0.00, 255.00, 255.00)",
                      "rgb(0.00, 255.00, 255.00)",
                      "rgb(0.00, 255.00, 255.00)",
                      "rgb(0.00, 255.00, 255.00)",
                      "rgb(0.00, 255.00, 255.00)",
                      "rgb(0.00, 255.00, 255.00)",
                      "rgb(0.00, 255.00, 255.00)",
                      "rgb(0.00, 255.00, 255.00)",
                      "rgb(0.00, 255.00, 255.00)",
                      "rgb(0.00, 255.00, 255.00)",
                      "rgb(0.00, 255.00, 255.00)",
                      "rgb(0.00, 255.00, 255.00)",
                      "rgb(0.00, 255.00, 255.00)",
                      "rgb(0.00, 255.00, 255.00)",
                      "rgb(0.00, 255.00, 255.00)",
                      "rgb(0.00, 255.00, 255.00)",
                      "rgb(0.00, 255.00, 255.00)",
                      "rgb(0.00, 255.00, 255.00)",
                      "rgb(0.00, 255.00, 255.00)",
                      "rgb(0.00, 255.00, 255.00)",
                      "rgb(0.00, 255.00, 255.00)",
                      "rgb(0.00, 255.00, 255.00)",
                      "rgb(0.00, 255.00, 255.00)",
                      "rgb(0.00, 255.00, 255.00)",
                      "rgb(0.00, 255.00, 255.00)",
                      "rgb(0.00, 255.00, 255.00)",
                      "rgb(0.00, 255.00, 255.00)",
                      "rgb(0.00, 255.00, 255.00)",
                      "rgb(0.00, 255.00, 255.00)",
                      "rgb(0.00, 255.00, 255.00)",
                      "rgb(0.00, 255.00, 255.00)",
                      "rgb(0.00, 255.00, 255.00)",
                      "rgb(0.00, 255.00, 255.00)",
                      "rgb(0.00, 255.00, 255.00)",
                      "rgb(0.00, 255.00, 255.00)",
                      "rgb(0.00, 255.00, 255.00)",
                      "rgb(0.00, 255.00, 255.00)",
                      "rgb(0.00, 255.00, 255.00)",
                      "rgb(0.00, 255.00, 255.00)",
                      "rgb(0.00, 255.00, 255.00)",
                      "rgb(0.00, 255.00, 255.00)",
                      "rgb(0.00, 255.00, 255.00)",
                      "rgb(0.00, 255.00, 255.00)",
                      "rgb(0.00, 255.00, 255.00)",
                      "rgb(0.00, 255.00, 255.00)"
                    ],
                    "width": 4
                  },
                  "mode": "lines",
                  "showlegend": false,
                  "type": "scatter3d",
                  "x": [
                    200,
                    200,
                    204,
                    204,
                    200,
                    200.5,
                    203.5,
                    203.5,
                    200.5,
                    200.5,
                    203.5,
                    203.5,
                    200.5,
                    200.5,
                    203.5,
                    203.5,
                    200.5,
                    200.5,
                    203.5,
                    203.5,
                    200.5,
                    200.5,
                    203.5,
                    203.5,
                    200.5,
                    200.5,
                    203.5,
                    203.5,
                    200.5,
                    200.5,
                    203.5,
                    203.5,
                    200.5,
                    200.5,
                    203.5,
                    203.5,
                    200.5,
                    200.5,
                    203.5,
                    203.5,
                    200.5,
                    200.5,
                    203.5,
                    203.5,
                    200.5,
                    200.5,
                    203.5,
                    203.5,
                    200.5,
                    200.5,
                    203.5,
                    203.5,
                    200.5,
                    200.5,
                    203.5,
                    203.5,
                    200.5,
                    200.5,
                    203.5,
                    203.5,
                    200.5,
                    200.5,
                    203.5,
                    203.5,
                    200.5,
                    200.5,
                    203.5,
                    203.5,
                    200.5,
                    200.5,
                    203.5,
                    203.5,
                    200.5,
                    200.5,
                    203.5,
                    203.5,
                    200.5,
                    200.5,
                    203.5,
                    203.5,
                    200.5,
                    200.5,
                    203.5,
                    203.5,
                    200.5,
                    200.5,
                    203.5,
                    203.5,
                    200.5,
                    200.5,
                    203.5,
                    203.5,
                    200.5,
                    200.5,
                    203.5,
                    204,
                    204,
                    200,
                    200,
                    204,
                    203.5,
                    203.5,
                    202.5,
                    202.5,
                    201.5,
                    201.5,
                    200.5,
                    200.5,
                    204,
                    204,
                    200,
                    200,
                    204,
                    203.5,
                    205.621,
                    206.328,
                    204.207,
                    204.914,
                    207.036,
                    207.743,
                    205.621,
                    206.328,
                    208.45,
                    209.157,
                    207.036,
                    207.743,
                    209.864,
                    210.571,
                    208.45,
                    209.157,
                    211.278,
                    211.985,
                    209.864,
                    210.571,
                    212.692,
                    213.399,
                    211.278,
                    211.985,
                    214.107,
                    214.814,
                    212.692,
                    213.399,
                    215.521,
                    216.228,
                    214.107,
                    214.814,
                    216.935,
                    217.642,
                    215.521,
                    216.228,
                    218.349,
                    219.056,
                    216.935,
                    217.642,
                    219.763,
                    220.471,
                    218.349,
                    219.056,
                    221.178,
                    221.885,
                    219.763,
                    220.471,
                    222.592,
                    223.299,
                    221.178,
                    221.885,
                    224.006,
                    224.713,
                    222.592,
                    223.299,
                    225.42,
                    226.127,
                    224.006,
                    224.713,
                    226.835,
                    227.542,
                    225.42,
                    226.127,
                    228.249,
                    228.956,
                    226.835,
                    227.542,
                    229.663,
                    230.37,
                    228.249,
                    228.956,
                    231.077,
                    231.784,
                    229.663,
                    230.37,
                    232.491,
                    233.198,
                    231.077,
                    231.784,
                    233.906,
                    234.613,
                    232.491,
                    233.198,
                    235.32,
                    236.027,
                    233.906,
                    234.613,
                    236.734
                  ],
                  "y": [
                    200,
                    245,
                    245,
                    200,
                    200,
                    200.5,
                    200.5,
                    201.5,
                    201.5,
                    202.5,
                    202.5,
                    203.5,
                    203.5,
                    204.5,
                    204.5,
                    205.5,
                    205.5,
                    206.5,
                    206.5,
                    207.5,
                    207.5,
                    208.5,
                    208.5,
                    209.5,
                    209.5,
                    210.5,
                    210.5,
                    211.5,
                    211.5,
                    212.5,
                    212.5,
                    213.5,
                    213.5,
                    214.5,
                    214.5,
                    215.5,
                    215.5,
                    216.5,
                    216.5,
                    217.5,
                    217.5,
                    218.5,
                    218.5,
                    219.5,
                    219.5,
                    220.5,
                    220.5,
                    221.5,
                    221.5,
                    222.5,
                    222.5,
                    223.5,
                    223.5,
                    224.5,
                    224.5,
                    225.5,
                    225.5,
                    226.5,
                    226.5,
                    227.5,
                    227.5,
                    228.5,
                    228.5,
                    229.5,
                    229.5,
                    230.5,
                    230.5,
                    231.5,
                    231.5,
                    232.5,
                    232.5,
                    233.5,
                    233.5,
                    234.5,
                    234.5,
                    235.5,
                    235.5,
                    236.5,
                    236.5,
                    237.5,
                    237.5,
                    238.5,
                    238.5,
                    239.5,
                    239.5,
                    240.5,
                    240.5,
                    241.5,
                    241.5,
                    242.5,
                    242.5,
                    243.5,
                    243.5,
                    244.5,
                    244.5,
                    245,
                    200,
                    200,
                    245,
                    245,
                    244.5,
                    200.5,
                    200.5,
                    244.5,
                    244.5,
                    200.5,
                    200.5,
                    244.5,
                    200,
                    245,
                    245,
                    200,
                    200,
                    200.5,
                    198.379,
                    199.086,
                    201.207,
                    201.914,
                    199.793,
                    200.5,
                    202.621,
                    203.328,
                    201.207,
                    201.914,
                    204.036,
                    204.743,
                    202.621,
                    203.328,
                    205.45,
                    206.157,
                    204.036,
                    204.743,
                    206.864,
                    207.571,
                    205.45,
                    206.157,
                    208.278,
                    208.985,
                    206.864,
                    207.571,
                    209.692,
                    210.399,
                    208.278,
                    208.985,
                    211.107,
                    211.814,
                    209.692,
                    210.399,
                    212.521,
                    213.228,
                    211.107,
                    211.814,
                    213.935,
                    214.642,
                    212.521,
                    213.228,
                    215.349,
                    216.056,
                    213.935,
                    214.642,
                    216.763,
                    217.471,
                    215.349,
                    216.056,
                    218.178,
                    218.885,
                    216.763,
                    217.471,
                    219.592,
                    220.299,
                    218.178,
                    218.885,
                    221.006,
                    221.713,
                    219.592,
                    220.299,
                    222.42,
                    223.127,
                    221.006,
                    221.713,
                    223.835,
                    224.542,
                    222.42,
                    223.127,
                    225.249,
                    225.956,
                    223.835,
                    224.542,
                    226.663,
                    227.37,
                    225.249,
                    225.956,
                    228.077,
                    228.784,
                    226.663,
                    227.37,
                    229.491,
                    230.198,
                    228.077,
                    228.784,
                    230.906,
                    231.613,
                    229.491
                  ],
                  "z": [
                    0.5,
                    0.5,
                    0.5,
                    0.5,
                    0.5,
                    0.5,
                    0.5,
                    0.5,
                    0.5,
                    0.5,
                    0.5,
                    0.5,
                    0.5,
                    0.5,
                    0.5,
                    0.5,
                    0.5,
                    0.5,
                    0.5,
                    0.5,
                    0.5,
                    0.5,
                    0.5,
                    0.5,
                    0.5,
                    0.5,
                    0.5,
                    0.5,
                    0.5,
                    0.5,
                    0.5,
                    0.5,
                    0.5,
                    0.5,
                    0.5,
                    0.5,
                    0.5,
                    0.5,
                    0.5,
                    0.5,
                    0.5,
                    0.5,
                    0.5,
                    0.5,
                    0.5,
                    0.5,
                    0.5,
                    0.5,
                    0.5,
                    0.5,
                    0.5,
                    0.5,
                    0.5,
                    0.5,
                    0.5,
                    0.5,
                    0.5,
                    0.5,
                    0.5,
                    0.5,
                    0.5,
                    0.5,
                    0.5,
                    0.5,
                    0.5,
                    0.5,
                    0.5,
                    0.5,
                    0.5,
                    0.5,
                    0.5,
                    0.5,
                    0.5,
                    0.5,
                    0.5,
                    0.5,
                    0.5,
                    0.5,
                    0.5,
                    0.5,
                    0.5,
                    0.5,
                    0.5,
                    0.5,
                    0.5,
                    0.5,
                    0.5,
                    0.5,
                    0.5,
                    0.5,
                    0.5,
                    0.5,
                    0.5,
                    0.5,
                    0.5,
                    1,
                    1,
                    1,
                    1,
                    1,
                    1,
                    1,
                    1,
                    1,
                    1,
                    1,
                    1,
                    1,
                    1.5,
                    1.5,
                    1.5,
                    1.5,
                    1.5,
                    1.5,
                    1.5,
                    1.5,
                    1.5,
                    1.5,
                    1.5,
                    1.5,
                    1.5,
                    1.5,
                    1.5,
                    1.5,
                    1.5,
                    1.5,
                    1.5,
                    1.5,
                    1.5,
                    1.5,
                    1.5,
                    1.5,
                    1.5,
                    1.5,
                    1.5,
                    1.5,
                    1.5,
                    1.5,
                    1.5,
                    1.5,
                    1.5,
                    1.5,
                    1.5,
                    1.5,
                    1.5,
                    1.5,
                    1.5,
                    1.5,
                    1.5,
                    1.5,
                    1.5,
                    1.5,
                    1.5,
                    1.5,
                    1.5,
                    1.5,
                    1.5,
                    1.5,
                    1.5,
                    1.5,
                    1.5,
                    1.5,
                    1.5,
                    1.5,
                    1.5,
                    1.5,
                    1.5,
                    1.5,
                    1.5,
                    1.5,
                    1.5,
                    1.5,
                    1.5,
                    1.5,
                    1.5,
                    1.5,
                    1.5,
                    1.5,
                    1.5,
                    1.5,
                    1.5,
                    1.5,
                    1.5,
                    1.5,
                    1.5,
                    1.5,
                    1.5,
                    1.5,
                    1.5,
                    1.5,
                    1.5,
                    1.5,
                    1.5,
                    1.5,
                    1.5,
                    1.5,
                    1.5,
                    1.5,
                    1.5,
                    1.5,
                    1.5,
                    1.5,
                    1.5
                  ]
                },
                {
                  "marker": {
                    "color": "red",
                    "size": 2
                  },
                  "mode": "markers",
                  "showlegend": false,
                  "type": "scatter3d",
                  "x": [],
                  "y": [],
                  "z": []
                }
              ],
              "layout": {
                "height": 500,
                "margin": {
                  "b": 10,
                  "l": 10,
                  "pad": 4,
                  "r": 10,
                  "t": 10
                },
                "paper_bgcolor": "black",
                "scene": {
                  "aspectmode": "cube",
                  "camera": {
                    "center": {
                      "x": 0,
                      "y": 0,
                      "z": -0.4892757530713046
                    },
                    "eye": {
                      "x": -0.7142857142857143,
                      "y": -1.4285714285714286,
                      "z": 0.2142857142857143
                    }
                  },
                  "xaxis": {
                    "backgroundcolor": "black",
                    "nticks": 10,
                    "range": [
                      195.0553491861042,
                      241.6786695296638
                    ]
                  },
                  "yaxis": {
                    "backgroundcolor": "black",
                    "nticks": 10,
                    "range": [
                      198.37767965644036,
                      245.00099999999998
                    ]
                  },
                  "zaxis": {
                    "backgroundcolor": "black",
                    "nticks": 10,
                    "range": [
                      0,
                      46.623320343559634
                    ]
                  }
                },
                "template": {
                  "data": {
                    "bar": [
                      {
                        "error_x": {
                          "color": "#f2f5fa"
                        },
                        "error_y": {
                          "color": "#f2f5fa"
                        },
                        "marker": {
                          "line": {
                            "color": "rgb(17,17,17)",
                            "width": 0.5
                          },
                          "pattern": {
                            "fillmode": "overlay",
                            "size": 10,
                            "solidity": 0.2
                          }
                        },
                        "type": "bar"
                      }
                    ],
                    "barpolar": [
                      {
                        "marker": {
                          "line": {
                            "color": "rgb(17,17,17)",
                            "width": 0.5
                          },
                          "pattern": {
                            "fillmode": "overlay",
                            "size": 10,
                            "solidity": 0.2
                          }
                        },
                        "type": "barpolar"
                      }
                    ],
                    "carpet": [
                      {
                        "aaxis": {
                          "endlinecolor": "#A2B1C6",
                          "gridcolor": "#506784",
                          "linecolor": "#506784",
                          "minorgridcolor": "#506784",
                          "startlinecolor": "#A2B1C6"
                        },
                        "baxis": {
                          "endlinecolor": "#A2B1C6",
                          "gridcolor": "#506784",
                          "linecolor": "#506784",
                          "minorgridcolor": "#506784",
                          "startlinecolor": "#A2B1C6"
                        },
                        "type": "carpet"
                      }
                    ],
                    "choropleth": [
                      {
                        "colorbar": {
                          "outlinewidth": 0,
                          "ticks": ""
                        },
                        "type": "choropleth"
                      }
                    ],
                    "contour": [
                      {
                        "colorbar": {
                          "outlinewidth": 0,
                          "ticks": ""
                        },
                        "colorscale": [
                          [
                            0,
                            "#0d0887"
                          ],
                          [
                            0.1111111111111111,
                            "#46039f"
                          ],
                          [
                            0.2222222222222222,
                            "#7201a8"
                          ],
                          [
                            0.3333333333333333,
                            "#9c179e"
                          ],
                          [
                            0.4444444444444444,
                            "#bd3786"
                          ],
                          [
                            0.5555555555555556,
                            "#d8576b"
                          ],
                          [
                            0.6666666666666666,
                            "#ed7953"
                          ],
                          [
                            0.7777777777777778,
                            "#fb9f3a"
                          ],
                          [
                            0.8888888888888888,
                            "#fdca26"
                          ],
                          [
                            1,
                            "#f0f921"
                          ]
                        ],
                        "type": "contour"
                      }
                    ],
                    "contourcarpet": [
                      {
                        "colorbar": {
                          "outlinewidth": 0,
                          "ticks": ""
                        },
                        "type": "contourcarpet"
                      }
                    ],
                    "heatmap": [
                      {
                        "colorbar": {
                          "outlinewidth": 0,
                          "ticks": ""
                        },
                        "colorscale": [
                          [
                            0,
                            "#0d0887"
                          ],
                          [
                            0.1111111111111111,
                            "#46039f"
                          ],
                          [
                            0.2222222222222222,
                            "#7201a8"
                          ],
                          [
                            0.3333333333333333,
                            "#9c179e"
                          ],
                          [
                            0.4444444444444444,
                            "#bd3786"
                          ],
                          [
                            0.5555555555555556,
                            "#d8576b"
                          ],
                          [
                            0.6666666666666666,
                            "#ed7953"
                          ],
                          [
                            0.7777777777777778,
                            "#fb9f3a"
                          ],
                          [
                            0.8888888888888888,
                            "#fdca26"
                          ],
                          [
                            1,
                            "#f0f921"
                          ]
                        ],
                        "type": "heatmap"
                      }
                    ],
                    "histogram": [
                      {
                        "marker": {
                          "pattern": {
                            "fillmode": "overlay",
                            "size": 10,
                            "solidity": 0.2
                          }
                        },
                        "type": "histogram"
                      }
                    ],
                    "histogram2d": [
                      {
                        "colorbar": {
                          "outlinewidth": 0,
                          "ticks": ""
                        },
                        "colorscale": [
                          [
                            0,
                            "#0d0887"
                          ],
                          [
                            0.1111111111111111,
                            "#46039f"
                          ],
                          [
                            0.2222222222222222,
                            "#7201a8"
                          ],
                          [
                            0.3333333333333333,
                            "#9c179e"
                          ],
                          [
                            0.4444444444444444,
                            "#bd3786"
                          ],
                          [
                            0.5555555555555556,
                            "#d8576b"
                          ],
                          [
                            0.6666666666666666,
                            "#ed7953"
                          ],
                          [
                            0.7777777777777778,
                            "#fb9f3a"
                          ],
                          [
                            0.8888888888888888,
                            "#fdca26"
                          ],
                          [
                            1,
                            "#f0f921"
                          ]
                        ],
                        "type": "histogram2d"
                      }
                    ],
                    "histogram2dcontour": [
                      {
                        "colorbar": {
                          "outlinewidth": 0,
                          "ticks": ""
                        },
                        "colorscale": [
                          [
                            0,
                            "#0d0887"
                          ],
                          [
                            0.1111111111111111,
                            "#46039f"
                          ],
                          [
                            0.2222222222222222,
                            "#7201a8"
                          ],
                          [
                            0.3333333333333333,
                            "#9c179e"
                          ],
                          [
                            0.4444444444444444,
                            "#bd3786"
                          ],
                          [
                            0.5555555555555556,
                            "#d8576b"
                          ],
                          [
                            0.6666666666666666,
                            "#ed7953"
                          ],
                          [
                            0.7777777777777778,
                            "#fb9f3a"
                          ],
                          [
                            0.8888888888888888,
                            "#fdca26"
                          ],
                          [
                            1,
                            "#f0f921"
                          ]
                        ],
                        "type": "histogram2dcontour"
                      }
                    ],
                    "mesh3d": [
                      {
                        "colorbar": {
                          "outlinewidth": 0,
                          "ticks": ""
                        },
                        "type": "mesh3d"
                      }
                    ],
                    "parcoords": [
                      {
                        "line": {
                          "colorbar": {
                            "outlinewidth": 0,
                            "ticks": ""
                          }
                        },
                        "type": "parcoords"
                      }
                    ],
                    "pie": [
                      {
                        "automargin": true,
                        "type": "pie"
                      }
                    ],
                    "scatter": [
                      {
                        "marker": {
                          "line": {
                            "color": "#283442"
                          }
                        },
                        "type": "scatter"
                      }
                    ],
                    "scatter3d": [
                      {
                        "line": {
                          "colorbar": {
                            "outlinewidth": 0,
                            "ticks": ""
                          }
                        },
                        "marker": {
                          "colorbar": {
                            "outlinewidth": 0,
                            "ticks": ""
                          }
                        },
                        "type": "scatter3d"
                      }
                    ],
                    "scattercarpet": [
                      {
                        "marker": {
                          "colorbar": {
                            "outlinewidth": 0,
                            "ticks": ""
                          }
                        },
                        "type": "scattercarpet"
                      }
                    ],
                    "scattergeo": [
                      {
                        "marker": {
                          "colorbar": {
                            "outlinewidth": 0,
                            "ticks": ""
                          }
                        },
                        "type": "scattergeo"
                      }
                    ],
                    "scattergl": [
                      {
                        "marker": {
                          "line": {
                            "color": "#283442"
                          }
                        },
                        "type": "scattergl"
                      }
                    ],
                    "scattermap": [
                      {
                        "marker": {
                          "colorbar": {
                            "outlinewidth": 0,
                            "ticks": ""
                          }
                        },
                        "type": "scattermap"
                      }
                    ],
                    "scattermapbox": [
                      {
                        "marker": {
                          "colorbar": {
                            "outlinewidth": 0,
                            "ticks": ""
                          }
                        },
                        "type": "scattermapbox"
                      }
                    ],
                    "scatterpolar": [
                      {
                        "marker": {
                          "colorbar": {
                            "outlinewidth": 0,
                            "ticks": ""
                          }
                        },
                        "type": "scatterpolar"
                      }
                    ],
                    "scatterpolargl": [
                      {
                        "marker": {
                          "colorbar": {
                            "outlinewidth": 0,
                            "ticks": ""
                          }
                        },
                        "type": "scatterpolargl"
                      }
                    ],
                    "scatterternary": [
                      {
                        "marker": {
                          "colorbar": {
                            "outlinewidth": 0,
                            "ticks": ""
                          }
                        },
                        "type": "scatterternary"
                      }
                    ],
                    "surface": [
                      {
                        "colorbar": {
                          "outlinewidth": 0,
                          "ticks": ""
                        },
                        "colorscale": [
                          [
                            0,
                            "#0d0887"
                          ],
                          [
                            0.1111111111111111,
                            "#46039f"
                          ],
                          [
                            0.2222222222222222,
                            "#7201a8"
                          ],
                          [
                            0.3333333333333333,
                            "#9c179e"
                          ],
                          [
                            0.4444444444444444,
                            "#bd3786"
                          ],
                          [
                            0.5555555555555556,
                            "#d8576b"
                          ],
                          [
                            0.6666666666666666,
                            "#ed7953"
                          ],
                          [
                            0.7777777777777778,
                            "#fb9f3a"
                          ],
                          [
                            0.8888888888888888,
                            "#fdca26"
                          ],
                          [
                            1,
                            "#f0f921"
                          ]
                        ],
                        "type": "surface"
                      }
                    ],
                    "table": [
                      {
                        "cells": {
                          "fill": {
                            "color": "#506784"
                          },
                          "line": {
                            "color": "rgb(17,17,17)"
                          }
                        },
                        "header": {
                          "fill": {
                            "color": "#2a3f5f"
                          },
                          "line": {
                            "color": "rgb(17,17,17)"
                          }
                        },
                        "type": "table"
                      }
                    ]
                  },
                  "layout": {
                    "annotationdefaults": {
                      "arrowcolor": "#f2f5fa",
                      "arrowhead": 0,
                      "arrowwidth": 1
                    },
                    "autotypenumbers": "strict",
                    "coloraxis": {
                      "colorbar": {
                        "outlinewidth": 0,
                        "ticks": ""
                      }
                    },
                    "colorscale": {
                      "diverging": [
                        [
                          0,
                          "#8e0152"
                        ],
                        [
                          0.1,
                          "#c51b7d"
                        ],
                        [
                          0.2,
                          "#de77ae"
                        ],
                        [
                          0.3,
                          "#f1b6da"
                        ],
                        [
                          0.4,
                          "#fde0ef"
                        ],
                        [
                          0.5,
                          "#f7f7f7"
                        ],
                        [
                          0.6,
                          "#e6f5d0"
                        ],
                        [
                          0.7,
                          "#b8e186"
                        ],
                        [
                          0.8,
                          "#7fbc41"
                        ],
                        [
                          0.9,
                          "#4d9221"
                        ],
                        [
                          1,
                          "#276419"
                        ]
                      ],
                      "sequential": [
                        [
                          0,
                          "#0d0887"
                        ],
                        [
                          0.1111111111111111,
                          "#46039f"
                        ],
                        [
                          0.2222222222222222,
                          "#7201a8"
                        ],
                        [
                          0.3333333333333333,
                          "#9c179e"
                        ],
                        [
                          0.4444444444444444,
                          "#bd3786"
                        ],
                        [
                          0.5555555555555556,
                          "#d8576b"
                        ],
                        [
                          0.6666666666666666,
                          "#ed7953"
                        ],
                        [
                          0.7777777777777778,
                          "#fb9f3a"
                        ],
                        [
                          0.8888888888888888,
                          "#fdca26"
                        ],
                        [
                          1,
                          "#f0f921"
                        ]
                      ],
                      "sequentialminus": [
                        [
                          0,
                          "#0d0887"
                        ],
                        [
                          0.1111111111111111,
                          "#46039f"
                        ],
                        [
                          0.2222222222222222,
                          "#7201a8"
                        ],
                        [
                          0.3333333333333333,
                          "#9c179e"
                        ],
                        [
                          0.4444444444444444,
                          "#bd3786"
                        ],
                        [
                          0.5555555555555556,
                          "#d8576b"
                        ],
                        [
                          0.6666666666666666,
                          "#ed7953"
                        ],
                        [
                          0.7777777777777778,
                          "#fb9f3a"
                        ],
                        [
                          0.8888888888888888,
                          "#fdca26"
                        ],
                        [
                          1,
                          "#f0f921"
                        ]
                      ]
                    },
                    "colorway": [
                      "#636efa",
                      "#EF553B",
                      "#00cc96",
                      "#ab63fa",
                      "#FFA15A",
                      "#19d3f3",
                      "#FF6692",
                      "#B6E880",
                      "#FF97FF",
                      "#FECB52"
                    ],
                    "font": {
                      "color": "#f2f5fa"
                    },
                    "geo": {
                      "bgcolor": "rgb(17,17,17)",
                      "lakecolor": "rgb(17,17,17)",
                      "landcolor": "rgb(17,17,17)",
                      "showlakes": true,
                      "showland": true,
                      "subunitcolor": "#506784"
                    },
                    "hoverlabel": {
                      "align": "left"
                    },
                    "hovermode": "closest",
                    "mapbox": {
                      "style": "dark"
                    },
                    "paper_bgcolor": "rgb(17,17,17)",
                    "plot_bgcolor": "rgb(17,17,17)",
                    "polar": {
                      "angularaxis": {
                        "gridcolor": "#506784",
                        "linecolor": "#506784",
                        "ticks": ""
                      },
                      "bgcolor": "rgb(17,17,17)",
                      "radialaxis": {
                        "gridcolor": "#506784",
                        "linecolor": "#506784",
                        "ticks": ""
                      }
                    },
                    "scene": {
                      "xaxis": {
                        "backgroundcolor": "rgb(17,17,17)",
                        "gridcolor": "#506784",
                        "gridwidth": 2,
                        "linecolor": "#506784",
                        "showbackground": true,
                        "ticks": "",
                        "zerolinecolor": "#C8D4E3"
                      },
                      "yaxis": {
                        "backgroundcolor": "rgb(17,17,17)",
                        "gridcolor": "#506784",
                        "gridwidth": 2,
                        "linecolor": "#506784",
                        "showbackground": true,
                        "ticks": "",
                        "zerolinecolor": "#C8D4E3"
                      },
                      "zaxis": {
                        "backgroundcolor": "rgb(17,17,17)",
                        "gridcolor": "#506784",
                        "gridwidth": 2,
                        "linecolor": "#506784",
                        "showbackground": true,
                        "ticks": "",
                        "zerolinecolor": "#C8D4E3"
                      }
                    },
                    "shapedefaults": {
                      "line": {
                        "color": "#f2f5fa"
                      }
                    },
                    "sliderdefaults": {
                      "bgcolor": "#C8D4E3",
                      "bordercolor": "rgb(17,17,17)",
                      "borderwidth": 1,
                      "tickwidth": 0
                    },
                    "ternary": {
                      "aaxis": {
                        "gridcolor": "#506784",
                        "linecolor": "#506784",
                        "ticks": ""
                      },
                      "baxis": {
                        "gridcolor": "#506784",
                        "linecolor": "#506784",
                        "ticks": ""
                      },
                      "bgcolor": "rgb(17,17,17)",
                      "caxis": {
                        "gridcolor": "#506784",
                        "linecolor": "#506784",
                        "ticks": ""
                      }
                    },
                    "title": {
                      "x": 0.05
                    },
                    "updatemenudefaults": {
                      "bgcolor": "#506784",
                      "borderwidth": 0
                    },
                    "xaxis": {
                      "automargin": true,
                      "gridcolor": "#283442",
                      "linecolor": "#506784",
                      "ticks": "",
                      "title": {
                        "standoff": 15
                      },
                      "zerolinecolor": "#283442",
                      "zerolinewidth": 2
                    },
                    "yaxis": {
                      "automargin": true,
                      "gridcolor": "#283442",
                      "linecolor": "#506784",
                      "ticks": "",
                      "title": {
                        "standoff": 15
                      },
                      "zerolinecolor": "#283442",
                      "zerolinewidth": 2
                    }
                  }
                },
                "width": 800
              }
            }
          },
          "metadata": {},
          "output_type": "display_data"
        },
        {
          "name": "stdout",
          "output_type": "stream",
          "text": [
            "warning - the list of steps should be a 1D list of fullcontrol class instances, it currently includes a 'list'\n",
            "   - fc.flatten() is being used to convert the design to a 1D list\n"
          ]
        },
        {
          "data": {
            "application/vnd.plotly.v1+json": {
              "config": {
                "plotlyServerURL": "https://plot.ly"
              },
              "data": [
                {
                  "i": {
                    "bdata": "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",
                    "dtype": "i2"
                  },
                  "j": {
                    "bdata": "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",
                    "dtype": "i2"
                  },
                  "k": {
                    "bdata": "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",
                    "dtype": "i2"
                  },
                  "type": "mesh3d",
                  "vertexcolor": [
                    "rgb(0.00, 0.00, 255.00)",
                    "rgb(0.00, 0.00, 255.00)",
                    "rgb(0.00, 0.00, 255.00)",
                    "rgb(0.00, 0.00, 255.00)",
                    "rgb(0.00, 0.00, 255.00)",
                    "rgb(0.00, 0.00, 255.00)",
                    "rgb(0.00, 0.00, 255.00)",
                    "rgb(0.00, 0.00, 255.00)",
                    "rgb(0.00, 0.00, 255.00)",
                    "rgb(0.00, 0.00, 255.00)",
                    "rgb(0.00, 0.00, 255.00)",
                    "rgb(0.00, 0.00, 255.00)",
                    "rgb(0.00, 0.00, 255.00)",
                    "rgb(0.00, 0.00, 255.00)",
                    "rgb(0.00, 0.00, 255.00)",
                    "rgb(0.00, 0.00, 255.00)",
                    "rgb(0.00, 0.00, 255.00)",
                    "rgb(0.00, 0.00, 255.00)",
                    "rgb(0.00, 0.00, 255.00)",
                    "rgb(0.00, 0.00, 255.00)",
                    "rgb(0.00, 0.00, 255.00)",
                    "rgb(0.00, 0.00, 255.00)",
                    "rgb(0.00, 0.00, 255.00)",
                    "rgb(0.00, 0.00, 255.00)",
                    "rgb(0.00, 0.00, 255.00)",
                    "rgb(0.00, 0.00, 255.00)",
                    "rgb(0.00, 0.00, 255.00)",
                    "rgb(0.00, 0.00, 255.00)",
                    "rgb(0.00, 0.00, 255.00)",
                    "rgb(0.00, 0.00, 255.00)",
                    "rgb(0.00, 0.00, 255.00)",
                    "rgb(0.00, 0.00, 255.00)",
                    "rgb(0.00, 0.00, 255.00)",
                    "rgb(0.00, 0.00, 255.00)",
                    "rgb(0.00, 0.00, 255.00)",
                    "rgb(0.00, 0.00, 255.00)",
                    "rgb(0.00, 0.00, 255.00)",
                    "rgb(0.00, 0.00, 255.00)",
                    "rgb(0.00, 0.00, 255.00)",
                    "rgb(0.00, 0.00, 255.00)",
                    "rgb(0.00, 0.00, 255.00)",
                    "rgb(0.00, 0.00, 255.00)",
                    "rgb(0.00, 0.00, 255.00)",
                    "rgb(0.00, 0.00, 255.00)",
                    "rgb(0.00, 0.00, 255.00)",
                    "rgb(0.00, 0.00, 255.00)",
                    "rgb(0.00, 0.00, 255.00)",
                    "rgb(0.00, 0.00, 255.00)",
                    "rgb(0.00, 0.00, 255.00)",
                    "rgb(0.00, 0.00, 255.00)",
                    "rgb(0.00, 0.00, 255.00)",
                    "rgb(0.00, 0.00, 255.00)",
                    "rgb(0.00, 0.00, 255.00)",
                    "rgb(0.00, 0.00, 255.00)",
                    "rgb(0.00, 0.00, 255.00)",
                    "rgb(0.00, 0.00, 255.00)",
                    "rgb(0.00, 0.00, 255.00)",
                    "rgb(0.00, 0.00, 255.00)",
                    "rgb(0.00, 0.00, 255.00)",
                    "rgb(0.00, 0.00, 255.00)",
                    "rgb(0.00, 0.00, 255.00)",
                    "rgb(0.00, 0.00, 255.00)",
                    "rgb(0.00, 0.00, 255.00)",
                    "rgb(0.00, 0.00, 255.00)",
                    "rgb(0.00, 0.00, 255.00)",
                    "rgb(0.00, 0.00, 255.00)",
                    "rgb(0.00, 0.00, 255.00)",
                    "rgb(0.00, 0.00, 255.00)",
                    "rgb(0.00, 0.00, 255.00)",
                    "rgb(0.00, 0.00, 255.00)",
                    "rgb(0.00, 0.00, 255.00)",
                    "rgb(0.00, 0.00, 255.00)",
                    "rgb(0.00, 0.00, 255.00)",
                    "rgb(0.00, 0.00, 255.00)",
                    "rgb(0.00, 0.00, 255.00)",
                    "rgb(0.00, 0.00, 255.00)",
                    "rgb(0.00, 0.00, 255.00)",
                    "rgb(0.00, 0.00, 255.00)",
                    "rgb(0.00, 0.00, 255.00)",
                    "rgb(0.00, 0.00, 255.00)",
                    "rgb(0.00, 0.00, 255.00)",
                    "rgb(0.00, 0.00, 255.00)",
                    "rgb(0.00, 0.00, 255.00)",
                    "rgb(0.00, 0.00, 255.00)",
                    "rgb(0.00, 0.00, 255.00)",
                    "rgb(0.00, 0.00, 255.00)",
                    "rgb(0.00, 0.00, 255.00)",
                    "rgb(0.00, 0.00, 255.00)",
                    "rgb(0.00, 0.00, 255.00)",
                    "rgb(0.00, 0.00, 255.00)",
                    "rgb(0.00, 0.00, 255.00)",
                    "rgb(0.00, 0.00, 255.00)",
                    "rgb(0.00, 0.00, 255.00)",
                    "rgb(0.00, 0.00, 255.00)",
                    "rgb(0.00, 0.00, 255.00)",
                    "rgb(0.00, 0.00, 255.00)",
                    "rgb(0.00, 0.00, 255.00)",
                    "rgb(0.00, 0.00, 255.00)",
                    "rgb(0.00, 0.00, 255.00)",
                    "rgb(0.00, 0.00, 255.00)",
                    "rgb(0.00, 0.00, 255.00)",
                    "rgb(0.00, 0.00, 255.00)",
                    "rgb(0.00, 0.00, 255.00)",
                    "rgb(0.00, 0.00, 255.00)",
                    "rgb(0.00, 0.00, 255.00)",
                    "rgb(0.00, 0.00, 255.00)",
                    "rgb(0.00, 0.00, 255.00)",
                    "rgb(0.00, 0.00, 255.00)",
                    "rgb(0.00, 0.00, 255.00)",
                    "rgb(0.00, 0.00, 255.00)",
                    "rgb(0.00, 0.00, 255.00)",
                    "rgb(0.00, 0.00, 255.00)",
                    "rgb(0.00, 0.00, 255.00)",
                    "rgb(0.00, 0.00, 255.00)",
                    "rgb(0.00, 0.00, 255.00)",
                    "rgb(0.00, 0.00, 255.00)",
                    "rgb(0.00, 0.00, 255.00)",
                    "rgb(0.00, 0.00, 255.00)",
                    "rgb(0.00, 0.00, 255.00)",
                    "rgb(0.00, 0.00, 255.00)",
                    "rgb(0.00, 0.00, 255.00)",
                    "rgb(0.00, 0.00, 255.00)",
                    "rgb(0.00, 0.00, 255.00)",
                    "rgb(0.00, 0.00, 255.00)",
                    "rgb(0.00, 0.00, 255.00)",
                    "rgb(0.00, 0.00, 255.00)",
                    "rgb(0.00, 0.00, 255.00)",
                    "rgb(0.00, 0.00, 255.00)",
                    "rgb(0.00, 0.00, 255.00)",
                    "rgb(0.00, 0.00, 255.00)",
                    "rgb(0.00, 0.00, 255.00)",
                    "rgb(0.00, 0.00, 255.00)",
                    "rgb(0.00, 0.00, 255.00)",
                    "rgb(0.00, 0.00, 255.00)",
                    "rgb(0.00, 0.00, 255.00)",
                    "rgb(0.00, 0.00, 255.00)",
                    "rgb(0.00, 0.00, 255.00)",
                    "rgb(0.00, 0.00, 255.00)",
                    "rgb(0.00, 0.00, 255.00)",
                    "rgb(0.00, 0.00, 255.00)",
                    "rgb(0.00, 0.00, 255.00)",
                    "rgb(0.00, 0.00, 255.00)",
                    "rgb(0.00, 0.00, 255.00)",
                    "rgb(0.00, 0.00, 255.00)",
                    "rgb(0.00, 0.00, 255.00)",
                    "rgb(0.00, 0.00, 255.00)",
                    "rgb(0.00, 0.00, 255.00)",
                    "rgb(0.00, 0.00, 255.00)",
                    "rgb(0.00, 0.00, 255.00)",
                    "rgb(0.00, 0.00, 255.00)",
                    "rgb(0.00, 0.00, 255.00)",
                    "rgb(0.00, 0.00, 255.00)",
                    "rgb(0.00, 0.00, 255.00)",
                    "rgb(0.00, 0.00, 255.00)",
                    "rgb(0.00, 0.00, 255.00)",
                    "rgb(0.00, 0.00, 255.00)",
                    "rgb(0.00, 0.00, 255.00)",
                    "rgb(0.00, 0.00, 255.00)",
                    "rgb(0.00, 0.00, 255.00)",
                    "rgb(0.00, 0.00, 255.00)",
                    "rgb(0.00, 0.00, 255.00)",
                    "rgb(0.00, 0.00, 255.00)",
                    "rgb(0.00, 0.00, 255.00)",
                    "rgb(0.00, 0.00, 255.00)",
                    "rgb(0.00, 0.00, 255.00)",
                    "rgb(0.00, 0.00, 255.00)",
                    "rgb(0.00, 0.00, 255.00)",
                    "rgb(0.00, 0.00, 255.00)",
                    "rgb(0.00, 0.00, 255.00)",
                    "rgb(0.00, 0.00, 255.00)",
                    "rgb(0.00, 0.00, 255.00)",
                    "rgb(0.00, 0.00, 255.00)",
                    "rgb(0.00, 0.00, 255.00)",
                    "rgb(0.00, 0.00, 255.00)",
                    "rgb(0.00, 0.00, 255.00)",
                    "rgb(0.00, 0.00, 255.00)",
                    "rgb(0.00, 0.00, 255.00)",
                    "rgb(0.00, 0.00, 255.00)",
                    "rgb(0.00, 0.00, 255.00)",
                    "rgb(0.00, 0.00, 255.00)",
                    "rgb(0.00, 0.00, 255.00)",
                    "rgb(0.00, 0.00, 255.00)",
                    "rgb(0.00, 0.00, 255.00)",
                    "rgb(0.00, 0.00, 255.00)",
                    "rgb(0.00, 0.00, 255.00)",
                    "rgb(0.00, 0.00, 255.00)",
                    "rgb(0.00, 0.00, 255.00)",
                    "rgb(0.00, 0.00, 255.00)",
                    "rgb(0.00, 0.00, 255.00)",
                    "rgb(0.00, 0.00, 255.00)",
                    "rgb(0.00, 0.00, 255.00)",
                    "rgb(0.00, 0.00, 255.00)",
                    "rgb(0.00, 0.00, 255.00)",
                    "rgb(0.00, 0.00, 255.00)",
                    "rgb(0.00, 0.00, 255.00)",
                    "rgb(0.00, 0.00, 255.00)",
                    "rgb(0.00, 0.00, 255.00)",
                    "rgb(0.00, 0.00, 255.00)",
                    "rgb(0.00, 0.00, 255.00)",
                    "rgb(0.00, 0.00, 255.00)",
                    "rgb(0.00, 0.00, 255.00)",
                    "rgb(0.00, 0.00, 255.00)",
                    "rgb(0.00, 0.00, 255.00)",
                    "rgb(0.00, 0.00, 255.00)",
                    "rgb(0.00, 0.00, 255.00)",
                    "rgb(0.00, 0.00, 255.00)",
                    "rgb(0.00, 0.00, 255.00)",
                    "rgb(0.00, 0.00, 255.00)",
                    "rgb(0.00, 0.00, 255.00)",
                    "rgb(0.00, 0.00, 255.00)",
                    "rgb(0.00, 0.00, 255.00)",
                    "rgb(0.00, 0.00, 255.00)",
                    "rgb(0.00, 0.00, 255.00)",
                    "rgb(0.00, 0.00, 255.00)",
                    "rgb(0.00, 0.00, 255.00)",
                    "rgb(0.00, 0.00, 255.00)",
                    "rgb(0.00, 0.00, 255.00)",
                    "rgb(0.00, 0.00, 255.00)",
                    "rgb(0.00, 0.00, 255.00)",
                    "rgb(0.00, 0.00, 255.00)",
                    "rgb(0.00, 0.00, 255.00)",
                    "rgb(0.00, 0.00, 255.00)",
                    "rgb(0.00, 0.00, 255.00)",
                    "rgb(0.00, 0.00, 255.00)",
                    "rgb(0.00, 0.00, 255.00)",
                    "rgb(0.00, 0.00, 255.00)",
                    "rgb(0.00, 0.00, 255.00)",
                    "rgb(0.00, 0.00, 255.00)",
                    "rgb(0.00, 0.00, 255.00)",
                    "rgb(0.00, 0.00, 255.00)",
                    "rgb(0.00, 0.00, 255.00)",
                    "rgb(0.00, 0.00, 255.00)",
                    "rgb(0.00, 0.00, 255.00)",
                    "rgb(0.00, 0.00, 255.00)",
                    "rgb(0.00, 0.00, 255.00)",
                    "rgb(0.00, 0.00, 255.00)",
                    "rgb(0.00, 0.00, 255.00)",
                    "rgb(0.00, 0.00, 255.00)",
                    "rgb(0.00, 0.00, 255.00)",
                    "rgb(0.00, 0.00, 255.00)",
                    "rgb(0.00, 0.00, 255.00)",
                    "rgb(0.00, 0.00, 255.00)",
                    "rgb(0.00, 0.00, 255.00)",
                    "rgb(0.00, 0.00, 255.00)",
                    "rgb(0.00, 0.00, 255.00)",
                    "rgb(0.00, 0.00, 255.00)",
                    "rgb(0.00, 0.00, 255.00)",
                    "rgb(0.00, 0.00, 255.00)",
                    "rgb(0.00, 0.00, 255.00)",
                    "rgb(0.00, 0.00, 255.00)",
                    "rgb(0.00, 0.00, 255.00)",
                    "rgb(0.00, 0.00, 255.00)",
                    "rgb(0.00, 0.00, 255.00)",
                    "rgb(0.00, 0.00, 255.00)",
                    "rgb(0.00, 0.00, 255.00)",
                    "rgb(0.00, 0.00, 255.00)",
                    "rgb(0.00, 0.00, 255.00)",
                    "rgb(0.00, 0.00, 255.00)",
                    "rgb(0.00, 0.00, 255.00)",
                    "rgb(0.00, 0.00, 255.00)",
                    "rgb(0.00, 0.00, 255.00)",
                    "rgb(0.00, 0.00, 255.00)",
                    "rgb(0.00, 0.00, 255.00)",
                    "rgb(0.00, 0.00, 255.00)",
                    "rgb(0.00, 0.00, 255.00)",
                    "rgb(0.00, 0.00, 255.00)",
                    "rgb(0.00, 0.00, 255.00)",
                    "rgb(0.00, 0.00, 255.00)",
                    "rgb(0.00, 0.00, 255.00)",
                    "rgb(0.00, 0.00, 255.00)",
                    "rgb(0.00, 0.00, 255.00)",
                    "rgb(0.00, 0.00, 255.00)",
                    "rgb(0.00, 0.00, 255.00)",
                    "rgb(0.00, 0.00, 255.00)",
                    "rgb(0.00, 0.00, 255.00)",
                    "rgb(0.00, 0.00, 255.00)",
                    "rgb(0.00, 0.00, 255.00)",
                    "rgb(0.00, 0.00, 255.00)",
                    "rgb(0.00, 0.00, 255.00)",
                    "rgb(0.00, 0.00, 255.00)",
                    "rgb(0.00, 0.00, 255.00)",
                    "rgb(0.00, 0.00, 255.00)",
                    "rgb(0.00, 0.00, 255.00)",
                    "rgb(0.00, 0.00, 255.00)",
                    "rgb(0.00, 0.00, 255.00)",
                    "rgb(0.00, 0.00, 255.00)",
                    "rgb(0.00, 0.00, 255.00)",
                    "rgb(0.00, 0.00, 255.00)",
                    "rgb(0.00, 0.00, 255.00)",
                    "rgb(0.00, 0.00, 255.00)",
                    "rgb(0.00, 0.00, 255.00)",
                    "rgb(0.00, 0.00, 255.00)",
                    "rgb(0.00, 0.00, 255.00)",
                    "rgb(0.00, 0.00, 255.00)",
                    "rgb(0.00, 0.00, 255.00)",
                    "rgb(0.00, 0.00, 255.00)",
                    "rgb(0.00, 0.00, 255.00)",
                    "rgb(0.00, 0.00, 255.00)",
                    "rgb(0.00, 0.00, 255.00)",
                    "rgb(0.00, 0.00, 255.00)",
                    "rgb(0.00, 0.00, 255.00)",
                    "rgb(0.00, 0.00, 255.00)",
                    "rgb(0.00, 0.00, 255.00)",
                    "rgb(0.00, 0.00, 255.00)",
                    "rgb(0.00, 0.00, 255.00)",
                    "rgb(0.00, 0.00, 255.00)",
                    "rgb(0.00, 0.00, 255.00)",
                    "rgb(0.00, 0.00, 255.00)",
                    "rgb(0.00, 0.00, 255.00)",
                    "rgb(0.00, 0.00, 255.00)",
                    "rgb(0.00, 0.00, 255.00)",
                    "rgb(0.00, 0.00, 255.00)",
                    "rgb(0.00, 0.00, 255.00)",
                    "rgb(0.00, 0.00, 255.00)",
                    "rgb(0.00, 0.00, 255.00)",
                    "rgb(0.00, 0.00, 255.00)",
                    "rgb(0.00, 0.00, 255.00)",
                    "rgb(0.00, 0.00, 255.00)",
                    "rgb(0.00, 0.00, 255.00)",
                    "rgb(0.00, 0.00, 255.00)",
                    "rgb(0.00, 0.00, 255.00)",
                    "rgb(0.00, 0.00, 255.00)",
                    "rgb(0.00, 0.00, 255.00)",
                    "rgb(0.00, 0.00, 255.00)",
                    "rgb(0.00, 0.00, 255.00)",
                    "rgb(0.00, 0.00, 255.00)",
                    "rgb(0.00, 0.00, 255.00)",
                    "rgb(0.00, 0.00, 255.00)",
                    "rgb(0.00, 0.00, 255.00)",
                    "rgb(0.00, 0.00, 255.00)",
                    "rgb(0.00, 0.00, 255.00)",
                    "rgb(0.00, 0.00, 255.00)",
                    "rgb(0.00, 0.00, 255.00)",
                    "rgb(0.00, 0.00, 255.00)",
                    "rgb(0.00, 0.00, 255.00)",
                    "rgb(0.00, 0.00, 255.00)",
                    "rgb(0.00, 0.00, 255.00)",
                    "rgb(0.00, 0.00, 255.00)",
                    "rgb(0.00, 0.00, 255.00)",
                    "rgb(0.00, 0.00, 255.00)",
                    "rgb(0.00, 0.00, 255.00)",
                    "rgb(0.00, 0.00, 255.00)",
                    "rgb(0.00, 0.00, 255.00)",
                    "rgb(0.00, 0.00, 255.00)",
                    "rgb(0.00, 0.00, 255.00)",
                    "rgb(0.00, 0.00, 255.00)",
                    "rgb(0.00, 0.00, 255.00)",
                    "rgb(0.00, 0.00, 255.00)",
                    "rgb(0.00, 0.00, 255.00)",
                    "rgb(0.00, 0.00, 255.00)",
                    "rgb(0.00, 0.00, 255.00)",
                    "rgb(0.00, 0.00, 255.00)",
                    "rgb(0.00, 0.00, 255.00)",
                    "rgb(0.00, 0.00, 255.00)",
                    "rgb(0.00, 0.00, 255.00)",
                    "rgb(0.00, 0.00, 255.00)",
                    "rgb(0.00, 0.00, 255.00)",
                    "rgb(0.00, 0.00, 255.00)",
                    "rgb(0.00, 0.00, 255.00)",
                    "rgb(0.00, 0.00, 255.00)",
                    "rgb(0.00, 0.00, 255.00)",
                    "rgb(0.00, 0.00, 255.00)",
                    "rgb(0.00, 0.00, 255.00)",
                    "rgb(0.00, 0.00, 255.00)",
                    "rgb(0.00, 0.00, 255.00)",
                    "rgb(0.00, 0.00, 255.00)",
                    "rgb(0.00, 0.00, 255.00)",
                    "rgb(0.00, 0.00, 255.00)",
                    "rgb(0.00, 0.00, 255.00)",
                    "rgb(0.00, 0.00, 255.00)",
                    "rgb(0.00, 0.00, 255.00)",
                    "rgb(0.00, 0.00, 255.00)",
                    "rgb(0.00, 0.00, 255.00)",
                    "rgb(0.00, 0.00, 255.00)",
                    "rgb(0.00, 0.00, 255.00)",
                    "rgb(0.00, 0.00, 255.00)",
                    "rgb(0.00, 0.00, 255.00)",
                    "rgb(0.00, 0.00, 255.00)",
                    "rgb(0.00, 0.00, 255.00)",
                    "rgb(0.00, 0.00, 255.00)",
                    "rgb(0.00, 0.00, 255.00)",
                    "rgb(0.00, 0.00, 255.00)",
                    "rgb(0.00, 0.00, 255.00)",
                    "rgb(0.00, 0.00, 255.00)",
                    "rgb(0.00, 0.00, 255.00)",
                    "rgb(0.00, 0.00, 255.00)",
                    "rgb(0.00, 0.00, 255.00)",
                    "rgb(0.00, 0.00, 255.00)",
                    "rgb(0.00, 0.00, 255.00)",
                    "rgb(0.00, 0.00, 255.00)",
                    "rgb(0.00, 0.00, 255.00)",
                    "rgb(0.00, 0.00, 255.00)",
                    "rgb(0.00, 0.00, 255.00)",
                    "rgb(0.00, 0.00, 255.00)",
                    "rgb(0.00, 0.00, 255.00)",
                    "rgb(0.00, 0.00, 255.00)",
                    "rgb(0.00, 0.00, 255.00)",
                    "rgb(0.00, 0.00, 255.00)",
                    "rgb(0.00, 0.00, 255.00)",
                    "rgb(0.00, 0.00, 255.00)",
                    "rgb(0.00, 0.00, 255.00)",
                    "rgb(0.00, 0.00, 255.00)",
                    "rgb(0.00, 0.00, 255.00)",
                    "rgb(0.00, 0.00, 255.00)",
                    "rgb(0.00, 0.00, 255.00)",
                    "rgb(0.00, 0.00, 255.00)",
                    "rgb(0.00, 0.00, 255.00)",
                    "rgb(0.00, 0.00, 255.00)",
                    "rgb(0.00, 0.00, 255.00)",
                    "rgb(0.00, 0.00, 255.00)",
                    "rgb(0.00, 0.00, 255.00)",
                    "rgb(0.00, 0.00, 255.00)",
                    "rgb(0.00, 0.00, 255.00)",
                    "rgb(0.00, 0.00, 255.00)",
                    "rgb(0.00, 0.00, 255.00)",
                    "rgb(0.00, 0.00, 255.00)",
                    "rgb(0.00, 0.00, 255.00)",
                    "rgb(0.00, 0.00, 255.00)",
                    "rgb(0.00, 0.00, 255.00)",
                    "rgb(0.00, 0.00, 255.00)",
                    "rgb(0.00, 0.00, 255.00)",
                    "rgb(0.00, 0.00, 255.00)",
                    "rgb(0.00, 0.00, 255.00)",
                    "rgb(0.00, 0.00, 255.00)",
                    "rgb(0.00, 0.00, 255.00)",
                    "rgb(0.00, 0.00, 255.00)",
                    "rgb(0.00, 0.00, 255.00)",
                    "rgb(0.00, 0.00, 255.00)",
                    "rgb(0.00, 0.00, 255.00)",
                    "rgb(0.00, 0.00, 255.00)",
                    "rgb(0.00, 0.00, 255.00)",
                    "rgb(0.00, 0.00, 255.00)",
                    "rgb(0.00, 0.00, 255.00)",
                    "rgb(0.00, 0.00, 255.00)",
                    "rgb(0.00, 0.00, 255.00)",
                    "rgb(0.00, 0.00, 255.00)",
                    "rgb(0.00, 0.00, 255.00)",
                    "rgb(0.00, 0.00, 255.00)",
                    "rgb(0.00, 0.00, 255.00)",
                    "rgb(0.00, 0.00, 255.00)",
                    "rgb(0.00, 0.00, 255.00)",
                    "rgb(0.00, 0.00, 255.00)",
                    "rgb(0.00, 0.00, 255.00)",
                    "rgb(0.00, 0.00, 255.00)",
                    "rgb(0.00, 0.00, 255.00)",
                    "rgb(0.00, 0.00, 255.00)",
                    "rgb(0.00, 0.00, 255.00)",
                    "rgb(0.00, 0.00, 255.00)",
                    "rgb(0.00, 0.00, 255.00)",
                    "rgb(0.00, 0.00, 255.00)",
                    "rgb(0.00, 0.00, 255.00)",
                    "rgb(0.00, 0.00, 255.00)",
                    "rgb(0.00, 0.00, 255.00)",
                    "rgb(0.00, 0.00, 255.00)",
                    "rgb(0.00, 0.00, 255.00)",
                    "rgb(0.00, 0.00, 255.00)",
                    "rgb(0.00, 0.00, 255.00)",
                    "rgb(0.00, 0.00, 255.00)",
                    "rgb(0.00, 0.00, 255.00)",
                    "rgb(0.00, 0.00, 255.00)",
                    "rgb(0.00, 0.00, 255.00)",
                    "rgb(0.00, 0.00, 255.00)",
                    "rgb(0.00, 0.00, 255.00)",
                    "rgb(0.00, 0.00, 255.00)",
                    "rgb(0.00, 0.00, 255.00)",
                    "rgb(0.00, 0.00, 255.00)",
                    "rgb(0.00, 0.00, 255.00)",
                    "rgb(0.00, 0.00, 255.00)",
                    "rgb(0.00, 0.00, 255.00)",
                    "rgb(0.00, 0.00, 255.00)",
                    "rgb(0.00, 0.00, 255.00)",
                    "rgb(0.00, 0.00, 255.00)",
                    "rgb(0.00, 0.00, 255.00)",
                    "rgb(0.00, 0.00, 255.00)",
                    "rgb(0.00, 0.00, 255.00)",
                    "rgb(0.00, 0.00, 255.00)",
                    "rgb(0.00, 0.00, 255.00)",
                    "rgb(0.00, 0.00, 255.00)",
                    "rgb(0.00, 0.00, 255.00)",
                    "rgb(0.00, 0.00, 255.00)",
                    "rgb(0.00, 0.00, 255.00)",
                    "rgb(0.00, 0.00, 255.00)",
                    "rgb(0.00, 0.00, 255.00)",
                    "rgb(0.00, 0.00, 255.00)",
                    "rgb(0.00, 0.00, 255.00)",
                    "rgb(0.00, 0.00, 255.00)",
                    "rgb(0.00, 0.00, 255.00)",
                    "rgb(0.00, 0.00, 255.00)",
                    "rgb(0.00, 0.00, 255.00)",
                    "rgb(0.00, 0.00, 255.00)",
                    "rgb(0.00, 0.00, 255.00)",
                    "rgb(0.00, 0.00, 255.00)",
                    "rgb(0.00, 0.00, 255.00)",
                    "rgb(0.00, 0.00, 255.00)",
                    "rgb(0.00, 0.00, 255.00)",
                    "rgb(0.00, 0.00, 255.00)",
                    "rgb(0.00, 0.00, 255.00)",
                    "rgb(0.00, 0.00, 255.00)",
                    "rgb(0.00, 0.00, 255.00)",
                    "rgb(0.00, 0.00, 255.00)",
                    "rgb(0.00, 0.00, 255.00)",
                    "rgb(0.00, 0.00, 255.00)",
                    "rgb(0.00, 0.00, 255.00)",
                    "rgb(0.00, 0.00, 255.00)",
                    "rgb(0.00, 0.00, 255.00)",
                    "rgb(0.00, 0.00, 255.00)",
                    "rgb(0.00, 0.00, 255.00)",
                    "rgb(0.00, 0.00, 255.00)",
                    "rgb(0.00, 0.00, 255.00)",
                    "rgb(0.00, 0.00, 255.00)",
                    "rgb(0.00, 0.00, 255.00)",
                    "rgb(0.00, 0.00, 255.00)",
                    "rgb(0.00, 0.00, 255.00)",
                    "rgb(0.00, 0.00, 255.00)",
                    "rgb(0.00, 0.00, 255.00)",
                    "rgb(0.00, 0.00, 255.00)",
                    "rgb(0.00, 0.00, 255.00)",
                    "rgb(0.00, 0.00, 255.00)",
                    "rgb(0.00, 0.00, 255.00)",
                    "rgb(0.00, 0.00, 255.00)",
                    "rgb(0.00, 0.00, 255.00)",
                    "rgb(0.00, 0.00, 255.00)",
                    "rgb(0.00, 0.00, 255.00)",
                    "rgb(0.00, 0.00, 255.00)",
                    "rgb(0.00, 0.00, 255.00)",
                    "rgb(0.00, 0.00, 255.00)",
                    "rgb(0.00, 0.00, 255.00)",
                    "rgb(0.00, 0.00, 255.00)",
                    "rgb(0.00, 0.00, 255.00)",
                    "rgb(0.00, 0.00, 255.00)",
                    "rgb(0.00, 0.00, 255.00)",
                    "rgb(0.00, 0.00, 255.00)",
                    "rgb(0.00, 0.00, 255.00)",
                    "rgb(0.00, 0.00, 255.00)",
                    "rgb(0.00, 0.00, 255.00)",
                    "rgb(0.00, 0.00, 255.00)",
                    "rgb(0.00, 0.00, 255.00)",
                    "rgb(0.00, 0.00, 255.00)",
                    "rgb(0.00, 0.00, 255.00)",
                    "rgb(0.00, 0.00, 255.00)",
                    "rgb(0.00, 0.00, 255.00)",
                    "rgb(0.00, 0.00, 255.00)",
                    "rgb(0.00, 0.00, 255.00)",
                    "rgb(0.00, 0.00, 255.00)",
                    "rgb(0.00, 0.00, 255.00)",
                    "rgb(0.00, 0.00, 255.00)",
                    "rgb(0.00, 0.00, 255.00)",
                    "rgb(0.00, 0.00, 255.00)",
                    "rgb(0.00, 0.00, 255.00)",
                    "rgb(0.00, 0.00, 255.00)",
                    "rgb(0.00, 0.00, 255.00)",
                    "rgb(0.00, 0.00, 255.00)",
                    "rgb(0.00, 0.00, 255.00)",
                    "rgb(0.00, 0.00, 255.00)",
                    "rgb(0.00, 0.00, 255.00)",
                    "rgb(0.00, 0.00, 255.00)",
                    "rgb(0.00, 0.00, 255.00)",
                    "rgb(0.00, 0.00, 255.00)",
                    "rgb(0.00, 0.00, 255.00)",
                    "rgb(0.00, 0.00, 255.00)",
                    "rgb(0.00, 0.00, 255.00)",
                    "rgb(0.00, 0.00, 255.00)",
                    "rgb(0.00, 0.00, 255.00)",
                    "rgb(0.00, 0.00, 255.00)",
                    "rgb(0.00, 0.00, 255.00)",
                    "rgb(0.00, 0.00, 255.00)",
                    "rgb(0.00, 0.00, 255.00)",
                    "rgb(0.00, 0.00, 255.00)",
                    "rgb(0.00, 0.00, 255.00)",
                    "rgb(0.00, 0.00, 255.00)",
                    "rgb(0.00, 0.00, 255.00)",
                    "rgb(0.00, 0.00, 255.00)",
                    "rgb(0.00, 0.00, 255.00)",
                    "rgb(0.00, 0.00, 255.00)",
                    "rgb(0.00, 0.00, 255.00)",
                    "rgb(0.00, 0.00, 255.00)",
                    "rgb(0.00, 0.00, 255.00)",
                    "rgb(0.00, 0.00, 255.00)",
                    "rgb(0.00, 0.00, 255.00)",
                    "rgb(0.00, 0.00, 255.00)",
                    "rgb(0.00, 0.00, 255.00)",
                    "rgb(0.00, 0.00, 255.00)",
                    "rgb(0.00, 0.00, 255.00)",
                    "rgb(0.00, 0.00, 255.00)",
                    "rgb(0.00, 0.00, 255.00)",
                    "rgb(0.00, 0.00, 255.00)",
                    "rgb(0.00, 0.00, 255.00)",
                    "rgb(0.00, 0.00, 255.00)",
                    "rgb(0.00, 0.00, 255.00)",
                    "rgb(0.00, 0.00, 255.00)",
                    "rgb(0.00, 0.00, 255.00)",
                    "rgb(0.00, 0.00, 255.00)",
                    "rgb(0.00, 0.00, 255.00)",
                    "rgb(0.00, 0.00, 255.00)",
                    "rgb(0.00, 0.00, 255.00)",
                    "rgb(0.00, 0.00, 255.00)",
                    "rgb(0.00, 0.00, 255.00)",
                    "rgb(0.00, 0.00, 255.00)",
                    "rgb(0.00, 0.00, 255.00)",
                    "rgb(0.00, 0.00, 255.00)",
                    "rgb(0.00, 0.00, 255.00)",
                    "rgb(0.00, 0.00, 255.00)",
                    "rgb(0.00, 0.00, 255.00)",
                    "rgb(0.00, 0.00, 255.00)",
                    "rgb(0.00, 0.00, 255.00)",
                    "rgb(0.00, 0.00, 255.00)",
                    "rgb(0.00, 0.00, 255.00)",
                    "rgb(0.00, 0.00, 255.00)",
                    "rgb(0.00, 0.00, 255.00)",
                    "rgb(0.00, 0.00, 255.00)",
                    "rgb(0.00, 0.00, 255.00)",
                    "rgb(0.00, 0.00, 255.00)",
                    "rgb(0.00, 0.00, 255.00)",
                    "rgb(0.00, 0.00, 255.00)",
                    "rgb(0.00, 0.00, 255.00)",
                    "rgb(0.00, 0.00, 255.00)",
                    "rgb(0.00, 0.00, 255.00)",
                    "rgb(0.00, 0.00, 255.00)",
                    "rgb(0.00, 0.00, 255.00)",
                    "rgb(0.00, 0.00, 255.00)",
                    "rgb(0.00, 0.00, 255.00)",
                    "rgb(0.00, 0.00, 255.00)",
                    "rgb(0.00, 0.00, 255.00)",
                    "rgb(0.00, 0.00, 255.00)",
                    "rgb(0.00, 0.00, 255.00)",
                    "rgb(0.00, 0.00, 255.00)",
                    "rgb(0.00, 0.00, 255.00)",
                    "rgb(0.00, 0.00, 255.00)",
                    "rgb(0.00, 0.00, 255.00)",
                    "rgb(0.00, 0.00, 255.00)",
                    "rgb(0.00, 0.00, 255.00)",
                    "rgb(0.00, 0.00, 255.00)",
                    "rgb(0.00, 0.00, 255.00)",
                    "rgb(0.00, 0.00, 255.00)",
                    "rgb(0.00, 0.00, 255.00)",
                    "rgb(0.00, 0.00, 255.00)",
                    "rgb(0.00, 0.00, 255.00)",
                    "rgb(0.00, 0.00, 255.00)",
                    "rgb(0.00, 0.00, 255.00)",
                    "rgb(0.00, 0.00, 255.00)",
                    "rgb(0.00, 0.00, 255.00)",
                    "rgb(0.00, 0.00, 255.00)",
                    "rgb(0.00, 0.00, 255.00)",
                    "rgb(0.00, 0.00, 255.00)",
                    "rgb(0.00, 0.00, 255.00)",
                    "rgb(0.00, 0.00, 255.00)",
                    "rgb(0.00, 0.00, 255.00)",
                    "rgb(0.00, 0.00, 255.00)",
                    "rgb(0.00, 0.00, 255.00)",
                    "rgb(0.00, 0.00, 255.00)",
                    "rgb(0.00, 0.00, 255.00)",
                    "rgb(0.00, 0.00, 255.00)",
                    "rgb(0.00, 0.00, 255.00)",
                    "rgb(0.00, 0.00, 255.00)",
                    "rgb(0.00, 0.00, 255.00)",
                    "rgb(0.00, 0.00, 255.00)",
                    "rgb(0.00, 0.00, 255.00)",
                    "rgb(0.00, 0.00, 255.00)",
                    "rgb(0.00, 0.00, 255.00)",
                    "rgb(0.00, 0.00, 255.00)",
                    "rgb(0.00, 0.00, 255.00)",
                    "rgb(0.00, 0.00, 255.00)",
                    "rgb(0.00, 0.00, 255.00)",
                    "rgb(0.00, 0.00, 255.00)",
                    "rgb(0.00, 0.00, 255.00)",
                    "rgb(0.00, 0.00, 255.00)",
                    "rgb(0.00, 0.00, 255.00)",
                    "rgb(0.00, 0.00, 255.00)",
                    "rgb(0.00, 0.00, 255.00)",
                    "rgb(0.00, 0.00, 255.00)",
                    "rgb(0.00, 0.00, 255.00)",
                    "rgb(0.00, 0.00, 255.00)",
                    "rgb(0.00, 0.00, 255.00)",
                    "rgb(0.00, 0.00, 255.00)",
                    "rgb(0.00, 0.00, 255.00)",
                    "rgb(0.00, 0.00, 255.00)",
                    "rgb(0.00, 0.00, 255.00)",
                    "rgb(0.00, 0.00, 255.00)",
                    "rgb(0.00, 0.00, 255.00)",
                    "rgb(0.00, 0.00, 255.00)",
                    "rgb(0.00, 0.00, 255.00)",
                    "rgb(0.00, 0.00, 255.00)",
                    "rgb(0.00, 0.00, 255.00)",
                    "rgb(0.00, 0.00, 255.00)",
                    "rgb(0.00, 0.00, 255.00)",
                    "rgb(0.00, 0.00, 255.00)",
                    "rgb(0.00, 0.00, 255.00)",
                    "rgb(0.00, 0.00, 255.00)",
                    "rgb(0.00, 0.00, 255.00)",
                    "rgb(0.00, 0.00, 255.00)",
                    "rgb(0.00, 0.00, 255.00)",
                    "rgb(0.00, 0.00, 255.00)",
                    "rgb(0.00, 0.00, 255.00)",
                    "rgb(0.00, 0.00, 255.00)",
                    "rgb(0.00, 0.00, 255.00)",
                    "rgb(0.00, 0.00, 255.00)",
                    "rgb(0.00, 0.00, 255.00)",
                    "rgb(0.00, 0.00, 255.00)",
                    "rgb(0.00, 0.00, 255.00)",
                    "rgb(0.00, 0.00, 255.00)",
                    "rgb(0.00, 0.00, 255.00)",
                    "rgb(0.00, 0.00, 255.00)",
                    "rgb(0.00, 0.00, 255.00)",
                    "rgb(0.00, 0.00, 255.00)",
                    "rgb(0.00, 0.00, 255.00)",
                    "rgb(0.00, 0.00, 255.00)",
                    "rgb(0.00, 0.00, 255.00)",
                    "rgb(0.00, 0.00, 255.00)",
                    "rgb(0.00, 0.00, 255.00)",
                    "rgb(0.00, 0.00, 255.00)",
                    "rgb(0.00, 0.00, 255.00)",
                    "rgb(0.00, 0.00, 255.00)",
                    "rgb(0.00, 0.00, 255.00)",
                    "rgb(0.00, 0.00, 255.00)",
                    "rgb(0.00, 0.00, 255.00)",
                    "rgb(0.00, 0.00, 255.00)",
                    "rgb(0.00, 0.00, 255.00)",
                    "rgb(0.00, 0.00, 255.00)",
                    "rgb(0.00, 0.00, 255.00)",
                    "rgb(0.00, 0.00, 255.00)",
                    "rgb(0.00, 0.00, 255.00)",
                    "rgb(0.00, 0.00, 255.00)",
                    "rgb(0.00, 0.00, 255.00)",
                    "rgb(0.00, 0.00, 255.00)",
                    "rgb(0.00, 0.00, 255.00)",
                    "rgb(0.00, 0.00, 255.00)",
                    "rgb(0.00, 0.00, 255.00)",
                    "rgb(0.00, 0.00, 255.00)",
                    "rgb(0.00, 0.00, 255.00)",
                    "rgb(0.00, 0.00, 255.00)",
                    "rgb(0.00, 0.00, 255.00)",
                    "rgb(0.00, 0.00, 255.00)",
                    "rgb(0.00, 0.00, 255.00)",
                    "rgb(0.00, 0.00, 255.00)",
                    "rgb(0.00, 0.00, 255.00)",
                    "rgb(0.00, 0.00, 255.00)",
                    "rgb(0.00, 0.00, 255.00)",
                    "rgb(0.00, 0.00, 255.00)",
                    "rgb(0.00, 0.00, 255.00)",
                    "rgb(0.00, 0.00, 255.00)",
                    "rgb(0.00, 0.00, 255.00)",
                    "rgb(0.00, 0.00, 255.00)",
                    "rgb(0.00, 0.00, 255.00)",
                    "rgb(0.00, 0.00, 255.00)",
                    "rgb(0.00, 0.00, 255.00)",
                    "rgb(0.00, 0.00, 255.00)",
                    "rgb(0.00, 0.00, 255.00)",
                    "rgb(0.00, 0.00, 255.00)",
                    "rgb(0.00, 127.50, 255.00)",
                    "rgb(0.00, 127.50, 255.00)",
                    "rgb(0.00, 127.50, 255.00)",
                    "rgb(0.00, 127.50, 255.00)",
                    "rgb(0.00, 127.50, 255.00)",
                    "rgb(0.00, 127.50, 255.00)",
                    "rgb(0.00, 127.50, 255.00)",
                    "rgb(0.00, 127.50, 255.00)",
                    "rgb(0.00, 127.50, 255.00)",
                    "rgb(0.00, 127.50, 255.00)",
                    "rgb(0.00, 127.50, 255.00)",
                    "rgb(0.00, 127.50, 255.00)",
                    "rgb(0.00, 127.50, 255.00)",
                    "rgb(0.00, 127.50, 255.00)",
                    "rgb(0.00, 127.50, 255.00)",
                    "rgb(0.00, 127.50, 255.00)",
                    "rgb(0.00, 127.50, 255.00)",
                    "rgb(0.00, 127.50, 255.00)",
                    "rgb(0.00, 127.50, 255.00)",
                    "rgb(0.00, 127.50, 255.00)",
                    "rgb(0.00, 127.50, 255.00)",
                    "rgb(0.00, 127.50, 255.00)",
                    "rgb(0.00, 127.50, 255.00)",
                    "rgb(0.00, 127.50, 255.00)",
                    "rgb(0.00, 127.50, 255.00)",
                    "rgb(0.00, 127.50, 255.00)",
                    "rgb(0.00, 127.50, 255.00)",
                    "rgb(0.00, 127.50, 255.00)",
                    "rgb(0.00, 127.50, 255.00)",
                    "rgb(0.00, 127.50, 255.00)",
                    "rgb(0.00, 127.50, 255.00)",
                    "rgb(0.00, 127.50, 255.00)",
                    "rgb(0.00, 127.50, 255.00)",
                    "rgb(0.00, 127.50, 255.00)",
                    "rgb(0.00, 127.50, 255.00)",
                    "rgb(0.00, 127.50, 255.00)",
                    "rgb(0.00, 127.50, 255.00)",
                    "rgb(0.00, 127.50, 255.00)",
                    "rgb(0.00, 127.50, 255.00)",
                    "rgb(0.00, 127.50, 255.00)",
                    "rgb(0.00, 127.50, 255.00)",
                    "rgb(0.00, 127.50, 255.00)",
                    "rgb(0.00, 127.50, 255.00)",
                    "rgb(0.00, 127.50, 255.00)",
                    "rgb(0.00, 127.50, 255.00)",
                    "rgb(0.00, 127.50, 255.00)",
                    "rgb(0.00, 127.50, 255.00)",
                    "rgb(0.00, 127.50, 255.00)",
                    "rgb(0.00, 127.50, 255.00)",
                    "rgb(0.00, 127.50, 255.00)",
                    "rgb(0.00, 127.50, 255.00)",
                    "rgb(0.00, 127.50, 255.00)",
                    "rgb(0.00, 127.50, 255.00)",
                    "rgb(0.00, 127.50, 255.00)",
                    "rgb(0.00, 127.50, 255.00)",
                    "rgb(0.00, 127.50, 255.00)",
                    "rgb(0.00, 127.50, 255.00)",
                    "rgb(0.00, 127.50, 255.00)",
                    "rgb(0.00, 127.50, 255.00)",
                    "rgb(0.00, 127.50, 255.00)",
                    "rgb(0.00, 127.50, 255.00)",
                    "rgb(0.00, 127.50, 255.00)",
                    "rgb(0.00, 127.50, 255.00)",
                    "rgb(0.00, 127.50, 255.00)",
                    "rgb(0.00, 127.50, 255.00)",
                    "rgb(0.00, 127.50, 255.00)",
                    "rgb(0.00, 127.50, 255.00)",
                    "rgb(0.00, 127.50, 255.00)",
                    "rgb(0.00, 127.50, 255.00)",
                    "rgb(0.00, 127.50, 255.00)",
                    "rgb(0.00, 127.50, 255.00)",
                    "rgb(0.00, 127.50, 255.00)",
                    "rgb(0.00, 127.50, 255.00)",
                    "rgb(0.00, 127.50, 255.00)",
                    "rgb(0.00, 127.50, 255.00)",
                    "rgb(0.00, 127.50, 255.00)",
                    "rgb(0.00, 127.50, 255.00)",
                    "rgb(0.00, 127.50, 255.00)",
                    "rgb(0.00, 127.50, 255.00)",
                    "rgb(0.00, 127.50, 255.00)",
                    "rgb(0.00, 127.50, 255.00)",
                    "rgb(0.00, 127.50, 255.00)",
                    "rgb(0.00, 127.50, 255.00)",
                    "rgb(0.00, 127.50, 255.00)",
                    "rgb(0.00, 127.50, 255.00)",
                    "rgb(0.00, 127.50, 255.00)",
                    "rgb(0.00, 127.50, 255.00)",
                    "rgb(0.00, 127.50, 255.00)",
                    "rgb(0.00, 127.50, 255.00)",
                    "rgb(0.00, 127.50, 255.00)",
                    "rgb(0.00, 127.50, 255.00)",
                    "rgb(0.00, 127.50, 255.00)",
                    "rgb(0.00, 127.50, 255.00)",
                    "rgb(0.00, 127.50, 255.00)",
                    "rgb(0.00, 127.50, 255.00)",
                    "rgb(0.00, 127.50, 255.00)",
                    "rgb(0.00, 127.50, 255.00)",
                    "rgb(0.00, 127.50, 255.00)",
                    "rgb(0.00, 127.50, 255.00)",
                    "rgb(0.00, 127.50, 255.00)",
                    "rgb(0.00, 255.00, 255.00)",
                    "rgb(0.00, 255.00, 255.00)",
                    "rgb(0.00, 255.00, 255.00)",
                    "rgb(0.00, 255.00, 255.00)",
                    "rgb(0.00, 255.00, 255.00)",
                    "rgb(0.00, 255.00, 255.00)",
                    "rgb(0.00, 255.00, 255.00)",
                    "rgb(0.00, 255.00, 255.00)",
                    "rgb(0.00, 255.00, 255.00)",
                    "rgb(0.00, 255.00, 255.00)",
                    "rgb(0.00, 255.00, 255.00)",
                    "rgb(0.00, 255.00, 255.00)",
                    "rgb(0.00, 255.00, 255.00)",
                    "rgb(0.00, 255.00, 255.00)",
                    "rgb(0.00, 255.00, 255.00)",
                    "rgb(0.00, 255.00, 255.00)",
                    "rgb(0.00, 255.00, 255.00)",
                    "rgb(0.00, 255.00, 255.00)",
                    "rgb(0.00, 255.00, 255.00)",
                    "rgb(0.00, 255.00, 255.00)",
                    "rgb(0.00, 255.00, 255.00)",
                    "rgb(0.00, 255.00, 255.00)",
                    "rgb(0.00, 255.00, 255.00)",
                    "rgb(0.00, 255.00, 255.00)",
                    "rgb(0.00, 255.00, 255.00)",
                    "rgb(0.00, 255.00, 255.00)",
                    "rgb(0.00, 255.00, 255.00)",
                    "rgb(0.00, 255.00, 255.00)",
                    "rgb(0.00, 255.00, 255.00)",
                    "rgb(0.00, 255.00, 255.00)",
                    "rgb(0.00, 255.00, 255.00)",
                    "rgb(0.00, 255.00, 255.00)",
                    "rgb(0.00, 255.00, 255.00)",
                    "rgb(0.00, 255.00, 255.00)",
                    "rgb(0.00, 255.00, 255.00)",
                    "rgb(0.00, 255.00, 255.00)",
                    "rgb(0.00, 255.00, 255.00)",
                    "rgb(0.00, 255.00, 255.00)",
                    "rgb(0.00, 255.00, 255.00)",
                    "rgb(0.00, 255.00, 255.00)",
                    "rgb(0.00, 255.00, 255.00)",
                    "rgb(0.00, 255.00, 255.00)",
                    "rgb(0.00, 255.00, 255.00)",
                    "rgb(0.00, 255.00, 255.00)",
                    "rgb(0.00, 255.00, 255.00)",
                    "rgb(0.00, 255.00, 255.00)",
                    "rgb(0.00, 255.00, 255.00)",
                    "rgb(0.00, 255.00, 255.00)",
                    "rgb(0.00, 255.00, 255.00)",
                    "rgb(0.00, 255.00, 255.00)",
                    "rgb(0.00, 255.00, 255.00)",
                    "rgb(0.00, 255.00, 255.00)",
                    "rgb(0.00, 255.00, 255.00)",
                    "rgb(0.00, 255.00, 255.00)",
                    "rgb(0.00, 255.00, 255.00)",
                    "rgb(0.00, 255.00, 255.00)",
                    "rgb(0.00, 255.00, 255.00)",
                    "rgb(0.00, 255.00, 255.00)",
                    "rgb(0.00, 255.00, 255.00)",
                    "rgb(0.00, 255.00, 255.00)",
                    "rgb(0.00, 255.00, 255.00)",
                    "rgb(0.00, 255.00, 255.00)",
                    "rgb(0.00, 255.00, 255.00)",
                    "rgb(0.00, 255.00, 255.00)",
                    "rgb(0.00, 255.00, 255.00)",
                    "rgb(0.00, 255.00, 255.00)",
                    "rgb(0.00, 255.00, 255.00)",
                    "rgb(0.00, 255.00, 255.00)",
                    "rgb(0.00, 255.00, 255.00)",
                    "rgb(0.00, 255.00, 255.00)",
                    "rgb(0.00, 255.00, 255.00)",
                    "rgb(0.00, 255.00, 255.00)",
                    "rgb(0.00, 255.00, 255.00)",
                    "rgb(0.00, 255.00, 255.00)",
                    "rgb(0.00, 255.00, 255.00)",
                    "rgb(0.00, 255.00, 255.00)",
                    "rgb(0.00, 255.00, 255.00)",
                    "rgb(0.00, 255.00, 255.00)",
                    "rgb(0.00, 255.00, 255.00)",
                    "rgb(0.00, 255.00, 255.00)",
                    "rgb(0.00, 255.00, 255.00)",
                    "rgb(0.00, 255.00, 255.00)",
                    "rgb(0.00, 255.00, 255.00)",
                    "rgb(0.00, 255.00, 255.00)",
                    "rgb(0.00, 255.00, 255.00)",
                    "rgb(0.00, 255.00, 255.00)",
                    "rgb(0.00, 255.00, 255.00)",
                    "rgb(0.00, 255.00, 255.00)",
                    "rgb(0.00, 255.00, 255.00)",
                    "rgb(0.00, 255.00, 255.00)",
                    "rgb(0.00, 255.00, 255.00)",
                    "rgb(0.00, 255.00, 255.00)",
                    "rgb(0.00, 255.00, 255.00)",
                    "rgb(0.00, 255.00, 255.00)",
                    "rgb(0.00, 255.00, 255.00)",
                    "rgb(0.00, 255.00, 255.00)",
                    "rgb(0.00, 255.00, 255.00)",
                    "rgb(0.00, 255.00, 255.00)",
                    "rgb(0.00, 255.00, 255.00)",
                    "rgb(0.00, 255.00, 255.00)",
                    "rgb(0.00, 255.00, 255.00)",
                    "rgb(0.00, 255.00, 255.00)",
                    "rgb(0.00, 255.00, 255.00)",
                    "rgb(0.00, 255.00, 255.00)",
                    "rgb(0.00, 255.00, 255.00)",
                    "rgb(0.00, 255.00, 255.00)",
                    "rgb(0.00, 255.00, 255.00)",
                    "rgb(0.00, 255.00, 255.00)",
                    "rgb(0.00, 255.00, 255.00)",
                    "rgb(0.00, 255.00, 255.00)",
                    "rgb(0.00, 255.00, 255.00)",
                    "rgb(0.00, 255.00, 255.00)",
                    "rgb(0.00, 255.00, 255.00)",
                    "rgb(0.00, 255.00, 255.00)",
                    "rgb(0.00, 255.00, 255.00)",
                    "rgb(0.00, 255.00, 255.00)",
                    "rgb(0.00, 255.00, 255.00)",
                    "rgb(0.00, 255.00, 255.00)",
                    "rgb(0.00, 255.00, 255.00)",
                    "rgb(0.00, 255.00, 255.00)",
                    "rgb(0.00, 255.00, 255.00)",
                    "rgb(0.00, 255.00, 255.00)",
                    "rgb(0.00, 255.00, 255.00)",
                    "rgb(0.00, 255.00, 255.00)",
                    "rgb(0.00, 255.00, 255.00)",
                    "rgb(0.00, 255.00, 255.00)",
                    "rgb(0.00, 255.00, 255.00)",
                    "rgb(0.00, 255.00, 255.00)",
                    "rgb(0.00, 255.00, 255.00)",
                    "rgb(0.00, 255.00, 255.00)",
                    "rgb(0.00, 255.00, 255.00)",
                    "rgb(0.00, 255.00, 255.00)",
                    "rgb(0.00, 255.00, 255.00)",
                    "rgb(0.00, 255.00, 255.00)",
                    "rgb(0.00, 255.00, 255.00)",
                    "rgb(0.00, 255.00, 255.00)",
                    "rgb(0.00, 255.00, 255.00)",
                    "rgb(0.00, 255.00, 255.00)",
                    "rgb(0.00, 255.00, 255.00)",
                    "rgb(0.00, 255.00, 255.00)",
                    "rgb(0.00, 255.00, 255.00)",
                    "rgb(0.00, 255.00, 255.00)",
                    "rgb(0.00, 255.00, 255.00)",
                    "rgb(0.00, 255.00, 255.00)",
                    "rgb(0.00, 255.00, 255.00)",
                    "rgb(0.00, 255.00, 255.00)",
                    "rgb(0.00, 255.00, 255.00)",
                    "rgb(0.00, 255.00, 255.00)",
                    "rgb(0.00, 255.00, 255.00)",
                    "rgb(0.00, 255.00, 255.00)",
                    "rgb(0.00, 255.00, 255.00)",
                    "rgb(0.00, 255.00, 255.00)",
                    "rgb(0.00, 255.00, 255.00)",
                    "rgb(0.00, 255.00, 255.00)",
                    "rgb(0.00, 255.00, 255.00)",
                    "rgb(0.00, 255.00, 255.00)",
                    "rgb(0.00, 255.00, 255.00)",
                    "rgb(0.00, 255.00, 255.00)",
                    "rgb(0.00, 255.00, 255.00)",
                    "rgb(0.00, 255.00, 255.00)",
                    "rgb(0.00, 255.00, 255.00)",
                    "rgb(0.00, 255.00, 255.00)",
                    "rgb(0.00, 255.00, 255.00)",
                    "rgb(0.00, 255.00, 255.00)",
                    "rgb(0.00, 255.00, 255.00)",
                    "rgb(0.00, 255.00, 255.00)",
                    "rgb(0.00, 255.00, 255.00)",
                    "rgb(0.00, 255.00, 255.00)",
                    "rgb(0.00, 255.00, 255.00)",
                    "rgb(0.00, 255.00, 255.00)",
                    "rgb(0.00, 255.00, 255.00)",
                    "rgb(0.00, 255.00, 255.00)",
                    "rgb(0.00, 255.00, 255.00)",
                    "rgb(0.00, 255.00, 255.00)",
                    "rgb(0.00, 255.00, 255.00)",
                    "rgb(0.00, 255.00, 255.00)",
                    "rgb(0.00, 255.00, 255.00)",
                    "rgb(0.00, 255.00, 255.00)",
                    "rgb(0.00, 255.00, 255.00)",
                    "rgb(0.00, 255.00, 255.00)",
                    "rgb(0.00, 255.00, 255.00)",
                    "rgb(0.00, 255.00, 255.00)",
                    "rgb(0.00, 255.00, 255.00)",
                    "rgb(0.00, 255.00, 255.00)",
                    "rgb(0.00, 255.00, 255.00)",
                    "rgb(0.00, 255.00, 255.00)",
                    "rgb(0.00, 255.00, 255.00)",
                    "rgb(0.00, 255.00, 255.00)",
                    "rgb(0.00, 255.00, 255.00)",
                    "rgb(0.00, 255.00, 255.00)",
                    "rgb(0.00, 255.00, 255.00)",
                    "rgb(0.00, 255.00, 255.00)",
                    "rgb(0.00, 255.00, 255.00)",
                    "rgb(0.00, 255.00, 255.00)",
                    "rgb(0.00, 255.00, 255.00)",
                    "rgb(0.00, 255.00, 255.00)",
                    "rgb(0.00, 255.00, 255.00)",
                    "rgb(0.00, 255.00, 255.00)",
                    "rgb(0.00, 255.00, 255.00)",
                    "rgb(0.00, 255.00, 255.00)",
                    "rgb(0.00, 255.00, 255.00)",
                    "rgb(0.00, 255.00, 255.00)",
                    "rgb(0.00, 255.00, 255.00)",
                    "rgb(0.00, 255.00, 255.00)",
                    "rgb(0.00, 255.00, 255.00)",
                    "rgb(0.00, 255.00, 255.00)",
                    "rgb(0.00, 255.00, 255.00)",
                    "rgb(0.00, 255.00, 255.00)",
                    "rgb(0.00, 255.00, 255.00)",
                    "rgb(0.00, 255.00, 255.00)",
                    "rgb(0.00, 255.00, 255.00)",
                    "rgb(0.00, 255.00, 255.00)",
                    "rgb(0.00, 255.00, 255.00)",
                    "rgb(0.00, 255.00, 255.00)",
                    "rgb(0.00, 255.00, 255.00)",
                    "rgb(0.00, 255.00, 255.00)",
                    "rgb(0.00, 255.00, 255.00)",
                    "rgb(0.00, 255.00, 255.00)",
                    "rgb(0.00, 255.00, 255.00)",
                    "rgb(0.00, 255.00, 255.00)",
                    "rgb(0.00, 255.00, 255.00)",
                    "rgb(0.00, 255.00, 255.00)",
                    "rgb(0.00, 255.00, 255.00)",
                    "rgb(0.00, 255.00, 255.00)",
                    "rgb(0.00, 255.00, 255.00)",
                    "rgb(0.00, 255.00, 255.00)",
                    "rgb(0.00, 255.00, 255.00)",
                    "rgb(0.00, 255.00, 255.00)",
                    "rgb(0.00, 255.00, 255.00)",
                    "rgb(0.00, 255.00, 255.00)",
                    "rgb(0.00, 255.00, 255.00)",
                    "rgb(0.00, 255.00, 255.00)",
                    "rgb(0.00, 255.00, 255.00)",
                    "rgb(0.00, 255.00, 255.00)",
                    "rgb(0.00, 255.00, 255.00)",
                    "rgb(0.00, 255.00, 255.00)",
                    "rgb(0.00, 255.00, 255.00)",
                    "rgb(0.00, 255.00, 255.00)",
                    "rgb(0.00, 255.00, 255.00)",
                    "rgb(0.00, 255.00, 255.00)",
                    "rgb(0.00, 255.00, 255.00)",
                    "rgb(0.00, 255.00, 255.00)",
                    "rgb(0.00, 255.00, 255.00)",
                    "rgb(0.00, 255.00, 255.00)",
                    "rgb(0.00, 255.00, 255.00)",
                    "rgb(0.00, 255.00, 255.00)",
                    "rgb(0.00, 255.00, 255.00)",
                    "rgb(0.00, 255.00, 255.00)",
                    "rgb(0.00, 255.00, 255.00)",
                    "rgb(0.00, 255.00, 255.00)",
                    "rgb(0.00, 255.00, 255.00)",
                    "rgb(0.00, 255.00, 255.00)",
                    "rgb(0.00, 255.00, 255.00)",
                    "rgb(0.00, 255.00, 255.00)",
                    "rgb(0.00, 255.00, 255.00)",
                    "rgb(0.00, 255.00, 255.00)",
                    "rgb(0.00, 255.00, 255.00)",
                    "rgb(0.00, 255.00, 255.00)",
                    "rgb(0.00, 255.00, 255.00)",
                    "rgb(0.00, 255.00, 255.00)",
                    "rgb(0.00, 255.00, 255.00)",
                    "rgb(0.00, 255.00, 255.00)",
                    "rgb(0.00, 255.00, 255.00)",
                    "rgb(0.00, 255.00, 255.00)",
                    "rgb(0.00, 255.00, 255.00)",
                    "rgb(0.00, 255.00, 255.00)",
                    "rgb(0.00, 255.00, 255.00)",
                    "rgb(0.00, 255.00, 255.00)",
                    "rgb(0.00, 255.00, 255.00)",
                    "rgb(0.00, 255.00, 255.00)",
                    "rgb(0.00, 255.00, 255.00)",
                    "rgb(0.00, 255.00, 255.00)",
                    "rgb(0.00, 255.00, 255.00)",
                    "rgb(0.00, 255.00, 255.00)",
                    "rgb(0.00, 255.00, 255.00)",
                    "rgb(0.00, 255.00, 255.00)",
                    "rgb(0.00, 255.00, 255.00)",
                    "rgb(0.00, 255.00, 255.00)",
                    "rgb(0.00, 255.00, 255.00)",
                    "rgb(0.00, 255.00, 255.00)",
                    "rgb(0.00, 255.00, 255.00)",
                    "rgb(0.00, 255.00, 255.00)",
                    "rgb(0.00, 255.00, 255.00)",
                    "rgb(0.00, 255.00, 255.00)",
                    "rgb(0.00, 255.00, 255.00)",
                    "rgb(0.00, 255.00, 255.00)",
                    "rgb(0.00, 255.00, 255.00)",
                    "rgb(0.00, 255.00, 255.00)",
                    "rgb(0.00, 255.00, 255.00)",
                    "rgb(0.00, 255.00, 255.00)",
                    "rgb(0.00, 255.00, 255.00)",
                    "rgb(0.00, 255.00, 255.00)",
                    "rgb(0.00, 255.00, 255.00)",
                    "rgb(0.00, 255.00, 255.00)",
                    "rgb(0.00, 255.00, 255.00)",
                    "rgb(0.00, 255.00, 255.00)",
                    "rgb(0.00, 255.00, 255.00)",
                    "rgb(0.00, 255.00, 255.00)",
                    "rgb(0.00, 255.00, 255.00)",
                    "rgb(0.00, 255.00, 255.00)",
                    "rgb(0.00, 255.00, 255.00)",
                    "rgb(0.00, 255.00, 255.00)",
                    "rgb(0.00, 255.00, 255.00)",
                    "rgb(0.00, 255.00, 255.00)",
                    "rgb(0.00, 255.00, 255.00)",
                    "rgb(0.00, 255.00, 255.00)",
                    "rgb(0.00, 255.00, 255.00)",
                    "rgb(0.00, 255.00, 255.00)",
                    "rgb(0.00, 255.00, 255.00)",
                    "rgb(0.00, 255.00, 255.00)",
                    "rgb(0.00, 255.00, 255.00)",
                    "rgb(0.00, 255.00, 255.00)",
                    "rgb(0.00, 255.00, 255.00)",
                    "rgb(0.00, 255.00, 255.00)",
                    "rgb(0.00, 255.00, 255.00)",
                    "rgb(0.00, 255.00, 255.00)",
                    "rgb(0.00, 255.00, 255.00)",
                    "rgb(0.00, 255.00, 255.00)",
                    "rgb(0.00, 255.00, 255.00)",
                    "rgb(0.00, 255.00, 255.00)",
                    "rgb(0.00, 255.00, 255.00)",
                    "rgb(0.00, 255.00, 255.00)",
                    "rgb(0.00, 255.00, 255.00)",
                    "rgb(0.00, 255.00, 255.00)",
                    "rgb(0.00, 255.00, 255.00)",
                    "rgb(0.00, 255.00, 255.00)",
                    "rgb(0.00, 255.00, 255.00)",
                    "rgb(0.00, 255.00, 255.00)",
                    "rgb(0.00, 255.00, 255.00)",
                    "rgb(0.00, 255.00, 255.00)",
                    "rgb(0.00, 255.00, 255.00)",
                    "rgb(0.00, 255.00, 255.00)",
                    "rgb(0.00, 255.00, 255.00)",
                    "rgb(0.00, 255.00, 255.00)",
                    "rgb(0.00, 255.00, 255.00)",
                    "rgb(0.00, 255.00, 255.00)",
                    "rgb(0.00, 255.00, 255.00)",
                    "rgb(0.00, 255.00, 255.00)",
                    "rgb(0.00, 255.00, 255.00)",
                    "rgb(0.00, 255.00, 255.00)",
                    "rgb(0.00, 255.00, 255.00)",
                    "rgb(0.00, 255.00, 255.00)",
                    "rgb(0.00, 255.00, 255.00)",
                    "rgb(0.00, 255.00, 255.00)",
                    "rgb(0.00, 255.00, 255.00)",
                    "rgb(0.00, 255.00, 255.00)",
                    "rgb(0.00, 255.00, 255.00)",
                    "rgb(0.00, 255.00, 255.00)",
                    "rgb(0.00, 255.00, 255.00)",
                    "rgb(0.00, 255.00, 255.00)",
                    "rgb(0.00, 255.00, 255.00)",
                    "rgb(0.00, 255.00, 255.00)",
                    "rgb(0.00, 255.00, 255.00)",
                    "rgb(0.00, 255.00, 255.00)",
                    "rgb(0.00, 255.00, 255.00)",
                    "rgb(0.00, 255.00, 255.00)",
                    "rgb(0.00, 255.00, 255.00)",
                    "rgb(0.00, 255.00, 255.00)",
                    "rgb(0.00, 255.00, 255.00)",
                    "rgb(0.00, 255.00, 255.00)",
                    "rgb(0.00, 255.00, 255.00)",
                    "rgb(0.00, 255.00, 255.00)",
                    "rgb(0.00, 255.00, 255.00)",
                    "rgb(0.00, 255.00, 255.00)",
                    "rgb(0.00, 255.00, 255.00)",
                    "rgb(0.00, 255.00, 255.00)",
                    "rgb(0.00, 255.00, 255.00)",
                    "rgb(0.00, 255.00, 255.00)",
                    "rgb(0.00, 255.00, 255.00)",
                    "rgb(0.00, 255.00, 255.00)",
                    "rgb(0.00, 255.00, 255.00)",
                    "rgb(0.00, 255.00, 255.00)",
                    "rgb(0.00, 255.00, 255.00)",
                    "rgb(0.00, 255.00, 255.00)",
                    "rgb(0.00, 255.00, 255.00)",
                    "rgb(0.00, 255.00, 255.00)",
                    "rgb(0.00, 255.00, 255.00)",
                    "rgb(0.00, 255.00, 255.00)",
                    "rgb(0.00, 255.00, 255.00)",
                    "rgb(0.00, 255.00, 255.00)",
                    "rgb(0.00, 255.00, 255.00)",
                    "rgb(0.00, 255.00, 255.00)",
                    "rgb(0.00, 255.00, 255.00)",
                    "rgb(0.00, 255.00, 255.00)",
                    "rgb(0.00, 255.00, 255.00)",
                    "rgb(0.00, 255.00, 255.00)",
                    "rgb(0.00, 255.00, 255.00)",
                    "rgb(0.00, 255.00, 255.00)",
                    "rgb(0.00, 255.00, 255.00)",
                    "rgb(0.00, 255.00, 255.00)",
                    "rgb(0.00, 255.00, 255.00)",
                    "rgb(0.00, 255.00, 255.00)",
                    "rgb(0.00, 255.00, 255.00)",
                    "rgb(0.00, 255.00, 255.00)",
                    "rgb(0.00, 255.00, 255.00)",
                    "rgb(0.00, 255.00, 255.00)",
                    "rgb(0.00, 255.00, 255.00)",
                    "rgb(0.00, 255.00, 255.00)",
                    "rgb(0.00, 255.00, 255.00)",
                    "rgb(0.00, 255.00, 255.00)",
                    "rgb(0.00, 255.00, 255.00)",
                    "rgb(0.00, 255.00, 255.00)",
                    "rgb(0.00, 255.00, 255.00)",
                    "rgb(0.00, 255.00, 255.00)",
                    "rgb(0.00, 255.00, 255.00)",
                    "rgb(0.00, 255.00, 255.00)",
                    "rgb(0.00, 255.00, 255.00)",
                    "rgb(0.00, 255.00, 255.00)",
                    "rgb(0.00, 255.00, 255.00)",
                    "rgb(0.00, 255.00, 255.00)",
                    "rgb(0.00, 255.00, 255.00)",
                    "rgb(0.00, 255.00, 255.00)",
                    "rgb(0.00, 255.00, 255.00)",
                    "rgb(0.00, 255.00, 255.00)",
                    "rgb(0.00, 255.00, 255.00)",
                    "rgb(0.00, 255.00, 255.00)",
                    "rgb(0.00, 255.00, 255.00)",
                    "rgb(0.00, 255.00, 255.00)",
                    "rgb(0.00, 255.00, 255.00)",
                    "rgb(0.00, 255.00, 255.00)",
                    "rgb(0.00, 255.00, 255.00)",
                    "rgb(0.00, 255.00, 255.00)",
                    "rgb(0.00, 255.00, 255.00)",
                    "rgb(0.00, 255.00, 255.00)",
                    "rgb(0.00, 255.00, 255.00)",
                    "rgb(0.00, 255.00, 255.00)",
                    "rgb(0.00, 255.00, 255.00)",
                    "rgb(0.00, 255.00, 255.00)",
                    "rgb(0.00, 255.00, 255.00)",
                    "rgb(0.00, 255.00, 255.00)",
                    "rgb(0.00, 255.00, 255.00)",
                    "rgb(0.00, 255.00, 255.00)",
                    "rgb(0.00, 255.00, 255.00)",
                    "rgb(0.00, 255.00, 255.00)",
                    "rgb(0.00, 255.00, 255.00)",
                    "rgb(0.00, 255.00, 255.00)",
                    "rgb(0.00, 255.00, 255.00)",
                    "rgb(0.00, 255.00, 255.00)",
                    "rgb(0.00, 255.00, 255.00)",
                    "rgb(0.00, 255.00, 255.00)",
                    "rgb(0.00, 255.00, 255.00)",
                    "rgb(0.00, 255.00, 255.00)",
                    "rgb(0.00, 255.00, 255.00)",
                    "rgb(0.00, 255.00, 255.00)",
                    "rgb(0.00, 255.00, 255.00)",
                    "rgb(0.00, 255.00, 255.00)",
                    "rgb(0.00, 255.00, 255.00)",
                    "rgb(0.00, 255.00, 255.00)",
                    "rgb(0.00, 255.00, 255.00)",
                    "rgb(0.00, 255.00, 255.00)",
                    "rgb(0.00, 255.00, 255.00)",
                    "rgb(0.00, 255.00, 255.00)",
                    "rgb(0.00, 255.00, 255.00)",
                    "rgb(0.00, 255.00, 255.00)",
                    "rgb(0.00, 255.00, 255.00)",
                    "rgb(0.00, 255.00, 255.00)",
                    "rgb(0.00, 255.00, 255.00)",
                    "rgb(0.00, 255.00, 255.00)",
                    "rgb(0.00, 255.00, 255.00)",
                    "rgb(0.00, 255.00, 255.00)",
                    "rgb(0.00, 255.00, 255.00)",
                    "rgb(0.00, 255.00, 255.00)",
                    "rgb(0.00, 255.00, 255.00)",
                    "rgb(0.00, 255.00, 255.00)",
                    "rgb(0.00, 255.00, 255.00)",
                    "rgb(0.00, 255.00, 255.00)",
                    "rgb(0.00, 255.00, 255.00)",
                    "rgb(0.00, 255.00, 255.00)",
                    "rgb(0.00, 255.00, 255.00)",
                    "rgb(0.00, 255.00, 255.00)",
                    "rgb(0.00, 255.00, 255.00)",
                    "rgb(0.00, 255.00, 255.00)",
                    "rgb(0.00, 255.00, 255.00)",
                    "rgb(0.00, 255.00, 255.00)",
                    "rgb(0.00, 255.00, 255.00)",
                    "rgb(0.00, 255.00, 255.00)",
                    "rgb(0.00, 255.00, 255.00)",
                    "rgb(0.00, 255.00, 255.00)",
                    "rgb(0.00, 255.00, 255.00)",
                    "rgb(0.00, 255.00, 255.00)",
                    "rgb(0.00, 255.00, 255.00)",
                    "rgb(0.00, 255.00, 255.00)",
                    "rgb(0.00, 255.00, 255.00)",
                    "rgb(0.00, 255.00, 255.00)",
                    "rgb(0.00, 255.00, 255.00)",
                    "rgb(0.00, 255.00, 255.00)",
                    "rgb(0.00, 255.00, 255.00)",
                    "rgb(0.00, 255.00, 255.00)",
                    "rgb(0.00, 255.00, 255.00)",
                    "rgb(0.00, 255.00, 255.00)",
                    "rgb(0.00, 255.00, 255.00)",
                    "rgb(0.00, 255.00, 255.00)",
                    "rgb(0.00, 255.00, 255.00)",
                    "rgb(0.00, 255.00, 255.00)",
                    "rgb(0.00, 255.00, 255.00)",
                    "rgb(0.00, 255.00, 255.00)",
                    "rgb(0.00, 255.00, 255.00)",
                    "rgb(0.00, 255.00, 255.00)",
                    "rgb(0.00, 255.00, 255.00)",
                    "rgb(0.00, 255.00, 255.00)",
                    "rgb(0.00, 255.00, 255.00)",
                    "rgb(0.00, 255.00, 255.00)",
                    "rgb(0.00, 255.00, 255.00)",
                    "rgb(0.00, 255.00, 255.00)",
                    "rgb(0.00, 255.00, 255.00)",
                    "rgb(0.00, 255.00, 255.00)",
                    "rgb(0.00, 255.00, 255.00)",
                    "rgb(0.00, 255.00, 255.00)",
                    "rgb(0.00, 255.00, 255.00)",
                    "rgb(0.00, 255.00, 255.00)",
                    "rgb(0.00, 255.00, 255.00)",
                    "rgb(0.00, 255.00, 255.00)",
                    "rgb(0.00, 255.00, 255.00)",
                    "rgb(0.00, 255.00, 255.00)",
                    "rgb(0.00, 255.00, 255.00)",
                    "rgb(0.00, 255.00, 255.00)",
                    "rgb(0.00, 255.00, 255.00)",
                    "rgb(0.00, 255.00, 255.00)",
                    "rgb(0.00, 255.00, 255.00)",
                    "rgb(0.00, 255.00, 255.00)",
                    "rgb(0.00, 255.00, 255.00)",
                    "rgb(0.00, 255.00, 255.00)",
                    "rgb(0.00, 255.00, 255.00)",
                    "rgb(0.00, 255.00, 255.00)",
                    "rgb(0.00, 255.00, 255.00)",
                    "rgb(0.00, 255.00, 255.00)",
                    "rgb(0.00, 255.00, 255.00)",
                    "rgb(0.00, 255.00, 255.00)",
                    "rgb(0.00, 255.00, 255.00)",
                    "rgb(0.00, 255.00, 255.00)",
                    "rgb(0.00, 255.00, 255.00)",
                    "rgb(0.00, 255.00, 255.00)",
                    "rgb(0.00, 255.00, 255.00)",
                    "rgb(0.00, 255.00, 255.00)",
                    "rgb(0.00, 255.00, 255.00)",
                    "rgb(0.00, 255.00, 255.00)",
                    "rgb(0.00, 255.00, 255.00)",
                    "rgb(0.00, 255.00, 255.00)",
                    "rgb(0.00, 255.00, 255.00)",
                    "rgb(0.00, 255.00, 255.00)",
                    "rgb(0.00, 255.00, 255.00)",
                    "rgb(0.00, 255.00, 255.00)",
                    "rgb(0.00, 255.00, 255.00)",
                    "rgb(0.00, 255.00, 255.00)",
                    "rgb(0.00, 255.00, 255.00)",
                    "rgb(0.00, 255.00, 255.00)",
                    "rgb(0.00, 255.00, 255.00)",
                    "rgb(0.00, 255.00, 255.00)",
                    "rgb(0.00, 255.00, 255.00)",
                    "rgb(0.00, 255.00, 255.00)",
                    "rgb(0.00, 255.00, 255.00)",
                    "rgb(0.00, 255.00, 255.00)",
                    "rgb(0.00, 255.00, 255.00)",
                    "rgb(0.00, 255.00, 255.00)",
                    "rgb(0.00, 255.00, 255.00)",
                    "rgb(0.00, 255.00, 255.00)",
                    "rgb(0.00, 255.00, 255.00)",
                    "rgb(0.00, 255.00, 255.00)",
                    "rgb(0.00, 255.00, 255.00)",
                    "rgb(0.00, 255.00, 255.00)",
                    "rgb(0.00, 255.00, 255.00)",
                    "rgb(0.00, 255.00, 255.00)",
                    "rgb(0.00, 255.00, 255.00)",
                    "rgb(0.00, 255.00, 255.00)",
                    "rgb(0.00, 255.00, 255.00)",
                    "rgb(0.00, 255.00, 255.00)",
                    "rgb(0.00, 255.00, 255.00)",
                    "rgb(0.00, 255.00, 255.00)",
                    "rgb(0.00, 255.00, 255.00)",
                    "rgb(0.00, 255.00, 255.00)",
                    "rgb(0.00, 255.00, 255.00)",
                    "rgb(0.00, 255.00, 255.00)"
                  ],
                  "x": {
                    "bdata": "AAAAAAAIaUD36SsAAABpQAAAAAAA+GhANdq7////aEAAAAAAAAhpQPfpKwAAAGlAAAAAAAD4aEA12rv///9oQAAAAAAAAGlAAAAAAAAAaUAAAAAAAABpQAAAAAAAAGlAAAAAAACAaUAAAAAAAIBpQAAAAAAAgGlAAAAAAACAaUAAAAAAAHhpQAkW1P//f2lAAAAAAACIaUDLJUQAAIBpQAAAAAAAeGlACRbU//9/aUAAAAAAAIhpQMslRAAAgGlAAAAAAACAaUAAAAAAAIBpQAAAAAAAgGlAAAAAAACAaUAAAAAAAABpQAAAAAAAAGlAAAAAAAAAaUAAAAAAAABpQDFgZthX+mhAu/Lg////aEDPn5knqAVpQAowMAAAAGlAKyqrQ/AMaUDjMe///w9pQNXVVLwPE2lANxQaAAAQaUAAAAAAAHBpQAAAAAAAcGlAAAAAAABwaUAAAAAAAHBpQAAAAAAAaGlACRbU//9vaUAAAAAAAHhpQMslRAAAcGlAAAAAAABoaUAJFtT//29pQAAAAAAAeGlAyyVEAABwaUAAAAAAAHBpQAAAAAAAcGlAAAAAAABwaUAAAAAAAHBpQAAAAAAAEGlAAAAAAAAQaUAAAAAAABBpQAAAAAAAEGlAAAAAAAAIaUAJFtT//w9pQAAAAAAAGGlAyyVEAAAQaUAAAAAAAAhpQAkW1P//D2lAAAAAAAAYaUDLJUQAABBpQAAAAAAAEGlAAAAAAAAQaUAAAAAAABBpQAAAAAAAEGlAAAAAAABwaUAAAAAAAHBpQAAAAAAAcGlAAAAAAABwaUAAAAAAAGhpQAkW1P//b2lAAAAAAAB4aUDLJUQAAHBpQAAAAAAAaGlACRbU//9vaUAAAAAAAHhpQMslRAAAcGlAAAAAAABwaUAAAAAAAHBpQAAAAAAAcGlAAAAAAABwaUAAAAAAABBpQAAAAAAAEGlAAAAAAAAQaUAAAAAAABBpQAAAAAAACGlACRbU//8PaUAAAAAAABhpQMslRAAAEGlAAAAAAAAIaUAJFtT//w9pQAAAAAAAGGlAyyVEAAAQaUAAAAAAABBpQAAAAAAAEGlAAAAAAAAQaUAAAAAAABBpQAAAAAAAcGlAAAAAAABwaUAAAAAAAHBpQAAAAAAAcGlAAAAAAABoaUAJFtT//29pQAAAAAAAeGlAyyVEAABwaUAAAAAAAGhpQAkW1P//b2lAAAAAAAB4aUDLJUQAAHBpQAAAAAAAcGlAAAAAAABwaUAAAAAAAHBpQAAAAAAAcGlAAAAAAAAQaUAAAAAAABBpQAAAAAAAEGlAAAAAAAAQaUAAAAAAAAhpQAkW1P//D2lAAAAAAAAYaUDLJUQAABBpQAAAAAAACGlACRbU//8PaUAAAAAAABhpQMslRAAAEGlAAAAAAAAQaUAAAAAAABBpQAAAAAAAEGlAAAAAAAAQaUAAAAAAAHBpQAAAAAAAcGlAAAAAAABwaUAAAAAAAHBpQAAAAAAAaGlACRbU//9vaUAAAAAAAHhpQMslRAAAcGlAAAAAAABoaUAJFtT//29pQAAAAAAAeGlAyyVEAABwaUAAAAAAAHBpQAAAAAAAcGlAAAAAAABwaUAAAAAAAHBpQAAAAAAAEGlAAAAAAAAQaUAAAAAAABBpQAAAAAAAEGlAAAAAAAAIaUAJFtT//w9pQAAAAAAAGGlAyyVEAAAQaUAAAAAAAAhpQAkW1P//D2lAAAAAAAAYaUDLJUQAABBpQAAAAAAAEGlAAAAAAAAQaUAAAAAAABBpQAAAAAAAEGlAAAAAAABwaUAAAAAAAHBpQAAAAAAAcGlAAAAAAABwaUAAAAAAAGhpQAkW1P//b2lAAAAAAAB4aUDLJUQAAHBpQAAAAAAAaGlACRbU//9vaUAAAAAAAHhpQMslRAAAcGlAAAAAAABwaUAAAAAAAHBpQAAAAAAAcGlAAAAAAABwaUAAAAAAABBpQAAAAAAAEGlAAAAAAAAQaUAAAAAAABBpQAAAAAAACGlACRbU//8PaUAAAAAAABhpQMslRAAAEGlAAAAAAAAIaUAJFtT//w9pQAAAAAAAGGlAyyVEAAAQaUAAAAAAABBpQAAAAAAAEGlAAAAAAAAQaUAAAAAAABBpQAAAAAAAcGlAAAAAAABwaUAAAAAAAHBpQAAAAAAAcGlAAAAAAABoaUAJFtT//29pQAAAAAAAeGlAyyVEAABwaUAAAAAAAGhpQAkW1P//b2lAAAAAAAB4aUDLJUQAAHBpQAAAAAAAcGlAAAAAAABwaUAAAAAAAHBpQAAAAAAAcGlAAAAAAAAQaUAAAAAAABBpQAAAAAAAEGlAAAAAAAAQaUAAAAAAAAhpQAkW1P//D2lAAAAAAAAYaUDLJUQAABBpQAAAAAAACGlACRbU//8PaUAAAAAAABhpQMslRAAAEGlAAAAAAAAQaUAAAAAAABBpQAAAAAAAEGlAAAAAAAAQaUAAAAAAAHBpQAAAAAAAcGlAAAAAAABwaUAAAAAAAHBpQAAAAAAAaGlACRbU//9vaUAAAAAAAHhpQMslRAAAcGlAAAAAAABoaUAJFtT//29pQAAAAAAAeGlAyyVEAABwaUAAAAAAAHBpQAAAAAAAcGlAAAAAAABwaUAAAAAAAHBpQAAAAAAAEGlAAAAAAAAQaUAAAAAAABBpQAAAAAAAEGlAAAAAAAAIaUAJFtT//w9pQAAAAAAAGGlAyyVEAAAQaUAAAAAAAAhpQAkW1P//D2lAAAAAAAAYaUDLJUQAABBpQAAAAAAAEGlAAAAAAAAQaUAAAAAAABBpQAAAAAAAEGlAAAAAAABwaUAAAAAAAHBpQAAAAAAAcGlAAAAAAABwaUAAAAAAAGhpQAkW1P//b2lAAAAAAAB4aUDLJUQAAHBpQAAAAAAAaGlACRbU//9vaUAAAAAAAHhpQMslRAAAcGlAAAAAAABwaUAAAAAAAHBpQAAAAAAAcGlAAAAAAABwaUAAAAAAABBpQAAAAAAAEGlAAAAAAAAQaUAAAAAAABBpQAAAAAAACGlACRbU//8PaUAAAAAAABhpQMslRAAAEGlAAAAAAAAIaUAJFtT//w9pQAAAAAAAGGlAyyVEAAAQaUAAAAAAABBpQAAAAAAAEGlAAAAAAAAQaUAAAAAAABBpQAAAAAAAcGlAAAAAAABwaUAAAAAAAHBpQAAAAAAAcGlAAAAAAABoaUAJFtT//29pQAAAAAAAeGlAyyVEAABwaUAAAAAAAGhpQAkW1P//b2lAAAAAAAB4aUDLJUQAAHBpQAAAAAAAcGlAAAAAAABwaUAAAAAAAHBpQAAAAAAAcGlAAAAAAAAQaUAAAAAAABBpQAAAAAAAEGlAAAAAAAAQaUAAAAAAAAhpQAkW1P//D2lAAAAAAAAYaUDLJUQAABBpQAAAAAAACGlACRbU//8PaUAAAAAAABhpQMslRAAAEGlAAAAAAAAQaUAAAAAAABBpQAAAAAAAEGlAAAAAAAAQaUAAAAAAAHBpQAAAAAAAcGlAAAAAAABwaUAAAAAAAHBpQAAAAAAAaGlACRbU//9vaUAAAAAAAHhpQMslRAAAcGlAAAAAAABoaUAJFtT//29pQAAAAAAAeGlAyyVEAABwaUAAAAAAAHBpQAAAAAAAcGlAAAAAAABwaUAAAAAAAHBpQAAAAAAAEGlAAAAAAAAQaUAAAAAAABBpQAAAAAAAEGlAAAAAAAAIaUAJFtT//w9pQAAAAAAAGGlAyyVEAAAQaUAAAAAAAAhpQAkW1P//D2lAAAAAAAAYaUDLJUQAABBpQAAAAAAAEGlAAAAAAAAQaUAAAAAAABBpQAAAAAAAEGlAAAAAAABwaUAAAAAAAHBpQAAAAAAAcGlAAAAAAABwaUAAAAAAAGhpQAkW1P//b2lAAAAAAAB4aUDLJUQAAHBpQAAAAAAAaGlACRbU//9vaUAAAAAAAHhpQMslRAAAcGlAAAAAAABwaUAAAAAAAHBpQAAAAAAAcGlAAAAAAABwaUAAAAAAABBpQAAAAAAAEGlAAAAAAAAQaUAAAAAAABBpQAAAAAAACGlACRbU//8PaUAAAAAAABhpQMslRAAAEGlAAAAAAAAIaUAJFtT//w9pQAAAAAAAGGlAyyVEAAAQaUAAAAAAABBpQAAAAAAAEGlAAAAAAAAQaUAAAAAAABBpQAAAAAAAcGlAAAAAAABwaUAAAAAAAHBpQAAAAAAAcGlAAAAAAABoaUAJFtT//29pQAAAAAAAeGlAyyVEAABwaUAAAAAAAGhpQAkW1P//b2lAAAAAAAB4aUDLJUQAAHBpQAAAAAAAcGlAAAAAAABwaUAAAAAAAHBpQAAAAAAAcGlAAAAAAAAQaUAAAAAAABBpQAAAAAAAEGlAAAAAAAAQaUAAAAAAAAhpQAkW1P//D2lAAAAAAAAYaUDLJUQAABBpQAAAAAAACGlACRbU//8PaUAAAAAAABhpQMslRAAAEGlAAAAAAAAQaUAAAAAAABBpQAAAAAAAEGlAAAAAAAAQaUAAAAAAAHBpQAAAAAAAcGlAAAAAAABwaUAAAAAAAHBpQAAAAAAAaGlACRbU//9vaUAAAAAAAHhpQMslRAAAcGlAAAAAAABoaUAJFtT//29pQAAAAAAAeGlAyyVEAABwaUAAAAAAAHBpQAAAAAAAcGlAAAAAAABwaUAAAAAAAHBpQAAAAAAAEGlAAAAAAAAQaUAAAAAAABBpQAAAAAAAEGlAAAAAAAAIaUAJFtT//w9pQAAAAAAAGGlAyyVEAAAQaUAAAAAAAAhpQAkW1P//D2lAAAAAAAAYaUDLJUQAABBpQAAAAAAAEGlAAAAAAAAQaUAAAAAAABBpQAAAAAAAEGlAAAAAAABwaUAAAAAAAHBpQAAAAAAAcGlAAAAAAABwaUAAAAAAAGhpQAkW1P//b2lAAAAAAAB4aUDLJUQAAHBpQAAAAAAAaGlACRbU//9vaUAAAAAAAHhpQMslRAAAcGlAAAAAAABwaUAAAAAAAHBpQAAAAAAAcGlAAAAAAABwaUAAAAAAABBpQAAAAAAAEGlAAAAAAAAQaUAAAAAAABBpQAAAAAAACGlACRbU//8PaUAAAAAAABhpQMslRAAAEGlAAAAAAAAIaUAJFtT//w9pQAAAAAAAGGlAyyVEAAAQaUAAAAAAABBpQAAAAAAAEGlAAAAAAAAQaUAAAAAAABBpQAAAAAAAcGlAAAAAAABwaUAAAAAAAHBpQAAAAAAAcGlAAAAAAABoaUAJFtT//29pQAAAAAAAeGlAyyVEAABwaUAAAAAAAGhpQAkW1P//b2lAAAAAAAB4aUDLJUQAAHBpQAAAAAAAcGlAAAAAAABwaUAAAAAAAHBpQAAAAAAAcGlAAAAAAAAQaUAAAAAAABBpQAAAAAAAEGlAAAAAAAAQaUAAAAAAAAhpQAkW1P//D2lAAAAAAAAYaUDLJUQAABBpQAAAAAAACGlACRbU//8PaUAAAAAAABhpQMslRAAAEGlAAAAAAAAQaUAAAAAAABBpQAAAAAAAEGlAAAAAAAAQaUAAAAAAAHBpQAAAAAAAcGlAAAAAAABwaUAAAAAAAHBpQAAAAAAAaGlACRbU//9vaUAAAAAAAHhpQMslRAAAcGlAAAAAAABoaUAJFtT//29pQAAAAAAAeGlAyyVEAABwaUAAAAAAAHBpQAAAAAAAcGlAAAAAAABwaUAAAAAAAHBpQAAAAAAAEGlAAAAAAAAQaUAAAAAAABBpQAAAAAAAEGlAAAAAAAAIaUAJFtT//w9pQAAAAAAAGGlAyyVEAAAQaUAAAAAAAAhpQAkW1P//D2lAAAAAAAAYaUDLJUQAABBpQAAAAAAAEGlAAAAAAAAQaUAAAAAAABBpQAAAAAAAEGlAAAAAAABwaUAAAAAAAHBpQAAAAAAAcGlAAAAAAABwaUAAAAAAAGhpQAkW1P//b2lAAAAAAAB4aUDLJUQAAHBpQAAAAAAAaGlACRbU//9vaUAAAAAAAHhpQMslRAAAcGlAAAAAAABwaUAAAAAAAHBpQAAAAAAAcGlAAAAAAABwaUAAAAAAABBpQAAAAAAAEGlAAAAAAAAQaUAAAAAAABBpQAAAAAAACGlACRbU//8PaUAAAAAAABhpQMslRAAAEGlAAAAAAAAIaUAJFtT//w9pQAAAAAAAGGlAyyVEAAAQaUAAAAAAABBpQAAAAAAAEGlAAAAAAAAQaUAAAAAAABBpQAAAAAAAcGlAAAAAAABwaUAAAAAAAHBpQAAAAAAAcGlAAAAAAABoaUAJFtT//29pQAAAAAAAeGlAyyVEAABwaUAAAAAAAGhpQAkW1P//b2lAAAAAAAB4aUDLJUQAAHBpQAAAAAAAcGlAAAAAAABwaUAAAAAAAHBpQAAAAAAAcGlAAAAAAAAQaUAAAAAAABBpQAAAAAAAEGlAAAAAAAAQaUAAAAAAAAhpQAkW1P//D2lAAAAAAAAYaUDLJUQAABBpQAAAAAAACGlACRbU//8PaUAAAAAAABhpQMslRAAAEGlAAAAAAAAQaUAAAAAAABBpQAAAAAAAEGlAAAAAAAAQaUAAAAAAAHBpQAAAAAAAcGlAAAAAAABwaUAAAAAAAHBpQAAAAAAAaGlACRbU//9vaUAAAAAAAHhpQMslRAAAcGlAAAAAAABoaUAJFtT//29pQAAAAAAAeGlAyyVEAABwaUAAAAAAAHBpQAAAAAAAcGlAAAAAAABwaUAAAAAAAHBpQAAAAAAAEGlAAAAAAAAQaUAAAAAAABBpQAAAAAAAEGlAAAAAAAAIaUAJFtT//w9pQAAAAAAAGGlAyyVEAAAQaUAAAAAAAAhpQAkW1P//D2lAAAAAAAAYaUDLJUQAABBpQAAAAAAAEGlAAAAAAAAQaUAAAAAAABBpQAAAAAAAEGlAAAAAAABwaUAAAAAAAHBpQAAAAAAAcGlAAAAAAABwaUAAAAAAAGhpQAkW1P//b2lAAAAAAAB4aUDLJUQAAHBpQAAAAAAAaGlACRbU//9vaUAAAAAAAHhpQMslRAAAcGlAAAAAAABwaUAAAAAAAHBpQAAAAAAAcGlAAAAAAABwaUAAAAAAABBpQAAAAAAAEGlAAAAAAAAQaUAAAAAAABBpQAAAAAAACGlACRbU//8PaUAAAAAAABhpQMslRAAAEGlAAAAAAAAIaUAJFtT//w9pQAAAAAAAGGlAyyVEAAAQaUAAAAAAABBpQAAAAAAAEGlAAAAAAAAQaUAAAAAAABBpQAAAAAAAcGlAAAAAAABwaUAAAAAAAHBpQAAAAAAAcGlAAAAAAABoaUAJFtT//29pQAAAAAAAeGlAyyVEAABwaUAAAAAAAGhpQAkW1P//b2lAAAAAAAB4aUDLJUQAAHBpQAAAAAAAcGlAAAAAAABwaUAAAAAAAHBpQAAAAAAAcGlAAAAAAAAQaUAAAAAAABBpQAAAAAAAEGlAAAAAAAAQaUAAAAAAAAhpQAkW1P//D2lAAAAAAAAYaUDLJUQAABBpQAAAAAAACGlACRbU//8PaUAAAAAAABhpQMslRAAAEGlAAAAAAAAQaUAAAAAAABBpQAAAAAAAEGlAAAAAAAAQaUAAAAAAAHBpQAAAAAAAcGlAAAAAAABwaUAAAAAAAHBpQAAAAAAAaGlACRbU//9vaUAAAAAAAHhpQMslRAAAcGlAAAAAAABoaUAJFtT//29pQAAAAAAAeGlAyyVEAABwaUAAAAAAAHBpQAAAAAAAcGlAAAAAAABwaUAAAAAAAHBpQAAAAAAAEGlAAAAAAAAQaUAAAAAAABBpQAAAAAAAEGlAAAAAAAAIaUAJFtT//w9pQAAAAAAAGGlAyyVEAAAQaUAAAAAAAAhpQAkW1P//D2lAAAAAAAAYaUDLJUQAABBpQAAAAAAAEGlAAAAAAAAQaUAAAAAAABBpQAAAAAAAEGlA157ADUBtaUB4T/IncXJpQDoRUfK/cmlA7wQW2I5taUAxYGbYV3ppQEH0jhdEg2lAtUexJ6iFaUCELoLou3xpQAAAAAAAeGlACRbU//9/aUAAAAAAAIhpQMslRAAAgGlAAAAAAAB4aUAJFtT//39pQAAAAAAAiGlAyyVEAACAaUAAAAAAAIBpQAAAAAAAgGlAAAAAAACAaUAAAAAAAIBpQAAAAAAAAGlAAAAAAAAAaUAAAAAAAABpQAAAAAAAAGlAAAAAAAAIaUD36SsAAABpQAAAAAAA+GhANdq7////aEAAAAAAAAhpQPfpKwAAAGlAAAAAAAD4aEA12rv///9oQAAAAAAAAGlAAAAAAAAAaUAAAAAAAABpQAAAAAAAAGlAAAAAAACAaUAAAAAAAIBpQAAAAAAAgGlAAAAAAACAaUDPn5knqIVpQEUNHwAAgGlAMWBm2Fd6aUD2z8///39pQKPM8xpkd2lAOJIoAABwaUBdMwzlm2hpQDEKwf//b2lAAAAAAAB4aUD36SsAAHBpQAAAAAAAaGlANdq7//9vaUAAAAAAAHBpQAAAAAAAcGlAAAAAAABwaUAAAAAAAHBpQAAAAAAAUGlAAAAAAABQaUAAAAAAAFBpQAAAAAAAUGlAAAAAAABIaUAJFtT//09pQAAAAAAAWGlAyyVEAABQaUAAAAAAAEhpQAkW1P//T2lAAAAAAABYaUDLJUQAAFBpQAAAAAAAUGlAAAAAAABQaUAAAAAAAFBpQAAAAAAAUGlAAAAAAAAwaUAAAAAAADBpQAAAAAAAMGlAAAAAAAAwaUAAAAAAADhpQPfpKwAAMGlAAAAAAAAoaUA12rv//y9pQAAAAAAAOGlA9+krAAAwaUAAAAAAAChpQDXau///L2lAAAAAAAAwaUAAAAAAADBpQAAAAAAAMGlAAAAAAAAwaUAAAAAAABBpQAAAAAAAEGlAAAAAAAAQaUAAAAAAABBpQAAAAAAACGlACRbU//8PaUAAAAAAABhpQMslRAAAEGlAAAAAAAAIaUAJFtT//w9pQAAAAAAAGGlAyyVEAAAQaUDYHClOBghpQFkLYTP+D2lAIdbWsfkXaUBhHbfMARBpQNgcKU4GeGlAWQthM/5/aUAh1tax+YdpQGEdt8wBgGlAAAAAAAB4aUAJFtT//39pQAAAAAAAiGlAyyVEAACAaUAAAAAAAHhpQAkW1P//f2lAAAAAAACIaUDLJUQAAIBpQAAAAAAAgGlAAAAAAACAaUAAAAAAAIBpQAAAAAAAgGlAAAAAAAAAaUAAAAAAAABpQAAAAAAAAGlAAAAAAAAAaUAAAAAAAAhpQPfpKwAAAGlAAAAAAAD4aEA12rv///9oQAAAAAAACGlA9+krAAAAaUAAAAAAAPhoQDXau////2hAAAAAAAAAaUAAAAAAAABpQAAAAAAAAGlAAAAAAAAAaUAAAAAAAIBpQAAAAAAAgGlAAAAAAACAaUAAAAAAAIBpQM+fmSeohWlARQ0fAACAaUAxYGbYV3ppQPbPz///f2lAz5+ZJ6h1aUBFDR8AAHBpQDFgZthXamlA9s/P//9vaUDPn5knqHVpQEUNHwAAcGlAMWBm2FdqaUD2z8///29pQOz5/WKHuWlAYmeDO9+zaUBOusoTN65pQBMqNDvfs2lA7Pn9Yoe5aUBiZ4M737NpQE66yhM3rmlAEyo0O9+zaUDRItv5ftJpQMgMB/p+ymlA0SLb+X7CaUAG/Zb5fsppQINoEOZHjGlA+dWVvp+GaUDlKN2W94BpQKqYRr6fhmlA5SjdlveAaUBvu1e+n4ZpQINoEOZHjGlAvvimvp+GaUBnMiU/P51pQBWQ7Xw/nWlAafC1uj+daUB2k+18P51pQP11sKsm4WlAq9N46SbhaUD/M0EnJ+FpQAzXeOkm4WlA4/1VgB7yaUBtkNCnxvdpQIE9ic9u/WlAvM0fqMb3aUDH4CZ4bv1pQBepDqjG92lAnVq41x7yaUCRcL+nxvdpQDKdmwuHuWlAgmWDO9+zaUAIFy1rN65pQPwsNDvfs2lATrrKEzeuaUDYTEU737NpQOz5/WKHuWlAJ4qUO9+zaUDQwxK8fsppQH4h2/l+ymlA0oGjN3/KaUDfJNv5fsppQGUHnihmDmpAE2VmZmYOakBnxS6kZg5qQHRoZmZmDmpArR3eJAYdakAkRbEkBiVqQIlA3CQGLWpA5lQhJQYlakCQw3npJtlpQAfrTOkm4WlAbOZ36SbpaUDJ+rzpJuFpQOP9VYAe8mlAbZDQp8b3aUCBPYnPbv1pQLzNH6jG92lAtub4KB7yaUCOjtCnxvdpQK5U5iZv/WlApNAfqMb3aUDTQF1k/TVqQKvoNOOlO2pAy65KYk5BakDBKoTjpTtqQABYurv9NWpAiuo046U7akCel+0KTkFqQNknhOOlO2pAFa/LoUVKakCM1p6hRVJqQPHRyaFFWmpATuYOokVSakD4VGdmZgZqQG98OmZmDmpA1HdlZmYWakAxjKpmZg5qQEyPQ/1dH2pA1iG+JAYlakDqznZMripqQCVfDSUGJWpATI9D/V0fakDWIb4kBiVqQOrOdkyuKmpAJV8NJQYlakA3iUFg5WhqQDeJQWDlaGpAN4lBYOVoakA3iUFg5WhqQLvxUUYthWpAMV/XHoV/akAdsh733HlqQOIhiB6Ff2pAHbIe99x5akCnRJkehX9qQLvxUUYthWpA9oHoHoV/akAAWLq7/TVqQIrqNOOlO2pAnpftCk5BakDZJ4TjpTtqQABYurv9NWpAiuo046U7akCel+0KTkFqQNknhOOlO2pAtCAxep1MakA+s6uhRVJqQFJgZMntV2pAjfD6oUVSakBSYGTJ7VdqQMjN6aFFUmpAtCAxep1MakB5kJqhRVJqQG+6yATNm2pA5SdO3SSWakDRepW1fJBqQJbq/twklmpAb7rIBM2bakDlJ07dJJZqQNF6lbV8kGpAlur+3CSWakBU46WbxLRqQEvN0ZvErGpAVOOlm8SkakCJvWGbxKxqQAYp24eNbmpAfJZgYOVoakBo6ac4PWNqQC1ZEWDlaGpAaOmnOD1jakDyeyJg5WhqQAYp24eNbmpAQblxYOVoakDr8u/ghH9qQJlQuB6Ff2pA7bCAXIV/akD6U7gehX9qQIA2e01sw2pALpRDi2zDakCC9AvJbMNqQI+XQ4tsw2pAZr4gImTUakDwUJtJDNpqQAT+U3G032pAP47qSQzaakBKofEZtN9qQJpp2UkM2mpAIBuDeWTUakAUMYpJDNpqQLVdZq3Mm2pABSZO3SSWakCL1/cMfZBqQH/t/twklmpA0XqVtXyQakBbDRDdJJZqQG+6yATNm2pAqkpf3SSWakBThN1dxKxqQAHipZvErGpAVUJu2cSsakBi5aWbxKxqQOjHaMqr8GpAliUxCKzwakDqhflFrPBqQPcoMQis8GpAMN6oxkv/akCnBXzGSwdrQAwBp8ZLD2tAaRXsxksHa0AThESLbLtqQIqrF4tsw2pA76ZCi2zLakBMu4eLbMNqQGa+ICJk1GpA8FCbSQzaakAE/lNxtN9qQD+O6kkM2mpAOafDymPUakART5tJDNpqQDEVsci032pAJ5HqSQzaakBWASgGQxhrQC6p/4TrHWtATm8VBJQja0BE606F6x1rQIMYhV1DGGtADav/hOsda0AhWLiskyNrQFzoToXrHWtAmG+WQ4ssa0APl2lDizRrQHSSlEOLPGtA0abZQ4s0a0B7FTIIrOhqQPI8BQis8GpAVzgwCKz4akC0THUIrPBqQM9PDp+jAWtAWeKIxksHa0Btj0Hu8wxrQKgf2MZLB2tAz08On6MBa0BZ4ojGSwdrQG2PQe7zDGtAqB/YxksHa0C6SQwCK0trQLpJDAIrS2tAukkMAitLa0C6SQwCK0trQD6yHOhyZ2tAtB+iwMpha0CgcumYIlxrQGXiUsDKYWtAoHLpmCJca0AqBWTAymFrQD6yHOhyZ2tAeUKzwMpha0CDGIVdQxhrQA2r/4TrHWtAIVi4rJMja0Bc6E6F6x1rQIMYhV1DGGtADav/hOsda0AhWLiskyNrQFzoToXrHWtAN+H7G+Mua0DBc3ZDizRrQNUgL2szOmtAELHFQ4s0a0DVIC9rMzprQEuOtEOLNGtAN+H7G+Mua0D8UGVDizRrQCubPDhreGtAHN/5fmp4a0AbG7fFaXhrQPnU+X5qeGtAUC0VTWuJa0CqhXhuEo9rQFDtGZC5lGtAobTHbhKPa0Bl0M4+upRrQLWYtm4Sj2tAO0pgnmqJa0AvYGduEo9rQM+MQ9LSUGtAH1UrAitLa0ClBtUxg0VrQJkc3AErS2tA66ly2oJFa0B1PO0BK0trQInppSnTUGtAxHk8AitLa0Bus7qCymFrQBwRg8DKYWtAcHFL/spha0B9FIPAymFrQAP3Re+xpWtAsVQOLbKla0AFtdZqsqVrQBJYDi2ypWtA6X7rw6m2a0BzEWbrUbxrQIe+HhP6wWtAwk6161G8a0DNYby7+cFrQB0qpOtRvGtAo9tNG6q2a0CX8VTrUbxrQDgeMU8SfmtAiOYYf2p4a0AOmMKuwnJrQAKuyX5qeGtAVDtgV8Jya0Dezdp+anhrQPJ6k6YSfmtALQsqf2p4a0CB7f1GaolrQAuAeG4Sj2tAHy0xlrqUa0BavcduEo9rQFTWoO9piWtALH54bhKPa0BMRI7tupRrQELAx24Sj2tAcTAFK0nNa0BJ2Nyp8dJrQGme8iia2GtAXxosqvHSa0CeR2KCSc1rQCja3Knx0mtAPIeV0ZnYa0B3Fyyq8dJrQLOec2iR4WtAKsZGaJHpa0CPwXFokfFrQOzVtmiR6WtAlkQPLbKda0ANbOIssqVrQHJnDS2yrWtAz3tSLbKla0DpfuvDqbZrQHMRZutRvGtAh74eE/rBa0DCTrXrUbxrQLxnjmyptmtAlA9m61G8a0C01Xtq+sFrQKpRtetRvGtA2cHyp4j6a0CxacomMQBsQNEv4KXZBWxAx6sZJzEAbEC2/2f5h/prQPJlyiYxAGxA9PFqVNoFbECWsRknMQBsQKKiaOXQDmxAklc05dAWbEBw4Ffl0B5sQFNnpOXQFmxAbef7qfHKa0B2/c+p8dJrQG3n+6nx2mtAOA1AqvHSa0BSENlA6eNrQNyiU2iR6WtA8E8MkDnva0Ar4KJokelrQFIQ2UDp42tA3KJTaJHpa0DwTwyQOe9rQCvgomiR6WtAPQrXo3AtbEA9CtejcC1sQD0K16NwLWxAPQrXo3AtbEDBcueJuElsQDfgbGIQRGxAIzO0Omg+bEDooh1iEERsQCMztDpoPmxArcUuYhBEbEDBcueJuElsQPwCfmIQRGxABtlP/4j6a0CQa8omMQBsQKQYg07ZBWxA36gZJzEAbEAG2U//iPprQJBryiYxAGxApBiDTtkFbEDfqBknMQBsQIjil6fQFmxANkBg5dAWbECKoCgj0RZsQJdDYOXQFmxAHiYjFLhabEDMg+tRuFpsQCDks4+4WmxALYfrUbhabEAErsjor2tsQI5AQxBYcWxAou37NwB3bEDdfZIQWHFsQOiQmeD/dmxAOFmBEFhxbEC+CitAsGtsQLIgMhBYcWxAUk0OdBgzbECiFfajcC1sQCjHn9PIJ2xAHN2mo3AtbEBuaj18yCdsQPj8t6NwLWxADKpwyxgzbEBHOgekcC1sQPFzhSQQRGxAn9FNYhBEbEDzMRagEERsQADVTWIQRGxAhrcQkfeHbEA0FdnO94dsQIh1oQz4h2xAlRjZzveHbEDNzVCNl5ZsQET1I42XnmxAqfBOjZembEAGBZSNl55sQLFz7FG4UmxAKJu/UbhabECNlupRuGJsQOqqL1K4WmxABK7I6K9rbECOQEMQWHFsQKLt+zcAd2xA3X2SEFhxbEDXlmuRr2tsQK8+QxBYcWxAzwRZjwB3bEDFgJIQWHFsQPTwz8yOr2xAzJinSze1bEDsXr3K37psQOLa9ks3tWxAIQgtJI+vbECrmqdLN7VsQL9HYHPfumxA+tf2Sze1bEA2Xz4K18NsQK2GEQrXy2xAEoI8CtfTbEBvloEK18tsQBkF2s73f2xAkCytzveHbED1J9jO949sQFI8Hc/3h2xAO99PjZeebEA730+Nl55sQDvfT42XnmxAO99PjZeebEBYObTIduJsQFg5tMh24mxAWDm0yHbibEBYObTIduJsQAwCK4cW8WxAFRj/hhb5bEAMAiuHFgFtQNcnb4cW+WxA8KfGSzetbED5vZpLN7VsQPCnxks3vWxAu80KTDe1bEDV0KPiLsZsQF9jHgrXy2xAcxDXMX/RbECuoG0K18tsQHMQ1zF/0WxA6X1cCtfLbEDV0KPiLsZsQJpADQrXy2xAkGo7bV4VbUAG2MBFtg9tQPIqCB4OCm1At5pxRbYPbUDyKggeDgptQHy9gkW2D21AkGo7bV4VbUDL+tFFtg9tQKbzftytIG1AMIb5A1YmbUBEM7Ir/ittQH/DSARWJm1ApvN+3K0gbUAwhvkDViZtQEQzsiv+K21Af8NIBFYmbUCJmRqhztxsQBMslch24mxAJ9lN8B7obEBiaeTIduJsQImZGqHO3GxAEyyVyHbibEAn2U3wHuhsQGJp5Mh24mxAC6NiSRb5bEC5ACuHFvlsQA1h88QW+WxAGgQrhxb5bECh5u21/TxtQE9EtvP9PG1Ao6R+Mf48bUCwR7bz/TxtQIduk4r1TW1AEQEOsp1TbUAlrsbZRVltQGA+XbKdU21Aa1FkgkVZbUC7GUyynVNtQEHL9eH1TW1ANeH8sZ1TbUDWDdkVXhVtQCbWwEW2D21ArIdqdQ4KbUCgnXFFtg9tQPIqCB4OCm1AfL2CRbYPbUCQajttXhVtQMv60UW2D21AdDRQxlUmbUAikhgEViZtQHby4EFWJm1Ag5UYBFYmbUAJeNsyPWptQLfVo3A9am1ACzZsrj1qbUAY2aNwPWptQFCOGy/deG1Ax7XuLt2AbUAssRkv3YhtQInFXi/dgG1ANDS38/00bUCrW4rz/TxtQBBXtfP9RG1AbWv68/08bUCHbpOK9U1tQBEBDrKdU21AJa7G2UVZbUBgPl2ynVNtQFpXNjP1TW1AMv8Nsp1TbUBSxSMxRlltQEhBXbKdU21Ad7GabtSRbUBPWXLtfJdtQG8fiGwlnW1AZZvB7XyXbUA=",
                    "dtype": "f8"
                  },
                  "y": {
                    "bdata": "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",
                    "dtype": "f8"
                  },
                  "z": {
                    "bdata": "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",
                    "dtype": "f8"
                  }
                },
                {
                  "marker": {
                    "color": "red",
                    "size": 2
                  },
                  "mode": "markers",
                  "showlegend": false,
                  "type": "scatter3d",
                  "x": [],
                  "y": [],
                  "z": []
                }
              ],
              "layout": {
                "height": 500,
                "margin": {
                  "b": 10,
                  "l": 10,
                  "pad": 4,
                  "r": 10,
                  "t": 10
                },
                "paper_bgcolor": "black",
                "scene": {
                  "aspectmode": "cube",
                  "camera": {
                    "center": {
                      "x": 0,
                      "y": 0,
                      "z": -0.48938954224034564
                    },
                    "eye": {
                      "x": -0.7142857142857143,
                      "y": -1.4285714285714286,
                      "z": 0.2142857142857143
                    }
                  },
                  "xaxis": {
                    "backgroundcolor": "black",
                    "nticks": 10,
                    "range": [
                      194.8053491861042,
                      241.9286695296638
                    ]
                  },
                  "yaxis": {
                    "backgroundcolor": "black",
                    "nticks": 10,
                    "range": [
                      198.12767965644036,
                      245.25099999999998
                    ]
                  },
                  "zaxis": {
                    "backgroundcolor": "black",
                    "nticks": 10,
                    "range": [
                      0,
                      47.123320343559634
                    ]
                  }
                },
                "template": {
                  "data": {
                    "bar": [
                      {
                        "error_x": {
                          "color": "#f2f5fa"
                        },
                        "error_y": {
                          "color": "#f2f5fa"
                        },
                        "marker": {
                          "line": {
                            "color": "rgb(17,17,17)",
                            "width": 0.5
                          },
                          "pattern": {
                            "fillmode": "overlay",
                            "size": 10,
                            "solidity": 0.2
                          }
                        },
                        "type": "bar"
                      }
                    ],
                    "barpolar": [
                      {
                        "marker": {
                          "line": {
                            "color": "rgb(17,17,17)",
                            "width": 0.5
                          },
                          "pattern": {
                            "fillmode": "overlay",
                            "size": 10,
                            "solidity": 0.2
                          }
                        },
                        "type": "barpolar"
                      }
                    ],
                    "carpet": [
                      {
                        "aaxis": {
                          "endlinecolor": "#A2B1C6",
                          "gridcolor": "#506784",
                          "linecolor": "#506784",
                          "minorgridcolor": "#506784",
                          "startlinecolor": "#A2B1C6"
                        },
                        "baxis": {
                          "endlinecolor": "#A2B1C6",
                          "gridcolor": "#506784",
                          "linecolor": "#506784",
                          "minorgridcolor": "#506784",
                          "startlinecolor": "#A2B1C6"
                        },
                        "type": "carpet"
                      }
                    ],
                    "choropleth": [
                      {
                        "colorbar": {
                          "outlinewidth": 0,
                          "ticks": ""
                        },
                        "type": "choropleth"
                      }
                    ],
                    "contour": [
                      {
                        "colorbar": {
                          "outlinewidth": 0,
                          "ticks": ""
                        },
                        "colorscale": [
                          [
                            0,
                            "#0d0887"
                          ],
                          [
                            0.1111111111111111,
                            "#46039f"
                          ],
                          [
                            0.2222222222222222,
                            "#7201a8"
                          ],
                          [
                            0.3333333333333333,
                            "#9c179e"
                          ],
                          [
                            0.4444444444444444,
                            "#bd3786"
                          ],
                          [
                            0.5555555555555556,
                            "#d8576b"
                          ],
                          [
                            0.6666666666666666,
                            "#ed7953"
                          ],
                          [
                            0.7777777777777778,
                            "#fb9f3a"
                          ],
                          [
                            0.8888888888888888,
                            "#fdca26"
                          ],
                          [
                            1,
                            "#f0f921"
                          ]
                        ],
                        "type": "contour"
                      }
                    ],
                    "contourcarpet": [
                      {
                        "colorbar": {
                          "outlinewidth": 0,
                          "ticks": ""
                        },
                        "type": "contourcarpet"
                      }
                    ],
                    "heatmap": [
                      {
                        "colorbar": {
                          "outlinewidth": 0,
                          "ticks": ""
                        },
                        "colorscale": [
                          [
                            0,
                            "#0d0887"
                          ],
                          [
                            0.1111111111111111,
                            "#46039f"
                          ],
                          [
                            0.2222222222222222,
                            "#7201a8"
                          ],
                          [
                            0.3333333333333333,
                            "#9c179e"
                          ],
                          [
                            0.4444444444444444,
                            "#bd3786"
                          ],
                          [
                            0.5555555555555556,
                            "#d8576b"
                          ],
                          [
                            0.6666666666666666,
                            "#ed7953"
                          ],
                          [
                            0.7777777777777778,
                            "#fb9f3a"
                          ],
                          [
                            0.8888888888888888,
                            "#fdca26"
                          ],
                          [
                            1,
                            "#f0f921"
                          ]
                        ],
                        "type": "heatmap"
                      }
                    ],
                    "histogram": [
                      {
                        "marker": {
                          "pattern": {
                            "fillmode": "overlay",
                            "size": 10,
                            "solidity": 0.2
                          }
                        },
                        "type": "histogram"
                      }
                    ],
                    "histogram2d": [
                      {
                        "colorbar": {
                          "outlinewidth": 0,
                          "ticks": ""
                        },
                        "colorscale": [
                          [
                            0,
                            "#0d0887"
                          ],
                          [
                            0.1111111111111111,
                            "#46039f"
                          ],
                          [
                            0.2222222222222222,
                            "#7201a8"
                          ],
                          [
                            0.3333333333333333,
                            "#9c179e"
                          ],
                          [
                            0.4444444444444444,
                            "#bd3786"
                          ],
                          [
                            0.5555555555555556,
                            "#d8576b"
                          ],
                          [
                            0.6666666666666666,
                            "#ed7953"
                          ],
                          [
                            0.7777777777777778,
                            "#fb9f3a"
                          ],
                          [
                            0.8888888888888888,
                            "#fdca26"
                          ],
                          [
                            1,
                            "#f0f921"
                          ]
                        ],
                        "type": "histogram2d"
                      }
                    ],
                    "histogram2dcontour": [
                      {
                        "colorbar": {
                          "outlinewidth": 0,
                          "ticks": ""
                        },
                        "colorscale": [
                          [
                            0,
                            "#0d0887"
                          ],
                          [
                            0.1111111111111111,
                            "#46039f"
                          ],
                          [
                            0.2222222222222222,
                            "#7201a8"
                          ],
                          [
                            0.3333333333333333,
                            "#9c179e"
                          ],
                          [
                            0.4444444444444444,
                            "#bd3786"
                          ],
                          [
                            0.5555555555555556,
                            "#d8576b"
                          ],
                          [
                            0.6666666666666666,
                            "#ed7953"
                          ],
                          [
                            0.7777777777777778,
                            "#fb9f3a"
                          ],
                          [
                            0.8888888888888888,
                            "#fdca26"
                          ],
                          [
                            1,
                            "#f0f921"
                          ]
                        ],
                        "type": "histogram2dcontour"
                      }
                    ],
                    "mesh3d": [
                      {
                        "colorbar": {
                          "outlinewidth": 0,
                          "ticks": ""
                        },
                        "type": "mesh3d"
                      }
                    ],
                    "parcoords": [
                      {
                        "line": {
                          "colorbar": {
                            "outlinewidth": 0,
                            "ticks": ""
                          }
                        },
                        "type": "parcoords"
                      }
                    ],
                    "pie": [
                      {
                        "automargin": true,
                        "type": "pie"
                      }
                    ],
                    "scatter": [
                      {
                        "marker": {
                          "line": {
                            "color": "#283442"
                          }
                        },
                        "type": "scatter"
                      }
                    ],
                    "scatter3d": [
                      {
                        "line": {
                          "colorbar": {
                            "outlinewidth": 0,
                            "ticks": ""
                          }
                        },
                        "marker": {
                          "colorbar": {
                            "outlinewidth": 0,
                            "ticks": ""
                          }
                        },
                        "type": "scatter3d"
                      }
                    ],
                    "scattercarpet": [
                      {
                        "marker": {
                          "colorbar": {
                            "outlinewidth": 0,
                            "ticks": ""
                          }
                        },
                        "type": "scattercarpet"
                      }
                    ],
                    "scattergeo": [
                      {
                        "marker": {
                          "colorbar": {
                            "outlinewidth": 0,
                            "ticks": ""
                          }
                        },
                        "type": "scattergeo"
                      }
                    ],
                    "scattergl": [
                      {
                        "marker": {
                          "line": {
                            "color": "#283442"
                          }
                        },
                        "type": "scattergl"
                      }
                    ],
                    "scattermap": [
                      {
                        "marker": {
                          "colorbar": {
                            "outlinewidth": 0,
                            "ticks": ""
                          }
                        },
                        "type": "scattermap"
                      }
                    ],
                    "scattermapbox": [
                      {
                        "marker": {
                          "colorbar": {
                            "outlinewidth": 0,
                            "ticks": ""
                          }
                        },
                        "type": "scattermapbox"
                      }
                    ],
                    "scatterpolar": [
                      {
                        "marker": {
                          "colorbar": {
                            "outlinewidth": 0,
                            "ticks": ""
                          }
                        },
                        "type": "scatterpolar"
                      }
                    ],
                    "scatterpolargl": [
                      {
                        "marker": {
                          "colorbar": {
                            "outlinewidth": 0,
                            "ticks": ""
                          }
                        },
                        "type": "scatterpolargl"
                      }
                    ],
                    "scatterternary": [
                      {
                        "marker": {
                          "colorbar": {
                            "outlinewidth": 0,
                            "ticks": ""
                          }
                        },
                        "type": "scatterternary"
                      }
                    ],
                    "surface": [
                      {
                        "colorbar": {
                          "outlinewidth": 0,
                          "ticks": ""
                        },
                        "colorscale": [
                          [
                            0,
                            "#0d0887"
                          ],
                          [
                            0.1111111111111111,
                            "#46039f"
                          ],
                          [
                            0.2222222222222222,
                            "#7201a8"
                          ],
                          [
                            0.3333333333333333,
                            "#9c179e"
                          ],
                          [
                            0.4444444444444444,
                            "#bd3786"
                          ],
                          [
                            0.5555555555555556,
                            "#d8576b"
                          ],
                          [
                            0.6666666666666666,
                            "#ed7953"
                          ],
                          [
                            0.7777777777777778,
                            "#fb9f3a"
                          ],
                          [
                            0.8888888888888888,
                            "#fdca26"
                          ],
                          [
                            1,
                            "#f0f921"
                          ]
                        ],
                        "type": "surface"
                      }
                    ],
                    "table": [
                      {
                        "cells": {
                          "fill": {
                            "color": "#506784"
                          },
                          "line": {
                            "color": "rgb(17,17,17)"
                          }
                        },
                        "header": {
                          "fill": {
                            "color": "#2a3f5f"
                          },
                          "line": {
                            "color": "rgb(17,17,17)"
                          }
                        },
                        "type": "table"
                      }
                    ]
                  },
                  "layout": {
                    "annotationdefaults": {
                      "arrowcolor": "#f2f5fa",
                      "arrowhead": 0,
                      "arrowwidth": 1
                    },
                    "autotypenumbers": "strict",
                    "coloraxis": {
                      "colorbar": {
                        "outlinewidth": 0,
                        "ticks": ""
                      }
                    },
                    "colorscale": {
                      "diverging": [
                        [
                          0,
                          "#8e0152"
                        ],
                        [
                          0.1,
                          "#c51b7d"
                        ],
                        [
                          0.2,
                          "#de77ae"
                        ],
                        [
                          0.3,
                          "#f1b6da"
                        ],
                        [
                          0.4,
                          "#fde0ef"
                        ],
                        [
                          0.5,
                          "#f7f7f7"
                        ],
                        [
                          0.6,
                          "#e6f5d0"
                        ],
                        [
                          0.7,
                          "#b8e186"
                        ],
                        [
                          0.8,
                          "#7fbc41"
                        ],
                        [
                          0.9,
                          "#4d9221"
                        ],
                        [
                          1,
                          "#276419"
                        ]
                      ],
                      "sequential": [
                        [
                          0,
                          "#0d0887"
                        ],
                        [
                          0.1111111111111111,
                          "#46039f"
                        ],
                        [
                          0.2222222222222222,
                          "#7201a8"
                        ],
                        [
                          0.3333333333333333,
                          "#9c179e"
                        ],
                        [
                          0.4444444444444444,
                          "#bd3786"
                        ],
                        [
                          0.5555555555555556,
                          "#d8576b"
                        ],
                        [
                          0.6666666666666666,
                          "#ed7953"
                        ],
                        [
                          0.7777777777777778,
                          "#fb9f3a"
                        ],
                        [
                          0.8888888888888888,
                          "#fdca26"
                        ],
                        [
                          1,
                          "#f0f921"
                        ]
                      ],
                      "sequentialminus": [
                        [
                          0,
                          "#0d0887"
                        ],
                        [
                          0.1111111111111111,
                          "#46039f"
                        ],
                        [
                          0.2222222222222222,
                          "#7201a8"
                        ],
                        [
                          0.3333333333333333,
                          "#9c179e"
                        ],
                        [
                          0.4444444444444444,
                          "#bd3786"
                        ],
                        [
                          0.5555555555555556,
                          "#d8576b"
                        ],
                        [
                          0.6666666666666666,
                          "#ed7953"
                        ],
                        [
                          0.7777777777777778,
                          "#fb9f3a"
                        ],
                        [
                          0.8888888888888888,
                          "#fdca26"
                        ],
                        [
                          1,
                          "#f0f921"
                        ]
                      ]
                    },
                    "colorway": [
                      "#636efa",
                      "#EF553B",
                      "#00cc96",
                      "#ab63fa",
                      "#FFA15A",
                      "#19d3f3",
                      "#FF6692",
                      "#B6E880",
                      "#FF97FF",
                      "#FECB52"
                    ],
                    "font": {
                      "color": "#f2f5fa"
                    },
                    "geo": {
                      "bgcolor": "rgb(17,17,17)",
                      "lakecolor": "rgb(17,17,17)",
                      "landcolor": "rgb(17,17,17)",
                      "showlakes": true,
                      "showland": true,
                      "subunitcolor": "#506784"
                    },
                    "hoverlabel": {
                      "align": "left"
                    },
                    "hovermode": "closest",
                    "mapbox": {
                      "style": "dark"
                    },
                    "paper_bgcolor": "rgb(17,17,17)",
                    "plot_bgcolor": "rgb(17,17,17)",
                    "polar": {
                      "angularaxis": {
                        "gridcolor": "#506784",
                        "linecolor": "#506784",
                        "ticks": ""
                      },
                      "bgcolor": "rgb(17,17,17)",
                      "radialaxis": {
                        "gridcolor": "#506784",
                        "linecolor": "#506784",
                        "ticks": ""
                      }
                    },
                    "scene": {
                      "xaxis": {
                        "backgroundcolor": "rgb(17,17,17)",
                        "gridcolor": "#506784",
                        "gridwidth": 2,
                        "linecolor": "#506784",
                        "showbackground": true,
                        "ticks": "",
                        "zerolinecolor": "#C8D4E3"
                      },
                      "yaxis": {
                        "backgroundcolor": "rgb(17,17,17)",
                        "gridcolor": "#506784",
                        "gridwidth": 2,
                        "linecolor": "#506784",
                        "showbackground": true,
                        "ticks": "",
                        "zerolinecolor": "#C8D4E3"
                      },
                      "zaxis": {
                        "backgroundcolor": "rgb(17,17,17)",
                        "gridcolor": "#506784",
                        "gridwidth": 2,
                        "linecolor": "#506784",
                        "showbackground": true,
                        "ticks": "",
                        "zerolinecolor": "#C8D4E3"
                      }
                    },
                    "shapedefaults": {
                      "line": {
                        "color": "#f2f5fa"
                      }
                    },
                    "sliderdefaults": {
                      "bgcolor": "#C8D4E3",
                      "bordercolor": "rgb(17,17,17)",
                      "borderwidth": 1,
                      "tickwidth": 0
                    },
                    "ternary": {
                      "aaxis": {
                        "gridcolor": "#506784",
                        "linecolor": "#506784",
                        "ticks": ""
                      },
                      "baxis": {
                        "gridcolor": "#506784",
                        "linecolor": "#506784",
                        "ticks": ""
                      },
                      "bgcolor": "rgb(17,17,17)",
                      "caxis": {
                        "gridcolor": "#506784",
                        "linecolor": "#506784",
                        "ticks": ""
                      }
                    },
                    "title": {
                      "x": 0.05
                    },
                    "updatemenudefaults": {
                      "bgcolor": "#506784",
                      "borderwidth": 0
                    },
                    "xaxis": {
                      "automargin": true,
                      "gridcolor": "#283442",
                      "linecolor": "#506784",
                      "ticks": "",
                      "title": {
                        "standoff": 15
                      },
                      "zerolinecolor": "#283442",
                      "zerolinewidth": 2
                    },
                    "yaxis": {
                      "automargin": true,
                      "gridcolor": "#283442",
                      "linecolor": "#506784",
                      "ticks": "",
                      "title": {
                        "standoff": 15
                      },
                      "zerolinecolor": "#283442",
                      "zerolinewidth": 2
                    }
                  }
                },
                "width": 800
              }
            }
          },
          "metadata": {},
          "output_type": "display_data"
        }
      ],
      "source": [
        "# preview the design\n",
        "\n",
        "fc.transform(steps, 'plot', fc.PlotControls(style='line', zoom=0.7))\n",
        "# hover the cursor over the lines in the plot to check xyz positions of the points in the design\n",
        "\n",
        "# uncomment the next line to create a plot with real heights/widths for extruded lines to preview the real 3D printed geometry\n",
        "fc.transform(steps, 'plot', fc.PlotControls(style='tube', zoom=0.7, initialization_data={'extrusion_width': EW, 'extrusion_height': EH}))\n",
        "\n",
        "# uncomment the next line to create a neat preview (click the top-left button in the plot for a .png file) - post and tag @FullControlXYZ :)\n",
        "# fc.transform(steps, 'plot', fc.PlotControls(neat_for_publishing=True, zoom=0.5, initialization_data={'extrusion_width': EW, 'extrusion_height': EH}))\n"
      ]
    },
    {
      "cell_type": "code",
      "execution_count": null,
      "metadata": {
        "colab": {
          "base_uri": "https://localhost:8080/",
          "height": 17
        },
        "id": "tggFoUeJReQR",
        "outputId": "3e9733ce-224b-4aa9-abe7-d54bca6a0a96"
      },
      "outputs": [],
      "source": [
        "# generate and save gcode\n",
        "\n",
        "gcode_controls = fc.GcodeControls(\n",
        "    printer_name=printer_name,\n",
        "    save_as=design_name,\n",
        "    initialization_data={\n",
        "        'primer': 'front_lines_then_y',\n",
        "        'print_speed': print_speed,\n",
        "        'nozzle_temp': nozzle_temp,\n",
        "        'bed_temp': bed_temp,\n",
        "        'fan_percent': fan_percent,\n",
        "        'extrusion_width': EW,\n",
        "        'extrusion_height': EH})\n",
        "gcode = fc.transform(steps, 'gcode', gcode_controls)"
      ]
    },
    {
      "attachments": {},
      "cell_type": "markdown",
      "metadata": {},
      "source": [
        "#### please tell us what you're doing with FullControl!\n",
        "\n",
        "- tag FullControlXYZ on social media ([twitter](https://twitter.com/FullControlXYZ), [instagram](https://www.instagram.com/fullcontrolxyz/), [linkedin](https://www.linkedin.com/in/andrew-gleadall-068587119/), [tiktok](https://www.tiktok.com/@fullcontrolxyz))\n",
        "- email [info@fullcontrol.xyz](mailto:info@fullcontrol.xyz)\n",
        "- post on the [subreddit](https://reddit.com/r/fullcontrol)\n",
        "- post in the [github discussions or issues tabs](https://github.com/FullControlXYZ/fullcontrol/issues)\n",
        "\n",
        "in publications, please cite the original FullControl paper and the github repo for the new python version:\n",
        "\n",
        "- Gleadall, A. (2021). FullControl GCode Designer: open-source software for unconstrained design in additive manufacturing. Additive Manufacturing, 46, 102109. \n",
        "- Gleadall, A. and Leas, D. (2023). FullControl [electronic resource: python source code]. available at: https://github.com/FullControlXYZ/fullcontrol"
      ]
    }
  ],
  "metadata": {
    "colab": {
      "include_colab_link": true,
      "provenance": []
    },
    "kernelspec": {
      "display_name": "base",
      "language": "python",
      "name": "python3"
    },
    "language_info": {
      "codemirror_mode": {
        "name": "ipython",
        "version": 3
      },
      "file_extension": ".py",
      "mimetype": "text/x-python",
      "name": "python",
      "nbconvert_exporter": "python",
      "pygments_lexer": "ipython3",
      "version": "3.12.9"
    }
  },
  "nbformat": 4,
  "nbformat_minor": 0
}
