{
  "cells": [
    {
      "attachments": {},
      "cell_type": "markdown",
      "metadata": {
        "id": "ac9_FmrCOwQL"
      },
      "source": [
        "# FullControl design template\n",
        "\n",
        "*<<< check out demo models [here](https://github.com/FullControlXYZ/fullcontrol/tree/master/models/README.md) >>>*\n",
        "  \n",
        "run all cells in this notebook, or press shift+enter to run each cell sequentially \n",
        "\n",
        "if you change one of the code cells, make sure you run it and all subsequent cells again (in order)\n",
        "\n",
        "*this document is a jupyter notebook - if they're new to you, check out how they work: [link](https://www.google.com/search?q=ipynb+tutorial), [link](https://jupyter.org/try-jupyter/retro/notebooks/?path=notebooks/Intro.ipynb), [link](https://colab.research.google.com/)*"
      ]
    },
    {
      "cell_type": "code",
      "execution_count": 1,
      "metadata": {
        "id": "57XXnogSOvDx"
      },
      "outputs": [],
      "source": [
        "import fullcontrol as fc"
      ]
    },
    {
      "cell_type": "code",
      "execution_count": 2,
      "metadata": {},
      "outputs": [],
      "source": [
        "# printer/gcode parameters\n",
        "\n",
        "design_name = 'square'\n",
        "nozzle_temp = 0\n",
        "bed_temp = 0\n",
        "print_speed = 300\n",
        "fan_percent = 0\n",
        "printer_name='stoneflower3d' # generic / ultimaker2plus / prusa_i3 / ender_3 / cr_10 / bambulab_x1 / toolchanger_T0"
      ]
    },
    {
      "cell_type": "code",
      "execution_count": 57,
      "metadata": {
        "id": "DeWKjlzbPC0u"
      },
      "outputs": [],
      "source": [
        "# design parameters\n",
        "\n",
        "EW = 0.5 # extrusion width\n",
        "EH = 0.25 # extrusion height (and layer height)\n",
        "initial_z = EH*1 # initial nozzle position is set to 1x the extrusion height to get a bit of 'squish' for good bed adhesion\n",
        "layers = 4\n",
        "s=20 #side length of the square\n"
      ]
    },
    {
      "cell_type": "code",
      "execution_count": 60,
      "metadata": {
        "id": "kLPh7aTwQKrF"
      },
      "outputs": [
        {
          "name": "stdout",
          "output_type": "stream",
          "text": [
            "x=200.5 y=219.5 z=0.25 color=None\n",
            "x=200.5 y=219.5 z=0.5 color=None\n",
            "x=200.5 y=219.5 z=0.75 color=None\n",
            "x=200.5 y=219.5 z=1.0 color=None\n"
          ]
        }
      ],
      "source": [
        "# generate the design (make sure you've run the above cells before running this cell)\n",
        "initial_xyz=fc.Point(x=200, y=200, z=initial_z)\n",
        "steps = []\n",
        "#Generate the layer patterns such that no travel is require between the layers\n",
        "for layer in range(layers):\n",
        "        layer1=[]\n",
        "        first_point=fc.move(initial_xyz,fc.Vector(z=EH*layer))\n",
        "        rectangle_steps = fc.rectangleXY(first_point, s, s, cw = True)\n",
        "        start_point = fc.move(first_point,fc.Vector(x=EW,y=EW))\n",
        "        direction = fc.Vector(x=0,y=1)\n",
        "        amplitude = -(s-2*EW)\n",
        "        line_spacing = 1\n",
        "        periods = s//2\n",
        "        extra_half_period = False\n",
        "        extra_end_line = False\n",
        "        infill_steps = fc.squarewaveXY(start_point, direction, amplitude, line_spacing, periods, extra_half_period, extra_end_line)\n",
        "        layer1.append(rectangle_steps)\n",
        "        layer1.append(infill_steps)\n",
        "        print(infill_steps[-1])        \n",
        "    \n",
        "        layer2=[]\n",
        "        first_point=fc.move(initial_xyz,fc.Vector(y=s,z=EH*layer))\n",
        "        rectangle_steps = fc.rectangleXY(first_point, s, -s, cw = True)\n",
        "        start_point = fc.move(first_point,fc.Vector(x=EW,y=-EW))\n",
        "        direction = fc.Vector(x=1,y=0)\n",
        "        amplitude = -(s-2*EW)\n",
        "        line_spacing = 1\n",
        "        periods = s//2\n",
        "        extra_half_period = False\n",
        "        extra_end_line = False\n",
        "        infill_steps = fc.squarewaveXY(start_point, direction, amplitude, line_spacing, periods, extra_half_period, extra_end_line)\n",
        "        layer2.append(rectangle_steps)\n",
        "        layer2.append(infill_steps)\n",
        "        \n",
        "        layer3=[]\n",
        "        first_point=fc.move(initial_xyz,fc.Vector(x=s,z=EH*layer))\n",
        "        rectangle_steps = fc.rectangleXY(first_point, -s, s, cw = True)\n",
        "        start_point = fc.move(first_point,fc.Vector(x=-EW,y=EW))\n",
        "        direction = fc.Vector(x=0,y=1)\n",
        "        amplitude = (s-2*EW)\n",
        "        line_spacing = 1\n",
        "        periods = s//2\n",
        "        extra_half_period = False\n",
        "        extra_end_line = False\n",
        "        infill_steps = fc.squarewaveXY(start_point, direction, amplitude, line_spacing, periods, extra_half_period, extra_end_line)\n",
        "        layer3.append(rectangle_steps)\n",
        "        layer3.append(infill_steps)\n",
        "\n",
        "        layer4=[]\n",
        "        first_point=fc.move(initial_xyz,fc.Vector(x=s,y=s,z=EH*layer))\n",
        "        rectangle_steps = fc.rectangleXY(first_point, -s, -s, cw = True)\n",
        "        start_point = fc.move(first_point,fc.Vector(x=-EW,y=-EW))\n",
        "        direction = fc.Vector(x=-1,y=0)\n",
        "        amplitude = (s-2*EW)\n",
        "        line_spacing = 1\n",
        "        periods = s//2\n",
        "        extra_half_period = False\n",
        "        extra_end_line = False\n",
        "        infill_steps = fc.squarewaveXY(start_point, direction, amplitude, line_spacing, periods, extra_half_period, extra_end_line)\n",
        "        layer4.append(rectangle_steps)\n",
        "        layer4.append(infill_steps)\n",
        "        layertypes=[layer1,layer2,layer3,layer4]\n",
        "        steps.extend(layertypes[layer%len(layertypes)]) \n",
        "\n",
        "#steps = fc.move(rectangle_steps, fc.Vector(z=EH), copy=True, copy_quantity=layers)"
      ]
    },
    {
      "cell_type": "code",
      "execution_count": 61,
      "metadata": {
        "id": "ZVdfnpt5RSUi"
      },
      "outputs": [
        {
          "name": "stdout",
          "output_type": "stream",
          "text": [
            "warning - the list of steps should be a 1D list of fullcontrol class instances, it currently includes a 'list'\n",
            "   - fc.flatten() is being used to convert the design to a 1D list\n"
          ]
        },
        {
          "data": {
            "application/vnd.plotly.v1+json": {
              "config": {
                "plotlyServerURL": "https://plot.ly"
              },
              "data": [
                {
                  "line": {
                    "color": [
                      "rgb(0.00, 0.00, 255.00)",
                      "rgb(0.00, 0.00, 255.00)",
                      "rgb(0.00, 0.00, 255.00)",
                      "rgb(0.00, 0.00, 255.00)",
                      "rgb(0.00, 0.00, 255.00)",
                      "rgb(0.00, 0.00, 255.00)",
                      "rgb(0.00, 0.00, 255.00)",
                      "rgb(0.00, 0.00, 255.00)",
                      "rgb(0.00, 0.00, 255.00)",
                      "rgb(0.00, 0.00, 255.00)",
                      "rgb(0.00, 0.00, 255.00)",
                      "rgb(0.00, 0.00, 255.00)",
                      "rgb(0.00, 0.00, 255.00)",
                      "rgb(0.00, 0.00, 255.00)",
                      "rgb(0.00, 0.00, 255.00)",
                      "rgb(0.00, 0.00, 255.00)",
                      "rgb(0.00, 0.00, 255.00)",
                      "rgb(0.00, 0.00, 255.00)",
                      "rgb(0.00, 0.00, 255.00)",
                      "rgb(0.00, 0.00, 255.00)",
                      "rgb(0.00, 0.00, 255.00)",
                      "rgb(0.00, 0.00, 255.00)",
                      "rgb(0.00, 0.00, 255.00)",
                      "rgb(0.00, 0.00, 255.00)",
                      "rgb(0.00, 0.00, 255.00)",
                      "rgb(0.00, 0.00, 255.00)",
                      "rgb(0.00, 0.00, 255.00)",
                      "rgb(0.00, 0.00, 255.00)",
                      "rgb(0.00, 0.00, 255.00)",
                      "rgb(0.00, 0.00, 255.00)",
                      "rgb(0.00, 0.00, 255.00)",
                      "rgb(0.00, 0.00, 255.00)",
                      "rgb(0.00, 0.00, 255.00)",
                      "rgb(0.00, 0.00, 255.00)",
                      "rgb(0.00, 0.00, 255.00)",
                      "rgb(0.00, 0.00, 255.00)",
                      "rgb(0.00, 0.00, 255.00)",
                      "rgb(0.00, 0.00, 255.00)",
                      "rgb(0.00, 0.00, 255.00)",
                      "rgb(0.00, 0.00, 255.00)",
                      "rgb(0.00, 0.00, 255.00)",
                      "rgb(0.00, 0.00, 255.00)",
                      "rgb(0.00, 0.00, 255.00)",
                      "rgb(0.00, 0.00, 255.00)",
                      "rgb(0.00, 0.00, 255.00)",
                      "rgb(0.00, 84.92, 255.00)",
                      "rgb(0.00, 84.92, 255.00)",
                      "rgb(0.00, 84.92, 255.00)",
                      "rgb(0.00, 84.92, 255.00)",
                      "rgb(0.00, 84.92, 255.00)",
                      "rgb(0.00, 84.92, 255.00)",
                      "rgb(0.00, 84.92, 255.00)",
                      "rgb(0.00, 84.92, 255.00)",
                      "rgb(0.00, 84.92, 255.00)",
                      "rgb(0.00, 84.92, 255.00)",
                      "rgb(0.00, 84.92, 255.00)",
                      "rgb(0.00, 84.92, 255.00)",
                      "rgb(0.00, 84.92, 255.00)",
                      "rgb(0.00, 84.92, 255.00)",
                      "rgb(0.00, 84.92, 255.00)",
                      "rgb(0.00, 84.92, 255.00)",
                      "rgb(0.00, 84.92, 255.00)",
                      "rgb(0.00, 84.92, 255.00)",
                      "rgb(0.00, 84.92, 255.00)",
                      "rgb(0.00, 84.92, 255.00)",
                      "rgb(0.00, 84.92, 255.00)",
                      "rgb(0.00, 84.92, 255.00)",
                      "rgb(0.00, 84.92, 255.00)",
                      "rgb(0.00, 84.92, 255.00)",
                      "rgb(0.00, 84.92, 255.00)",
                      "rgb(0.00, 84.92, 255.00)",
                      "rgb(0.00, 84.92, 255.00)",
                      "rgb(0.00, 84.92, 255.00)",
                      "rgb(0.00, 84.92, 255.00)",
                      "rgb(0.00, 84.92, 255.00)",
                      "rgb(0.00, 84.92, 255.00)",
                      "rgb(0.00, 84.92, 255.00)",
                      "rgb(0.00, 84.92, 255.00)",
                      "rgb(0.00, 84.92, 255.00)",
                      "rgb(0.00, 84.92, 255.00)",
                      "rgb(0.00, 84.92, 255.00)",
                      "rgb(0.00, 84.92, 255.00)",
                      "rgb(0.00, 84.92, 255.00)",
                      "rgb(0.00, 84.92, 255.00)",
                      "rgb(0.00, 84.92, 255.00)",
                      "rgb(0.00, 84.92, 255.00)",
                      "rgb(0.00, 84.92, 255.00)",
                      "rgb(0.00, 84.92, 255.00)",
                      "rgb(0.00, 84.92, 255.00)",
                      "rgb(0.00, 84.92, 255.00)",
                      "rgb(0.00, 170.09, 255.00)",
                      "rgb(0.00, 170.09, 255.00)",
                      "rgb(0.00, 170.09, 255.00)",
                      "rgb(0.00, 170.09, 255.00)",
                      "rgb(0.00, 170.09, 255.00)",
                      "rgb(0.00, 170.09, 255.00)",
                      "rgb(0.00, 170.09, 255.00)",
                      "rgb(0.00, 170.09, 255.00)",
                      "rgb(0.00, 170.09, 255.00)",
                      "rgb(0.00, 170.09, 255.00)",
                      "rgb(0.00, 170.09, 255.00)",
                      "rgb(0.00, 170.09, 255.00)",
                      "rgb(0.00, 170.09, 255.00)",
                      "rgb(0.00, 170.09, 255.00)",
                      "rgb(0.00, 170.09, 255.00)",
                      "rgb(0.00, 170.09, 255.00)",
                      "rgb(0.00, 170.09, 255.00)",
                      "rgb(0.00, 170.09, 255.00)",
                      "rgb(0.00, 170.09, 255.00)",
                      "rgb(0.00, 170.09, 255.00)",
                      "rgb(0.00, 170.09, 255.00)",
                      "rgb(0.00, 170.09, 255.00)",
                      "rgb(0.00, 170.09, 255.00)",
                      "rgb(0.00, 170.09, 255.00)",
                      "rgb(0.00, 170.09, 255.00)",
                      "rgb(0.00, 170.09, 255.00)",
                      "rgb(0.00, 170.09, 255.00)",
                      "rgb(0.00, 170.09, 255.00)",
                      "rgb(0.00, 170.09, 255.00)",
                      "rgb(0.00, 170.09, 255.00)",
                      "rgb(0.00, 170.09, 255.00)",
                      "rgb(0.00, 170.09, 255.00)",
                      "rgb(0.00, 170.09, 255.00)",
                      "rgb(0.00, 170.09, 255.00)",
                      "rgb(0.00, 170.09, 255.00)",
                      "rgb(0.00, 170.09, 255.00)",
                      "rgb(0.00, 170.09, 255.00)",
                      "rgb(0.00, 170.09, 255.00)",
                      "rgb(0.00, 170.09, 255.00)",
                      "rgb(0.00, 170.09, 255.00)",
                      "rgb(0.00, 170.09, 255.00)",
                      "rgb(0.00, 170.09, 255.00)",
                      "rgb(0.00, 170.09, 255.00)",
                      "rgb(0.00, 170.09, 255.00)",
                      "rgb(0.00, 170.09, 255.00)",
                      "rgb(0.00, 255.00, 255.00)",
                      "rgb(0.00, 255.00, 255.00)",
                      "rgb(0.00, 255.00, 255.00)",
                      "rgb(0.00, 255.00, 255.00)",
                      "rgb(0.00, 255.00, 255.00)",
                      "rgb(0.00, 255.00, 255.00)",
                      "rgb(0.00, 255.00, 255.00)",
                      "rgb(0.00, 255.00, 255.00)",
                      "rgb(0.00, 255.00, 255.00)",
                      "rgb(0.00, 255.00, 255.00)",
                      "rgb(0.00, 255.00, 255.00)",
                      "rgb(0.00, 255.00, 255.00)",
                      "rgb(0.00, 255.00, 255.00)",
                      "rgb(0.00, 255.00, 255.00)",
                      "rgb(0.00, 255.00, 255.00)",
                      "rgb(0.00, 255.00, 255.00)",
                      "rgb(0.00, 255.00, 255.00)",
                      "rgb(0.00, 255.00, 255.00)",
                      "rgb(0.00, 255.00, 255.00)",
                      "rgb(0.00, 255.00, 255.00)",
                      "rgb(0.00, 255.00, 255.00)",
                      "rgb(0.00, 255.00, 255.00)",
                      "rgb(0.00, 255.00, 255.00)",
                      "rgb(0.00, 255.00, 255.00)",
                      "rgb(0.00, 255.00, 255.00)",
                      "rgb(0.00, 255.00, 255.00)",
                      "rgb(0.00, 255.00, 255.00)",
                      "rgb(0.00, 255.00, 255.00)",
                      "rgb(0.00, 255.00, 255.00)",
                      "rgb(0.00, 255.00, 255.00)",
                      "rgb(0.00, 255.00, 255.00)",
                      "rgb(0.00, 255.00, 255.00)",
                      "rgb(0.00, 255.00, 255.00)",
                      "rgb(0.00, 255.00, 255.00)",
                      "rgb(0.00, 255.00, 255.00)",
                      "rgb(0.00, 255.00, 255.00)",
                      "rgb(0.00, 255.00, 255.00)",
                      "rgb(0.00, 255.00, 255.00)",
                      "rgb(0.00, 255.00, 255.00)",
                      "rgb(0.00, 255.00, 255.00)",
                      "rgb(0.00, 255.00, 255.00)",
                      "rgb(0.00, 255.00, 255.00)",
                      "rgb(0.00, 255.00, 255.00)",
                      "rgb(0.00, 255.00, 255.00)",
                      "rgb(0.00, 255.00, 255.00)"
                    ],
                    "width": 4
                  },
                  "mode": "lines",
                  "showlegend": false,
                  "type": "scatter3d",
                  "x": [
                    200,
                    200,
                    220,
                    220,
                    200,
                    200.5,
                    219.5,
                    219.5,
                    200.5,
                    200.5,
                    219.5,
                    219.5,
                    200.5,
                    200.5,
                    219.5,
                    219.5,
                    200.5,
                    200.5,
                    219.5,
                    219.5,
                    200.5,
                    200.5,
                    219.5,
                    219.5,
                    200.5,
                    200.5,
                    219.5,
                    219.5,
                    200.5,
                    200.5,
                    219.5,
                    219.5,
                    200.5,
                    200.5,
                    219.5,
                    219.5,
                    200.5,
                    200.5,
                    219.5,
                    219.5,
                    200.5,
                    200.5,
                    219.5,
                    219.5,
                    200.5,
                    200,
                    200,
                    220,
                    220,
                    200,
                    200.5,
                    200.5,
                    201.5,
                    201.5,
                    202.5,
                    202.5,
                    203.5,
                    203.5,
                    204.5,
                    204.5,
                    205.5,
                    205.5,
                    206.5,
                    206.5,
                    207.5,
                    207.5,
                    208.5,
                    208.5,
                    209.5,
                    209.5,
                    210.5,
                    210.5,
                    211.5,
                    211.5,
                    212.5,
                    212.5,
                    213.5,
                    213.5,
                    214.5,
                    214.5,
                    215.5,
                    215.5,
                    216.5,
                    216.5,
                    217.5,
                    217.5,
                    218.5,
                    218.5,
                    219.5,
                    219.5,
                    220,
                    220,
                    200,
                    200,
                    220,
                    219.5,
                    200.5,
                    200.5,
                    219.5,
                    219.5,
                    200.5,
                    200.5,
                    219.5,
                    219.5,
                    200.5,
                    200.5,
                    219.5,
                    219.5,
                    200.5,
                    200.5,
                    219.5,
                    219.5,
                    200.5,
                    200.5,
                    219.5,
                    219.5,
                    200.5,
                    200.5,
                    219.5,
                    219.5,
                    200.5,
                    200.5,
                    219.5,
                    219.5,
                    200.5,
                    200.5,
                    219.5,
                    219.5,
                    200.5,
                    200.5,
                    219.5,
                    219.5,
                    200.5,
                    200.5,
                    219.5,
                    220,
                    220,
                    200,
                    200,
                    220,
                    219.5,
                    219.5,
                    218.5,
                    218.5,
                    217.5,
                    217.5,
                    216.5,
                    216.5,
                    215.5,
                    215.5,
                    214.5,
                    214.5,
                    213.5,
                    213.5,
                    212.5,
                    212.5,
                    211.5,
                    211.5,
                    210.5,
                    210.5,
                    209.5,
                    209.5,
                    208.5,
                    208.5,
                    207.5,
                    207.5,
                    206.5,
                    206.5,
                    205.5,
                    205.5,
                    204.5,
                    204.5,
                    203.5,
                    203.5,
                    202.5,
                    202.5,
                    201.5,
                    201.5,
                    200.5,
                    200.5
                  ],
                  "y": [
                    200,
                    220,
                    220,
                    200,
                    200,
                    200.5,
                    200.5,
                    201.5,
                    201.5,
                    202.5,
                    202.5,
                    203.5,
                    203.5,
                    204.5,
                    204.5,
                    205.5,
                    205.5,
                    206.5,
                    206.5,
                    207.5,
                    207.5,
                    208.5,
                    208.5,
                    209.5,
                    209.5,
                    210.5,
                    210.5,
                    211.5,
                    211.5,
                    212.5,
                    212.5,
                    213.5,
                    213.5,
                    214.5,
                    214.5,
                    215.5,
                    215.5,
                    216.5,
                    216.5,
                    217.5,
                    217.5,
                    218.5,
                    218.5,
                    219.5,
                    219.5,
                    220,
                    200,
                    200,
                    220,
                    220,
                    219.5,
                    200.5,
                    200.5,
                    219.5,
                    219.5,
                    200.5,
                    200.5,
                    219.5,
                    219.5,
                    200.5,
                    200.5,
                    219.5,
                    219.5,
                    200.5,
                    200.5,
                    219.5,
                    219.5,
                    200.5,
                    200.5,
                    219.5,
                    219.5,
                    200.5,
                    200.5,
                    219.5,
                    219.5,
                    200.5,
                    200.5,
                    219.5,
                    219.5,
                    200.5,
                    200.5,
                    219.5,
                    219.5,
                    200.5,
                    200.5,
                    219.5,
                    219.5,
                    200.5,
                    200.5,
                    219.5,
                    200,
                    220,
                    220,
                    200,
                    200,
                    200.5,
                    200.5,
                    201.5,
                    201.5,
                    202.5,
                    202.5,
                    203.5,
                    203.5,
                    204.5,
                    204.5,
                    205.5,
                    205.5,
                    206.5,
                    206.5,
                    207.5,
                    207.5,
                    208.5,
                    208.5,
                    209.5,
                    209.5,
                    210.5,
                    210.5,
                    211.5,
                    211.5,
                    212.5,
                    212.5,
                    213.5,
                    213.5,
                    214.5,
                    214.5,
                    215.5,
                    215.5,
                    216.5,
                    216.5,
                    217.5,
                    217.5,
                    218.5,
                    218.5,
                    219.5,
                    219.5,
                    220,
                    200,
                    200,
                    220,
                    220,
                    219.5,
                    200.5,
                    200.5,
                    219.5,
                    219.5,
                    200.5,
                    200.5,
                    219.5,
                    219.5,
                    200.5,
                    200.5,
                    219.5,
                    219.5,
                    200.5,
                    200.5,
                    219.5,
                    219.5,
                    200.5,
                    200.5,
                    219.5,
                    219.5,
                    200.5,
                    200.5,
                    219.5,
                    219.5,
                    200.5,
                    200.5,
                    219.5,
                    219.5,
                    200.5,
                    200.5,
                    219.5,
                    219.5,
                    200.5,
                    200.5,
                    219.5,
                    219.5,
                    200.5,
                    200.5,
                    219.5
                  ],
                  "z": [
                    0.25,
                    0.25,
                    0.25,
                    0.25,
                    0.25,
                    0.25,
                    0.25,
                    0.25,
                    0.25,
                    0.25,
                    0.25,
                    0.25,
                    0.25,
                    0.25,
                    0.25,
                    0.25,
                    0.25,
                    0.25,
                    0.25,
                    0.25,
                    0.25,
                    0.25,
                    0.25,
                    0.25,
                    0.25,
                    0.25,
                    0.25,
                    0.25,
                    0.25,
                    0.25,
                    0.25,
                    0.25,
                    0.25,
                    0.25,
                    0.25,
                    0.25,
                    0.25,
                    0.25,
                    0.25,
                    0.25,
                    0.25,
                    0.25,
                    0.25,
                    0.25,
                    0.25,
                    0.5,
                    0.5,
                    0.5,
                    0.5,
                    0.5,
                    0.5,
                    0.5,
                    0.5,
                    0.5,
                    0.5,
                    0.5,
                    0.5,
                    0.5,
                    0.5,
                    0.5,
                    0.5,
                    0.5,
                    0.5,
                    0.5,
                    0.5,
                    0.5,
                    0.5,
                    0.5,
                    0.5,
                    0.5,
                    0.5,
                    0.5,
                    0.5,
                    0.5,
                    0.5,
                    0.5,
                    0.5,
                    0.5,
                    0.5,
                    0.5,
                    0.5,
                    0.5,
                    0.5,
                    0.5,
                    0.5,
                    0.5,
                    0.5,
                    0.5,
                    0.5,
                    0.5,
                    0.75,
                    0.75,
                    0.75,
                    0.75,
                    0.75,
                    0.75,
                    0.75,
                    0.75,
                    0.75,
                    0.75,
                    0.75,
                    0.75,
                    0.75,
                    0.75,
                    0.75,
                    0.75,
                    0.75,
                    0.75,
                    0.75,
                    0.75,
                    0.75,
                    0.75,
                    0.75,
                    0.75,
                    0.75,
                    0.75,
                    0.75,
                    0.75,
                    0.75,
                    0.75,
                    0.75,
                    0.75,
                    0.75,
                    0.75,
                    0.75,
                    0.75,
                    0.75,
                    0.75,
                    0.75,
                    0.75,
                    0.75,
                    0.75,
                    0.75,
                    0.75,
                    0.75,
                    1,
                    1,
                    1,
                    1,
                    1,
                    1,
                    1,
                    1,
                    1,
                    1,
                    1,
                    1,
                    1,
                    1,
                    1,
                    1,
                    1,
                    1,
                    1,
                    1,
                    1,
                    1,
                    1,
                    1,
                    1,
                    1,
                    1,
                    1,
                    1,
                    1,
                    1,
                    1,
                    1,
                    1,
                    1,
                    1,
                    1,
                    1,
                    1,
                    1,
                    1,
                    1,
                    1,
                    1,
                    1
                  ]
                },
                {
                  "marker": {
                    "color": "red",
                    "size": 2
                  },
                  "mode": "markers",
                  "showlegend": false,
                  "type": "scatter3d",
                  "x": [],
                  "y": [],
                  "z": []
                }
              ],
              "layout": {
                "height": 500,
                "margin": {
                  "b": 10,
                  "l": 10,
                  "pad": 4,
                  "r": 10,
                  "t": 10
                },
                "paper_bgcolor": "black",
                "scene": {
                  "aspectmode": "cube",
                  "camera": {
                    "center": {
                      "x": 0,
                      "y": 0,
                      "z": -0.48125187481251874
                    },
                    "eye": {
                      "x": -0.7142857142857143,
                      "y": -1.4285714285714286,
                      "z": 0.2142857142857143
                    }
                  },
                  "xaxis": {
                    "backgroundcolor": "black",
                    "nticks": 10,
                    "range": [
                      199.999,
                      220.001
                    ]
                  },
                  "yaxis": {
                    "backgroundcolor": "black",
                    "nticks": 10,
                    "range": [
                      199.999,
                      220.001
                    ]
                  },
                  "zaxis": {
                    "backgroundcolor": "black",
                    "nticks": 10,
                    "range": [
                      0,
                      20.002
                    ]
                  }
                },
                "template": {
                  "data": {
                    "bar": [
                      {
                        "error_x": {
                          "color": "#f2f5fa"
                        },
                        "error_y": {
                          "color": "#f2f5fa"
                        },
                        "marker": {
                          "line": {
                            "color": "rgb(17,17,17)",
                            "width": 0.5
                          },
                          "pattern": {
                            "fillmode": "overlay",
                            "size": 10,
                            "solidity": 0.2
                          }
                        },
                        "type": "bar"
                      }
                    ],
                    "barpolar": [
                      {
                        "marker": {
                          "line": {
                            "color": "rgb(17,17,17)",
                            "width": 0.5
                          },
                          "pattern": {
                            "fillmode": "overlay",
                            "size": 10,
                            "solidity": 0.2
                          }
                        },
                        "type": "barpolar"
                      }
                    ],
                    "carpet": [
                      {
                        "aaxis": {
                          "endlinecolor": "#A2B1C6",
                          "gridcolor": "#506784",
                          "linecolor": "#506784",
                          "minorgridcolor": "#506784",
                          "startlinecolor": "#A2B1C6"
                        },
                        "baxis": {
                          "endlinecolor": "#A2B1C6",
                          "gridcolor": "#506784",
                          "linecolor": "#506784",
                          "minorgridcolor": "#506784",
                          "startlinecolor": "#A2B1C6"
                        },
                        "type": "carpet"
                      }
                    ],
                    "choropleth": [
                      {
                        "colorbar": {
                          "outlinewidth": 0,
                          "ticks": ""
                        },
                        "type": "choropleth"
                      }
                    ],
                    "contour": [
                      {
                        "colorbar": {
                          "outlinewidth": 0,
                          "ticks": ""
                        },
                        "colorscale": [
                          [
                            0,
                            "#0d0887"
                          ],
                          [
                            0.1111111111111111,
                            "#46039f"
                          ],
                          [
                            0.2222222222222222,
                            "#7201a8"
                          ],
                          [
                            0.3333333333333333,
                            "#9c179e"
                          ],
                          [
                            0.4444444444444444,
                            "#bd3786"
                          ],
                          [
                            0.5555555555555556,
                            "#d8576b"
                          ],
                          [
                            0.6666666666666666,
                            "#ed7953"
                          ],
                          [
                            0.7777777777777778,
                            "#fb9f3a"
                          ],
                          [
                            0.8888888888888888,
                            "#fdca26"
                          ],
                          [
                            1,
                            "#f0f921"
                          ]
                        ],
                        "type": "contour"
                      }
                    ],
                    "contourcarpet": [
                      {
                        "colorbar": {
                          "outlinewidth": 0,
                          "ticks": ""
                        },
                        "type": "contourcarpet"
                      }
                    ],
                    "heatmap": [
                      {
                        "colorbar": {
                          "outlinewidth": 0,
                          "ticks": ""
                        },
                        "colorscale": [
                          [
                            0,
                            "#0d0887"
                          ],
                          [
                            0.1111111111111111,
                            "#46039f"
                          ],
                          [
                            0.2222222222222222,
                            "#7201a8"
                          ],
                          [
                            0.3333333333333333,
                            "#9c179e"
                          ],
                          [
                            0.4444444444444444,
                            "#bd3786"
                          ],
                          [
                            0.5555555555555556,
                            "#d8576b"
                          ],
                          [
                            0.6666666666666666,
                            "#ed7953"
                          ],
                          [
                            0.7777777777777778,
                            "#fb9f3a"
                          ],
                          [
                            0.8888888888888888,
                            "#fdca26"
                          ],
                          [
                            1,
                            "#f0f921"
                          ]
                        ],
                        "type": "heatmap"
                      }
                    ],
                    "histogram": [
                      {
                        "marker": {
                          "pattern": {
                            "fillmode": "overlay",
                            "size": 10,
                            "solidity": 0.2
                          }
                        },
                        "type": "histogram"
                      }
                    ],
                    "histogram2d": [
                      {
                        "colorbar": {
                          "outlinewidth": 0,
                          "ticks": ""
                        },
                        "colorscale": [
                          [
                            0,
                            "#0d0887"
                          ],
                          [
                            0.1111111111111111,
                            "#46039f"
                          ],
                          [
                            0.2222222222222222,
                            "#7201a8"
                          ],
                          [
                            0.3333333333333333,
                            "#9c179e"
                          ],
                          [
                            0.4444444444444444,
                            "#bd3786"
                          ],
                          [
                            0.5555555555555556,
                            "#d8576b"
                          ],
                          [
                            0.6666666666666666,
                            "#ed7953"
                          ],
                          [
                            0.7777777777777778,
                            "#fb9f3a"
                          ],
                          [
                            0.8888888888888888,
                            "#fdca26"
                          ],
                          [
                            1,
                            "#f0f921"
                          ]
                        ],
                        "type": "histogram2d"
                      }
                    ],
                    "histogram2dcontour": [
                      {
                        "colorbar": {
                          "outlinewidth": 0,
                          "ticks": ""
                        },
                        "colorscale": [
                          [
                            0,
                            "#0d0887"
                          ],
                          [
                            0.1111111111111111,
                            "#46039f"
                          ],
                          [
                            0.2222222222222222,
                            "#7201a8"
                          ],
                          [
                            0.3333333333333333,
                            "#9c179e"
                          ],
                          [
                            0.4444444444444444,
                            "#bd3786"
                          ],
                          [
                            0.5555555555555556,
                            "#d8576b"
                          ],
                          [
                            0.6666666666666666,
                            "#ed7953"
                          ],
                          [
                            0.7777777777777778,
                            "#fb9f3a"
                          ],
                          [
                            0.8888888888888888,
                            "#fdca26"
                          ],
                          [
                            1,
                            "#f0f921"
                          ]
                        ],
                        "type": "histogram2dcontour"
                      }
                    ],
                    "mesh3d": [
                      {
                        "colorbar": {
                          "outlinewidth": 0,
                          "ticks": ""
                        },
                        "type": "mesh3d"
                      }
                    ],
                    "parcoords": [
                      {
                        "line": {
                          "colorbar": {
                            "outlinewidth": 0,
                            "ticks": ""
                          }
                        },
                        "type": "parcoords"
                      }
                    ],
                    "pie": [
                      {
                        "automargin": true,
                        "type": "pie"
                      }
                    ],
                    "scatter": [
                      {
                        "marker": {
                          "line": {
                            "color": "#283442"
                          }
                        },
                        "type": "scatter"
                      }
                    ],
                    "scatter3d": [
                      {
                        "line": {
                          "colorbar": {
                            "outlinewidth": 0,
                            "ticks": ""
                          }
                        },
                        "marker": {
                          "colorbar": {
                            "outlinewidth": 0,
                            "ticks": ""
                          }
                        },
                        "type": "scatter3d"
                      }
                    ],
                    "scattercarpet": [
                      {
                        "marker": {
                          "colorbar": {
                            "outlinewidth": 0,
                            "ticks": ""
                          }
                        },
                        "type": "scattercarpet"
                      }
                    ],
                    "scattergeo": [
                      {
                        "marker": {
                          "colorbar": {
                            "outlinewidth": 0,
                            "ticks": ""
                          }
                        },
                        "type": "scattergeo"
                      }
                    ],
                    "scattergl": [
                      {
                        "marker": {
                          "line": {
                            "color": "#283442"
                          }
                        },
                        "type": "scattergl"
                      }
                    ],
                    "scattermap": [
                      {
                        "marker": {
                          "colorbar": {
                            "outlinewidth": 0,
                            "ticks": ""
                          }
                        },
                        "type": "scattermap"
                      }
                    ],
                    "scattermapbox": [
                      {
                        "marker": {
                          "colorbar": {
                            "outlinewidth": 0,
                            "ticks": ""
                          }
                        },
                        "type": "scattermapbox"
                      }
                    ],
                    "scatterpolar": [
                      {
                        "marker": {
                          "colorbar": {
                            "outlinewidth": 0,
                            "ticks": ""
                          }
                        },
                        "type": "scatterpolar"
                      }
                    ],
                    "scatterpolargl": [
                      {
                        "marker": {
                          "colorbar": {
                            "outlinewidth": 0,
                            "ticks": ""
                          }
                        },
                        "type": "scatterpolargl"
                      }
                    ],
                    "scatterternary": [
                      {
                        "marker": {
                          "colorbar": {
                            "outlinewidth": 0,
                            "ticks": ""
                          }
                        },
                        "type": "scatterternary"
                      }
                    ],
                    "surface": [
                      {
                        "colorbar": {
                          "outlinewidth": 0,
                          "ticks": ""
                        },
                        "colorscale": [
                          [
                            0,
                            "#0d0887"
                          ],
                          [
                            0.1111111111111111,
                            "#46039f"
                          ],
                          [
                            0.2222222222222222,
                            "#7201a8"
                          ],
                          [
                            0.3333333333333333,
                            "#9c179e"
                          ],
                          [
                            0.4444444444444444,
                            "#bd3786"
                          ],
                          [
                            0.5555555555555556,
                            "#d8576b"
                          ],
                          [
                            0.6666666666666666,
                            "#ed7953"
                          ],
                          [
                            0.7777777777777778,
                            "#fb9f3a"
                          ],
                          [
                            0.8888888888888888,
                            "#fdca26"
                          ],
                          [
                            1,
                            "#f0f921"
                          ]
                        ],
                        "type": "surface"
                      }
                    ],
                    "table": [
                      {
                        "cells": {
                          "fill": {
                            "color": "#506784"
                          },
                          "line": {
                            "color": "rgb(17,17,17)"
                          }
                        },
                        "header": {
                          "fill": {
                            "color": "#2a3f5f"
                          },
                          "line": {
                            "color": "rgb(17,17,17)"
                          }
                        },
                        "type": "table"
                      }
                    ]
                  },
                  "layout": {
                    "annotationdefaults": {
                      "arrowcolor": "#f2f5fa",
                      "arrowhead": 0,
                      "arrowwidth": 1
                    },
                    "autotypenumbers": "strict",
                    "coloraxis": {
                      "colorbar": {
                        "outlinewidth": 0,
                        "ticks": ""
                      }
                    },
                    "colorscale": {
                      "diverging": [
                        [
                          0,
                          "#8e0152"
                        ],
                        [
                          0.1,
                          "#c51b7d"
                        ],
                        [
                          0.2,
                          "#de77ae"
                        ],
                        [
                          0.3,
                          "#f1b6da"
                        ],
                        [
                          0.4,
                          "#fde0ef"
                        ],
                        [
                          0.5,
                          "#f7f7f7"
                        ],
                        [
                          0.6,
                          "#e6f5d0"
                        ],
                        [
                          0.7,
                          "#b8e186"
                        ],
                        [
                          0.8,
                          "#7fbc41"
                        ],
                        [
                          0.9,
                          "#4d9221"
                        ],
                        [
                          1,
                          "#276419"
                        ]
                      ],
                      "sequential": [
                        [
                          0,
                          "#0d0887"
                        ],
                        [
                          0.1111111111111111,
                          "#46039f"
                        ],
                        [
                          0.2222222222222222,
                          "#7201a8"
                        ],
                        [
                          0.3333333333333333,
                          "#9c179e"
                        ],
                        [
                          0.4444444444444444,
                          "#bd3786"
                        ],
                        [
                          0.5555555555555556,
                          "#d8576b"
                        ],
                        [
                          0.6666666666666666,
                          "#ed7953"
                        ],
                        [
                          0.7777777777777778,
                          "#fb9f3a"
                        ],
                        [
                          0.8888888888888888,
                          "#fdca26"
                        ],
                        [
                          1,
                          "#f0f921"
                        ]
                      ],
                      "sequentialminus": [
                        [
                          0,
                          "#0d0887"
                        ],
                        [
                          0.1111111111111111,
                          "#46039f"
                        ],
                        [
                          0.2222222222222222,
                          "#7201a8"
                        ],
                        [
                          0.3333333333333333,
                          "#9c179e"
                        ],
                        [
                          0.4444444444444444,
                          "#bd3786"
                        ],
                        [
                          0.5555555555555556,
                          "#d8576b"
                        ],
                        [
                          0.6666666666666666,
                          "#ed7953"
                        ],
                        [
                          0.7777777777777778,
                          "#fb9f3a"
                        ],
                        [
                          0.8888888888888888,
                          "#fdca26"
                        ],
                        [
                          1,
                          "#f0f921"
                        ]
                      ]
                    },
                    "colorway": [
                      "#636efa",
                      "#EF553B",
                      "#00cc96",
                      "#ab63fa",
                      "#FFA15A",
                      "#19d3f3",
                      "#FF6692",
                      "#B6E880",
                      "#FF97FF",
                      "#FECB52"
                    ],
                    "font": {
                      "color": "#f2f5fa"
                    },
                    "geo": {
                      "bgcolor": "rgb(17,17,17)",
                      "lakecolor": "rgb(17,17,17)",
                      "landcolor": "rgb(17,17,17)",
                      "showlakes": true,
                      "showland": true,
                      "subunitcolor": "#506784"
                    },
                    "hoverlabel": {
                      "align": "left"
                    },
                    "hovermode": "closest",
                    "mapbox": {
                      "style": "dark"
                    },
                    "paper_bgcolor": "rgb(17,17,17)",
                    "plot_bgcolor": "rgb(17,17,17)",
                    "polar": {
                      "angularaxis": {
                        "gridcolor": "#506784",
                        "linecolor": "#506784",
                        "ticks": ""
                      },
                      "bgcolor": "rgb(17,17,17)",
                      "radialaxis": {
                        "gridcolor": "#506784",
                        "linecolor": "#506784",
                        "ticks": ""
                      }
                    },
                    "scene": {
                      "xaxis": {
                        "backgroundcolor": "rgb(17,17,17)",
                        "gridcolor": "#506784",
                        "gridwidth": 2,
                        "linecolor": "#506784",
                        "showbackground": true,
                        "ticks": "",
                        "zerolinecolor": "#C8D4E3"
                      },
                      "yaxis": {
                        "backgroundcolor": "rgb(17,17,17)",
                        "gridcolor": "#506784",
                        "gridwidth": 2,
                        "linecolor": "#506784",
                        "showbackground": true,
                        "ticks": "",
                        "zerolinecolor": "#C8D4E3"
                      },
                      "zaxis": {
                        "backgroundcolor": "rgb(17,17,17)",
                        "gridcolor": "#506784",
                        "gridwidth": 2,
                        "linecolor": "#506784",
                        "showbackground": true,
                        "ticks": "",
                        "zerolinecolor": "#C8D4E3"
                      }
                    },
                    "shapedefaults": {
                      "line": {
                        "color": "#f2f5fa"
                      }
                    },
                    "sliderdefaults": {
                      "bgcolor": "#C8D4E3",
                      "bordercolor": "rgb(17,17,17)",
                      "borderwidth": 1,
                      "tickwidth": 0
                    },
                    "ternary": {
                      "aaxis": {
                        "gridcolor": "#506784",
                        "linecolor": "#506784",
                        "ticks": ""
                      },
                      "baxis": {
                        "gridcolor": "#506784",
                        "linecolor": "#506784",
                        "ticks": ""
                      },
                      "bgcolor": "rgb(17,17,17)",
                      "caxis": {
                        "gridcolor": "#506784",
                        "linecolor": "#506784",
                        "ticks": ""
                      }
                    },
                    "title": {
                      "x": 0.05
                    },
                    "updatemenudefaults": {
                      "bgcolor": "#506784",
                      "borderwidth": 0
                    },
                    "xaxis": {
                      "automargin": true,
                      "gridcolor": "#283442",
                      "linecolor": "#506784",
                      "ticks": "",
                      "title": {
                        "standoff": 15
                      },
                      "zerolinecolor": "#283442",
                      "zerolinewidth": 2
                    },
                    "yaxis": {
                      "automargin": true,
                      "gridcolor": "#283442",
                      "linecolor": "#506784",
                      "ticks": "",
                      "title": {
                        "standoff": 15
                      },
                      "zerolinecolor": "#283442",
                      "zerolinewidth": 2
                    }
                  }
                },
                "width": 800
              }
            }
          },
          "metadata": {},
          "output_type": "display_data"
        },
        {
          "name": "stdout",
          "output_type": "stream",
          "text": [
            "warning - the list of steps should be a 1D list of fullcontrol class instances, it currently includes a 'list'\n",
            "   - fc.flatten() is being used to convert the design to a 1D list\n"
          ]
        },
        {
          "data": {
            "application/vnd.plotly.v1+json": {
              "config": {
                "plotlyServerURL": "https://plot.ly"
              },
              "data": [
                {
                  "i": {
                    "bdata": "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",
                    "dtype": "i2"
                  },
                  "j": {
                    "bdata": "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",
                    "dtype": "i2"
                  },
                  "k": {
                    "bdata": "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",
                    "dtype": "i2"
                  },
                  "type": "mesh3d",
                  "vertexcolor": [
                    "rgb(0.00, 0.00, 255.00)",
                    "rgb(0.00, 0.00, 255.00)",
                    "rgb(0.00, 0.00, 255.00)",
                    "rgb(0.00, 0.00, 255.00)",
                    "rgb(0.00, 0.00, 255.00)",
                    "rgb(0.00, 0.00, 255.00)",
                    "rgb(0.00, 0.00, 255.00)",
                    "rgb(0.00, 0.00, 255.00)",
                    "rgb(0.00, 0.00, 255.00)",
                    "rgb(0.00, 0.00, 255.00)",
                    "rgb(0.00, 0.00, 255.00)",
                    "rgb(0.00, 0.00, 255.00)",
                    "rgb(0.00, 0.00, 255.00)",
                    "rgb(0.00, 0.00, 255.00)",
                    "rgb(0.00, 0.00, 255.00)",
                    "rgb(0.00, 0.00, 255.00)",
                    "rgb(0.00, 0.00, 255.00)",
                    "rgb(0.00, 0.00, 255.00)",
                    "rgb(0.00, 0.00, 255.00)",
                    "rgb(0.00, 0.00, 255.00)",
                    "rgb(0.00, 0.00, 255.00)",
                    "rgb(0.00, 0.00, 255.00)",
                    "rgb(0.00, 0.00, 255.00)",
                    "rgb(0.00, 0.00, 255.00)",
                    "rgb(0.00, 0.00, 255.00)",
                    "rgb(0.00, 0.00, 255.00)",
                    "rgb(0.00, 0.00, 255.00)",
                    "rgb(0.00, 0.00, 255.00)",
                    "rgb(0.00, 0.00, 255.00)",
                    "rgb(0.00, 0.00, 255.00)",
                    "rgb(0.00, 0.00, 255.00)",
                    "rgb(0.00, 0.00, 255.00)",
                    "rgb(0.00, 0.00, 255.00)",
                    "rgb(0.00, 0.00, 255.00)",
                    "rgb(0.00, 0.00, 255.00)",
                    "rgb(0.00, 0.00, 255.00)",
                    "rgb(0.00, 0.00, 255.00)",
                    "rgb(0.00, 0.00, 255.00)",
                    "rgb(0.00, 0.00, 255.00)",
                    "rgb(0.00, 0.00, 255.00)",
                    "rgb(0.00, 0.00, 255.00)",
                    "rgb(0.00, 0.00, 255.00)",
                    "rgb(0.00, 0.00, 255.00)",
                    "rgb(0.00, 0.00, 255.00)",
                    "rgb(0.00, 0.00, 255.00)",
                    "rgb(0.00, 0.00, 255.00)",
                    "rgb(0.00, 0.00, 255.00)",
                    "rgb(0.00, 0.00, 255.00)",
                    "rgb(0.00, 0.00, 255.00)",
                    "rgb(0.00, 0.00, 255.00)",
                    "rgb(0.00, 0.00, 255.00)",
                    "rgb(0.00, 0.00, 255.00)",
                    "rgb(0.00, 0.00, 255.00)",
                    "rgb(0.00, 0.00, 255.00)",
                    "rgb(0.00, 0.00, 255.00)",
                    "rgb(0.00, 0.00, 255.00)",
                    "rgb(0.00, 0.00, 255.00)",
                    "rgb(0.00, 0.00, 255.00)",
                    "rgb(0.00, 0.00, 255.00)",
                    "rgb(0.00, 0.00, 255.00)",
                    "rgb(0.00, 0.00, 255.00)",
                    "rgb(0.00, 0.00, 255.00)",
                    "rgb(0.00, 0.00, 255.00)",
                    "rgb(0.00, 0.00, 255.00)",
                    "rgb(0.00, 0.00, 255.00)",
                    "rgb(0.00, 0.00, 255.00)",
                    "rgb(0.00, 0.00, 255.00)",
                    "rgb(0.00, 0.00, 255.00)",
                    "rgb(0.00, 0.00, 255.00)",
                    "rgb(0.00, 0.00, 255.00)",
                    "rgb(0.00, 0.00, 255.00)",
                    "rgb(0.00, 0.00, 255.00)",
                    "rgb(0.00, 0.00, 255.00)",
                    "rgb(0.00, 0.00, 255.00)",
                    "rgb(0.00, 0.00, 255.00)",
                    "rgb(0.00, 0.00, 255.00)",
                    "rgb(0.00, 0.00, 255.00)",
                    "rgb(0.00, 0.00, 255.00)",
                    "rgb(0.00, 0.00, 255.00)",
                    "rgb(0.00, 0.00, 255.00)",
                    "rgb(0.00, 0.00, 255.00)",
                    "rgb(0.00, 0.00, 255.00)",
                    "rgb(0.00, 0.00, 255.00)",
                    "rgb(0.00, 0.00, 255.00)",
                    "rgb(0.00, 0.00, 255.00)",
                    "rgb(0.00, 0.00, 255.00)",
                    "rgb(0.00, 0.00, 255.00)",
                    "rgb(0.00, 0.00, 255.00)",
                    "rgb(0.00, 0.00, 255.00)",
                    "rgb(0.00, 0.00, 255.00)",
                    "rgb(0.00, 0.00, 255.00)",
                    "rgb(0.00, 0.00, 255.00)",
                    "rgb(0.00, 0.00, 255.00)",
                    "rgb(0.00, 0.00, 255.00)",
                    "rgb(0.00, 0.00, 255.00)",
                    "rgb(0.00, 0.00, 255.00)",
                    "rgb(0.00, 0.00, 255.00)",
                    "rgb(0.00, 0.00, 255.00)",
                    "rgb(0.00, 0.00, 255.00)",
                    "rgb(0.00, 0.00, 255.00)",
                    "rgb(0.00, 0.00, 255.00)",
                    "rgb(0.00, 0.00, 255.00)",
                    "rgb(0.00, 0.00, 255.00)",
                    "rgb(0.00, 0.00, 255.00)",
                    "rgb(0.00, 0.00, 255.00)",
                    "rgb(0.00, 0.00, 255.00)",
                    "rgb(0.00, 0.00, 255.00)",
                    "rgb(0.00, 0.00, 255.00)",
                    "rgb(0.00, 0.00, 255.00)",
                    "rgb(0.00, 0.00, 255.00)",
                    "rgb(0.00, 0.00, 255.00)",
                    "rgb(0.00, 0.00, 255.00)",
                    "rgb(0.00, 0.00, 255.00)",
                    "rgb(0.00, 0.00, 255.00)",
                    "rgb(0.00, 0.00, 255.00)",
                    "rgb(0.00, 0.00, 255.00)",
                    "rgb(0.00, 0.00, 255.00)",
                    "rgb(0.00, 0.00, 255.00)",
                    "rgb(0.00, 0.00, 255.00)",
                    "rgb(0.00, 0.00, 255.00)",
                    "rgb(0.00, 0.00, 255.00)",
                    "rgb(0.00, 0.00, 255.00)",
                    "rgb(0.00, 0.00, 255.00)",
                    "rgb(0.00, 0.00, 255.00)",
                    "rgb(0.00, 0.00, 255.00)",
                    "rgb(0.00, 0.00, 255.00)",
                    "rgb(0.00, 0.00, 255.00)",
                    "rgb(0.00, 0.00, 255.00)",
                    "rgb(0.00, 0.00, 255.00)",
                    "rgb(0.00, 0.00, 255.00)",
                    "rgb(0.00, 0.00, 255.00)",
                    "rgb(0.00, 0.00, 255.00)",
                    "rgb(0.00, 0.00, 255.00)",
                    "rgb(0.00, 0.00, 255.00)",
                    "rgb(0.00, 0.00, 255.00)",
                    "rgb(0.00, 0.00, 255.00)",
                    "rgb(0.00, 0.00, 255.00)",
                    "rgb(0.00, 0.00, 255.00)",
                    "rgb(0.00, 0.00, 255.00)",
                    "rgb(0.00, 0.00, 255.00)",
                    "rgb(0.00, 0.00, 255.00)",
                    "rgb(0.00, 0.00, 255.00)",
                    "rgb(0.00, 0.00, 255.00)",
                    "rgb(0.00, 0.00, 255.00)",
                    "rgb(0.00, 0.00, 255.00)",
                    "rgb(0.00, 0.00, 255.00)",
                    "rgb(0.00, 0.00, 255.00)",
                    "rgb(0.00, 0.00, 255.00)",
                    "rgb(0.00, 0.00, 255.00)",
                    "rgb(0.00, 0.00, 255.00)",
                    "rgb(0.00, 0.00, 255.00)",
                    "rgb(0.00, 0.00, 255.00)",
                    "rgb(0.00, 0.00, 255.00)",
                    "rgb(0.00, 0.00, 255.00)",
                    "rgb(0.00, 0.00, 255.00)",
                    "rgb(0.00, 0.00, 255.00)",
                    "rgb(0.00, 0.00, 255.00)",
                    "rgb(0.00, 0.00, 255.00)",
                    "rgb(0.00, 0.00, 255.00)",
                    "rgb(0.00, 0.00, 255.00)",
                    "rgb(0.00, 0.00, 255.00)",
                    "rgb(0.00, 0.00, 255.00)",
                    "rgb(0.00, 0.00, 255.00)",
                    "rgb(0.00, 0.00, 255.00)",
                    "rgb(0.00, 0.00, 255.00)",
                    "rgb(0.00, 0.00, 255.00)",
                    "rgb(0.00, 0.00, 255.00)",
                    "rgb(0.00, 0.00, 255.00)",
                    "rgb(0.00, 0.00, 255.00)",
                    "rgb(0.00, 0.00, 255.00)",
                    "rgb(0.00, 0.00, 255.00)",
                    "rgb(0.00, 0.00, 255.00)",
                    "rgb(0.00, 0.00, 255.00)",
                    "rgb(0.00, 0.00, 255.00)",
                    "rgb(0.00, 0.00, 255.00)",
                    "rgb(0.00, 0.00, 255.00)",
                    "rgb(0.00, 0.00, 255.00)",
                    "rgb(0.00, 0.00, 255.00)",
                    "rgb(0.00, 0.00, 255.00)",
                    "rgb(0.00, 0.00, 255.00)",
                    "rgb(0.00, 0.00, 255.00)",
                    "rgb(0.00, 0.00, 255.00)",
                    "rgb(0.00, 0.00, 255.00)",
                    "rgb(0.00, 0.00, 255.00)",
                    "rgb(0.00, 0.00, 255.00)",
                    "rgb(0.00, 0.00, 255.00)",
                    "rgb(0.00, 0.00, 255.00)",
                    "rgb(0.00, 0.00, 255.00)",
                    "rgb(0.00, 0.00, 255.00)",
                    "rgb(0.00, 0.00, 255.00)",
                    "rgb(0.00, 0.00, 255.00)",
                    "rgb(0.00, 0.00, 255.00)",
                    "rgb(0.00, 0.00, 255.00)",
                    "rgb(0.00, 0.00, 255.00)",
                    "rgb(0.00, 0.00, 255.00)",
                    "rgb(0.00, 0.00, 255.00)",
                    "rgb(0.00, 0.00, 255.00)",
                    "rgb(0.00, 0.00, 255.00)",
                    "rgb(0.00, 0.00, 255.00)",
                    "rgb(0.00, 0.00, 255.00)",
                    "rgb(0.00, 0.00, 255.00)",
                    "rgb(0.00, 0.00, 255.00)",
                    "rgb(0.00, 0.00, 255.00)",
                    "rgb(0.00, 0.00, 255.00)",
                    "rgb(0.00, 0.00, 255.00)",
                    "rgb(0.00, 0.00, 255.00)",
                    "rgb(0.00, 0.00, 255.00)",
                    "rgb(0.00, 0.00, 255.00)",
                    "rgb(0.00, 0.00, 255.00)",
                    "rgb(0.00, 0.00, 255.00)",
                    "rgb(0.00, 0.00, 255.00)",
                    "rgb(0.00, 0.00, 255.00)",
                    "rgb(0.00, 0.00, 255.00)",
                    "rgb(0.00, 0.00, 255.00)",
                    "rgb(0.00, 0.00, 255.00)",
                    "rgb(0.00, 0.00, 255.00)",
                    "rgb(0.00, 0.00, 255.00)",
                    "rgb(0.00, 0.00, 255.00)",
                    "rgb(0.00, 0.00, 255.00)",
                    "rgb(0.00, 0.00, 255.00)",
                    "rgb(0.00, 0.00, 255.00)",
                    "rgb(0.00, 0.00, 255.00)",
                    "rgb(0.00, 0.00, 255.00)",
                    "rgb(0.00, 0.00, 255.00)",
                    "rgb(0.00, 0.00, 255.00)",
                    "rgb(0.00, 0.00, 255.00)",
                    "rgb(0.00, 0.00, 255.00)",
                    "rgb(0.00, 0.00, 255.00)",
                    "rgb(0.00, 0.00, 255.00)",
                    "rgb(0.00, 0.00, 255.00)",
                    "rgb(0.00, 0.00, 255.00)",
                    "rgb(0.00, 0.00, 255.00)",
                    "rgb(0.00, 0.00, 255.00)",
                    "rgb(0.00, 0.00, 255.00)",
                    "rgb(0.00, 0.00, 255.00)",
                    "rgb(0.00, 0.00, 255.00)",
                    "rgb(0.00, 0.00, 255.00)",
                    "rgb(0.00, 0.00, 255.00)",
                    "rgb(0.00, 0.00, 255.00)",
                    "rgb(0.00, 0.00, 255.00)",
                    "rgb(0.00, 0.00, 255.00)",
                    "rgb(0.00, 0.00, 255.00)",
                    "rgb(0.00, 0.00, 255.00)",
                    "rgb(0.00, 0.00, 255.00)",
                    "rgb(0.00, 0.00, 255.00)",
                    "rgb(0.00, 0.00, 255.00)",
                    "rgb(0.00, 0.00, 255.00)",
                    "rgb(0.00, 0.00, 255.00)",
                    "rgb(0.00, 0.00, 255.00)",
                    "rgb(0.00, 0.00, 255.00)",
                    "rgb(0.00, 0.00, 255.00)",
                    "rgb(0.00, 0.00, 255.00)",
                    "rgb(0.00, 0.00, 255.00)",
                    "rgb(0.00, 0.00, 255.00)",
                    "rgb(0.00, 0.00, 255.00)",
                    "rgb(0.00, 0.00, 255.00)",
                    "rgb(0.00, 0.00, 255.00)",
                    "rgb(0.00, 0.00, 255.00)",
                    "rgb(0.00, 0.00, 255.00)",
                    "rgb(0.00, 0.00, 255.00)",
                    "rgb(0.00, 0.00, 255.00)",
                    "rgb(0.00, 0.00, 255.00)",
                    "rgb(0.00, 0.00, 255.00)",
                    "rgb(0.00, 0.00, 255.00)",
                    "rgb(0.00, 0.00, 255.00)",
                    "rgb(0.00, 0.00, 255.00)",
                    "rgb(0.00, 0.00, 255.00)",
                    "rgb(0.00, 0.00, 255.00)",
                    "rgb(0.00, 0.00, 255.00)",
                    "rgb(0.00, 0.00, 255.00)",
                    "rgb(0.00, 0.00, 255.00)",
                    "rgb(0.00, 0.00, 255.00)",
                    "rgb(0.00, 0.00, 255.00)",
                    "rgb(0.00, 0.00, 255.00)",
                    "rgb(0.00, 0.00, 255.00)",
                    "rgb(0.00, 0.00, 255.00)",
                    "rgb(0.00, 0.00, 255.00)",
                    "rgb(0.00, 0.00, 255.00)",
                    "rgb(0.00, 0.00, 255.00)",
                    "rgb(0.00, 0.00, 255.00)",
                    "rgb(0.00, 0.00, 255.00)",
                    "rgb(0.00, 0.00, 255.00)",
                    "rgb(0.00, 0.00, 255.00)",
                    "rgb(0.00, 0.00, 255.00)",
                    "rgb(0.00, 0.00, 255.00)",
                    "rgb(0.00, 0.00, 255.00)",
                    "rgb(0.00, 0.00, 255.00)",
                    "rgb(0.00, 0.00, 255.00)",
                    "rgb(0.00, 0.00, 255.00)",
                    "rgb(0.00, 0.00, 255.00)",
                    "rgb(0.00, 0.00, 255.00)",
                    "rgb(0.00, 0.00, 255.00)",
                    "rgb(0.00, 0.00, 255.00)",
                    "rgb(0.00, 0.00, 255.00)",
                    "rgb(0.00, 0.00, 255.00)",
                    "rgb(0.00, 0.00, 255.00)",
                    "rgb(0.00, 0.00, 255.00)",
                    "rgb(0.00, 0.00, 255.00)",
                    "rgb(0.00, 0.00, 255.00)",
                    "rgb(0.00, 0.00, 255.00)",
                    "rgb(0.00, 0.00, 255.00)",
                    "rgb(0.00, 0.00, 255.00)",
                    "rgb(0.00, 0.00, 255.00)",
                    "rgb(0.00, 0.00, 255.00)",
                    "rgb(0.00, 0.00, 255.00)",
                    "rgb(0.00, 0.00, 255.00)",
                    "rgb(0.00, 0.00, 255.00)",
                    "rgb(0.00, 0.00, 255.00)",
                    "rgb(0.00, 0.00, 255.00)",
                    "rgb(0.00, 0.00, 255.00)",
                    "rgb(0.00, 0.00, 255.00)",
                    "rgb(0.00, 0.00, 255.00)",
                    "rgb(0.00, 0.00, 255.00)",
                    "rgb(0.00, 0.00, 255.00)",
                    "rgb(0.00, 0.00, 255.00)",
                    "rgb(0.00, 0.00, 255.00)",
                    "rgb(0.00, 0.00, 255.00)",
                    "rgb(0.00, 0.00, 255.00)",
                    "rgb(0.00, 0.00, 255.00)",
                    "rgb(0.00, 0.00, 255.00)",
                    "rgb(0.00, 0.00, 255.00)",
                    "rgb(0.00, 0.00, 255.00)",
                    "rgb(0.00, 0.00, 255.00)",
                    "rgb(0.00, 0.00, 255.00)",
                    "rgb(0.00, 0.00, 255.00)",
                    "rgb(0.00, 0.00, 255.00)",
                    "rgb(0.00, 0.00, 255.00)",
                    "rgb(0.00, 0.00, 255.00)",
                    "rgb(0.00, 0.00, 255.00)",
                    "rgb(0.00, 0.00, 255.00)",
                    "rgb(0.00, 0.00, 255.00)",
                    "rgb(0.00, 0.00, 255.00)",
                    "rgb(0.00, 0.00, 255.00)",
                    "rgb(0.00, 0.00, 255.00)",
                    "rgb(0.00, 0.00, 255.00)",
                    "rgb(0.00, 0.00, 255.00)",
                    "rgb(0.00, 0.00, 255.00)",
                    "rgb(0.00, 0.00, 255.00)",
                    "rgb(0.00, 0.00, 255.00)",
                    "rgb(0.00, 0.00, 255.00)",
                    "rgb(0.00, 0.00, 255.00)",
                    "rgb(0.00, 0.00, 255.00)",
                    "rgb(0.00, 0.00, 255.00)",
                    "rgb(0.00, 0.00, 255.00)",
                    "rgb(0.00, 0.00, 255.00)",
                    "rgb(0.00, 0.00, 255.00)",
                    "rgb(0.00, 0.00, 255.00)",
                    "rgb(0.00, 0.00, 255.00)",
                    "rgb(0.00, 84.92, 255.00)",
                    "rgb(0.00, 84.92, 255.00)",
                    "rgb(0.00, 84.92, 255.00)",
                    "rgb(0.00, 84.92, 255.00)",
                    "rgb(0.00, 84.92, 255.00)",
                    "rgb(0.00, 84.92, 255.00)",
                    "rgb(0.00, 84.92, 255.00)",
                    "rgb(0.00, 84.92, 255.00)",
                    "rgb(0.00, 84.92, 255.00)",
                    "rgb(0.00, 84.92, 255.00)",
                    "rgb(0.00, 84.92, 255.00)",
                    "rgb(0.00, 84.92, 255.00)",
                    "rgb(0.00, 84.92, 255.00)",
                    "rgb(0.00, 84.92, 255.00)",
                    "rgb(0.00, 84.92, 255.00)",
                    "rgb(0.00, 84.92, 255.00)",
                    "rgb(0.00, 84.92, 255.00)",
                    "rgb(0.00, 84.92, 255.00)",
                    "rgb(0.00, 84.92, 255.00)",
                    "rgb(0.00, 84.92, 255.00)",
                    "rgb(0.00, 84.92, 255.00)",
                    "rgb(0.00, 84.92, 255.00)",
                    "rgb(0.00, 84.92, 255.00)",
                    "rgb(0.00, 84.92, 255.00)",
                    "rgb(0.00, 84.92, 255.00)",
                    "rgb(0.00, 84.92, 255.00)",
                    "rgb(0.00, 84.92, 255.00)",
                    "rgb(0.00, 84.92, 255.00)",
                    "rgb(0.00, 84.92, 255.00)",
                    "rgb(0.00, 84.92, 255.00)",
                    "rgb(0.00, 84.92, 255.00)",
                    "rgb(0.00, 84.92, 255.00)",
                    "rgb(0.00, 84.92, 255.00)",
                    "rgb(0.00, 84.92, 255.00)",
                    "rgb(0.00, 84.92, 255.00)",
                    "rgb(0.00, 84.92, 255.00)",
                    "rgb(0.00, 84.92, 255.00)",
                    "rgb(0.00, 84.92, 255.00)",
                    "rgb(0.00, 84.92, 255.00)",
                    "rgb(0.00, 84.92, 255.00)",
                    "rgb(0.00, 84.92, 255.00)",
                    "rgb(0.00, 84.92, 255.00)",
                    "rgb(0.00, 84.92, 255.00)",
                    "rgb(0.00, 84.92, 255.00)",
                    "rgb(0.00, 84.92, 255.00)",
                    "rgb(0.00, 84.92, 255.00)",
                    "rgb(0.00, 84.92, 255.00)",
                    "rgb(0.00, 84.92, 255.00)",
                    "rgb(0.00, 84.92, 255.00)",
                    "rgb(0.00, 84.92, 255.00)",
                    "rgb(0.00, 84.92, 255.00)",
                    "rgb(0.00, 84.92, 255.00)",
                    "rgb(0.00, 84.92, 255.00)",
                    "rgb(0.00, 84.92, 255.00)",
                    "rgb(0.00, 84.92, 255.00)",
                    "rgb(0.00, 84.92, 255.00)",
                    "rgb(0.00, 84.92, 255.00)",
                    "rgb(0.00, 84.92, 255.00)",
                    "rgb(0.00, 84.92, 255.00)",
                    "rgb(0.00, 84.92, 255.00)",
                    "rgb(0.00, 84.92, 255.00)",
                    "rgb(0.00, 84.92, 255.00)",
                    "rgb(0.00, 84.92, 255.00)",
                    "rgb(0.00, 84.92, 255.00)",
                    "rgb(0.00, 84.92, 255.00)",
                    "rgb(0.00, 84.92, 255.00)",
                    "rgb(0.00, 84.92, 255.00)",
                    "rgb(0.00, 84.92, 255.00)",
                    "rgb(0.00, 84.92, 255.00)",
                    "rgb(0.00, 84.92, 255.00)",
                    "rgb(0.00, 84.92, 255.00)",
                    "rgb(0.00, 84.92, 255.00)",
                    "rgb(0.00, 84.92, 255.00)",
                    "rgb(0.00, 84.92, 255.00)",
                    "rgb(0.00, 84.92, 255.00)",
                    "rgb(0.00, 84.92, 255.00)",
                    "rgb(0.00, 84.92, 255.00)",
                    "rgb(0.00, 84.92, 255.00)",
                    "rgb(0.00, 84.92, 255.00)",
                    "rgb(0.00, 84.92, 255.00)",
                    "rgb(0.00, 84.92, 255.00)",
                    "rgb(0.00, 84.92, 255.00)",
                    "rgb(0.00, 84.92, 255.00)",
                    "rgb(0.00, 84.92, 255.00)",
                    "rgb(0.00, 84.92, 255.00)",
                    "rgb(0.00, 84.92, 255.00)",
                    "rgb(0.00, 84.92, 255.00)",
                    "rgb(0.00, 84.92, 255.00)",
                    "rgb(0.00, 84.92, 255.00)",
                    "rgb(0.00, 84.92, 255.00)",
                    "rgb(0.00, 84.92, 255.00)",
                    "rgb(0.00, 84.92, 255.00)",
                    "rgb(0.00, 84.92, 255.00)",
                    "rgb(0.00, 84.92, 255.00)",
                    "rgb(0.00, 84.92, 255.00)",
                    "rgb(0.00, 84.92, 255.00)",
                    "rgb(0.00, 84.92, 255.00)",
                    "rgb(0.00, 84.92, 255.00)",
                    "rgb(0.00, 84.92, 255.00)",
                    "rgb(0.00, 84.92, 255.00)",
                    "rgb(0.00, 84.92, 255.00)",
                    "rgb(0.00, 84.92, 255.00)",
                    "rgb(0.00, 84.92, 255.00)",
                    "rgb(0.00, 84.92, 255.00)",
                    "rgb(0.00, 84.92, 255.00)",
                    "rgb(0.00, 84.92, 255.00)",
                    "rgb(0.00, 84.92, 255.00)",
                    "rgb(0.00, 84.92, 255.00)",
                    "rgb(0.00, 84.92, 255.00)",
                    "rgb(0.00, 84.92, 255.00)",
                    "rgb(0.00, 84.92, 255.00)",
                    "rgb(0.00, 84.92, 255.00)",
                    "rgb(0.00, 84.92, 255.00)",
                    "rgb(0.00, 84.92, 255.00)",
                    "rgb(0.00, 84.92, 255.00)",
                    "rgb(0.00, 84.92, 255.00)",
                    "rgb(0.00, 84.92, 255.00)",
                    "rgb(0.00, 84.92, 255.00)",
                    "rgb(0.00, 84.92, 255.00)",
                    "rgb(0.00, 84.92, 255.00)",
                    "rgb(0.00, 84.92, 255.00)",
                    "rgb(0.00, 84.92, 255.00)",
                    "rgb(0.00, 84.92, 255.00)",
                    "rgb(0.00, 84.92, 255.00)",
                    "rgb(0.00, 84.92, 255.00)",
                    "rgb(0.00, 84.92, 255.00)",
                    "rgb(0.00, 84.92, 255.00)",
                    "rgb(0.00, 84.92, 255.00)",
                    "rgb(0.00, 84.92, 255.00)",
                    "rgb(0.00, 84.92, 255.00)",
                    "rgb(0.00, 84.92, 255.00)",
                    "rgb(0.00, 84.92, 255.00)",
                    "rgb(0.00, 84.92, 255.00)",
                    "rgb(0.00, 84.92, 255.00)",
                    "rgb(0.00, 84.92, 255.00)",
                    "rgb(0.00, 84.92, 255.00)",
                    "rgb(0.00, 84.92, 255.00)",
                    "rgb(0.00, 84.92, 255.00)",
                    "rgb(0.00, 84.92, 255.00)",
                    "rgb(0.00, 84.92, 255.00)",
                    "rgb(0.00, 84.92, 255.00)",
                    "rgb(0.00, 84.92, 255.00)",
                    "rgb(0.00, 84.92, 255.00)",
                    "rgb(0.00, 84.92, 255.00)",
                    "rgb(0.00, 84.92, 255.00)",
                    "rgb(0.00, 84.92, 255.00)",
                    "rgb(0.00, 84.92, 255.00)",
                    "rgb(0.00, 84.92, 255.00)",
                    "rgb(0.00, 84.92, 255.00)",
                    "rgb(0.00, 84.92, 255.00)",
                    "rgb(0.00, 84.92, 255.00)",
                    "rgb(0.00, 84.92, 255.00)",
                    "rgb(0.00, 84.92, 255.00)",
                    "rgb(0.00, 84.92, 255.00)",
                    "rgb(0.00, 84.92, 255.00)",
                    "rgb(0.00, 84.92, 255.00)",
                    "rgb(0.00, 84.92, 255.00)",
                    "rgb(0.00, 84.92, 255.00)",
                    "rgb(0.00, 84.92, 255.00)",
                    "rgb(0.00, 84.92, 255.00)",
                    "rgb(0.00, 84.92, 255.00)",
                    "rgb(0.00, 84.92, 255.00)",
                    "rgb(0.00, 84.92, 255.00)",
                    "rgb(0.00, 84.92, 255.00)",
                    "rgb(0.00, 84.92, 255.00)",
                    "rgb(0.00, 84.92, 255.00)",
                    "rgb(0.00, 84.92, 255.00)",
                    "rgb(0.00, 84.92, 255.00)",
                    "rgb(0.00, 84.92, 255.00)",
                    "rgb(0.00, 84.92, 255.00)",
                    "rgb(0.00, 84.92, 255.00)",
                    "rgb(0.00, 84.92, 255.00)",
                    "rgb(0.00, 84.92, 255.00)",
                    "rgb(0.00, 84.92, 255.00)",
                    "rgb(0.00, 84.92, 255.00)",
                    "rgb(0.00, 84.92, 255.00)",
                    "rgb(0.00, 84.92, 255.00)",
                    "rgb(0.00, 84.92, 255.00)",
                    "rgb(0.00, 84.92, 255.00)",
                    "rgb(0.00, 84.92, 255.00)",
                    "rgb(0.00, 84.92, 255.00)",
                    "rgb(0.00, 84.92, 255.00)",
                    "rgb(0.00, 84.92, 255.00)",
                    "rgb(0.00, 84.92, 255.00)",
                    "rgb(0.00, 84.92, 255.00)",
                    "rgb(0.00, 84.92, 255.00)",
                    "rgb(0.00, 84.92, 255.00)",
                    "rgb(0.00, 84.92, 255.00)",
                    "rgb(0.00, 84.92, 255.00)",
                    "rgb(0.00, 84.92, 255.00)",
                    "rgb(0.00, 84.92, 255.00)",
                    "rgb(0.00, 84.92, 255.00)",
                    "rgb(0.00, 84.92, 255.00)",
                    "rgb(0.00, 84.92, 255.00)",
                    "rgb(0.00, 84.92, 255.00)",
                    "rgb(0.00, 84.92, 255.00)",
                    "rgb(0.00, 84.92, 255.00)",
                    "rgb(0.00, 84.92, 255.00)",
                    "rgb(0.00, 84.92, 255.00)",
                    "rgb(0.00, 84.92, 255.00)",
                    "rgb(0.00, 84.92, 255.00)",
                    "rgb(0.00, 84.92, 255.00)",
                    "rgb(0.00, 84.92, 255.00)",
                    "rgb(0.00, 84.92, 255.00)",
                    "rgb(0.00, 84.92, 255.00)",
                    "rgb(0.00, 84.92, 255.00)",
                    "rgb(0.00, 84.92, 255.00)",
                    "rgb(0.00, 84.92, 255.00)",
                    "rgb(0.00, 84.92, 255.00)",
                    "rgb(0.00, 84.92, 255.00)",
                    "rgb(0.00, 84.92, 255.00)",
                    "rgb(0.00, 84.92, 255.00)",
                    "rgb(0.00, 84.92, 255.00)",
                    "rgb(0.00, 84.92, 255.00)",
                    "rgb(0.00, 84.92, 255.00)",
                    "rgb(0.00, 84.92, 255.00)",
                    "rgb(0.00, 84.92, 255.00)",
                    "rgb(0.00, 84.92, 255.00)",
                    "rgb(0.00, 84.92, 255.00)",
                    "rgb(0.00, 84.92, 255.00)",
                    "rgb(0.00, 84.92, 255.00)",
                    "rgb(0.00, 84.92, 255.00)",
                    "rgb(0.00, 84.92, 255.00)",
                    "rgb(0.00, 84.92, 255.00)",
                    "rgb(0.00, 84.92, 255.00)",
                    "rgb(0.00, 84.92, 255.00)",
                    "rgb(0.00, 84.92, 255.00)",
                    "rgb(0.00, 84.92, 255.00)",
                    "rgb(0.00, 84.92, 255.00)",
                    "rgb(0.00, 84.92, 255.00)",
                    "rgb(0.00, 84.92, 255.00)",
                    "rgb(0.00, 84.92, 255.00)",
                    "rgb(0.00, 84.92, 255.00)",
                    "rgb(0.00, 84.92, 255.00)",
                    "rgb(0.00, 84.92, 255.00)",
                    "rgb(0.00, 84.92, 255.00)",
                    "rgb(0.00, 84.92, 255.00)",
                    "rgb(0.00, 84.92, 255.00)",
                    "rgb(0.00, 84.92, 255.00)",
                    "rgb(0.00, 84.92, 255.00)",
                    "rgb(0.00, 84.92, 255.00)",
                    "rgb(0.00, 84.92, 255.00)",
                    "rgb(0.00, 84.92, 255.00)",
                    "rgb(0.00, 84.92, 255.00)",
                    "rgb(0.00, 84.92, 255.00)",
                    "rgb(0.00, 84.92, 255.00)",
                    "rgb(0.00, 84.92, 255.00)",
                    "rgb(0.00, 84.92, 255.00)",
                    "rgb(0.00, 84.92, 255.00)",
                    "rgb(0.00, 84.92, 255.00)",
                    "rgb(0.00, 84.92, 255.00)",
                    "rgb(0.00, 84.92, 255.00)",
                    "rgb(0.00, 84.92, 255.00)",
                    "rgb(0.00, 84.92, 255.00)",
                    "rgb(0.00, 84.92, 255.00)",
                    "rgb(0.00, 84.92, 255.00)",
                    "rgb(0.00, 84.92, 255.00)",
                    "rgb(0.00, 84.92, 255.00)",
                    "rgb(0.00, 84.92, 255.00)",
                    "rgb(0.00, 84.92, 255.00)",
                    "rgb(0.00, 84.92, 255.00)",
                    "rgb(0.00, 84.92, 255.00)",
                    "rgb(0.00, 84.92, 255.00)",
                    "rgb(0.00, 84.92, 255.00)",
                    "rgb(0.00, 84.92, 255.00)",
                    "rgb(0.00, 84.92, 255.00)",
                    "rgb(0.00, 84.92, 255.00)",
                    "rgb(0.00, 84.92, 255.00)",
                    "rgb(0.00, 84.92, 255.00)",
                    "rgb(0.00, 84.92, 255.00)",
                    "rgb(0.00, 84.92, 255.00)",
                    "rgb(0.00, 84.92, 255.00)",
                    "rgb(0.00, 84.92, 255.00)",
                    "rgb(0.00, 84.92, 255.00)",
                    "rgb(0.00, 84.92, 255.00)",
                    "rgb(0.00, 84.92, 255.00)",
                    "rgb(0.00, 84.92, 255.00)",
                    "rgb(0.00, 84.92, 255.00)",
                    "rgb(0.00, 84.92, 255.00)",
                    "rgb(0.00, 84.92, 255.00)",
                    "rgb(0.00, 84.92, 255.00)",
                    "rgb(0.00, 84.92, 255.00)",
                    "rgb(0.00, 84.92, 255.00)",
                    "rgb(0.00, 84.92, 255.00)",
                    "rgb(0.00, 84.92, 255.00)",
                    "rgb(0.00, 84.92, 255.00)",
                    "rgb(0.00, 84.92, 255.00)",
                    "rgb(0.00, 84.92, 255.00)",
                    "rgb(0.00, 84.92, 255.00)",
                    "rgb(0.00, 84.92, 255.00)",
                    "rgb(0.00, 84.92, 255.00)",
                    "rgb(0.00, 84.92, 255.00)",
                    "rgb(0.00, 84.92, 255.00)",
                    "rgb(0.00, 84.92, 255.00)",
                    "rgb(0.00, 84.92, 255.00)",
                    "rgb(0.00, 84.92, 255.00)",
                    "rgb(0.00, 84.92, 255.00)",
                    "rgb(0.00, 84.92, 255.00)",
                    "rgb(0.00, 84.92, 255.00)",
                    "rgb(0.00, 84.92, 255.00)",
                    "rgb(0.00, 84.92, 255.00)",
                    "rgb(0.00, 84.92, 255.00)",
                    "rgb(0.00, 84.92, 255.00)",
                    "rgb(0.00, 84.92, 255.00)",
                    "rgb(0.00, 84.92, 255.00)",
                    "rgb(0.00, 84.92, 255.00)",
                    "rgb(0.00, 84.92, 255.00)",
                    "rgb(0.00, 84.92, 255.00)",
                    "rgb(0.00, 84.92, 255.00)",
                    "rgb(0.00, 84.92, 255.00)",
                    "rgb(0.00, 84.92, 255.00)",
                    "rgb(0.00, 84.92, 255.00)",
                    "rgb(0.00, 84.92, 255.00)",
                    "rgb(0.00, 84.92, 255.00)",
                    "rgb(0.00, 84.92, 255.00)",
                    "rgb(0.00, 84.92, 255.00)",
                    "rgb(0.00, 84.92, 255.00)",
                    "rgb(0.00, 84.92, 255.00)",
                    "rgb(0.00, 84.92, 255.00)",
                    "rgb(0.00, 84.92, 255.00)",
                    "rgb(0.00, 84.92, 255.00)",
                    "rgb(0.00, 84.92, 255.00)",
                    "rgb(0.00, 84.92, 255.00)",
                    "rgb(0.00, 84.92, 255.00)",
                    "rgb(0.00, 84.92, 255.00)",
                    "rgb(0.00, 84.92, 255.00)",
                    "rgb(0.00, 84.92, 255.00)",
                    "rgb(0.00, 84.92, 255.00)",
                    "rgb(0.00, 84.92, 255.00)",
                    "rgb(0.00, 84.92, 255.00)",
                    "rgb(0.00, 84.92, 255.00)",
                    "rgb(0.00, 84.92, 255.00)",
                    "rgb(0.00, 84.92, 255.00)",
                    "rgb(0.00, 84.92, 255.00)",
                    "rgb(0.00, 84.92, 255.00)",
                    "rgb(0.00, 84.92, 255.00)",
                    "rgb(0.00, 84.92, 255.00)",
                    "rgb(0.00, 84.92, 255.00)",
                    "rgb(0.00, 84.92, 255.00)",
                    "rgb(0.00, 84.92, 255.00)",
                    "rgb(0.00, 84.92, 255.00)",
                    "rgb(0.00, 84.92, 255.00)",
                    "rgb(0.00, 84.92, 255.00)",
                    "rgb(0.00, 84.92, 255.00)",
                    "rgb(0.00, 84.92, 255.00)",
                    "rgb(0.00, 84.92, 255.00)",
                    "rgb(0.00, 84.92, 255.00)",
                    "rgb(0.00, 84.92, 255.00)",
                    "rgb(0.00, 84.92, 255.00)",
                    "rgb(0.00, 84.92, 255.00)",
                    "rgb(0.00, 84.92, 255.00)",
                    "rgb(0.00, 84.92, 255.00)",
                    "rgb(0.00, 84.92, 255.00)",
                    "rgb(0.00, 84.92, 255.00)",
                    "rgb(0.00, 84.92, 255.00)",
                    "rgb(0.00, 84.92, 255.00)",
                    "rgb(0.00, 170.09, 255.00)",
                    "rgb(0.00, 170.09, 255.00)",
                    "rgb(0.00, 170.09, 255.00)",
                    "rgb(0.00, 170.09, 255.00)",
                    "rgb(0.00, 170.09, 255.00)",
                    "rgb(0.00, 170.09, 255.00)",
                    "rgb(0.00, 170.09, 255.00)",
                    "rgb(0.00, 170.09, 255.00)",
                    "rgb(0.00, 170.09, 255.00)",
                    "rgb(0.00, 170.09, 255.00)",
                    "rgb(0.00, 170.09, 255.00)",
                    "rgb(0.00, 170.09, 255.00)",
                    "rgb(0.00, 170.09, 255.00)",
                    "rgb(0.00, 170.09, 255.00)",
                    "rgb(0.00, 170.09, 255.00)",
                    "rgb(0.00, 170.09, 255.00)",
                    "rgb(0.00, 170.09, 255.00)",
                    "rgb(0.00, 170.09, 255.00)",
                    "rgb(0.00, 170.09, 255.00)",
                    "rgb(0.00, 170.09, 255.00)",
                    "rgb(0.00, 170.09, 255.00)",
                    "rgb(0.00, 170.09, 255.00)",
                    "rgb(0.00, 170.09, 255.00)",
                    "rgb(0.00, 170.09, 255.00)",
                    "rgb(0.00, 170.09, 255.00)",
                    "rgb(0.00, 170.09, 255.00)",
                    "rgb(0.00, 170.09, 255.00)",
                    "rgb(0.00, 170.09, 255.00)",
                    "rgb(0.00, 170.09, 255.00)",
                    "rgb(0.00, 170.09, 255.00)",
                    "rgb(0.00, 170.09, 255.00)",
                    "rgb(0.00, 170.09, 255.00)",
                    "rgb(0.00, 170.09, 255.00)",
                    "rgb(0.00, 170.09, 255.00)",
                    "rgb(0.00, 170.09, 255.00)",
                    "rgb(0.00, 170.09, 255.00)",
                    "rgb(0.00, 170.09, 255.00)",
                    "rgb(0.00, 170.09, 255.00)",
                    "rgb(0.00, 170.09, 255.00)",
                    "rgb(0.00, 170.09, 255.00)",
                    "rgb(0.00, 170.09, 255.00)",
                    "rgb(0.00, 170.09, 255.00)",
                    "rgb(0.00, 170.09, 255.00)",
                    "rgb(0.00, 170.09, 255.00)",
                    "rgb(0.00, 170.09, 255.00)",
                    "rgb(0.00, 170.09, 255.00)",
                    "rgb(0.00, 170.09, 255.00)",
                    "rgb(0.00, 170.09, 255.00)",
                    "rgb(0.00, 170.09, 255.00)",
                    "rgb(0.00, 170.09, 255.00)",
                    "rgb(0.00, 170.09, 255.00)",
                    "rgb(0.00, 170.09, 255.00)",
                    "rgb(0.00, 170.09, 255.00)",
                    "rgb(0.00, 170.09, 255.00)",
                    "rgb(0.00, 170.09, 255.00)",
                    "rgb(0.00, 170.09, 255.00)",
                    "rgb(0.00, 170.09, 255.00)",
                    "rgb(0.00, 170.09, 255.00)",
                    "rgb(0.00, 170.09, 255.00)",
                    "rgb(0.00, 170.09, 255.00)",
                    "rgb(0.00, 170.09, 255.00)",
                    "rgb(0.00, 170.09, 255.00)",
                    "rgb(0.00, 170.09, 255.00)",
                    "rgb(0.00, 170.09, 255.00)",
                    "rgb(0.00, 170.09, 255.00)",
                    "rgb(0.00, 170.09, 255.00)",
                    "rgb(0.00, 170.09, 255.00)",
                    "rgb(0.00, 170.09, 255.00)",
                    "rgb(0.00, 170.09, 255.00)",
                    "rgb(0.00, 170.09, 255.00)",
                    "rgb(0.00, 170.09, 255.00)",
                    "rgb(0.00, 170.09, 255.00)",
                    "rgb(0.00, 170.09, 255.00)",
                    "rgb(0.00, 170.09, 255.00)",
                    "rgb(0.00, 170.09, 255.00)",
                    "rgb(0.00, 170.09, 255.00)",
                    "rgb(0.00, 170.09, 255.00)",
                    "rgb(0.00, 170.09, 255.00)",
                    "rgb(0.00, 170.09, 255.00)",
                    "rgb(0.00, 170.09, 255.00)",
                    "rgb(0.00, 170.09, 255.00)",
                    "rgb(0.00, 170.09, 255.00)",
                    "rgb(0.00, 170.09, 255.00)",
                    "rgb(0.00, 170.09, 255.00)",
                    "rgb(0.00, 170.09, 255.00)",
                    "rgb(0.00, 170.09, 255.00)",
                    "rgb(0.00, 170.09, 255.00)",
                    "rgb(0.00, 170.09, 255.00)",
                    "rgb(0.00, 170.09, 255.00)",
                    "rgb(0.00, 170.09, 255.00)",
                    "rgb(0.00, 170.09, 255.00)",
                    "rgb(0.00, 170.09, 255.00)",
                    "rgb(0.00, 170.09, 255.00)",
                    "rgb(0.00, 170.09, 255.00)",
                    "rgb(0.00, 170.09, 255.00)",
                    "rgb(0.00, 170.09, 255.00)",
                    "rgb(0.00, 170.09, 255.00)",
                    "rgb(0.00, 170.09, 255.00)",
                    "rgb(0.00, 170.09, 255.00)",
                    "rgb(0.00, 170.09, 255.00)",
                    "rgb(0.00, 170.09, 255.00)",
                    "rgb(0.00, 170.09, 255.00)",
                    "rgb(0.00, 170.09, 255.00)",
                    "rgb(0.00, 170.09, 255.00)",
                    "rgb(0.00, 170.09, 255.00)",
                    "rgb(0.00, 170.09, 255.00)",
                    "rgb(0.00, 170.09, 255.00)",
                    "rgb(0.00, 170.09, 255.00)",
                    "rgb(0.00, 170.09, 255.00)",
                    "rgb(0.00, 170.09, 255.00)",
                    "rgb(0.00, 170.09, 255.00)",
                    "rgb(0.00, 170.09, 255.00)",
                    "rgb(0.00, 170.09, 255.00)",
                    "rgb(0.00, 170.09, 255.00)",
                    "rgb(0.00, 170.09, 255.00)",
                    "rgb(0.00, 170.09, 255.00)",
                    "rgb(0.00, 170.09, 255.00)",
                    "rgb(0.00, 170.09, 255.00)",
                    "rgb(0.00, 170.09, 255.00)",
                    "rgb(0.00, 170.09, 255.00)",
                    "rgb(0.00, 170.09, 255.00)",
                    "rgb(0.00, 170.09, 255.00)",
                    "rgb(0.00, 170.09, 255.00)",
                    "rgb(0.00, 170.09, 255.00)",
                    "rgb(0.00, 170.09, 255.00)",
                    "rgb(0.00, 170.09, 255.00)",
                    "rgb(0.00, 170.09, 255.00)",
                    "rgb(0.00, 170.09, 255.00)",
                    "rgb(0.00, 170.09, 255.00)",
                    "rgb(0.00, 170.09, 255.00)",
                    "rgb(0.00, 170.09, 255.00)",
                    "rgb(0.00, 170.09, 255.00)",
                    "rgb(0.00, 170.09, 255.00)",
                    "rgb(0.00, 170.09, 255.00)",
                    "rgb(0.00, 170.09, 255.00)",
                    "rgb(0.00, 170.09, 255.00)",
                    "rgb(0.00, 170.09, 255.00)",
                    "rgb(0.00, 170.09, 255.00)",
                    "rgb(0.00, 170.09, 255.00)",
                    "rgb(0.00, 170.09, 255.00)",
                    "rgb(0.00, 170.09, 255.00)",
                    "rgb(0.00, 170.09, 255.00)",
                    "rgb(0.00, 170.09, 255.00)",
                    "rgb(0.00, 170.09, 255.00)",
                    "rgb(0.00, 170.09, 255.00)",
                    "rgb(0.00, 170.09, 255.00)",
                    "rgb(0.00, 170.09, 255.00)",
                    "rgb(0.00, 170.09, 255.00)",
                    "rgb(0.00, 170.09, 255.00)",
                    "rgb(0.00, 170.09, 255.00)",
                    "rgb(0.00, 170.09, 255.00)",
                    "rgb(0.00, 170.09, 255.00)",
                    "rgb(0.00, 170.09, 255.00)",
                    "rgb(0.00, 170.09, 255.00)",
                    "rgb(0.00, 170.09, 255.00)",
                    "rgb(0.00, 170.09, 255.00)",
                    "rgb(0.00, 170.09, 255.00)",
                    "rgb(0.00, 170.09, 255.00)",
                    "rgb(0.00, 170.09, 255.00)",
                    "rgb(0.00, 170.09, 255.00)",
                    "rgb(0.00, 170.09, 255.00)",
                    "rgb(0.00, 170.09, 255.00)",
                    "rgb(0.00, 170.09, 255.00)",
                    "rgb(0.00, 170.09, 255.00)",
                    "rgb(0.00, 170.09, 255.00)",
                    "rgb(0.00, 170.09, 255.00)",
                    "rgb(0.00, 170.09, 255.00)",
                    "rgb(0.00, 170.09, 255.00)",
                    "rgb(0.00, 170.09, 255.00)",
                    "rgb(0.00, 170.09, 255.00)",
                    "rgb(0.00, 170.09, 255.00)",
                    "rgb(0.00, 170.09, 255.00)",
                    "rgb(0.00, 170.09, 255.00)",
                    "rgb(0.00, 170.09, 255.00)",
                    "rgb(0.00, 170.09, 255.00)",
                    "rgb(0.00, 170.09, 255.00)",
                    "rgb(0.00, 170.09, 255.00)",
                    "rgb(0.00, 170.09, 255.00)",
                    "rgb(0.00, 170.09, 255.00)",
                    "rgb(0.00, 170.09, 255.00)",
                    "rgb(0.00, 170.09, 255.00)",
                    "rgb(0.00, 170.09, 255.00)",
                    "rgb(0.00, 170.09, 255.00)",
                    "rgb(0.00, 170.09, 255.00)",
                    "rgb(0.00, 170.09, 255.00)",
                    "rgb(0.00, 170.09, 255.00)",
                    "rgb(0.00, 170.09, 255.00)",
                    "rgb(0.00, 170.09, 255.00)",
                    "rgb(0.00, 170.09, 255.00)",
                    "rgb(0.00, 170.09, 255.00)",
                    "rgb(0.00, 170.09, 255.00)",
                    "rgb(0.00, 170.09, 255.00)",
                    "rgb(0.00, 170.09, 255.00)",
                    "rgb(0.00, 170.09, 255.00)",
                    "rgb(0.00, 170.09, 255.00)",
                    "rgb(0.00, 170.09, 255.00)",
                    "rgb(0.00, 170.09, 255.00)",
                    "rgb(0.00, 170.09, 255.00)",
                    "rgb(0.00, 170.09, 255.00)",
                    "rgb(0.00, 170.09, 255.00)",
                    "rgb(0.00, 170.09, 255.00)",
                    "rgb(0.00, 170.09, 255.00)",
                    "rgb(0.00, 170.09, 255.00)",
                    "rgb(0.00, 170.09, 255.00)",
                    "rgb(0.00, 170.09, 255.00)",
                    "rgb(0.00, 170.09, 255.00)",
                    "rgb(0.00, 170.09, 255.00)",
                    "rgb(0.00, 170.09, 255.00)",
                    "rgb(0.00, 170.09, 255.00)",
                    "rgb(0.00, 170.09, 255.00)",
                    "rgb(0.00, 170.09, 255.00)",
                    "rgb(0.00, 170.09, 255.00)",
                    "rgb(0.00, 170.09, 255.00)",
                    "rgb(0.00, 170.09, 255.00)",
                    "rgb(0.00, 170.09, 255.00)",
                    "rgb(0.00, 170.09, 255.00)",
                    "rgb(0.00, 170.09, 255.00)",
                    "rgb(0.00, 170.09, 255.00)",
                    "rgb(0.00, 170.09, 255.00)",
                    "rgb(0.00, 170.09, 255.00)",
                    "rgb(0.00, 170.09, 255.00)",
                    "rgb(0.00, 170.09, 255.00)",
                    "rgb(0.00, 170.09, 255.00)",
                    "rgb(0.00, 170.09, 255.00)",
                    "rgb(0.00, 170.09, 255.00)",
                    "rgb(0.00, 170.09, 255.00)",
                    "rgb(0.00, 170.09, 255.00)",
                    "rgb(0.00, 170.09, 255.00)",
                    "rgb(0.00, 170.09, 255.00)",
                    "rgb(0.00, 170.09, 255.00)",
                    "rgb(0.00, 170.09, 255.00)",
                    "rgb(0.00, 170.09, 255.00)",
                    "rgb(0.00, 170.09, 255.00)",
                    "rgb(0.00, 170.09, 255.00)",
                    "rgb(0.00, 170.09, 255.00)",
                    "rgb(0.00, 170.09, 255.00)",
                    "rgb(0.00, 170.09, 255.00)",
                    "rgb(0.00, 170.09, 255.00)",
                    "rgb(0.00, 170.09, 255.00)",
                    "rgb(0.00, 170.09, 255.00)",
                    "rgb(0.00, 170.09, 255.00)",
                    "rgb(0.00, 170.09, 255.00)",
                    "rgb(0.00, 170.09, 255.00)",
                    "rgb(0.00, 170.09, 255.00)",
                    "rgb(0.00, 170.09, 255.00)",
                    "rgb(0.00, 170.09, 255.00)",
                    "rgb(0.00, 170.09, 255.00)",
                    "rgb(0.00, 170.09, 255.00)",
                    "rgb(0.00, 170.09, 255.00)",
                    "rgb(0.00, 170.09, 255.00)",
                    "rgb(0.00, 170.09, 255.00)",
                    "rgb(0.00, 170.09, 255.00)",
                    "rgb(0.00, 170.09, 255.00)",
                    "rgb(0.00, 170.09, 255.00)",
                    "rgb(0.00, 170.09, 255.00)",
                    "rgb(0.00, 170.09, 255.00)",
                    "rgb(0.00, 170.09, 255.00)",
                    "rgb(0.00, 170.09, 255.00)",
                    "rgb(0.00, 170.09, 255.00)",
                    "rgb(0.00, 170.09, 255.00)",
                    "rgb(0.00, 170.09, 255.00)",
                    "rgb(0.00, 170.09, 255.00)",
                    "rgb(0.00, 170.09, 255.00)",
                    "rgb(0.00, 170.09, 255.00)",
                    "rgb(0.00, 170.09, 255.00)",
                    "rgb(0.00, 170.09, 255.00)",
                    "rgb(0.00, 170.09, 255.00)",
                    "rgb(0.00, 170.09, 255.00)",
                    "rgb(0.00, 170.09, 255.00)",
                    "rgb(0.00, 170.09, 255.00)",
                    "rgb(0.00, 170.09, 255.00)",
                    "rgb(0.00, 170.09, 255.00)",
                    "rgb(0.00, 170.09, 255.00)",
                    "rgb(0.00, 170.09, 255.00)",
                    "rgb(0.00, 170.09, 255.00)",
                    "rgb(0.00, 170.09, 255.00)",
                    "rgb(0.00, 170.09, 255.00)",
                    "rgb(0.00, 170.09, 255.00)",
                    "rgb(0.00, 170.09, 255.00)",
                    "rgb(0.00, 170.09, 255.00)",
                    "rgb(0.00, 170.09, 255.00)",
                    "rgb(0.00, 170.09, 255.00)",
                    "rgb(0.00, 170.09, 255.00)",
                    "rgb(0.00, 170.09, 255.00)",
                    "rgb(0.00, 170.09, 255.00)",
                    "rgb(0.00, 170.09, 255.00)",
                    "rgb(0.00, 170.09, 255.00)",
                    "rgb(0.00, 170.09, 255.00)",
                    "rgb(0.00, 170.09, 255.00)",
                    "rgb(0.00, 170.09, 255.00)",
                    "rgb(0.00, 170.09, 255.00)",
                    "rgb(0.00, 170.09, 255.00)",
                    "rgb(0.00, 170.09, 255.00)",
                    "rgb(0.00, 170.09, 255.00)",
                    "rgb(0.00, 170.09, 255.00)",
                    "rgb(0.00, 170.09, 255.00)",
                    "rgb(0.00, 170.09, 255.00)",
                    "rgb(0.00, 170.09, 255.00)",
                    "rgb(0.00, 170.09, 255.00)",
                    "rgb(0.00, 170.09, 255.00)",
                    "rgb(0.00, 170.09, 255.00)",
                    "rgb(0.00, 170.09, 255.00)",
                    "rgb(0.00, 170.09, 255.00)",
                    "rgb(0.00, 170.09, 255.00)",
                    "rgb(0.00, 170.09, 255.00)",
                    "rgb(0.00, 170.09, 255.00)",
                    "rgb(0.00, 170.09, 255.00)",
                    "rgb(0.00, 170.09, 255.00)",
                    "rgb(0.00, 170.09, 255.00)",
                    "rgb(0.00, 170.09, 255.00)",
                    "rgb(0.00, 170.09, 255.00)",
                    "rgb(0.00, 170.09, 255.00)",
                    "rgb(0.00, 170.09, 255.00)",
                    "rgb(0.00, 170.09, 255.00)",
                    "rgb(0.00, 170.09, 255.00)",
                    "rgb(0.00, 170.09, 255.00)",
                    "rgb(0.00, 170.09, 255.00)",
                    "rgb(0.00, 170.09, 255.00)",
                    "rgb(0.00, 170.09, 255.00)",
                    "rgb(0.00, 170.09, 255.00)",
                    "rgb(0.00, 170.09, 255.00)",
                    "rgb(0.00, 170.09, 255.00)",
                    "rgb(0.00, 170.09, 255.00)",
                    "rgb(0.00, 170.09, 255.00)",
                    "rgb(0.00, 170.09, 255.00)",
                    "rgb(0.00, 170.09, 255.00)",
                    "rgb(0.00, 170.09, 255.00)",
                    "rgb(0.00, 170.09, 255.00)",
                    "rgb(0.00, 170.09, 255.00)",
                    "rgb(0.00, 170.09, 255.00)",
                    "rgb(0.00, 170.09, 255.00)",
                    "rgb(0.00, 170.09, 255.00)",
                    "rgb(0.00, 170.09, 255.00)",
                    "rgb(0.00, 170.09, 255.00)",
                    "rgb(0.00, 170.09, 255.00)",
                    "rgb(0.00, 170.09, 255.00)",
                    "rgb(0.00, 170.09, 255.00)",
                    "rgb(0.00, 170.09, 255.00)",
                    "rgb(0.00, 170.09, 255.00)",
                    "rgb(0.00, 170.09, 255.00)",
                    "rgb(0.00, 170.09, 255.00)",
                    "rgb(0.00, 170.09, 255.00)",
                    "rgb(0.00, 170.09, 255.00)",
                    "rgb(0.00, 170.09, 255.00)",
                    "rgb(0.00, 170.09, 255.00)",
                    "rgb(0.00, 170.09, 255.00)",
                    "rgb(0.00, 170.09, 255.00)",
                    "rgb(0.00, 170.09, 255.00)",
                    "rgb(0.00, 170.09, 255.00)",
                    "rgb(0.00, 170.09, 255.00)",
                    "rgb(0.00, 170.09, 255.00)",
                    "rgb(0.00, 170.09, 255.00)",
                    "rgb(0.00, 255.00, 255.00)",
                    "rgb(0.00, 255.00, 255.00)",
                    "rgb(0.00, 255.00, 255.00)",
                    "rgb(0.00, 255.00, 255.00)",
                    "rgb(0.00, 255.00, 255.00)",
                    "rgb(0.00, 255.00, 255.00)",
                    "rgb(0.00, 255.00, 255.00)",
                    "rgb(0.00, 255.00, 255.00)",
                    "rgb(0.00, 255.00, 255.00)",
                    "rgb(0.00, 255.00, 255.00)",
                    "rgb(0.00, 255.00, 255.00)",
                    "rgb(0.00, 255.00, 255.00)",
                    "rgb(0.00, 255.00, 255.00)",
                    "rgb(0.00, 255.00, 255.00)",
                    "rgb(0.00, 255.00, 255.00)",
                    "rgb(0.00, 255.00, 255.00)",
                    "rgb(0.00, 255.00, 255.00)",
                    "rgb(0.00, 255.00, 255.00)",
                    "rgb(0.00, 255.00, 255.00)",
                    "rgb(0.00, 255.00, 255.00)",
                    "rgb(0.00, 255.00, 255.00)",
                    "rgb(0.00, 255.00, 255.00)",
                    "rgb(0.00, 255.00, 255.00)",
                    "rgb(0.00, 255.00, 255.00)",
                    "rgb(0.00, 255.00, 255.00)",
                    "rgb(0.00, 255.00, 255.00)",
                    "rgb(0.00, 255.00, 255.00)",
                    "rgb(0.00, 255.00, 255.00)",
                    "rgb(0.00, 255.00, 255.00)",
                    "rgb(0.00, 255.00, 255.00)",
                    "rgb(0.00, 255.00, 255.00)",
                    "rgb(0.00, 255.00, 255.00)",
                    "rgb(0.00, 255.00, 255.00)",
                    "rgb(0.00, 255.00, 255.00)",
                    "rgb(0.00, 255.00, 255.00)",
                    "rgb(0.00, 255.00, 255.00)",
                    "rgb(0.00, 255.00, 255.00)",
                    "rgb(0.00, 255.00, 255.00)",
                    "rgb(0.00, 255.00, 255.00)",
                    "rgb(0.00, 255.00, 255.00)",
                    "rgb(0.00, 255.00, 255.00)",
                    "rgb(0.00, 255.00, 255.00)",
                    "rgb(0.00, 255.00, 255.00)",
                    "rgb(0.00, 255.00, 255.00)",
                    "rgb(0.00, 255.00, 255.00)",
                    "rgb(0.00, 255.00, 255.00)",
                    "rgb(0.00, 255.00, 255.00)",
                    "rgb(0.00, 255.00, 255.00)",
                    "rgb(0.00, 255.00, 255.00)",
                    "rgb(0.00, 255.00, 255.00)",
                    "rgb(0.00, 255.00, 255.00)",
                    "rgb(0.00, 255.00, 255.00)",
                    "rgb(0.00, 255.00, 255.00)",
                    "rgb(0.00, 255.00, 255.00)",
                    "rgb(0.00, 255.00, 255.00)",
                    "rgb(0.00, 255.00, 255.00)",
                    "rgb(0.00, 255.00, 255.00)",
                    "rgb(0.00, 255.00, 255.00)",
                    "rgb(0.00, 255.00, 255.00)",
                    "rgb(0.00, 255.00, 255.00)",
                    "rgb(0.00, 255.00, 255.00)",
                    "rgb(0.00, 255.00, 255.00)",
                    "rgb(0.00, 255.00, 255.00)",
                    "rgb(0.00, 255.00, 255.00)",
                    "rgb(0.00, 255.00, 255.00)",
                    "rgb(0.00, 255.00, 255.00)",
                    "rgb(0.00, 255.00, 255.00)",
                    "rgb(0.00, 255.00, 255.00)",
                    "rgb(0.00, 255.00, 255.00)",
                    "rgb(0.00, 255.00, 255.00)",
                    "rgb(0.00, 255.00, 255.00)",
                    "rgb(0.00, 255.00, 255.00)",
                    "rgb(0.00, 255.00, 255.00)",
                    "rgb(0.00, 255.00, 255.00)",
                    "rgb(0.00, 255.00, 255.00)",
                    "rgb(0.00, 255.00, 255.00)",
                    "rgb(0.00, 255.00, 255.00)",
                    "rgb(0.00, 255.00, 255.00)",
                    "rgb(0.00, 255.00, 255.00)",
                    "rgb(0.00, 255.00, 255.00)",
                    "rgb(0.00, 255.00, 255.00)",
                    "rgb(0.00, 255.00, 255.00)",
                    "rgb(0.00, 255.00, 255.00)",
                    "rgb(0.00, 255.00, 255.00)",
                    "rgb(0.00, 255.00, 255.00)",
                    "rgb(0.00, 255.00, 255.00)",
                    "rgb(0.00, 255.00, 255.00)",
                    "rgb(0.00, 255.00, 255.00)",
                    "rgb(0.00, 255.00, 255.00)",
                    "rgb(0.00, 255.00, 255.00)",
                    "rgb(0.00, 255.00, 255.00)",
                    "rgb(0.00, 255.00, 255.00)",
                    "rgb(0.00, 255.00, 255.00)",
                    "rgb(0.00, 255.00, 255.00)",
                    "rgb(0.00, 255.00, 255.00)",
                    "rgb(0.00, 255.00, 255.00)",
                    "rgb(0.00, 255.00, 255.00)",
                    "rgb(0.00, 255.00, 255.00)",
                    "rgb(0.00, 255.00, 255.00)",
                    "rgb(0.00, 255.00, 255.00)",
                    "rgb(0.00, 255.00, 255.00)",
                    "rgb(0.00, 255.00, 255.00)",
                    "rgb(0.00, 255.00, 255.00)",
                    "rgb(0.00, 255.00, 255.00)",
                    "rgb(0.00, 255.00, 255.00)",
                    "rgb(0.00, 255.00, 255.00)",
                    "rgb(0.00, 255.00, 255.00)",
                    "rgb(0.00, 255.00, 255.00)",
                    "rgb(0.00, 255.00, 255.00)",
                    "rgb(0.00, 255.00, 255.00)",
                    "rgb(0.00, 255.00, 255.00)",
                    "rgb(0.00, 255.00, 255.00)",
                    "rgb(0.00, 255.00, 255.00)",
                    "rgb(0.00, 255.00, 255.00)",
                    "rgb(0.00, 255.00, 255.00)",
                    "rgb(0.00, 255.00, 255.00)",
                    "rgb(0.00, 255.00, 255.00)",
                    "rgb(0.00, 255.00, 255.00)",
                    "rgb(0.00, 255.00, 255.00)",
                    "rgb(0.00, 255.00, 255.00)",
                    "rgb(0.00, 255.00, 255.00)",
                    "rgb(0.00, 255.00, 255.00)",
                    "rgb(0.00, 255.00, 255.00)",
                    "rgb(0.00, 255.00, 255.00)",
                    "rgb(0.00, 255.00, 255.00)",
                    "rgb(0.00, 255.00, 255.00)",
                    "rgb(0.00, 255.00, 255.00)",
                    "rgb(0.00, 255.00, 255.00)",
                    "rgb(0.00, 255.00, 255.00)",
                    "rgb(0.00, 255.00, 255.00)",
                    "rgb(0.00, 255.00, 255.00)",
                    "rgb(0.00, 255.00, 255.00)",
                    "rgb(0.00, 255.00, 255.00)",
                    "rgb(0.00, 255.00, 255.00)",
                    "rgb(0.00, 255.00, 255.00)",
                    "rgb(0.00, 255.00, 255.00)",
                    "rgb(0.00, 255.00, 255.00)",
                    "rgb(0.00, 255.00, 255.00)",
                    "rgb(0.00, 255.00, 255.00)",
                    "rgb(0.00, 255.00, 255.00)",
                    "rgb(0.00, 255.00, 255.00)",
                    "rgb(0.00, 255.00, 255.00)",
                    "rgb(0.00, 255.00, 255.00)",
                    "rgb(0.00, 255.00, 255.00)",
                    "rgb(0.00, 255.00, 255.00)",
                    "rgb(0.00, 255.00, 255.00)",
                    "rgb(0.00, 255.00, 255.00)",
                    "rgb(0.00, 255.00, 255.00)",
                    "rgb(0.00, 255.00, 255.00)",
                    "rgb(0.00, 255.00, 255.00)",
                    "rgb(0.00, 255.00, 255.00)",
                    "rgb(0.00, 255.00, 255.00)",
                    "rgb(0.00, 255.00, 255.00)",
                    "rgb(0.00, 255.00, 255.00)",
                    "rgb(0.00, 255.00, 255.00)",
                    "rgb(0.00, 255.00, 255.00)",
                    "rgb(0.00, 255.00, 255.00)",
                    "rgb(0.00, 255.00, 255.00)",
                    "rgb(0.00, 255.00, 255.00)",
                    "rgb(0.00, 255.00, 255.00)",
                    "rgb(0.00, 255.00, 255.00)",
                    "rgb(0.00, 255.00, 255.00)",
                    "rgb(0.00, 255.00, 255.00)",
                    "rgb(0.00, 255.00, 255.00)",
                    "rgb(0.00, 255.00, 255.00)",
                    "rgb(0.00, 255.00, 255.00)",
                    "rgb(0.00, 255.00, 255.00)",
                    "rgb(0.00, 255.00, 255.00)",
                    "rgb(0.00, 255.00, 255.00)",
                    "rgb(0.00, 255.00, 255.00)",
                    "rgb(0.00, 255.00, 255.00)",
                    "rgb(0.00, 255.00, 255.00)",
                    "rgb(0.00, 255.00, 255.00)",
                    "rgb(0.00, 255.00, 255.00)",
                    "rgb(0.00, 255.00, 255.00)",
                    "rgb(0.00, 255.00, 255.00)",
                    "rgb(0.00, 255.00, 255.00)",
                    "rgb(0.00, 255.00, 255.00)",
                    "rgb(0.00, 255.00, 255.00)",
                    "rgb(0.00, 255.00, 255.00)",
                    "rgb(0.00, 255.00, 255.00)",
                    "rgb(0.00, 255.00, 255.00)",
                    "rgb(0.00, 255.00, 255.00)",
                    "rgb(0.00, 255.00, 255.00)",
                    "rgb(0.00, 255.00, 255.00)",
                    "rgb(0.00, 255.00, 255.00)",
                    "rgb(0.00, 255.00, 255.00)",
                    "rgb(0.00, 255.00, 255.00)",
                    "rgb(0.00, 255.00, 255.00)",
                    "rgb(0.00, 255.00, 255.00)",
                    "rgb(0.00, 255.00, 255.00)",
                    "rgb(0.00, 255.00, 255.00)",
                    "rgb(0.00, 255.00, 255.00)",
                    "rgb(0.00, 255.00, 255.00)",
                    "rgb(0.00, 255.00, 255.00)",
                    "rgb(0.00, 255.00, 255.00)",
                    "rgb(0.00, 255.00, 255.00)",
                    "rgb(0.00, 255.00, 255.00)",
                    "rgb(0.00, 255.00, 255.00)",
                    "rgb(0.00, 255.00, 255.00)",
                    "rgb(0.00, 255.00, 255.00)",
                    "rgb(0.00, 255.00, 255.00)",
                    "rgb(0.00, 255.00, 255.00)",
                    "rgb(0.00, 255.00, 255.00)",
                    "rgb(0.00, 255.00, 255.00)",
                    "rgb(0.00, 255.00, 255.00)",
                    "rgb(0.00, 255.00, 255.00)",
                    "rgb(0.00, 255.00, 255.00)",
                    "rgb(0.00, 255.00, 255.00)",
                    "rgb(0.00, 255.00, 255.00)",
                    "rgb(0.00, 255.00, 255.00)",
                    "rgb(0.00, 255.00, 255.00)",
                    "rgb(0.00, 255.00, 255.00)",
                    "rgb(0.00, 255.00, 255.00)",
                    "rgb(0.00, 255.00, 255.00)",
                    "rgb(0.00, 255.00, 255.00)",
                    "rgb(0.00, 255.00, 255.00)",
                    "rgb(0.00, 255.00, 255.00)",
                    "rgb(0.00, 255.00, 255.00)",
                    "rgb(0.00, 255.00, 255.00)",
                    "rgb(0.00, 255.00, 255.00)",
                    "rgb(0.00, 255.00, 255.00)",
                    "rgb(0.00, 255.00, 255.00)",
                    "rgb(0.00, 255.00, 255.00)",
                    "rgb(0.00, 255.00, 255.00)",
                    "rgb(0.00, 255.00, 255.00)",
                    "rgb(0.00, 255.00, 255.00)",
                    "rgb(0.00, 255.00, 255.00)",
                    "rgb(0.00, 255.00, 255.00)",
                    "rgb(0.00, 255.00, 255.00)",
                    "rgb(0.00, 255.00, 255.00)",
                    "rgb(0.00, 255.00, 255.00)",
                    "rgb(0.00, 255.00, 255.00)",
                    "rgb(0.00, 255.00, 255.00)",
                    "rgb(0.00, 255.00, 255.00)",
                    "rgb(0.00, 255.00, 255.00)",
                    "rgb(0.00, 255.00, 255.00)",
                    "rgb(0.00, 255.00, 255.00)",
                    "rgb(0.00, 255.00, 255.00)",
                    "rgb(0.00, 255.00, 255.00)",
                    "rgb(0.00, 255.00, 255.00)",
                    "rgb(0.00, 255.00, 255.00)",
                    "rgb(0.00, 255.00, 255.00)",
                    "rgb(0.00, 255.00, 255.00)",
                    "rgb(0.00, 255.00, 255.00)",
                    "rgb(0.00, 255.00, 255.00)",
                    "rgb(0.00, 255.00, 255.00)",
                    "rgb(0.00, 255.00, 255.00)",
                    "rgb(0.00, 255.00, 255.00)",
                    "rgb(0.00, 255.00, 255.00)",
                    "rgb(0.00, 255.00, 255.00)",
                    "rgb(0.00, 255.00, 255.00)",
                    "rgb(0.00, 255.00, 255.00)",
                    "rgb(0.00, 255.00, 255.00)",
                    "rgb(0.00, 255.00, 255.00)",
                    "rgb(0.00, 255.00, 255.00)",
                    "rgb(0.00, 255.00, 255.00)",
                    "rgb(0.00, 255.00, 255.00)",
                    "rgb(0.00, 255.00, 255.00)",
                    "rgb(0.00, 255.00, 255.00)",
                    "rgb(0.00, 255.00, 255.00)",
                    "rgb(0.00, 255.00, 255.00)",
                    "rgb(0.00, 255.00, 255.00)",
                    "rgb(0.00, 255.00, 255.00)",
                    "rgb(0.00, 255.00, 255.00)",
                    "rgb(0.00, 255.00, 255.00)",
                    "rgb(0.00, 255.00, 255.00)",
                    "rgb(0.00, 255.00, 255.00)",
                    "rgb(0.00, 255.00, 255.00)",
                    "rgb(0.00, 255.00, 255.00)",
                    "rgb(0.00, 255.00, 255.00)",
                    "rgb(0.00, 255.00, 255.00)",
                    "rgb(0.00, 255.00, 255.00)",
                    "rgb(0.00, 255.00, 255.00)",
                    "rgb(0.00, 255.00, 255.00)",
                    "rgb(0.00, 255.00, 255.00)",
                    "rgb(0.00, 255.00, 255.00)",
                    "rgb(0.00, 255.00, 255.00)",
                    "rgb(0.00, 255.00, 255.00)",
                    "rgb(0.00, 255.00, 255.00)",
                    "rgb(0.00, 255.00, 255.00)",
                    "rgb(0.00, 255.00, 255.00)",
                    "rgb(0.00, 255.00, 255.00)",
                    "rgb(0.00, 255.00, 255.00)",
                    "rgb(0.00, 255.00, 255.00)",
                    "rgb(0.00, 255.00, 255.00)",
                    "rgb(0.00, 255.00, 255.00)",
                    "rgb(0.00, 255.00, 255.00)",
                    "rgb(0.00, 255.00, 255.00)",
                    "rgb(0.00, 255.00, 255.00)",
                    "rgb(0.00, 255.00, 255.00)",
                    "rgb(0.00, 255.00, 255.00)",
                    "rgb(0.00, 255.00, 255.00)",
                    "rgb(0.00, 255.00, 255.00)",
                    "rgb(0.00, 255.00, 255.00)",
                    "rgb(0.00, 255.00, 255.00)",
                    "rgb(0.00, 255.00, 255.00)",
                    "rgb(0.00, 255.00, 255.00)",
                    "rgb(0.00, 255.00, 255.00)",
                    "rgb(0.00, 255.00, 255.00)",
                    "rgb(0.00, 255.00, 255.00)",
                    "rgb(0.00, 255.00, 255.00)",
                    "rgb(0.00, 255.00, 255.00)",
                    "rgb(0.00, 255.00, 255.00)",
                    "rgb(0.00, 255.00, 255.00)",
                    "rgb(0.00, 255.00, 255.00)",
                    "rgb(0.00, 255.00, 255.00)",
                    "rgb(0.00, 255.00, 255.00)",
                    "rgb(0.00, 255.00, 255.00)",
                    "rgb(0.00, 255.00, 255.00)",
                    "rgb(0.00, 255.00, 255.00)",
                    "rgb(0.00, 255.00, 255.00)",
                    "rgb(0.00, 255.00, 255.00)",
                    "rgb(0.00, 255.00, 255.00)",
                    "rgb(0.00, 255.00, 255.00)",
                    "rgb(0.00, 255.00, 255.00)",
                    "rgb(0.00, 255.00, 255.00)",
                    "rgb(0.00, 255.00, 255.00)",
                    "rgb(0.00, 255.00, 255.00)",
                    "rgb(0.00, 255.00, 255.00)",
                    "rgb(0.00, 255.00, 255.00)",
                    "rgb(0.00, 255.00, 255.00)",
                    "rgb(0.00, 255.00, 255.00)",
                    "rgb(0.00, 255.00, 255.00)",
                    "rgb(0.00, 255.00, 255.00)",
                    "rgb(0.00, 255.00, 255.00)",
                    "rgb(0.00, 255.00, 255.00)",
                    "rgb(0.00, 255.00, 255.00)",
                    "rgb(0.00, 255.00, 255.00)",
                    "rgb(0.00, 255.00, 255.00)",
                    "rgb(0.00, 255.00, 255.00)",
                    "rgb(0.00, 255.00, 255.00)",
                    "rgb(0.00, 255.00, 255.00)",
                    "rgb(0.00, 255.00, 255.00)",
                    "rgb(0.00, 255.00, 255.00)",
                    "rgb(0.00, 255.00, 255.00)",
                    "rgb(0.00, 255.00, 255.00)",
                    "rgb(0.00, 255.00, 255.00)",
                    "rgb(0.00, 255.00, 255.00)",
                    "rgb(0.00, 255.00, 255.00)",
                    "rgb(0.00, 255.00, 255.00)",
                    "rgb(0.00, 255.00, 255.00)",
                    "rgb(0.00, 255.00, 255.00)",
                    "rgb(0.00, 255.00, 255.00)",
                    "rgb(0.00, 255.00, 255.00)",
                    "rgb(0.00, 255.00, 255.00)",
                    "rgb(0.00, 255.00, 255.00)",
                    "rgb(0.00, 255.00, 255.00)",
                    "rgb(0.00, 255.00, 255.00)",
                    "rgb(0.00, 255.00, 255.00)",
                    "rgb(0.00, 255.00, 255.00)",
                    "rgb(0.00, 255.00, 255.00)"
                  ],
                  "x": {
                    "bdata": "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",
                    "dtype": "f8"
                  },
                  "y": {
                    "bdata": "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",
                    "dtype": "f8"
                  },
                  "z": {
                    "bdata": "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",
                    "dtype": "f8"
                  }
                },
                {
                  "marker": {
                    "color": "red",
                    "size": 2
                  },
                  "mode": "markers",
                  "showlegend": false,
                  "type": "scatter3d",
                  "x": [],
                  "y": [],
                  "z": []
                }
              ],
              "layout": {
                "height": 500,
                "margin": {
                  "b": 10,
                  "l": 10,
                  "pad": 4,
                  "r": 10,
                  "t": 10
                },
                "paper_bgcolor": "black",
                "scene": {
                  "aspectmode": "cube",
                  "camera": {
                    "center": {
                      "x": 0,
                      "y": 0,
                      "z": -0.48170910155106816
                    },
                    "eye": {
                      "x": -0.7142857142857143,
                      "y": -1.4285714285714286,
                      "z": 0.2142857142857143
                    }
                  },
                  "xaxis": {
                    "backgroundcolor": "black",
                    "nticks": 10,
                    "range": [
                      199.749,
                      220.251
                    ]
                  },
                  "yaxis": {
                    "backgroundcolor": "black",
                    "nticks": 10,
                    "range": [
                      199.749,
                      220.251
                    ]
                  },
                  "zaxis": {
                    "backgroundcolor": "black",
                    "nticks": 10,
                    "range": [
                      0,
                      20.502
                    ]
                  }
                },
                "template": {
                  "data": {
                    "bar": [
                      {
                        "error_x": {
                          "color": "#f2f5fa"
                        },
                        "error_y": {
                          "color": "#f2f5fa"
                        },
                        "marker": {
                          "line": {
                            "color": "rgb(17,17,17)",
                            "width": 0.5
                          },
                          "pattern": {
                            "fillmode": "overlay",
                            "size": 10,
                            "solidity": 0.2
                          }
                        },
                        "type": "bar"
                      }
                    ],
                    "barpolar": [
                      {
                        "marker": {
                          "line": {
                            "color": "rgb(17,17,17)",
                            "width": 0.5
                          },
                          "pattern": {
                            "fillmode": "overlay",
                            "size": 10,
                            "solidity": 0.2
                          }
                        },
                        "type": "barpolar"
                      }
                    ],
                    "carpet": [
                      {
                        "aaxis": {
                          "endlinecolor": "#A2B1C6",
                          "gridcolor": "#506784",
                          "linecolor": "#506784",
                          "minorgridcolor": "#506784",
                          "startlinecolor": "#A2B1C6"
                        },
                        "baxis": {
                          "endlinecolor": "#A2B1C6",
                          "gridcolor": "#506784",
                          "linecolor": "#506784",
                          "minorgridcolor": "#506784",
                          "startlinecolor": "#A2B1C6"
                        },
                        "type": "carpet"
                      }
                    ],
                    "choropleth": [
                      {
                        "colorbar": {
                          "outlinewidth": 0,
                          "ticks": ""
                        },
                        "type": "choropleth"
                      }
                    ],
                    "contour": [
                      {
                        "colorbar": {
                          "outlinewidth": 0,
                          "ticks": ""
                        },
                        "colorscale": [
                          [
                            0,
                            "#0d0887"
                          ],
                          [
                            0.1111111111111111,
                            "#46039f"
                          ],
                          [
                            0.2222222222222222,
                            "#7201a8"
                          ],
                          [
                            0.3333333333333333,
                            "#9c179e"
                          ],
                          [
                            0.4444444444444444,
                            "#bd3786"
                          ],
                          [
                            0.5555555555555556,
                            "#d8576b"
                          ],
                          [
                            0.6666666666666666,
                            "#ed7953"
                          ],
                          [
                            0.7777777777777778,
                            "#fb9f3a"
                          ],
                          [
                            0.8888888888888888,
                            "#fdca26"
                          ],
                          [
                            1,
                            "#f0f921"
                          ]
                        ],
                        "type": "contour"
                      }
                    ],
                    "contourcarpet": [
                      {
                        "colorbar": {
                          "outlinewidth": 0,
                          "ticks": ""
                        },
                        "type": "contourcarpet"
                      }
                    ],
                    "heatmap": [
                      {
                        "colorbar": {
                          "outlinewidth": 0,
                          "ticks": ""
                        },
                        "colorscale": [
                          [
                            0,
                            "#0d0887"
                          ],
                          [
                            0.1111111111111111,
                            "#46039f"
                          ],
                          [
                            0.2222222222222222,
                            "#7201a8"
                          ],
                          [
                            0.3333333333333333,
                            "#9c179e"
                          ],
                          [
                            0.4444444444444444,
                            "#bd3786"
                          ],
                          [
                            0.5555555555555556,
                            "#d8576b"
                          ],
                          [
                            0.6666666666666666,
                            "#ed7953"
                          ],
                          [
                            0.7777777777777778,
                            "#fb9f3a"
                          ],
                          [
                            0.8888888888888888,
                            "#fdca26"
                          ],
                          [
                            1,
                            "#f0f921"
                          ]
                        ],
                        "type": "heatmap"
                      }
                    ],
                    "histogram": [
                      {
                        "marker": {
                          "pattern": {
                            "fillmode": "overlay",
                            "size": 10,
                            "solidity": 0.2
                          }
                        },
                        "type": "histogram"
                      }
                    ],
                    "histogram2d": [
                      {
                        "colorbar": {
                          "outlinewidth": 0,
                          "ticks": ""
                        },
                        "colorscale": [
                          [
                            0,
                            "#0d0887"
                          ],
                          [
                            0.1111111111111111,
                            "#46039f"
                          ],
                          [
                            0.2222222222222222,
                            "#7201a8"
                          ],
                          [
                            0.3333333333333333,
                            "#9c179e"
                          ],
                          [
                            0.4444444444444444,
                            "#bd3786"
                          ],
                          [
                            0.5555555555555556,
                            "#d8576b"
                          ],
                          [
                            0.6666666666666666,
                            "#ed7953"
                          ],
                          [
                            0.7777777777777778,
                            "#fb9f3a"
                          ],
                          [
                            0.8888888888888888,
                            "#fdca26"
                          ],
                          [
                            1,
                            "#f0f921"
                          ]
                        ],
                        "type": "histogram2d"
                      }
                    ],
                    "histogram2dcontour": [
                      {
                        "colorbar": {
                          "outlinewidth": 0,
                          "ticks": ""
                        },
                        "colorscale": [
                          [
                            0,
                            "#0d0887"
                          ],
                          [
                            0.1111111111111111,
                            "#46039f"
                          ],
                          [
                            0.2222222222222222,
                            "#7201a8"
                          ],
                          [
                            0.3333333333333333,
                            "#9c179e"
                          ],
                          [
                            0.4444444444444444,
                            "#bd3786"
                          ],
                          [
                            0.5555555555555556,
                            "#d8576b"
                          ],
                          [
                            0.6666666666666666,
                            "#ed7953"
                          ],
                          [
                            0.7777777777777778,
                            "#fb9f3a"
                          ],
                          [
                            0.8888888888888888,
                            "#fdca26"
                          ],
                          [
                            1,
                            "#f0f921"
                          ]
                        ],
                        "type": "histogram2dcontour"
                      }
                    ],
                    "mesh3d": [
                      {
                        "colorbar": {
                          "outlinewidth": 0,
                          "ticks": ""
                        },
                        "type": "mesh3d"
                      }
                    ],
                    "parcoords": [
                      {
                        "line": {
                          "colorbar": {
                            "outlinewidth": 0,
                            "ticks": ""
                          }
                        },
                        "type": "parcoords"
                      }
                    ],
                    "pie": [
                      {
                        "automargin": true,
                        "type": "pie"
                      }
                    ],
                    "scatter": [
                      {
                        "marker": {
                          "line": {
                            "color": "#283442"
                          }
                        },
                        "type": "scatter"
                      }
                    ],
                    "scatter3d": [
                      {
                        "line": {
                          "colorbar": {
                            "outlinewidth": 0,
                            "ticks": ""
                          }
                        },
                        "marker": {
                          "colorbar": {
                            "outlinewidth": 0,
                            "ticks": ""
                          }
                        },
                        "type": "scatter3d"
                      }
                    ],
                    "scattercarpet": [
                      {
                        "marker": {
                          "colorbar": {
                            "outlinewidth": 0,
                            "ticks": ""
                          }
                        },
                        "type": "scattercarpet"
                      }
                    ],
                    "scattergeo": [
                      {
                        "marker": {
                          "colorbar": {
                            "outlinewidth": 0,
                            "ticks": ""
                          }
                        },
                        "type": "scattergeo"
                      }
                    ],
                    "scattergl": [
                      {
                        "marker": {
                          "line": {
                            "color": "#283442"
                          }
                        },
                        "type": "scattergl"
                      }
                    ],
                    "scattermap": [
                      {
                        "marker": {
                          "colorbar": {
                            "outlinewidth": 0,
                            "ticks": ""
                          }
                        },
                        "type": "scattermap"
                      }
                    ],
                    "scattermapbox": [
                      {
                        "marker": {
                          "colorbar": {
                            "outlinewidth": 0,
                            "ticks": ""
                          }
                        },
                        "type": "scattermapbox"
                      }
                    ],
                    "scatterpolar": [
                      {
                        "marker": {
                          "colorbar": {
                            "outlinewidth": 0,
                            "ticks": ""
                          }
                        },
                        "type": "scatterpolar"
                      }
                    ],
                    "scatterpolargl": [
                      {
                        "marker": {
                          "colorbar": {
                            "outlinewidth": 0,
                            "ticks": ""
                          }
                        },
                        "type": "scatterpolargl"
                      }
                    ],
                    "scatterternary": [
                      {
                        "marker": {
                          "colorbar": {
                            "outlinewidth": 0,
                            "ticks": ""
                          }
                        },
                        "type": "scatterternary"
                      }
                    ],
                    "surface": [
                      {
                        "colorbar": {
                          "outlinewidth": 0,
                          "ticks": ""
                        },
                        "colorscale": [
                          [
                            0,
                            "#0d0887"
                          ],
                          [
                            0.1111111111111111,
                            "#46039f"
                          ],
                          [
                            0.2222222222222222,
                            "#7201a8"
                          ],
                          [
                            0.3333333333333333,
                            "#9c179e"
                          ],
                          [
                            0.4444444444444444,
                            "#bd3786"
                          ],
                          [
                            0.5555555555555556,
                            "#d8576b"
                          ],
                          [
                            0.6666666666666666,
                            "#ed7953"
                          ],
                          [
                            0.7777777777777778,
                            "#fb9f3a"
                          ],
                          [
                            0.8888888888888888,
                            "#fdca26"
                          ],
                          [
                            1,
                            "#f0f921"
                          ]
                        ],
                        "type": "surface"
                      }
                    ],
                    "table": [
                      {
                        "cells": {
                          "fill": {
                            "color": "#506784"
                          },
                          "line": {
                            "color": "rgb(17,17,17)"
                          }
                        },
                        "header": {
                          "fill": {
                            "color": "#2a3f5f"
                          },
                          "line": {
                            "color": "rgb(17,17,17)"
                          }
                        },
                        "type": "table"
                      }
                    ]
                  },
                  "layout": {
                    "annotationdefaults": {
                      "arrowcolor": "#f2f5fa",
                      "arrowhead": 0,
                      "arrowwidth": 1
                    },
                    "autotypenumbers": "strict",
                    "coloraxis": {
                      "colorbar": {
                        "outlinewidth": 0,
                        "ticks": ""
                      }
                    },
                    "colorscale": {
                      "diverging": [
                        [
                          0,
                          "#8e0152"
                        ],
                        [
                          0.1,
                          "#c51b7d"
                        ],
                        [
                          0.2,
                          "#de77ae"
                        ],
                        [
                          0.3,
                          "#f1b6da"
                        ],
                        [
                          0.4,
                          "#fde0ef"
                        ],
                        [
                          0.5,
                          "#f7f7f7"
                        ],
                        [
                          0.6,
                          "#e6f5d0"
                        ],
                        [
                          0.7,
                          "#b8e186"
                        ],
                        [
                          0.8,
                          "#7fbc41"
                        ],
                        [
                          0.9,
                          "#4d9221"
                        ],
                        [
                          1,
                          "#276419"
                        ]
                      ],
                      "sequential": [
                        [
                          0,
                          "#0d0887"
                        ],
                        [
                          0.1111111111111111,
                          "#46039f"
                        ],
                        [
                          0.2222222222222222,
                          "#7201a8"
                        ],
                        [
                          0.3333333333333333,
                          "#9c179e"
                        ],
                        [
                          0.4444444444444444,
                          "#bd3786"
                        ],
                        [
                          0.5555555555555556,
                          "#d8576b"
                        ],
                        [
                          0.6666666666666666,
                          "#ed7953"
                        ],
                        [
                          0.7777777777777778,
                          "#fb9f3a"
                        ],
                        [
                          0.8888888888888888,
                          "#fdca26"
                        ],
                        [
                          1,
                          "#f0f921"
                        ]
                      ],
                      "sequentialminus": [
                        [
                          0,
                          "#0d0887"
                        ],
                        [
                          0.1111111111111111,
                          "#46039f"
                        ],
                        [
                          0.2222222222222222,
                          "#7201a8"
                        ],
                        [
                          0.3333333333333333,
                          "#9c179e"
                        ],
                        [
                          0.4444444444444444,
                          "#bd3786"
                        ],
                        [
                          0.5555555555555556,
                          "#d8576b"
                        ],
                        [
                          0.6666666666666666,
                          "#ed7953"
                        ],
                        [
                          0.7777777777777778,
                          "#fb9f3a"
                        ],
                        [
                          0.8888888888888888,
                          "#fdca26"
                        ],
                        [
                          1,
                          "#f0f921"
                        ]
                      ]
                    },
                    "colorway": [
                      "#636efa",
                      "#EF553B",
                      "#00cc96",
                      "#ab63fa",
                      "#FFA15A",
                      "#19d3f3",
                      "#FF6692",
                      "#B6E880",
                      "#FF97FF",
                      "#FECB52"
                    ],
                    "font": {
                      "color": "#f2f5fa"
                    },
                    "geo": {
                      "bgcolor": "rgb(17,17,17)",
                      "lakecolor": "rgb(17,17,17)",
                      "landcolor": "rgb(17,17,17)",
                      "showlakes": true,
                      "showland": true,
                      "subunitcolor": "#506784"
                    },
                    "hoverlabel": {
                      "align": "left"
                    },
                    "hovermode": "closest",
                    "mapbox": {
                      "style": "dark"
                    },
                    "paper_bgcolor": "rgb(17,17,17)",
                    "plot_bgcolor": "rgb(17,17,17)",
                    "polar": {
                      "angularaxis": {
                        "gridcolor": "#506784",
                        "linecolor": "#506784",
                        "ticks": ""
                      },
                      "bgcolor": "rgb(17,17,17)",
                      "radialaxis": {
                        "gridcolor": "#506784",
                        "linecolor": "#506784",
                        "ticks": ""
                      }
                    },
                    "scene": {
                      "xaxis": {
                        "backgroundcolor": "rgb(17,17,17)",
                        "gridcolor": "#506784",
                        "gridwidth": 2,
                        "linecolor": "#506784",
                        "showbackground": true,
                        "ticks": "",
                        "zerolinecolor": "#C8D4E3"
                      },
                      "yaxis": {
                        "backgroundcolor": "rgb(17,17,17)",
                        "gridcolor": "#506784",
                        "gridwidth": 2,
                        "linecolor": "#506784",
                        "showbackground": true,
                        "ticks": "",
                        "zerolinecolor": "#C8D4E3"
                      },
                      "zaxis": {
                        "backgroundcolor": "rgb(17,17,17)",
                        "gridcolor": "#506784",
                        "gridwidth": 2,
                        "linecolor": "#506784",
                        "showbackground": true,
                        "ticks": "",
                        "zerolinecolor": "#C8D4E3"
                      }
                    },
                    "shapedefaults": {
                      "line": {
                        "color": "#f2f5fa"
                      }
                    },
                    "sliderdefaults": {
                      "bgcolor": "#C8D4E3",
                      "bordercolor": "rgb(17,17,17)",
                      "borderwidth": 1,
                      "tickwidth": 0
                    },
                    "ternary": {
                      "aaxis": {
                        "gridcolor": "#506784",
                        "linecolor": "#506784",
                        "ticks": ""
                      },
                      "baxis": {
                        "gridcolor": "#506784",
                        "linecolor": "#506784",
                        "ticks": ""
                      },
                      "bgcolor": "rgb(17,17,17)",
                      "caxis": {
                        "gridcolor": "#506784",
                        "linecolor": "#506784",
                        "ticks": ""
                      }
                    },
                    "title": {
                      "x": 0.05
                    },
                    "updatemenudefaults": {
                      "bgcolor": "#506784",
                      "borderwidth": 0
                    },
                    "xaxis": {
                      "automargin": true,
                      "gridcolor": "#283442",
                      "linecolor": "#506784",
                      "ticks": "",
                      "title": {
                        "standoff": 15
                      },
                      "zerolinecolor": "#283442",
                      "zerolinewidth": 2
                    },
                    "yaxis": {
                      "automargin": true,
                      "gridcolor": "#283442",
                      "linecolor": "#506784",
                      "ticks": "",
                      "title": {
                        "standoff": 15
                      },
                      "zerolinecolor": "#283442",
                      "zerolinewidth": 2
                    }
                  }
                },
                "width": 800
              }
            }
          },
          "metadata": {},
          "output_type": "display_data"
        }
      ],
      "source": [
        "# preview the design\n",
        "\n",
        "fc.transform(steps, 'plot', fc.PlotControls(style='line', zoom=0.7))\n",
        "# hover the cursor over the lines in the plot to check xyz positions of the points in the design\n",
        "\n",
        "# uncomment the next line to create a plot with real heights/widths for extruded lines to preview the real 3D printed geometry\n",
        "fc.transform(steps, 'plot', fc.PlotControls(style='tube', zoom=0.7, initialization_data={'extrusion_width': EW, 'extrusion_height': EH}))\n",
        "\n",
        "# uncomment the next line to create a neat preview (click the top-left button in the plot for a .png file) - post and tag @FullControlXYZ :)\n",
        "# fc.transform(steps, 'plot', fc.PlotControls(neat_for_publishing=True, zoom=0.5, initialization_data={'extrusion_width': EW, 'extrusion_height': EH}))\n"
      ]
    },
    {
      "cell_type": "code",
      "execution_count": 6,
      "metadata": {
        "colab": {
          "base_uri": "https://localhost:8080/",
          "height": 17
        },
        "id": "tggFoUeJReQR",
        "outputId": "3e9733ce-224b-4aa9-abe7-d54bca6a0a96"
      },
      "outputs": [
        {
          "name": "stdout",
          "output_type": "stream",
          "text": [
            "warning - the list of steps should be a 1D list of fullcontrol class instances, it currently includes a 'list'\n",
            "   - fc.flatten() is being used to convert the design to a 1D list\n"
          ]
        }
      ],
      "source": [
        "# generate and save gcode\n",
        "\n",
        "gcode_controls = fc.GcodeControls(\n",
        "    printer_name=printer_name,\n",
        "    save_as=design_name,\n",
        "    initialization_data={\n",
        "        'primer': 'front_lines_then_y',\n",
        "        'print_speed': print_speed,\n",
        "        'nozzle_temp': nozzle_temp,\n",
        "        'bed_temp': bed_temp,\n",
        "        'fan_percent': fan_percent,\n",
        "        'extrusion_width': EW,\n",
        "        'extrusion_height': EH})\n",
        "gcode = fc.transform(steps, 'gcode', gcode_controls)"
      ]
    },
    {
      "attachments": {},
      "cell_type": "markdown",
      "metadata": {},
      "source": [
        "#### please tell us what you're doing with FullControl!\n",
        "\n",
        "- tag FullControlXYZ on social media ([twitter](https://twitter.com/FullControlXYZ), [instagram](https://www.instagram.com/fullcontrolxyz/), [linkedin](https://www.linkedin.com/in/andrew-gleadall-068587119/), [tiktok](https://www.tiktok.com/@fullcontrolxyz))\n",
        "- email [info@fullcontrol.xyz](mailto:info@fullcontrol.xyz)\n",
        "- post on the [subreddit](https://reddit.com/r/fullcontrol)\n",
        "- post in the [github discussions or issues tabs](https://github.com/FullControlXYZ/fullcontrol/issues)\n",
        "\n",
        "in publications, please cite the original FullControl paper and the github repo for the new python version:\n",
        "\n",
        "- Gleadall, A. (2021). FullControl GCode Designer: open-source software for unconstrained design in additive manufacturing. Additive Manufacturing, 46, 102109. \n",
        "- Gleadall, A. and Leas, D. (2023). FullControl [electronic resource: python source code]. available at: https://github.com/FullControlXYZ/fullcontrol"
      ]
    }
  ],
  "metadata": {
    "colab": {
      "include_colab_link": true,
      "provenance": []
    },
    "kernelspec": {
      "display_name": "base",
      "language": "python",
      "name": "python3"
    },
    "language_info": {
      "codemirror_mode": {
        "name": "ipython",
        "version": 3
      },
      "file_extension": ".py",
      "mimetype": "text/x-python",
      "name": "python",
      "nbconvert_exporter": "python",
      "pygments_lexer": "ipython3",
      "version": "3.12.9"
    }
  },
  "nbformat": 4,
  "nbformat_minor": 0
}
