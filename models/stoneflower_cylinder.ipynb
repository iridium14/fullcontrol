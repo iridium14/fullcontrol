{
  "cells": [
    {
      "attachments": {},
      "cell_type": "markdown",
      "metadata": {
        "id": "ac9_FmrCOwQL"
      },
      "source": [
        "# FullControl design template\n",
        "\n",
        "*<<< check out demo models [here](https://github.com/FullControlXYZ/fullcontrol/tree/master/models/README.md) >>>*\n",
        "  \n",
        "run all cells in this notebook, or press shift+enter to run each cell sequentially \n",
        "\n",
        "if you change one of the code cells, make sure you run it and all subsequent cells again (in order)\n",
        "\n",
        "*this document is a jupyter notebook - if they're new to you, check out how they work: [link](https://www.google.com/search?q=ipynb+tutorial), [link](https://jupyter.org/try-jupyter/retro/notebooks/?path=notebooks/Intro.ipynb), [link](https://colab.research.google.com/)*"
      ]
    },
    {
      "cell_type": "code",
      "execution_count": 30,
      "metadata": {
        "id": "57XXnogSOvDx"
      },
      "outputs": [],
      "source": [
        "import fullcontrol as fc\n",
        "import math"
      ]
    },
    {
      "cell_type": "code",
      "execution_count": 31,
      "metadata": {},
      "outputs": [],
      "source": [
        "def circle_infill(diameter:float,start_point:fc.Point,centre_point:fc.Point,line_space:float):\n",
        "    import math\n",
        "    radius_c=diameter/2\n",
        "    steps=[]\n",
        "    steps.append(start_point)\n",
        "    for space in range(line_space,diameter,line_space):\n",
        "        if radius_c-space>0:\n",
        "            steps.append(fc.move_polar(geometry=start_point,centre=centre_point,radius=radius_c-space,angle=0))\n",
        "            steps.append(fc.move_polar(geometry=start_point,centre=centre_point, radius=radius_c-space,angle=math.acos((radius_c-space)/radius_c)))            \n",
        "            steps.append(fc.move_polar(geometry=start_point,centre=centre_point, radius=radius_c-(2*space),angle=math.acos((radius_c-(2*space))/radius_c)))\n",
        "            steps.append(fc.move_polar(geometry=start_point,centre=centre_point, radius=radius_c-(2*space),angle=0))\n",
        "        else:\n",
        "            steps.append(fc.move_polar(geometry=start_point,centre=centre_point,radius=radius_c-space,angle=0))\n",
        "            steps.append(fc.move_polar(geometry=start_point,centre=centre_point, radius=radius_c-space,angle=math.acos((radius_c-space)/radius_c)))\n",
        "            print(radius_c,space)            \n",
        "            steps.append(fc.move_polar(geometry=start_point,centre=centre_point, radius=radius_c-(2*space),angle=math.acos((space)/radius_c)))\n",
        "            steps.append(fc.move_polar(geometry=start_point,centre=centre_point, radius=radius_c-(2*space),angle=0))\n",
        "    return steps"
      ]
    },
    {
      "cell_type": "code",
      "execution_count": 32,
      "metadata": {},
      "outputs": [],
      "source": [
        "# printer/gcode parameters\n",
        "\n",
        "design_name = 'square'\n",
        "nozzle_temp = 0\n",
        "bed_temp = 0\n",
        "print_speed = 300\n",
        "fan_percent = 0\n",
        "printer_name='stoneflower3d' # generic / ultimaker2plus / prusa_i3 / ender_3 / cr_10 / bambulab_x1 / toolchanger_T0"
      ]
    },
    {
      "cell_type": "code",
      "execution_count": 33,
      "metadata": {
        "id": "DeWKjlzbPC0u"
      },
      "outputs": [],
      "source": [
        "# design parameters\n",
        "\n",
        "EW = 0.5 # extrusion width\n",
        "EH = 0.25 # extrusion height (and layer height)\n",
        "initial_z = EH*1 # initial nozzle position is set to 1x the extrusion height to get a bit of 'squish' for good bed adhesion\n",
        "layers = 1\n",
        "dia=20 #diameter of the cylinder\n"
      ]
    },
    {
      "cell_type": "code",
      "execution_count": 34,
      "metadata": {
        "id": "kLPh7aTwQKrF"
      },
      "outputs": [
        {
          "name": "stdout",
          "output_type": "stream",
          "text": [
            "10.0 10\n",
            "10.0 11\n"
          ]
        },
        {
          "ename": "ValueError",
          "evalue": "math domain error",
          "output_type": "error",
          "traceback": [
            "\u001b[31m---------------------------------------------------------------------------\u001b[39m",
            "\u001b[31mValueError\u001b[39m                                Traceback (most recent call last)",
            "\u001b[36mCell\u001b[39m\u001b[36m \u001b[39m\u001b[32mIn[34]\u001b[39m\u001b[32m, line 15\u001b[39m\n\u001b[32m     13\u001b[39m circle_steps = fc.circleXY(centre_point, radius, start_angle, segments, clockwise)\n\u001b[32m     14\u001b[39m line_spacing = \u001b[32m1\u001b[39m        \n\u001b[32m---> \u001b[39m\u001b[32m15\u001b[39m infill_steps = \u001b[43mcircle_infill\u001b[49m\u001b[43m(\u001b[49m\u001b[43mdia\u001b[49m\u001b[43m,\u001b[49m\u001b[43mfirst_point\u001b[49m\u001b[43m,\u001b[49m\u001b[43mcentre_point\u001b[49m\u001b[43m,\u001b[49m\u001b[43mline_spacing\u001b[49m\u001b[43m)\u001b[49m\n\u001b[32m     16\u001b[39m layer1.append(circle_steps)\n\u001b[32m     17\u001b[39m layer1.append(infill_steps)\n",
            "\u001b[36mCell\u001b[39m\u001b[36m \u001b[39m\u001b[32mIn[31]\u001b[39m\u001b[32m, line 16\u001b[39m, in \u001b[36mcircle_infill\u001b[39m\u001b[34m(diameter, start_point, centre_point, line_space)\u001b[39m\n\u001b[32m     14\u001b[39m         steps.append(fc.move_polar(geometry=start_point,centre=centre_point, radius=radius_c-space,angle=math.acos((radius_c-space)/radius_c)))\n\u001b[32m     15\u001b[39m         \u001b[38;5;28mprint\u001b[39m(radius_c,space)            \n\u001b[32m---> \u001b[39m\u001b[32m16\u001b[39m         steps.append(fc.move_polar(geometry=start_point,centre=centre_point, radius=radius_c-(\u001b[32m2\u001b[39m*space),angle=\u001b[43mmath\u001b[49m\u001b[43m.\u001b[49m\u001b[43macos\u001b[49m\u001b[43m(\u001b[49m\u001b[43m(\u001b[49m\u001b[43mspace\u001b[49m\u001b[43m)\u001b[49m\u001b[43m/\u001b[49m\u001b[43mradius_c\u001b[49m\u001b[43m)\u001b[49m))\n\u001b[32m     17\u001b[39m         steps.append(fc.move_polar(geometry=start_point,centre=centre_point, radius=radius_c-(\u001b[32m2\u001b[39m*space),angle=\u001b[32m0\u001b[39m))\n\u001b[32m     18\u001b[39m \u001b[38;5;28;01mreturn\u001b[39;00m steps\n",
            "\u001b[31mValueError\u001b[39m: math domain error"
          ]
        }
      ],
      "source": [
        "# generate the design (make sure you've run the above cells before running this cell)\n",
        "initial_xyz=fc.Point(x=200, y=200, z=initial_z)\n",
        "steps = []\n",
        "#Generate the layer patterns such that no travel is require between the layers\n",
        "for layer in range(layers):\n",
        "        layer1=[]\n",
        "        first_point=fc.move(initial_xyz,fc.Vector(y=dia/2,z=EH*layer))\n",
        "        centre_point = fc.move(initial_xyz,fc.Vector(x=dia/2,y=dia/2,z=EH*layer))\n",
        "        radius = dia/2\n",
        "        start_angle =math.pi\n",
        "        segments = 32\n",
        "        clockwise = False\n",
        "        circle_steps = fc.circleXY(centre_point, radius, start_angle, segments, clockwise)\n",
        "        line_spacing = 1        \n",
        "        infill_steps = circle_infill(dia,first_point,centre_point,line_spacing)\n",
        "        layer1.append(circle_steps)\n",
        "        layer1.append(infill_steps)\n",
        "        print(centre_point)\n",
        "        print(circle_steps[0])        \n",
        "    \n",
        "        layer2=[]\n",
        "        first_point=fc.move(initial_xyz,fc.Vector(y=dia,z=EH*layer))\n",
        "        rectangle_steps = fc.rectangleXY(first_point, dia, -dia, cw = True)\n",
        "        start_point = fc.move(first_point,fc.Vector(x=EW,y=-EW))\n",
        "        direction = fc.Vector(x=1,y=0)\n",
        "        amplitude = -(dia-2*EW)\n",
        "        line_spacing = 1\n",
        "        periods = dia//2\n",
        "        extra_half_period = False\n",
        "        extra_end_line = False\n",
        "        infill_steps = fc.squarewaveXY(start_point, direction, amplitude, line_spacing, periods, extra_half_period, extra_end_line)\n",
        "        layer2.append(rectangle_steps)\n",
        "        layer2.append(infill_steps)\n",
        "        \n",
        "        layer3=[]\n",
        "        first_point=fc.move(initial_xyz,fc.Vector(x=dia,z=EH*layer))\n",
        "        rectangle_steps = fc.rectangleXY(first_point, -dia, dia, cw = True)\n",
        "        start_point = fc.move(first_point,fc.Vector(x=-EW,y=EW))\n",
        "        direction = fc.Vector(x=0,y=1)\n",
        "        amplitude = (dia-2*EW)\n",
        "        line_spacing = 1\n",
        "        periods = dia//2\n",
        "        extra_half_period = False\n",
        "        extra_end_line = False\n",
        "        infill_steps = fc.squarewaveXY(start_point, direction, amplitude, line_spacing, periods, extra_half_period, extra_end_line)\n",
        "        layer3.append(rectangle_steps)\n",
        "        layer3.append(infill_steps)\n",
        "\n",
        "        layer4=[]\n",
        "        first_point=fc.move(initial_xyz,fc.Vector(x=dia,y=dia,z=EH*layer))\n",
        "        rectangle_steps = fc.rectangleXY(first_point, -dia, -dia, cw = True)\n",
        "        start_point = fc.move(first_point,fc.Vector(x=-EW,y=-EW))\n",
        "        direction = fc.Vector(x=-1,y=0)\n",
        "        amplitude = (dia-2*EW)\n",
        "        line_spacing = 1\n",
        "        periods = dia//2\n",
        "        extra_half_period = False\n",
        "        extra_end_line = False\n",
        "        infill_steps = fc.squarewaveXY(start_point, direction, amplitude, line_spacing, periods, extra_half_period, extra_end_line)\n",
        "        layer4.append(rectangle_steps)\n",
        "        layer4.append(infill_steps)\n",
        "        layertypes=[layer1,layer2,layer3,layer4]\n",
        "        steps.extend(layertypes[layer%len(layertypes)]) \n",
        "\n",
        "#steps = fc.move(rectangle_steps, fc.Vector(z=EH), copy=True, copy_quantity=layers)"
      ]
    },
    {
      "cell_type": "code",
      "execution_count": null,
      "metadata": {
        "id": "ZVdfnpt5RSUi"
      },
      "outputs": [],
      "source": [
        "# preview the design\n",
        "\n",
        "fc.transform(steps, 'plot', fc.PlotControls(style='line', zoom=0.7))\n",
        "# hover the cursor over the lines in the plot to check xyz positions of the points in the design\n",
        "\n",
        "# uncomment the next line to create a plot with real heights/widths for extruded lines to preview the real 3D printed geometry\n",
        "fc.transform(steps, 'plot', fc.PlotControls(style='tube', zoom=0.7, initialization_data={'extrusion_width': EW, 'extrusion_height': EH}))\n",
        "\n",
        "# uncomment the next line to create a neat preview (click the top-left button in the plot for a .png file) - post and tag @FullControlXYZ :)\n",
        "# fc.transform(steps, 'plot', fc.PlotControls(neat_for_publishing=True, zoom=0.5, initialization_data={'extrusion_width': EW, 'extrusion_height': EH}))\n"
      ]
    },
    {
      "cell_type": "code",
      "execution_count": null,
      "metadata": {
        "colab": {
          "base_uri": "https://localhost:8080/",
          "height": 17
        },
        "id": "tggFoUeJReQR",
        "outputId": "3e9733ce-224b-4aa9-abe7-d54bca6a0a96"
      },
      "outputs": [],
      "source": [
        "# generate and save gcode\n",
        "\n",
        "gcode_controls = fc.GcodeControls(\n",
        "    printer_name=printer_name,\n",
        "    save_as=design_name,\n",
        "    initialization_data={\n",
        "        'primer': 'front_lines_then_y',\n",
        "        'print_speed': print_speed,\n",
        "        'nozzle_temp': nozzle_temp,\n",
        "        'bed_temp': bed_temp,\n",
        "        'fan_percent': fan_percent,\n",
        "        'extrusion_width': EW,\n",
        "        'extrusion_height': EH})\n",
        "gcode = fc.transform(steps, 'gcode', gcode_controls)"
      ]
    },
    {
      "attachments": {},
      "cell_type": "markdown",
      "metadata": {},
      "source": [
        "#### please tell us what you're doing with FullControl!\n",
        "\n",
        "- tag FullControlXYZ on social media ([twitter](https://twitter.com/FullControlXYZ), [instagram](https://www.instagram.com/fullcontrolxyz/), [linkedin](https://www.linkedin.com/in/andrew-gleadall-068587119/), [tiktok](https://www.tiktok.com/@fullcontrolxyz))\n",
        "- email [info@fullcontrol.xyz](mailto:info@fullcontrol.xyz)\n",
        "- post on the [subreddit](https://reddit.com/r/fullcontrol)\n",
        "- post in the [github discussions or issues tabs](https://github.com/FullControlXYZ/fullcontrol/issues)\n",
        "\n",
        "in publications, please cite the original FullControl paper and the github repo for the new python version:\n",
        "\n",
        "- Gleadall, A. (2021). FullControl GCode Designer: open-source software for unconstrained design in additive manufacturing. Additive Manufacturing, 46, 102109. \n",
        "- Gleadall, A. and Leas, D. (2023). FullControl [electronic resource: python source code]. available at: https://github.com/FullControlXYZ/fullcontrol"
      ]
    }
  ],
  "metadata": {
    "colab": {
      "include_colab_link": true,
      "provenance": []
    },
    "kernelspec": {
      "display_name": "base",
      "language": "python",
      "name": "python3"
    },
    "language_info": {
      "codemirror_mode": {
        "name": "ipython",
        "version": 3
      },
      "file_extension": ".py",
      "mimetype": "text/x-python",
      "name": "python",
      "nbconvert_exporter": "python",
      "pygments_lexer": "ipython3",
      "version": "3.12.9"
    }
  },
  "nbformat": 4,
  "nbformat_minor": 0
}
