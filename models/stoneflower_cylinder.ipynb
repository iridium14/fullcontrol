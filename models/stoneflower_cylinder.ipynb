{
  "cells": [
    {
      "attachments": {},
      "cell_type": "markdown",
      "metadata": {
        "id": "ac9_FmrCOwQL"
      },
      "source": [
        "# FullControl design template\n",
        "\n",
        "*<<< check out demo models [here](https://github.com/FullControlXYZ/fullcontrol/tree/master/models/README.md) >>>*\n",
        "  \n",
        "run all cells in this notebook, or press shift+enter to run each cell sequentially \n",
        "\n",
        "if you change one of the code cells, make sure you run it and all subsequent cells again (in order)\n",
        "\n",
        "*this document is a jupyter notebook - if they're new to you, check out how they work: [link](https://www.google.com/search?q=ipynb+tutorial), [link](https://jupyter.org/try-jupyter/retro/notebooks/?path=notebooks/Intro.ipynb), [link](https://colab.research.google.com/)*"
      ]
    },
    {
      "cell_type": "code",
      "execution_count": 18,
      "metadata": {
        "id": "57XXnogSOvDx"
      },
      "outputs": [],
      "source": [
        "import fullcontrol as fc\n",
        "import math"
      ]
    },
    {
      "cell_type": "code",
      "execution_count": 2,
      "metadata": {},
      "outputs": [],
      "source": [
        "# printer/gcode parameters\n",
        "\n",
        "design_name = 'square'\n",
        "nozzle_temp = 0\n",
        "bed_temp = 0\n",
        "print_speed = 300\n",
        "fan_percent = 0\n",
        "printer_name='stoneflower3d' # generic / ultimaker2plus / prusa_i3 / ender_3 / cr_10 / bambulab_x1 / toolchanger_T0"
      ]
    },
    {
      "cell_type": "code",
      "execution_count": 3,
      "metadata": {
        "id": "DeWKjlzbPC0u"
      },
      "outputs": [],
      "source": [
        "# design parameters\n",
        "\n",
        "EW = 0.5 # extrusion width\n",
        "EH = 0.25 # extrusion height (and layer height)\n",
        "initial_z = EH*1 # initial nozzle position is set to 1x the extrusion height to get a bit of 'squish' for good bed adhesion\n",
        "layers = 1\n",
        "dia=20 #diameter of the cylinder\n"
      ]
    },
    {
      "cell_type": "code",
      "execution_count": 26,
      "metadata": {
        "id": "kLPh7aTwQKrF"
      },
      "outputs": [
        {
          "name": "stdout",
          "output_type": "stream",
          "text": [
            "x=210.0 y=210.0 z=0.25 color=None\n",
            "x=200.0 y=210.0 z=0.25 color=None\n"
          ]
        }
      ],
      "source": [
        "# generate the design (make sure you've run the above cells before running this cell)\n",
        "initial_xyz=fc.Point(x=200, y=200, z=initial_z)\n",
        "steps = []\n",
        "#Generate the layer patterns such that no travel is require between the layers\n",
        "for layer in range(layers):\n",
        "        layer1=[]\n",
        "        first_point=fc.move(initial_xyz,fc.Vector(y=dia/2,z=EH*layer))\n",
        "        centre_point = fc.move(initial_xyz,fc.Vector(x=dia/2,y=dia/2,z=EH*layer))\n",
        "        radius = dia/2\n",
        "        start_angle =math.pi\n",
        "        segments = 32\n",
        "        clockwise = False\n",
        "        circle_steps = fc.circleXY(centre_point, radius, start_angle, segments, clockwise)\n",
        "        start_point = fc.move(first_point,fc.Vector(x=EW,y=EW))\n",
        "        direction = fc.Vector(x=1,y=0)\n",
        "        amplitude = -((dia/2)-2*EW)\n",
        "        line_spacing = 1\n",
        "        periods = dia//2\n",
        "        extra_half_period = False\n",
        "        extra_end_line = False\n",
        "        infill_steps = fc.squarewaveXY(start_point, direction, amplitude, line_spacing, periods, extra_half_period, extra_end_line)\n",
        "        layer1.append(circle_steps)\n",
        "        layer1.append(infill_steps)\n",
        "        print(centre_point)\n",
        "        print(circle_steps[0])        \n",
        "    \n",
        "        layer2=[]\n",
        "        first_point=fc.move(initial_xyz,fc.Vector(y=dia,z=EH*layer))\n",
        "        rectangle_steps = fc.rectangleXY(first_point, dia, -dia, cw = True)\n",
        "        start_point = fc.move(first_point,fc.Vector(x=EW,y=-EW))\n",
        "        direction = fc.Vector(x=1,y=0)\n",
        "        amplitude = -(dia-2*EW)\n",
        "        line_spacing = 1\n",
        "        periods = dia//2\n",
        "        extra_half_period = False\n",
        "        extra_end_line = False\n",
        "        infill_steps = fc.squarewaveXY(start_point, direction, amplitude, line_spacing, periods, extra_half_period, extra_end_line)\n",
        "        layer2.append(rectangle_steps)\n",
        "        layer2.append(infill_steps)\n",
        "        \n",
        "        layer3=[]\n",
        "        first_point=fc.move(initial_xyz,fc.Vector(x=dia,z=EH*layer))\n",
        "        rectangle_steps = fc.rectangleXY(first_point, -dia, dia, cw = True)\n",
        "        start_point = fc.move(first_point,fc.Vector(x=-EW,y=EW))\n",
        "        direction = fc.Vector(x=0,y=1)\n",
        "        amplitude = (dia-2*EW)\n",
        "        line_spacing = 1\n",
        "        periods = dia//2\n",
        "        extra_half_period = False\n",
        "        extra_end_line = False\n",
        "        infill_steps = fc.squarewaveXY(start_point, direction, amplitude, line_spacing, periods, extra_half_period, extra_end_line)\n",
        "        layer3.append(rectangle_steps)\n",
        "        layer3.append(infill_steps)\n",
        "\n",
        "        layer4=[]\n",
        "        first_point=fc.move(initial_xyz,fc.Vector(x=dia,y=dia,z=EH*layer))\n",
        "        rectangle_steps = fc.rectangleXY(first_point, -dia, -dia, cw = True)\n",
        "        start_point = fc.move(first_point,fc.Vector(x=-EW,y=-EW))\n",
        "        direction = fc.Vector(x=-1,y=0)\n",
        "        amplitude = (dia-2*EW)\n",
        "        line_spacing = 1\n",
        "        periods = dia//2\n",
        "        extra_half_period = False\n",
        "        extra_end_line = False\n",
        "        infill_steps = fc.squarewaveXY(start_point, direction, amplitude, line_spacing, periods, extra_half_period, extra_end_line)\n",
        "        layer4.append(rectangle_steps)\n",
        "        layer4.append(infill_steps)\n",
        "        layertypes=[layer1,layer2,layer3,layer4]\n",
        "        steps.extend(layertypes[layer%len(layertypes)]) \n",
        "\n",
        "#steps = fc.move(rectangle_steps, fc.Vector(z=EH), copy=True, copy_quantity=layers)"
      ]
    },
    {
      "cell_type": "code",
      "execution_count": 27,
      "metadata": {
        "id": "ZVdfnpt5RSUi"
      },
      "outputs": [
        {
          "name": "stdout",
          "output_type": "stream",
          "text": [
            "warning - the list of steps should be a 1D list of fullcontrol class instances, it currently includes a 'list'\n",
            "   - fc.flatten() is being used to convert the design to a 1D list\n"
          ]
        },
        {
          "data": {
            "application/vnd.plotly.v1+json": {
              "config": {
                "plotlyServerURL": "https://plot.ly"
              },
              "data": [
                {
                  "line": {
                    "color": [
                      "rgb(0.00, 0.00, 255.00)",
                      "rgb(0.00, 0.00, 255.00)",
                      "rgb(0.00, 0.00, 255.00)",
                      "rgb(0.00, 0.00, 255.00)",
                      "rgb(0.00, 0.00, 255.00)",
                      "rgb(0.00, 0.00, 255.00)",
                      "rgb(0.00, 0.00, 255.00)",
                      "rgb(0.00, 0.00, 255.00)",
                      "rgb(0.00, 0.00, 255.00)",
                      "rgb(0.00, 0.00, 255.00)",
                      "rgb(0.00, 0.00, 255.00)",
                      "rgb(0.00, 0.00, 255.00)",
                      "rgb(0.00, 0.00, 255.00)",
                      "rgb(0.00, 0.00, 255.00)",
                      "rgb(0.00, 0.00, 255.00)",
                      "rgb(0.00, 0.00, 255.00)",
                      "rgb(0.00, 0.00, 255.00)",
                      "rgb(0.00, 0.00, 255.00)",
                      "rgb(0.00, 0.00, 255.00)",
                      "rgb(0.00, 0.00, 255.00)",
                      "rgb(0.00, 0.00, 255.00)",
                      "rgb(0.00, 0.00, 255.00)",
                      "rgb(0.00, 0.00, 255.00)",
                      "rgb(0.00, 0.00, 255.00)",
                      "rgb(0.00, 0.00, 255.00)",
                      "rgb(0.00, 0.00, 255.00)",
                      "rgb(0.00, 0.00, 255.00)",
                      "rgb(0.00, 0.00, 255.00)",
                      "rgb(0.00, 0.00, 255.00)",
                      "rgb(0.00, 0.00, 255.00)",
                      "rgb(0.00, 0.00, 255.00)",
                      "rgb(0.00, 0.00, 255.00)",
                      "rgb(0.00, 0.00, 255.00)",
                      "rgb(0.00, 0.00, 255.00)",
                      "rgb(0.00, 0.00, 255.00)",
                      "rgb(0.00, 0.00, 255.00)",
                      "rgb(0.00, 0.00, 255.00)",
                      "rgb(0.00, 0.00, 255.00)",
                      "rgb(0.00, 0.00, 255.00)",
                      "rgb(0.00, 0.00, 255.00)",
                      "rgb(0.00, 0.00, 255.00)",
                      "rgb(0.00, 0.00, 255.00)",
                      "rgb(0.00, 0.00, 255.00)",
                      "rgb(0.00, 0.00, 255.00)",
                      "rgb(0.00, 0.00, 255.00)",
                      "rgb(0.00, 0.00, 255.00)",
                      "rgb(0.00, 0.00, 255.00)",
                      "rgb(0.00, 0.00, 255.00)",
                      "rgb(0.00, 0.00, 255.00)",
                      "rgb(0.00, 0.00, 255.00)",
                      "rgb(0.00, 0.00, 255.00)",
                      "rgb(0.00, 0.00, 255.00)",
                      "rgb(0.00, 0.00, 255.00)",
                      "rgb(0.00, 0.00, 255.00)",
                      "rgb(0.00, 0.00, 255.00)",
                      "rgb(0.00, 0.00, 255.00)",
                      "rgb(0.00, 0.00, 255.00)",
                      "rgb(0.00, 0.00, 255.00)",
                      "rgb(0.00, 0.00, 255.00)",
                      "rgb(0.00, 0.00, 255.00)",
                      "rgb(0.00, 0.00, 255.00)",
                      "rgb(0.00, 0.00, 255.00)",
                      "rgb(0.00, 0.00, 255.00)",
                      "rgb(0.00, 0.00, 255.00)",
                      "rgb(0.00, 0.00, 255.00)",
                      "rgb(0.00, 0.00, 255.00)",
                      "rgb(0.00, 0.00, 255.00)",
                      "rgb(0.00, 0.00, 255.00)",
                      "rgb(0.00, 0.00, 255.00)",
                      "rgb(0.00, 0.00, 255.00)",
                      "rgb(0.00, 0.00, 255.00)",
                      "rgb(0.00, 0.00, 255.00)",
                      "rgb(0.00, 0.00, 255.00)"
                    ],
                    "width": 4
                  },
                  "mode": "lines",
                  "showlegend": false,
                  "type": "scatter3d",
                  "x": [
                    200,
                    200.192,
                    200.761,
                    201.685,
                    202.929,
                    204.444,
                    206.173,
                    208.049,
                    210,
                    211.951,
                    213.827,
                    215.556,
                    217.071,
                    218.315,
                    219.239,
                    219.808,
                    220,
                    219.808,
                    219.239,
                    218.315,
                    217.071,
                    215.556,
                    213.827,
                    211.951,
                    210,
                    208.049,
                    206.173,
                    204.444,
                    202.929,
                    201.685,
                    200.761,
                    200.192,
                    200,
                    200.5,
                    200.5,
                    201.5,
                    201.5,
                    202.5,
                    202.5,
                    203.5,
                    203.5,
                    204.5,
                    204.5,
                    205.5,
                    205.5,
                    206.5,
                    206.5,
                    207.5,
                    207.5,
                    208.5,
                    208.5,
                    209.5,
                    209.5,
                    210.5,
                    210.5,
                    211.5,
                    211.5,
                    212.5,
                    212.5,
                    213.5,
                    213.5,
                    214.5,
                    214.5,
                    215.5,
                    215.5,
                    216.5,
                    216.5,
                    217.5,
                    217.5,
                    218.5,
                    218.5,
                    219.5,
                    219.5
                  ],
                  "y": [
                    210,
                    208.049,
                    206.173,
                    204.444,
                    202.929,
                    201.685,
                    200.761,
                    200.192,
                    200,
                    200.192,
                    200.761,
                    201.685,
                    202.929,
                    204.444,
                    206.173,
                    208.049,
                    210,
                    211.951,
                    213.827,
                    215.556,
                    217.071,
                    218.315,
                    219.239,
                    219.808,
                    220,
                    219.808,
                    219.239,
                    218.315,
                    217.071,
                    215.556,
                    213.827,
                    211.951,
                    210,
                    210.5,
                    201.5,
                    201.5,
                    210.5,
                    210.5,
                    201.5,
                    201.5,
                    210.5,
                    210.5,
                    201.5,
                    201.5,
                    210.5,
                    210.5,
                    201.5,
                    201.5,
                    210.5,
                    210.5,
                    201.5,
                    201.5,
                    210.5,
                    210.5,
                    201.5,
                    201.5,
                    210.5,
                    210.5,
                    201.5,
                    201.5,
                    210.5,
                    210.5,
                    201.5,
                    201.5,
                    210.5,
                    210.5,
                    201.5,
                    201.5,
                    210.5,
                    210.5,
                    201.5,
                    201.5,
                    210.5
                  ],
                  "z": [
                    0.25,
                    0.25,
                    0.25,
                    0.25,
                    0.25,
                    0.25,
                    0.25,
                    0.25,
                    0.25,
                    0.25,
                    0.25,
                    0.25,
                    0.25,
                    0.25,
                    0.25,
                    0.25,
                    0.25,
                    0.25,
                    0.25,
                    0.25,
                    0.25,
                    0.25,
                    0.25,
                    0.25,
                    0.25,
                    0.25,
                    0.25,
                    0.25,
                    0.25,
                    0.25,
                    0.25,
                    0.25,
                    0.25,
                    0.25,
                    0.25,
                    0.25,
                    0.25,
                    0.25,
                    0.25,
                    0.25,
                    0.25,
                    0.25,
                    0.25,
                    0.25,
                    0.25,
                    0.25,
                    0.25,
                    0.25,
                    0.25,
                    0.25,
                    0.25,
                    0.25,
                    0.25,
                    0.25,
                    0.25,
                    0.25,
                    0.25,
                    0.25,
                    0.25,
                    0.25,
                    0.25,
                    0.25,
                    0.25,
                    0.25,
                    0.25,
                    0.25,
                    0.25,
                    0.25,
                    0.25,
                    0.25,
                    0.25,
                    0.25,
                    0.25
                  ]
                },
                {
                  "marker": {
                    "color": "red",
                    "size": 2
                  },
                  "mode": "markers",
                  "showlegend": false,
                  "type": "scatter3d",
                  "x": [],
                  "y": [],
                  "z": []
                }
              ],
              "layout": {
                "height": 500,
                "margin": {
                  "b": 10,
                  "l": 10,
                  "pad": 4,
                  "r": 10,
                  "t": 10
                },
                "paper_bgcolor": "black",
                "scene": {
                  "aspectmode": "cube",
                  "camera": {
                    "center": {
                      "x": 0,
                      "y": 0,
                      "z": -0.5
                    },
                    "eye": {
                      "x": -0.7142857142857143,
                      "y": -1.4285714285714286,
                      "z": 0.2142857142857143
                    }
                  },
                  "xaxis": {
                    "backgroundcolor": "black",
                    "nticks": 10,
                    "range": [
                      199.999,
                      220.001
                    ]
                  },
                  "yaxis": {
                    "backgroundcolor": "black",
                    "nticks": 10,
                    "range": [
                      199.999,
                      220.001
                    ]
                  },
                  "zaxis": {
                    "backgroundcolor": "black",
                    "nticks": 10,
                    "range": [
                      0,
                      20.002
                    ]
                  }
                },
                "template": {
                  "data": {
                    "bar": [
                      {
                        "error_x": {
                          "color": "#f2f5fa"
                        },
                        "error_y": {
                          "color": "#f2f5fa"
                        },
                        "marker": {
                          "line": {
                            "color": "rgb(17,17,17)",
                            "width": 0.5
                          },
                          "pattern": {
                            "fillmode": "overlay",
                            "size": 10,
                            "solidity": 0.2
                          }
                        },
                        "type": "bar"
                      }
                    ],
                    "barpolar": [
                      {
                        "marker": {
                          "line": {
                            "color": "rgb(17,17,17)",
                            "width": 0.5
                          },
                          "pattern": {
                            "fillmode": "overlay",
                            "size": 10,
                            "solidity": 0.2
                          }
                        },
                        "type": "barpolar"
                      }
                    ],
                    "carpet": [
                      {
                        "aaxis": {
                          "endlinecolor": "#A2B1C6",
                          "gridcolor": "#506784",
                          "linecolor": "#506784",
                          "minorgridcolor": "#506784",
                          "startlinecolor": "#A2B1C6"
                        },
                        "baxis": {
                          "endlinecolor": "#A2B1C6",
                          "gridcolor": "#506784",
                          "linecolor": "#506784",
                          "minorgridcolor": "#506784",
                          "startlinecolor": "#A2B1C6"
                        },
                        "type": "carpet"
                      }
                    ],
                    "choropleth": [
                      {
                        "colorbar": {
                          "outlinewidth": 0,
                          "ticks": ""
                        },
                        "type": "choropleth"
                      }
                    ],
                    "contour": [
                      {
                        "colorbar": {
                          "outlinewidth": 0,
                          "ticks": ""
                        },
                        "colorscale": [
                          [
                            0,
                            "#0d0887"
                          ],
                          [
                            0.1111111111111111,
                            "#46039f"
                          ],
                          [
                            0.2222222222222222,
                            "#7201a8"
                          ],
                          [
                            0.3333333333333333,
                            "#9c179e"
                          ],
                          [
                            0.4444444444444444,
                            "#bd3786"
                          ],
                          [
                            0.5555555555555556,
                            "#d8576b"
                          ],
                          [
                            0.6666666666666666,
                            "#ed7953"
                          ],
                          [
                            0.7777777777777778,
                            "#fb9f3a"
                          ],
                          [
                            0.8888888888888888,
                            "#fdca26"
                          ],
                          [
                            1,
                            "#f0f921"
                          ]
                        ],
                        "type": "contour"
                      }
                    ],
                    "contourcarpet": [
                      {
                        "colorbar": {
                          "outlinewidth": 0,
                          "ticks": ""
                        },
                        "type": "contourcarpet"
                      }
                    ],
                    "heatmap": [
                      {
                        "colorbar": {
                          "outlinewidth": 0,
                          "ticks": ""
                        },
                        "colorscale": [
                          [
                            0,
                            "#0d0887"
                          ],
                          [
                            0.1111111111111111,
                            "#46039f"
                          ],
                          [
                            0.2222222222222222,
                            "#7201a8"
                          ],
                          [
                            0.3333333333333333,
                            "#9c179e"
                          ],
                          [
                            0.4444444444444444,
                            "#bd3786"
                          ],
                          [
                            0.5555555555555556,
                            "#d8576b"
                          ],
                          [
                            0.6666666666666666,
                            "#ed7953"
                          ],
                          [
                            0.7777777777777778,
                            "#fb9f3a"
                          ],
                          [
                            0.8888888888888888,
                            "#fdca26"
                          ],
                          [
                            1,
                            "#f0f921"
                          ]
                        ],
                        "type": "heatmap"
                      }
                    ],
                    "histogram": [
                      {
                        "marker": {
                          "pattern": {
                            "fillmode": "overlay",
                            "size": 10,
                            "solidity": 0.2
                          }
                        },
                        "type": "histogram"
                      }
                    ],
                    "histogram2d": [
                      {
                        "colorbar": {
                          "outlinewidth": 0,
                          "ticks": ""
                        },
                        "colorscale": [
                          [
                            0,
                            "#0d0887"
                          ],
                          [
                            0.1111111111111111,
                            "#46039f"
                          ],
                          [
                            0.2222222222222222,
                            "#7201a8"
                          ],
                          [
                            0.3333333333333333,
                            "#9c179e"
                          ],
                          [
                            0.4444444444444444,
                            "#bd3786"
                          ],
                          [
                            0.5555555555555556,
                            "#d8576b"
                          ],
                          [
                            0.6666666666666666,
                            "#ed7953"
                          ],
                          [
                            0.7777777777777778,
                            "#fb9f3a"
                          ],
                          [
                            0.8888888888888888,
                            "#fdca26"
                          ],
                          [
                            1,
                            "#f0f921"
                          ]
                        ],
                        "type": "histogram2d"
                      }
                    ],
                    "histogram2dcontour": [
                      {
                        "colorbar": {
                          "outlinewidth": 0,
                          "ticks": ""
                        },
                        "colorscale": [
                          [
                            0,
                            "#0d0887"
                          ],
                          [
                            0.1111111111111111,
                            "#46039f"
                          ],
                          [
                            0.2222222222222222,
                            "#7201a8"
                          ],
                          [
                            0.3333333333333333,
                            "#9c179e"
                          ],
                          [
                            0.4444444444444444,
                            "#bd3786"
                          ],
                          [
                            0.5555555555555556,
                            "#d8576b"
                          ],
                          [
                            0.6666666666666666,
                            "#ed7953"
                          ],
                          [
                            0.7777777777777778,
                            "#fb9f3a"
                          ],
                          [
                            0.8888888888888888,
                            "#fdca26"
                          ],
                          [
                            1,
                            "#f0f921"
                          ]
                        ],
                        "type": "histogram2dcontour"
                      }
                    ],
                    "mesh3d": [
                      {
                        "colorbar": {
                          "outlinewidth": 0,
                          "ticks": ""
                        },
                        "type": "mesh3d"
                      }
                    ],
                    "parcoords": [
                      {
                        "line": {
                          "colorbar": {
                            "outlinewidth": 0,
                            "ticks": ""
                          }
                        },
                        "type": "parcoords"
                      }
                    ],
                    "pie": [
                      {
                        "automargin": true,
                        "type": "pie"
                      }
                    ],
                    "scatter": [
                      {
                        "marker": {
                          "line": {
                            "color": "#283442"
                          }
                        },
                        "type": "scatter"
                      }
                    ],
                    "scatter3d": [
                      {
                        "line": {
                          "colorbar": {
                            "outlinewidth": 0,
                            "ticks": ""
                          }
                        },
                        "marker": {
                          "colorbar": {
                            "outlinewidth": 0,
                            "ticks": ""
                          }
                        },
                        "type": "scatter3d"
                      }
                    ],
                    "scattercarpet": [
                      {
                        "marker": {
                          "colorbar": {
                            "outlinewidth": 0,
                            "ticks": ""
                          }
                        },
                        "type": "scattercarpet"
                      }
                    ],
                    "scattergeo": [
                      {
                        "marker": {
                          "colorbar": {
                            "outlinewidth": 0,
                            "ticks": ""
                          }
                        },
                        "type": "scattergeo"
                      }
                    ],
                    "scattergl": [
                      {
                        "marker": {
                          "line": {
                            "color": "#283442"
                          }
                        },
                        "type": "scattergl"
                      }
                    ],
                    "scattermap": [
                      {
                        "marker": {
                          "colorbar": {
                            "outlinewidth": 0,
                            "ticks": ""
                          }
                        },
                        "type": "scattermap"
                      }
                    ],
                    "scattermapbox": [
                      {
                        "marker": {
                          "colorbar": {
                            "outlinewidth": 0,
                            "ticks": ""
                          }
                        },
                        "type": "scattermapbox"
                      }
                    ],
                    "scatterpolar": [
                      {
                        "marker": {
                          "colorbar": {
                            "outlinewidth": 0,
                            "ticks": ""
                          }
                        },
                        "type": "scatterpolar"
                      }
                    ],
                    "scatterpolargl": [
                      {
                        "marker": {
                          "colorbar": {
                            "outlinewidth": 0,
                            "ticks": ""
                          }
                        },
                        "type": "scatterpolargl"
                      }
                    ],
                    "scatterternary": [
                      {
                        "marker": {
                          "colorbar": {
                            "outlinewidth": 0,
                            "ticks": ""
                          }
                        },
                        "type": "scatterternary"
                      }
                    ],
                    "surface": [
                      {
                        "colorbar": {
                          "outlinewidth": 0,
                          "ticks": ""
                        },
                        "colorscale": [
                          [
                            0,
                            "#0d0887"
                          ],
                          [
                            0.1111111111111111,
                            "#46039f"
                          ],
                          [
                            0.2222222222222222,
                            "#7201a8"
                          ],
                          [
                            0.3333333333333333,
                            "#9c179e"
                          ],
                          [
                            0.4444444444444444,
                            "#bd3786"
                          ],
                          [
                            0.5555555555555556,
                            "#d8576b"
                          ],
                          [
                            0.6666666666666666,
                            "#ed7953"
                          ],
                          [
                            0.7777777777777778,
                            "#fb9f3a"
                          ],
                          [
                            0.8888888888888888,
                            "#fdca26"
                          ],
                          [
                            1,
                            "#f0f921"
                          ]
                        ],
                        "type": "surface"
                      }
                    ],
                    "table": [
                      {
                        "cells": {
                          "fill": {
                            "color": "#506784"
                          },
                          "line": {
                            "color": "rgb(17,17,17)"
                          }
                        },
                        "header": {
                          "fill": {
                            "color": "#2a3f5f"
                          },
                          "line": {
                            "color": "rgb(17,17,17)"
                          }
                        },
                        "type": "table"
                      }
                    ]
                  },
                  "layout": {
                    "annotationdefaults": {
                      "arrowcolor": "#f2f5fa",
                      "arrowhead": 0,
                      "arrowwidth": 1
                    },
                    "autotypenumbers": "strict",
                    "coloraxis": {
                      "colorbar": {
                        "outlinewidth": 0,
                        "ticks": ""
                      }
                    },
                    "colorscale": {
                      "diverging": [
                        [
                          0,
                          "#8e0152"
                        ],
                        [
                          0.1,
                          "#c51b7d"
                        ],
                        [
                          0.2,
                          "#de77ae"
                        ],
                        [
                          0.3,
                          "#f1b6da"
                        ],
                        [
                          0.4,
                          "#fde0ef"
                        ],
                        [
                          0.5,
                          "#f7f7f7"
                        ],
                        [
                          0.6,
                          "#e6f5d0"
                        ],
                        [
                          0.7,
                          "#b8e186"
                        ],
                        [
                          0.8,
                          "#7fbc41"
                        ],
                        [
                          0.9,
                          "#4d9221"
                        ],
                        [
                          1,
                          "#276419"
                        ]
                      ],
                      "sequential": [
                        [
                          0,
                          "#0d0887"
                        ],
                        [
                          0.1111111111111111,
                          "#46039f"
                        ],
                        [
                          0.2222222222222222,
                          "#7201a8"
                        ],
                        [
                          0.3333333333333333,
                          "#9c179e"
                        ],
                        [
                          0.4444444444444444,
                          "#bd3786"
                        ],
                        [
                          0.5555555555555556,
                          "#d8576b"
                        ],
                        [
                          0.6666666666666666,
                          "#ed7953"
                        ],
                        [
                          0.7777777777777778,
                          "#fb9f3a"
                        ],
                        [
                          0.8888888888888888,
                          "#fdca26"
                        ],
                        [
                          1,
                          "#f0f921"
                        ]
                      ],
                      "sequentialminus": [
                        [
                          0,
                          "#0d0887"
                        ],
                        [
                          0.1111111111111111,
                          "#46039f"
                        ],
                        [
                          0.2222222222222222,
                          "#7201a8"
                        ],
                        [
                          0.3333333333333333,
                          "#9c179e"
                        ],
                        [
                          0.4444444444444444,
                          "#bd3786"
                        ],
                        [
                          0.5555555555555556,
                          "#d8576b"
                        ],
                        [
                          0.6666666666666666,
                          "#ed7953"
                        ],
                        [
                          0.7777777777777778,
                          "#fb9f3a"
                        ],
                        [
                          0.8888888888888888,
                          "#fdca26"
                        ],
                        [
                          1,
                          "#f0f921"
                        ]
                      ]
                    },
                    "colorway": [
                      "#636efa",
                      "#EF553B",
                      "#00cc96",
                      "#ab63fa",
                      "#FFA15A",
                      "#19d3f3",
                      "#FF6692",
                      "#B6E880",
                      "#FF97FF",
                      "#FECB52"
                    ],
                    "font": {
                      "color": "#f2f5fa"
                    },
                    "geo": {
                      "bgcolor": "rgb(17,17,17)",
                      "lakecolor": "rgb(17,17,17)",
                      "landcolor": "rgb(17,17,17)",
                      "showlakes": true,
                      "showland": true,
                      "subunitcolor": "#506784"
                    },
                    "hoverlabel": {
                      "align": "left"
                    },
                    "hovermode": "closest",
                    "mapbox": {
                      "style": "dark"
                    },
                    "paper_bgcolor": "rgb(17,17,17)",
                    "plot_bgcolor": "rgb(17,17,17)",
                    "polar": {
                      "angularaxis": {
                        "gridcolor": "#506784",
                        "linecolor": "#506784",
                        "ticks": ""
                      },
                      "bgcolor": "rgb(17,17,17)",
                      "radialaxis": {
                        "gridcolor": "#506784",
                        "linecolor": "#506784",
                        "ticks": ""
                      }
                    },
                    "scene": {
                      "xaxis": {
                        "backgroundcolor": "rgb(17,17,17)",
                        "gridcolor": "#506784",
                        "gridwidth": 2,
                        "linecolor": "#506784",
                        "showbackground": true,
                        "ticks": "",
                        "zerolinecolor": "#C8D4E3"
                      },
                      "yaxis": {
                        "backgroundcolor": "rgb(17,17,17)",
                        "gridcolor": "#506784",
                        "gridwidth": 2,
                        "linecolor": "#506784",
                        "showbackground": true,
                        "ticks": "",
                        "zerolinecolor": "#C8D4E3"
                      },
                      "zaxis": {
                        "backgroundcolor": "rgb(17,17,17)",
                        "gridcolor": "#506784",
                        "gridwidth": 2,
                        "linecolor": "#506784",
                        "showbackground": true,
                        "ticks": "",
                        "zerolinecolor": "#C8D4E3"
                      }
                    },
                    "shapedefaults": {
                      "line": {
                        "color": "#f2f5fa"
                      }
                    },
                    "sliderdefaults": {
                      "bgcolor": "#C8D4E3",
                      "bordercolor": "rgb(17,17,17)",
                      "borderwidth": 1,
                      "tickwidth": 0
                    },
                    "ternary": {
                      "aaxis": {
                        "gridcolor": "#506784",
                        "linecolor": "#506784",
                        "ticks": ""
                      },
                      "baxis": {
                        "gridcolor": "#506784",
                        "linecolor": "#506784",
                        "ticks": ""
                      },
                      "bgcolor": "rgb(17,17,17)",
                      "caxis": {
                        "gridcolor": "#506784",
                        "linecolor": "#506784",
                        "ticks": ""
                      }
                    },
                    "title": {
                      "x": 0.05
                    },
                    "updatemenudefaults": {
                      "bgcolor": "#506784",
                      "borderwidth": 0
                    },
                    "xaxis": {
                      "automargin": true,
                      "gridcolor": "#283442",
                      "linecolor": "#506784",
                      "ticks": "",
                      "title": {
                        "standoff": 15
                      },
                      "zerolinecolor": "#283442",
                      "zerolinewidth": 2
                    },
                    "yaxis": {
                      "automargin": true,
                      "gridcolor": "#283442",
                      "linecolor": "#506784",
                      "ticks": "",
                      "title": {
                        "standoff": 15
                      },
                      "zerolinecolor": "#283442",
                      "zerolinewidth": 2
                    }
                  }
                },
                "width": 800
              }
            }
          },
          "metadata": {},
          "output_type": "display_data"
        },
        {
          "name": "stdout",
          "output_type": "stream",
          "text": [
            "warning - the list of steps should be a 1D list of fullcontrol class instances, it currently includes a 'list'\n",
            "   - fc.flatten() is being used to convert the design to a 1D list\n"
          ]
        },
        {
          "data": {
            "application/vnd.plotly.v1+json": {
              "config": {
                "plotlyServerURL": "https://plot.ly"
              },
              "data": [
                {
                  "i": {
                    "bdata": "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",
                    "dtype": "i2"
                  },
                  "j": {
                    "bdata": "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",
                    "dtype": "i2"
                  },
                  "k": {
                    "bdata": "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",
                    "dtype": "i2"
                  },
                  "type": "mesh3d",
                  "vertexcolor": [
                    "rgb(0.00, 0.00, 255.00)",
                    "rgb(0.00, 0.00, 255.00)",
                    "rgb(0.00, 0.00, 255.00)",
                    "rgb(0.00, 0.00, 255.00)",
                    "rgb(0.00, 0.00, 255.00)",
                    "rgb(0.00, 0.00, 255.00)",
                    "rgb(0.00, 0.00, 255.00)",
                    "rgb(0.00, 0.00, 255.00)",
                    "rgb(0.00, 0.00, 255.00)",
                    "rgb(0.00, 0.00, 255.00)",
                    "rgb(0.00, 0.00, 255.00)",
                    "rgb(0.00, 0.00, 255.00)",
                    "rgb(0.00, 0.00, 255.00)",
                    "rgb(0.00, 0.00, 255.00)",
                    "rgb(0.00, 0.00, 255.00)",
                    "rgb(0.00, 0.00, 255.00)",
                    "rgb(0.00, 0.00, 255.00)",
                    "rgb(0.00, 0.00, 255.00)",
                    "rgb(0.00, 0.00, 255.00)",
                    "rgb(0.00, 0.00, 255.00)",
                    "rgb(0.00, 0.00, 255.00)",
                    "rgb(0.00, 0.00, 255.00)",
                    "rgb(0.00, 0.00, 255.00)",
                    "rgb(0.00, 0.00, 255.00)",
                    "rgb(0.00, 0.00, 255.00)",
                    "rgb(0.00, 0.00, 255.00)",
                    "rgb(0.00, 0.00, 255.00)",
                    "rgb(0.00, 0.00, 255.00)",
                    "rgb(0.00, 0.00, 255.00)",
                    "rgb(0.00, 0.00, 255.00)",
                    "rgb(0.00, 0.00, 255.00)",
                    "rgb(0.00, 0.00, 255.00)",
                    "rgb(0.00, 0.00, 255.00)",
                    "rgb(0.00, 0.00, 255.00)",
                    "rgb(0.00, 0.00, 255.00)",
                    "rgb(0.00, 0.00, 255.00)",
                    "rgb(0.00, 0.00, 255.00)",
                    "rgb(0.00, 0.00, 255.00)",
                    "rgb(0.00, 0.00, 255.00)",
                    "rgb(0.00, 0.00, 255.00)",
                    "rgb(0.00, 0.00, 255.00)",
                    "rgb(0.00, 0.00, 255.00)",
                    "rgb(0.00, 0.00, 255.00)",
                    "rgb(0.00, 0.00, 255.00)",
                    "rgb(0.00, 0.00, 255.00)",
                    "rgb(0.00, 0.00, 255.00)",
                    "rgb(0.00, 0.00, 255.00)",
                    "rgb(0.00, 0.00, 255.00)",
                    "rgb(0.00, 0.00, 255.00)",
                    "rgb(0.00, 0.00, 255.00)",
                    "rgb(0.00, 0.00, 255.00)",
                    "rgb(0.00, 0.00, 255.00)",
                    "rgb(0.00, 0.00, 255.00)",
                    "rgb(0.00, 0.00, 255.00)",
                    "rgb(0.00, 0.00, 255.00)",
                    "rgb(0.00, 0.00, 255.00)",
                    "rgb(0.00, 0.00, 255.00)",
                    "rgb(0.00, 0.00, 255.00)",
                    "rgb(0.00, 0.00, 255.00)",
                    "rgb(0.00, 0.00, 255.00)",
                    "rgb(0.00, 0.00, 255.00)",
                    "rgb(0.00, 0.00, 255.00)",
                    "rgb(0.00, 0.00, 255.00)",
                    "rgb(0.00, 0.00, 255.00)",
                    "rgb(0.00, 0.00, 255.00)",
                    "rgb(0.00, 0.00, 255.00)",
                    "rgb(0.00, 0.00, 255.00)",
                    "rgb(0.00, 0.00, 255.00)",
                    "rgb(0.00, 0.00, 255.00)",
                    "rgb(0.00, 0.00, 255.00)",
                    "rgb(0.00, 0.00, 255.00)",
                    "rgb(0.00, 0.00, 255.00)",
                    "rgb(0.00, 0.00, 255.00)",
                    "rgb(0.00, 0.00, 255.00)",
                    "rgb(0.00, 0.00, 255.00)",
                    "rgb(0.00, 0.00, 255.00)",
                    "rgb(0.00, 0.00, 255.00)",
                    "rgb(0.00, 0.00, 255.00)",
                    "rgb(0.00, 0.00, 255.00)",
                    "rgb(0.00, 0.00, 255.00)",
                    "rgb(0.00, 0.00, 255.00)",
                    "rgb(0.00, 0.00, 255.00)",
                    "rgb(0.00, 0.00, 255.00)",
                    "rgb(0.00, 0.00, 255.00)",
                    "rgb(0.00, 0.00, 255.00)",
                    "rgb(0.00, 0.00, 255.00)",
                    "rgb(0.00, 0.00, 255.00)",
                    "rgb(0.00, 0.00, 255.00)",
                    "rgb(0.00, 0.00, 255.00)",
                    "rgb(0.00, 0.00, 255.00)",
                    "rgb(0.00, 0.00, 255.00)",
                    "rgb(0.00, 0.00, 255.00)",
                    "rgb(0.00, 0.00, 255.00)",
                    "rgb(0.00, 0.00, 255.00)",
                    "rgb(0.00, 0.00, 255.00)",
                    "rgb(0.00, 0.00, 255.00)",
                    "rgb(0.00, 0.00, 255.00)",
                    "rgb(0.00, 0.00, 255.00)",
                    "rgb(0.00, 0.00, 255.00)",
                    "rgb(0.00, 0.00, 255.00)",
                    "rgb(0.00, 0.00, 255.00)",
                    "rgb(0.00, 0.00, 255.00)",
                    "rgb(0.00, 0.00, 255.00)",
                    "rgb(0.00, 0.00, 255.00)",
                    "rgb(0.00, 0.00, 255.00)",
                    "rgb(0.00, 0.00, 255.00)",
                    "rgb(0.00, 0.00, 255.00)",
                    "rgb(0.00, 0.00, 255.00)",
                    "rgb(0.00, 0.00, 255.00)",
                    "rgb(0.00, 0.00, 255.00)",
                    "rgb(0.00, 0.00, 255.00)",
                    "rgb(0.00, 0.00, 255.00)",
                    "rgb(0.00, 0.00, 255.00)",
                    "rgb(0.00, 0.00, 255.00)",
                    "rgb(0.00, 0.00, 255.00)",
                    "rgb(0.00, 0.00, 255.00)",
                    "rgb(0.00, 0.00, 255.00)",
                    "rgb(0.00, 0.00, 255.00)",
                    "rgb(0.00, 0.00, 255.00)",
                    "rgb(0.00, 0.00, 255.00)",
                    "rgb(0.00, 0.00, 255.00)",
                    "rgb(0.00, 0.00, 255.00)",
                    "rgb(0.00, 0.00, 255.00)",
                    "rgb(0.00, 0.00, 255.00)",
                    "rgb(0.00, 0.00, 255.00)",
                    "rgb(0.00, 0.00, 255.00)",
                    "rgb(0.00, 0.00, 255.00)",
                    "rgb(0.00, 0.00, 255.00)",
                    "rgb(0.00, 0.00, 255.00)",
                    "rgb(0.00, 0.00, 255.00)",
                    "rgb(0.00, 0.00, 255.00)",
                    "rgb(0.00, 0.00, 255.00)",
                    "rgb(0.00, 0.00, 255.00)",
                    "rgb(0.00, 0.00, 255.00)",
                    "rgb(0.00, 0.00, 255.00)",
                    "rgb(0.00, 0.00, 255.00)",
                    "rgb(0.00, 0.00, 255.00)",
                    "rgb(0.00, 0.00, 255.00)",
                    "rgb(0.00, 0.00, 255.00)",
                    "rgb(0.00, 0.00, 255.00)",
                    "rgb(0.00, 0.00, 255.00)",
                    "rgb(0.00, 0.00, 255.00)",
                    "rgb(0.00, 0.00, 255.00)",
                    "rgb(0.00, 0.00, 255.00)",
                    "rgb(0.00, 0.00, 255.00)",
                    "rgb(0.00, 0.00, 255.00)",
                    "rgb(0.00, 0.00, 255.00)",
                    "rgb(0.00, 0.00, 255.00)",
                    "rgb(0.00, 0.00, 255.00)",
                    "rgb(0.00, 0.00, 255.00)",
                    "rgb(0.00, 0.00, 255.00)",
                    "rgb(0.00, 0.00, 255.00)",
                    "rgb(0.00, 0.00, 255.00)",
                    "rgb(0.00, 0.00, 255.00)",
                    "rgb(0.00, 0.00, 255.00)",
                    "rgb(0.00, 0.00, 255.00)",
                    "rgb(0.00, 0.00, 255.00)",
                    "rgb(0.00, 0.00, 255.00)",
                    "rgb(0.00, 0.00, 255.00)",
                    "rgb(0.00, 0.00, 255.00)",
                    "rgb(0.00, 0.00, 255.00)",
                    "rgb(0.00, 0.00, 255.00)",
                    "rgb(0.00, 0.00, 255.00)",
                    "rgb(0.00, 0.00, 255.00)",
                    "rgb(0.00, 0.00, 255.00)",
                    "rgb(0.00, 0.00, 255.00)",
                    "rgb(0.00, 0.00, 255.00)",
                    "rgb(0.00, 0.00, 255.00)",
                    "rgb(0.00, 0.00, 255.00)",
                    "rgb(0.00, 0.00, 255.00)",
                    "rgb(0.00, 0.00, 255.00)",
                    "rgb(0.00, 0.00, 255.00)",
                    "rgb(0.00, 0.00, 255.00)",
                    "rgb(0.00, 0.00, 255.00)",
                    "rgb(0.00, 0.00, 255.00)",
                    "rgb(0.00, 0.00, 255.00)",
                    "rgb(0.00, 0.00, 255.00)",
                    "rgb(0.00, 0.00, 255.00)",
                    "rgb(0.00, 0.00, 255.00)",
                    "rgb(0.00, 0.00, 255.00)",
                    "rgb(0.00, 0.00, 255.00)",
                    "rgb(0.00, 0.00, 255.00)",
                    "rgb(0.00, 0.00, 255.00)",
                    "rgb(0.00, 0.00, 255.00)",
                    "rgb(0.00, 0.00, 255.00)",
                    "rgb(0.00, 0.00, 255.00)",
                    "rgb(0.00, 0.00, 255.00)",
                    "rgb(0.00, 0.00, 255.00)",
                    "rgb(0.00, 0.00, 255.00)",
                    "rgb(0.00, 0.00, 255.00)",
                    "rgb(0.00, 0.00, 255.00)",
                    "rgb(0.00, 0.00, 255.00)",
                    "rgb(0.00, 0.00, 255.00)",
                    "rgb(0.00, 0.00, 255.00)",
                    "rgb(0.00, 0.00, 255.00)",
                    "rgb(0.00, 0.00, 255.00)",
                    "rgb(0.00, 0.00, 255.00)",
                    "rgb(0.00, 0.00, 255.00)",
                    "rgb(0.00, 0.00, 255.00)",
                    "rgb(0.00, 0.00, 255.00)",
                    "rgb(0.00, 0.00, 255.00)",
                    "rgb(0.00, 0.00, 255.00)",
                    "rgb(0.00, 0.00, 255.00)",
                    "rgb(0.00, 0.00, 255.00)",
                    "rgb(0.00, 0.00, 255.00)",
                    "rgb(0.00, 0.00, 255.00)",
                    "rgb(0.00, 0.00, 255.00)",
                    "rgb(0.00, 0.00, 255.00)",
                    "rgb(0.00, 0.00, 255.00)",
                    "rgb(0.00, 0.00, 255.00)",
                    "rgb(0.00, 0.00, 255.00)",
                    "rgb(0.00, 0.00, 255.00)",
                    "rgb(0.00, 0.00, 255.00)",
                    "rgb(0.00, 0.00, 255.00)",
                    "rgb(0.00, 0.00, 255.00)",
                    "rgb(0.00, 0.00, 255.00)",
                    "rgb(0.00, 0.00, 255.00)",
                    "rgb(0.00, 0.00, 255.00)",
                    "rgb(0.00, 0.00, 255.00)",
                    "rgb(0.00, 0.00, 255.00)",
                    "rgb(0.00, 0.00, 255.00)",
                    "rgb(0.00, 0.00, 255.00)",
                    "rgb(0.00, 0.00, 255.00)",
                    "rgb(0.00, 0.00, 255.00)",
                    "rgb(0.00, 0.00, 255.00)",
                    "rgb(0.00, 0.00, 255.00)",
                    "rgb(0.00, 0.00, 255.00)",
                    "rgb(0.00, 0.00, 255.00)",
                    "rgb(0.00, 0.00, 255.00)",
                    "rgb(0.00, 0.00, 255.00)",
                    "rgb(0.00, 0.00, 255.00)",
                    "rgb(0.00, 0.00, 255.00)",
                    "rgb(0.00, 0.00, 255.00)",
                    "rgb(0.00, 0.00, 255.00)",
                    "rgb(0.00, 0.00, 255.00)",
                    "rgb(0.00, 0.00, 255.00)",
                    "rgb(0.00, 0.00, 255.00)",
                    "rgb(0.00, 0.00, 255.00)",
                    "rgb(0.00, 0.00, 255.00)",
                    "rgb(0.00, 0.00, 255.00)",
                    "rgb(0.00, 0.00, 255.00)",
                    "rgb(0.00, 0.00, 255.00)",
                    "rgb(0.00, 0.00, 255.00)",
                    "rgb(0.00, 0.00, 255.00)",
                    "rgb(0.00, 0.00, 255.00)",
                    "rgb(0.00, 0.00, 255.00)",
                    "rgb(0.00, 0.00, 255.00)",
                    "rgb(0.00, 0.00, 255.00)",
                    "rgb(0.00, 0.00, 255.00)",
                    "rgb(0.00, 0.00, 255.00)",
                    "rgb(0.00, 0.00, 255.00)",
                    "rgb(0.00, 0.00, 255.00)",
                    "rgb(0.00, 0.00, 255.00)",
                    "rgb(0.00, 0.00, 255.00)",
                    "rgb(0.00, 0.00, 255.00)",
                    "rgb(0.00, 0.00, 255.00)",
                    "rgb(0.00, 0.00, 255.00)",
                    "rgb(0.00, 0.00, 255.00)",
                    "rgb(0.00, 0.00, 255.00)",
                    "rgb(0.00, 0.00, 255.00)",
                    "rgb(0.00, 0.00, 255.00)",
                    "rgb(0.00, 0.00, 255.00)",
                    "rgb(0.00, 0.00, 255.00)",
                    "rgb(0.00, 0.00, 255.00)",
                    "rgb(0.00, 0.00, 255.00)",
                    "rgb(0.00, 0.00, 255.00)",
                    "rgb(0.00, 0.00, 255.00)",
                    "rgb(0.00, 0.00, 255.00)",
                    "rgb(0.00, 0.00, 255.00)",
                    "rgb(0.00, 0.00, 255.00)",
                    "rgb(0.00, 0.00, 255.00)",
                    "rgb(0.00, 0.00, 255.00)",
                    "rgb(0.00, 0.00, 255.00)",
                    "rgb(0.00, 0.00, 255.00)",
                    "rgb(0.00, 0.00, 255.00)",
                    "rgb(0.00, 0.00, 255.00)",
                    "rgb(0.00, 0.00, 255.00)",
                    "rgb(0.00, 0.00, 255.00)",
                    "rgb(0.00, 0.00, 255.00)",
                    "rgb(0.00, 0.00, 255.00)",
                    "rgb(0.00, 0.00, 255.00)",
                    "rgb(0.00, 0.00, 255.00)",
                    "rgb(0.00, 0.00, 255.00)",
                    "rgb(0.00, 0.00, 255.00)",
                    "rgb(0.00, 0.00, 255.00)",
                    "rgb(0.00, 0.00, 255.00)",
                    "rgb(0.00, 0.00, 255.00)",
                    "rgb(0.00, 0.00, 255.00)",
                    "rgb(0.00, 0.00, 255.00)",
                    "rgb(0.00, 0.00, 255.00)",
                    "rgb(0.00, 0.00, 255.00)",
                    "rgb(0.00, 0.00, 255.00)",
                    "rgb(0.00, 0.00, 255.00)",
                    "rgb(0.00, 0.00, 255.00)",
                    "rgb(0.00, 0.00, 255.00)",
                    "rgb(0.00, 0.00, 255.00)",
                    "rgb(0.00, 0.00, 255.00)",
                    "rgb(0.00, 0.00, 255.00)",
                    "rgb(0.00, 0.00, 255.00)",
                    "rgb(0.00, 0.00, 255.00)",
                    "rgb(0.00, 0.00, 255.00)",
                    "rgb(0.00, 0.00, 255.00)",
                    "rgb(0.00, 0.00, 255.00)",
                    "rgb(0.00, 0.00, 255.00)",
                    "rgb(0.00, 0.00, 255.00)",
                    "rgb(0.00, 0.00, 255.00)",
                    "rgb(0.00, 0.00, 255.00)",
                    "rgb(0.00, 0.00, 255.00)",
                    "rgb(0.00, 0.00, 255.00)",
                    "rgb(0.00, 0.00, 255.00)",
                    "rgb(0.00, 0.00, 255.00)",
                    "rgb(0.00, 0.00, 255.00)",
                    "rgb(0.00, 0.00, 255.00)",
                    "rgb(0.00, 0.00, 255.00)",
                    "rgb(0.00, 0.00, 255.00)",
                    "rgb(0.00, 0.00, 255.00)",
                    "rgb(0.00, 0.00, 255.00)",
                    "rgb(0.00, 0.00, 255.00)",
                    "rgb(0.00, 0.00, 255.00)",
                    "rgb(0.00, 0.00, 255.00)",
                    "rgb(0.00, 0.00, 255.00)",
                    "rgb(0.00, 0.00, 255.00)",
                    "rgb(0.00, 0.00, 255.00)",
                    "rgb(0.00, 0.00, 255.00)",
                    "rgb(0.00, 0.00, 255.00)",
                    "rgb(0.00, 0.00, 255.00)",
                    "rgb(0.00, 0.00, 255.00)",
                    "rgb(0.00, 0.00, 255.00)",
                    "rgb(0.00, 0.00, 255.00)",
                    "rgb(0.00, 0.00, 255.00)",
                    "rgb(0.00, 0.00, 255.00)",
                    "rgb(0.00, 0.00, 255.00)",
                    "rgb(0.00, 0.00, 255.00)",
                    "rgb(0.00, 0.00, 255.00)",
                    "rgb(0.00, 0.00, 255.00)",
                    "rgb(0.00, 0.00, 255.00)",
                    "rgb(0.00, 0.00, 255.00)",
                    "rgb(0.00, 0.00, 255.00)",
                    "rgb(0.00, 0.00, 255.00)",
                    "rgb(0.00, 0.00, 255.00)",
                    "rgb(0.00, 0.00, 255.00)",
                    "rgb(0.00, 0.00, 255.00)",
                    "rgb(0.00, 0.00, 255.00)",
                    "rgb(0.00, 0.00, 255.00)",
                    "rgb(0.00, 0.00, 255.00)",
                    "rgb(0.00, 0.00, 255.00)",
                    "rgb(0.00, 0.00, 255.00)",
                    "rgb(0.00, 0.00, 255.00)",
                    "rgb(0.00, 0.00, 255.00)",
                    "rgb(0.00, 0.00, 255.00)",
                    "rgb(0.00, 0.00, 255.00)",
                    "rgb(0.00, 0.00, 255.00)",
                    "rgb(0.00, 0.00, 255.00)",
                    "rgb(0.00, 0.00, 255.00)",
                    "rgb(0.00, 0.00, 255.00)",
                    "rgb(0.00, 0.00, 255.00)",
                    "rgb(0.00, 0.00, 255.00)",
                    "rgb(0.00, 0.00, 255.00)",
                    "rgb(0.00, 0.00, 255.00)",
                    "rgb(0.00, 0.00, 255.00)",
                    "rgb(0.00, 0.00, 255.00)",
                    "rgb(0.00, 0.00, 255.00)",
                    "rgb(0.00, 0.00, 255.00)",
                    "rgb(0.00, 0.00, 255.00)",
                    "rgb(0.00, 0.00, 255.00)",
                    "rgb(0.00, 0.00, 255.00)",
                    "rgb(0.00, 0.00, 255.00)",
                    "rgb(0.00, 0.00, 255.00)",
                    "rgb(0.00, 0.00, 255.00)",
                    "rgb(0.00, 0.00, 255.00)",
                    "rgb(0.00, 0.00, 255.00)",
                    "rgb(0.00, 0.00, 255.00)",
                    "rgb(0.00, 0.00, 255.00)",
                    "rgb(0.00, 0.00, 255.00)",
                    "rgb(0.00, 0.00, 255.00)",
                    "rgb(0.00, 0.00, 255.00)",
                    "rgb(0.00, 0.00, 255.00)",
                    "rgb(0.00, 0.00, 255.00)",
                    "rgb(0.00, 0.00, 255.00)",
                    "rgb(0.00, 0.00, 255.00)",
                    "rgb(0.00, 0.00, 255.00)",
                    "rgb(0.00, 0.00, 255.00)",
                    "rgb(0.00, 0.00, 255.00)",
                    "rgb(0.00, 0.00, 255.00)",
                    "rgb(0.00, 0.00, 255.00)",
                    "rgb(0.00, 0.00, 255.00)",
                    "rgb(0.00, 0.00, 255.00)",
                    "rgb(0.00, 0.00, 255.00)",
                    "rgb(0.00, 0.00, 255.00)",
                    "rgb(0.00, 0.00, 255.00)",
                    "rgb(0.00, 0.00, 255.00)",
                    "rgb(0.00, 0.00, 255.00)",
                    "rgb(0.00, 0.00, 255.00)",
                    "rgb(0.00, 0.00, 255.00)",
                    "rgb(0.00, 0.00, 255.00)",
                    "rgb(0.00, 0.00, 255.00)",
                    "rgb(0.00, 0.00, 255.00)",
                    "rgb(0.00, 0.00, 255.00)",
                    "rgb(0.00, 0.00, 255.00)",
                    "rgb(0.00, 0.00, 255.00)",
                    "rgb(0.00, 0.00, 255.00)",
                    "rgb(0.00, 0.00, 255.00)",
                    "rgb(0.00, 0.00, 255.00)",
                    "rgb(0.00, 0.00, 255.00)",
                    "rgb(0.00, 0.00, 255.00)",
                    "rgb(0.00, 0.00, 255.00)",
                    "rgb(0.00, 0.00, 255.00)",
                    "rgb(0.00, 0.00, 255.00)",
                    "rgb(0.00, 0.00, 255.00)",
                    "rgb(0.00, 0.00, 255.00)",
                    "rgb(0.00, 0.00, 255.00)",
                    "rgb(0.00, 0.00, 255.00)",
                    "rgb(0.00, 0.00, 255.00)",
                    "rgb(0.00, 0.00, 255.00)",
                    "rgb(0.00, 0.00, 255.00)",
                    "rgb(0.00, 0.00, 255.00)",
                    "rgb(0.00, 0.00, 255.00)",
                    "rgb(0.00, 0.00, 255.00)",
                    "rgb(0.00, 0.00, 255.00)",
                    "rgb(0.00, 0.00, 255.00)",
                    "rgb(0.00, 0.00, 255.00)",
                    "rgb(0.00, 0.00, 255.00)",
                    "rgb(0.00, 0.00, 255.00)",
                    "rgb(0.00, 0.00, 255.00)",
                    "rgb(0.00, 0.00, 255.00)",
                    "rgb(0.00, 0.00, 255.00)",
                    "rgb(0.00, 0.00, 255.00)",
                    "rgb(0.00, 0.00, 255.00)",
                    "rgb(0.00, 0.00, 255.00)",
                    "rgb(0.00, 0.00, 255.00)",
                    "rgb(0.00, 0.00, 255.00)",
                    "rgb(0.00, 0.00, 255.00)",
                    "rgb(0.00, 0.00, 255.00)",
                    "rgb(0.00, 0.00, 255.00)",
                    "rgb(0.00, 0.00, 255.00)",
                    "rgb(0.00, 0.00, 255.00)",
                    "rgb(0.00, 0.00, 255.00)",
                    "rgb(0.00, 0.00, 255.00)",
                    "rgb(0.00, 0.00, 255.00)",
                    "rgb(0.00, 0.00, 255.00)",
                    "rgb(0.00, 0.00, 255.00)",
                    "rgb(0.00, 0.00, 255.00)",
                    "rgb(0.00, 0.00, 255.00)",
                    "rgb(0.00, 0.00, 255.00)",
                    "rgb(0.00, 0.00, 255.00)",
                    "rgb(0.00, 0.00, 255.00)",
                    "rgb(0.00, 0.00, 255.00)",
                    "rgb(0.00, 0.00, 255.00)",
                    "rgb(0.00, 0.00, 255.00)",
                    "rgb(0.00, 0.00, 255.00)",
                    "rgb(0.00, 0.00, 255.00)",
                    "rgb(0.00, 0.00, 255.00)"
                  ],
                  "x": {
                    "bdata": "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",
                    "dtype": "f8"
                  },
                  "y": {
                    "bdata": "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",
                    "dtype": "f8"
                  },
                  "z": {
                    "bdata": "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",
                    "dtype": "f8"
                  }
                },
                {
                  "marker": {
                    "color": "red",
                    "size": 2
                  },
                  "mode": "markers",
                  "showlegend": false,
                  "type": "scatter3d",
                  "x": [],
                  "y": [],
                  "z": []
                }
              ],
              "layout": {
                "height": 500,
                "margin": {
                  "b": 10,
                  "l": 10,
                  "pad": 4,
                  "r": 10,
                  "t": 10
                },
                "paper_bgcolor": "black",
                "scene": {
                  "aspectmode": "cube",
                  "camera": {
                    "center": {
                      "x": 0,
                      "y": 0,
                      "z": -0.5
                    },
                    "eye": {
                      "x": -0.7142857142857143,
                      "y": -1.4285714285714286,
                      "z": 0.2142857142857143
                    }
                  },
                  "xaxis": {
                    "backgroundcolor": "black",
                    "nticks": 10,
                    "range": [
                      199.749,
                      220.251
                    ]
                  },
                  "yaxis": {
                    "backgroundcolor": "black",
                    "nticks": 10,
                    "range": [
                      199.749,
                      220.251
                    ]
                  },
                  "zaxis": {
                    "backgroundcolor": "black",
                    "nticks": 10,
                    "range": [
                      0,
                      20.502
                    ]
                  }
                },
                "template": {
                  "data": {
                    "bar": [
                      {
                        "error_x": {
                          "color": "#f2f5fa"
                        },
                        "error_y": {
                          "color": "#f2f5fa"
                        },
                        "marker": {
                          "line": {
                            "color": "rgb(17,17,17)",
                            "width": 0.5
                          },
                          "pattern": {
                            "fillmode": "overlay",
                            "size": 10,
                            "solidity": 0.2
                          }
                        },
                        "type": "bar"
                      }
                    ],
                    "barpolar": [
                      {
                        "marker": {
                          "line": {
                            "color": "rgb(17,17,17)",
                            "width": 0.5
                          },
                          "pattern": {
                            "fillmode": "overlay",
                            "size": 10,
                            "solidity": 0.2
                          }
                        },
                        "type": "barpolar"
                      }
                    ],
                    "carpet": [
                      {
                        "aaxis": {
                          "endlinecolor": "#A2B1C6",
                          "gridcolor": "#506784",
                          "linecolor": "#506784",
                          "minorgridcolor": "#506784",
                          "startlinecolor": "#A2B1C6"
                        },
                        "baxis": {
                          "endlinecolor": "#A2B1C6",
                          "gridcolor": "#506784",
                          "linecolor": "#506784",
                          "minorgridcolor": "#506784",
                          "startlinecolor": "#A2B1C6"
                        },
                        "type": "carpet"
                      }
                    ],
                    "choropleth": [
                      {
                        "colorbar": {
                          "outlinewidth": 0,
                          "ticks": ""
                        },
                        "type": "choropleth"
                      }
                    ],
                    "contour": [
                      {
                        "colorbar": {
                          "outlinewidth": 0,
                          "ticks": ""
                        },
                        "colorscale": [
                          [
                            0,
                            "#0d0887"
                          ],
                          [
                            0.1111111111111111,
                            "#46039f"
                          ],
                          [
                            0.2222222222222222,
                            "#7201a8"
                          ],
                          [
                            0.3333333333333333,
                            "#9c179e"
                          ],
                          [
                            0.4444444444444444,
                            "#bd3786"
                          ],
                          [
                            0.5555555555555556,
                            "#d8576b"
                          ],
                          [
                            0.6666666666666666,
                            "#ed7953"
                          ],
                          [
                            0.7777777777777778,
                            "#fb9f3a"
                          ],
                          [
                            0.8888888888888888,
                            "#fdca26"
                          ],
                          [
                            1,
                            "#f0f921"
                          ]
                        ],
                        "type": "contour"
                      }
                    ],
                    "contourcarpet": [
                      {
                        "colorbar": {
                          "outlinewidth": 0,
                          "ticks": ""
                        },
                        "type": "contourcarpet"
                      }
                    ],
                    "heatmap": [
                      {
                        "colorbar": {
                          "outlinewidth": 0,
                          "ticks": ""
                        },
                        "colorscale": [
                          [
                            0,
                            "#0d0887"
                          ],
                          [
                            0.1111111111111111,
                            "#46039f"
                          ],
                          [
                            0.2222222222222222,
                            "#7201a8"
                          ],
                          [
                            0.3333333333333333,
                            "#9c179e"
                          ],
                          [
                            0.4444444444444444,
                            "#bd3786"
                          ],
                          [
                            0.5555555555555556,
                            "#d8576b"
                          ],
                          [
                            0.6666666666666666,
                            "#ed7953"
                          ],
                          [
                            0.7777777777777778,
                            "#fb9f3a"
                          ],
                          [
                            0.8888888888888888,
                            "#fdca26"
                          ],
                          [
                            1,
                            "#f0f921"
                          ]
                        ],
                        "type": "heatmap"
                      }
                    ],
                    "histogram": [
                      {
                        "marker": {
                          "pattern": {
                            "fillmode": "overlay",
                            "size": 10,
                            "solidity": 0.2
                          }
                        },
                        "type": "histogram"
                      }
                    ],
                    "histogram2d": [
                      {
                        "colorbar": {
                          "outlinewidth": 0,
                          "ticks": ""
                        },
                        "colorscale": [
                          [
                            0,
                            "#0d0887"
                          ],
                          [
                            0.1111111111111111,
                            "#46039f"
                          ],
                          [
                            0.2222222222222222,
                            "#7201a8"
                          ],
                          [
                            0.3333333333333333,
                            "#9c179e"
                          ],
                          [
                            0.4444444444444444,
                            "#bd3786"
                          ],
                          [
                            0.5555555555555556,
                            "#d8576b"
                          ],
                          [
                            0.6666666666666666,
                            "#ed7953"
                          ],
                          [
                            0.7777777777777778,
                            "#fb9f3a"
                          ],
                          [
                            0.8888888888888888,
                            "#fdca26"
                          ],
                          [
                            1,
                            "#f0f921"
                          ]
                        ],
                        "type": "histogram2d"
                      }
                    ],
                    "histogram2dcontour": [
                      {
                        "colorbar": {
                          "outlinewidth": 0,
                          "ticks": ""
                        },
                        "colorscale": [
                          [
                            0,
                            "#0d0887"
                          ],
                          [
                            0.1111111111111111,
                            "#46039f"
                          ],
                          [
                            0.2222222222222222,
                            "#7201a8"
                          ],
                          [
                            0.3333333333333333,
                            "#9c179e"
                          ],
                          [
                            0.4444444444444444,
                            "#bd3786"
                          ],
                          [
                            0.5555555555555556,
                            "#d8576b"
                          ],
                          [
                            0.6666666666666666,
                            "#ed7953"
                          ],
                          [
                            0.7777777777777778,
                            "#fb9f3a"
                          ],
                          [
                            0.8888888888888888,
                            "#fdca26"
                          ],
                          [
                            1,
                            "#f0f921"
                          ]
                        ],
                        "type": "histogram2dcontour"
                      }
                    ],
                    "mesh3d": [
                      {
                        "colorbar": {
                          "outlinewidth": 0,
                          "ticks": ""
                        },
                        "type": "mesh3d"
                      }
                    ],
                    "parcoords": [
                      {
                        "line": {
                          "colorbar": {
                            "outlinewidth": 0,
                            "ticks": ""
                          }
                        },
                        "type": "parcoords"
                      }
                    ],
                    "pie": [
                      {
                        "automargin": true,
                        "type": "pie"
                      }
                    ],
                    "scatter": [
                      {
                        "marker": {
                          "line": {
                            "color": "#283442"
                          }
                        },
                        "type": "scatter"
                      }
                    ],
                    "scatter3d": [
                      {
                        "line": {
                          "colorbar": {
                            "outlinewidth": 0,
                            "ticks": ""
                          }
                        },
                        "marker": {
                          "colorbar": {
                            "outlinewidth": 0,
                            "ticks": ""
                          }
                        },
                        "type": "scatter3d"
                      }
                    ],
                    "scattercarpet": [
                      {
                        "marker": {
                          "colorbar": {
                            "outlinewidth": 0,
                            "ticks": ""
                          }
                        },
                        "type": "scattercarpet"
                      }
                    ],
                    "scattergeo": [
                      {
                        "marker": {
                          "colorbar": {
                            "outlinewidth": 0,
                            "ticks": ""
                          }
                        },
                        "type": "scattergeo"
                      }
                    ],
                    "scattergl": [
                      {
                        "marker": {
                          "line": {
                            "color": "#283442"
                          }
                        },
                        "type": "scattergl"
                      }
                    ],
                    "scattermap": [
                      {
                        "marker": {
                          "colorbar": {
                            "outlinewidth": 0,
                            "ticks": ""
                          }
                        },
                        "type": "scattermap"
                      }
                    ],
                    "scattermapbox": [
                      {
                        "marker": {
                          "colorbar": {
                            "outlinewidth": 0,
                            "ticks": ""
                          }
                        },
                        "type": "scattermapbox"
                      }
                    ],
                    "scatterpolar": [
                      {
                        "marker": {
                          "colorbar": {
                            "outlinewidth": 0,
                            "ticks": ""
                          }
                        },
                        "type": "scatterpolar"
                      }
                    ],
                    "scatterpolargl": [
                      {
                        "marker": {
                          "colorbar": {
                            "outlinewidth": 0,
                            "ticks": ""
                          }
                        },
                        "type": "scatterpolargl"
                      }
                    ],
                    "scatterternary": [
                      {
                        "marker": {
                          "colorbar": {
                            "outlinewidth": 0,
                            "ticks": ""
                          }
                        },
                        "type": "scatterternary"
                      }
                    ],
                    "surface": [
                      {
                        "colorbar": {
                          "outlinewidth": 0,
                          "ticks": ""
                        },
                        "colorscale": [
                          [
                            0,
                            "#0d0887"
                          ],
                          [
                            0.1111111111111111,
                            "#46039f"
                          ],
                          [
                            0.2222222222222222,
                            "#7201a8"
                          ],
                          [
                            0.3333333333333333,
                            "#9c179e"
                          ],
                          [
                            0.4444444444444444,
                            "#bd3786"
                          ],
                          [
                            0.5555555555555556,
                            "#d8576b"
                          ],
                          [
                            0.6666666666666666,
                            "#ed7953"
                          ],
                          [
                            0.7777777777777778,
                            "#fb9f3a"
                          ],
                          [
                            0.8888888888888888,
                            "#fdca26"
                          ],
                          [
                            1,
                            "#f0f921"
                          ]
                        ],
                        "type": "surface"
                      }
                    ],
                    "table": [
                      {
                        "cells": {
                          "fill": {
                            "color": "#506784"
                          },
                          "line": {
                            "color": "rgb(17,17,17)"
                          }
                        },
                        "header": {
                          "fill": {
                            "color": "#2a3f5f"
                          },
                          "line": {
                            "color": "rgb(17,17,17)"
                          }
                        },
                        "type": "table"
                      }
                    ]
                  },
                  "layout": {
                    "annotationdefaults": {
                      "arrowcolor": "#f2f5fa",
                      "arrowhead": 0,
                      "arrowwidth": 1
                    },
                    "autotypenumbers": "strict",
                    "coloraxis": {
                      "colorbar": {
                        "outlinewidth": 0,
                        "ticks": ""
                      }
                    },
                    "colorscale": {
                      "diverging": [
                        [
                          0,
                          "#8e0152"
                        ],
                        [
                          0.1,
                          "#c51b7d"
                        ],
                        [
                          0.2,
                          "#de77ae"
                        ],
                        [
                          0.3,
                          "#f1b6da"
                        ],
                        [
                          0.4,
                          "#fde0ef"
                        ],
                        [
                          0.5,
                          "#f7f7f7"
                        ],
                        [
                          0.6,
                          "#e6f5d0"
                        ],
                        [
                          0.7,
                          "#b8e186"
                        ],
                        [
                          0.8,
                          "#7fbc41"
                        ],
                        [
                          0.9,
                          "#4d9221"
                        ],
                        [
                          1,
                          "#276419"
                        ]
                      ],
                      "sequential": [
                        [
                          0,
                          "#0d0887"
                        ],
                        [
                          0.1111111111111111,
                          "#46039f"
                        ],
                        [
                          0.2222222222222222,
                          "#7201a8"
                        ],
                        [
                          0.3333333333333333,
                          "#9c179e"
                        ],
                        [
                          0.4444444444444444,
                          "#bd3786"
                        ],
                        [
                          0.5555555555555556,
                          "#d8576b"
                        ],
                        [
                          0.6666666666666666,
                          "#ed7953"
                        ],
                        [
                          0.7777777777777778,
                          "#fb9f3a"
                        ],
                        [
                          0.8888888888888888,
                          "#fdca26"
                        ],
                        [
                          1,
                          "#f0f921"
                        ]
                      ],
                      "sequentialminus": [
                        [
                          0,
                          "#0d0887"
                        ],
                        [
                          0.1111111111111111,
                          "#46039f"
                        ],
                        [
                          0.2222222222222222,
                          "#7201a8"
                        ],
                        [
                          0.3333333333333333,
                          "#9c179e"
                        ],
                        [
                          0.4444444444444444,
                          "#bd3786"
                        ],
                        [
                          0.5555555555555556,
                          "#d8576b"
                        ],
                        [
                          0.6666666666666666,
                          "#ed7953"
                        ],
                        [
                          0.7777777777777778,
                          "#fb9f3a"
                        ],
                        [
                          0.8888888888888888,
                          "#fdca26"
                        ],
                        [
                          1,
                          "#f0f921"
                        ]
                      ]
                    },
                    "colorway": [
                      "#636efa",
                      "#EF553B",
                      "#00cc96",
                      "#ab63fa",
                      "#FFA15A",
                      "#19d3f3",
                      "#FF6692",
                      "#B6E880",
                      "#FF97FF",
                      "#FECB52"
                    ],
                    "font": {
                      "color": "#f2f5fa"
                    },
                    "geo": {
                      "bgcolor": "rgb(17,17,17)",
                      "lakecolor": "rgb(17,17,17)",
                      "landcolor": "rgb(17,17,17)",
                      "showlakes": true,
                      "showland": true,
                      "subunitcolor": "#506784"
                    },
                    "hoverlabel": {
                      "align": "left"
                    },
                    "hovermode": "closest",
                    "mapbox": {
                      "style": "dark"
                    },
                    "paper_bgcolor": "rgb(17,17,17)",
                    "plot_bgcolor": "rgb(17,17,17)",
                    "polar": {
                      "angularaxis": {
                        "gridcolor": "#506784",
                        "linecolor": "#506784",
                        "ticks": ""
                      },
                      "bgcolor": "rgb(17,17,17)",
                      "radialaxis": {
                        "gridcolor": "#506784",
                        "linecolor": "#506784",
                        "ticks": ""
                      }
                    },
                    "scene": {
                      "xaxis": {
                        "backgroundcolor": "rgb(17,17,17)",
                        "gridcolor": "#506784",
                        "gridwidth": 2,
                        "linecolor": "#506784",
                        "showbackground": true,
                        "ticks": "",
                        "zerolinecolor": "#C8D4E3"
                      },
                      "yaxis": {
                        "backgroundcolor": "rgb(17,17,17)",
                        "gridcolor": "#506784",
                        "gridwidth": 2,
                        "linecolor": "#506784",
                        "showbackground": true,
                        "ticks": "",
                        "zerolinecolor": "#C8D4E3"
                      },
                      "zaxis": {
                        "backgroundcolor": "rgb(17,17,17)",
                        "gridcolor": "#506784",
                        "gridwidth": 2,
                        "linecolor": "#506784",
                        "showbackground": true,
                        "ticks": "",
                        "zerolinecolor": "#C8D4E3"
                      }
                    },
                    "shapedefaults": {
                      "line": {
                        "color": "#f2f5fa"
                      }
                    },
                    "sliderdefaults": {
                      "bgcolor": "#C8D4E3",
                      "bordercolor": "rgb(17,17,17)",
                      "borderwidth": 1,
                      "tickwidth": 0
                    },
                    "ternary": {
                      "aaxis": {
                        "gridcolor": "#506784",
                        "linecolor": "#506784",
                        "ticks": ""
                      },
                      "baxis": {
                        "gridcolor": "#506784",
                        "linecolor": "#506784",
                        "ticks": ""
                      },
                      "bgcolor": "rgb(17,17,17)",
                      "caxis": {
                        "gridcolor": "#506784",
                        "linecolor": "#506784",
                        "ticks": ""
                      }
                    },
                    "title": {
                      "x": 0.05
                    },
                    "updatemenudefaults": {
                      "bgcolor": "#506784",
                      "borderwidth": 0
                    },
                    "xaxis": {
                      "automargin": true,
                      "gridcolor": "#283442",
                      "linecolor": "#506784",
                      "ticks": "",
                      "title": {
                        "standoff": 15
                      },
                      "zerolinecolor": "#283442",
                      "zerolinewidth": 2
                    },
                    "yaxis": {
                      "automargin": true,
                      "gridcolor": "#283442",
                      "linecolor": "#506784",
                      "ticks": "",
                      "title": {
                        "standoff": 15
                      },
                      "zerolinecolor": "#283442",
                      "zerolinewidth": 2
                    }
                  }
                },
                "width": 800
              }
            }
          },
          "metadata": {},
          "output_type": "display_data"
        }
      ],
      "source": [
        "# preview the design\n",
        "\n",
        "fc.transform(steps, 'plot', fc.PlotControls(style='line', zoom=0.7))\n",
        "# hover the cursor over the lines in the plot to check xyz positions of the points in the design\n",
        "\n",
        "# uncomment the next line to create a plot with real heights/widths for extruded lines to preview the real 3D printed geometry\n",
        "fc.transform(steps, 'plot', fc.PlotControls(style='tube', zoom=0.7, initialization_data={'extrusion_width': EW, 'extrusion_height': EH}))\n",
        "\n",
        "# uncomment the next line to create a neat preview (click the top-left button in the plot for a .png file) - post and tag @FullControlXYZ :)\n",
        "# fc.transform(steps, 'plot', fc.PlotControls(neat_for_publishing=True, zoom=0.5, initialization_data={'extrusion_width': EW, 'extrusion_height': EH}))\n"
      ]
    },
    {
      "cell_type": "code",
      "execution_count": 6,
      "metadata": {
        "colab": {
          "base_uri": "https://localhost:8080/",
          "height": 17
        },
        "id": "tggFoUeJReQR",
        "outputId": "3e9733ce-224b-4aa9-abe7-d54bca6a0a96"
      },
      "outputs": [
        {
          "name": "stdout",
          "output_type": "stream",
          "text": [
            "warning - the list of steps should be a 1D list of fullcontrol class instances, it currently includes a 'list'\n",
            "   - fc.flatten() is being used to convert the design to a 1D list\n"
          ]
        }
      ],
      "source": [
        "# generate and save gcode\n",
        "\n",
        "gcode_controls = fc.GcodeControls(\n",
        "    printer_name=printer_name,\n",
        "    save_as=design_name,\n",
        "    initialization_data={\n",
        "        'primer': 'front_lines_then_y',\n",
        "        'print_speed': print_speed,\n",
        "        'nozzle_temp': nozzle_temp,\n",
        "        'bed_temp': bed_temp,\n",
        "        'fan_percent': fan_percent,\n",
        "        'extrusion_width': EW,\n",
        "        'extrusion_height': EH})\n",
        "gcode = fc.transform(steps, 'gcode', gcode_controls)"
      ]
    },
    {
      "attachments": {},
      "cell_type": "markdown",
      "metadata": {},
      "source": [
        "#### please tell us what you're doing with FullControl!\n",
        "\n",
        "- tag FullControlXYZ on social media ([twitter](https://twitter.com/FullControlXYZ), [instagram](https://www.instagram.com/fullcontrolxyz/), [linkedin](https://www.linkedin.com/in/andrew-gleadall-068587119/), [tiktok](https://www.tiktok.com/@fullcontrolxyz))\n",
        "- email [info@fullcontrol.xyz](mailto:info@fullcontrol.xyz)\n",
        "- post on the [subreddit](https://reddit.com/r/fullcontrol)\n",
        "- post in the [github discussions or issues tabs](https://github.com/FullControlXYZ/fullcontrol/issues)\n",
        "\n",
        "in publications, please cite the original FullControl paper and the github repo for the new python version:\n",
        "\n",
        "- Gleadall, A. (2021). FullControl GCode Designer: open-source software for unconstrained design in additive manufacturing. Additive Manufacturing, 46, 102109. \n",
        "- Gleadall, A. and Leas, D. (2023). FullControl [electronic resource: python source code]. available at: https://github.com/FullControlXYZ/fullcontrol"
      ]
    }
  ],
  "metadata": {
    "colab": {
      "include_colab_link": true,
      "provenance": []
    },
    "kernelspec": {
      "display_name": "base",
      "language": "python",
      "name": "python3"
    },
    "language_info": {
      "codemirror_mode": {
        "name": "ipython",
        "version": 3
      },
      "file_extension": ".py",
      "mimetype": "text/x-python",
      "name": "python",
      "nbconvert_exporter": "python",
      "pygments_lexer": "ipython3",
      "version": "3.12.9"
    }
  },
  "nbformat": 4,
  "nbformat_minor": 0
}
