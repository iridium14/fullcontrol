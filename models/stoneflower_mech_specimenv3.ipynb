{
  "cells": [
    {
      "attachments": {},
      "cell_type": "markdown",
      "metadata": {
        "id": "ac9_FmrCOwQL"
      },
      "source": [
        "# FullControl design template\n",
        "\n",
        "*<<< check out demo models [here](https://github.com/FullControlXYZ/fullcontrol/tree/master/models/README.md) >>>*\n",
        "  \n",
        "run all cells in this notebook, or press shift+enter to run each cell sequentially \n",
        "\n",
        "if you change one of the code cells, make sure you run it and all subsequent cells again (in order)\n",
        "\n",
        "*this document is a jupyter notebook - if they're new to you, check out how they work: [link](https://www.google.com/search?q=ipynb+tutorial), [link](https://jupyter.org/try-jupyter/retro/notebooks/?path=notebooks/Intro.ipynb), [link](https://colab.research.google.com/)*"
      ]
    },
    {
      "cell_type": "code",
      "execution_count": 91,
      "metadata": {
        "id": "57XXnogSOvDx"
      },
      "outputs": [],
      "source": [
        "import fullcontrol as fc\n"
      ]
    },
    {
      "cell_type": "code",
      "execution_count": 92,
      "metadata": {},
      "outputs": [],
      "source": [
        "# printer/gcode parameters\n",
        "\n",
        "design_name = 'c1161-18-B'\n",
        "nozzle_temp = 0\n",
        "bed_temp = 0\n",
        "print_speed = 600\n",
        "fan_percent = 0\n",
        "container_output_dia=2.5\n",
        "printer_name='stoneflower3d' # generic / ultimaker2plus / prusa_i3 / ender_3 / cr_10 / bambulab_x1 / toolchanger_T0"
      ]
    },
    {
      "cell_type": "code",
      "execution_count": 93,
      "metadata": {
        "id": "DeWKjlzbPC0u"
      },
      "outputs": [],
      "source": [
        "# design parameters\n",
        "\n",
        "EW = 2 # extrusion width\n",
        "EH = 2 # extrusion height (and layer height)\n",
        "initial_z = EH*1 # initial nozzle position is set to 1x the extrusion height to get a bit of 'squish' for good bed adhesion\n",
        "layers = 4\n",
        "l=90\n",
        "b=8\n",
        "infill_spacing=2"
      ]
    },
    {
      "cell_type": "code",
      "execution_count": 94,
      "metadata": {
        "id": "kLPh7aTwQKrF"
      },
      "outputs": [],
      "source": [
        "# generate the design (make sure you've run the above cells before running this cell)\n",
        "initial_xyz=fc.Point(x=200, y=200, z=initial_z)\n",
        "steps = []\n",
        "\n",
        "for layer in range(layers):\n",
        "    \n",
        "        layer1=[]\n",
        "        first_point=fc.move(initial_xyz,fc.Vector(z=EH*layer))\n",
        "        rectangle_steps = fc.rectangleXY(first_point, b, l, cw = True)\n",
        "        start_point = fc.move(first_point,fc.Vector(x=EW,y=EW))\n",
        "        direction = fc.Vector(x=0,y=1)\n",
        "        amplitude = -(b-2*EW)\n",
        "        line_spacing = infill_spacing\n",
        "        periods = (l//4)\n",
        "        extra_half_period = False\n",
        "        extra_end_line = False\n",
        "        infill_steps = fc.squarewaveXY(start_point, direction, amplitude, line_spacing, periods, extra_half_period, extra_end_line)\n",
        "        layer1.append(rectangle_steps)\n",
        "        layer1.append(infill_steps)        \n",
        "    \n",
        "        layer2=[]\n",
        "        first_point=fc.move(initial_xyz,fc.Vector(x=b,y=l,z=EH*layer))\n",
        "        rectangle_steps = fc.rectangleXY(first_point, -b, -l, cw = True)\n",
        "        start_point = fc.move(first_point,fc.Vector(x=-EW,y=-EW))\n",
        "        direction = fc.Vector(x=-1,y=0)\n",
        "        amplitude = (l-2*EW)\n",
        "        line_spacing = infill_spacing\n",
        "        periods = (b//4)\n",
        "        extra_half_period = False\n",
        "        extra_end_line = False\n",
        "        infill_steps = fc.squarewaveXY(start_point, direction, amplitude, line_spacing, periods, extra_half_period, extra_end_line)\n",
        "        layer2.append(rectangle_steps)\n",
        "        layer2.append(infill_steps)\n",
        "        \n",
        "        layer3=[]\n",
        "        first_point=fc.move(initial_xyz,fc.Vector(y=l,z=EH*layer))\n",
        "        rectangle_steps = fc.rectangleXY(first_point, b, -l, cw = True)\n",
        "        start_point = fc.move(first_point,fc.Vector(x=EW,y=-EW))\n",
        "        direction = fc.Vector(x=0,y=-1)\n",
        "        amplitude = (b-2*EW)\n",
        "        line_spacing = infill_spacing\n",
        "        periods = (l//4)\n",
        "        extra_half_period = False\n",
        "        extra_end_line = False\n",
        "        infill_steps = fc.squarewaveXY(start_point, direction, amplitude, line_spacing, periods, extra_half_period, extra_end_line)\n",
        "        layer3.append(rectangle_steps)\n",
        "        layer3.append(infill_steps)\n",
        "\n",
        "        layer4=[]\n",
        "        first_point=fc.move(initial_xyz,fc.Vector(x=b,z=EH*layer))\n",
        "        rectangle_steps = fc.rectangleXY(first_point, -b, l, cw = True)\n",
        "        start_point = fc.move(first_point,fc.Vector(x=-EW,y=EW))\n",
        "        direction = fc.Vector(x=-1,y=0)\n",
        "        amplitude = -(l-2*EW)\n",
        "        line_spacing = infill_spacing\n",
        "        periods = (b//4)\n",
        "        extra_half_period = False\n",
        "        extra_end_line = False\n",
        "        infill_steps = fc.squarewaveXY(start_point, direction, amplitude, line_spacing, periods, extra_half_period, extra_end_line)\n",
        "        layer4.append(rectangle_steps)\n",
        "        layer4.append(infill_steps)\n",
        "        layertypes=[layer1,layer2,layer3,layer4]\n",
        "        steps.extend(layertypes[layer%len(layertypes)])    \n",
        "\n",
        "#steps = fc.move(rectangle_steps, fc.Vector(z=EH), copy=True, copy_quantity=layers)"
      ]
    },
    {
      "cell_type": "code",
      "execution_count": 95,
      "metadata": {
        "id": "ZVdfnpt5RSUi"
      },
      "outputs": [
        {
          "name": "stdout",
          "output_type": "stream",
          "text": [
            "warning - the list of steps should be a 1D list of fullcontrol class instances, it currently includes a 'list'\n",
            "   - fc.flatten() is being used to convert the design to a 1D list\n"
          ]
        },
        {
          "data": {
            "application/vnd.plotly.v1+json": {
              "config": {
                "plotlyServerURL": "https://plot.ly"
              },
              "data": [
                {
                  "line": {
                    "color": [
                      "rgb(0.00, 0.00, 255.00)",
                      "rgb(0.00, 0.00, 255.00)",
                      "rgb(0.00, 0.00, 255.00)",
                      "rgb(0.00, 0.00, 255.00)",
                      "rgb(0.00, 0.00, 255.00)",
                      "rgb(0.00, 0.00, 255.00)",
                      "rgb(0.00, 0.00, 255.00)",
                      "rgb(0.00, 0.00, 255.00)",
                      "rgb(0.00, 0.00, 255.00)",
                      "rgb(0.00, 0.00, 255.00)",
                      "rgb(0.00, 0.00, 255.00)",
                      "rgb(0.00, 0.00, 255.00)",
                      "rgb(0.00, 0.00, 255.00)",
                      "rgb(0.00, 0.00, 255.00)",
                      "rgb(0.00, 0.00, 255.00)",
                      "rgb(0.00, 0.00, 255.00)",
                      "rgb(0.00, 0.00, 255.00)",
                      "rgb(0.00, 0.00, 255.00)",
                      "rgb(0.00, 0.00, 255.00)",
                      "rgb(0.00, 0.00, 255.00)",
                      "rgb(0.00, 0.00, 255.00)",
                      "rgb(0.00, 0.00, 255.00)",
                      "rgb(0.00, 0.00, 255.00)",
                      "rgb(0.00, 0.00, 255.00)",
                      "rgb(0.00, 0.00, 255.00)",
                      "rgb(0.00, 0.00, 255.00)",
                      "rgb(0.00, 0.00, 255.00)",
                      "rgb(0.00, 0.00, 255.00)",
                      "rgb(0.00, 0.00, 255.00)",
                      "rgb(0.00, 0.00, 255.00)",
                      "rgb(0.00, 0.00, 255.00)",
                      "rgb(0.00, 0.00, 255.00)",
                      "rgb(0.00, 0.00, 255.00)",
                      "rgb(0.00, 0.00, 255.00)",
                      "rgb(0.00, 0.00, 255.00)",
                      "rgb(0.00, 0.00, 255.00)",
                      "rgb(0.00, 0.00, 255.00)",
                      "rgb(0.00, 0.00, 255.00)",
                      "rgb(0.00, 0.00, 255.00)",
                      "rgb(0.00, 0.00, 255.00)",
                      "rgb(0.00, 0.00, 255.00)",
                      "rgb(0.00, 0.00, 255.00)",
                      "rgb(0.00, 0.00, 255.00)",
                      "rgb(0.00, 0.00, 255.00)",
                      "rgb(0.00, 0.00, 255.00)",
                      "rgb(0.00, 0.00, 255.00)",
                      "rgb(0.00, 0.00, 255.00)",
                      "rgb(0.00, 0.00, 255.00)",
                      "rgb(0.00, 0.00, 255.00)",
                      "rgb(0.00, 0.00, 255.00)",
                      "rgb(0.00, 0.00, 255.00)",
                      "rgb(0.00, 0.00, 255.00)",
                      "rgb(0.00, 0.00, 255.00)",
                      "rgb(0.00, 0.00, 255.00)",
                      "rgb(0.00, 0.00, 255.00)",
                      "rgb(0.00, 0.00, 255.00)",
                      "rgb(0.00, 0.00, 255.00)",
                      "rgb(0.00, 0.00, 255.00)",
                      "rgb(0.00, 0.00, 255.00)",
                      "rgb(0.00, 0.00, 255.00)",
                      "rgb(0.00, 0.00, 255.00)",
                      "rgb(0.00, 0.00, 255.00)",
                      "rgb(0.00, 0.00, 255.00)",
                      "rgb(0.00, 0.00, 255.00)",
                      "rgb(0.00, 0.00, 255.00)",
                      "rgb(0.00, 0.00, 255.00)",
                      "rgb(0.00, 0.00, 255.00)",
                      "rgb(0.00, 0.00, 255.00)",
                      "rgb(0.00, 0.00, 255.00)",
                      "rgb(0.00, 0.00, 255.00)",
                      "rgb(0.00, 0.00, 255.00)",
                      "rgb(0.00, 0.00, 255.00)",
                      "rgb(0.00, 0.00, 255.00)",
                      "rgb(0.00, 0.00, 255.00)",
                      "rgb(0.00, 0.00, 255.00)",
                      "rgb(0.00, 0.00, 255.00)",
                      "rgb(0.00, 0.00, 255.00)",
                      "rgb(0.00, 0.00, 255.00)",
                      "rgb(0.00, 0.00, 255.00)",
                      "rgb(0.00, 0.00, 255.00)",
                      "rgb(0.00, 0.00, 255.00)",
                      "rgb(0.00, 0.00, 255.00)",
                      "rgb(0.00, 0.00, 255.00)",
                      "rgb(0.00, 0.00, 255.00)",
                      "rgb(0.00, 0.00, 255.00)",
                      "rgb(0.00, 0.00, 255.00)",
                      "rgb(0.00, 0.00, 255.00)",
                      "rgb(0.00, 0.00, 255.00)",
                      "rgb(0.00, 0.00, 255.00)",
                      "rgb(0.00, 0.00, 255.00)",
                      "rgb(0.00, 0.00, 255.00)",
                      "rgb(0.00, 0.00, 255.00)",
                      "rgb(0.00, 0.00, 255.00)",
                      "rgb(0.00, 84.92, 255.00)",
                      "rgb(0.00, 84.92, 255.00)",
                      "rgb(0.00, 84.92, 255.00)",
                      "rgb(0.00, 84.92, 255.00)",
                      "rgb(0.00, 84.92, 255.00)",
                      "rgb(0.00, 84.92, 255.00)",
                      "rgb(0.00, 84.92, 255.00)",
                      "rgb(0.00, 84.92, 255.00)",
                      "rgb(0.00, 84.92, 255.00)",
                      "rgb(0.00, 84.92, 255.00)",
                      "rgb(0.00, 84.92, 255.00)",
                      "rgb(0.00, 84.92, 255.00)",
                      "rgb(0.00, 84.92, 255.00)",
                      "rgb(0.00, 170.09, 255.00)",
                      "rgb(0.00, 170.09, 255.00)",
                      "rgb(0.00, 170.09, 255.00)",
                      "rgb(0.00, 170.09, 255.00)",
                      "rgb(0.00, 170.09, 255.00)",
                      "rgb(0.00, 170.09, 255.00)",
                      "rgb(0.00, 170.09, 255.00)",
                      "rgb(0.00, 170.09, 255.00)",
                      "rgb(0.00, 170.09, 255.00)",
                      "rgb(0.00, 170.09, 255.00)",
                      "rgb(0.00, 170.09, 255.00)",
                      "rgb(0.00, 170.09, 255.00)",
                      "rgb(0.00, 170.09, 255.00)",
                      "rgb(0.00, 170.09, 255.00)",
                      "rgb(0.00, 170.09, 255.00)",
                      "rgb(0.00, 170.09, 255.00)",
                      "rgb(0.00, 170.09, 255.00)",
                      "rgb(0.00, 170.09, 255.00)",
                      "rgb(0.00, 170.09, 255.00)",
                      "rgb(0.00, 170.09, 255.00)",
                      "rgb(0.00, 170.09, 255.00)",
                      "rgb(0.00, 170.09, 255.00)",
                      "rgb(0.00, 170.09, 255.00)",
                      "rgb(0.00, 170.09, 255.00)",
                      "rgb(0.00, 170.09, 255.00)",
                      "rgb(0.00, 170.09, 255.00)",
                      "rgb(0.00, 170.09, 255.00)",
                      "rgb(0.00, 170.09, 255.00)",
                      "rgb(0.00, 170.09, 255.00)",
                      "rgb(0.00, 170.09, 255.00)",
                      "rgb(0.00, 170.09, 255.00)",
                      "rgb(0.00, 170.09, 255.00)",
                      "rgb(0.00, 170.09, 255.00)",
                      "rgb(0.00, 170.09, 255.00)",
                      "rgb(0.00, 170.09, 255.00)",
                      "rgb(0.00, 170.09, 255.00)",
                      "rgb(0.00, 170.09, 255.00)",
                      "rgb(0.00, 170.09, 255.00)",
                      "rgb(0.00, 170.09, 255.00)",
                      "rgb(0.00, 170.09, 255.00)",
                      "rgb(0.00, 170.09, 255.00)",
                      "rgb(0.00, 170.09, 255.00)",
                      "rgb(0.00, 170.09, 255.00)",
                      "rgb(0.00, 170.09, 255.00)",
                      "rgb(0.00, 170.09, 255.00)",
                      "rgb(0.00, 170.09, 255.00)",
                      "rgb(0.00, 170.09, 255.00)",
                      "rgb(0.00, 170.09, 255.00)",
                      "rgb(0.00, 170.09, 255.00)",
                      "rgb(0.00, 170.09, 255.00)",
                      "rgb(0.00, 170.09, 255.00)",
                      "rgb(0.00, 170.09, 255.00)",
                      "rgb(0.00, 170.09, 255.00)",
                      "rgb(0.00, 170.09, 255.00)",
                      "rgb(0.00, 170.09, 255.00)",
                      "rgb(0.00, 170.09, 255.00)",
                      "rgb(0.00, 170.09, 255.00)",
                      "rgb(0.00, 170.09, 255.00)",
                      "rgb(0.00, 170.09, 255.00)",
                      "rgb(0.00, 170.09, 255.00)",
                      "rgb(0.00, 170.09, 255.00)",
                      "rgb(0.00, 170.09, 255.00)",
                      "rgb(0.00, 170.09, 255.00)",
                      "rgb(0.00, 170.09, 255.00)",
                      "rgb(0.00, 170.09, 255.00)",
                      "rgb(0.00, 170.09, 255.00)",
                      "rgb(0.00, 170.09, 255.00)",
                      "rgb(0.00, 170.09, 255.00)",
                      "rgb(0.00, 170.09, 255.00)",
                      "rgb(0.00, 170.09, 255.00)",
                      "rgb(0.00, 170.09, 255.00)",
                      "rgb(0.00, 170.09, 255.00)",
                      "rgb(0.00, 170.09, 255.00)",
                      "rgb(0.00, 170.09, 255.00)",
                      "rgb(0.00, 170.09, 255.00)",
                      "rgb(0.00, 170.09, 255.00)",
                      "rgb(0.00, 170.09, 255.00)",
                      "rgb(0.00, 170.09, 255.00)",
                      "rgb(0.00, 170.09, 255.00)",
                      "rgb(0.00, 170.09, 255.00)",
                      "rgb(0.00, 170.09, 255.00)",
                      "rgb(0.00, 170.09, 255.00)",
                      "rgb(0.00, 170.09, 255.00)",
                      "rgb(0.00, 170.09, 255.00)",
                      "rgb(0.00, 170.09, 255.00)",
                      "rgb(0.00, 170.09, 255.00)",
                      "rgb(0.00, 170.09, 255.00)",
                      "rgb(0.00, 170.09, 255.00)",
                      "rgb(0.00, 170.09, 255.00)",
                      "rgb(0.00, 170.09, 255.00)",
                      "rgb(0.00, 170.09, 255.00)",
                      "rgb(0.00, 170.09, 255.00)",
                      "rgb(0.00, 170.09, 255.00)",
                      "rgb(0.00, 255.00, 255.00)",
                      "rgb(0.00, 255.00, 255.00)",
                      "rgb(0.00, 255.00, 255.00)",
                      "rgb(0.00, 255.00, 255.00)",
                      "rgb(0.00, 255.00, 255.00)",
                      "rgb(0.00, 255.00, 255.00)",
                      "rgb(0.00, 255.00, 255.00)",
                      "rgb(0.00, 255.00, 255.00)",
                      "rgb(0.00, 255.00, 255.00)",
                      "rgb(0.00, 255.00, 255.00)",
                      "rgb(0.00, 255.00, 255.00)",
                      "rgb(0.00, 255.00, 255.00)",
                      "rgb(0.00, 255.00, 255.00)"
                    ],
                    "width": 4
                  },
                  "mode": "lines",
                  "showlegend": false,
                  "type": "scatter3d",
                  "x": [
                    200,
                    200,
                    208,
                    208,
                    200,
                    202,
                    206,
                    206,
                    202,
                    202,
                    206,
                    206,
                    202,
                    202,
                    206,
                    206,
                    202,
                    202,
                    206,
                    206,
                    202,
                    202,
                    206,
                    206,
                    202,
                    202,
                    206,
                    206,
                    202,
                    202,
                    206,
                    206,
                    202,
                    202,
                    206,
                    206,
                    202,
                    202,
                    206,
                    206,
                    202,
                    202,
                    206,
                    206,
                    202,
                    202,
                    206,
                    206,
                    202,
                    202,
                    206,
                    206,
                    202,
                    202,
                    206,
                    206,
                    202,
                    202,
                    206,
                    206,
                    202,
                    202,
                    206,
                    206,
                    202,
                    202,
                    206,
                    206,
                    202,
                    202,
                    206,
                    206,
                    202,
                    202,
                    206,
                    206,
                    202,
                    202,
                    206,
                    206,
                    202,
                    202,
                    206,
                    206,
                    202,
                    202,
                    206,
                    206,
                    202,
                    202,
                    206,
                    206,
                    202,
                    208,
                    208,
                    200,
                    200,
                    208,
                    206,
                    206,
                    204,
                    204,
                    202,
                    202,
                    200,
                    200,
                    200,
                    200,
                    208,
                    208,
                    200,
                    202,
                    206,
                    206,
                    202,
                    202,
                    206,
                    206,
                    202,
                    202,
                    206,
                    206,
                    202,
                    202,
                    206,
                    206,
                    202,
                    202,
                    206,
                    206,
                    202,
                    202,
                    206,
                    206,
                    202,
                    202,
                    206,
                    206,
                    202,
                    202,
                    206,
                    206,
                    202,
                    202,
                    206,
                    206,
                    202,
                    202,
                    206,
                    206,
                    202,
                    202,
                    206,
                    206,
                    202,
                    202,
                    206,
                    206,
                    202,
                    202,
                    206,
                    206,
                    202,
                    202,
                    206,
                    206,
                    202,
                    202,
                    206,
                    206,
                    202,
                    202,
                    206,
                    206,
                    202,
                    202,
                    206,
                    206,
                    202,
                    202,
                    206,
                    206,
                    202,
                    202,
                    206,
                    206,
                    202,
                    202,
                    206,
                    206,
                    202,
                    202,
                    206,
                    206,
                    202,
                    202,
                    206,
                    206,
                    202,
                    208,
                    208,
                    200,
                    200,
                    208,
                    206,
                    206,
                    204,
                    204,
                    202,
                    202,
                    200,
                    200
                  ],
                  "y": [
                    200,
                    290,
                    290,
                    200,
                    200,
                    202,
                    202,
                    204,
                    204,
                    206,
                    206,
                    208,
                    208,
                    210,
                    210,
                    212,
                    212,
                    214,
                    214,
                    216,
                    216,
                    218,
                    218,
                    220,
                    220,
                    222,
                    222,
                    224,
                    224,
                    226,
                    226,
                    228,
                    228,
                    230,
                    230,
                    232,
                    232,
                    234,
                    234,
                    236,
                    236,
                    238,
                    238,
                    240,
                    240,
                    242,
                    242,
                    244,
                    244,
                    246,
                    246,
                    248,
                    248,
                    250,
                    250,
                    252,
                    252,
                    254,
                    254,
                    256,
                    256,
                    258,
                    258,
                    260,
                    260,
                    262,
                    262,
                    264,
                    264,
                    266,
                    266,
                    268,
                    268,
                    270,
                    270,
                    272,
                    272,
                    274,
                    274,
                    276,
                    276,
                    278,
                    278,
                    280,
                    280,
                    282,
                    282,
                    284,
                    284,
                    286,
                    286,
                    288,
                    288,
                    290,
                    200,
                    200,
                    290,
                    290,
                    288,
                    202,
                    202,
                    288,
                    288,
                    202,
                    202,
                    288,
                    290,
                    200,
                    200,
                    290,
                    290,
                    288,
                    288,
                    286,
                    286,
                    284,
                    284,
                    282,
                    282,
                    280,
                    280,
                    278,
                    278,
                    276,
                    276,
                    274,
                    274,
                    272,
                    272,
                    270,
                    270,
                    268,
                    268,
                    266,
                    266,
                    264,
                    264,
                    262,
                    262,
                    260,
                    260,
                    258,
                    258,
                    256,
                    256,
                    254,
                    254,
                    252,
                    252,
                    250,
                    250,
                    248,
                    248,
                    246,
                    246,
                    244,
                    244,
                    242,
                    242,
                    240,
                    240,
                    238,
                    238,
                    236,
                    236,
                    234,
                    234,
                    232,
                    232,
                    230,
                    230,
                    228,
                    228,
                    226,
                    226,
                    224,
                    224,
                    222,
                    222,
                    220,
                    220,
                    218,
                    218,
                    216,
                    216,
                    214,
                    214,
                    212,
                    212,
                    210,
                    210,
                    208,
                    208,
                    206,
                    206,
                    204,
                    204,
                    202,
                    202,
                    200,
                    290,
                    290,
                    200,
                    200,
                    202,
                    288,
                    288,
                    202,
                    202,
                    288,
                    288,
                    202
                  ],
                  "z": [
                    2,
                    2,
                    2,
                    2,
                    2,
                    2,
                    2,
                    2,
                    2,
                    2,
                    2,
                    2,
                    2,
                    2,
                    2,
                    2,
                    2,
                    2,
                    2,
                    2,
                    2,
                    2,
                    2,
                    2,
                    2,
                    2,
                    2,
                    2,
                    2,
                    2,
                    2,
                    2,
                    2,
                    2,
                    2,
                    2,
                    2,
                    2,
                    2,
                    2,
                    2,
                    2,
                    2,
                    2,
                    2,
                    2,
                    2,
                    2,
                    2,
                    2,
                    2,
                    2,
                    2,
                    2,
                    2,
                    2,
                    2,
                    2,
                    2,
                    2,
                    2,
                    2,
                    2,
                    2,
                    2,
                    2,
                    2,
                    2,
                    2,
                    2,
                    2,
                    2,
                    2,
                    2,
                    2,
                    2,
                    2,
                    2,
                    2,
                    2,
                    2,
                    2,
                    2,
                    2,
                    2,
                    2,
                    2,
                    2,
                    2,
                    2,
                    2,
                    2,
                    2,
                    4,
                    4,
                    4,
                    4,
                    4,
                    4,
                    4,
                    4,
                    4,
                    4,
                    4,
                    4,
                    4,
                    6,
                    6,
                    6,
                    6,
                    6,
                    6,
                    6,
                    6,
                    6,
                    6,
                    6,
                    6,
                    6,
                    6,
                    6,
                    6,
                    6,
                    6,
                    6,
                    6,
                    6,
                    6,
                    6,
                    6,
                    6,
                    6,
                    6,
                    6,
                    6,
                    6,
                    6,
                    6,
                    6,
                    6,
                    6,
                    6,
                    6,
                    6,
                    6,
                    6,
                    6,
                    6,
                    6,
                    6,
                    6,
                    6,
                    6,
                    6,
                    6,
                    6,
                    6,
                    6,
                    6,
                    6,
                    6,
                    6,
                    6,
                    6,
                    6,
                    6,
                    6,
                    6,
                    6,
                    6,
                    6,
                    6,
                    6,
                    6,
                    6,
                    6,
                    6,
                    6,
                    6,
                    6,
                    6,
                    6,
                    6,
                    6,
                    6,
                    6,
                    6,
                    6,
                    6,
                    6,
                    6,
                    6,
                    6,
                    6,
                    6,
                    6,
                    6,
                    6,
                    6,
                    8,
                    8,
                    8,
                    8,
                    8,
                    8,
                    8,
                    8,
                    8,
                    8,
                    8,
                    8,
                    8
                  ]
                },
                {
                  "marker": {
                    "color": "red",
                    "size": 2
                  },
                  "mode": "markers",
                  "showlegend": false,
                  "type": "scatter3d",
                  "x": [],
                  "y": [],
                  "z": []
                }
              ],
              "layout": {
                "height": 500,
                "margin": {
                  "b": 10,
                  "l": 10,
                  "pad": 4,
                  "r": 10,
                  "t": 10
                },
                "paper_bgcolor": "black",
                "scene": {
                  "aspectmode": "cube",
                  "camera": {
                    "center": {
                      "x": 0,
                      "y": 0,
                      "z": -0.46666740739094686
                    },
                    "eye": {
                      "x": -0.7142857142857143,
                      "y": -1.4285714285714286,
                      "z": 0.2142857142857143
                    }
                  },
                  "xaxis": {
                    "backgroundcolor": "black",
                    "nticks": 10,
                    "range": [
                      158.99899999999997,
                      249.00099999999998
                    ]
                  },
                  "yaxis": {
                    "backgroundcolor": "black",
                    "nticks": 10,
                    "range": [
                      199.999,
                      290.001
                    ]
                  },
                  "zaxis": {
                    "backgroundcolor": "black",
                    "nticks": 10,
                    "range": [
                      0,
                      90.002
                    ]
                  }
                },
                "template": {
                  "data": {
                    "bar": [
                      {
                        "error_x": {
                          "color": "#f2f5fa"
                        },
                        "error_y": {
                          "color": "#f2f5fa"
                        },
                        "marker": {
                          "line": {
                            "color": "rgb(17,17,17)",
                            "width": 0.5
                          },
                          "pattern": {
                            "fillmode": "overlay",
                            "size": 10,
                            "solidity": 0.2
                          }
                        },
                        "type": "bar"
                      }
                    ],
                    "barpolar": [
                      {
                        "marker": {
                          "line": {
                            "color": "rgb(17,17,17)",
                            "width": 0.5
                          },
                          "pattern": {
                            "fillmode": "overlay",
                            "size": 10,
                            "solidity": 0.2
                          }
                        },
                        "type": "barpolar"
                      }
                    ],
                    "carpet": [
                      {
                        "aaxis": {
                          "endlinecolor": "#A2B1C6",
                          "gridcolor": "#506784",
                          "linecolor": "#506784",
                          "minorgridcolor": "#506784",
                          "startlinecolor": "#A2B1C6"
                        },
                        "baxis": {
                          "endlinecolor": "#A2B1C6",
                          "gridcolor": "#506784",
                          "linecolor": "#506784",
                          "minorgridcolor": "#506784",
                          "startlinecolor": "#A2B1C6"
                        },
                        "type": "carpet"
                      }
                    ],
                    "choropleth": [
                      {
                        "colorbar": {
                          "outlinewidth": 0,
                          "ticks": ""
                        },
                        "type": "choropleth"
                      }
                    ],
                    "contour": [
                      {
                        "colorbar": {
                          "outlinewidth": 0,
                          "ticks": ""
                        },
                        "colorscale": [
                          [
                            0,
                            "#0d0887"
                          ],
                          [
                            0.1111111111111111,
                            "#46039f"
                          ],
                          [
                            0.2222222222222222,
                            "#7201a8"
                          ],
                          [
                            0.3333333333333333,
                            "#9c179e"
                          ],
                          [
                            0.4444444444444444,
                            "#bd3786"
                          ],
                          [
                            0.5555555555555556,
                            "#d8576b"
                          ],
                          [
                            0.6666666666666666,
                            "#ed7953"
                          ],
                          [
                            0.7777777777777778,
                            "#fb9f3a"
                          ],
                          [
                            0.8888888888888888,
                            "#fdca26"
                          ],
                          [
                            1,
                            "#f0f921"
                          ]
                        ],
                        "type": "contour"
                      }
                    ],
                    "contourcarpet": [
                      {
                        "colorbar": {
                          "outlinewidth": 0,
                          "ticks": ""
                        },
                        "type": "contourcarpet"
                      }
                    ],
                    "heatmap": [
                      {
                        "colorbar": {
                          "outlinewidth": 0,
                          "ticks": ""
                        },
                        "colorscale": [
                          [
                            0,
                            "#0d0887"
                          ],
                          [
                            0.1111111111111111,
                            "#46039f"
                          ],
                          [
                            0.2222222222222222,
                            "#7201a8"
                          ],
                          [
                            0.3333333333333333,
                            "#9c179e"
                          ],
                          [
                            0.4444444444444444,
                            "#bd3786"
                          ],
                          [
                            0.5555555555555556,
                            "#d8576b"
                          ],
                          [
                            0.6666666666666666,
                            "#ed7953"
                          ],
                          [
                            0.7777777777777778,
                            "#fb9f3a"
                          ],
                          [
                            0.8888888888888888,
                            "#fdca26"
                          ],
                          [
                            1,
                            "#f0f921"
                          ]
                        ],
                        "type": "heatmap"
                      }
                    ],
                    "histogram": [
                      {
                        "marker": {
                          "pattern": {
                            "fillmode": "overlay",
                            "size": 10,
                            "solidity": 0.2
                          }
                        },
                        "type": "histogram"
                      }
                    ],
                    "histogram2d": [
                      {
                        "colorbar": {
                          "outlinewidth": 0,
                          "ticks": ""
                        },
                        "colorscale": [
                          [
                            0,
                            "#0d0887"
                          ],
                          [
                            0.1111111111111111,
                            "#46039f"
                          ],
                          [
                            0.2222222222222222,
                            "#7201a8"
                          ],
                          [
                            0.3333333333333333,
                            "#9c179e"
                          ],
                          [
                            0.4444444444444444,
                            "#bd3786"
                          ],
                          [
                            0.5555555555555556,
                            "#d8576b"
                          ],
                          [
                            0.6666666666666666,
                            "#ed7953"
                          ],
                          [
                            0.7777777777777778,
                            "#fb9f3a"
                          ],
                          [
                            0.8888888888888888,
                            "#fdca26"
                          ],
                          [
                            1,
                            "#f0f921"
                          ]
                        ],
                        "type": "histogram2d"
                      }
                    ],
                    "histogram2dcontour": [
                      {
                        "colorbar": {
                          "outlinewidth": 0,
                          "ticks": ""
                        },
                        "colorscale": [
                          [
                            0,
                            "#0d0887"
                          ],
                          [
                            0.1111111111111111,
                            "#46039f"
                          ],
                          [
                            0.2222222222222222,
                            "#7201a8"
                          ],
                          [
                            0.3333333333333333,
                            "#9c179e"
                          ],
                          [
                            0.4444444444444444,
                            "#bd3786"
                          ],
                          [
                            0.5555555555555556,
                            "#d8576b"
                          ],
                          [
                            0.6666666666666666,
                            "#ed7953"
                          ],
                          [
                            0.7777777777777778,
                            "#fb9f3a"
                          ],
                          [
                            0.8888888888888888,
                            "#fdca26"
                          ],
                          [
                            1,
                            "#f0f921"
                          ]
                        ],
                        "type": "histogram2dcontour"
                      }
                    ],
                    "mesh3d": [
                      {
                        "colorbar": {
                          "outlinewidth": 0,
                          "ticks": ""
                        },
                        "type": "mesh3d"
                      }
                    ],
                    "parcoords": [
                      {
                        "line": {
                          "colorbar": {
                            "outlinewidth": 0,
                            "ticks": ""
                          }
                        },
                        "type": "parcoords"
                      }
                    ],
                    "pie": [
                      {
                        "automargin": true,
                        "type": "pie"
                      }
                    ],
                    "scatter": [
                      {
                        "marker": {
                          "line": {
                            "color": "#283442"
                          }
                        },
                        "type": "scatter"
                      }
                    ],
                    "scatter3d": [
                      {
                        "line": {
                          "colorbar": {
                            "outlinewidth": 0,
                            "ticks": ""
                          }
                        },
                        "marker": {
                          "colorbar": {
                            "outlinewidth": 0,
                            "ticks": ""
                          }
                        },
                        "type": "scatter3d"
                      }
                    ],
                    "scattercarpet": [
                      {
                        "marker": {
                          "colorbar": {
                            "outlinewidth": 0,
                            "ticks": ""
                          }
                        },
                        "type": "scattercarpet"
                      }
                    ],
                    "scattergeo": [
                      {
                        "marker": {
                          "colorbar": {
                            "outlinewidth": 0,
                            "ticks": ""
                          }
                        },
                        "type": "scattergeo"
                      }
                    ],
                    "scattergl": [
                      {
                        "marker": {
                          "line": {
                            "color": "#283442"
                          }
                        },
                        "type": "scattergl"
                      }
                    ],
                    "scattermap": [
                      {
                        "marker": {
                          "colorbar": {
                            "outlinewidth": 0,
                            "ticks": ""
                          }
                        },
                        "type": "scattermap"
                      }
                    ],
                    "scattermapbox": [
                      {
                        "marker": {
                          "colorbar": {
                            "outlinewidth": 0,
                            "ticks": ""
                          }
                        },
                        "type": "scattermapbox"
                      }
                    ],
                    "scatterpolar": [
                      {
                        "marker": {
                          "colorbar": {
                            "outlinewidth": 0,
                            "ticks": ""
                          }
                        },
                        "type": "scatterpolar"
                      }
                    ],
                    "scatterpolargl": [
                      {
                        "marker": {
                          "colorbar": {
                            "outlinewidth": 0,
                            "ticks": ""
                          }
                        },
                        "type": "scatterpolargl"
                      }
                    ],
                    "scatterternary": [
                      {
                        "marker": {
                          "colorbar": {
                            "outlinewidth": 0,
                            "ticks": ""
                          }
                        },
                        "type": "scatterternary"
                      }
                    ],
                    "surface": [
                      {
                        "colorbar": {
                          "outlinewidth": 0,
                          "ticks": ""
                        },
                        "colorscale": [
                          [
                            0,
                            "#0d0887"
                          ],
                          [
                            0.1111111111111111,
                            "#46039f"
                          ],
                          [
                            0.2222222222222222,
                            "#7201a8"
                          ],
                          [
                            0.3333333333333333,
                            "#9c179e"
                          ],
                          [
                            0.4444444444444444,
                            "#bd3786"
                          ],
                          [
                            0.5555555555555556,
                            "#d8576b"
                          ],
                          [
                            0.6666666666666666,
                            "#ed7953"
                          ],
                          [
                            0.7777777777777778,
                            "#fb9f3a"
                          ],
                          [
                            0.8888888888888888,
                            "#fdca26"
                          ],
                          [
                            1,
                            "#f0f921"
                          ]
                        ],
                        "type": "surface"
                      }
                    ],
                    "table": [
                      {
                        "cells": {
                          "fill": {
                            "color": "#506784"
                          },
                          "line": {
                            "color": "rgb(17,17,17)"
                          }
                        },
                        "header": {
                          "fill": {
                            "color": "#2a3f5f"
                          },
                          "line": {
                            "color": "rgb(17,17,17)"
                          }
                        },
                        "type": "table"
                      }
                    ]
                  },
                  "layout": {
                    "annotationdefaults": {
                      "arrowcolor": "#f2f5fa",
                      "arrowhead": 0,
                      "arrowwidth": 1
                    },
                    "autotypenumbers": "strict",
                    "coloraxis": {
                      "colorbar": {
                        "outlinewidth": 0,
                        "ticks": ""
                      }
                    },
                    "colorscale": {
                      "diverging": [
                        [
                          0,
                          "#8e0152"
                        ],
                        [
                          0.1,
                          "#c51b7d"
                        ],
                        [
                          0.2,
                          "#de77ae"
                        ],
                        [
                          0.3,
                          "#f1b6da"
                        ],
                        [
                          0.4,
                          "#fde0ef"
                        ],
                        [
                          0.5,
                          "#f7f7f7"
                        ],
                        [
                          0.6,
                          "#e6f5d0"
                        ],
                        [
                          0.7,
                          "#b8e186"
                        ],
                        [
                          0.8,
                          "#7fbc41"
                        ],
                        [
                          0.9,
                          "#4d9221"
                        ],
                        [
                          1,
                          "#276419"
                        ]
                      ],
                      "sequential": [
                        [
                          0,
                          "#0d0887"
                        ],
                        [
                          0.1111111111111111,
                          "#46039f"
                        ],
                        [
                          0.2222222222222222,
                          "#7201a8"
                        ],
                        [
                          0.3333333333333333,
                          "#9c179e"
                        ],
                        [
                          0.4444444444444444,
                          "#bd3786"
                        ],
                        [
                          0.5555555555555556,
                          "#d8576b"
                        ],
                        [
                          0.6666666666666666,
                          "#ed7953"
                        ],
                        [
                          0.7777777777777778,
                          "#fb9f3a"
                        ],
                        [
                          0.8888888888888888,
                          "#fdca26"
                        ],
                        [
                          1,
                          "#f0f921"
                        ]
                      ],
                      "sequentialminus": [
                        [
                          0,
                          "#0d0887"
                        ],
                        [
                          0.1111111111111111,
                          "#46039f"
                        ],
                        [
                          0.2222222222222222,
                          "#7201a8"
                        ],
                        [
                          0.3333333333333333,
                          "#9c179e"
                        ],
                        [
                          0.4444444444444444,
                          "#bd3786"
                        ],
                        [
                          0.5555555555555556,
                          "#d8576b"
                        ],
                        [
                          0.6666666666666666,
                          "#ed7953"
                        ],
                        [
                          0.7777777777777778,
                          "#fb9f3a"
                        ],
                        [
                          0.8888888888888888,
                          "#fdca26"
                        ],
                        [
                          1,
                          "#f0f921"
                        ]
                      ]
                    },
                    "colorway": [
                      "#636efa",
                      "#EF553B",
                      "#00cc96",
                      "#ab63fa",
                      "#FFA15A",
                      "#19d3f3",
                      "#FF6692",
                      "#B6E880",
                      "#FF97FF",
                      "#FECB52"
                    ],
                    "font": {
                      "color": "#f2f5fa"
                    },
                    "geo": {
                      "bgcolor": "rgb(17,17,17)",
                      "lakecolor": "rgb(17,17,17)",
                      "landcolor": "rgb(17,17,17)",
                      "showlakes": true,
                      "showland": true,
                      "subunitcolor": "#506784"
                    },
                    "hoverlabel": {
                      "align": "left"
                    },
                    "hovermode": "closest",
                    "mapbox": {
                      "style": "dark"
                    },
                    "paper_bgcolor": "rgb(17,17,17)",
                    "plot_bgcolor": "rgb(17,17,17)",
                    "polar": {
                      "angularaxis": {
                        "gridcolor": "#506784",
                        "linecolor": "#506784",
                        "ticks": ""
                      },
                      "bgcolor": "rgb(17,17,17)",
                      "radialaxis": {
                        "gridcolor": "#506784",
                        "linecolor": "#506784",
                        "ticks": ""
                      }
                    },
                    "scene": {
                      "xaxis": {
                        "backgroundcolor": "rgb(17,17,17)",
                        "gridcolor": "#506784",
                        "gridwidth": 2,
                        "linecolor": "#506784",
                        "showbackground": true,
                        "ticks": "",
                        "zerolinecolor": "#C8D4E3"
                      },
                      "yaxis": {
                        "backgroundcolor": "rgb(17,17,17)",
                        "gridcolor": "#506784",
                        "gridwidth": 2,
                        "linecolor": "#506784",
                        "showbackground": true,
                        "ticks": "",
                        "zerolinecolor": "#C8D4E3"
                      },
                      "zaxis": {
                        "backgroundcolor": "rgb(17,17,17)",
                        "gridcolor": "#506784",
                        "gridwidth": 2,
                        "linecolor": "#506784",
                        "showbackground": true,
                        "ticks": "",
                        "zerolinecolor": "#C8D4E3"
                      }
                    },
                    "shapedefaults": {
                      "line": {
                        "color": "#f2f5fa"
                      }
                    },
                    "sliderdefaults": {
                      "bgcolor": "#C8D4E3",
                      "bordercolor": "rgb(17,17,17)",
                      "borderwidth": 1,
                      "tickwidth": 0
                    },
                    "ternary": {
                      "aaxis": {
                        "gridcolor": "#506784",
                        "linecolor": "#506784",
                        "ticks": ""
                      },
                      "baxis": {
                        "gridcolor": "#506784",
                        "linecolor": "#506784",
                        "ticks": ""
                      },
                      "bgcolor": "rgb(17,17,17)",
                      "caxis": {
                        "gridcolor": "#506784",
                        "linecolor": "#506784",
                        "ticks": ""
                      }
                    },
                    "title": {
                      "x": 0.05
                    },
                    "updatemenudefaults": {
                      "bgcolor": "#506784",
                      "borderwidth": 0
                    },
                    "xaxis": {
                      "automargin": true,
                      "gridcolor": "#283442",
                      "linecolor": "#506784",
                      "ticks": "",
                      "title": {
                        "standoff": 15
                      },
                      "zerolinecolor": "#283442",
                      "zerolinewidth": 2
                    },
                    "yaxis": {
                      "automargin": true,
                      "gridcolor": "#283442",
                      "linecolor": "#506784",
                      "ticks": "",
                      "title": {
                        "standoff": 15
                      },
                      "zerolinecolor": "#283442",
                      "zerolinewidth": 2
                    }
                  }
                },
                "width": 800
              }
            }
          },
          "metadata": {},
          "output_type": "display_data"
        },
        {
          "name": "stdout",
          "output_type": "stream",
          "text": [
            "warning - the list of steps should be a 1D list of fullcontrol class instances, it currently includes a 'list'\n",
            "   - fc.flatten() is being used to convert the design to a 1D list\n"
          ]
        },
        {
          "data": {
            "application/vnd.plotly.v1+json": {
              "config": {
                "plotlyServerURL": "https://plot.ly"
              },
              "data": [
                {
                  "i": {
                    "bdata": "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",
                    "dtype": "i2"
                  },
                  "j": {
                    "bdata": "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",
                    "dtype": "i2"
                  },
                  "k": {
                    "bdata": "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",
                    "dtype": "i2"
                  },
                  "type": "mesh3d",
                  "vertexcolor": [
                    "rgb(0.00, 0.00, 255.00)",
                    "rgb(0.00, 0.00, 255.00)",
                    "rgb(0.00, 0.00, 255.00)",
                    "rgb(0.00, 0.00, 255.00)",
                    "rgb(0.00, 0.00, 255.00)",
                    "rgb(0.00, 0.00, 255.00)",
                    "rgb(0.00, 0.00, 255.00)",
                    "rgb(0.00, 0.00, 255.00)",
                    "rgb(0.00, 0.00, 255.00)",
                    "rgb(0.00, 0.00, 255.00)",
                    "rgb(0.00, 0.00, 255.00)",
                    "rgb(0.00, 0.00, 255.00)",
                    "rgb(0.00, 0.00, 255.00)",
                    "rgb(0.00, 0.00, 255.00)",
                    "rgb(0.00, 0.00, 255.00)",
                    "rgb(0.00, 0.00, 255.00)",
                    "rgb(0.00, 0.00, 255.00)",
                    "rgb(0.00, 0.00, 255.00)",
                    "rgb(0.00, 0.00, 255.00)",
                    "rgb(0.00, 0.00, 255.00)",
                    "rgb(0.00, 0.00, 255.00)",
                    "rgb(0.00, 0.00, 255.00)",
                    "rgb(0.00, 0.00, 255.00)",
                    "rgb(0.00, 0.00, 255.00)",
                    "rgb(0.00, 0.00, 255.00)",
                    "rgb(0.00, 0.00, 255.00)",
                    "rgb(0.00, 0.00, 255.00)",
                    "rgb(0.00, 0.00, 255.00)",
                    "rgb(0.00, 0.00, 255.00)",
                    "rgb(0.00, 0.00, 255.00)",
                    "rgb(0.00, 0.00, 255.00)",
                    "rgb(0.00, 0.00, 255.00)",
                    "rgb(0.00, 0.00, 255.00)",
                    "rgb(0.00, 0.00, 255.00)",
                    "rgb(0.00, 0.00, 255.00)",
                    "rgb(0.00, 0.00, 255.00)",
                    "rgb(0.00, 0.00, 255.00)",
                    "rgb(0.00, 0.00, 255.00)",
                    "rgb(0.00, 0.00, 255.00)",
                    "rgb(0.00, 0.00, 255.00)",
                    "rgb(0.00, 0.00, 255.00)",
                    "rgb(0.00, 0.00, 255.00)",
                    "rgb(0.00, 0.00, 255.00)",
                    "rgb(0.00, 0.00, 255.00)",
                    "rgb(0.00, 0.00, 255.00)",
                    "rgb(0.00, 0.00, 255.00)",
                    "rgb(0.00, 0.00, 255.00)",
                    "rgb(0.00, 0.00, 255.00)",
                    "rgb(0.00, 0.00, 255.00)",
                    "rgb(0.00, 0.00, 255.00)",
                    "rgb(0.00, 0.00, 255.00)",
                    "rgb(0.00, 0.00, 255.00)",
                    "rgb(0.00, 0.00, 255.00)",
                    "rgb(0.00, 0.00, 255.00)",
                    "rgb(0.00, 0.00, 255.00)",
                    "rgb(0.00, 0.00, 255.00)",
                    "rgb(0.00, 0.00, 255.00)",
                    "rgb(0.00, 0.00, 255.00)",
                    "rgb(0.00, 0.00, 255.00)",
                    "rgb(0.00, 0.00, 255.00)",
                    "rgb(0.00, 0.00, 255.00)",
                    "rgb(0.00, 0.00, 255.00)",
                    "rgb(0.00, 0.00, 255.00)",
                    "rgb(0.00, 0.00, 255.00)",
                    "rgb(0.00, 0.00, 255.00)",
                    "rgb(0.00, 0.00, 255.00)",
                    "rgb(0.00, 0.00, 255.00)",
                    "rgb(0.00, 0.00, 255.00)",
                    "rgb(0.00, 0.00, 255.00)",
                    "rgb(0.00, 0.00, 255.00)",
                    "rgb(0.00, 0.00, 255.00)",
                    "rgb(0.00, 0.00, 255.00)",
                    "rgb(0.00, 0.00, 255.00)",
                    "rgb(0.00, 0.00, 255.00)",
                    "rgb(0.00, 0.00, 255.00)",
                    "rgb(0.00, 0.00, 255.00)",
                    "rgb(0.00, 0.00, 255.00)",
                    "rgb(0.00, 0.00, 255.00)",
                    "rgb(0.00, 0.00, 255.00)",
                    "rgb(0.00, 0.00, 255.00)",
                    "rgb(0.00, 0.00, 255.00)",
                    "rgb(0.00, 0.00, 255.00)",
                    "rgb(0.00, 0.00, 255.00)",
                    "rgb(0.00, 0.00, 255.00)",
                    "rgb(0.00, 0.00, 255.00)",
                    "rgb(0.00, 0.00, 255.00)",
                    "rgb(0.00, 0.00, 255.00)",
                    "rgb(0.00, 0.00, 255.00)",
                    "rgb(0.00, 0.00, 255.00)",
                    "rgb(0.00, 0.00, 255.00)",
                    "rgb(0.00, 0.00, 255.00)",
                    "rgb(0.00, 0.00, 255.00)",
                    "rgb(0.00, 0.00, 255.00)",
                    "rgb(0.00, 0.00, 255.00)",
                    "rgb(0.00, 0.00, 255.00)",
                    "rgb(0.00, 0.00, 255.00)",
                    "rgb(0.00, 0.00, 255.00)",
                    "rgb(0.00, 0.00, 255.00)",
                    "rgb(0.00, 0.00, 255.00)",
                    "rgb(0.00, 0.00, 255.00)",
                    "rgb(0.00, 0.00, 255.00)",
                    "rgb(0.00, 0.00, 255.00)",
                    "rgb(0.00, 0.00, 255.00)",
                    "rgb(0.00, 0.00, 255.00)",
                    "rgb(0.00, 0.00, 255.00)",
                    "rgb(0.00, 0.00, 255.00)",
                    "rgb(0.00, 0.00, 255.00)",
                    "rgb(0.00, 0.00, 255.00)",
                    "rgb(0.00, 0.00, 255.00)",
                    "rgb(0.00, 0.00, 255.00)",
                    "rgb(0.00, 0.00, 255.00)",
                    "rgb(0.00, 0.00, 255.00)",
                    "rgb(0.00, 0.00, 255.00)",
                    "rgb(0.00, 0.00, 255.00)",
                    "rgb(0.00, 0.00, 255.00)",
                    "rgb(0.00, 0.00, 255.00)",
                    "rgb(0.00, 0.00, 255.00)",
                    "rgb(0.00, 0.00, 255.00)",
                    "rgb(0.00, 0.00, 255.00)",
                    "rgb(0.00, 0.00, 255.00)",
                    "rgb(0.00, 0.00, 255.00)",
                    "rgb(0.00, 0.00, 255.00)",
                    "rgb(0.00, 0.00, 255.00)",
                    "rgb(0.00, 0.00, 255.00)",
                    "rgb(0.00, 0.00, 255.00)",
                    "rgb(0.00, 0.00, 255.00)",
                    "rgb(0.00, 0.00, 255.00)",
                    "rgb(0.00, 0.00, 255.00)",
                    "rgb(0.00, 0.00, 255.00)",
                    "rgb(0.00, 0.00, 255.00)",
                    "rgb(0.00, 0.00, 255.00)",
                    "rgb(0.00, 0.00, 255.00)",
                    "rgb(0.00, 0.00, 255.00)",
                    "rgb(0.00, 0.00, 255.00)",
                    "rgb(0.00, 0.00, 255.00)",
                    "rgb(0.00, 0.00, 255.00)",
                    "rgb(0.00, 0.00, 255.00)",
                    "rgb(0.00, 0.00, 255.00)",
                    "rgb(0.00, 0.00, 255.00)",
                    "rgb(0.00, 0.00, 255.00)",
                    "rgb(0.00, 0.00, 255.00)",
                    "rgb(0.00, 0.00, 255.00)",
                    "rgb(0.00, 0.00, 255.00)",
                    "rgb(0.00, 0.00, 255.00)",
                    "rgb(0.00, 0.00, 255.00)",
                    "rgb(0.00, 0.00, 255.00)",
                    "rgb(0.00, 0.00, 255.00)",
                    "rgb(0.00, 0.00, 255.00)",
                    "rgb(0.00, 0.00, 255.00)",
                    "rgb(0.00, 0.00, 255.00)",
                    "rgb(0.00, 0.00, 255.00)",
                    "rgb(0.00, 0.00, 255.00)",
                    "rgb(0.00, 0.00, 255.00)",
                    "rgb(0.00, 0.00, 255.00)",
                    "rgb(0.00, 0.00, 255.00)",
                    "rgb(0.00, 0.00, 255.00)",
                    "rgb(0.00, 0.00, 255.00)",
                    "rgb(0.00, 0.00, 255.00)",
                    "rgb(0.00, 0.00, 255.00)",
                    "rgb(0.00, 0.00, 255.00)",
                    "rgb(0.00, 0.00, 255.00)",
                    "rgb(0.00, 0.00, 255.00)",
                    "rgb(0.00, 0.00, 255.00)",
                    "rgb(0.00, 0.00, 255.00)",
                    "rgb(0.00, 0.00, 255.00)",
                    "rgb(0.00, 0.00, 255.00)",
                    "rgb(0.00, 0.00, 255.00)",
                    "rgb(0.00, 0.00, 255.00)",
                    "rgb(0.00, 0.00, 255.00)",
                    "rgb(0.00, 0.00, 255.00)",
                    "rgb(0.00, 0.00, 255.00)",
                    "rgb(0.00, 0.00, 255.00)",
                    "rgb(0.00, 0.00, 255.00)",
                    "rgb(0.00, 0.00, 255.00)",
                    "rgb(0.00, 0.00, 255.00)",
                    "rgb(0.00, 0.00, 255.00)",
                    "rgb(0.00, 0.00, 255.00)",
                    "rgb(0.00, 0.00, 255.00)",
                    "rgb(0.00, 0.00, 255.00)",
                    "rgb(0.00, 0.00, 255.00)",
                    "rgb(0.00, 0.00, 255.00)",
                    "rgb(0.00, 0.00, 255.00)",
                    "rgb(0.00, 0.00, 255.00)",
                    "rgb(0.00, 0.00, 255.00)",
                    "rgb(0.00, 0.00, 255.00)",
                    "rgb(0.00, 0.00, 255.00)",
                    "rgb(0.00, 0.00, 255.00)",
                    "rgb(0.00, 0.00, 255.00)",
                    "rgb(0.00, 0.00, 255.00)",
                    "rgb(0.00, 0.00, 255.00)",
                    "rgb(0.00, 0.00, 255.00)",
                    "rgb(0.00, 0.00, 255.00)",
                    "rgb(0.00, 0.00, 255.00)",
                    "rgb(0.00, 0.00, 255.00)",
                    "rgb(0.00, 0.00, 255.00)",
                    "rgb(0.00, 0.00, 255.00)",
                    "rgb(0.00, 0.00, 255.00)",
                    "rgb(0.00, 0.00, 255.00)",
                    "rgb(0.00, 0.00, 255.00)",
                    "rgb(0.00, 0.00, 255.00)",
                    "rgb(0.00, 0.00, 255.00)",
                    "rgb(0.00, 0.00, 255.00)",
                    "rgb(0.00, 0.00, 255.00)",
                    "rgb(0.00, 0.00, 255.00)",
                    "rgb(0.00, 0.00, 255.00)",
                    "rgb(0.00, 0.00, 255.00)",
                    "rgb(0.00, 0.00, 255.00)",
                    "rgb(0.00, 0.00, 255.00)",
                    "rgb(0.00, 0.00, 255.00)",
                    "rgb(0.00, 0.00, 255.00)",
                    "rgb(0.00, 0.00, 255.00)",
                    "rgb(0.00, 0.00, 255.00)",
                    "rgb(0.00, 0.00, 255.00)",
                    "rgb(0.00, 0.00, 255.00)",
                    "rgb(0.00, 0.00, 255.00)",
                    "rgb(0.00, 0.00, 255.00)",
                    "rgb(0.00, 0.00, 255.00)",
                    "rgb(0.00, 0.00, 255.00)",
                    "rgb(0.00, 0.00, 255.00)",
                    "rgb(0.00, 0.00, 255.00)",
                    "rgb(0.00, 0.00, 255.00)",
                    "rgb(0.00, 0.00, 255.00)",
                    "rgb(0.00, 0.00, 255.00)",
                    "rgb(0.00, 0.00, 255.00)",
                    "rgb(0.00, 0.00, 255.00)",
                    "rgb(0.00, 0.00, 255.00)",
                    "rgb(0.00, 0.00, 255.00)",
                    "rgb(0.00, 0.00, 255.00)",
                    "rgb(0.00, 0.00, 255.00)",
                    "rgb(0.00, 0.00, 255.00)",
                    "rgb(0.00, 0.00, 255.00)",
                    "rgb(0.00, 0.00, 255.00)",
                    "rgb(0.00, 0.00, 255.00)",
                    "rgb(0.00, 0.00, 255.00)",
                    "rgb(0.00, 0.00, 255.00)",
                    "rgb(0.00, 0.00, 255.00)",
                    "rgb(0.00, 0.00, 255.00)",
                    "rgb(0.00, 0.00, 255.00)",
                    "rgb(0.00, 0.00, 255.00)",
                    "rgb(0.00, 0.00, 255.00)",
                    "rgb(0.00, 0.00, 255.00)",
                    "rgb(0.00, 0.00, 255.00)",
                    "rgb(0.00, 0.00, 255.00)",
                    "rgb(0.00, 0.00, 255.00)",
                    "rgb(0.00, 0.00, 255.00)",
                    "rgb(0.00, 0.00, 255.00)",
                    "rgb(0.00, 0.00, 255.00)",
                    "rgb(0.00, 0.00, 255.00)",
                    "rgb(0.00, 0.00, 255.00)",
                    "rgb(0.00, 0.00, 255.00)",
                    "rgb(0.00, 0.00, 255.00)",
                    "rgb(0.00, 0.00, 255.00)",
                    "rgb(0.00, 0.00, 255.00)",
                    "rgb(0.00, 0.00, 255.00)",
                    "rgb(0.00, 0.00, 255.00)",
                    "rgb(0.00, 0.00, 255.00)",
                    "rgb(0.00, 0.00, 255.00)",
                    "rgb(0.00, 0.00, 255.00)",
                    "rgb(0.00, 0.00, 255.00)",
                    "rgb(0.00, 0.00, 255.00)",
                    "rgb(0.00, 0.00, 255.00)",
                    "rgb(0.00, 0.00, 255.00)",
                    "rgb(0.00, 0.00, 255.00)",
                    "rgb(0.00, 0.00, 255.00)",
                    "rgb(0.00, 0.00, 255.00)",
                    "rgb(0.00, 0.00, 255.00)",
                    "rgb(0.00, 0.00, 255.00)",
                    "rgb(0.00, 0.00, 255.00)",
                    "rgb(0.00, 0.00, 255.00)",
                    "rgb(0.00, 0.00, 255.00)",
                    "rgb(0.00, 0.00, 255.00)",
                    "rgb(0.00, 0.00, 255.00)",
                    "rgb(0.00, 0.00, 255.00)",
                    "rgb(0.00, 0.00, 255.00)",
                    "rgb(0.00, 0.00, 255.00)",
                    "rgb(0.00, 0.00, 255.00)",
                    "rgb(0.00, 0.00, 255.00)",
                    "rgb(0.00, 0.00, 255.00)",
                    "rgb(0.00, 0.00, 255.00)",
                    "rgb(0.00, 0.00, 255.00)",
                    "rgb(0.00, 0.00, 255.00)",
                    "rgb(0.00, 0.00, 255.00)",
                    "rgb(0.00, 0.00, 255.00)",
                    "rgb(0.00, 0.00, 255.00)",
                    "rgb(0.00, 0.00, 255.00)",
                    "rgb(0.00, 0.00, 255.00)",
                    "rgb(0.00, 0.00, 255.00)",
                    "rgb(0.00, 0.00, 255.00)",
                    "rgb(0.00, 0.00, 255.00)",
                    "rgb(0.00, 0.00, 255.00)",
                    "rgb(0.00, 0.00, 255.00)",
                    "rgb(0.00, 0.00, 255.00)",
                    "rgb(0.00, 0.00, 255.00)",
                    "rgb(0.00, 0.00, 255.00)",
                    "rgb(0.00, 0.00, 255.00)",
                    "rgb(0.00, 0.00, 255.00)",
                    "rgb(0.00, 0.00, 255.00)",
                    "rgb(0.00, 0.00, 255.00)",
                    "rgb(0.00, 0.00, 255.00)",
                    "rgb(0.00, 0.00, 255.00)",
                    "rgb(0.00, 0.00, 255.00)",
                    "rgb(0.00, 0.00, 255.00)",
                    "rgb(0.00, 0.00, 255.00)",
                    "rgb(0.00, 0.00, 255.00)",
                    "rgb(0.00, 0.00, 255.00)",
                    "rgb(0.00, 0.00, 255.00)",
                    "rgb(0.00, 0.00, 255.00)",
                    "rgb(0.00, 0.00, 255.00)",
                    "rgb(0.00, 0.00, 255.00)",
                    "rgb(0.00, 0.00, 255.00)",
                    "rgb(0.00, 0.00, 255.00)",
                    "rgb(0.00, 0.00, 255.00)",
                    "rgb(0.00, 0.00, 255.00)",
                    "rgb(0.00, 0.00, 255.00)",
                    "rgb(0.00, 0.00, 255.00)",
                    "rgb(0.00, 0.00, 255.00)",
                    "rgb(0.00, 0.00, 255.00)",
                    "rgb(0.00, 0.00, 255.00)",
                    "rgb(0.00, 0.00, 255.00)",
                    "rgb(0.00, 0.00, 255.00)",
                    "rgb(0.00, 0.00, 255.00)",
                    "rgb(0.00, 0.00, 255.00)",
                    "rgb(0.00, 0.00, 255.00)",
                    "rgb(0.00, 0.00, 255.00)",
                    "rgb(0.00, 0.00, 255.00)",
                    "rgb(0.00, 0.00, 255.00)",
                    "rgb(0.00, 0.00, 255.00)",
                    "rgb(0.00, 0.00, 255.00)",
                    "rgb(0.00, 0.00, 255.00)",
                    "rgb(0.00, 0.00, 255.00)",
                    "rgb(0.00, 0.00, 255.00)",
                    "rgb(0.00, 0.00, 255.00)",
                    "rgb(0.00, 0.00, 255.00)",
                    "rgb(0.00, 0.00, 255.00)",
                    "rgb(0.00, 0.00, 255.00)",
                    "rgb(0.00, 0.00, 255.00)",
                    "rgb(0.00, 0.00, 255.00)",
                    "rgb(0.00, 0.00, 255.00)",
                    "rgb(0.00, 0.00, 255.00)",
                    "rgb(0.00, 0.00, 255.00)",
                    "rgb(0.00, 0.00, 255.00)",
                    "rgb(0.00, 0.00, 255.00)",
                    "rgb(0.00, 0.00, 255.00)",
                    "rgb(0.00, 0.00, 255.00)",
                    "rgb(0.00, 0.00, 255.00)",
                    "rgb(0.00, 0.00, 255.00)",
                    "rgb(0.00, 0.00, 255.00)",
                    "rgb(0.00, 0.00, 255.00)",
                    "rgb(0.00, 0.00, 255.00)",
                    "rgb(0.00, 0.00, 255.00)",
                    "rgb(0.00, 0.00, 255.00)",
                    "rgb(0.00, 0.00, 255.00)",
                    "rgb(0.00, 0.00, 255.00)",
                    "rgb(0.00, 0.00, 255.00)",
                    "rgb(0.00, 0.00, 255.00)",
                    "rgb(0.00, 0.00, 255.00)",
                    "rgb(0.00, 0.00, 255.00)",
                    "rgb(0.00, 0.00, 255.00)",
                    "rgb(0.00, 0.00, 255.00)",
                    "rgb(0.00, 0.00, 255.00)",
                    "rgb(0.00, 0.00, 255.00)",
                    "rgb(0.00, 0.00, 255.00)",
                    "rgb(0.00, 0.00, 255.00)",
                    "rgb(0.00, 0.00, 255.00)",
                    "rgb(0.00, 0.00, 255.00)",
                    "rgb(0.00, 0.00, 255.00)",
                    "rgb(0.00, 0.00, 255.00)",
                    "rgb(0.00, 0.00, 255.00)",
                    "rgb(0.00, 0.00, 255.00)",
                    "rgb(0.00, 0.00, 255.00)",
                    "rgb(0.00, 0.00, 255.00)",
                    "rgb(0.00, 0.00, 255.00)",
                    "rgb(0.00, 0.00, 255.00)",
                    "rgb(0.00, 0.00, 255.00)",
                    "rgb(0.00, 0.00, 255.00)",
                    "rgb(0.00, 0.00, 255.00)",
                    "rgb(0.00, 0.00, 255.00)",
                    "rgb(0.00, 0.00, 255.00)",
                    "rgb(0.00, 0.00, 255.00)",
                    "rgb(0.00, 0.00, 255.00)",
                    "rgb(0.00, 0.00, 255.00)",
                    "rgb(0.00, 0.00, 255.00)",
                    "rgb(0.00, 0.00, 255.00)",
                    "rgb(0.00, 0.00, 255.00)",
                    "rgb(0.00, 0.00, 255.00)",
                    "rgb(0.00, 0.00, 255.00)",
                    "rgb(0.00, 0.00, 255.00)",
                    "rgb(0.00, 0.00, 255.00)",
                    "rgb(0.00, 0.00, 255.00)",
                    "rgb(0.00, 0.00, 255.00)",
                    "rgb(0.00, 0.00, 255.00)",
                    "rgb(0.00, 0.00, 255.00)",
                    "rgb(0.00, 0.00, 255.00)",
                    "rgb(0.00, 0.00, 255.00)",
                    "rgb(0.00, 0.00, 255.00)",
                    "rgb(0.00, 0.00, 255.00)",
                    "rgb(0.00, 0.00, 255.00)",
                    "rgb(0.00, 0.00, 255.00)",
                    "rgb(0.00, 0.00, 255.00)",
                    "rgb(0.00, 0.00, 255.00)",
                    "rgb(0.00, 0.00, 255.00)",
                    "rgb(0.00, 0.00, 255.00)",
                    "rgb(0.00, 0.00, 255.00)",
                    "rgb(0.00, 0.00, 255.00)",
                    "rgb(0.00, 0.00, 255.00)",
                    "rgb(0.00, 0.00, 255.00)",
                    "rgb(0.00, 0.00, 255.00)",
                    "rgb(0.00, 0.00, 255.00)",
                    "rgb(0.00, 0.00, 255.00)",
                    "rgb(0.00, 0.00, 255.00)",
                    "rgb(0.00, 0.00, 255.00)",
                    "rgb(0.00, 0.00, 255.00)",
                    "rgb(0.00, 0.00, 255.00)",
                    "rgb(0.00, 0.00, 255.00)",
                    "rgb(0.00, 0.00, 255.00)",
                    "rgb(0.00, 0.00, 255.00)",
                    "rgb(0.00, 0.00, 255.00)",
                    "rgb(0.00, 0.00, 255.00)",
                    "rgb(0.00, 0.00, 255.00)",
                    "rgb(0.00, 0.00, 255.00)",
                    "rgb(0.00, 0.00, 255.00)",
                    "rgb(0.00, 0.00, 255.00)",
                    "rgb(0.00, 0.00, 255.00)",
                    "rgb(0.00, 0.00, 255.00)",
                    "rgb(0.00, 0.00, 255.00)",
                    "rgb(0.00, 0.00, 255.00)",
                    "rgb(0.00, 0.00, 255.00)",
                    "rgb(0.00, 0.00, 255.00)",
                    "rgb(0.00, 0.00, 255.00)",
                    "rgb(0.00, 0.00, 255.00)",
                    "rgb(0.00, 0.00, 255.00)",
                    "rgb(0.00, 0.00, 255.00)",
                    "rgb(0.00, 0.00, 255.00)",
                    "rgb(0.00, 0.00, 255.00)",
                    "rgb(0.00, 0.00, 255.00)",
                    "rgb(0.00, 0.00, 255.00)",
                    "rgb(0.00, 0.00, 255.00)",
                    "rgb(0.00, 0.00, 255.00)",
                    "rgb(0.00, 0.00, 255.00)",
                    "rgb(0.00, 0.00, 255.00)",
                    "rgb(0.00, 0.00, 255.00)",
                    "rgb(0.00, 0.00, 255.00)",
                    "rgb(0.00, 0.00, 255.00)",
                    "rgb(0.00, 0.00, 255.00)",
                    "rgb(0.00, 0.00, 255.00)",
                    "rgb(0.00, 0.00, 255.00)",
                    "rgb(0.00, 0.00, 255.00)",
                    "rgb(0.00, 0.00, 255.00)",
                    "rgb(0.00, 0.00, 255.00)",
                    "rgb(0.00, 0.00, 255.00)",
                    "rgb(0.00, 0.00, 255.00)",
                    "rgb(0.00, 0.00, 255.00)",
                    "rgb(0.00, 0.00, 255.00)",
                    "rgb(0.00, 0.00, 255.00)",
                    "rgb(0.00, 0.00, 255.00)",
                    "rgb(0.00, 0.00, 255.00)",
                    "rgb(0.00, 0.00, 255.00)",
                    "rgb(0.00, 0.00, 255.00)",
                    "rgb(0.00, 0.00, 255.00)",
                    "rgb(0.00, 0.00, 255.00)",
                    "rgb(0.00, 0.00, 255.00)",
                    "rgb(0.00, 0.00, 255.00)",
                    "rgb(0.00, 0.00, 255.00)",
                    "rgb(0.00, 0.00, 255.00)",
                    "rgb(0.00, 0.00, 255.00)",
                    "rgb(0.00, 0.00, 255.00)",
                    "rgb(0.00, 0.00, 255.00)",
                    "rgb(0.00, 0.00, 255.00)",
                    "rgb(0.00, 0.00, 255.00)",
                    "rgb(0.00, 0.00, 255.00)",
                    "rgb(0.00, 0.00, 255.00)",
                    "rgb(0.00, 0.00, 255.00)",
                    "rgb(0.00, 0.00, 255.00)",
                    "rgb(0.00, 0.00, 255.00)",
                    "rgb(0.00, 0.00, 255.00)",
                    "rgb(0.00, 0.00, 255.00)",
                    "rgb(0.00, 0.00, 255.00)",
                    "rgb(0.00, 0.00, 255.00)",
                    "rgb(0.00, 0.00, 255.00)",
                    "rgb(0.00, 0.00, 255.00)",
                    "rgb(0.00, 0.00, 255.00)",
                    "rgb(0.00, 0.00, 255.00)",
                    "rgb(0.00, 0.00, 255.00)",
                    "rgb(0.00, 0.00, 255.00)",
                    "rgb(0.00, 0.00, 255.00)",
                    "rgb(0.00, 0.00, 255.00)",
                    "rgb(0.00, 0.00, 255.00)",
                    "rgb(0.00, 0.00, 255.00)",
                    "rgb(0.00, 0.00, 255.00)",
                    "rgb(0.00, 0.00, 255.00)",
                    "rgb(0.00, 0.00, 255.00)",
                    "rgb(0.00, 0.00, 255.00)",
                    "rgb(0.00, 0.00, 255.00)",
                    "rgb(0.00, 0.00, 255.00)",
                    "rgb(0.00, 0.00, 255.00)",
                    "rgb(0.00, 0.00, 255.00)",
                    "rgb(0.00, 0.00, 255.00)",
                    "rgb(0.00, 0.00, 255.00)",
                    "rgb(0.00, 0.00, 255.00)",
                    "rgb(0.00, 0.00, 255.00)",
                    "rgb(0.00, 0.00, 255.00)",
                    "rgb(0.00, 0.00, 255.00)",
                    "rgb(0.00, 0.00, 255.00)",
                    "rgb(0.00, 0.00, 255.00)",
                    "rgb(0.00, 0.00, 255.00)",
                    "rgb(0.00, 0.00, 255.00)",
                    "rgb(0.00, 0.00, 255.00)",
                    "rgb(0.00, 0.00, 255.00)",
                    "rgb(0.00, 0.00, 255.00)",
                    "rgb(0.00, 0.00, 255.00)",
                    "rgb(0.00, 0.00, 255.00)",
                    "rgb(0.00, 0.00, 255.00)",
                    "rgb(0.00, 0.00, 255.00)",
                    "rgb(0.00, 0.00, 255.00)",
                    "rgb(0.00, 0.00, 255.00)",
                    "rgb(0.00, 0.00, 255.00)",
                    "rgb(0.00, 0.00, 255.00)",
                    "rgb(0.00, 0.00, 255.00)",
                    "rgb(0.00, 0.00, 255.00)",
                    "rgb(0.00, 0.00, 255.00)",
                    "rgb(0.00, 0.00, 255.00)",
                    "rgb(0.00, 0.00, 255.00)",
                    "rgb(0.00, 0.00, 255.00)",
                    "rgb(0.00, 0.00, 255.00)",
                    "rgb(0.00, 0.00, 255.00)",
                    "rgb(0.00, 0.00, 255.00)",
                    "rgb(0.00, 0.00, 255.00)",
                    "rgb(0.00, 0.00, 255.00)",
                    "rgb(0.00, 0.00, 255.00)",
                    "rgb(0.00, 0.00, 255.00)",
                    "rgb(0.00, 0.00, 255.00)",
                    "rgb(0.00, 0.00, 255.00)",
                    "rgb(0.00, 0.00, 255.00)",
                    "rgb(0.00, 0.00, 255.00)",
                    "rgb(0.00, 0.00, 255.00)",
                    "rgb(0.00, 0.00, 255.00)",
                    "rgb(0.00, 0.00, 255.00)",
                    "rgb(0.00, 0.00, 255.00)",
                    "rgb(0.00, 0.00, 255.00)",
                    "rgb(0.00, 0.00, 255.00)",
                    "rgb(0.00, 0.00, 255.00)",
                    "rgb(0.00, 0.00, 255.00)",
                    "rgb(0.00, 0.00, 255.00)",
                    "rgb(0.00, 0.00, 255.00)",
                    "rgb(0.00, 0.00, 255.00)",
                    "rgb(0.00, 0.00, 255.00)",
                    "rgb(0.00, 0.00, 255.00)",
                    "rgb(0.00, 0.00, 255.00)",
                    "rgb(0.00, 0.00, 255.00)",
                    "rgb(0.00, 0.00, 255.00)",
                    "rgb(0.00, 0.00, 255.00)",
                    "rgb(0.00, 0.00, 255.00)",
                    "rgb(0.00, 0.00, 255.00)",
                    "rgb(0.00, 0.00, 255.00)",
                    "rgb(0.00, 0.00, 255.00)",
                    "rgb(0.00, 0.00, 255.00)",
                    "rgb(0.00, 0.00, 255.00)",
                    "rgb(0.00, 0.00, 255.00)",
                    "rgb(0.00, 0.00, 255.00)",
                    "rgb(0.00, 0.00, 255.00)",
                    "rgb(0.00, 0.00, 255.00)",
                    "rgb(0.00, 0.00, 255.00)",
                    "rgb(0.00, 0.00, 255.00)",
                    "rgb(0.00, 0.00, 255.00)",
                    "rgb(0.00, 0.00, 255.00)",
                    "rgb(0.00, 0.00, 255.00)",
                    "rgb(0.00, 0.00, 255.00)",
                    "rgb(0.00, 0.00, 255.00)",
                    "rgb(0.00, 0.00, 255.00)",
                    "rgb(0.00, 0.00, 255.00)",
                    "rgb(0.00, 0.00, 255.00)",
                    "rgb(0.00, 0.00, 255.00)",
                    "rgb(0.00, 0.00, 255.00)",
                    "rgb(0.00, 0.00, 255.00)",
                    "rgb(0.00, 0.00, 255.00)",
                    "rgb(0.00, 0.00, 255.00)",
                    "rgb(0.00, 0.00, 255.00)",
                    "rgb(0.00, 0.00, 255.00)",
                    "rgb(0.00, 0.00, 255.00)",
                    "rgb(0.00, 0.00, 255.00)",
                    "rgb(0.00, 0.00, 255.00)",
                    "rgb(0.00, 0.00, 255.00)",
                    "rgb(0.00, 0.00, 255.00)",
                    "rgb(0.00, 0.00, 255.00)",
                    "rgb(0.00, 0.00, 255.00)",
                    "rgb(0.00, 0.00, 255.00)",
                    "rgb(0.00, 0.00, 255.00)",
                    "rgb(0.00, 0.00, 255.00)",
                    "rgb(0.00, 0.00, 255.00)",
                    "rgb(0.00, 0.00, 255.00)",
                    "rgb(0.00, 0.00, 255.00)",
                    "rgb(0.00, 0.00, 255.00)",
                    "rgb(0.00, 0.00, 255.00)",
                    "rgb(0.00, 0.00, 255.00)",
                    "rgb(0.00, 0.00, 255.00)",
                    "rgb(0.00, 0.00, 255.00)",
                    "rgb(0.00, 0.00, 255.00)",
                    "rgb(0.00, 0.00, 255.00)",
                    "rgb(0.00, 0.00, 255.00)",
                    "rgb(0.00, 0.00, 255.00)",
                    "rgb(0.00, 0.00, 255.00)",
                    "rgb(0.00, 0.00, 255.00)",
                    "rgb(0.00, 0.00, 255.00)",
                    "rgb(0.00, 0.00, 255.00)",
                    "rgb(0.00, 0.00, 255.00)",
                    "rgb(0.00, 0.00, 255.00)",
                    "rgb(0.00, 0.00, 255.00)",
                    "rgb(0.00, 0.00, 255.00)",
                    "rgb(0.00, 0.00, 255.00)",
                    "rgb(0.00, 0.00, 255.00)",
                    "rgb(0.00, 0.00, 255.00)",
                    "rgb(0.00, 0.00, 255.00)",
                    "rgb(0.00, 0.00, 255.00)",
                    "rgb(0.00, 0.00, 255.00)",
                    "rgb(0.00, 0.00, 255.00)",
                    "rgb(0.00, 0.00, 255.00)",
                    "rgb(0.00, 0.00, 255.00)",
                    "rgb(0.00, 0.00, 255.00)",
                    "rgb(0.00, 0.00, 255.00)",
                    "rgb(0.00, 0.00, 255.00)",
                    "rgb(0.00, 0.00, 255.00)",
                    "rgb(0.00, 0.00, 255.00)",
                    "rgb(0.00, 0.00, 255.00)",
                    "rgb(0.00, 0.00, 255.00)",
                    "rgb(0.00, 0.00, 255.00)",
                    "rgb(0.00, 0.00, 255.00)",
                    "rgb(0.00, 0.00, 255.00)",
                    "rgb(0.00, 0.00, 255.00)",
                    "rgb(0.00, 0.00, 255.00)",
                    "rgb(0.00, 0.00, 255.00)",
                    "rgb(0.00, 0.00, 255.00)",
                    "rgb(0.00, 0.00, 255.00)",
                    "rgb(0.00, 0.00, 255.00)",
                    "rgb(0.00, 0.00, 255.00)",
                    "rgb(0.00, 0.00, 255.00)",
                    "rgb(0.00, 0.00, 255.00)",
                    "rgb(0.00, 0.00, 255.00)",
                    "rgb(0.00, 0.00, 255.00)",
                    "rgb(0.00, 0.00, 255.00)",
                    "rgb(0.00, 0.00, 255.00)",
                    "rgb(0.00, 0.00, 255.00)",
                    "rgb(0.00, 0.00, 255.00)",
                    "rgb(0.00, 0.00, 255.00)",
                    "rgb(0.00, 0.00, 255.00)",
                    "rgb(0.00, 0.00, 255.00)",
                    "rgb(0.00, 0.00, 255.00)",
                    "rgb(0.00, 0.00, 255.00)",
                    "rgb(0.00, 0.00, 255.00)",
                    "rgb(0.00, 0.00, 255.00)",
                    "rgb(0.00, 0.00, 255.00)",
                    "rgb(0.00, 0.00, 255.00)",
                    "rgb(0.00, 0.00, 255.00)",
                    "rgb(0.00, 0.00, 255.00)",
                    "rgb(0.00, 0.00, 255.00)",
                    "rgb(0.00, 0.00, 255.00)",
                    "rgb(0.00, 0.00, 255.00)",
                    "rgb(0.00, 0.00, 255.00)",
                    "rgb(0.00, 0.00, 255.00)",
                    "rgb(0.00, 0.00, 255.00)",
                    "rgb(0.00, 0.00, 255.00)",
                    "rgb(0.00, 0.00, 255.00)",
                    "rgb(0.00, 0.00, 255.00)",
                    "rgb(0.00, 0.00, 255.00)",
                    "rgb(0.00, 0.00, 255.00)",
                    "rgb(0.00, 0.00, 255.00)",
                    "rgb(0.00, 0.00, 255.00)",
                    "rgb(0.00, 0.00, 255.00)",
                    "rgb(0.00, 0.00, 255.00)",
                    "rgb(0.00, 0.00, 255.00)",
                    "rgb(0.00, 0.00, 255.00)",
                    "rgb(0.00, 0.00, 255.00)",
                    "rgb(0.00, 0.00, 255.00)",
                    "rgb(0.00, 0.00, 255.00)",
                    "rgb(0.00, 0.00, 255.00)",
                    "rgb(0.00, 0.00, 255.00)",
                    "rgb(0.00, 0.00, 255.00)",
                    "rgb(0.00, 0.00, 255.00)",
                    "rgb(0.00, 0.00, 255.00)",
                    "rgb(0.00, 0.00, 255.00)",
                    "rgb(0.00, 0.00, 255.00)",
                    "rgb(0.00, 0.00, 255.00)",
                    "rgb(0.00, 0.00, 255.00)",
                    "rgb(0.00, 0.00, 255.00)",
                    "rgb(0.00, 0.00, 255.00)",
                    "rgb(0.00, 0.00, 255.00)",
                    "rgb(0.00, 0.00, 255.00)",
                    "rgb(0.00, 0.00, 255.00)",
                    "rgb(0.00, 0.00, 255.00)",
                    "rgb(0.00, 0.00, 255.00)",
                    "rgb(0.00, 0.00, 255.00)",
                    "rgb(0.00, 0.00, 255.00)",
                    "rgb(0.00, 0.00, 255.00)",
                    "rgb(0.00, 0.00, 255.00)",
                    "rgb(0.00, 0.00, 255.00)",
                    "rgb(0.00, 0.00, 255.00)",
                    "rgb(0.00, 0.00, 255.00)",
                    "rgb(0.00, 0.00, 255.00)",
                    "rgb(0.00, 0.00, 255.00)",
                    "rgb(0.00, 0.00, 255.00)",
                    "rgb(0.00, 0.00, 255.00)",
                    "rgb(0.00, 0.00, 255.00)",
                    "rgb(0.00, 0.00, 255.00)",
                    "rgb(0.00, 0.00, 255.00)",
                    "rgb(0.00, 0.00, 255.00)",
                    "rgb(0.00, 0.00, 255.00)",
                    "rgb(0.00, 0.00, 255.00)",
                    "rgb(0.00, 0.00, 255.00)",
                    "rgb(0.00, 0.00, 255.00)",
                    "rgb(0.00, 0.00, 255.00)",
                    "rgb(0.00, 0.00, 255.00)",
                    "rgb(0.00, 0.00, 255.00)",
                    "rgb(0.00, 0.00, 255.00)",
                    "rgb(0.00, 0.00, 255.00)",
                    "rgb(0.00, 0.00, 255.00)",
                    "rgb(0.00, 0.00, 255.00)",
                    "rgb(0.00, 0.00, 255.00)",
                    "rgb(0.00, 0.00, 255.00)",
                    "rgb(0.00, 0.00, 255.00)",
                    "rgb(0.00, 0.00, 255.00)",
                    "rgb(0.00, 0.00, 255.00)",
                    "rgb(0.00, 0.00, 255.00)",
                    "rgb(0.00, 0.00, 255.00)",
                    "rgb(0.00, 0.00, 255.00)",
                    "rgb(0.00, 0.00, 255.00)",
                    "rgb(0.00, 0.00, 255.00)",
                    "rgb(0.00, 0.00, 255.00)",
                    "rgb(0.00, 0.00, 255.00)",
                    "rgb(0.00, 0.00, 255.00)",
                    "rgb(0.00, 0.00, 255.00)",
                    "rgb(0.00, 0.00, 255.00)",
                    "rgb(0.00, 0.00, 255.00)",
                    "rgb(0.00, 0.00, 255.00)",
                    "rgb(0.00, 0.00, 255.00)",
                    "rgb(0.00, 0.00, 255.00)",
                    "rgb(0.00, 0.00, 255.00)",
                    "rgb(0.00, 0.00, 255.00)",
                    "rgb(0.00, 84.92, 255.00)",
                    "rgb(0.00, 84.92, 255.00)",
                    "rgb(0.00, 84.92, 255.00)",
                    "rgb(0.00, 84.92, 255.00)",
                    "rgb(0.00, 84.92, 255.00)",
                    "rgb(0.00, 84.92, 255.00)",
                    "rgb(0.00, 84.92, 255.00)",
                    "rgb(0.00, 84.92, 255.00)",
                    "rgb(0.00, 84.92, 255.00)",
                    "rgb(0.00, 84.92, 255.00)",
                    "rgb(0.00, 84.92, 255.00)",
                    "rgb(0.00, 84.92, 255.00)",
                    "rgb(0.00, 84.92, 255.00)",
                    "rgb(0.00, 84.92, 255.00)",
                    "rgb(0.00, 84.92, 255.00)",
                    "rgb(0.00, 84.92, 255.00)",
                    "rgb(0.00, 84.92, 255.00)",
                    "rgb(0.00, 84.92, 255.00)",
                    "rgb(0.00, 84.92, 255.00)",
                    "rgb(0.00, 84.92, 255.00)",
                    "rgb(0.00, 84.92, 255.00)",
                    "rgb(0.00, 84.92, 255.00)",
                    "rgb(0.00, 84.92, 255.00)",
                    "rgb(0.00, 84.92, 255.00)",
                    "rgb(0.00, 84.92, 255.00)",
                    "rgb(0.00, 84.92, 255.00)",
                    "rgb(0.00, 84.92, 255.00)",
                    "rgb(0.00, 84.92, 255.00)",
                    "rgb(0.00, 84.92, 255.00)",
                    "rgb(0.00, 84.92, 255.00)",
                    "rgb(0.00, 84.92, 255.00)",
                    "rgb(0.00, 84.92, 255.00)",
                    "rgb(0.00, 84.92, 255.00)",
                    "rgb(0.00, 84.92, 255.00)",
                    "rgb(0.00, 84.92, 255.00)",
                    "rgb(0.00, 84.92, 255.00)",
                    "rgb(0.00, 84.92, 255.00)",
                    "rgb(0.00, 84.92, 255.00)",
                    "rgb(0.00, 84.92, 255.00)",
                    "rgb(0.00, 84.92, 255.00)",
                    "rgb(0.00, 84.92, 255.00)",
                    "rgb(0.00, 84.92, 255.00)",
                    "rgb(0.00, 84.92, 255.00)",
                    "rgb(0.00, 84.92, 255.00)",
                    "rgb(0.00, 84.92, 255.00)",
                    "rgb(0.00, 84.92, 255.00)",
                    "rgb(0.00, 84.92, 255.00)",
                    "rgb(0.00, 84.92, 255.00)",
                    "rgb(0.00, 84.92, 255.00)",
                    "rgb(0.00, 84.92, 255.00)",
                    "rgb(0.00, 84.92, 255.00)",
                    "rgb(0.00, 84.92, 255.00)",
                    "rgb(0.00, 84.92, 255.00)",
                    "rgb(0.00, 84.92, 255.00)",
                    "rgb(0.00, 84.92, 255.00)",
                    "rgb(0.00, 84.92, 255.00)",
                    "rgb(0.00, 84.92, 255.00)",
                    "rgb(0.00, 84.92, 255.00)",
                    "rgb(0.00, 84.92, 255.00)",
                    "rgb(0.00, 84.92, 255.00)",
                    "rgb(0.00, 84.92, 255.00)",
                    "rgb(0.00, 84.92, 255.00)",
                    "rgb(0.00, 84.92, 255.00)",
                    "rgb(0.00, 84.92, 255.00)",
                    "rgb(0.00, 84.92, 255.00)",
                    "rgb(0.00, 84.92, 255.00)",
                    "rgb(0.00, 84.92, 255.00)",
                    "rgb(0.00, 84.92, 255.00)",
                    "rgb(0.00, 84.92, 255.00)",
                    "rgb(0.00, 84.92, 255.00)",
                    "rgb(0.00, 84.92, 255.00)",
                    "rgb(0.00, 84.92, 255.00)",
                    "rgb(0.00, 84.92, 255.00)",
                    "rgb(0.00, 84.92, 255.00)",
                    "rgb(0.00, 84.92, 255.00)",
                    "rgb(0.00, 84.92, 255.00)",
                    "rgb(0.00, 84.92, 255.00)",
                    "rgb(0.00, 84.92, 255.00)",
                    "rgb(0.00, 84.92, 255.00)",
                    "rgb(0.00, 84.92, 255.00)",
                    "rgb(0.00, 84.92, 255.00)",
                    "rgb(0.00, 84.92, 255.00)",
                    "rgb(0.00, 84.92, 255.00)",
                    "rgb(0.00, 84.92, 255.00)",
                    "rgb(0.00, 84.92, 255.00)",
                    "rgb(0.00, 84.92, 255.00)",
                    "rgb(0.00, 84.92, 255.00)",
                    "rgb(0.00, 84.92, 255.00)",
                    "rgb(0.00, 84.92, 255.00)",
                    "rgb(0.00, 84.92, 255.00)",
                    "rgb(0.00, 84.92, 255.00)",
                    "rgb(0.00, 84.92, 255.00)",
                    "rgb(0.00, 84.92, 255.00)",
                    "rgb(0.00, 84.92, 255.00)",
                    "rgb(0.00, 84.92, 255.00)",
                    "rgb(0.00, 84.92, 255.00)",
                    "rgb(0.00, 170.09, 255.00)",
                    "rgb(0.00, 170.09, 255.00)",
                    "rgb(0.00, 170.09, 255.00)",
                    "rgb(0.00, 170.09, 255.00)",
                    "rgb(0.00, 170.09, 255.00)",
                    "rgb(0.00, 170.09, 255.00)",
                    "rgb(0.00, 170.09, 255.00)",
                    "rgb(0.00, 170.09, 255.00)",
                    "rgb(0.00, 170.09, 255.00)",
                    "rgb(0.00, 170.09, 255.00)",
                    "rgb(0.00, 170.09, 255.00)",
                    "rgb(0.00, 170.09, 255.00)",
                    "rgb(0.00, 170.09, 255.00)",
                    "rgb(0.00, 170.09, 255.00)",
                    "rgb(0.00, 170.09, 255.00)",
                    "rgb(0.00, 170.09, 255.00)",
                    "rgb(0.00, 170.09, 255.00)",
                    "rgb(0.00, 170.09, 255.00)",
                    "rgb(0.00, 170.09, 255.00)",
                    "rgb(0.00, 170.09, 255.00)",
                    "rgb(0.00, 170.09, 255.00)",
                    "rgb(0.00, 170.09, 255.00)",
                    "rgb(0.00, 170.09, 255.00)",
                    "rgb(0.00, 170.09, 255.00)",
                    "rgb(0.00, 170.09, 255.00)",
                    "rgb(0.00, 170.09, 255.00)",
                    "rgb(0.00, 170.09, 255.00)",
                    "rgb(0.00, 170.09, 255.00)",
                    "rgb(0.00, 170.09, 255.00)",
                    "rgb(0.00, 170.09, 255.00)",
                    "rgb(0.00, 170.09, 255.00)",
                    "rgb(0.00, 170.09, 255.00)",
                    "rgb(0.00, 170.09, 255.00)",
                    "rgb(0.00, 170.09, 255.00)",
                    "rgb(0.00, 170.09, 255.00)",
                    "rgb(0.00, 170.09, 255.00)",
                    "rgb(0.00, 170.09, 255.00)",
                    "rgb(0.00, 170.09, 255.00)",
                    "rgb(0.00, 170.09, 255.00)",
                    "rgb(0.00, 170.09, 255.00)",
                    "rgb(0.00, 170.09, 255.00)",
                    "rgb(0.00, 170.09, 255.00)",
                    "rgb(0.00, 170.09, 255.00)",
                    "rgb(0.00, 170.09, 255.00)",
                    "rgb(0.00, 170.09, 255.00)",
                    "rgb(0.00, 170.09, 255.00)",
                    "rgb(0.00, 170.09, 255.00)",
                    "rgb(0.00, 170.09, 255.00)",
                    "rgb(0.00, 170.09, 255.00)",
                    "rgb(0.00, 170.09, 255.00)",
                    "rgb(0.00, 170.09, 255.00)",
                    "rgb(0.00, 170.09, 255.00)",
                    "rgb(0.00, 170.09, 255.00)",
                    "rgb(0.00, 170.09, 255.00)",
                    "rgb(0.00, 170.09, 255.00)",
                    "rgb(0.00, 170.09, 255.00)",
                    "rgb(0.00, 170.09, 255.00)",
                    "rgb(0.00, 170.09, 255.00)",
                    "rgb(0.00, 170.09, 255.00)",
                    "rgb(0.00, 170.09, 255.00)",
                    "rgb(0.00, 170.09, 255.00)",
                    "rgb(0.00, 170.09, 255.00)",
                    "rgb(0.00, 170.09, 255.00)",
                    "rgb(0.00, 170.09, 255.00)",
                    "rgb(0.00, 170.09, 255.00)",
                    "rgb(0.00, 170.09, 255.00)",
                    "rgb(0.00, 170.09, 255.00)",
                    "rgb(0.00, 170.09, 255.00)",
                    "rgb(0.00, 170.09, 255.00)",
                    "rgb(0.00, 170.09, 255.00)",
                    "rgb(0.00, 170.09, 255.00)",
                    "rgb(0.00, 170.09, 255.00)",
                    "rgb(0.00, 170.09, 255.00)",
                    "rgb(0.00, 170.09, 255.00)",
                    "rgb(0.00, 170.09, 255.00)",
                    "rgb(0.00, 170.09, 255.00)",
                    "rgb(0.00, 170.09, 255.00)",
                    "rgb(0.00, 170.09, 255.00)",
                    "rgb(0.00, 170.09, 255.00)",
                    "rgb(0.00, 170.09, 255.00)",
                    "rgb(0.00, 170.09, 255.00)",
                    "rgb(0.00, 170.09, 255.00)",
                    "rgb(0.00, 170.09, 255.00)",
                    "rgb(0.00, 170.09, 255.00)",
                    "rgb(0.00, 170.09, 255.00)",
                    "rgb(0.00, 170.09, 255.00)",
                    "rgb(0.00, 170.09, 255.00)",
                    "rgb(0.00, 170.09, 255.00)",
                    "rgb(0.00, 170.09, 255.00)",
                    "rgb(0.00, 170.09, 255.00)",
                    "rgb(0.00, 170.09, 255.00)",
                    "rgb(0.00, 170.09, 255.00)",
                    "rgb(0.00, 170.09, 255.00)",
                    "rgb(0.00, 170.09, 255.00)",
                    "rgb(0.00, 170.09, 255.00)",
                    "rgb(0.00, 170.09, 255.00)",
                    "rgb(0.00, 170.09, 255.00)",
                    "rgb(0.00, 170.09, 255.00)",
                    "rgb(0.00, 170.09, 255.00)",
                    "rgb(0.00, 170.09, 255.00)",
                    "rgb(0.00, 170.09, 255.00)",
                    "rgb(0.00, 170.09, 255.00)",
                    "rgb(0.00, 170.09, 255.00)",
                    "rgb(0.00, 170.09, 255.00)",
                    "rgb(0.00, 170.09, 255.00)",
                    "rgb(0.00, 170.09, 255.00)",
                    "rgb(0.00, 170.09, 255.00)",
                    "rgb(0.00, 170.09, 255.00)",
                    "rgb(0.00, 170.09, 255.00)",
                    "rgb(0.00, 170.09, 255.00)",
                    "rgb(0.00, 170.09, 255.00)",
                    "rgb(0.00, 170.09, 255.00)",
                    "rgb(0.00, 170.09, 255.00)",
                    "rgb(0.00, 170.09, 255.00)",
                    "rgb(0.00, 170.09, 255.00)",
                    "rgb(0.00, 170.09, 255.00)",
                    "rgb(0.00, 170.09, 255.00)",
                    "rgb(0.00, 170.09, 255.00)",
                    "rgb(0.00, 170.09, 255.00)",
                    "rgb(0.00, 170.09, 255.00)",
                    "rgb(0.00, 170.09, 255.00)",
                    "rgb(0.00, 170.09, 255.00)",
                    "rgb(0.00, 170.09, 255.00)",
                    "rgb(0.00, 170.09, 255.00)",
                    "rgb(0.00, 170.09, 255.00)",
                    "rgb(0.00, 170.09, 255.00)",
                    "rgb(0.00, 170.09, 255.00)",
                    "rgb(0.00, 170.09, 255.00)",
                    "rgb(0.00, 170.09, 255.00)",
                    "rgb(0.00, 170.09, 255.00)",
                    "rgb(0.00, 170.09, 255.00)",
                    "rgb(0.00, 170.09, 255.00)",
                    "rgb(0.00, 170.09, 255.00)",
                    "rgb(0.00, 170.09, 255.00)",
                    "rgb(0.00, 170.09, 255.00)",
                    "rgb(0.00, 170.09, 255.00)",
                    "rgb(0.00, 170.09, 255.00)",
                    "rgb(0.00, 170.09, 255.00)",
                    "rgb(0.00, 170.09, 255.00)",
                    "rgb(0.00, 170.09, 255.00)",
                    "rgb(0.00, 170.09, 255.00)",
                    "rgb(0.00, 170.09, 255.00)",
                    "rgb(0.00, 170.09, 255.00)",
                    "rgb(0.00, 170.09, 255.00)",
                    "rgb(0.00, 170.09, 255.00)",
                    "rgb(0.00, 170.09, 255.00)",
                    "rgb(0.00, 170.09, 255.00)",
                    "rgb(0.00, 170.09, 255.00)",
                    "rgb(0.00, 170.09, 255.00)",
                    "rgb(0.00, 170.09, 255.00)",
                    "rgb(0.00, 170.09, 255.00)",
                    "rgb(0.00, 170.09, 255.00)",
                    "rgb(0.00, 170.09, 255.00)",
                    "rgb(0.00, 170.09, 255.00)",
                    "rgb(0.00, 170.09, 255.00)",
                    "rgb(0.00, 170.09, 255.00)",
                    "rgb(0.00, 170.09, 255.00)",
                    "rgb(0.00, 170.09, 255.00)",
                    "rgb(0.00, 170.09, 255.00)",
                    "rgb(0.00, 170.09, 255.00)",
                    "rgb(0.00, 170.09, 255.00)",
                    "rgb(0.00, 170.09, 255.00)",
                    "rgb(0.00, 170.09, 255.00)",
                    "rgb(0.00, 170.09, 255.00)",
                    "rgb(0.00, 170.09, 255.00)",
                    "rgb(0.00, 170.09, 255.00)",
                    "rgb(0.00, 170.09, 255.00)",
                    "rgb(0.00, 170.09, 255.00)",
                    "rgb(0.00, 170.09, 255.00)",
                    "rgb(0.00, 170.09, 255.00)",
                    "rgb(0.00, 170.09, 255.00)",
                    "rgb(0.00, 170.09, 255.00)",
                    "rgb(0.00, 170.09, 255.00)",
                    "rgb(0.00, 170.09, 255.00)",
                    "rgb(0.00, 170.09, 255.00)",
                    "rgb(0.00, 170.09, 255.00)",
                    "rgb(0.00, 170.09, 255.00)",
                    "rgb(0.00, 170.09, 255.00)",
                    "rgb(0.00, 170.09, 255.00)",
                    "rgb(0.00, 170.09, 255.00)",
                    "rgb(0.00, 170.09, 255.00)",
                    "rgb(0.00, 170.09, 255.00)",
                    "rgb(0.00, 170.09, 255.00)",
                    "rgb(0.00, 170.09, 255.00)",
                    "rgb(0.00, 170.09, 255.00)",
                    "rgb(0.00, 170.09, 255.00)",
                    "rgb(0.00, 170.09, 255.00)",
                    "rgb(0.00, 170.09, 255.00)",
                    "rgb(0.00, 170.09, 255.00)",
                    "rgb(0.00, 170.09, 255.00)",
                    "rgb(0.00, 170.09, 255.00)",
                    "rgb(0.00, 170.09, 255.00)",
                    "rgb(0.00, 170.09, 255.00)",
                    "rgb(0.00, 170.09, 255.00)",
                    "rgb(0.00, 170.09, 255.00)",
                    "rgb(0.00, 170.09, 255.00)",
                    "rgb(0.00, 170.09, 255.00)",
                    "rgb(0.00, 170.09, 255.00)",
                    "rgb(0.00, 170.09, 255.00)",
                    "rgb(0.00, 170.09, 255.00)",
                    "rgb(0.00, 170.09, 255.00)",
                    "rgb(0.00, 170.09, 255.00)",
                    "rgb(0.00, 170.09, 255.00)",
                    "rgb(0.00, 170.09, 255.00)",
                    "rgb(0.00, 170.09, 255.00)",
                    "rgb(0.00, 170.09, 255.00)",
                    "rgb(0.00, 170.09, 255.00)",
                    "rgb(0.00, 170.09, 255.00)",
                    "rgb(0.00, 170.09, 255.00)",
                    "rgb(0.00, 170.09, 255.00)",
                    "rgb(0.00, 170.09, 255.00)",
                    "rgb(0.00, 170.09, 255.00)",
                    "rgb(0.00, 170.09, 255.00)",
                    "rgb(0.00, 170.09, 255.00)",
                    "rgb(0.00, 170.09, 255.00)",
                    "rgb(0.00, 170.09, 255.00)",
                    "rgb(0.00, 170.09, 255.00)",
                    "rgb(0.00, 170.09, 255.00)",
                    "rgb(0.00, 170.09, 255.00)",
                    "rgb(0.00, 170.09, 255.00)",
                    "rgb(0.00, 170.09, 255.00)",
                    "rgb(0.00, 170.09, 255.00)",
                    "rgb(0.00, 170.09, 255.00)",
                    "rgb(0.00, 170.09, 255.00)",
                    "rgb(0.00, 170.09, 255.00)",
                    "rgb(0.00, 170.09, 255.00)",
                    "rgb(0.00, 170.09, 255.00)",
                    "rgb(0.00, 170.09, 255.00)",
                    "rgb(0.00, 170.09, 255.00)",
                    "rgb(0.00, 170.09, 255.00)",
                    "rgb(0.00, 170.09, 255.00)",
                    "rgb(0.00, 170.09, 255.00)",
                    "rgb(0.00, 170.09, 255.00)",
                    "rgb(0.00, 170.09, 255.00)",
                    "rgb(0.00, 170.09, 255.00)",
                    "rgb(0.00, 170.09, 255.00)",
                    "rgb(0.00, 170.09, 255.00)",
                    "rgb(0.00, 170.09, 255.00)",
                    "rgb(0.00, 170.09, 255.00)",
                    "rgb(0.00, 170.09, 255.00)",
                    "rgb(0.00, 170.09, 255.00)",
                    "rgb(0.00, 170.09, 255.00)",
                    "rgb(0.00, 170.09, 255.00)",
                    "rgb(0.00, 170.09, 255.00)",
                    "rgb(0.00, 170.09, 255.00)",
                    "rgb(0.00, 170.09, 255.00)",
                    "rgb(0.00, 170.09, 255.00)",
                    "rgb(0.00, 170.09, 255.00)",
                    "rgb(0.00, 170.09, 255.00)",
                    "rgb(0.00, 170.09, 255.00)",
                    "rgb(0.00, 170.09, 255.00)",
                    "rgb(0.00, 170.09, 255.00)",
                    "rgb(0.00, 170.09, 255.00)",
                    "rgb(0.00, 170.09, 255.00)",
                    "rgb(0.00, 170.09, 255.00)",
                    "rgb(0.00, 170.09, 255.00)",
                    "rgb(0.00, 170.09, 255.00)",
                    "rgb(0.00, 170.09, 255.00)",
                    "rgb(0.00, 170.09, 255.00)",
                    "rgb(0.00, 170.09, 255.00)",
                    "rgb(0.00, 170.09, 255.00)",
                    "rgb(0.00, 170.09, 255.00)",
                    "rgb(0.00, 170.09, 255.00)",
                    "rgb(0.00, 170.09, 255.00)",
                    "rgb(0.00, 170.09, 255.00)",
                    "rgb(0.00, 170.09, 255.00)",
                    "rgb(0.00, 170.09, 255.00)",
                    "rgb(0.00, 170.09, 255.00)",
                    "rgb(0.00, 170.09, 255.00)",
                    "rgb(0.00, 170.09, 255.00)",
                    "rgb(0.00, 170.09, 255.00)",
                    "rgb(0.00, 170.09, 255.00)",
                    "rgb(0.00, 170.09, 255.00)",
                    "rgb(0.00, 170.09, 255.00)",
                    "rgb(0.00, 170.09, 255.00)",
                    "rgb(0.00, 170.09, 255.00)",
                    "rgb(0.00, 170.09, 255.00)",
                    "rgb(0.00, 170.09, 255.00)",
                    "rgb(0.00, 170.09, 255.00)",
                    "rgb(0.00, 170.09, 255.00)",
                    "rgb(0.00, 170.09, 255.00)",
                    "rgb(0.00, 170.09, 255.00)",
                    "rgb(0.00, 170.09, 255.00)",
                    "rgb(0.00, 170.09, 255.00)",
                    "rgb(0.00, 170.09, 255.00)",
                    "rgb(0.00, 170.09, 255.00)",
                    "rgb(0.00, 170.09, 255.00)",
                    "rgb(0.00, 170.09, 255.00)",
                    "rgb(0.00, 170.09, 255.00)",
                    "rgb(0.00, 170.09, 255.00)",
                    "rgb(0.00, 170.09, 255.00)",
                    "rgb(0.00, 170.09, 255.00)",
                    "rgb(0.00, 170.09, 255.00)",
                    "rgb(0.00, 170.09, 255.00)",
                    "rgb(0.00, 170.09, 255.00)",
                    "rgb(0.00, 170.09, 255.00)",
                    "rgb(0.00, 170.09, 255.00)",
                    "rgb(0.00, 170.09, 255.00)",
                    "rgb(0.00, 170.09, 255.00)",
                    "rgb(0.00, 170.09, 255.00)",
                    "rgb(0.00, 170.09, 255.00)",
                    "rgb(0.00, 170.09, 255.00)",
                    "rgb(0.00, 170.09, 255.00)",
                    "rgb(0.00, 170.09, 255.00)",
                    "rgb(0.00, 170.09, 255.00)",
                    "rgb(0.00, 170.09, 255.00)",
                    "rgb(0.00, 170.09, 255.00)",
                    "rgb(0.00, 170.09, 255.00)",
                    "rgb(0.00, 170.09, 255.00)",
                    "rgb(0.00, 170.09, 255.00)",
                    "rgb(0.00, 170.09, 255.00)",
                    "rgb(0.00, 170.09, 255.00)",
                    "rgb(0.00, 170.09, 255.00)",
                    "rgb(0.00, 170.09, 255.00)",
                    "rgb(0.00, 170.09, 255.00)",
                    "rgb(0.00, 170.09, 255.00)",
                    "rgb(0.00, 170.09, 255.00)",
                    "rgb(0.00, 170.09, 255.00)",
                    "rgb(0.00, 170.09, 255.00)",
                    "rgb(0.00, 170.09, 255.00)",
                    "rgb(0.00, 170.09, 255.00)",
                    "rgb(0.00, 170.09, 255.00)",
                    "rgb(0.00, 170.09, 255.00)",
                    "rgb(0.00, 170.09, 255.00)",
                    "rgb(0.00, 170.09, 255.00)",
                    "rgb(0.00, 170.09, 255.00)",
                    "rgb(0.00, 170.09, 255.00)",
                    "rgb(0.00, 170.09, 255.00)",
                    "rgb(0.00, 170.09, 255.00)",
                    "rgb(0.00, 170.09, 255.00)",
                    "rgb(0.00, 170.09, 255.00)",
                    "rgb(0.00, 170.09, 255.00)",
                    "rgb(0.00, 170.09, 255.00)",
                    "rgb(0.00, 170.09, 255.00)",
                    "rgb(0.00, 170.09, 255.00)",
                    "rgb(0.00, 170.09, 255.00)",
                    "rgb(0.00, 170.09, 255.00)",
                    "rgb(0.00, 170.09, 255.00)",
                    "rgb(0.00, 170.09, 255.00)",
                    "rgb(0.00, 170.09, 255.00)",
                    "rgb(0.00, 170.09, 255.00)",
                    "rgb(0.00, 170.09, 255.00)",
                    "rgb(0.00, 170.09, 255.00)",
                    "rgb(0.00, 170.09, 255.00)",
                    "rgb(0.00, 170.09, 255.00)",
                    "rgb(0.00, 170.09, 255.00)",
                    "rgb(0.00, 170.09, 255.00)",
                    "rgb(0.00, 170.09, 255.00)",
                    "rgb(0.00, 170.09, 255.00)",
                    "rgb(0.00, 170.09, 255.00)",
                    "rgb(0.00, 170.09, 255.00)",
                    "rgb(0.00, 170.09, 255.00)",
                    "rgb(0.00, 170.09, 255.00)",
                    "rgb(0.00, 170.09, 255.00)",
                    "rgb(0.00, 170.09, 255.00)",
                    "rgb(0.00, 170.09, 255.00)",
                    "rgb(0.00, 170.09, 255.00)",
                    "rgb(0.00, 170.09, 255.00)",
                    "rgb(0.00, 170.09, 255.00)",
                    "rgb(0.00, 170.09, 255.00)",
                    "rgb(0.00, 170.09, 255.00)",
                    "rgb(0.00, 170.09, 255.00)",
                    "rgb(0.00, 170.09, 255.00)",
                    "rgb(0.00, 170.09, 255.00)",
                    "rgb(0.00, 170.09, 255.00)",
                    "rgb(0.00, 170.09, 255.00)",
                    "rgb(0.00, 170.09, 255.00)",
                    "rgb(0.00, 170.09, 255.00)",
                    "rgb(0.00, 170.09, 255.00)",
                    "rgb(0.00, 170.09, 255.00)",
                    "rgb(0.00, 170.09, 255.00)",
                    "rgb(0.00, 170.09, 255.00)",
                    "rgb(0.00, 170.09, 255.00)",
                    "rgb(0.00, 170.09, 255.00)",
                    "rgb(0.00, 170.09, 255.00)",
                    "rgb(0.00, 170.09, 255.00)",
                    "rgb(0.00, 170.09, 255.00)",
                    "rgb(0.00, 170.09, 255.00)",
                    "rgb(0.00, 170.09, 255.00)",
                    "rgb(0.00, 170.09, 255.00)",
                    "rgb(0.00, 170.09, 255.00)",
                    "rgb(0.00, 170.09, 255.00)",
                    "rgb(0.00, 170.09, 255.00)",
                    "rgb(0.00, 170.09, 255.00)",
                    "rgb(0.00, 170.09, 255.00)",
                    "rgb(0.00, 170.09, 255.00)",
                    "rgb(0.00, 170.09, 255.00)",
                    "rgb(0.00, 170.09, 255.00)",
                    "rgb(0.00, 170.09, 255.00)",
                    "rgb(0.00, 170.09, 255.00)",
                    "rgb(0.00, 170.09, 255.00)",
                    "rgb(0.00, 170.09, 255.00)",
                    "rgb(0.00, 170.09, 255.00)",
                    "rgb(0.00, 170.09, 255.00)",
                    "rgb(0.00, 170.09, 255.00)",
                    "rgb(0.00, 170.09, 255.00)",
                    "rgb(0.00, 170.09, 255.00)",
                    "rgb(0.00, 170.09, 255.00)",
                    "rgb(0.00, 170.09, 255.00)",
                    "rgb(0.00, 170.09, 255.00)",
                    "rgb(0.00, 170.09, 255.00)",
                    "rgb(0.00, 170.09, 255.00)",
                    "rgb(0.00, 170.09, 255.00)",
                    "rgb(0.00, 170.09, 255.00)",
                    "rgb(0.00, 170.09, 255.00)",
                    "rgb(0.00, 170.09, 255.00)",
                    "rgb(0.00, 170.09, 255.00)",
                    "rgb(0.00, 170.09, 255.00)",
                    "rgb(0.00, 170.09, 255.00)",
                    "rgb(0.00, 170.09, 255.00)",
                    "rgb(0.00, 170.09, 255.00)",
                    "rgb(0.00, 170.09, 255.00)",
                    "rgb(0.00, 170.09, 255.00)",
                    "rgb(0.00, 170.09, 255.00)",
                    "rgb(0.00, 170.09, 255.00)",
                    "rgb(0.00, 170.09, 255.00)",
                    "rgb(0.00, 170.09, 255.00)",
                    "rgb(0.00, 170.09, 255.00)",
                    "rgb(0.00, 170.09, 255.00)",
                    "rgb(0.00, 170.09, 255.00)",
                    "rgb(0.00, 170.09, 255.00)",
                    "rgb(0.00, 170.09, 255.00)",
                    "rgb(0.00, 170.09, 255.00)",
                    "rgb(0.00, 170.09, 255.00)",
                    "rgb(0.00, 170.09, 255.00)",
                    "rgb(0.00, 170.09, 255.00)",
                    "rgb(0.00, 170.09, 255.00)",
                    "rgb(0.00, 170.09, 255.00)",
                    "rgb(0.00, 170.09, 255.00)",
                    "rgb(0.00, 170.09, 255.00)",
                    "rgb(0.00, 170.09, 255.00)",
                    "rgb(0.00, 170.09, 255.00)",
                    "rgb(0.00, 170.09, 255.00)",
                    "rgb(0.00, 170.09, 255.00)",
                    "rgb(0.00, 170.09, 255.00)",
                    "rgb(0.00, 170.09, 255.00)",
                    "rgb(0.00, 170.09, 255.00)",
                    "rgb(0.00, 170.09, 255.00)",
                    "rgb(0.00, 170.09, 255.00)",
                    "rgb(0.00, 170.09, 255.00)",
                    "rgb(0.00, 170.09, 255.00)",
                    "rgb(0.00, 170.09, 255.00)",
                    "rgb(0.00, 170.09, 255.00)",
                    "rgb(0.00, 170.09, 255.00)",
                    "rgb(0.00, 170.09, 255.00)",
                    "rgb(0.00, 170.09, 255.00)",
                    "rgb(0.00, 170.09, 255.00)",
                    "rgb(0.00, 170.09, 255.00)",
                    "rgb(0.00, 170.09, 255.00)",
                    "rgb(0.00, 170.09, 255.00)",
                    "rgb(0.00, 170.09, 255.00)",
                    "rgb(0.00, 170.09, 255.00)",
                    "rgb(0.00, 170.09, 255.00)",
                    "rgb(0.00, 170.09, 255.00)",
                    "rgb(0.00, 170.09, 255.00)",
                    "rgb(0.00, 170.09, 255.00)",
                    "rgb(0.00, 170.09, 255.00)",
                    "rgb(0.00, 170.09, 255.00)",
                    "rgb(0.00, 170.09, 255.00)",
                    "rgb(0.00, 170.09, 255.00)",
                    "rgb(0.00, 170.09, 255.00)",
                    "rgb(0.00, 170.09, 255.00)",
                    "rgb(0.00, 170.09, 255.00)",
                    "rgb(0.00, 170.09, 255.00)",
                    "rgb(0.00, 170.09, 255.00)",
                    "rgb(0.00, 170.09, 255.00)",
                    "rgb(0.00, 170.09, 255.00)",
                    "rgb(0.00, 170.09, 255.00)",
                    "rgb(0.00, 170.09, 255.00)",
                    "rgb(0.00, 170.09, 255.00)",
                    "rgb(0.00, 170.09, 255.00)",
                    "rgb(0.00, 170.09, 255.00)",
                    "rgb(0.00, 170.09, 255.00)",
                    "rgb(0.00, 170.09, 255.00)",
                    "rgb(0.00, 170.09, 255.00)",
                    "rgb(0.00, 170.09, 255.00)",
                    "rgb(0.00, 170.09, 255.00)",
                    "rgb(0.00, 170.09, 255.00)",
                    "rgb(0.00, 170.09, 255.00)",
                    "rgb(0.00, 170.09, 255.00)",
                    "rgb(0.00, 170.09, 255.00)",
                    "rgb(0.00, 170.09, 255.00)",
                    "rgb(0.00, 170.09, 255.00)",
                    "rgb(0.00, 170.09, 255.00)",
                    "rgb(0.00, 170.09, 255.00)",
                    "rgb(0.00, 170.09, 255.00)",
                    "rgb(0.00, 170.09, 255.00)",
                    "rgb(0.00, 170.09, 255.00)",
                    "rgb(0.00, 170.09, 255.00)",
                    "rgb(0.00, 170.09, 255.00)",
                    "rgb(0.00, 170.09, 255.00)",
                    "rgb(0.00, 170.09, 255.00)",
                    "rgb(0.00, 170.09, 255.00)",
                    "rgb(0.00, 170.09, 255.00)",
                    "rgb(0.00, 170.09, 255.00)",
                    "rgb(0.00, 170.09, 255.00)",
                    "rgb(0.00, 170.09, 255.00)",
                    "rgb(0.00, 170.09, 255.00)",
                    "rgb(0.00, 170.09, 255.00)",
                    "rgb(0.00, 170.09, 255.00)",
                    "rgb(0.00, 170.09, 255.00)",
                    "rgb(0.00, 170.09, 255.00)",
                    "rgb(0.00, 170.09, 255.00)",
                    "rgb(0.00, 170.09, 255.00)",
                    "rgb(0.00, 170.09, 255.00)",
                    "rgb(0.00, 170.09, 255.00)",
                    "rgb(0.00, 170.09, 255.00)",
                    "rgb(0.00, 170.09, 255.00)",
                    "rgb(0.00, 170.09, 255.00)",
                    "rgb(0.00, 170.09, 255.00)",
                    "rgb(0.00, 170.09, 255.00)",
                    "rgb(0.00, 170.09, 255.00)",
                    "rgb(0.00, 170.09, 255.00)",
                    "rgb(0.00, 170.09, 255.00)",
                    "rgb(0.00, 170.09, 255.00)",
                    "rgb(0.00, 170.09, 255.00)",
                    "rgb(0.00, 170.09, 255.00)",
                    "rgb(0.00, 170.09, 255.00)",
                    "rgb(0.00, 170.09, 255.00)",
                    "rgb(0.00, 170.09, 255.00)",
                    "rgb(0.00, 170.09, 255.00)",
                    "rgb(0.00, 170.09, 255.00)",
                    "rgb(0.00, 170.09, 255.00)",
                    "rgb(0.00, 170.09, 255.00)",
                    "rgb(0.00, 170.09, 255.00)",
                    "rgb(0.00, 170.09, 255.00)",
                    "rgb(0.00, 170.09, 255.00)",
                    "rgb(0.00, 170.09, 255.00)",
                    "rgb(0.00, 170.09, 255.00)",
                    "rgb(0.00, 170.09, 255.00)",
                    "rgb(0.00, 170.09, 255.00)",
                    "rgb(0.00, 170.09, 255.00)",
                    "rgb(0.00, 170.09, 255.00)",
                    "rgb(0.00, 170.09, 255.00)",
                    "rgb(0.00, 170.09, 255.00)",
                    "rgb(0.00, 170.09, 255.00)",
                    "rgb(0.00, 170.09, 255.00)",
                    "rgb(0.00, 170.09, 255.00)",
                    "rgb(0.00, 170.09, 255.00)",
                    "rgb(0.00, 170.09, 255.00)",
                    "rgb(0.00, 170.09, 255.00)",
                    "rgb(0.00, 170.09, 255.00)",
                    "rgb(0.00, 170.09, 255.00)",
                    "rgb(0.00, 170.09, 255.00)",
                    "rgb(0.00, 170.09, 255.00)",
                    "rgb(0.00, 170.09, 255.00)",
                    "rgb(0.00, 170.09, 255.00)",
                    "rgb(0.00, 170.09, 255.00)",
                    "rgb(0.00, 170.09, 255.00)",
                    "rgb(0.00, 170.09, 255.00)",
                    "rgb(0.00, 170.09, 255.00)",
                    "rgb(0.00, 170.09, 255.00)",
                    "rgb(0.00, 170.09, 255.00)",
                    "rgb(0.00, 170.09, 255.00)",
                    "rgb(0.00, 170.09, 255.00)",
                    "rgb(0.00, 170.09, 255.00)",
                    "rgb(0.00, 170.09, 255.00)",
                    "rgb(0.00, 170.09, 255.00)",
                    "rgb(0.00, 170.09, 255.00)",
                    "rgb(0.00, 170.09, 255.00)",
                    "rgb(0.00, 170.09, 255.00)",
                    "rgb(0.00, 170.09, 255.00)",
                    "rgb(0.00, 170.09, 255.00)",
                    "rgb(0.00, 170.09, 255.00)",
                    "rgb(0.00, 170.09, 255.00)",
                    "rgb(0.00, 170.09, 255.00)",
                    "rgb(0.00, 170.09, 255.00)",
                    "rgb(0.00, 170.09, 255.00)",
                    "rgb(0.00, 170.09, 255.00)",
                    "rgb(0.00, 170.09, 255.00)",
                    "rgb(0.00, 170.09, 255.00)",
                    "rgb(0.00, 170.09, 255.00)",
                    "rgb(0.00, 170.09, 255.00)",
                    "rgb(0.00, 170.09, 255.00)",
                    "rgb(0.00, 170.09, 255.00)",
                    "rgb(0.00, 170.09, 255.00)",
                    "rgb(0.00, 170.09, 255.00)",
                    "rgb(0.00, 170.09, 255.00)",
                    "rgb(0.00, 170.09, 255.00)",
                    "rgb(0.00, 170.09, 255.00)",
                    "rgb(0.00, 170.09, 255.00)",
                    "rgb(0.00, 170.09, 255.00)",
                    "rgb(0.00, 170.09, 255.00)",
                    "rgb(0.00, 170.09, 255.00)",
                    "rgb(0.00, 170.09, 255.00)",
                    "rgb(0.00, 170.09, 255.00)",
                    "rgb(0.00, 170.09, 255.00)",
                    "rgb(0.00, 170.09, 255.00)",
                    "rgb(0.00, 170.09, 255.00)",
                    "rgb(0.00, 170.09, 255.00)",
                    "rgb(0.00, 170.09, 255.00)",
                    "rgb(0.00, 170.09, 255.00)",
                    "rgb(0.00, 170.09, 255.00)",
                    "rgb(0.00, 170.09, 255.00)",
                    "rgb(0.00, 170.09, 255.00)",
                    "rgb(0.00, 170.09, 255.00)",
                    "rgb(0.00, 170.09, 255.00)",
                    "rgb(0.00, 170.09, 255.00)",
                    "rgb(0.00, 170.09, 255.00)",
                    "rgb(0.00, 170.09, 255.00)",
                    "rgb(0.00, 170.09, 255.00)",
                    "rgb(0.00, 170.09, 255.00)",
                    "rgb(0.00, 170.09, 255.00)",
                    "rgb(0.00, 170.09, 255.00)",
                    "rgb(0.00, 170.09, 255.00)",
                    "rgb(0.00, 170.09, 255.00)",
                    "rgb(0.00, 170.09, 255.00)",
                    "rgb(0.00, 170.09, 255.00)",
                    "rgb(0.00, 170.09, 255.00)",
                    "rgb(0.00, 170.09, 255.00)",
                    "rgb(0.00, 170.09, 255.00)",
                    "rgb(0.00, 170.09, 255.00)",
                    "rgb(0.00, 170.09, 255.00)",
                    "rgb(0.00, 170.09, 255.00)",
                    "rgb(0.00, 170.09, 255.00)",
                    "rgb(0.00, 170.09, 255.00)",
                    "rgb(0.00, 170.09, 255.00)",
                    "rgb(0.00, 170.09, 255.00)",
                    "rgb(0.00, 170.09, 255.00)",
                    "rgb(0.00, 170.09, 255.00)",
                    "rgb(0.00, 170.09, 255.00)",
                    "rgb(0.00, 170.09, 255.00)",
                    "rgb(0.00, 170.09, 255.00)",
                    "rgb(0.00, 170.09, 255.00)",
                    "rgb(0.00, 170.09, 255.00)",
                    "rgb(0.00, 170.09, 255.00)",
                    "rgb(0.00, 170.09, 255.00)",
                    "rgb(0.00, 170.09, 255.00)",
                    "rgb(0.00, 170.09, 255.00)",
                    "rgb(0.00, 170.09, 255.00)",
                    "rgb(0.00, 170.09, 255.00)",
                    "rgb(0.00, 170.09, 255.00)",
                    "rgb(0.00, 170.09, 255.00)",
                    "rgb(0.00, 170.09, 255.00)",
                    "rgb(0.00, 170.09, 255.00)",
                    "rgb(0.00, 170.09, 255.00)",
                    "rgb(0.00, 170.09, 255.00)",
                    "rgb(0.00, 170.09, 255.00)",
                    "rgb(0.00, 170.09, 255.00)",
                    "rgb(0.00, 170.09, 255.00)",
                    "rgb(0.00, 170.09, 255.00)",
                    "rgb(0.00, 170.09, 255.00)",
                    "rgb(0.00, 170.09, 255.00)",
                    "rgb(0.00, 170.09, 255.00)",
                    "rgb(0.00, 170.09, 255.00)",
                    "rgb(0.00, 170.09, 255.00)",
                    "rgb(0.00, 170.09, 255.00)",
                    "rgb(0.00, 170.09, 255.00)",
                    "rgb(0.00, 170.09, 255.00)",
                    "rgb(0.00, 170.09, 255.00)",
                    "rgb(0.00, 170.09, 255.00)",
                    "rgb(0.00, 170.09, 255.00)",
                    "rgb(0.00, 170.09, 255.00)",
                    "rgb(0.00, 170.09, 255.00)",
                    "rgb(0.00, 170.09, 255.00)",
                    "rgb(0.00, 170.09, 255.00)",
                    "rgb(0.00, 170.09, 255.00)",
                    "rgb(0.00, 170.09, 255.00)",
                    "rgb(0.00, 170.09, 255.00)",
                    "rgb(0.00, 170.09, 255.00)",
                    "rgb(0.00, 170.09, 255.00)",
                    "rgb(0.00, 170.09, 255.00)",
                    "rgb(0.00, 170.09, 255.00)",
                    "rgb(0.00, 170.09, 255.00)",
                    "rgb(0.00, 170.09, 255.00)",
                    "rgb(0.00, 170.09, 255.00)",
                    "rgb(0.00, 170.09, 255.00)",
                    "rgb(0.00, 170.09, 255.00)",
                    "rgb(0.00, 170.09, 255.00)",
                    "rgb(0.00, 170.09, 255.00)",
                    "rgb(0.00, 170.09, 255.00)",
                    "rgb(0.00, 170.09, 255.00)",
                    "rgb(0.00, 170.09, 255.00)",
                    "rgb(0.00, 170.09, 255.00)",
                    "rgb(0.00, 170.09, 255.00)",
                    "rgb(0.00, 170.09, 255.00)",
                    "rgb(0.00, 170.09, 255.00)",
                    "rgb(0.00, 170.09, 255.00)",
                    "rgb(0.00, 170.09, 255.00)",
                    "rgb(0.00, 170.09, 255.00)",
                    "rgb(0.00, 170.09, 255.00)",
                    "rgb(0.00, 170.09, 255.00)",
                    "rgb(0.00, 170.09, 255.00)",
                    "rgb(0.00, 170.09, 255.00)",
                    "rgb(0.00, 170.09, 255.00)",
                    "rgb(0.00, 170.09, 255.00)",
                    "rgb(0.00, 170.09, 255.00)",
                    "rgb(0.00, 170.09, 255.00)",
                    "rgb(0.00, 170.09, 255.00)",
                    "rgb(0.00, 170.09, 255.00)",
                    "rgb(0.00, 170.09, 255.00)",
                    "rgb(0.00, 170.09, 255.00)",
                    "rgb(0.00, 170.09, 255.00)",
                    "rgb(0.00, 170.09, 255.00)",
                    "rgb(0.00, 170.09, 255.00)",
                    "rgb(0.00, 170.09, 255.00)",
                    "rgb(0.00, 170.09, 255.00)",
                    "rgb(0.00, 170.09, 255.00)",
                    "rgb(0.00, 170.09, 255.00)",
                    "rgb(0.00, 170.09, 255.00)",
                    "rgb(0.00, 170.09, 255.00)",
                    "rgb(0.00, 170.09, 255.00)",
                    "rgb(0.00, 170.09, 255.00)",
                    "rgb(0.00, 170.09, 255.00)",
                    "rgb(0.00, 170.09, 255.00)",
                    "rgb(0.00, 170.09, 255.00)",
                    "rgb(0.00, 170.09, 255.00)",
                    "rgb(0.00, 170.09, 255.00)",
                    "rgb(0.00, 170.09, 255.00)",
                    "rgb(0.00, 170.09, 255.00)",
                    "rgb(0.00, 170.09, 255.00)",
                    "rgb(0.00, 170.09, 255.00)",
                    "rgb(0.00, 170.09, 255.00)",
                    "rgb(0.00, 170.09, 255.00)",
                    "rgb(0.00, 170.09, 255.00)",
                    "rgb(0.00, 170.09, 255.00)",
                    "rgb(0.00, 170.09, 255.00)",
                    "rgb(0.00, 170.09, 255.00)",
                    "rgb(0.00, 170.09, 255.00)",
                    "rgb(0.00, 170.09, 255.00)",
                    "rgb(0.00, 170.09, 255.00)",
                    "rgb(0.00, 170.09, 255.00)",
                    "rgb(0.00, 170.09, 255.00)",
                    "rgb(0.00, 170.09, 255.00)",
                    "rgb(0.00, 170.09, 255.00)",
                    "rgb(0.00, 170.09, 255.00)",
                    "rgb(0.00, 170.09, 255.00)",
                    "rgb(0.00, 170.09, 255.00)",
                    "rgb(0.00, 170.09, 255.00)",
                    "rgb(0.00, 170.09, 255.00)",
                    "rgb(0.00, 170.09, 255.00)",
                    "rgb(0.00, 170.09, 255.00)",
                    "rgb(0.00, 170.09, 255.00)",
                    "rgb(0.00, 170.09, 255.00)",
                    "rgb(0.00, 170.09, 255.00)",
                    "rgb(0.00, 170.09, 255.00)",
                    "rgb(0.00, 170.09, 255.00)",
                    "rgb(0.00, 170.09, 255.00)",
                    "rgb(0.00, 170.09, 255.00)",
                    "rgb(0.00, 170.09, 255.00)",
                    "rgb(0.00, 255.00, 255.00)",
                    "rgb(0.00, 255.00, 255.00)",
                    "rgb(0.00, 255.00, 255.00)",
                    "rgb(0.00, 255.00, 255.00)",
                    "rgb(0.00, 255.00, 255.00)",
                    "rgb(0.00, 255.00, 255.00)",
                    "rgb(0.00, 255.00, 255.00)",
                    "rgb(0.00, 255.00, 255.00)",
                    "rgb(0.00, 255.00, 255.00)",
                    "rgb(0.00, 255.00, 255.00)",
                    "rgb(0.00, 255.00, 255.00)",
                    "rgb(0.00, 255.00, 255.00)",
                    "rgb(0.00, 255.00, 255.00)",
                    "rgb(0.00, 255.00, 255.00)",
                    "rgb(0.00, 255.00, 255.00)",
                    "rgb(0.00, 255.00, 255.00)",
                    "rgb(0.00, 255.00, 255.00)",
                    "rgb(0.00, 255.00, 255.00)",
                    "rgb(0.00, 255.00, 255.00)",
                    "rgb(0.00, 255.00, 255.00)",
                    "rgb(0.00, 255.00, 255.00)",
                    "rgb(0.00, 255.00, 255.00)",
                    "rgb(0.00, 255.00, 255.00)",
                    "rgb(0.00, 255.00, 255.00)",
                    "rgb(0.00, 255.00, 255.00)",
                    "rgb(0.00, 255.00, 255.00)",
                    "rgb(0.00, 255.00, 255.00)",
                    "rgb(0.00, 255.00, 255.00)",
                    "rgb(0.00, 255.00, 255.00)",
                    "rgb(0.00, 255.00, 255.00)",
                    "rgb(0.00, 255.00, 255.00)",
                    "rgb(0.00, 255.00, 255.00)",
                    "rgb(0.00, 255.00, 255.00)",
                    "rgb(0.00, 255.00, 255.00)",
                    "rgb(0.00, 255.00, 255.00)",
                    "rgb(0.00, 255.00, 255.00)",
                    "rgb(0.00, 255.00, 255.00)",
                    "rgb(0.00, 255.00, 255.00)",
                    "rgb(0.00, 255.00, 255.00)",
                    "rgb(0.00, 255.00, 255.00)",
                    "rgb(0.00, 255.00, 255.00)",
                    "rgb(0.00, 255.00, 255.00)",
                    "rgb(0.00, 255.00, 255.00)",
                    "rgb(0.00, 255.00, 255.00)",
                    "rgb(0.00, 255.00, 255.00)",
                    "rgb(0.00, 255.00, 255.00)",
                    "rgb(0.00, 255.00, 255.00)",
                    "rgb(0.00, 255.00, 255.00)",
                    "rgb(0.00, 255.00, 255.00)",
                    "rgb(0.00, 255.00, 255.00)",
                    "rgb(0.00, 255.00, 255.00)",
                    "rgb(0.00, 255.00, 255.00)",
                    "rgb(0.00, 255.00, 255.00)",
                    "rgb(0.00, 255.00, 255.00)",
                    "rgb(0.00, 255.00, 255.00)",
                    "rgb(0.00, 255.00, 255.00)",
                    "rgb(0.00, 255.00, 255.00)",
                    "rgb(0.00, 255.00, 255.00)",
                    "rgb(0.00, 255.00, 255.00)",
                    "rgb(0.00, 255.00, 255.00)",
                    "rgb(0.00, 255.00, 255.00)",
                    "rgb(0.00, 255.00, 255.00)",
                    "rgb(0.00, 255.00, 255.00)",
                    "rgb(0.00, 255.00, 255.00)",
                    "rgb(0.00, 255.00, 255.00)",
                    "rgb(0.00, 255.00, 255.00)",
                    "rgb(0.00, 255.00, 255.00)",
                    "rgb(0.00, 255.00, 255.00)",
                    "rgb(0.00, 255.00, 255.00)",
                    "rgb(0.00, 255.00, 255.00)",
                    "rgb(0.00, 255.00, 255.00)",
                    "rgb(0.00, 255.00, 255.00)",
                    "rgb(0.00, 255.00, 255.00)",
                    "rgb(0.00, 255.00, 255.00)",
                    "rgb(0.00, 255.00, 255.00)",
                    "rgb(0.00, 255.00, 255.00)",
                    "rgb(0.00, 255.00, 255.00)",
                    "rgb(0.00, 255.00, 255.00)",
                    "rgb(0.00, 255.00, 255.00)",
                    "rgb(0.00, 255.00, 255.00)",
                    "rgb(0.00, 255.00, 255.00)",
                    "rgb(0.00, 255.00, 255.00)",
                    "rgb(0.00, 255.00, 255.00)",
                    "rgb(0.00, 255.00, 255.00)",
                    "rgb(0.00, 255.00, 255.00)",
                    "rgb(0.00, 255.00, 255.00)",
                    "rgb(0.00, 255.00, 255.00)",
                    "rgb(0.00, 255.00, 255.00)",
                    "rgb(0.00, 255.00, 255.00)",
                    "rgb(0.00, 255.00, 255.00)",
                    "rgb(0.00, 255.00, 255.00)",
                    "rgb(0.00, 255.00, 255.00)",
                    "rgb(0.00, 255.00, 255.00)",
                    "rgb(0.00, 255.00, 255.00)",
                    "rgb(0.00, 255.00, 255.00)",
                    "rgb(0.00, 255.00, 255.00)"
                  ],
                  "x": {
                    "bdata": "AAAAAAAgaUDbp68AAABpQAAAAAAA4GhA1Wjv/v//aEAAAAAAACBpQNunrwAAAGlAAAAAAADgaEDVaO/+//9oQAAAAAAAAGlAAAAAAAAAaUAAAAAAAABpQAAAAAAAAGlAAAAAAAAAakAAAAAAAABqQAAAAAAAAGpAAAAAAAAAakAAAAAAAOBpQCVYUP///2lAAAAAAAAgakArlxABAABqQAAAAAAA4GlAJVhQ////aUAAAAAAACBqQCuXEAEAAGpAAAAAAAAAakAAAAAAAABqQAAAAAAAAGpAAAAAAAAAakAAAAAAAABpQAAAAAAAAGlAAAAAAAAAaUAAAAAAAABpQMSAmWFf6WhA7cqD////aEA8f2aeoBZpQCfAwAAAAGlAq6isDsEzaUCMx7z//z9pQFVXU/E+TGlA3VBoAABAaUAAAAAAAMBpQAAAAAAAwGlAAAAAAADAaUAAAAAAAMBpQAAAAAAAoGlAJVhQ//+/aUAAAAAAAOBpQCuXEAEAwGlAAAAAAACgaUAlWFD//79pQAAAAAAA4GlAK5cQAQDAaUAAAAAAAMBpQAAAAAAAwGlAAAAAAADAaUAAAAAAAMBpQAAAAAAAQGlAAAAAAABAaUAAAAAAAEBpQAAAAAAAQGlAAAAAAAAgaUAlWFD//z9pQAAAAAAAYGlAK5cQAQBAaUAAAAAAACBpQCVYUP//P2lAAAAAAABgaUArlxABAEBpQAAAAAAAQGlAAAAAAABAaUAAAAAAAEBpQAAAAAAAQGlAAAAAAADAaUAAAAAAAMBpQAAAAAAAwGlAAAAAAADAaUAAAAAAAKBpQCVYUP//v2lAAAAAAADgaUArlxABAMBpQAAAAAAAoGlAJVhQ//+/aUAAAAAAAOBpQCuXEAEAwGlAAAAAAADAaUAAAAAAAMBpQAAAAAAAwGlAAAAAAADAaUAAAAAAAEBpQAAAAAAAQGlAAAAAAABAaUAAAAAAAEBpQAAAAAAAIGlAJVhQ//8/aUAAAAAAAGBpQCuXEAEAQGlAAAAAAAAgaUAlWFD//z9pQAAAAAAAYGlAK5cQAQBAaUAAAAAAAEBpQAAAAAAAQGlAAAAAAABAaUAAAAAAAEBpQAAAAAAAwGlAAAAAAADAaUAAAAAAAMBpQAAAAAAAwGlAAAAAAACgaUAlWFD//79pQAAAAAAA4GlAK5cQAQDAaUAAAAAAAKBpQCVYUP//v2lAAAAAAADgaUArlxABAMBpQAAAAAAAwGlAAAAAAADAaUAAAAAAAMBpQAAAAAAAwGlAAAAAAABAaUAAAAAAAEBpQAAAAAAAQGlAAAAAAABAaUAAAAAAACBpQCVYUP//P2lAAAAAAABgaUArlxABAEBpQAAAAAAAIGlAJVhQ//8/aUAAAAAAAGBpQCuXEAEAQGlAAAAAAABAaUAAAAAAAEBpQAAAAAAAQGlAAAAAAABAaUAAAAAAAMBpQAAAAAAAwGlAAAAAAADAaUAAAAAAAMBpQAAAAAAAoGlAJVhQ//+/aUAAAAAAAOBpQCuXEAEAwGlAAAAAAACgaUAlWFD//79pQAAAAAAA4GlAK5cQAQDAaUAAAAAAAMBpQAAAAAAAwGlAAAAAAADAaUAAAAAAAMBpQAAAAAAAQGlAAAAAAABAaUAAAAAAAEBpQAAAAAAAQGlAAAAAAAAgaUAlWFD//z9pQAAAAAAAYGlAK5cQAQBAaUAAAAAAACBpQCVYUP//P2lAAAAAAABgaUArlxABAEBpQAAAAAAAQGlAAAAAAABAaUAAAAAAAEBpQAAAAAAAQGlAAAAAAADAaUAAAAAAAMBpQAAAAAAAwGlAAAAAAADAaUAAAAAAAKBpQCVYUP//v2lAAAAAAADgaUArlxABAMBpQAAAAAAAoGlAJVhQ//+/aUAAAAAAAOBpQCuXEAEAwGlAAAAAAADAaUAAAAAAAMBpQAAAAAAAwGlAAAAAAADAaUAAAAAAAEBpQAAAAAAAQGlAAAAAAABAaUAAAAAAAEBpQAAAAAAAIGlAJVhQ//8/aUAAAAAAAGBpQCuXEAEAQGlAAAAAAAAgaUAlWFD//z9pQAAAAAAAYGlAK5cQAQBAaUAAAAAAAEBpQAAAAAAAQGlAAAAAAABAaUAAAAAAAEBpQAAAAAAAwGlAAAAAAADAaUAAAAAAAMBpQAAAAAAAwGlAAAAAAACgaUAlWFD//79pQAAAAAAA4GlAK5cQAQDAaUAAAAAAAKBpQCVYUP//v2lAAAAAAADgaUArlxABAMBpQAAAAAAAwGlAAAAAAADAaUAAAAAAAMBpQAAAAAAAwGlAAAAAAABAaUAAAAAAAEBpQAAAAAAAQGlAAAAAAABAaUAAAAAAACBpQCVYUP//P2lAAAAAAABgaUArlxABAEBpQAAAAAAAIGlAJVhQ//8/aUAAAAAAAGBpQCuXEAEAQGlAAAAAAABAaUAAAAAAAEBpQAAAAAAAQGlAAAAAAABAaUAAAAAAAMBpQAAAAAAAwGlAAAAAAADAaUAAAAAAAMBpQAAAAAAAoGlAJVhQ//+/aUAAAAAAAOBpQCuXEAEAwGlAAAAAAACgaUAlWFD//79pQAAAAAAA4GlAK5cQAQDAaUAAAAAAAMBpQAAAAAAAwGlAAAAAAADAaUAAAAAAAMBpQAAAAAAAQGlAAAAAAABAaUAAAAAAAEBpQAAAAAAAQGlAAAAAAAAgaUAlWFD//z9pQAAAAAAAYGlAK5cQAQBAaUAAAAAAACBpQCVYUP//P2lAAAAAAABgaUArlxABAEBpQAAAAAAAQGlAAAAAAABAaUAAAAAAAEBpQAAAAAAAQGlAAAAAAADAaUAAAAAAAMBpQAAAAAAAwGlAAAAAAADAaUAAAAAAAKBpQCVYUP//v2lAAAAAAADgaUArlxABAMBpQAAAAAAAoGlAJVhQ//+/aUAAAAAAAOBpQCuXEAEAwGlAAAAAAADAaUAAAAAAAMBpQAAAAAAAwGlAAAAAAADAaUAAAAAAAEBpQAAAAAAAQGlAAAAAAABAaUAAAAAAAEBpQAAAAAAAIGlAJVhQ//8/aUAAAAAAAGBpQCuXEAEAQGlAAAAAAAAgaUAlWFD//z9pQAAAAAAAYGlAK5cQAQBAaUAAAAAAAEBpQAAAAAAAQGlAAAAAAABAaUAAAAAAAEBpQAAAAAAAwGlAAAAAAADAaUAAAAAAAMBpQAAAAAAAwGlAAAAAAACgaUAlWFD//79pQAAAAAAA4GlAK5cQAQDAaUAAAAAAAKBpQCVYUP//v2lAAAAAAADgaUArlxABAMBpQAAAAAAAwGlAAAAAAADAaUAAAAAAAMBpQAAAAAAAwGlAAAAAAABAaUAAAAAAAEBpQAAAAAAAQGlAAAAAAABAaUAAAAAAACBpQCVYUP//P2lAAAAAAABgaUArlxABAEBpQAAAAAAAIGlAJVhQ//8/aUAAAAAAAGBpQCuXEAEAQGlAAAAAAABAaUAAAAAAAEBpQAAAAAAAQGlAAAAAAABAaUAAAAAAAMBpQAAAAAAAwGlAAAAAAADAaUAAAAAAAMBpQAAAAAAAoGlAJVhQ//+/aUAAAAAAAOBpQCuXEAEAwGlAAAAAAACgaUAlWFD//79pQAAAAAAA4GlAK5cQAQDAaUAAAAAAAMBpQAAAAAAAwGlAAAAAAADAaUAAAAAAAMBpQAAAAAAAQGlAAAAAAABAaUAAAAAAAEBpQAAAAAAAQGlAAAAAAAAgaUAlWFD//z9pQAAAAAAAYGlAK5cQAQBAaUAAAAAAACBpQCVYUP//P2lAAAAAAABgaUArlxABAEBpQAAAAAAAQGlAAAAAAABAaUAAAAAAAEBpQAAAAAAAQGlAAAAAAADAaUAAAAAAAMBpQAAAAAAAwGlAAAAAAADAaUAAAAAAAKBpQCVYUP//v2lAAAAAAADgaUArlxABAMBpQAAAAAAAoGlAJVhQ//+/aUAAAAAAAOBpQCuXEAEAwGlAAAAAAADAaUAAAAAAAMBpQAAAAAAAwGlAAAAAAADAaUAAAAAAAEBpQAAAAAAAQGlAAAAAAABAaUAAAAAAAEBpQAAAAAAAIGlAJVhQ//8/aUAAAAAAAGBpQCuXEAEAQGlAAAAAAAAgaUAlWFD//z9pQAAAAAAAYGlAK5cQAQBAaUAAAAAAAEBpQAAAAAAAQGlAAAAAAABAaUAAAAAAAEBpQAAAAAAAwGlAAAAAAADAaUAAAAAAAMBpQAAAAAAAwGlAAAAAAACgaUAlWFD//79pQAAAAAAA4GlAK5cQAQDAaUAAAAAAAKBpQCVYUP//v2lAAAAAAADgaUArlxABAMBpQAAAAAAAwGlAAAAAAADAaUAAAAAAAMBpQAAAAAAAwGlAAAAAAABAaUAAAAAAAEBpQAAAAAAAQGlAAAAAAABAaUAAAAAAACBpQCVYUP//P2lAAAAAAABgaUArlxABAEBpQAAAAAAAIGlAJVhQ//8/aUAAAAAAAGBpQCuXEAEAQGlAAAAAAABAaUAAAAAAAEBpQAAAAAAAQGlAAAAAAABAaUAAAAAAAMBpQAAAAAAAwGlAAAAAAADAaUAAAAAAAMBpQAAAAAAAoGlAJVhQ//+/aUAAAAAAAOBpQCuXEAEAwGlAAAAAAACgaUAlWFD//79pQAAAAAAA4GlAK5cQAQDAaUAAAAAAAMBpQAAAAAAAwGlAAAAAAADAaUAAAAAAAMBpQAAAAAAAQGlAAAAAAABAaUAAAAAAAEBpQAAAAAAAQGlAAAAAAAAgaUAlWFD//z9pQAAAAAAAYGlAK5cQAQBAaUAAAAAAACBpQCVYUP//P2lAAAAAAABgaUArlxABAEBpQAAAAAAAQGlAAAAAAABAaUAAAAAAAEBpQAAAAAAAQGlAAAAAAADAaUAAAAAAAMBpQAAAAAAAwGlAAAAAAADAaUAAAAAAAKBpQCVYUP//v2lAAAAAAADgaUArlxABAMBpQAAAAAAAoGlAJVhQ//+/aUAAAAAAAOBpQCuXEAEAwGlAAAAAAADAaUAAAAAAAMBpQAAAAAAAwGlAAAAAAADAaUAAAAAAAEBpQAAAAAAAQGlAAAAAAABAaUAAAAAAAEBpQAAAAAAAIGlAJVhQ//8/aUAAAAAAAGBpQCuXEAEAQGlAAAAAAAAgaUAlWFD//z9pQAAAAAAAYGlAK5cQAQBAaUAAAAAAAEBpQAAAAAAAQGlAAAAAAABAaUAAAAAAAEBpQAAAAAAAwGlAAAAAAADAaUAAAAAAAMBpQAAAAAAAwGlAAAAAAACgaUAlWFD//79pQAAAAAAA4GlAK5cQAQDAaUAAAAAAAKBpQCVYUP//v2lAAAAAAADgaUArlxABAMBpQAAAAAAAwGlAAAAAAADAaUAAAAAAAMBpQAAAAAAAwGlAAAAAAABAaUAAAAAAAEBpQAAAAAAAQGlAAAAAAABAaUAAAAAAACBpQCVYUP//P2lAAAAAAABgaUArlxABAEBpQAAAAAAAIGlAJVhQ//8/aUAAAAAAAGBpQCuXEAEAQGlAAAAAAABAaUAAAAAAAEBpQAAAAAAAQGlAAAAAAABAaUAAAAAAAMBpQAAAAAAAwGlAAAAAAADAaUAAAAAAAMBpQAAAAAAAoGlAJVhQ//+/aUAAAAAAAOBpQCuXEAEAwGlAAAAAAACgaUAlWFD//79pQAAAAAAA4GlAK5cQAQDAaUAAAAAAAMBpQAAAAAAAwGlAAAAAAADAaUAAAAAAAMBpQAAAAAAAQGlAAAAAAABAaUAAAAAAAEBpQAAAAAAAQGlAAAAAAAAgaUAlWFD//z9pQAAAAAAAYGlAK5cQAQBAaUAAAAAAACBpQCVYUP//P2lAAAAAAABgaUArlxABAEBpQAAAAAAAQGlAAAAAAABAaUAAAAAAAEBpQAAAAAAAQGlAAAAAAADAaUAAAAAAAMBpQAAAAAAAwGlAAAAAAADAaUAAAAAAAKBpQCVYUP//v2lAAAAAAADgaUArlxABAMBpQAAAAAAAoGlAJVhQ//+/aUAAAAAAAOBpQCuXEAEAwGlAAAAAAADAaUAAAAAAAMBpQAAAAAAAwGlAAAAAAADAaUAAAAAAAEBpQAAAAAAAQGlAAAAAAABAaUAAAAAAAEBpQAAAAAAAIGlAJVhQ//8/aUAAAAAAAGBpQCuXEAEAQGlAAAAAAAAgaUAlWFD//z9pQAAAAAAAYGlAK5cQAQBAaUAAAAAAAEBpQAAAAAAAQGlAAAAAAABAaUAAAAAAAEBpQAAAAAAAwGlAAAAAAADAaUAAAAAAAMBpQAAAAAAAwGlAAAAAAACgaUAlWFD//79pQAAAAAAA4GlAK5cQAQDAaUAAAAAAAKBpQCVYUP//v2lAAAAAAADgaUArlxABAMBpQAAAAAAAwGlAAAAAAADAaUAAAAAAAMBpQAAAAAAAwGlAAAAAAABAaUAAAAAAAEBpQAAAAAAAQGlAAAAAAABAaUAAAAAAACBpQCVYUP//P2lAAAAAAABgaUArlxABAEBpQAAAAAAAIGlAJVhQ//8/aUAAAAAAAGBpQCuXEAEAQGlAAAAAAABAaUAAAAAAAEBpQAAAAAAAQGlAAAAAAABAaUAAAAAAAMBpQAAAAAAAwGlAAAAAAADAaUAAAAAAAMBpQAAAAAAAoGlAJVhQ//+/aUAAAAAAAOBpQCuXEAEAwGlAAAAAAACgaUAlWFD//79pQAAAAAAA4GlAK5cQAQDAaUAAAAAAAMBpQAAAAAAAwGlAAAAAAADAaUAAAAAAAMBpQAAAAAAAQGlAAAAAAABAaUAAAAAAAEBpQAAAAAAAQGlAAAAAAAAgaUAlWFD//z9pQAAAAAAAYGlAK5cQAQBAaUAAAAAAACBpQCVYUP//P2lAAAAAAABgaUArlxABAEBpQAAAAAAAQGlAAAAAAABAaUAAAAAAAEBpQAAAAAAAQGlAAAAAAADAaUAAAAAAAMBpQAAAAAAAwGlAAAAAAADAaUAAAAAAAKBpQCVYUP//v2lAAAAAAADgaUArlxABAMBpQAAAAAAAoGlAJVhQ//+/aUAAAAAAAOBpQCuXEAEAwGlAAAAAAADAaUAAAAAAAMBpQAAAAAAAwGlAAAAAAADAaUAAAAAAAEBpQAAAAAAAQGlAAAAAAABAaUAAAAAAAEBpQAAAAAAAIGlAJVhQ//8/aUAAAAAAAGBpQCuXEAEAQGlAAAAAAAAgaUAlWFD//z9pQAAAAAAAYGlAK5cQAQBAaUAAAAAAAEBpQAAAAAAAQGlAAAAAAABAaUAAAAAAAEBpQAAAAAAAwGlAAAAAAADAaUAAAAAAAMBpQAAAAAAAwGlAAAAAAACgaUAlWFD//79pQAAAAAAA4GlAK5cQAQDAaUAAAAAAAKBpQCVYUP//v2lAAAAAAADgaUArlxABAMBpQAAAAAAAwGlAAAAAAADAaUAAAAAAAMBpQAAAAAAAwGlAAAAAAABAaUAAAAAAAEBpQAAAAAAAQGlAAAAAAABAaUAAAAAAACBpQCVYUP//P2lAAAAAAABgaUArlxABAEBpQAAAAAAAIGlAJVhQ//8/aUAAAAAAAGBpQCuXEAEAQGlAAAAAAABAaUAAAAAAAEBpQAAAAAAAQGlAAAAAAABAaUAAAAAAAMBpQAAAAAAAwGlAAAAAAADAaUAAAAAAAMBpQAAAAAAAoGlAJVhQ//+/aUAAAAAAAOBpQCuXEAEAwGlAAAAAAACgaUAlWFD//79pQAAAAAAA4GlAK5cQAQDAaUAAAAAAAMBpQAAAAAAAwGlAAAAAAADAaUAAAAAAAMBpQAAAAAAAQGlAAAAAAABAaUAAAAAAAEBpQAAAAAAAQGlAJSSxiR5KaUDml2zF2DZpQJ+PDHbhNWlAz8B0OidJaUAlJLGJHgpqQOaXbMXY9mlAn48MduH1aUDPwHQ6JwlqQAAAAAAAIGpA26evAAAAakAAAAAAAOBpQNVo7/7//2lAAAAAAAAgakDbp68AAABqQAAAAAAA4GlA1Wjv/v//aUAAAAAAAABqQAAAAAAAAGpAAAAAAAAAakAAAAAAAABqQAAAAAAAAGlAAAAAAAAAaUAAAAAAAABpQAAAAAAAAGlAAAAAAADgaEAlWFD///9oQAAAAAAAIGlAK5cQAQAAaUAAAAAAAOBoQCVYUP///2hAAAAAAAAgaUArlxABAABpQAAAAAAAAGlAAAAAAAAAaUAAAAAAAABpQAAAAAAAAGlAAAAAAAAAakAAAAAAAABqQAAAAAAAAGpAAAAAAAAAakDEgJlhX+lpQO3Kg////2lAPH9mnqAWakAnwMAAAABqQHPNMJRvomlAHrdd//+/aUCNMs9rkN1pQD7X+wAAwGlAAAAAAACgaUAlWFD//79pQAAAAAAA4GlAK5cQAQDAaUAAAAAAAMBpQAAAAAAAwGlAAAAAAADAaUAAAAAAAMBpQAAAAAAAgGlAAAAAAACAaUAAAAAAAIBpQAAAAAAAgGlAAAAAAACgaUDbp68AAIBpQAAAAAAAYGlA1Wjv/v9/aUAAAAAAAKBpQNunrwAAgGlAAAAAAABgaUDVaO/+/39pQAAAAAAAgGlAAAAAAACAaUAAAAAAAIBpQAAAAAAAgGlAAAAAAABAaUAAAAAAAEBpQAAAAAAAQGlAAAAAAABAaUAAAAAAACBpQCVYUP//P2lAAAAAAABgaUArlxABAEBpQAAAAAAAIGlAJVhQ//8/aUAAAAAAAGBpQCuXEAEAQGlAAAAAAABAaUAAAAAAAEBpQAAAAAAAQGlAAAAAAABAaUAAAAAAAABpQAAAAAAAAGlAAAAAAAAAaUAAAAAAAABpQAAAAAAAIGlA26evAAAAaUAAAAAAAOBoQNVo7/7//2hAAAAAAAAgaUDbp68AAABpQAAAAAAA4GhA1Wjv/v//aEAAAAAAACBpQNunrwAAAGlAAAAAAADgaEDVaO/+//9oQAAAAAAAIGlA26evAAAAaUAAAAAAAOBoQNVo7/7//2hAAAAAAAAgaUDbp68AAABpQAAAAAAA4GhA1Wjv/v//aEAAAAAAAABpQAAAAAAAAGlAAAAAAAAAaUAAAAAAAABpQAAAAAAAAGpAAAAAAAAAakAAAAAAAABqQAAAAAAAAGpAAAAAAADgaUAlWFD///9pQAAAAAAAIGpAK5cQAQAAakAAAAAAAOBpQCVYUP///2lAAAAAAAAgakArlxABAABqQAAAAAAAAGpAAAAAAAAAakAAAAAAAABqQAAAAAAAAGpAAAAAAAAAaUAAAAAAAABpQAAAAAAAAGlAAAAAAAAAaUDEgJlhX+loQO3Kg////2hAPH9mnqAWaUAnwMAAAABpQKuorA7BM2lAjMe8//8/aUBVV1PxPkxpQN1QaAAAQGlAAAAAAADAaUAAAAAAAMBpQAAAAAAAwGlAAAAAAADAaUAAAAAAAKBpQCVYUP//v2lAAAAAAADgaUArlxABAMBpQAAAAAAAoGlAJVhQ//+/aUAAAAAAAOBpQCuXEAEAwGlAAAAAAADAaUAAAAAAAMBpQAAAAAAAwGlAAAAAAADAaUAAAAAAAEBpQAAAAAAAQGlAAAAAAABAaUAAAAAAAEBpQAAAAAAAIGlAJVhQ//8/aUAAAAAAAGBpQCuXEAEAQGlAAAAAAAAgaUAlWFD//z9pQAAAAAAAYGlAK5cQAQBAaUAAAAAAAEBpQAAAAAAAQGlAAAAAAABAaUAAAAAAAEBpQAAAAAAAwGlAAAAAAADAaUAAAAAAAMBpQAAAAAAAwGlAAAAAAACgaUAlWFD//79pQAAAAAAA4GlAK5cQAQDAaUAAAAAAAKBpQCVYUP//v2lAAAAAAADgaUArlxABAMBpQAAAAAAAwGlAAAAAAADAaUAAAAAAAMBpQAAAAAAAwGlAAAAAAABAaUAAAAAAAEBpQAAAAAAAQGlAAAAAAABAaUAAAAAAACBpQCVYUP//P2lAAAAAAABgaUArlxABAEBpQAAAAAAAIGlAJVhQ//8/aUAAAAAAAGBpQCuXEAEAQGlAAAAAAABAaUAAAAAAAEBpQAAAAAAAQGlAAAAAAABAaUAAAAAAAMBpQAAAAAAAwGlAAAAAAADAaUAAAAAAAMBpQAAAAAAAoGlAJVhQ//+/aUAAAAAAAOBpQCuXEAEAwGlAAAAAAACgaUAlWFD//79pQAAAAAAA4GlAK5cQAQDAaUAAAAAAAMBpQAAAAAAAwGlAAAAAAADAaUAAAAAAAMBpQAAAAAAAQGlAAAAAAABAaUAAAAAAAEBpQAAAAAAAQGlAAAAAAAAgaUAlWFD//z9pQAAAAAAAYGlAK5cQAQBAaUAAAAAAACBpQCVYUP//P2lAAAAAAABgaUArlxABAEBpQAAAAAAAQGlAAAAAAABAaUAAAAAAAEBpQAAAAAAAQGlAAAAAAADAaUAAAAAAAMBpQAAAAAAAwGlAAAAAAADAaUAAAAAAAKBpQCVYUP//v2lAAAAAAADgaUArlxABAMBpQAAAAAAAoGlAJVhQ//+/aUAAAAAAAOBpQCuXEAEAwGlAAAAAAADAaUAAAAAAAMBpQAAAAAAAwGlAAAAAAADAaUAAAAAAAEBpQAAAAAAAQGlAAAAAAABAaUAAAAAAAEBpQAAAAAAAIGlAJVhQ//8/aUAAAAAAAGBpQCuXEAEAQGlAAAAAAAAgaUAlWFD//z9pQAAAAAAAYGlAK5cQAQBAaUAAAAAAAEBpQAAAAAAAQGlAAAAAAABAaUAAAAAAAEBpQAAAAAAAwGlAAAAAAADAaUAAAAAAAMBpQAAAAAAAwGlAAAAAAACgaUAlWFD//79pQAAAAAAA4GlAK5cQAQDAaUAAAAAAAKBpQCVYUP//v2lAAAAAAADgaUArlxABAMBpQAAAAAAAwGlAAAAAAADAaUAAAAAAAMBpQAAAAAAAwGlAAAAAAABAaUAAAAAAAEBpQAAAAAAAQGlAAAAAAABAaUAAAAAAACBpQCVYUP//P2lAAAAAAABgaUArlxABAEBpQAAAAAAAIGlAJVhQ//8/aUAAAAAAAGBpQCuXEAEAQGlAAAAAAABAaUAAAAAAAEBpQAAAAAAAQGlAAAAAAABAaUAAAAAAAMBpQAAAAAAAwGlAAAAAAADAaUAAAAAAAMBpQAAAAAAAoGlAJVhQ//+/aUAAAAAAAOBpQCuXEAEAwGlAAAAAAACgaUAlWFD//79pQAAAAAAA4GlAK5cQAQDAaUAAAAAAAMBpQAAAAAAAwGlAAAAAAADAaUAAAAAAAMBpQAAAAAAAQGlAAAAAAABAaUAAAAAAAEBpQAAAAAAAQGlAAAAAAAAgaUAlWFD//z9pQAAAAAAAYGlAK5cQAQBAaUAAAAAAACBpQCVYUP//P2lAAAAAAABgaUArlxABAEBpQAAAAAAAQGlAAAAAAABAaUAAAAAAAEBpQAAAAAAAQGlAAAAAAADAaUAAAAAAAMBpQAAAAAAAwGlAAAAAAADAaUAAAAAAAKBpQCVYUP//v2lAAAAAAADgaUArlxABAMBpQAAAAAAAoGlAJVhQ//+/aUAAAAAAAOBpQCuXEAEAwGlAAAAAAADAaUAAAAAAAMBpQAAAAAAAwGlAAAAAAADAaUAAAAAAAEBpQAAAAAAAQGlAAAAAAABAaUAAAAAAAEBpQAAAAAAAIGlAJVhQ//8/aUAAAAAAAGBpQCuXEAEAQGlAAAAAAAAgaUAlWFD//z9pQAAAAAAAYGlAK5cQAQBAaUAAAAAAAEBpQAAAAAAAQGlAAAAAAABAaUAAAAAAAEBpQAAAAAAAwGlAAAAAAADAaUAAAAAAAMBpQAAAAAAAwGlAAAAAAACgaUAlWFD//79pQAAAAAAA4GlAK5cQAQDAaUAAAAAAAKBpQCVYUP//v2lAAAAAAADgaUArlxABAMBpQAAAAAAAwGlAAAAAAADAaUAAAAAAAMBpQAAAAAAAwGlAAAAAAABAaUAAAAAAAEBpQAAAAAAAQGlAAAAAAABAaUAAAAAAACBpQCVYUP//P2lAAAAAAABgaUArlxABAEBpQAAAAAAAIGlAJVhQ//8/aUAAAAAAAGBpQCuXEAEAQGlAAAAAAABAaUAAAAAAAEBpQAAAAAAAQGlAAAAAAABAaUAAAAAAAMBpQAAAAAAAwGlAAAAAAADAaUAAAAAAAMBpQAAAAAAAoGlAJVhQ//+/aUAAAAAAAOBpQCuXEAEAwGlAAAAAAACgaUAlWFD//79pQAAAAAAA4GlAK5cQAQDAaUAAAAAAAMBpQAAAAAAAwGlAAAAAAADAaUAAAAAAAMBpQAAAAAAAQGlAAAAAAABAaUAAAAAAAEBpQAAAAAAAQGlAAAAAAAAgaUAlWFD//z9pQAAAAAAAYGlAK5cQAQBAaUAAAAAAACBpQCVYUP//P2lAAAAAAABgaUArlxABAEBpQAAAAAAAQGlAAAAAAABAaUAAAAAAAEBpQAAAAAAAQGlAAAAAAADAaUAAAAAAAMBpQAAAAAAAwGlAAAAAAADAaUAAAAAAAKBpQCVYUP//v2lAAAAAAADgaUArlxABAMBpQAAAAAAAoGlAJVhQ//+/aUAAAAAAAOBpQCuXEAEAwGlAAAAAAADAaUAAAAAAAMBpQAAAAAAAwGlAAAAAAADAaUAAAAAAAEBpQAAAAAAAQGlAAAAAAABAaUAAAAAAAEBpQAAAAAAAIGlAJVhQ//8/aUAAAAAAAGBpQCuXEAEAQGlAAAAAAAAgaUAlWFD//z9pQAAAAAAAYGlAK5cQAQBAaUAAAAAAAEBpQAAAAAAAQGlAAAAAAABAaUAAAAAAAEBpQAAAAAAAwGlAAAAAAADAaUAAAAAAAMBpQAAAAAAAwGlAAAAAAACgaUAlWFD//79pQAAAAAAA4GlAK5cQAQDAaUAAAAAAAKBpQCVYUP//v2lAAAAAAADgaUArlxABAMBpQAAAAAAAwGlAAAAAAADAaUAAAAAAAMBpQAAAAAAAwGlAAAAAAABAaUAAAAAAAEBpQAAAAAAAQGlAAAAAAABAaUAAAAAAACBpQCVYUP//P2lAAAAAAABgaUArlxABAEBpQAAAAAAAIGlAJVhQ//8/aUAAAAAAAGBpQCuXEAEAQGlAAAAAAABAaUAAAAAAAEBpQAAAAAAAQGlAAAAAAABAaUAAAAAAAMBpQAAAAAAAwGlAAAAAAADAaUAAAAAAAMBpQAAAAAAAoGlAJVhQ//+/aUAAAAAAAOBpQCuXEAEAwGlAAAAAAACgaUAlWFD//79pQAAAAAAA4GlAK5cQAQDAaUAAAAAAAMBpQAAAAAAAwGlAAAAAAADAaUAAAAAAAMBpQAAAAAAAQGlAAAAAAABAaUAAAAAAAEBpQAAAAAAAQGlAAAAAAAAgaUAlWFD//z9pQAAAAAAAYGlAK5cQAQBAaUAAAAAAACBpQCVYUP//P2lAAAAAAABgaUArlxABAEBpQAAAAAAAQGlAAAAAAABAaUAAAAAAAEBpQAAAAAAAQGlAAAAAAADAaUAAAAAAAMBpQAAAAAAAwGlAAAAAAADAaUAAAAAAAKBpQCVYUP//v2lAAAAAAADgaUArlxABAMBpQAAAAAAAoGlAJVhQ//+/aUAAAAAAAOBpQCuXEAEAwGlAAAAAAADAaUAAAAAAAMBpQAAAAAAAwGlAAAAAAADAaUAAAAAAAEBpQAAAAAAAQGlAAAAAAABAaUAAAAAAAEBpQAAAAAAAIGlAJVhQ//8/aUAAAAAAAGBpQCuXEAEAQGlAAAAAAAAgaUAlWFD//z9pQAAAAAAAYGlAK5cQAQBAaUAAAAAAAEBpQAAAAAAAQGlAAAAAAABAaUAAAAAAAEBpQAAAAAAAwGlAAAAAAADAaUAAAAAAAMBpQAAAAAAAwGlAAAAAAACgaUAlWFD//79pQAAAAAAA4GlAK5cQAQDAaUAAAAAAAKBpQCVYUP//v2lAAAAAAADgaUArlxABAMBpQAAAAAAAwGlAAAAAAADAaUAAAAAAAMBpQAAAAAAAwGlAAAAAAABAaUAAAAAAAEBpQAAAAAAAQGlAAAAAAABAaUAAAAAAACBpQCVYUP//P2lAAAAAAABgaUArlxABAEBpQAAAAAAAIGlAJVhQ//8/aUAAAAAAAGBpQCuXEAEAQGlAAAAAAABAaUAAAAAAAEBpQAAAAAAAQGlAAAAAAABAaUAAAAAAAMBpQAAAAAAAwGlAAAAAAADAaUAAAAAAAMBpQAAAAAAAoGlAJVhQ//+/aUAAAAAAAOBpQCuXEAEAwGlAAAAAAACgaUAlWFD//79pQAAAAAAA4GlAK5cQAQDAaUAAAAAAAMBpQAAAAAAAwGlAAAAAAADAaUAAAAAAAMBpQAAAAAAAQGlAAAAAAABAaUAAAAAAAEBpQAAAAAAAQGlAAAAAAAAgaUAlWFD//z9pQAAAAAAAYGlAK5cQAQBAaUAAAAAAACBpQCVYUP//P2lAAAAAAABgaUArlxABAEBpQAAAAAAAQGlAAAAAAABAaUAAAAAAAEBpQAAAAAAAQGlAAAAAAADAaUAAAAAAAMBpQAAAAAAAwGlAAAAAAADAaUAAAAAAAKBpQCVYUP//v2lAAAAAAADgaUArlxABAMBpQAAAAAAAoGlAJVhQ//+/aUAAAAAAAOBpQCuXEAEAwGlAAAAAAADAaUAAAAAAAMBpQAAAAAAAwGlAAAAAAADAaUAAAAAAAEBpQAAAAAAAQGlAAAAAAABAaUAAAAAAAEBpQAAAAAAAIGlAJVhQ//8/aUAAAAAAAGBpQCuXEAEAQGlAAAAAAAAgaUAlWFD//z9pQAAAAAAAYGlAK5cQAQBAaUAAAAAAAEBpQAAAAAAAQGlAAAAAAABAaUAAAAAAAEBpQAAAAAAAwGlAAAAAAADAaUAAAAAAAMBpQAAAAAAAwGlAAAAAAACgaUAlWFD//79pQAAAAAAA4GlAK5cQAQDAaUAAAAAAAKBpQCVYUP//v2lAAAAAAADgaUArlxABAMBpQAAAAAAAwGlAAAAAAADAaUAAAAAAAMBpQAAAAAAAwGlAAAAAAABAaUAAAAAAAEBpQAAAAAAAQGlAAAAAAABAaUAAAAAAACBpQCVYUP//P2lAAAAAAABgaUArlxABAEBpQAAAAAAAIGlAJVhQ//8/aUAAAAAAAGBpQCuXEAEAQGlAAAAAAABAaUAAAAAAAEBpQAAAAAAAQGlAAAAAAABAaUAAAAAAAMBpQAAAAAAAwGlAAAAAAADAaUAAAAAAAMBpQAAAAAAAoGlAJVhQ//+/aUAAAAAAAOBpQCuXEAEAwGlAAAAAAACgaUAlWFD//79pQAAAAAAA4GlAK5cQAQDAaUAAAAAAAMBpQAAAAAAAwGlAAAAAAADAaUAAAAAAAMBpQAAAAAAAQGlAAAAAAABAaUAAAAAAAEBpQAAAAAAAQGlAAAAAAAAgaUAlWFD//z9pQAAAAAAAYGlAK5cQAQBAaUAAAAAAACBpQCVYUP//P2lAAAAAAABgaUArlxABAEBpQAAAAAAAQGlAAAAAAABAaUAAAAAAAEBpQAAAAAAAQGlAAAAAAADAaUAAAAAAAMBpQAAAAAAAwGlAAAAAAADAaUAAAAAAAKBpQCVYUP//v2lAAAAAAADgaUArlxABAMBpQAAAAAAAoGlAJVhQ//+/aUAAAAAAAOBpQCuXEAEAwGlAAAAAAADAaUAAAAAAAMBpQAAAAAAAwGlAAAAAAADAaUAAAAAAAEBpQAAAAAAAQGlAAAAAAABAaUAAAAAAAEBpQAAAAAAAIGlAJVhQ//8/aUAAAAAAAGBpQCuXEAEAQGlAAAAAAAAgaUAlWFD//z9pQAAAAAAAYGlAK5cQAQBAaUAAAAAAAEBpQAAAAAAAQGlAAAAAAABAaUAAAAAAAEBpQAAAAAAAwGlAAAAAAADAaUAAAAAAAMBpQAAAAAAAwGlAAAAAAACgaUAlWFD//79pQAAAAAAA4GlAK5cQAQDAaUAAAAAAAKBpQCVYUP//v2lAAAAAAADgaUArlxABAMBpQAAAAAAAwGlAAAAAAADAaUAAAAAAAMBpQAAAAAAAwGlAAAAAAABAaUAAAAAAAEBpQAAAAAAAQGlAAAAAAABAaUAAAAAAACBpQCVYUP//P2lAAAAAAABgaUArlxABAEBpQAAAAAAAIGlAJVhQ//8/aUAAAAAAAGBpQCuXEAEAQGlAAAAAAABAaUAAAAAAAEBpQAAAAAAAQGlAAAAAAABAaUAAAAAAAMBpQAAAAAAAwGlAAAAAAADAaUAAAAAAAMBpQAAAAAAAoGlAJVhQ//+/aUAAAAAAAOBpQCuXEAEAwGlAAAAAAACgaUAlWFD//79pQAAAAAAA4GlAK5cQAQDAaUAAAAAAAMBpQAAAAAAAwGlAAAAAAADAaUAAAAAAAMBpQAAAAAAAQGlAAAAAAABAaUAAAAAAAEBpQAAAAAAAQGlAAAAAAAAgaUAlWFD//z9pQAAAAAAAYGlAK5cQAQBAaUAAAAAAACBpQCVYUP//P2lAAAAAAABgaUArlxABAEBpQAAAAAAAQGlAAAAAAABAaUAAAAAAAEBpQAAAAAAAQGlAAAAAAADAaUAAAAAAAMBpQAAAAAAAwGlAAAAAAADAaUAAAAAAAKBpQCVYUP//v2lAAAAAAADgaUArlxABAMBpQAAAAAAAoGlAJVhQ//+/aUAAAAAAAOBpQCuXEAEAwGlAAAAAAADAaUAAAAAAAMBpQAAAAAAAwGlAAAAAAADAaUAAAAAAAEBpQAAAAAAAQGlAAAAAAABAaUAAAAAAAEBpQCUksYkeSmlARYACOydJaUAYKJF24TVpQHDY3sTYNmlAJSSxiR4KakBFgAI7JwlqQBgokXbh9WlAcNjexNj2aUAAAAAAACBqQNunrwAAAGpAAAAAAADgaUDVaO/+//9pQAAAAAAAIGpA26evAAAAakAAAAAAAOBpQNVo7/7//2lAAAAAAAAAakAAAAAAAABqQAAAAAAAAGpAAAAAAAAAakAAAAAAAABpQAAAAAAAAGlAAAAAAAAAaUAAAAAAAABpQAAAAAAA4GhAJVhQ////aEAAAAAAACBpQCuXEAEAAGlAAAAAAADgaEAlWFD///9oQAAAAAAAIGlAK5cQAQAAaUAAAAAAAABpQAAAAAAAAGlAAAAAAAAAaUAAAAAAAABpQAAAAAAAAGpAAAAAAAAAakAAAAAAAABqQAAAAAAAAGpAxICZYV/paUDtyoP///9pQDx/Zp6gFmpAJ8DAAAAAakBzzTCUb6JpQB63Xf//v2lAjTLPa5DdaUA+1/sAAMBpQAAAAAAAoGlAJVhQ//+/aUAAAAAAAOBpQCuXEAEAwGlAAAAAAADAaUAAAAAAAMBpQAAAAAAAwGlAAAAAAADAaUAAAAAAAIBpQAAAAAAAgGlAAAAAAACAaUAAAAAAAIBpQAAAAAAAoGlA26evAACAaUAAAAAAAGBpQNVo7/7/f2lAAAAAAACgaUDbp68AAIBpQAAAAAAAYGlA1Wjv/v9/aUAAAAAAAIBpQAAAAAAAgGlAAAAAAACAaUAAAAAAAIBpQAAAAAAAQGlAAAAAAABAaUAAAAAAAEBpQAAAAAAAQGlAAAAAAAAgaUAlWFD//z9pQAAAAAAAYGlAK5cQAQBAaUAAAAAAACBpQCVYUP//P2lAAAAAAABgaUArlxABAEBpQAAAAAAAQGlAAAAAAABAaUAAAAAAAEBpQAAAAAAAQGlAAAAAAAAAaUAAAAAAAABpQAAAAAAAAGlAAAAAAAAAaUAAAAAAACBpQNunrwAAAGlAAAAAAADgaEDVaO/+//9oQAAAAAAAIGlA26evAAAAaUAAAAAAAOBoQNVo7/7//2hA",
                    "dtype": "f8"
                  },
                  "y": {
                    "bdata": "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",
                    "dtype": "f8"
                  },
                  "z": {
                    "bdata": "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",
                    "dtype": "f8"
                  }
                },
                {
                  "marker": {
                    "color": "red",
                    "size": 2
                  },
                  "mode": "markers",
                  "showlegend": false,
                  "type": "scatter3d",
                  "x": [],
                  "y": [],
                  "z": []
                }
              ],
              "layout": {
                "height": 500,
                "margin": {
                  "b": 10,
                  "l": 10,
                  "pad": 4,
                  "r": 10,
                  "t": 10
                },
                "paper_bgcolor": "black",
                "scene": {
                  "aspectmode": "cube",
                  "camera": {
                    "center": {
                      "x": 0,
                      "y": 0,
                      "z": -0.467392013217104
                    },
                    "eye": {
                      "x": -0.7142857142857143,
                      "y": -1.4285714285714286,
                      "z": 0.2142857142857143
                    }
                  },
                  "xaxis": {
                    "backgroundcolor": "black",
                    "nticks": 10,
                    "range": [
                      157.99899999999997,
                      250.00099999999998
                    ]
                  },
                  "yaxis": {
                    "backgroundcolor": "black",
                    "nticks": 10,
                    "range": [
                      198.999,
                      291.001
                    ]
                  },
                  "zaxis": {
                    "backgroundcolor": "black",
                    "nticks": 10,
                    "range": [
                      0,
                      92.002
                    ]
                  }
                },
                "template": {
                  "data": {
                    "bar": [
                      {
                        "error_x": {
                          "color": "#f2f5fa"
                        },
                        "error_y": {
                          "color": "#f2f5fa"
                        },
                        "marker": {
                          "line": {
                            "color": "rgb(17,17,17)",
                            "width": 0.5
                          },
                          "pattern": {
                            "fillmode": "overlay",
                            "size": 10,
                            "solidity": 0.2
                          }
                        },
                        "type": "bar"
                      }
                    ],
                    "barpolar": [
                      {
                        "marker": {
                          "line": {
                            "color": "rgb(17,17,17)",
                            "width": 0.5
                          },
                          "pattern": {
                            "fillmode": "overlay",
                            "size": 10,
                            "solidity": 0.2
                          }
                        },
                        "type": "barpolar"
                      }
                    ],
                    "carpet": [
                      {
                        "aaxis": {
                          "endlinecolor": "#A2B1C6",
                          "gridcolor": "#506784",
                          "linecolor": "#506784",
                          "minorgridcolor": "#506784",
                          "startlinecolor": "#A2B1C6"
                        },
                        "baxis": {
                          "endlinecolor": "#A2B1C6",
                          "gridcolor": "#506784",
                          "linecolor": "#506784",
                          "minorgridcolor": "#506784",
                          "startlinecolor": "#A2B1C6"
                        },
                        "type": "carpet"
                      }
                    ],
                    "choropleth": [
                      {
                        "colorbar": {
                          "outlinewidth": 0,
                          "ticks": ""
                        },
                        "type": "choropleth"
                      }
                    ],
                    "contour": [
                      {
                        "colorbar": {
                          "outlinewidth": 0,
                          "ticks": ""
                        },
                        "colorscale": [
                          [
                            0,
                            "#0d0887"
                          ],
                          [
                            0.1111111111111111,
                            "#46039f"
                          ],
                          [
                            0.2222222222222222,
                            "#7201a8"
                          ],
                          [
                            0.3333333333333333,
                            "#9c179e"
                          ],
                          [
                            0.4444444444444444,
                            "#bd3786"
                          ],
                          [
                            0.5555555555555556,
                            "#d8576b"
                          ],
                          [
                            0.6666666666666666,
                            "#ed7953"
                          ],
                          [
                            0.7777777777777778,
                            "#fb9f3a"
                          ],
                          [
                            0.8888888888888888,
                            "#fdca26"
                          ],
                          [
                            1,
                            "#f0f921"
                          ]
                        ],
                        "type": "contour"
                      }
                    ],
                    "contourcarpet": [
                      {
                        "colorbar": {
                          "outlinewidth": 0,
                          "ticks": ""
                        },
                        "type": "contourcarpet"
                      }
                    ],
                    "heatmap": [
                      {
                        "colorbar": {
                          "outlinewidth": 0,
                          "ticks": ""
                        },
                        "colorscale": [
                          [
                            0,
                            "#0d0887"
                          ],
                          [
                            0.1111111111111111,
                            "#46039f"
                          ],
                          [
                            0.2222222222222222,
                            "#7201a8"
                          ],
                          [
                            0.3333333333333333,
                            "#9c179e"
                          ],
                          [
                            0.4444444444444444,
                            "#bd3786"
                          ],
                          [
                            0.5555555555555556,
                            "#d8576b"
                          ],
                          [
                            0.6666666666666666,
                            "#ed7953"
                          ],
                          [
                            0.7777777777777778,
                            "#fb9f3a"
                          ],
                          [
                            0.8888888888888888,
                            "#fdca26"
                          ],
                          [
                            1,
                            "#f0f921"
                          ]
                        ],
                        "type": "heatmap"
                      }
                    ],
                    "histogram": [
                      {
                        "marker": {
                          "pattern": {
                            "fillmode": "overlay",
                            "size": 10,
                            "solidity": 0.2
                          }
                        },
                        "type": "histogram"
                      }
                    ],
                    "histogram2d": [
                      {
                        "colorbar": {
                          "outlinewidth": 0,
                          "ticks": ""
                        },
                        "colorscale": [
                          [
                            0,
                            "#0d0887"
                          ],
                          [
                            0.1111111111111111,
                            "#46039f"
                          ],
                          [
                            0.2222222222222222,
                            "#7201a8"
                          ],
                          [
                            0.3333333333333333,
                            "#9c179e"
                          ],
                          [
                            0.4444444444444444,
                            "#bd3786"
                          ],
                          [
                            0.5555555555555556,
                            "#d8576b"
                          ],
                          [
                            0.6666666666666666,
                            "#ed7953"
                          ],
                          [
                            0.7777777777777778,
                            "#fb9f3a"
                          ],
                          [
                            0.8888888888888888,
                            "#fdca26"
                          ],
                          [
                            1,
                            "#f0f921"
                          ]
                        ],
                        "type": "histogram2d"
                      }
                    ],
                    "histogram2dcontour": [
                      {
                        "colorbar": {
                          "outlinewidth": 0,
                          "ticks": ""
                        },
                        "colorscale": [
                          [
                            0,
                            "#0d0887"
                          ],
                          [
                            0.1111111111111111,
                            "#46039f"
                          ],
                          [
                            0.2222222222222222,
                            "#7201a8"
                          ],
                          [
                            0.3333333333333333,
                            "#9c179e"
                          ],
                          [
                            0.4444444444444444,
                            "#bd3786"
                          ],
                          [
                            0.5555555555555556,
                            "#d8576b"
                          ],
                          [
                            0.6666666666666666,
                            "#ed7953"
                          ],
                          [
                            0.7777777777777778,
                            "#fb9f3a"
                          ],
                          [
                            0.8888888888888888,
                            "#fdca26"
                          ],
                          [
                            1,
                            "#f0f921"
                          ]
                        ],
                        "type": "histogram2dcontour"
                      }
                    ],
                    "mesh3d": [
                      {
                        "colorbar": {
                          "outlinewidth": 0,
                          "ticks": ""
                        },
                        "type": "mesh3d"
                      }
                    ],
                    "parcoords": [
                      {
                        "line": {
                          "colorbar": {
                            "outlinewidth": 0,
                            "ticks": ""
                          }
                        },
                        "type": "parcoords"
                      }
                    ],
                    "pie": [
                      {
                        "automargin": true,
                        "type": "pie"
                      }
                    ],
                    "scatter": [
                      {
                        "marker": {
                          "line": {
                            "color": "#283442"
                          }
                        },
                        "type": "scatter"
                      }
                    ],
                    "scatter3d": [
                      {
                        "line": {
                          "colorbar": {
                            "outlinewidth": 0,
                            "ticks": ""
                          }
                        },
                        "marker": {
                          "colorbar": {
                            "outlinewidth": 0,
                            "ticks": ""
                          }
                        },
                        "type": "scatter3d"
                      }
                    ],
                    "scattercarpet": [
                      {
                        "marker": {
                          "colorbar": {
                            "outlinewidth": 0,
                            "ticks": ""
                          }
                        },
                        "type": "scattercarpet"
                      }
                    ],
                    "scattergeo": [
                      {
                        "marker": {
                          "colorbar": {
                            "outlinewidth": 0,
                            "ticks": ""
                          }
                        },
                        "type": "scattergeo"
                      }
                    ],
                    "scattergl": [
                      {
                        "marker": {
                          "line": {
                            "color": "#283442"
                          }
                        },
                        "type": "scattergl"
                      }
                    ],
                    "scattermap": [
                      {
                        "marker": {
                          "colorbar": {
                            "outlinewidth": 0,
                            "ticks": ""
                          }
                        },
                        "type": "scattermap"
                      }
                    ],
                    "scattermapbox": [
                      {
                        "marker": {
                          "colorbar": {
                            "outlinewidth": 0,
                            "ticks": ""
                          }
                        },
                        "type": "scattermapbox"
                      }
                    ],
                    "scatterpolar": [
                      {
                        "marker": {
                          "colorbar": {
                            "outlinewidth": 0,
                            "ticks": ""
                          }
                        },
                        "type": "scatterpolar"
                      }
                    ],
                    "scatterpolargl": [
                      {
                        "marker": {
                          "colorbar": {
                            "outlinewidth": 0,
                            "ticks": ""
                          }
                        },
                        "type": "scatterpolargl"
                      }
                    ],
                    "scatterternary": [
                      {
                        "marker": {
                          "colorbar": {
                            "outlinewidth": 0,
                            "ticks": ""
                          }
                        },
                        "type": "scatterternary"
                      }
                    ],
                    "surface": [
                      {
                        "colorbar": {
                          "outlinewidth": 0,
                          "ticks": ""
                        },
                        "colorscale": [
                          [
                            0,
                            "#0d0887"
                          ],
                          [
                            0.1111111111111111,
                            "#46039f"
                          ],
                          [
                            0.2222222222222222,
                            "#7201a8"
                          ],
                          [
                            0.3333333333333333,
                            "#9c179e"
                          ],
                          [
                            0.4444444444444444,
                            "#bd3786"
                          ],
                          [
                            0.5555555555555556,
                            "#d8576b"
                          ],
                          [
                            0.6666666666666666,
                            "#ed7953"
                          ],
                          [
                            0.7777777777777778,
                            "#fb9f3a"
                          ],
                          [
                            0.8888888888888888,
                            "#fdca26"
                          ],
                          [
                            1,
                            "#f0f921"
                          ]
                        ],
                        "type": "surface"
                      }
                    ],
                    "table": [
                      {
                        "cells": {
                          "fill": {
                            "color": "#506784"
                          },
                          "line": {
                            "color": "rgb(17,17,17)"
                          }
                        },
                        "header": {
                          "fill": {
                            "color": "#2a3f5f"
                          },
                          "line": {
                            "color": "rgb(17,17,17)"
                          }
                        },
                        "type": "table"
                      }
                    ]
                  },
                  "layout": {
                    "annotationdefaults": {
                      "arrowcolor": "#f2f5fa",
                      "arrowhead": 0,
                      "arrowwidth": 1
                    },
                    "autotypenumbers": "strict",
                    "coloraxis": {
                      "colorbar": {
                        "outlinewidth": 0,
                        "ticks": ""
                      }
                    },
                    "colorscale": {
                      "diverging": [
                        [
                          0,
                          "#8e0152"
                        ],
                        [
                          0.1,
                          "#c51b7d"
                        ],
                        [
                          0.2,
                          "#de77ae"
                        ],
                        [
                          0.3,
                          "#f1b6da"
                        ],
                        [
                          0.4,
                          "#fde0ef"
                        ],
                        [
                          0.5,
                          "#f7f7f7"
                        ],
                        [
                          0.6,
                          "#e6f5d0"
                        ],
                        [
                          0.7,
                          "#b8e186"
                        ],
                        [
                          0.8,
                          "#7fbc41"
                        ],
                        [
                          0.9,
                          "#4d9221"
                        ],
                        [
                          1,
                          "#276419"
                        ]
                      ],
                      "sequential": [
                        [
                          0,
                          "#0d0887"
                        ],
                        [
                          0.1111111111111111,
                          "#46039f"
                        ],
                        [
                          0.2222222222222222,
                          "#7201a8"
                        ],
                        [
                          0.3333333333333333,
                          "#9c179e"
                        ],
                        [
                          0.4444444444444444,
                          "#bd3786"
                        ],
                        [
                          0.5555555555555556,
                          "#d8576b"
                        ],
                        [
                          0.6666666666666666,
                          "#ed7953"
                        ],
                        [
                          0.7777777777777778,
                          "#fb9f3a"
                        ],
                        [
                          0.8888888888888888,
                          "#fdca26"
                        ],
                        [
                          1,
                          "#f0f921"
                        ]
                      ],
                      "sequentialminus": [
                        [
                          0,
                          "#0d0887"
                        ],
                        [
                          0.1111111111111111,
                          "#46039f"
                        ],
                        [
                          0.2222222222222222,
                          "#7201a8"
                        ],
                        [
                          0.3333333333333333,
                          "#9c179e"
                        ],
                        [
                          0.4444444444444444,
                          "#bd3786"
                        ],
                        [
                          0.5555555555555556,
                          "#d8576b"
                        ],
                        [
                          0.6666666666666666,
                          "#ed7953"
                        ],
                        [
                          0.7777777777777778,
                          "#fb9f3a"
                        ],
                        [
                          0.8888888888888888,
                          "#fdca26"
                        ],
                        [
                          1,
                          "#f0f921"
                        ]
                      ]
                    },
                    "colorway": [
                      "#636efa",
                      "#EF553B",
                      "#00cc96",
                      "#ab63fa",
                      "#FFA15A",
                      "#19d3f3",
                      "#FF6692",
                      "#B6E880",
                      "#FF97FF",
                      "#FECB52"
                    ],
                    "font": {
                      "color": "#f2f5fa"
                    },
                    "geo": {
                      "bgcolor": "rgb(17,17,17)",
                      "lakecolor": "rgb(17,17,17)",
                      "landcolor": "rgb(17,17,17)",
                      "showlakes": true,
                      "showland": true,
                      "subunitcolor": "#506784"
                    },
                    "hoverlabel": {
                      "align": "left"
                    },
                    "hovermode": "closest",
                    "mapbox": {
                      "style": "dark"
                    },
                    "paper_bgcolor": "rgb(17,17,17)",
                    "plot_bgcolor": "rgb(17,17,17)",
                    "polar": {
                      "angularaxis": {
                        "gridcolor": "#506784",
                        "linecolor": "#506784",
                        "ticks": ""
                      },
                      "bgcolor": "rgb(17,17,17)",
                      "radialaxis": {
                        "gridcolor": "#506784",
                        "linecolor": "#506784",
                        "ticks": ""
                      }
                    },
                    "scene": {
                      "xaxis": {
                        "backgroundcolor": "rgb(17,17,17)",
                        "gridcolor": "#506784",
                        "gridwidth": 2,
                        "linecolor": "#506784",
                        "showbackground": true,
                        "ticks": "",
                        "zerolinecolor": "#C8D4E3"
                      },
                      "yaxis": {
                        "backgroundcolor": "rgb(17,17,17)",
                        "gridcolor": "#506784",
                        "gridwidth": 2,
                        "linecolor": "#506784",
                        "showbackground": true,
                        "ticks": "",
                        "zerolinecolor": "#C8D4E3"
                      },
                      "zaxis": {
                        "backgroundcolor": "rgb(17,17,17)",
                        "gridcolor": "#506784",
                        "gridwidth": 2,
                        "linecolor": "#506784",
                        "showbackground": true,
                        "ticks": "",
                        "zerolinecolor": "#C8D4E3"
                      }
                    },
                    "shapedefaults": {
                      "line": {
                        "color": "#f2f5fa"
                      }
                    },
                    "sliderdefaults": {
                      "bgcolor": "#C8D4E3",
                      "bordercolor": "rgb(17,17,17)",
                      "borderwidth": 1,
                      "tickwidth": 0
                    },
                    "ternary": {
                      "aaxis": {
                        "gridcolor": "#506784",
                        "linecolor": "#506784",
                        "ticks": ""
                      },
                      "baxis": {
                        "gridcolor": "#506784",
                        "linecolor": "#506784",
                        "ticks": ""
                      },
                      "bgcolor": "rgb(17,17,17)",
                      "caxis": {
                        "gridcolor": "#506784",
                        "linecolor": "#506784",
                        "ticks": ""
                      }
                    },
                    "title": {
                      "x": 0.05
                    },
                    "updatemenudefaults": {
                      "bgcolor": "#506784",
                      "borderwidth": 0
                    },
                    "xaxis": {
                      "automargin": true,
                      "gridcolor": "#283442",
                      "linecolor": "#506784",
                      "ticks": "",
                      "title": {
                        "standoff": 15
                      },
                      "zerolinecolor": "#283442",
                      "zerolinewidth": 2
                    },
                    "yaxis": {
                      "automargin": true,
                      "gridcolor": "#283442",
                      "linecolor": "#506784",
                      "ticks": "",
                      "title": {
                        "standoff": 15
                      },
                      "zerolinecolor": "#283442",
                      "zerolinewidth": 2
                    }
                  }
                },
                "width": 800
              }
            }
          },
          "metadata": {},
          "output_type": "display_data"
        }
      ],
      "source": [
        "# preview the design\n",
        "\n",
        "fc.transform(steps, 'plot', fc.PlotControls(style='line', zoom=0.7))\n",
        "# hover the cursor over the lines in the plot to check xyz positions of the points in the design\n",
        "\n",
        "# uncomment the next line to create a plot with real heights/widths for extruded lines to preview the real 3D printed geometry\n",
        "fc.transform(steps, 'plot', fc.PlotControls(style='tube', zoom=0.7, initialization_data={'extrusion_width': EW, 'extrusion_height': EH}))\n",
        "\n",
        "# uncomment the next line to create a neat preview (click the top-left button in the plot for a .png file) - post and tag @FullControlXYZ :)\n",
        "# fc.transform(steps, 'plot', fc.PlotControls(neat_for_publishing=True, zoom=0.5, initialization_data={'extrusion_width': EW, 'extrusion_height': EH}))\n"
      ]
    },
    {
      "cell_type": "code",
      "execution_count": 96,
      "metadata": {
        "colab": {
          "base_uri": "https://localhost:8080/",
          "height": 17
        },
        "id": "tggFoUeJReQR",
        "outputId": "3e9733ce-224b-4aa9-abe7-d54bca6a0a96"
      },
      "outputs": [
        {
          "name": "stdout",
          "output_type": "stream",
          "text": [
            "warning - the list of steps should be a 1D list of fullcontrol class instances, it currently includes a 'list'\n",
            "   - fc.flatten() is being used to convert the design to a 1D list\n"
          ]
        }
      ],
      "source": [
        "# generate and save gcode\n",
        "\n",
        "gcode_controls = fc.GcodeControls(\n",
        "    printer_name=printer_name,\n",
        "    save_as=design_name,\n",
        "    initialization_data={\n",
        "        'primer': 'front_lines_then_y',\n",
        "        'print_speed': print_speed,\n",
        "        'nozzle_temp': nozzle_temp,\n",
        "        'bed_temp': bed_temp,\n",
        "        'fan_percent': fan_percent,\n",
        "        'extrusion_width': EW,\n",
        "        'extrusion_height': EH,\n",
        "        'dia_feed':container_output_dia})\n",
        "gcode = fc.transform(steps, 'gcode', gcode_controls)"
      ]
    },
    {
      "attachments": {},
      "cell_type": "markdown",
      "metadata": {},
      "source": [
        "#### please tell us what you're doing with FullControl!\n",
        "\n",
        "- tag FullControlXYZ on social media ([twitter](https://twitter.com/FullControlXYZ), [instagram](https://www.instagram.com/fullcontrolxyz/), [linkedin](https://www.linkedin.com/in/andrew-gleadall-068587119/), [tiktok](https://www.tiktok.com/@fullcontrolxyz))\n",
        "- email [info@fullcontrol.xyz](mailto:info@fullcontrol.xyz)\n",
        "- post on the [subreddit](https://reddit.com/r/fullcontrol)\n",
        "- post in the [github discussions or issues tabs](https://github.com/FullControlXYZ/fullcontrol/issues)\n",
        "\n",
        "in publications, please cite the original FullControl paper and the github repo for the new python version:\n",
        "\n",
        "- Gleadall, A. (2021). FullControl GCode Designer: open-source software for unconstrained design in additive manufacturing. Additive Manufacturing, 46, 102109. \n",
        "- Gleadall, A. and Leas, D. (2023). FullControl [electronic resource: python source code]. available at: https://github.com/FullControlXYZ/fullcontrol"
      ]
    }
  ],
  "metadata": {
    "colab": {
      "include_colab_link": true,
      "provenance": []
    },
    "kernelspec": {
      "display_name": "base",
      "language": "python",
      "name": "python3"
    },
    "language_info": {
      "codemirror_mode": {
        "name": "ipython",
        "version": 3
      },
      "file_extension": ".py",
      "mimetype": "text/x-python",
      "name": "python",
      "nbconvert_exporter": "python",
      "pygments_lexer": "ipython3",
      "version": "3.12.9"
    }
  },
  "nbformat": 4,
  "nbformat_minor": 0
}
