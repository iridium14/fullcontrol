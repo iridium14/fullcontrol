{
  "cells": [
    {
      "attachments": {},
      "cell_type": "markdown",
      "metadata": {
        "id": "ac9_FmrCOwQL"
      },
      "source": [
        "# FullControl design template\n",
        "\n",
        "*<<< check out demo models [here](https://github.com/FullControlXYZ/fullcontrol/tree/master/models/README.md) >>>*\n",
        "  \n",
        "run all cells in this notebook, or press shift+enter to run each cell sequentially \n",
        "\n",
        "if you change one of the code cells, make sure you run it and all subsequent cells again (in order)\n",
        "\n",
        "*this document is a jupyter notebook - if they're new to you, check out how they work: [link](https://www.google.com/search?q=ipynb+tutorial), [link](https://jupyter.org/try-jupyter/retro/notebooks/?path=notebooks/Intro.ipynb), [link](https://colab.research.google.com/)*"
      ]
    },
    {
      "cell_type": "code",
      "execution_count": 7,
      "metadata": {
        "id": "57XXnogSOvDx"
      },
      "outputs": [],
      "source": [
        "import fullcontrol as fc\n",
        "import math"
      ]
    },
    {
      "cell_type": "code",
      "execution_count": 8,
      "metadata": {},
      "outputs": [],
      "source": [
        "# printer/gcode parameters\n",
        "\n",
        "design_name = '2D DoE specimen'\n",
        "nozzle_temp = 0\n",
        "bed_temp = 0\n",
        "print_speed = 300   #in mm/min\n",
        "fan_percent = 0\n",
        "printer_name='generic' # generic / ultimaker2plus / prusa_i3 / ender_3 / cr_10 / bambulab_x1 / toolchanger_T0"
      ]
    },
    {
      "cell_type": "code",
      "execution_count": 9,
      "metadata": {
        "id": "DeWKjlzbPC0u"
      },
      "outputs": [],
      "source": [
        "# design parameters\n",
        "\n",
        "EW = 0.5 # extrusion width\n",
        "EH = 0.5 # extrusion height (and layer height)\n",
        "initial_z = EH*1 # initial nozzle position is set to 0.6x the extrusion height to get a bit of 'squish' for good bed adhesion\n",
        "sq=20 # Length of the square\n",
        "layers = 2"
      ]
    },
    {
      "cell_type": "code",
      "execution_count": 10,
      "metadata": {
        "id": "kLPh7aTwQKrF"
      },
      "outputs": [],
      "source": [
        "# generate the design (make sure you've run the above cells before running this cell)\n",
        "\n",
        "steps = []\n",
        "for layer in range(layers):\n",
        "  if layer%2==0:\n",
        "    steps.append(fc.Point(x=200, y=200, z=initial_z+layer*EH))\n",
        "    steps.append(fc.Point(x=200, y=200+sq, z=initial_z+layer*EH))\n",
        "    steps.append(fc.Point(x=200+sq, y=200+sq, z=initial_z+layer*EH))\n",
        "    steps.append(fc.Point(x=200+sq, y=200, z=initial_z+layer*EH))\n",
        "    steps.append(fc.Point(x=200+EW, y=200, z=initial_z+layer*EH))\n",
        "    start_point = fc.Point(x=200+EW, y=200+EW, z=initial_z+layer*EH)\n",
        "    direction = fc.Vector(x=1,y=0)\n",
        "    amplitude = sq-(2*EW) # length of the lines \n",
        "    line_spacing = 2  # Distance between the lines\n",
        "    periods = sq//4 # number of times the pattern is repeated\n",
        "    extra_half_period = False\n",
        "    extra_end_line = False\n",
        "    infill = fc.squarewaveXY(start_point, direction, amplitude, line_spacing, periods, extra_half_period, extra_end_line)\n",
        "    steps.extend(infill)\n",
        "  else:\n",
        "    steps.append(fc.Point(x=200+sq, y=200, z=initial_z+layer*EH))\n",
        "    steps.append(fc.Point(x=200, y=200, z=initial_z+layer*EH))\n",
        "    steps.append(fc.Point(x=200, y=200+sq, z=initial_z+layer*EH))\n",
        "    steps.append(fc.Point(x=200+sq, y=200+sq, z=initial_z+layer*EH))\n",
        "    steps.append(fc.Point(x=200+sq, y=200+EW, z=initial_z+layer*EH))\n",
        "    start_point = fc.Point(x=200+sq-EW, y=200+EW, z=initial_z+layer*EH)\n",
        "    direction = fc.Vector(x=0,y=1)\n",
        "    amplitude = sq-(2*EW) # length of the lines \n",
        "    line_spacing = 2 # Distance between the lines\n",
        "    periods = sq//4 # number of times the pattern is repeated\n",
        "    extra_half_period = False\n",
        "    extra_end_line = False\n",
        "    infill = fc.squarewaveXY(start_point, direction, amplitude, line_spacing, periods, extra_half_period, extra_end_line)\n",
        "    steps.extend(infill)\n"
      ]
    },
    {
      "cell_type": "code",
      "execution_count": 11,
      "metadata": {
        "id": "ZVdfnpt5RSUi"
      },
      "outputs": [
        {
          "data": {
            "application/vnd.plotly.v1+json": {
              "config": {
                "plotlyServerURL": "https://plot.ly"
              },
              "data": [
                {
                  "line": {
                    "color": [
                      "rgb(0.00, 0.00, 255.00)",
                      "rgb(0.00, 0.00, 255.00)",
                      "rgb(0.00, 0.00, 255.00)",
                      "rgb(0.00, 0.00, 255.00)",
                      "rgb(0.00, 0.00, 255.00)",
                      "rgb(0.00, 0.00, 255.00)",
                      "rgb(0.00, 0.00, 255.00)",
                      "rgb(0.00, 0.00, 255.00)",
                      "rgb(0.00, 0.00, 255.00)",
                      "rgb(0.00, 0.00, 255.00)",
                      "rgb(0.00, 0.00, 255.00)",
                      "rgb(0.00, 0.00, 255.00)",
                      "rgb(0.00, 0.00, 255.00)",
                      "rgb(0.00, 0.00, 255.00)",
                      "rgb(0.00, 0.00, 255.00)",
                      "rgb(0.00, 0.00, 255.00)",
                      "rgb(0.00, 0.00, 255.00)",
                      "rgb(0.00, 0.00, 255.00)",
                      "rgb(0.00, 0.00, 255.00)",
                      "rgb(0.00, 0.00, 255.00)",
                      "rgb(0.00, 0.00, 255.00)",
                      "rgb(0.00, 0.00, 255.00)",
                      "rgb(0.00, 0.00, 255.00)",
                      "rgb(0.00, 0.00, 255.00)",
                      "rgb(0.00, 0.00, 255.00)",
                      "rgb(0.00, 255.00, 255.00)",
                      "rgb(0.00, 255.00, 255.00)",
                      "rgb(0.00, 255.00, 255.00)",
                      "rgb(0.00, 255.00, 255.00)",
                      "rgb(0.00, 255.00, 255.00)",
                      "rgb(0.00, 255.00, 255.00)",
                      "rgb(0.00, 255.00, 255.00)",
                      "rgb(0.00, 255.00, 255.00)",
                      "rgb(0.00, 255.00, 255.00)",
                      "rgb(0.00, 255.00, 255.00)",
                      "rgb(0.00, 255.00, 255.00)",
                      "rgb(0.00, 255.00, 255.00)",
                      "rgb(0.00, 255.00, 255.00)",
                      "rgb(0.00, 255.00, 255.00)",
                      "rgb(0.00, 255.00, 255.00)",
                      "rgb(0.00, 255.00, 255.00)",
                      "rgb(0.00, 255.00, 255.00)",
                      "rgb(0.00, 255.00, 255.00)",
                      "rgb(0.00, 255.00, 255.00)",
                      "rgb(0.00, 255.00, 255.00)",
                      "rgb(0.00, 255.00, 255.00)",
                      "rgb(0.00, 255.00, 255.00)",
                      "rgb(0.00, 255.00, 255.00)",
                      "rgb(0.00, 255.00, 255.00)",
                      "rgb(0.00, 255.00, 255.00)"
                    ],
                    "width": 4
                  },
                  "mode": "lines",
                  "showlegend": false,
                  "type": "scatter3d",
                  "x": [
                    200,
                    200,
                    220,
                    220,
                    200.5,
                    200.5,
                    200.5,
                    202.5,
                    202.5,
                    204.5,
                    204.5,
                    206.5,
                    206.5,
                    208.5,
                    208.5,
                    210.5,
                    210.5,
                    212.5,
                    212.5,
                    214.5,
                    214.5,
                    216.5,
                    216.5,
                    218.5,
                    218.5,
                    220,
                    200,
                    200,
                    220,
                    220,
                    219.5,
                    200.5,
                    200.5,
                    219.5,
                    219.5,
                    200.5,
                    200.5,
                    219.5,
                    219.5,
                    200.5,
                    200.5,
                    219.5,
                    219.5,
                    200.5,
                    200.5,
                    219.5,
                    219.5,
                    200.5,
                    200.5,
                    219.5
                  ],
                  "y": [
                    200,
                    220,
                    220,
                    200,
                    200,
                    200.5,
                    219.5,
                    219.5,
                    200.5,
                    200.5,
                    219.5,
                    219.5,
                    200.5,
                    200.5,
                    219.5,
                    219.5,
                    200.5,
                    200.5,
                    219.5,
                    219.5,
                    200.5,
                    200.5,
                    219.5,
                    219.5,
                    200.5,
                    200,
                    200,
                    220,
                    220,
                    200.5,
                    200.5,
                    200.5,
                    202.5,
                    202.5,
                    204.5,
                    204.5,
                    206.5,
                    206.5,
                    208.5,
                    208.5,
                    210.5,
                    210.5,
                    212.5,
                    212.5,
                    214.5,
                    214.5,
                    216.5,
                    216.5,
                    218.5,
                    218.5
                  ],
                  "z": [
                    0.5,
                    0.5,
                    0.5,
                    0.5,
                    0.5,
                    0.5,
                    0.5,
                    0.5,
                    0.5,
                    0.5,
                    0.5,
                    0.5,
                    0.5,
                    0.5,
                    0.5,
                    0.5,
                    0.5,
                    0.5,
                    0.5,
                    0.5,
                    0.5,
                    0.5,
                    0.5,
                    0.5,
                    0.5,
                    1,
                    1,
                    1,
                    1,
                    1,
                    1,
                    1,
                    1,
                    1,
                    1,
                    1,
                    1,
                    1,
                    1,
                    1,
                    1,
                    1,
                    1,
                    1,
                    1,
                    1,
                    1,
                    1,
                    1,
                    1
                  ]
                },
                {
                  "marker": {
                    "color": "red",
                    "size": 2
                  },
                  "mode": "markers",
                  "showlegend": false,
                  "type": "scatter3d",
                  "x": [],
                  "y": [],
                  "z": []
                }
              ],
              "layout": {
                "height": 500,
                "margin": {
                  "b": 10,
                  "l": 10,
                  "pad": 4,
                  "r": 10,
                  "t": 10
                },
                "paper_bgcolor": "black",
                "scene": {
                  "aspectmode": "cube",
                  "camera": {
                    "center": {
                      "x": 0,
                      "y": 0,
                      "z": -0.4875012498750125
                    },
                    "eye": {
                      "x": -0.7142857142857143,
                      "y": -1.4285714285714286,
                      "z": 0.2142857142857143
                    }
                  },
                  "xaxis": {
                    "backgroundcolor": "black",
                    "nticks": 10,
                    "range": [
                      199.999,
                      220.001
                    ]
                  },
                  "yaxis": {
                    "backgroundcolor": "black",
                    "nticks": 10,
                    "range": [
                      199.999,
                      220.001
                    ]
                  },
                  "zaxis": {
                    "backgroundcolor": "black",
                    "nticks": 10,
                    "range": [
                      0,
                      20.002
                    ]
                  }
                },
                "template": {
                  "data": {
                    "bar": [
                      {
                        "error_x": {
                          "color": "#f2f5fa"
                        },
                        "error_y": {
                          "color": "#f2f5fa"
                        },
                        "marker": {
                          "line": {
                            "color": "rgb(17,17,17)",
                            "width": 0.5
                          },
                          "pattern": {
                            "fillmode": "overlay",
                            "size": 10,
                            "solidity": 0.2
                          }
                        },
                        "type": "bar"
                      }
                    ],
                    "barpolar": [
                      {
                        "marker": {
                          "line": {
                            "color": "rgb(17,17,17)",
                            "width": 0.5
                          },
                          "pattern": {
                            "fillmode": "overlay",
                            "size": 10,
                            "solidity": 0.2
                          }
                        },
                        "type": "barpolar"
                      }
                    ],
                    "carpet": [
                      {
                        "aaxis": {
                          "endlinecolor": "#A2B1C6",
                          "gridcolor": "#506784",
                          "linecolor": "#506784",
                          "minorgridcolor": "#506784",
                          "startlinecolor": "#A2B1C6"
                        },
                        "baxis": {
                          "endlinecolor": "#A2B1C6",
                          "gridcolor": "#506784",
                          "linecolor": "#506784",
                          "minorgridcolor": "#506784",
                          "startlinecolor": "#A2B1C6"
                        },
                        "type": "carpet"
                      }
                    ],
                    "choropleth": [
                      {
                        "colorbar": {
                          "outlinewidth": 0,
                          "ticks": ""
                        },
                        "type": "choropleth"
                      }
                    ],
                    "contour": [
                      {
                        "colorbar": {
                          "outlinewidth": 0,
                          "ticks": ""
                        },
                        "colorscale": [
                          [
                            0,
                            "#0d0887"
                          ],
                          [
                            0.1111111111111111,
                            "#46039f"
                          ],
                          [
                            0.2222222222222222,
                            "#7201a8"
                          ],
                          [
                            0.3333333333333333,
                            "#9c179e"
                          ],
                          [
                            0.4444444444444444,
                            "#bd3786"
                          ],
                          [
                            0.5555555555555556,
                            "#d8576b"
                          ],
                          [
                            0.6666666666666666,
                            "#ed7953"
                          ],
                          [
                            0.7777777777777778,
                            "#fb9f3a"
                          ],
                          [
                            0.8888888888888888,
                            "#fdca26"
                          ],
                          [
                            1,
                            "#f0f921"
                          ]
                        ],
                        "type": "contour"
                      }
                    ],
                    "contourcarpet": [
                      {
                        "colorbar": {
                          "outlinewidth": 0,
                          "ticks": ""
                        },
                        "type": "contourcarpet"
                      }
                    ],
                    "heatmap": [
                      {
                        "colorbar": {
                          "outlinewidth": 0,
                          "ticks": ""
                        },
                        "colorscale": [
                          [
                            0,
                            "#0d0887"
                          ],
                          [
                            0.1111111111111111,
                            "#46039f"
                          ],
                          [
                            0.2222222222222222,
                            "#7201a8"
                          ],
                          [
                            0.3333333333333333,
                            "#9c179e"
                          ],
                          [
                            0.4444444444444444,
                            "#bd3786"
                          ],
                          [
                            0.5555555555555556,
                            "#d8576b"
                          ],
                          [
                            0.6666666666666666,
                            "#ed7953"
                          ],
                          [
                            0.7777777777777778,
                            "#fb9f3a"
                          ],
                          [
                            0.8888888888888888,
                            "#fdca26"
                          ],
                          [
                            1,
                            "#f0f921"
                          ]
                        ],
                        "type": "heatmap"
                      }
                    ],
                    "histogram": [
                      {
                        "marker": {
                          "pattern": {
                            "fillmode": "overlay",
                            "size": 10,
                            "solidity": 0.2
                          }
                        },
                        "type": "histogram"
                      }
                    ],
                    "histogram2d": [
                      {
                        "colorbar": {
                          "outlinewidth": 0,
                          "ticks": ""
                        },
                        "colorscale": [
                          [
                            0,
                            "#0d0887"
                          ],
                          [
                            0.1111111111111111,
                            "#46039f"
                          ],
                          [
                            0.2222222222222222,
                            "#7201a8"
                          ],
                          [
                            0.3333333333333333,
                            "#9c179e"
                          ],
                          [
                            0.4444444444444444,
                            "#bd3786"
                          ],
                          [
                            0.5555555555555556,
                            "#d8576b"
                          ],
                          [
                            0.6666666666666666,
                            "#ed7953"
                          ],
                          [
                            0.7777777777777778,
                            "#fb9f3a"
                          ],
                          [
                            0.8888888888888888,
                            "#fdca26"
                          ],
                          [
                            1,
                            "#f0f921"
                          ]
                        ],
                        "type": "histogram2d"
                      }
                    ],
                    "histogram2dcontour": [
                      {
                        "colorbar": {
                          "outlinewidth": 0,
                          "ticks": ""
                        },
                        "colorscale": [
                          [
                            0,
                            "#0d0887"
                          ],
                          [
                            0.1111111111111111,
                            "#46039f"
                          ],
                          [
                            0.2222222222222222,
                            "#7201a8"
                          ],
                          [
                            0.3333333333333333,
                            "#9c179e"
                          ],
                          [
                            0.4444444444444444,
                            "#bd3786"
                          ],
                          [
                            0.5555555555555556,
                            "#d8576b"
                          ],
                          [
                            0.6666666666666666,
                            "#ed7953"
                          ],
                          [
                            0.7777777777777778,
                            "#fb9f3a"
                          ],
                          [
                            0.8888888888888888,
                            "#fdca26"
                          ],
                          [
                            1,
                            "#f0f921"
                          ]
                        ],
                        "type": "histogram2dcontour"
                      }
                    ],
                    "mesh3d": [
                      {
                        "colorbar": {
                          "outlinewidth": 0,
                          "ticks": ""
                        },
                        "type": "mesh3d"
                      }
                    ],
                    "parcoords": [
                      {
                        "line": {
                          "colorbar": {
                            "outlinewidth": 0,
                            "ticks": ""
                          }
                        },
                        "type": "parcoords"
                      }
                    ],
                    "pie": [
                      {
                        "automargin": true,
                        "type": "pie"
                      }
                    ],
                    "scatter": [
                      {
                        "marker": {
                          "line": {
                            "color": "#283442"
                          }
                        },
                        "type": "scatter"
                      }
                    ],
                    "scatter3d": [
                      {
                        "line": {
                          "colorbar": {
                            "outlinewidth": 0,
                            "ticks": ""
                          }
                        },
                        "marker": {
                          "colorbar": {
                            "outlinewidth": 0,
                            "ticks": ""
                          }
                        },
                        "type": "scatter3d"
                      }
                    ],
                    "scattercarpet": [
                      {
                        "marker": {
                          "colorbar": {
                            "outlinewidth": 0,
                            "ticks": ""
                          }
                        },
                        "type": "scattercarpet"
                      }
                    ],
                    "scattergeo": [
                      {
                        "marker": {
                          "colorbar": {
                            "outlinewidth": 0,
                            "ticks": ""
                          }
                        },
                        "type": "scattergeo"
                      }
                    ],
                    "scattergl": [
                      {
                        "marker": {
                          "line": {
                            "color": "#283442"
                          }
                        },
                        "type": "scattergl"
                      }
                    ],
                    "scattermap": [
                      {
                        "marker": {
                          "colorbar": {
                            "outlinewidth": 0,
                            "ticks": ""
                          }
                        },
                        "type": "scattermap"
                      }
                    ],
                    "scattermapbox": [
                      {
                        "marker": {
                          "colorbar": {
                            "outlinewidth": 0,
                            "ticks": ""
                          }
                        },
                        "type": "scattermapbox"
                      }
                    ],
                    "scatterpolar": [
                      {
                        "marker": {
                          "colorbar": {
                            "outlinewidth": 0,
                            "ticks": ""
                          }
                        },
                        "type": "scatterpolar"
                      }
                    ],
                    "scatterpolargl": [
                      {
                        "marker": {
                          "colorbar": {
                            "outlinewidth": 0,
                            "ticks": ""
                          }
                        },
                        "type": "scatterpolargl"
                      }
                    ],
                    "scatterternary": [
                      {
                        "marker": {
                          "colorbar": {
                            "outlinewidth": 0,
                            "ticks": ""
                          }
                        },
                        "type": "scatterternary"
                      }
                    ],
                    "surface": [
                      {
                        "colorbar": {
                          "outlinewidth": 0,
                          "ticks": ""
                        },
                        "colorscale": [
                          [
                            0,
                            "#0d0887"
                          ],
                          [
                            0.1111111111111111,
                            "#46039f"
                          ],
                          [
                            0.2222222222222222,
                            "#7201a8"
                          ],
                          [
                            0.3333333333333333,
                            "#9c179e"
                          ],
                          [
                            0.4444444444444444,
                            "#bd3786"
                          ],
                          [
                            0.5555555555555556,
                            "#d8576b"
                          ],
                          [
                            0.6666666666666666,
                            "#ed7953"
                          ],
                          [
                            0.7777777777777778,
                            "#fb9f3a"
                          ],
                          [
                            0.8888888888888888,
                            "#fdca26"
                          ],
                          [
                            1,
                            "#f0f921"
                          ]
                        ],
                        "type": "surface"
                      }
                    ],
                    "table": [
                      {
                        "cells": {
                          "fill": {
                            "color": "#506784"
                          },
                          "line": {
                            "color": "rgb(17,17,17)"
                          }
                        },
                        "header": {
                          "fill": {
                            "color": "#2a3f5f"
                          },
                          "line": {
                            "color": "rgb(17,17,17)"
                          }
                        },
                        "type": "table"
                      }
                    ]
                  },
                  "layout": {
                    "annotationdefaults": {
                      "arrowcolor": "#f2f5fa",
                      "arrowhead": 0,
                      "arrowwidth": 1
                    },
                    "autotypenumbers": "strict",
                    "coloraxis": {
                      "colorbar": {
                        "outlinewidth": 0,
                        "ticks": ""
                      }
                    },
                    "colorscale": {
                      "diverging": [
                        [
                          0,
                          "#8e0152"
                        ],
                        [
                          0.1,
                          "#c51b7d"
                        ],
                        [
                          0.2,
                          "#de77ae"
                        ],
                        [
                          0.3,
                          "#f1b6da"
                        ],
                        [
                          0.4,
                          "#fde0ef"
                        ],
                        [
                          0.5,
                          "#f7f7f7"
                        ],
                        [
                          0.6,
                          "#e6f5d0"
                        ],
                        [
                          0.7,
                          "#b8e186"
                        ],
                        [
                          0.8,
                          "#7fbc41"
                        ],
                        [
                          0.9,
                          "#4d9221"
                        ],
                        [
                          1,
                          "#276419"
                        ]
                      ],
                      "sequential": [
                        [
                          0,
                          "#0d0887"
                        ],
                        [
                          0.1111111111111111,
                          "#46039f"
                        ],
                        [
                          0.2222222222222222,
                          "#7201a8"
                        ],
                        [
                          0.3333333333333333,
                          "#9c179e"
                        ],
                        [
                          0.4444444444444444,
                          "#bd3786"
                        ],
                        [
                          0.5555555555555556,
                          "#d8576b"
                        ],
                        [
                          0.6666666666666666,
                          "#ed7953"
                        ],
                        [
                          0.7777777777777778,
                          "#fb9f3a"
                        ],
                        [
                          0.8888888888888888,
                          "#fdca26"
                        ],
                        [
                          1,
                          "#f0f921"
                        ]
                      ],
                      "sequentialminus": [
                        [
                          0,
                          "#0d0887"
                        ],
                        [
                          0.1111111111111111,
                          "#46039f"
                        ],
                        [
                          0.2222222222222222,
                          "#7201a8"
                        ],
                        [
                          0.3333333333333333,
                          "#9c179e"
                        ],
                        [
                          0.4444444444444444,
                          "#bd3786"
                        ],
                        [
                          0.5555555555555556,
                          "#d8576b"
                        ],
                        [
                          0.6666666666666666,
                          "#ed7953"
                        ],
                        [
                          0.7777777777777778,
                          "#fb9f3a"
                        ],
                        [
                          0.8888888888888888,
                          "#fdca26"
                        ],
                        [
                          1,
                          "#f0f921"
                        ]
                      ]
                    },
                    "colorway": [
                      "#636efa",
                      "#EF553B",
                      "#00cc96",
                      "#ab63fa",
                      "#FFA15A",
                      "#19d3f3",
                      "#FF6692",
                      "#B6E880",
                      "#FF97FF",
                      "#FECB52"
                    ],
                    "font": {
                      "color": "#f2f5fa"
                    },
                    "geo": {
                      "bgcolor": "rgb(17,17,17)",
                      "lakecolor": "rgb(17,17,17)",
                      "landcolor": "rgb(17,17,17)",
                      "showlakes": true,
                      "showland": true,
                      "subunitcolor": "#506784"
                    },
                    "hoverlabel": {
                      "align": "left"
                    },
                    "hovermode": "closest",
                    "mapbox": {
                      "style": "dark"
                    },
                    "paper_bgcolor": "rgb(17,17,17)",
                    "plot_bgcolor": "rgb(17,17,17)",
                    "polar": {
                      "angularaxis": {
                        "gridcolor": "#506784",
                        "linecolor": "#506784",
                        "ticks": ""
                      },
                      "bgcolor": "rgb(17,17,17)",
                      "radialaxis": {
                        "gridcolor": "#506784",
                        "linecolor": "#506784",
                        "ticks": ""
                      }
                    },
                    "scene": {
                      "xaxis": {
                        "backgroundcolor": "rgb(17,17,17)",
                        "gridcolor": "#506784",
                        "gridwidth": 2,
                        "linecolor": "#506784",
                        "showbackground": true,
                        "ticks": "",
                        "zerolinecolor": "#C8D4E3"
                      },
                      "yaxis": {
                        "backgroundcolor": "rgb(17,17,17)",
                        "gridcolor": "#506784",
                        "gridwidth": 2,
                        "linecolor": "#506784",
                        "showbackground": true,
                        "ticks": "",
                        "zerolinecolor": "#C8D4E3"
                      },
                      "zaxis": {
                        "backgroundcolor": "rgb(17,17,17)",
                        "gridcolor": "#506784",
                        "gridwidth": 2,
                        "linecolor": "#506784",
                        "showbackground": true,
                        "ticks": "",
                        "zerolinecolor": "#C8D4E3"
                      }
                    },
                    "shapedefaults": {
                      "line": {
                        "color": "#f2f5fa"
                      }
                    },
                    "sliderdefaults": {
                      "bgcolor": "#C8D4E3",
                      "bordercolor": "rgb(17,17,17)",
                      "borderwidth": 1,
                      "tickwidth": 0
                    },
                    "ternary": {
                      "aaxis": {
                        "gridcolor": "#506784",
                        "linecolor": "#506784",
                        "ticks": ""
                      },
                      "baxis": {
                        "gridcolor": "#506784",
                        "linecolor": "#506784",
                        "ticks": ""
                      },
                      "bgcolor": "rgb(17,17,17)",
                      "caxis": {
                        "gridcolor": "#506784",
                        "linecolor": "#506784",
                        "ticks": ""
                      }
                    },
                    "title": {
                      "x": 0.05
                    },
                    "updatemenudefaults": {
                      "bgcolor": "#506784",
                      "borderwidth": 0
                    },
                    "xaxis": {
                      "automargin": true,
                      "gridcolor": "#283442",
                      "linecolor": "#506784",
                      "ticks": "",
                      "title": {
                        "standoff": 15
                      },
                      "zerolinecolor": "#283442",
                      "zerolinewidth": 2
                    },
                    "yaxis": {
                      "automargin": true,
                      "gridcolor": "#283442",
                      "linecolor": "#506784",
                      "ticks": "",
                      "title": {
                        "standoff": 15
                      },
                      "zerolinecolor": "#283442",
                      "zerolinewidth": 2
                    }
                  }
                },
                "width": 800
              }
            }
          },
          "metadata": {},
          "output_type": "display_data"
        },
        {
          "data": {
            "application/vnd.plotly.v1+json": {
              "config": {
                "plotlyServerURL": "https://plot.ly"
              },
              "data": [
                {
                  "i": {
                    "bdata": "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",
                    "dtype": "i2"
                  },
                  "j": {
                    "bdata": "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",
                    "dtype": "i2"
                  },
                  "k": {
                    "bdata": "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",
                    "dtype": "i2"
                  },
                  "type": "mesh3d",
                  "vertexcolor": [
                    "rgb(0.00, 0.00, 255.00)",
                    "rgb(0.00, 0.00, 255.00)",
                    "rgb(0.00, 0.00, 255.00)",
                    "rgb(0.00, 0.00, 255.00)",
                    "rgb(0.00, 0.00, 255.00)",
                    "rgb(0.00, 0.00, 255.00)",
                    "rgb(0.00, 0.00, 255.00)",
                    "rgb(0.00, 0.00, 255.00)",
                    "rgb(0.00, 0.00, 255.00)",
                    "rgb(0.00, 0.00, 255.00)",
                    "rgb(0.00, 0.00, 255.00)",
                    "rgb(0.00, 0.00, 255.00)",
                    "rgb(0.00, 0.00, 255.00)",
                    "rgb(0.00, 0.00, 255.00)",
                    "rgb(0.00, 0.00, 255.00)",
                    "rgb(0.00, 0.00, 255.00)",
                    "rgb(0.00, 0.00, 255.00)",
                    "rgb(0.00, 0.00, 255.00)",
                    "rgb(0.00, 0.00, 255.00)",
                    "rgb(0.00, 0.00, 255.00)",
                    "rgb(0.00, 0.00, 255.00)",
                    "rgb(0.00, 0.00, 255.00)",
                    "rgb(0.00, 0.00, 255.00)",
                    "rgb(0.00, 0.00, 255.00)",
                    "rgb(0.00, 0.00, 255.00)",
                    "rgb(0.00, 0.00, 255.00)",
                    "rgb(0.00, 0.00, 255.00)",
                    "rgb(0.00, 0.00, 255.00)",
                    "rgb(0.00, 0.00, 255.00)",
                    "rgb(0.00, 0.00, 255.00)",
                    "rgb(0.00, 0.00, 255.00)",
                    "rgb(0.00, 0.00, 255.00)",
                    "rgb(0.00, 0.00, 255.00)",
                    "rgb(0.00, 0.00, 255.00)",
                    "rgb(0.00, 0.00, 255.00)",
                    "rgb(0.00, 0.00, 255.00)",
                    "rgb(0.00, 0.00, 255.00)",
                    "rgb(0.00, 0.00, 255.00)",
                    "rgb(0.00, 0.00, 255.00)",
                    "rgb(0.00, 0.00, 255.00)",
                    "rgb(0.00, 0.00, 255.00)",
                    "rgb(0.00, 0.00, 255.00)",
                    "rgb(0.00, 0.00, 255.00)",
                    "rgb(0.00, 0.00, 255.00)",
                    "rgb(0.00, 0.00, 255.00)",
                    "rgb(0.00, 0.00, 255.00)",
                    "rgb(0.00, 0.00, 255.00)",
                    "rgb(0.00, 0.00, 255.00)",
                    "rgb(0.00, 0.00, 255.00)",
                    "rgb(0.00, 0.00, 255.00)",
                    "rgb(0.00, 0.00, 255.00)",
                    "rgb(0.00, 0.00, 255.00)",
                    "rgb(0.00, 0.00, 255.00)",
                    "rgb(0.00, 0.00, 255.00)",
                    "rgb(0.00, 0.00, 255.00)",
                    "rgb(0.00, 0.00, 255.00)",
                    "rgb(0.00, 0.00, 255.00)",
                    "rgb(0.00, 0.00, 255.00)",
                    "rgb(0.00, 0.00, 255.00)",
                    "rgb(0.00, 0.00, 255.00)",
                    "rgb(0.00, 0.00, 255.00)",
                    "rgb(0.00, 0.00, 255.00)",
                    "rgb(0.00, 0.00, 255.00)",
                    "rgb(0.00, 0.00, 255.00)",
                    "rgb(0.00, 0.00, 255.00)",
                    "rgb(0.00, 0.00, 255.00)",
                    "rgb(0.00, 0.00, 255.00)",
                    "rgb(0.00, 0.00, 255.00)",
                    "rgb(0.00, 0.00, 255.00)",
                    "rgb(0.00, 0.00, 255.00)",
                    "rgb(0.00, 0.00, 255.00)",
                    "rgb(0.00, 0.00, 255.00)",
                    "rgb(0.00, 0.00, 255.00)",
                    "rgb(0.00, 0.00, 255.00)",
                    "rgb(0.00, 0.00, 255.00)",
                    "rgb(0.00, 0.00, 255.00)",
                    "rgb(0.00, 0.00, 255.00)",
                    "rgb(0.00, 0.00, 255.00)",
                    "rgb(0.00, 0.00, 255.00)",
                    "rgb(0.00, 0.00, 255.00)",
                    "rgb(0.00, 0.00, 255.00)",
                    "rgb(0.00, 0.00, 255.00)",
                    "rgb(0.00, 0.00, 255.00)",
                    "rgb(0.00, 0.00, 255.00)",
                    "rgb(0.00, 0.00, 255.00)",
                    "rgb(0.00, 0.00, 255.00)",
                    "rgb(0.00, 0.00, 255.00)",
                    "rgb(0.00, 0.00, 255.00)",
                    "rgb(0.00, 0.00, 255.00)",
                    "rgb(0.00, 0.00, 255.00)",
                    "rgb(0.00, 0.00, 255.00)",
                    "rgb(0.00, 0.00, 255.00)",
                    "rgb(0.00, 0.00, 255.00)",
                    "rgb(0.00, 0.00, 255.00)",
                    "rgb(0.00, 0.00, 255.00)",
                    "rgb(0.00, 0.00, 255.00)",
                    "rgb(0.00, 0.00, 255.00)",
                    "rgb(0.00, 0.00, 255.00)",
                    "rgb(0.00, 0.00, 255.00)",
                    "rgb(0.00, 0.00, 255.00)",
                    "rgb(0.00, 0.00, 255.00)",
                    "rgb(0.00, 0.00, 255.00)",
                    "rgb(0.00, 0.00, 255.00)",
                    "rgb(0.00, 0.00, 255.00)",
                    "rgb(0.00, 0.00, 255.00)",
                    "rgb(0.00, 0.00, 255.00)",
                    "rgb(0.00, 0.00, 255.00)",
                    "rgb(0.00, 0.00, 255.00)",
                    "rgb(0.00, 0.00, 255.00)",
                    "rgb(0.00, 0.00, 255.00)",
                    "rgb(0.00, 0.00, 255.00)",
                    "rgb(0.00, 0.00, 255.00)",
                    "rgb(0.00, 0.00, 255.00)",
                    "rgb(0.00, 0.00, 255.00)",
                    "rgb(0.00, 0.00, 255.00)",
                    "rgb(0.00, 0.00, 255.00)",
                    "rgb(0.00, 0.00, 255.00)",
                    "rgb(0.00, 0.00, 255.00)",
                    "rgb(0.00, 0.00, 255.00)",
                    "rgb(0.00, 0.00, 255.00)",
                    "rgb(0.00, 0.00, 255.00)",
                    "rgb(0.00, 0.00, 255.00)",
                    "rgb(0.00, 0.00, 255.00)",
                    "rgb(0.00, 0.00, 255.00)",
                    "rgb(0.00, 0.00, 255.00)",
                    "rgb(0.00, 0.00, 255.00)",
                    "rgb(0.00, 0.00, 255.00)",
                    "rgb(0.00, 0.00, 255.00)",
                    "rgb(0.00, 0.00, 255.00)",
                    "rgb(0.00, 0.00, 255.00)",
                    "rgb(0.00, 0.00, 255.00)",
                    "rgb(0.00, 0.00, 255.00)",
                    "rgb(0.00, 0.00, 255.00)",
                    "rgb(0.00, 0.00, 255.00)",
                    "rgb(0.00, 0.00, 255.00)",
                    "rgb(0.00, 0.00, 255.00)",
                    "rgb(0.00, 0.00, 255.00)",
                    "rgb(0.00, 0.00, 255.00)",
                    "rgb(0.00, 0.00, 255.00)",
                    "rgb(0.00, 0.00, 255.00)",
                    "rgb(0.00, 0.00, 255.00)",
                    "rgb(0.00, 0.00, 255.00)",
                    "rgb(0.00, 0.00, 255.00)",
                    "rgb(0.00, 0.00, 255.00)",
                    "rgb(0.00, 0.00, 255.00)",
                    "rgb(0.00, 0.00, 255.00)",
                    "rgb(0.00, 0.00, 255.00)",
                    "rgb(0.00, 0.00, 255.00)",
                    "rgb(0.00, 0.00, 255.00)",
                    "rgb(0.00, 0.00, 255.00)",
                    "rgb(0.00, 0.00, 255.00)",
                    "rgb(0.00, 0.00, 255.00)",
                    "rgb(0.00, 0.00, 255.00)",
                    "rgb(0.00, 0.00, 255.00)",
                    "rgb(0.00, 0.00, 255.00)",
                    "rgb(0.00, 0.00, 255.00)",
                    "rgb(0.00, 0.00, 255.00)",
                    "rgb(0.00, 0.00, 255.00)",
                    "rgb(0.00, 0.00, 255.00)",
                    "rgb(0.00, 0.00, 255.00)",
                    "rgb(0.00, 0.00, 255.00)",
                    "rgb(0.00, 0.00, 255.00)",
                    "rgb(0.00, 0.00, 255.00)",
                    "rgb(0.00, 0.00, 255.00)",
                    "rgb(0.00, 0.00, 255.00)",
                    "rgb(0.00, 0.00, 255.00)",
                    "rgb(0.00, 0.00, 255.00)",
                    "rgb(0.00, 0.00, 255.00)",
                    "rgb(0.00, 0.00, 255.00)",
                    "rgb(0.00, 0.00, 255.00)",
                    "rgb(0.00, 0.00, 255.00)",
                    "rgb(0.00, 0.00, 255.00)",
                    "rgb(0.00, 0.00, 255.00)",
                    "rgb(0.00, 0.00, 255.00)",
                    "rgb(0.00, 0.00, 255.00)",
                    "rgb(0.00, 0.00, 255.00)",
                    "rgb(0.00, 0.00, 255.00)",
                    "rgb(0.00, 0.00, 255.00)",
                    "rgb(0.00, 0.00, 255.00)",
                    "rgb(0.00, 0.00, 255.00)",
                    "rgb(0.00, 0.00, 255.00)",
                    "rgb(0.00, 0.00, 255.00)",
                    "rgb(0.00, 0.00, 255.00)",
                    "rgb(0.00, 0.00, 255.00)",
                    "rgb(0.00, 0.00, 255.00)",
                    "rgb(0.00, 0.00, 255.00)",
                    "rgb(0.00, 0.00, 255.00)",
                    "rgb(0.00, 0.00, 255.00)",
                    "rgb(0.00, 255.00, 255.00)",
                    "rgb(0.00, 255.00, 255.00)",
                    "rgb(0.00, 255.00, 255.00)",
                    "rgb(0.00, 255.00, 255.00)",
                    "rgb(0.00, 255.00, 255.00)",
                    "rgb(0.00, 255.00, 255.00)",
                    "rgb(0.00, 255.00, 255.00)",
                    "rgb(0.00, 255.00, 255.00)",
                    "rgb(0.00, 255.00, 255.00)",
                    "rgb(0.00, 255.00, 255.00)",
                    "rgb(0.00, 255.00, 255.00)",
                    "rgb(0.00, 255.00, 255.00)",
                    "rgb(0.00, 255.00, 255.00)",
                    "rgb(0.00, 255.00, 255.00)",
                    "rgb(0.00, 255.00, 255.00)",
                    "rgb(0.00, 255.00, 255.00)",
                    "rgb(0.00, 255.00, 255.00)",
                    "rgb(0.00, 255.00, 255.00)",
                    "rgb(0.00, 255.00, 255.00)",
                    "rgb(0.00, 255.00, 255.00)",
                    "rgb(0.00, 255.00, 255.00)",
                    "rgb(0.00, 255.00, 255.00)",
                    "rgb(0.00, 255.00, 255.00)",
                    "rgb(0.00, 255.00, 255.00)",
                    "rgb(0.00, 255.00, 255.00)",
                    "rgb(0.00, 255.00, 255.00)",
                    "rgb(0.00, 255.00, 255.00)",
                    "rgb(0.00, 255.00, 255.00)",
                    "rgb(0.00, 255.00, 255.00)",
                    "rgb(0.00, 255.00, 255.00)",
                    "rgb(0.00, 255.00, 255.00)",
                    "rgb(0.00, 255.00, 255.00)",
                    "rgb(0.00, 255.00, 255.00)",
                    "rgb(0.00, 255.00, 255.00)",
                    "rgb(0.00, 255.00, 255.00)",
                    "rgb(0.00, 255.00, 255.00)",
                    "rgb(0.00, 255.00, 255.00)",
                    "rgb(0.00, 255.00, 255.00)",
                    "rgb(0.00, 255.00, 255.00)",
                    "rgb(0.00, 255.00, 255.00)",
                    "rgb(0.00, 255.00, 255.00)",
                    "rgb(0.00, 255.00, 255.00)",
                    "rgb(0.00, 255.00, 255.00)",
                    "rgb(0.00, 255.00, 255.00)",
                    "rgb(0.00, 255.00, 255.00)",
                    "rgb(0.00, 255.00, 255.00)",
                    "rgb(0.00, 255.00, 255.00)",
                    "rgb(0.00, 255.00, 255.00)",
                    "rgb(0.00, 255.00, 255.00)",
                    "rgb(0.00, 255.00, 255.00)",
                    "rgb(0.00, 255.00, 255.00)",
                    "rgb(0.00, 255.00, 255.00)",
                    "rgb(0.00, 255.00, 255.00)",
                    "rgb(0.00, 255.00, 255.00)",
                    "rgb(0.00, 255.00, 255.00)",
                    "rgb(0.00, 255.00, 255.00)",
                    "rgb(0.00, 255.00, 255.00)",
                    "rgb(0.00, 255.00, 255.00)",
                    "rgb(0.00, 255.00, 255.00)",
                    "rgb(0.00, 255.00, 255.00)",
                    "rgb(0.00, 255.00, 255.00)",
                    "rgb(0.00, 255.00, 255.00)",
                    "rgb(0.00, 255.00, 255.00)",
                    "rgb(0.00, 255.00, 255.00)",
                    "rgb(0.00, 255.00, 255.00)",
                    "rgb(0.00, 255.00, 255.00)",
                    "rgb(0.00, 255.00, 255.00)",
                    "rgb(0.00, 255.00, 255.00)",
                    "rgb(0.00, 255.00, 255.00)",
                    "rgb(0.00, 255.00, 255.00)",
                    "rgb(0.00, 255.00, 255.00)",
                    "rgb(0.00, 255.00, 255.00)",
                    "rgb(0.00, 255.00, 255.00)",
                    "rgb(0.00, 255.00, 255.00)",
                    "rgb(0.00, 255.00, 255.00)",
                    "rgb(0.00, 255.00, 255.00)",
                    "rgb(0.00, 255.00, 255.00)",
                    "rgb(0.00, 255.00, 255.00)",
                    "rgb(0.00, 255.00, 255.00)",
                    "rgb(0.00, 255.00, 255.00)",
                    "rgb(0.00, 255.00, 255.00)",
                    "rgb(0.00, 255.00, 255.00)",
                    "rgb(0.00, 255.00, 255.00)",
                    "rgb(0.00, 255.00, 255.00)",
                    "rgb(0.00, 255.00, 255.00)",
                    "rgb(0.00, 255.00, 255.00)",
                    "rgb(0.00, 255.00, 255.00)",
                    "rgb(0.00, 255.00, 255.00)",
                    "rgb(0.00, 255.00, 255.00)",
                    "rgb(0.00, 255.00, 255.00)",
                    "rgb(0.00, 255.00, 255.00)",
                    "rgb(0.00, 255.00, 255.00)",
                    "rgb(0.00, 255.00, 255.00)",
                    "rgb(0.00, 255.00, 255.00)",
                    "rgb(0.00, 255.00, 255.00)",
                    "rgb(0.00, 255.00, 255.00)",
                    "rgb(0.00, 255.00, 255.00)",
                    "rgb(0.00, 255.00, 255.00)",
                    "rgb(0.00, 255.00, 255.00)",
                    "rgb(0.00, 255.00, 255.00)",
                    "rgb(0.00, 255.00, 255.00)",
                    "rgb(0.00, 255.00, 255.00)",
                    "rgb(0.00, 255.00, 255.00)",
                    "rgb(0.00, 255.00, 255.00)",
                    "rgb(0.00, 255.00, 255.00)",
                    "rgb(0.00, 255.00, 255.00)",
                    "rgb(0.00, 255.00, 255.00)",
                    "rgb(0.00, 255.00, 255.00)",
                    "rgb(0.00, 255.00, 255.00)",
                    "rgb(0.00, 255.00, 255.00)",
                    "rgb(0.00, 255.00, 255.00)",
                    "rgb(0.00, 255.00, 255.00)",
                    "rgb(0.00, 255.00, 255.00)",
                    "rgb(0.00, 255.00, 255.00)",
                    "rgb(0.00, 255.00, 255.00)",
                    "rgb(0.00, 255.00, 255.00)",
                    "rgb(0.00, 255.00, 255.00)",
                    "rgb(0.00, 255.00, 255.00)",
                    "rgb(0.00, 255.00, 255.00)",
                    "rgb(0.00, 255.00, 255.00)",
                    "rgb(0.00, 255.00, 255.00)",
                    "rgb(0.00, 255.00, 255.00)",
                    "rgb(0.00, 255.00, 255.00)",
                    "rgb(0.00, 255.00, 255.00)",
                    "rgb(0.00, 255.00, 255.00)",
                    "rgb(0.00, 255.00, 255.00)",
                    "rgb(0.00, 255.00, 255.00)",
                    "rgb(0.00, 255.00, 255.00)",
                    "rgb(0.00, 255.00, 255.00)",
                    "rgb(0.00, 255.00, 255.00)",
                    "rgb(0.00, 255.00, 255.00)",
                    "rgb(0.00, 255.00, 255.00)",
                    "rgb(0.00, 255.00, 255.00)",
                    "rgb(0.00, 255.00, 255.00)",
                    "rgb(0.00, 255.00, 255.00)",
                    "rgb(0.00, 255.00, 255.00)",
                    "rgb(0.00, 255.00, 255.00)",
                    "rgb(0.00, 255.00, 255.00)",
                    "rgb(0.00, 255.00, 255.00)",
                    "rgb(0.00, 255.00, 255.00)",
                    "rgb(0.00, 255.00, 255.00)",
                    "rgb(0.00, 255.00, 255.00)",
                    "rgb(0.00, 255.00, 255.00)",
                    "rgb(0.00, 255.00, 255.00)",
                    "rgb(0.00, 255.00, 255.00)",
                    "rgb(0.00, 255.00, 255.00)",
                    "rgb(0.00, 255.00, 255.00)",
                    "rgb(0.00, 255.00, 255.00)",
                    "rgb(0.00, 255.00, 255.00)",
                    "rgb(0.00, 255.00, 255.00)",
                    "rgb(0.00, 255.00, 255.00)",
                    "rgb(0.00, 255.00, 255.00)",
                    "rgb(0.00, 255.00, 255.00)",
                    "rgb(0.00, 255.00, 255.00)",
                    "rgb(0.00, 255.00, 255.00)",
                    "rgb(0.00, 255.00, 255.00)",
                    "rgb(0.00, 255.00, 255.00)",
                    "rgb(0.00, 255.00, 255.00)",
                    "rgb(0.00, 255.00, 255.00)",
                    "rgb(0.00, 255.00, 255.00)",
                    "rgb(0.00, 255.00, 255.00)",
                    "rgb(0.00, 255.00, 255.00)",
                    "rgb(0.00, 255.00, 255.00)",
                    "rgb(0.00, 255.00, 255.00)",
                    "rgb(0.00, 255.00, 255.00)",
                    "rgb(0.00, 255.00, 255.00)",
                    "rgb(0.00, 255.00, 255.00)",
                    "rgb(0.00, 255.00, 255.00)",
                    "rgb(0.00, 255.00, 255.00)",
                    "rgb(0.00, 255.00, 255.00)",
                    "rgb(0.00, 255.00, 255.00)",
                    "rgb(0.00, 255.00, 255.00)",
                    "rgb(0.00, 255.00, 255.00)",
                    "rgb(0.00, 255.00, 255.00)",
                    "rgb(0.00, 255.00, 255.00)",
                    "rgb(0.00, 255.00, 255.00)",
                    "rgb(0.00, 255.00, 255.00)",
                    "rgb(0.00, 255.00, 255.00)",
                    "rgb(0.00, 255.00, 255.00)",
                    "rgb(0.00, 255.00, 255.00)",
                    "rgb(0.00, 255.00, 255.00)",
                    "rgb(0.00, 255.00, 255.00)",
                    "rgb(0.00, 255.00, 255.00)",
                    "rgb(0.00, 255.00, 255.00)",
                    "rgb(0.00, 255.00, 255.00)",
                    "rgb(0.00, 255.00, 255.00)",
                    "rgb(0.00, 255.00, 255.00)",
                    "rgb(0.00, 255.00, 255.00)",
                    "rgb(0.00, 255.00, 255.00)",
                    "rgb(0.00, 255.00, 255.00)",
                    "rgb(0.00, 255.00, 255.00)",
                    "rgb(0.00, 255.00, 255.00)"
                  ],
                  "x": {
                    "bdata": "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",
                    "dtype": "f8"
                  },
                  "y": {
                    "bdata": "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",
                    "dtype": "f8"
                  },
                  "z": {
                    "bdata": "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",
                    "dtype": "f8"
                  }
                },
                {
                  "marker": {
                    "color": "red",
                    "size": 2
                  },
                  "mode": "markers",
                  "showlegend": false,
                  "type": "scatter3d",
                  "x": [],
                  "y": [],
                  "z": []
                }
              ],
              "layout": {
                "height": 500,
                "margin": {
                  "b": 10,
                  "l": 10,
                  "pad": 4,
                  "r": 10,
                  "t": 10
                },
                "paper_bgcolor": "black",
                "scene": {
                  "aspectmode": "cube",
                  "camera": {
                    "center": {
                      "x": 0,
                      "y": 0,
                      "z": -0.4878060677007121
                    },
                    "eye": {
                      "x": -0.7142857142857143,
                      "y": -1.4285714285714286,
                      "z": 0.2142857142857143
                    }
                  },
                  "xaxis": {
                    "backgroundcolor": "black",
                    "nticks": 10,
                    "range": [
                      199.749,
                      220.251
                    ]
                  },
                  "yaxis": {
                    "backgroundcolor": "black",
                    "nticks": 10,
                    "range": [
                      199.749,
                      220.251
                    ]
                  },
                  "zaxis": {
                    "backgroundcolor": "black",
                    "nticks": 10,
                    "range": [
                      0,
                      20.502
                    ]
                  }
                },
                "template": {
                  "data": {
                    "bar": [
                      {
                        "error_x": {
                          "color": "#f2f5fa"
                        },
                        "error_y": {
                          "color": "#f2f5fa"
                        },
                        "marker": {
                          "line": {
                            "color": "rgb(17,17,17)",
                            "width": 0.5
                          },
                          "pattern": {
                            "fillmode": "overlay",
                            "size": 10,
                            "solidity": 0.2
                          }
                        },
                        "type": "bar"
                      }
                    ],
                    "barpolar": [
                      {
                        "marker": {
                          "line": {
                            "color": "rgb(17,17,17)",
                            "width": 0.5
                          },
                          "pattern": {
                            "fillmode": "overlay",
                            "size": 10,
                            "solidity": 0.2
                          }
                        },
                        "type": "barpolar"
                      }
                    ],
                    "carpet": [
                      {
                        "aaxis": {
                          "endlinecolor": "#A2B1C6",
                          "gridcolor": "#506784",
                          "linecolor": "#506784",
                          "minorgridcolor": "#506784",
                          "startlinecolor": "#A2B1C6"
                        },
                        "baxis": {
                          "endlinecolor": "#A2B1C6",
                          "gridcolor": "#506784",
                          "linecolor": "#506784",
                          "minorgridcolor": "#506784",
                          "startlinecolor": "#A2B1C6"
                        },
                        "type": "carpet"
                      }
                    ],
                    "choropleth": [
                      {
                        "colorbar": {
                          "outlinewidth": 0,
                          "ticks": ""
                        },
                        "type": "choropleth"
                      }
                    ],
                    "contour": [
                      {
                        "colorbar": {
                          "outlinewidth": 0,
                          "ticks": ""
                        },
                        "colorscale": [
                          [
                            0,
                            "#0d0887"
                          ],
                          [
                            0.1111111111111111,
                            "#46039f"
                          ],
                          [
                            0.2222222222222222,
                            "#7201a8"
                          ],
                          [
                            0.3333333333333333,
                            "#9c179e"
                          ],
                          [
                            0.4444444444444444,
                            "#bd3786"
                          ],
                          [
                            0.5555555555555556,
                            "#d8576b"
                          ],
                          [
                            0.6666666666666666,
                            "#ed7953"
                          ],
                          [
                            0.7777777777777778,
                            "#fb9f3a"
                          ],
                          [
                            0.8888888888888888,
                            "#fdca26"
                          ],
                          [
                            1,
                            "#f0f921"
                          ]
                        ],
                        "type": "contour"
                      }
                    ],
                    "contourcarpet": [
                      {
                        "colorbar": {
                          "outlinewidth": 0,
                          "ticks": ""
                        },
                        "type": "contourcarpet"
                      }
                    ],
                    "heatmap": [
                      {
                        "colorbar": {
                          "outlinewidth": 0,
                          "ticks": ""
                        },
                        "colorscale": [
                          [
                            0,
                            "#0d0887"
                          ],
                          [
                            0.1111111111111111,
                            "#46039f"
                          ],
                          [
                            0.2222222222222222,
                            "#7201a8"
                          ],
                          [
                            0.3333333333333333,
                            "#9c179e"
                          ],
                          [
                            0.4444444444444444,
                            "#bd3786"
                          ],
                          [
                            0.5555555555555556,
                            "#d8576b"
                          ],
                          [
                            0.6666666666666666,
                            "#ed7953"
                          ],
                          [
                            0.7777777777777778,
                            "#fb9f3a"
                          ],
                          [
                            0.8888888888888888,
                            "#fdca26"
                          ],
                          [
                            1,
                            "#f0f921"
                          ]
                        ],
                        "type": "heatmap"
                      }
                    ],
                    "histogram": [
                      {
                        "marker": {
                          "pattern": {
                            "fillmode": "overlay",
                            "size": 10,
                            "solidity": 0.2
                          }
                        },
                        "type": "histogram"
                      }
                    ],
                    "histogram2d": [
                      {
                        "colorbar": {
                          "outlinewidth": 0,
                          "ticks": ""
                        },
                        "colorscale": [
                          [
                            0,
                            "#0d0887"
                          ],
                          [
                            0.1111111111111111,
                            "#46039f"
                          ],
                          [
                            0.2222222222222222,
                            "#7201a8"
                          ],
                          [
                            0.3333333333333333,
                            "#9c179e"
                          ],
                          [
                            0.4444444444444444,
                            "#bd3786"
                          ],
                          [
                            0.5555555555555556,
                            "#d8576b"
                          ],
                          [
                            0.6666666666666666,
                            "#ed7953"
                          ],
                          [
                            0.7777777777777778,
                            "#fb9f3a"
                          ],
                          [
                            0.8888888888888888,
                            "#fdca26"
                          ],
                          [
                            1,
                            "#f0f921"
                          ]
                        ],
                        "type": "histogram2d"
                      }
                    ],
                    "histogram2dcontour": [
                      {
                        "colorbar": {
                          "outlinewidth": 0,
                          "ticks": ""
                        },
                        "colorscale": [
                          [
                            0,
                            "#0d0887"
                          ],
                          [
                            0.1111111111111111,
                            "#46039f"
                          ],
                          [
                            0.2222222222222222,
                            "#7201a8"
                          ],
                          [
                            0.3333333333333333,
                            "#9c179e"
                          ],
                          [
                            0.4444444444444444,
                            "#bd3786"
                          ],
                          [
                            0.5555555555555556,
                            "#d8576b"
                          ],
                          [
                            0.6666666666666666,
                            "#ed7953"
                          ],
                          [
                            0.7777777777777778,
                            "#fb9f3a"
                          ],
                          [
                            0.8888888888888888,
                            "#fdca26"
                          ],
                          [
                            1,
                            "#f0f921"
                          ]
                        ],
                        "type": "histogram2dcontour"
                      }
                    ],
                    "mesh3d": [
                      {
                        "colorbar": {
                          "outlinewidth": 0,
                          "ticks": ""
                        },
                        "type": "mesh3d"
                      }
                    ],
                    "parcoords": [
                      {
                        "line": {
                          "colorbar": {
                            "outlinewidth": 0,
                            "ticks": ""
                          }
                        },
                        "type": "parcoords"
                      }
                    ],
                    "pie": [
                      {
                        "automargin": true,
                        "type": "pie"
                      }
                    ],
                    "scatter": [
                      {
                        "marker": {
                          "line": {
                            "color": "#283442"
                          }
                        },
                        "type": "scatter"
                      }
                    ],
                    "scatter3d": [
                      {
                        "line": {
                          "colorbar": {
                            "outlinewidth": 0,
                            "ticks": ""
                          }
                        },
                        "marker": {
                          "colorbar": {
                            "outlinewidth": 0,
                            "ticks": ""
                          }
                        },
                        "type": "scatter3d"
                      }
                    ],
                    "scattercarpet": [
                      {
                        "marker": {
                          "colorbar": {
                            "outlinewidth": 0,
                            "ticks": ""
                          }
                        },
                        "type": "scattercarpet"
                      }
                    ],
                    "scattergeo": [
                      {
                        "marker": {
                          "colorbar": {
                            "outlinewidth": 0,
                            "ticks": ""
                          }
                        },
                        "type": "scattergeo"
                      }
                    ],
                    "scattergl": [
                      {
                        "marker": {
                          "line": {
                            "color": "#283442"
                          }
                        },
                        "type": "scattergl"
                      }
                    ],
                    "scattermap": [
                      {
                        "marker": {
                          "colorbar": {
                            "outlinewidth": 0,
                            "ticks": ""
                          }
                        },
                        "type": "scattermap"
                      }
                    ],
                    "scattermapbox": [
                      {
                        "marker": {
                          "colorbar": {
                            "outlinewidth": 0,
                            "ticks": ""
                          }
                        },
                        "type": "scattermapbox"
                      }
                    ],
                    "scatterpolar": [
                      {
                        "marker": {
                          "colorbar": {
                            "outlinewidth": 0,
                            "ticks": ""
                          }
                        },
                        "type": "scatterpolar"
                      }
                    ],
                    "scatterpolargl": [
                      {
                        "marker": {
                          "colorbar": {
                            "outlinewidth": 0,
                            "ticks": ""
                          }
                        },
                        "type": "scatterpolargl"
                      }
                    ],
                    "scatterternary": [
                      {
                        "marker": {
                          "colorbar": {
                            "outlinewidth": 0,
                            "ticks": ""
                          }
                        },
                        "type": "scatterternary"
                      }
                    ],
                    "surface": [
                      {
                        "colorbar": {
                          "outlinewidth": 0,
                          "ticks": ""
                        },
                        "colorscale": [
                          [
                            0,
                            "#0d0887"
                          ],
                          [
                            0.1111111111111111,
                            "#46039f"
                          ],
                          [
                            0.2222222222222222,
                            "#7201a8"
                          ],
                          [
                            0.3333333333333333,
                            "#9c179e"
                          ],
                          [
                            0.4444444444444444,
                            "#bd3786"
                          ],
                          [
                            0.5555555555555556,
                            "#d8576b"
                          ],
                          [
                            0.6666666666666666,
                            "#ed7953"
                          ],
                          [
                            0.7777777777777778,
                            "#fb9f3a"
                          ],
                          [
                            0.8888888888888888,
                            "#fdca26"
                          ],
                          [
                            1,
                            "#f0f921"
                          ]
                        ],
                        "type": "surface"
                      }
                    ],
                    "table": [
                      {
                        "cells": {
                          "fill": {
                            "color": "#506784"
                          },
                          "line": {
                            "color": "rgb(17,17,17)"
                          }
                        },
                        "header": {
                          "fill": {
                            "color": "#2a3f5f"
                          },
                          "line": {
                            "color": "rgb(17,17,17)"
                          }
                        },
                        "type": "table"
                      }
                    ]
                  },
                  "layout": {
                    "annotationdefaults": {
                      "arrowcolor": "#f2f5fa",
                      "arrowhead": 0,
                      "arrowwidth": 1
                    },
                    "autotypenumbers": "strict",
                    "coloraxis": {
                      "colorbar": {
                        "outlinewidth": 0,
                        "ticks": ""
                      }
                    },
                    "colorscale": {
                      "diverging": [
                        [
                          0,
                          "#8e0152"
                        ],
                        [
                          0.1,
                          "#c51b7d"
                        ],
                        [
                          0.2,
                          "#de77ae"
                        ],
                        [
                          0.3,
                          "#f1b6da"
                        ],
                        [
                          0.4,
                          "#fde0ef"
                        ],
                        [
                          0.5,
                          "#f7f7f7"
                        ],
                        [
                          0.6,
                          "#e6f5d0"
                        ],
                        [
                          0.7,
                          "#b8e186"
                        ],
                        [
                          0.8,
                          "#7fbc41"
                        ],
                        [
                          0.9,
                          "#4d9221"
                        ],
                        [
                          1,
                          "#276419"
                        ]
                      ],
                      "sequential": [
                        [
                          0,
                          "#0d0887"
                        ],
                        [
                          0.1111111111111111,
                          "#46039f"
                        ],
                        [
                          0.2222222222222222,
                          "#7201a8"
                        ],
                        [
                          0.3333333333333333,
                          "#9c179e"
                        ],
                        [
                          0.4444444444444444,
                          "#bd3786"
                        ],
                        [
                          0.5555555555555556,
                          "#d8576b"
                        ],
                        [
                          0.6666666666666666,
                          "#ed7953"
                        ],
                        [
                          0.7777777777777778,
                          "#fb9f3a"
                        ],
                        [
                          0.8888888888888888,
                          "#fdca26"
                        ],
                        [
                          1,
                          "#f0f921"
                        ]
                      ],
                      "sequentialminus": [
                        [
                          0,
                          "#0d0887"
                        ],
                        [
                          0.1111111111111111,
                          "#46039f"
                        ],
                        [
                          0.2222222222222222,
                          "#7201a8"
                        ],
                        [
                          0.3333333333333333,
                          "#9c179e"
                        ],
                        [
                          0.4444444444444444,
                          "#bd3786"
                        ],
                        [
                          0.5555555555555556,
                          "#d8576b"
                        ],
                        [
                          0.6666666666666666,
                          "#ed7953"
                        ],
                        [
                          0.7777777777777778,
                          "#fb9f3a"
                        ],
                        [
                          0.8888888888888888,
                          "#fdca26"
                        ],
                        [
                          1,
                          "#f0f921"
                        ]
                      ]
                    },
                    "colorway": [
                      "#636efa",
                      "#EF553B",
                      "#00cc96",
                      "#ab63fa",
                      "#FFA15A",
                      "#19d3f3",
                      "#FF6692",
                      "#B6E880",
                      "#FF97FF",
                      "#FECB52"
                    ],
                    "font": {
                      "color": "#f2f5fa"
                    },
                    "geo": {
                      "bgcolor": "rgb(17,17,17)",
                      "lakecolor": "rgb(17,17,17)",
                      "landcolor": "rgb(17,17,17)",
                      "showlakes": true,
                      "showland": true,
                      "subunitcolor": "#506784"
                    },
                    "hoverlabel": {
                      "align": "left"
                    },
                    "hovermode": "closest",
                    "mapbox": {
                      "style": "dark"
                    },
                    "paper_bgcolor": "rgb(17,17,17)",
                    "plot_bgcolor": "rgb(17,17,17)",
                    "polar": {
                      "angularaxis": {
                        "gridcolor": "#506784",
                        "linecolor": "#506784",
                        "ticks": ""
                      },
                      "bgcolor": "rgb(17,17,17)",
                      "radialaxis": {
                        "gridcolor": "#506784",
                        "linecolor": "#506784",
                        "ticks": ""
                      }
                    },
                    "scene": {
                      "xaxis": {
                        "backgroundcolor": "rgb(17,17,17)",
                        "gridcolor": "#506784",
                        "gridwidth": 2,
                        "linecolor": "#506784",
                        "showbackground": true,
                        "ticks": "",
                        "zerolinecolor": "#C8D4E3"
                      },
                      "yaxis": {
                        "backgroundcolor": "rgb(17,17,17)",
                        "gridcolor": "#506784",
                        "gridwidth": 2,
                        "linecolor": "#506784",
                        "showbackground": true,
                        "ticks": "",
                        "zerolinecolor": "#C8D4E3"
                      },
                      "zaxis": {
                        "backgroundcolor": "rgb(17,17,17)",
                        "gridcolor": "#506784",
                        "gridwidth": 2,
                        "linecolor": "#506784",
                        "showbackground": true,
                        "ticks": "",
                        "zerolinecolor": "#C8D4E3"
                      }
                    },
                    "shapedefaults": {
                      "line": {
                        "color": "#f2f5fa"
                      }
                    },
                    "sliderdefaults": {
                      "bgcolor": "#C8D4E3",
                      "bordercolor": "rgb(17,17,17)",
                      "borderwidth": 1,
                      "tickwidth": 0
                    },
                    "ternary": {
                      "aaxis": {
                        "gridcolor": "#506784",
                        "linecolor": "#506784",
                        "ticks": ""
                      },
                      "baxis": {
                        "gridcolor": "#506784",
                        "linecolor": "#506784",
                        "ticks": ""
                      },
                      "bgcolor": "rgb(17,17,17)",
                      "caxis": {
                        "gridcolor": "#506784",
                        "linecolor": "#506784",
                        "ticks": ""
                      }
                    },
                    "title": {
                      "x": 0.05
                    },
                    "updatemenudefaults": {
                      "bgcolor": "#506784",
                      "borderwidth": 0
                    },
                    "xaxis": {
                      "automargin": true,
                      "gridcolor": "#283442",
                      "linecolor": "#506784",
                      "ticks": "",
                      "title": {
                        "standoff": 15
                      },
                      "zerolinecolor": "#283442",
                      "zerolinewidth": 2
                    },
                    "yaxis": {
                      "automargin": true,
                      "gridcolor": "#283442",
                      "linecolor": "#506784",
                      "ticks": "",
                      "title": {
                        "standoff": 15
                      },
                      "zerolinecolor": "#283442",
                      "zerolinewidth": 2
                    }
                  }
                },
                "width": 800
              }
            }
          },
          "metadata": {},
          "output_type": "display_data"
        },
        {
          "name": "stdout",
          "output_type": "stream",
          "text": [
            "warning: plot style is not set - defaulting to 'tube', which shows simulated printed line width and height\n",
            "    - use fc.transform(..., controls=fc.PlotControls(style='tube') to disable this message or style='line' for a simpler line preview\n",
            "\n"
          ]
        },
        {
          "data": {
            "application/vnd.plotly.v1+json": {
              "config": {
                "plotlyServerURL": "https://plot.ly"
              },
              "data": [
                {
                  "i": {
                    "bdata": "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",
                    "dtype": "i2"
                  },
                  "j": {
                    "bdata": "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",
                    "dtype": "i2"
                  },
                  "k": {
                    "bdata": "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",
                    "dtype": "i2"
                  },
                  "type": "mesh3d",
                  "vertexcolor": [
                    "rgb(0.00, 0.00, 255.00)",
                    "rgb(0.00, 0.00, 255.00)",
                    "rgb(0.00, 0.00, 255.00)",
                    "rgb(0.00, 0.00, 255.00)",
                    "rgb(0.00, 0.00, 255.00)",
                    "rgb(0.00, 0.00, 255.00)",
                    "rgb(0.00, 0.00, 255.00)",
                    "rgb(0.00, 0.00, 255.00)",
                    "rgb(0.00, 0.00, 255.00)",
                    "rgb(0.00, 0.00, 255.00)",
                    "rgb(0.00, 0.00, 255.00)",
                    "rgb(0.00, 0.00, 255.00)",
                    "rgb(0.00, 0.00, 255.00)",
                    "rgb(0.00, 0.00, 255.00)",
                    "rgb(0.00, 0.00, 255.00)",
                    "rgb(0.00, 0.00, 255.00)",
                    "rgb(0.00, 0.00, 255.00)",
                    "rgb(0.00, 0.00, 255.00)",
                    "rgb(0.00, 0.00, 255.00)",
                    "rgb(0.00, 0.00, 255.00)",
                    "rgb(0.00, 0.00, 255.00)",
                    "rgb(0.00, 0.00, 255.00)",
                    "rgb(0.00, 0.00, 255.00)",
                    "rgb(0.00, 0.00, 255.00)",
                    "rgb(0.00, 0.00, 255.00)",
                    "rgb(0.00, 0.00, 255.00)",
                    "rgb(0.00, 0.00, 255.00)",
                    "rgb(0.00, 0.00, 255.00)",
                    "rgb(0.00, 0.00, 255.00)",
                    "rgb(0.00, 0.00, 255.00)",
                    "rgb(0.00, 0.00, 255.00)",
                    "rgb(0.00, 0.00, 255.00)",
                    "rgb(0.00, 0.00, 255.00)",
                    "rgb(0.00, 0.00, 255.00)",
                    "rgb(0.00, 0.00, 255.00)",
                    "rgb(0.00, 0.00, 255.00)",
                    "rgb(0.00, 0.00, 255.00)",
                    "rgb(0.00, 0.00, 255.00)",
                    "rgb(0.00, 0.00, 255.00)",
                    "rgb(0.00, 0.00, 255.00)",
                    "rgb(0.00, 0.00, 255.00)",
                    "rgb(0.00, 0.00, 255.00)",
                    "rgb(0.00, 0.00, 255.00)",
                    "rgb(0.00, 0.00, 255.00)",
                    "rgb(0.00, 0.00, 255.00)",
                    "rgb(0.00, 0.00, 255.00)",
                    "rgb(0.00, 0.00, 255.00)",
                    "rgb(0.00, 0.00, 255.00)",
                    "rgb(0.00, 0.00, 255.00)",
                    "rgb(0.00, 0.00, 255.00)",
                    "rgb(0.00, 0.00, 255.00)",
                    "rgb(0.00, 0.00, 255.00)",
                    "rgb(0.00, 0.00, 255.00)",
                    "rgb(0.00, 0.00, 255.00)",
                    "rgb(0.00, 0.00, 255.00)",
                    "rgb(0.00, 0.00, 255.00)",
                    "rgb(0.00, 0.00, 255.00)",
                    "rgb(0.00, 0.00, 255.00)",
                    "rgb(0.00, 0.00, 255.00)",
                    "rgb(0.00, 0.00, 255.00)",
                    "rgb(0.00, 0.00, 255.00)",
                    "rgb(0.00, 0.00, 255.00)",
                    "rgb(0.00, 0.00, 255.00)",
                    "rgb(0.00, 0.00, 255.00)",
                    "rgb(0.00, 0.00, 255.00)",
                    "rgb(0.00, 0.00, 255.00)",
                    "rgb(0.00, 0.00, 255.00)",
                    "rgb(0.00, 0.00, 255.00)",
                    "rgb(0.00, 0.00, 255.00)",
                    "rgb(0.00, 0.00, 255.00)",
                    "rgb(0.00, 0.00, 255.00)",
                    "rgb(0.00, 0.00, 255.00)",
                    "rgb(0.00, 0.00, 255.00)",
                    "rgb(0.00, 0.00, 255.00)",
                    "rgb(0.00, 0.00, 255.00)",
                    "rgb(0.00, 0.00, 255.00)",
                    "rgb(0.00, 0.00, 255.00)",
                    "rgb(0.00, 0.00, 255.00)",
                    "rgb(0.00, 0.00, 255.00)",
                    "rgb(0.00, 0.00, 255.00)",
                    "rgb(0.00, 0.00, 255.00)",
                    "rgb(0.00, 0.00, 255.00)",
                    "rgb(0.00, 0.00, 255.00)",
                    "rgb(0.00, 0.00, 255.00)",
                    "rgb(0.00, 0.00, 255.00)",
                    "rgb(0.00, 0.00, 255.00)",
                    "rgb(0.00, 0.00, 255.00)",
                    "rgb(0.00, 0.00, 255.00)",
                    "rgb(0.00, 0.00, 255.00)",
                    "rgb(0.00, 0.00, 255.00)",
                    "rgb(0.00, 0.00, 255.00)",
                    "rgb(0.00, 0.00, 255.00)",
                    "rgb(0.00, 0.00, 255.00)",
                    "rgb(0.00, 0.00, 255.00)",
                    "rgb(0.00, 0.00, 255.00)",
                    "rgb(0.00, 0.00, 255.00)",
                    "rgb(0.00, 0.00, 255.00)",
                    "rgb(0.00, 0.00, 255.00)",
                    "rgb(0.00, 0.00, 255.00)",
                    "rgb(0.00, 0.00, 255.00)",
                    "rgb(0.00, 0.00, 255.00)",
                    "rgb(0.00, 0.00, 255.00)",
                    "rgb(0.00, 0.00, 255.00)",
                    "rgb(0.00, 0.00, 255.00)",
                    "rgb(0.00, 0.00, 255.00)",
                    "rgb(0.00, 0.00, 255.00)",
                    "rgb(0.00, 0.00, 255.00)",
                    "rgb(0.00, 0.00, 255.00)",
                    "rgb(0.00, 0.00, 255.00)",
                    "rgb(0.00, 0.00, 255.00)",
                    "rgb(0.00, 0.00, 255.00)",
                    "rgb(0.00, 0.00, 255.00)",
                    "rgb(0.00, 0.00, 255.00)",
                    "rgb(0.00, 0.00, 255.00)",
                    "rgb(0.00, 0.00, 255.00)",
                    "rgb(0.00, 0.00, 255.00)",
                    "rgb(0.00, 0.00, 255.00)",
                    "rgb(0.00, 0.00, 255.00)",
                    "rgb(0.00, 0.00, 255.00)",
                    "rgb(0.00, 0.00, 255.00)",
                    "rgb(0.00, 0.00, 255.00)",
                    "rgb(0.00, 0.00, 255.00)",
                    "rgb(0.00, 0.00, 255.00)",
                    "rgb(0.00, 0.00, 255.00)",
                    "rgb(0.00, 0.00, 255.00)",
                    "rgb(0.00, 0.00, 255.00)",
                    "rgb(0.00, 0.00, 255.00)",
                    "rgb(0.00, 0.00, 255.00)",
                    "rgb(0.00, 0.00, 255.00)",
                    "rgb(0.00, 0.00, 255.00)",
                    "rgb(0.00, 0.00, 255.00)",
                    "rgb(0.00, 0.00, 255.00)",
                    "rgb(0.00, 0.00, 255.00)",
                    "rgb(0.00, 0.00, 255.00)",
                    "rgb(0.00, 0.00, 255.00)",
                    "rgb(0.00, 0.00, 255.00)",
                    "rgb(0.00, 0.00, 255.00)",
                    "rgb(0.00, 0.00, 255.00)",
                    "rgb(0.00, 0.00, 255.00)",
                    "rgb(0.00, 0.00, 255.00)",
                    "rgb(0.00, 0.00, 255.00)",
                    "rgb(0.00, 0.00, 255.00)",
                    "rgb(0.00, 0.00, 255.00)",
                    "rgb(0.00, 0.00, 255.00)",
                    "rgb(0.00, 0.00, 255.00)",
                    "rgb(0.00, 0.00, 255.00)",
                    "rgb(0.00, 0.00, 255.00)",
                    "rgb(0.00, 0.00, 255.00)",
                    "rgb(0.00, 0.00, 255.00)",
                    "rgb(0.00, 0.00, 255.00)",
                    "rgb(0.00, 0.00, 255.00)",
                    "rgb(0.00, 0.00, 255.00)",
                    "rgb(0.00, 0.00, 255.00)",
                    "rgb(0.00, 0.00, 255.00)",
                    "rgb(0.00, 0.00, 255.00)",
                    "rgb(0.00, 0.00, 255.00)",
                    "rgb(0.00, 0.00, 255.00)",
                    "rgb(0.00, 0.00, 255.00)",
                    "rgb(0.00, 0.00, 255.00)",
                    "rgb(0.00, 0.00, 255.00)",
                    "rgb(0.00, 0.00, 255.00)",
                    "rgb(0.00, 0.00, 255.00)",
                    "rgb(0.00, 0.00, 255.00)",
                    "rgb(0.00, 0.00, 255.00)",
                    "rgb(0.00, 0.00, 255.00)",
                    "rgb(0.00, 0.00, 255.00)",
                    "rgb(0.00, 0.00, 255.00)",
                    "rgb(0.00, 0.00, 255.00)",
                    "rgb(0.00, 0.00, 255.00)",
                    "rgb(0.00, 0.00, 255.00)",
                    "rgb(0.00, 0.00, 255.00)",
                    "rgb(0.00, 0.00, 255.00)",
                    "rgb(0.00, 0.00, 255.00)",
                    "rgb(0.00, 0.00, 255.00)",
                    "rgb(0.00, 0.00, 255.00)",
                    "rgb(0.00, 0.00, 255.00)",
                    "rgb(0.00, 0.00, 255.00)",
                    "rgb(0.00, 0.00, 255.00)",
                    "rgb(0.00, 0.00, 255.00)",
                    "rgb(0.00, 0.00, 255.00)",
                    "rgb(0.00, 0.00, 255.00)",
                    "rgb(0.00, 0.00, 255.00)",
                    "rgb(0.00, 0.00, 255.00)",
                    "rgb(0.00, 0.00, 255.00)",
                    "rgb(0.00, 0.00, 255.00)",
                    "rgb(0.00, 0.00, 255.00)",
                    "rgb(0.00, 0.00, 255.00)",
                    "rgb(0.00, 0.00, 255.00)",
                    "rgb(0.00, 255.00, 255.00)",
                    "rgb(0.00, 255.00, 255.00)",
                    "rgb(0.00, 255.00, 255.00)",
                    "rgb(0.00, 255.00, 255.00)",
                    "rgb(0.00, 255.00, 255.00)",
                    "rgb(0.00, 255.00, 255.00)",
                    "rgb(0.00, 255.00, 255.00)",
                    "rgb(0.00, 255.00, 255.00)",
                    "rgb(0.00, 255.00, 255.00)",
                    "rgb(0.00, 255.00, 255.00)",
                    "rgb(0.00, 255.00, 255.00)",
                    "rgb(0.00, 255.00, 255.00)",
                    "rgb(0.00, 255.00, 255.00)",
                    "rgb(0.00, 255.00, 255.00)",
                    "rgb(0.00, 255.00, 255.00)",
                    "rgb(0.00, 255.00, 255.00)",
                    "rgb(0.00, 255.00, 255.00)",
                    "rgb(0.00, 255.00, 255.00)",
                    "rgb(0.00, 255.00, 255.00)",
                    "rgb(0.00, 255.00, 255.00)",
                    "rgb(0.00, 255.00, 255.00)",
                    "rgb(0.00, 255.00, 255.00)",
                    "rgb(0.00, 255.00, 255.00)",
                    "rgb(0.00, 255.00, 255.00)",
                    "rgb(0.00, 255.00, 255.00)",
                    "rgb(0.00, 255.00, 255.00)",
                    "rgb(0.00, 255.00, 255.00)",
                    "rgb(0.00, 255.00, 255.00)",
                    "rgb(0.00, 255.00, 255.00)",
                    "rgb(0.00, 255.00, 255.00)",
                    "rgb(0.00, 255.00, 255.00)",
                    "rgb(0.00, 255.00, 255.00)",
                    "rgb(0.00, 255.00, 255.00)",
                    "rgb(0.00, 255.00, 255.00)",
                    "rgb(0.00, 255.00, 255.00)",
                    "rgb(0.00, 255.00, 255.00)",
                    "rgb(0.00, 255.00, 255.00)",
                    "rgb(0.00, 255.00, 255.00)",
                    "rgb(0.00, 255.00, 255.00)",
                    "rgb(0.00, 255.00, 255.00)",
                    "rgb(0.00, 255.00, 255.00)",
                    "rgb(0.00, 255.00, 255.00)",
                    "rgb(0.00, 255.00, 255.00)",
                    "rgb(0.00, 255.00, 255.00)",
                    "rgb(0.00, 255.00, 255.00)",
                    "rgb(0.00, 255.00, 255.00)",
                    "rgb(0.00, 255.00, 255.00)",
                    "rgb(0.00, 255.00, 255.00)",
                    "rgb(0.00, 255.00, 255.00)",
                    "rgb(0.00, 255.00, 255.00)",
                    "rgb(0.00, 255.00, 255.00)",
                    "rgb(0.00, 255.00, 255.00)",
                    "rgb(0.00, 255.00, 255.00)",
                    "rgb(0.00, 255.00, 255.00)",
                    "rgb(0.00, 255.00, 255.00)",
                    "rgb(0.00, 255.00, 255.00)",
                    "rgb(0.00, 255.00, 255.00)",
                    "rgb(0.00, 255.00, 255.00)",
                    "rgb(0.00, 255.00, 255.00)",
                    "rgb(0.00, 255.00, 255.00)",
                    "rgb(0.00, 255.00, 255.00)",
                    "rgb(0.00, 255.00, 255.00)",
                    "rgb(0.00, 255.00, 255.00)",
                    "rgb(0.00, 255.00, 255.00)",
                    "rgb(0.00, 255.00, 255.00)",
                    "rgb(0.00, 255.00, 255.00)",
                    "rgb(0.00, 255.00, 255.00)",
                    "rgb(0.00, 255.00, 255.00)",
                    "rgb(0.00, 255.00, 255.00)",
                    "rgb(0.00, 255.00, 255.00)",
                    "rgb(0.00, 255.00, 255.00)",
                    "rgb(0.00, 255.00, 255.00)",
                    "rgb(0.00, 255.00, 255.00)",
                    "rgb(0.00, 255.00, 255.00)",
                    "rgb(0.00, 255.00, 255.00)",
                    "rgb(0.00, 255.00, 255.00)",
                    "rgb(0.00, 255.00, 255.00)",
                    "rgb(0.00, 255.00, 255.00)",
                    "rgb(0.00, 255.00, 255.00)",
                    "rgb(0.00, 255.00, 255.00)",
                    "rgb(0.00, 255.00, 255.00)",
                    "rgb(0.00, 255.00, 255.00)",
                    "rgb(0.00, 255.00, 255.00)",
                    "rgb(0.00, 255.00, 255.00)",
                    "rgb(0.00, 255.00, 255.00)",
                    "rgb(0.00, 255.00, 255.00)",
                    "rgb(0.00, 255.00, 255.00)",
                    "rgb(0.00, 255.00, 255.00)",
                    "rgb(0.00, 255.00, 255.00)",
                    "rgb(0.00, 255.00, 255.00)",
                    "rgb(0.00, 255.00, 255.00)",
                    "rgb(0.00, 255.00, 255.00)",
                    "rgb(0.00, 255.00, 255.00)",
                    "rgb(0.00, 255.00, 255.00)",
                    "rgb(0.00, 255.00, 255.00)",
                    "rgb(0.00, 255.00, 255.00)",
                    "rgb(0.00, 255.00, 255.00)",
                    "rgb(0.00, 255.00, 255.00)",
                    "rgb(0.00, 255.00, 255.00)",
                    "rgb(0.00, 255.00, 255.00)",
                    "rgb(0.00, 255.00, 255.00)",
                    "rgb(0.00, 255.00, 255.00)",
                    "rgb(0.00, 255.00, 255.00)",
                    "rgb(0.00, 255.00, 255.00)",
                    "rgb(0.00, 255.00, 255.00)",
                    "rgb(0.00, 255.00, 255.00)",
                    "rgb(0.00, 255.00, 255.00)",
                    "rgb(0.00, 255.00, 255.00)",
                    "rgb(0.00, 255.00, 255.00)",
                    "rgb(0.00, 255.00, 255.00)",
                    "rgb(0.00, 255.00, 255.00)",
                    "rgb(0.00, 255.00, 255.00)",
                    "rgb(0.00, 255.00, 255.00)",
                    "rgb(0.00, 255.00, 255.00)",
                    "rgb(0.00, 255.00, 255.00)",
                    "rgb(0.00, 255.00, 255.00)",
                    "rgb(0.00, 255.00, 255.00)",
                    "rgb(0.00, 255.00, 255.00)",
                    "rgb(0.00, 255.00, 255.00)",
                    "rgb(0.00, 255.00, 255.00)",
                    "rgb(0.00, 255.00, 255.00)",
                    "rgb(0.00, 255.00, 255.00)",
                    "rgb(0.00, 255.00, 255.00)",
                    "rgb(0.00, 255.00, 255.00)",
                    "rgb(0.00, 255.00, 255.00)",
                    "rgb(0.00, 255.00, 255.00)",
                    "rgb(0.00, 255.00, 255.00)",
                    "rgb(0.00, 255.00, 255.00)",
                    "rgb(0.00, 255.00, 255.00)",
                    "rgb(0.00, 255.00, 255.00)",
                    "rgb(0.00, 255.00, 255.00)",
                    "rgb(0.00, 255.00, 255.00)",
                    "rgb(0.00, 255.00, 255.00)",
                    "rgb(0.00, 255.00, 255.00)",
                    "rgb(0.00, 255.00, 255.00)",
                    "rgb(0.00, 255.00, 255.00)",
                    "rgb(0.00, 255.00, 255.00)",
                    "rgb(0.00, 255.00, 255.00)",
                    "rgb(0.00, 255.00, 255.00)",
                    "rgb(0.00, 255.00, 255.00)",
                    "rgb(0.00, 255.00, 255.00)",
                    "rgb(0.00, 255.00, 255.00)",
                    "rgb(0.00, 255.00, 255.00)",
                    "rgb(0.00, 255.00, 255.00)",
                    "rgb(0.00, 255.00, 255.00)",
                    "rgb(0.00, 255.00, 255.00)",
                    "rgb(0.00, 255.00, 255.00)",
                    "rgb(0.00, 255.00, 255.00)",
                    "rgb(0.00, 255.00, 255.00)",
                    "rgb(0.00, 255.00, 255.00)",
                    "rgb(0.00, 255.00, 255.00)",
                    "rgb(0.00, 255.00, 255.00)",
                    "rgb(0.00, 255.00, 255.00)",
                    "rgb(0.00, 255.00, 255.00)",
                    "rgb(0.00, 255.00, 255.00)",
                    "rgb(0.00, 255.00, 255.00)",
                    "rgb(0.00, 255.00, 255.00)",
                    "rgb(0.00, 255.00, 255.00)",
                    "rgb(0.00, 255.00, 255.00)",
                    "rgb(0.00, 255.00, 255.00)",
                    "rgb(0.00, 255.00, 255.00)",
                    "rgb(0.00, 255.00, 255.00)",
                    "rgb(0.00, 255.00, 255.00)",
                    "rgb(0.00, 255.00, 255.00)",
                    "rgb(0.00, 255.00, 255.00)",
                    "rgb(0.00, 255.00, 255.00)",
                    "rgb(0.00, 255.00, 255.00)",
                    "rgb(0.00, 255.00, 255.00)",
                    "rgb(0.00, 255.00, 255.00)",
                    "rgb(0.00, 255.00, 255.00)",
                    "rgb(0.00, 255.00, 255.00)",
                    "rgb(0.00, 255.00, 255.00)",
                    "rgb(0.00, 255.00, 255.00)",
                    "rgb(0.00, 255.00, 255.00)",
                    "rgb(0.00, 255.00, 255.00)",
                    "rgb(0.00, 255.00, 255.00)",
                    "rgb(0.00, 255.00, 255.00)",
                    "rgb(0.00, 255.00, 255.00)",
                    "rgb(0.00, 255.00, 255.00)",
                    "rgb(0.00, 255.00, 255.00)",
                    "rgb(0.00, 255.00, 255.00)",
                    "rgb(0.00, 255.00, 255.00)",
                    "rgb(0.00, 255.00, 255.00)",
                    "rgb(0.00, 255.00, 255.00)",
                    "rgb(0.00, 255.00, 255.00)",
                    "rgb(0.00, 255.00, 255.00)",
                    "rgb(0.00, 255.00, 255.00)",
                    "rgb(0.00, 255.00, 255.00)",
                    "rgb(0.00, 255.00, 255.00)",
                    "rgb(0.00, 255.00, 255.00)",
                    "rgb(0.00, 255.00, 255.00)",
                    "rgb(0.00, 255.00, 255.00)"
                  ],
                  "x": {
                    "bdata": "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",
                    "dtype": "f8"
                  },
                  "y": {
                    "bdata": "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",
                    "dtype": "f8"
                  },
                  "z": {
                    "bdata": "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",
                    "dtype": "f8"
                  }
                }
              ],
              "layout": {
                "height": 500,
                "margin": {
                  "b": 10,
                  "l": 10,
                  "pad": 4,
                  "r": 10,
                  "t": 10
                },
                "paper_bgcolor": "black",
                "scene": {
                  "aspectmode": "cube",
                  "camera": {
                    "center": {
                      "x": 0,
                      "y": 0,
                      "z": -0.4878060677007121
                    },
                    "eye": {
                      "x": -1,
                      "y": -2,
                      "z": 0.5
                    }
                  },
                  "xaxis": {
                    "backgroundcolor": "black",
                    "nticks": 10,
                    "range": [
                      199.749,
                      220.251
                    ],
                    "showgrid": false,
                    "visible": false,
                    "zeroline": false
                  },
                  "yaxis": {
                    "backgroundcolor": "black",
                    "nticks": 10,
                    "range": [
                      199.749,
                      220.251
                    ],
                    "showgrid": false,
                    "visible": false,
                    "zeroline": false
                  },
                  "zaxis": {
                    "backgroundcolor": "black",
                    "nticks": 10,
                    "range": [
                      0,
                      20.502
                    ],
                    "showgrid": false,
                    "visible": false,
                    "zeroline": false
                  }
                },
                "template": {
                  "data": {
                    "bar": [
                      {
                        "error_x": {
                          "color": "#f2f5fa"
                        },
                        "error_y": {
                          "color": "#f2f5fa"
                        },
                        "marker": {
                          "line": {
                            "color": "rgb(17,17,17)",
                            "width": 0.5
                          },
                          "pattern": {
                            "fillmode": "overlay",
                            "size": 10,
                            "solidity": 0.2
                          }
                        },
                        "type": "bar"
                      }
                    ],
                    "barpolar": [
                      {
                        "marker": {
                          "line": {
                            "color": "rgb(17,17,17)",
                            "width": 0.5
                          },
                          "pattern": {
                            "fillmode": "overlay",
                            "size": 10,
                            "solidity": 0.2
                          }
                        },
                        "type": "barpolar"
                      }
                    ],
                    "carpet": [
                      {
                        "aaxis": {
                          "endlinecolor": "#A2B1C6",
                          "gridcolor": "#506784",
                          "linecolor": "#506784",
                          "minorgridcolor": "#506784",
                          "startlinecolor": "#A2B1C6"
                        },
                        "baxis": {
                          "endlinecolor": "#A2B1C6",
                          "gridcolor": "#506784",
                          "linecolor": "#506784",
                          "minorgridcolor": "#506784",
                          "startlinecolor": "#A2B1C6"
                        },
                        "type": "carpet"
                      }
                    ],
                    "choropleth": [
                      {
                        "colorbar": {
                          "outlinewidth": 0,
                          "ticks": ""
                        },
                        "type": "choropleth"
                      }
                    ],
                    "contour": [
                      {
                        "colorbar": {
                          "outlinewidth": 0,
                          "ticks": ""
                        },
                        "colorscale": [
                          [
                            0,
                            "#0d0887"
                          ],
                          [
                            0.1111111111111111,
                            "#46039f"
                          ],
                          [
                            0.2222222222222222,
                            "#7201a8"
                          ],
                          [
                            0.3333333333333333,
                            "#9c179e"
                          ],
                          [
                            0.4444444444444444,
                            "#bd3786"
                          ],
                          [
                            0.5555555555555556,
                            "#d8576b"
                          ],
                          [
                            0.6666666666666666,
                            "#ed7953"
                          ],
                          [
                            0.7777777777777778,
                            "#fb9f3a"
                          ],
                          [
                            0.8888888888888888,
                            "#fdca26"
                          ],
                          [
                            1,
                            "#f0f921"
                          ]
                        ],
                        "type": "contour"
                      }
                    ],
                    "contourcarpet": [
                      {
                        "colorbar": {
                          "outlinewidth": 0,
                          "ticks": ""
                        },
                        "type": "contourcarpet"
                      }
                    ],
                    "heatmap": [
                      {
                        "colorbar": {
                          "outlinewidth": 0,
                          "ticks": ""
                        },
                        "colorscale": [
                          [
                            0,
                            "#0d0887"
                          ],
                          [
                            0.1111111111111111,
                            "#46039f"
                          ],
                          [
                            0.2222222222222222,
                            "#7201a8"
                          ],
                          [
                            0.3333333333333333,
                            "#9c179e"
                          ],
                          [
                            0.4444444444444444,
                            "#bd3786"
                          ],
                          [
                            0.5555555555555556,
                            "#d8576b"
                          ],
                          [
                            0.6666666666666666,
                            "#ed7953"
                          ],
                          [
                            0.7777777777777778,
                            "#fb9f3a"
                          ],
                          [
                            0.8888888888888888,
                            "#fdca26"
                          ],
                          [
                            1,
                            "#f0f921"
                          ]
                        ],
                        "type": "heatmap"
                      }
                    ],
                    "histogram": [
                      {
                        "marker": {
                          "pattern": {
                            "fillmode": "overlay",
                            "size": 10,
                            "solidity": 0.2
                          }
                        },
                        "type": "histogram"
                      }
                    ],
                    "histogram2d": [
                      {
                        "colorbar": {
                          "outlinewidth": 0,
                          "ticks": ""
                        },
                        "colorscale": [
                          [
                            0,
                            "#0d0887"
                          ],
                          [
                            0.1111111111111111,
                            "#46039f"
                          ],
                          [
                            0.2222222222222222,
                            "#7201a8"
                          ],
                          [
                            0.3333333333333333,
                            "#9c179e"
                          ],
                          [
                            0.4444444444444444,
                            "#bd3786"
                          ],
                          [
                            0.5555555555555556,
                            "#d8576b"
                          ],
                          [
                            0.6666666666666666,
                            "#ed7953"
                          ],
                          [
                            0.7777777777777778,
                            "#fb9f3a"
                          ],
                          [
                            0.8888888888888888,
                            "#fdca26"
                          ],
                          [
                            1,
                            "#f0f921"
                          ]
                        ],
                        "type": "histogram2d"
                      }
                    ],
                    "histogram2dcontour": [
                      {
                        "colorbar": {
                          "outlinewidth": 0,
                          "ticks": ""
                        },
                        "colorscale": [
                          [
                            0,
                            "#0d0887"
                          ],
                          [
                            0.1111111111111111,
                            "#46039f"
                          ],
                          [
                            0.2222222222222222,
                            "#7201a8"
                          ],
                          [
                            0.3333333333333333,
                            "#9c179e"
                          ],
                          [
                            0.4444444444444444,
                            "#bd3786"
                          ],
                          [
                            0.5555555555555556,
                            "#d8576b"
                          ],
                          [
                            0.6666666666666666,
                            "#ed7953"
                          ],
                          [
                            0.7777777777777778,
                            "#fb9f3a"
                          ],
                          [
                            0.8888888888888888,
                            "#fdca26"
                          ],
                          [
                            1,
                            "#f0f921"
                          ]
                        ],
                        "type": "histogram2dcontour"
                      }
                    ],
                    "mesh3d": [
                      {
                        "colorbar": {
                          "outlinewidth": 0,
                          "ticks": ""
                        },
                        "type": "mesh3d"
                      }
                    ],
                    "parcoords": [
                      {
                        "line": {
                          "colorbar": {
                            "outlinewidth": 0,
                            "ticks": ""
                          }
                        },
                        "type": "parcoords"
                      }
                    ],
                    "pie": [
                      {
                        "automargin": true,
                        "type": "pie"
                      }
                    ],
                    "scatter": [
                      {
                        "marker": {
                          "line": {
                            "color": "#283442"
                          }
                        },
                        "type": "scatter"
                      }
                    ],
                    "scatter3d": [
                      {
                        "line": {
                          "colorbar": {
                            "outlinewidth": 0,
                            "ticks": ""
                          }
                        },
                        "marker": {
                          "colorbar": {
                            "outlinewidth": 0,
                            "ticks": ""
                          }
                        },
                        "type": "scatter3d"
                      }
                    ],
                    "scattercarpet": [
                      {
                        "marker": {
                          "colorbar": {
                            "outlinewidth": 0,
                            "ticks": ""
                          }
                        },
                        "type": "scattercarpet"
                      }
                    ],
                    "scattergeo": [
                      {
                        "marker": {
                          "colorbar": {
                            "outlinewidth": 0,
                            "ticks": ""
                          }
                        },
                        "type": "scattergeo"
                      }
                    ],
                    "scattergl": [
                      {
                        "marker": {
                          "line": {
                            "color": "#283442"
                          }
                        },
                        "type": "scattergl"
                      }
                    ],
                    "scattermap": [
                      {
                        "marker": {
                          "colorbar": {
                            "outlinewidth": 0,
                            "ticks": ""
                          }
                        },
                        "type": "scattermap"
                      }
                    ],
                    "scattermapbox": [
                      {
                        "marker": {
                          "colorbar": {
                            "outlinewidth": 0,
                            "ticks": ""
                          }
                        },
                        "type": "scattermapbox"
                      }
                    ],
                    "scatterpolar": [
                      {
                        "marker": {
                          "colorbar": {
                            "outlinewidth": 0,
                            "ticks": ""
                          }
                        },
                        "type": "scatterpolar"
                      }
                    ],
                    "scatterpolargl": [
                      {
                        "marker": {
                          "colorbar": {
                            "outlinewidth": 0,
                            "ticks": ""
                          }
                        },
                        "type": "scatterpolargl"
                      }
                    ],
                    "scatterternary": [
                      {
                        "marker": {
                          "colorbar": {
                            "outlinewidth": 0,
                            "ticks": ""
                          }
                        },
                        "type": "scatterternary"
                      }
                    ],
                    "surface": [
                      {
                        "colorbar": {
                          "outlinewidth": 0,
                          "ticks": ""
                        },
                        "colorscale": [
                          [
                            0,
                            "#0d0887"
                          ],
                          [
                            0.1111111111111111,
                            "#46039f"
                          ],
                          [
                            0.2222222222222222,
                            "#7201a8"
                          ],
                          [
                            0.3333333333333333,
                            "#9c179e"
                          ],
                          [
                            0.4444444444444444,
                            "#bd3786"
                          ],
                          [
                            0.5555555555555556,
                            "#d8576b"
                          ],
                          [
                            0.6666666666666666,
                            "#ed7953"
                          ],
                          [
                            0.7777777777777778,
                            "#fb9f3a"
                          ],
                          [
                            0.8888888888888888,
                            "#fdca26"
                          ],
                          [
                            1,
                            "#f0f921"
                          ]
                        ],
                        "type": "surface"
                      }
                    ],
                    "table": [
                      {
                        "cells": {
                          "fill": {
                            "color": "#506784"
                          },
                          "line": {
                            "color": "rgb(17,17,17)"
                          }
                        },
                        "header": {
                          "fill": {
                            "color": "#2a3f5f"
                          },
                          "line": {
                            "color": "rgb(17,17,17)"
                          }
                        },
                        "type": "table"
                      }
                    ]
                  },
                  "layout": {
                    "annotationdefaults": {
                      "arrowcolor": "#f2f5fa",
                      "arrowhead": 0,
                      "arrowwidth": 1
                    },
                    "autotypenumbers": "strict",
                    "coloraxis": {
                      "colorbar": {
                        "outlinewidth": 0,
                        "ticks": ""
                      }
                    },
                    "colorscale": {
                      "diverging": [
                        [
                          0,
                          "#8e0152"
                        ],
                        [
                          0.1,
                          "#c51b7d"
                        ],
                        [
                          0.2,
                          "#de77ae"
                        ],
                        [
                          0.3,
                          "#f1b6da"
                        ],
                        [
                          0.4,
                          "#fde0ef"
                        ],
                        [
                          0.5,
                          "#f7f7f7"
                        ],
                        [
                          0.6,
                          "#e6f5d0"
                        ],
                        [
                          0.7,
                          "#b8e186"
                        ],
                        [
                          0.8,
                          "#7fbc41"
                        ],
                        [
                          0.9,
                          "#4d9221"
                        ],
                        [
                          1,
                          "#276419"
                        ]
                      ],
                      "sequential": [
                        [
                          0,
                          "#0d0887"
                        ],
                        [
                          0.1111111111111111,
                          "#46039f"
                        ],
                        [
                          0.2222222222222222,
                          "#7201a8"
                        ],
                        [
                          0.3333333333333333,
                          "#9c179e"
                        ],
                        [
                          0.4444444444444444,
                          "#bd3786"
                        ],
                        [
                          0.5555555555555556,
                          "#d8576b"
                        ],
                        [
                          0.6666666666666666,
                          "#ed7953"
                        ],
                        [
                          0.7777777777777778,
                          "#fb9f3a"
                        ],
                        [
                          0.8888888888888888,
                          "#fdca26"
                        ],
                        [
                          1,
                          "#f0f921"
                        ]
                      ],
                      "sequentialminus": [
                        [
                          0,
                          "#0d0887"
                        ],
                        [
                          0.1111111111111111,
                          "#46039f"
                        ],
                        [
                          0.2222222222222222,
                          "#7201a8"
                        ],
                        [
                          0.3333333333333333,
                          "#9c179e"
                        ],
                        [
                          0.4444444444444444,
                          "#bd3786"
                        ],
                        [
                          0.5555555555555556,
                          "#d8576b"
                        ],
                        [
                          0.6666666666666666,
                          "#ed7953"
                        ],
                        [
                          0.7777777777777778,
                          "#fb9f3a"
                        ],
                        [
                          0.8888888888888888,
                          "#fdca26"
                        ],
                        [
                          1,
                          "#f0f921"
                        ]
                      ]
                    },
                    "colorway": [
                      "#636efa",
                      "#EF553B",
                      "#00cc96",
                      "#ab63fa",
                      "#FFA15A",
                      "#19d3f3",
                      "#FF6692",
                      "#B6E880",
                      "#FF97FF",
                      "#FECB52"
                    ],
                    "font": {
                      "color": "#f2f5fa"
                    },
                    "geo": {
                      "bgcolor": "rgb(17,17,17)",
                      "lakecolor": "rgb(17,17,17)",
                      "landcolor": "rgb(17,17,17)",
                      "showlakes": true,
                      "showland": true,
                      "subunitcolor": "#506784"
                    },
                    "hoverlabel": {
                      "align": "left"
                    },
                    "hovermode": "closest",
                    "mapbox": {
                      "style": "dark"
                    },
                    "paper_bgcolor": "rgb(17,17,17)",
                    "plot_bgcolor": "rgb(17,17,17)",
                    "polar": {
                      "angularaxis": {
                        "gridcolor": "#506784",
                        "linecolor": "#506784",
                        "ticks": ""
                      },
                      "bgcolor": "rgb(17,17,17)",
                      "radialaxis": {
                        "gridcolor": "#506784",
                        "linecolor": "#506784",
                        "ticks": ""
                      }
                    },
                    "scene": {
                      "xaxis": {
                        "backgroundcolor": "rgb(17,17,17)",
                        "gridcolor": "#506784",
                        "gridwidth": 2,
                        "linecolor": "#506784",
                        "showbackground": true,
                        "ticks": "",
                        "zerolinecolor": "#C8D4E3"
                      },
                      "yaxis": {
                        "backgroundcolor": "rgb(17,17,17)",
                        "gridcolor": "#506784",
                        "gridwidth": 2,
                        "linecolor": "#506784",
                        "showbackground": true,
                        "ticks": "",
                        "zerolinecolor": "#C8D4E3"
                      },
                      "zaxis": {
                        "backgroundcolor": "rgb(17,17,17)",
                        "gridcolor": "#506784",
                        "gridwidth": 2,
                        "linecolor": "#506784",
                        "showbackground": true,
                        "ticks": "",
                        "zerolinecolor": "#C8D4E3"
                      }
                    },
                    "shapedefaults": {
                      "line": {
                        "color": "#f2f5fa"
                      }
                    },
                    "sliderdefaults": {
                      "bgcolor": "#C8D4E3",
                      "bordercolor": "rgb(17,17,17)",
                      "borderwidth": 1,
                      "tickwidth": 0
                    },
                    "ternary": {
                      "aaxis": {
                        "gridcolor": "#506784",
                        "linecolor": "#506784",
                        "ticks": ""
                      },
                      "baxis": {
                        "gridcolor": "#506784",
                        "linecolor": "#506784",
                        "ticks": ""
                      },
                      "bgcolor": "rgb(17,17,17)",
                      "caxis": {
                        "gridcolor": "#506784",
                        "linecolor": "#506784",
                        "ticks": ""
                      }
                    },
                    "title": {
                      "x": 0.05
                    },
                    "updatemenudefaults": {
                      "bgcolor": "#506784",
                      "borderwidth": 0
                    },
                    "xaxis": {
                      "automargin": true,
                      "gridcolor": "#283442",
                      "linecolor": "#506784",
                      "ticks": "",
                      "title": {
                        "standoff": 15
                      },
                      "zerolinecolor": "#283442",
                      "zerolinewidth": 2
                    },
                    "yaxis": {
                      "automargin": true,
                      "gridcolor": "#283442",
                      "linecolor": "#506784",
                      "ticks": "",
                      "title": {
                        "standoff": 15
                      },
                      "zerolinecolor": "#283442",
                      "zerolinewidth": 2
                    }
                  }
                },
                "width": 500
              }
            }
          },
          "metadata": {},
          "output_type": "display_data"
        }
      ],
      "source": [
        "# preview the design\n",
        "\n",
        "fc.transform(steps, 'plot', fc.PlotControls(style='line', zoom=0.7))\n",
        "# hover the cursor over the lines in the plot to check xyz positions of the points in the design\n",
        "\n",
        "# uncomment the next line to create a plot with real heights/widths for extruded lines to preview the real 3D printed geometry\n",
        "fc.transform(steps, 'plot', fc.PlotControls(style='tube', zoom=0.7, initialization_data={'extrusion_width': EW, 'extrusion_height': EH}))\n",
        "\n",
        "# uncomment the next line to create a neat preview (click the top-left button in the plot for a .png file) - post and tag @FullControlXYZ :)\n",
        "fc.transform(steps, 'plot', fc.PlotControls(neat_for_publishing=True, zoom=0.5, initialization_data={'extrusion_width': EW, 'extrusion_height': EH}))\n"
      ]
    },
    {
      "cell_type": "code",
      "execution_count": 12,
      "metadata": {
        "colab": {
          "base_uri": "https://localhost:8080/",
          "height": 17
        },
        "id": "tggFoUeJReQR",
        "outputId": "3e9733ce-224b-4aa9-abe7-d54bca6a0a96"
      },
      "outputs": [],
      "source": [
        "#End Gcode\n",
        "steps.append(fc.Extruder(on=False))\n",
        "steps.append(fc.Point(x=200+sq+5,y=200+sq+5,z=4+initial_z+layer*EH))\n",
        "steps.append(fc.Point(x=0,y=200+sq+5,z=4+initial_z+layer*EH))\n",
        "steps.append(fc.Point(x=0,y=0,z=0))\n",
        "\n",
        "# generate and save gcode\n",
        "\n",
        "gcode_controls = fc.GcodeControls(\n",
        "    printer_name=printer_name,\n",
        "    save_as=design_name,\n",
        "    initialization_data={\n",
        "        'primer': 'front_lines_then_y',\n",
        "        'print_speed': print_speed,\n",
        "        'nozzle_temp': nozzle_temp,\n",
        "        'bed_temp': bed_temp,\n",
        "        'fan_percent': fan_percent,\n",
        "        'extrusion_width': EW,\n",
        "        'extrusion_height': EH})\n",
        "gcode = fc.transform(steps, 'gcode', gcode_controls)"
      ]
    },
    {
      "attachments": {},
      "cell_type": "markdown",
      "metadata": {},
      "source": [
        "#### please tell us what you're doing with FullControl!\n",
        "\n",
        "- tag FullControlXYZ on social media ([twitter](https://twitter.com/FullControlXYZ), [instagram](https://www.instagram.com/fullcontrolxyz/), [linkedin](https://www.linkedin.com/in/andrew-gleadall-068587119/), [tiktok](https://www.tiktok.com/@fullcontrolxyz))\n",
        "- email [info@fullcontrol.xyz](mailto:info@fullcontrol.xyz)\n",
        "- post on the [subreddit](https://reddit.com/r/fullcontrol)\n",
        "- post in the [github discussions or issues tabs](https://github.com/FullControlXYZ/fullcontrol/issues)\n",
        "\n",
        "in publications, please cite the original FullControl paper and the github repo for the new python version:\n",
        "\n",
        "- Gleadall, A. (2021). FullControl GCode Designer: open-source software for unconstrained design in additive manufacturing. Additive Manufacturing, 46, 102109. \n",
        "- Gleadall, A. and Leas, D. (2023). FullControl [electronic resource: python source code]. available at: https://github.com/FullControlXYZ/fullcontrol"
      ]
    }
  ],
  "metadata": {
    "colab": {
      "include_colab_link": true,
      "provenance": []
    },
    "kernelspec": {
      "display_name": "base",
      "language": "python",
      "name": "python3"
    },
    "language_info": {
      "codemirror_mode": {
        "name": "ipython",
        "version": 3
      },
      "file_extension": ".py",
      "mimetype": "text/x-python",
      "name": "python",
      "nbconvert_exporter": "python",
      "pygments_lexer": "ipython3",
      "version": "3.12.9"
    }
  },
  "nbformat": 4,
  "nbformat_minor": 0
}
