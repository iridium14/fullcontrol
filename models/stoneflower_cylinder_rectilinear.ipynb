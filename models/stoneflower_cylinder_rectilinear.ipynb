{
  "cells": [
    {
      "attachments": {},
      "cell_type": "markdown",
      "metadata": {
        "id": "ac9_FmrCOwQL"
      },
      "source": [
        "# FullControl design template\n",
        "\n",
        "*<<< check out demo models [here](https://github.com/FullControlXYZ/fullcontrol/tree/master/models/README.md) >>>*\n",
        "  \n",
        "run all cells in this notebook, or press shift+enter to run each cell sequentially \n",
        "\n",
        "if you change one of the code cells, make sure you run it and all subsequent cells again (in order)\n",
        "\n",
        "*this document is a jupyter notebook - if they're new to you, check out how they work: [link](https://www.google.com/search?q=ipynb+tutorial), [link](https://jupyter.org/try-jupyter/retro/notebooks/?path=notebooks/Intro.ipynb), [link](https://colab.research.google.com/)*"
      ]
    },
    {
      "cell_type": "code",
      "execution_count": 2,
      "metadata": {
        "id": "57XXnogSOvDx"
      },
      "outputs": [],
      "source": [
        "import fullcontrol as fc\n",
        "import math"
      ]
    },
    {
      "cell_type": "code",
      "execution_count": 3,
      "metadata": {},
      "outputs": [],
      "source": [
        "def circle_infill(diameter:float,start_point:fc.Point,line_space:float,direction:float):\n",
        "    import math\n",
        "    import numpy as np\n",
        "    radius_c=diameter/2\n",
        "    steps=[]\n",
        "    flag=True\n",
        "    steps.append(start_point)\n",
        "    steps.append(fc.polar_to_point(centre=steps[-1],radius=line_space,angle=direction))\n",
        "    for space in np.arange(line_space,diameter,line_space):\n",
        "        if flag:\n",
        "                steps.append(fc.polar_to_point(centre=steps[-1], radius=math.sqrt((radius_c**2)-(radius_c-space)**2),angle=direction+math.radians(90)))\n",
        "                steps.append(fc.polar_to_point(centre=steps[-1], radius=line_space,angle=direction))\n",
        "                steps.append(fc.polar_to_point(centre=steps[-1], radius=math.sqrt((radius_c**2)-(radius_c-space)**2),angle=direction-math.radians(90)))\n",
        "        else:\n",
        "                steps.append(fc.polar_to_point(centre=steps[-1], radius=math.sqrt((radius_c**2)-(radius_c-space)**2),angle=direction-math.radians(90)))\n",
        "                steps.append(fc.polar_to_point(centre=steps[-1], radius=line_space,angle=direction))\n",
        "                steps.append(fc.polar_to_point(centre=steps[-1], radius=math.sqrt((radius_c**2)-(radius_c-space)**2),angle=direction+math.radians(90)))            \n",
        "        flag=not flag       \n",
        "    return steps"
      ]
    },
    {
      "cell_type": "code",
      "execution_count": 4,
      "metadata": {},
      "outputs": [],
      "source": [
        "def circle_infill_arc(diameter:float,start_point:fc.Point,centre_point:fc.Point,line_space:float,direction:float):\n",
        "    import math\n",
        "    import numpy as np\n",
        "    radius_c=diameter/2\n",
        "    steps=[]\n",
        "    flag=True\n",
        "    steps.append(start_point)\n",
        "    steps.append(fc.polar_to_point(centre=steps[-1],radius=line_space,angle=direction))\n",
        "    for space in np.arange(line_space,diameter,line_space):\n",
        "        if flag:\n",
        "                arc_endX=fc.polar_to_point(centre=steps[-1],radius=line_space,angle=direction)\n",
        "                arc_end=fc.polar_to_point(centre=arc_endX, radius=math.sqrt(math.fabs((radius_c**2)-(radius_c-2*space)**2)),angle=direction+math.radians(90))\n",
        "                steps.append(fc.polar_to_point(centre=steps[-1], radius=math.sqrt((radius_c**2)-(radius_c-space)**2),angle=direction+math.radians(90)))\n",
        "                arc_start=fc.point_to_polar(target_point=steps[-1],origin_point=centre_point)\n",
        "                arc_move=fc.angleXY_between_3_points(steps[-1],centre_point,arc_end)            \n",
        "                steps.extend(fc.arcXY(centre=centre_point, radius=radius_c,start_angle=arc_start.angle,arc_angle=arc_move))\n",
        "                steps.append(fc.polar_to_point(centre=steps[-1], radius=math.sqrt((radius_c**2)-(radius_c-space)**2),angle=direction-math.radians(90)))\n",
        "                \n",
        "\n",
        "\n",
        "                \n",
        "        else:\n",
        "                arc_endX=fc.polar_to_point(centre=steps[-1],radius=line_space,angle=direction)\n",
        "                arc_end=fc.polar_to_point(centre=arc_endX, radius=math.sqrt(math.fabs((radius_c**2)-(radius_c-2*space)**2)),angle=direction-math.radians(90))\n",
        "                steps.append(fc.polar_to_point(centre=steps[-1], radius=math.sqrt((radius_c**2)-(radius_c-space)**2),angle=direction-math.radians(90)))\n",
        "                arc_start=fc.point_to_polar(target_point=steps[-1],origin_point=centre_point)\n",
        "                arc_move=fc.angleXY_between_3_points(steps[-1],centre_point,arc_end)            \n",
        "                steps.extend(fc.arcXY(centre=centre_point, radius=radius_c,start_angle=arc_start.angle,arc_angle=arc_move))\n",
        "                steps.append(fc.polar_to_point(centre=steps[-1], radius=math.sqrt((radius_c**2)-(radius_c-space)**2),angle=direction+math.radians(90)))\n",
        "                           \n",
        "        flag=not flag       \n",
        "    return steps"
      ]
    },
    {
      "cell_type": "code",
      "execution_count": 5,
      "metadata": {},
      "outputs": [],
      "source": [
        "# printer/gcode parameters\n",
        "\n",
        "design_name = 'cylinder'\n",
        "nozzle_temp = 0\n",
        "bed_temp = 0\n",
        "print_speed = 300\n",
        "fan_percent = 0\n",
        "printer_name='stoneflower3d' # generic / ultimaker2plus / prusa_i3 / ender_3 / cr_10 / bambulab_x1 / toolchanger_T0"
      ]
    },
    {
      "cell_type": "code",
      "execution_count": 14,
      "metadata": {
        "id": "DeWKjlzbPC0u"
      },
      "outputs": [],
      "source": [
        "# design parameters\n",
        "\n",
        "EW = 0.5 # extrusion width\n",
        "EH = 0.25 # extrusion height (and layer height)\n",
        "initial_z = EH*1 # initial nozzle position is set to 1x the extrusion height to get a bit of 'squish' for good bed adhesion\n",
        "height=0.5\n",
        "layers = int(height//EH)\n",
        "dia=20 #diameter of the cylinder\n"
      ]
    },
    {
      "cell_type": "code",
      "execution_count": null,
      "metadata": {
        "id": "kLPh7aTwQKrF"
      },
      "outputs": [
        {
          "name": "stdout",
          "output_type": "stream",
          "text": [
            "x=220.0 y=210.0 z=0.5 color=None\n",
            "x=220.0 y=210.0 z=0.75 color=None\n"
          ]
        }
      ],
      "source": [
        "# generate the design (make sure you've run the above cells before running this cell)\n",
        "initial_xyz=fc.Point(x=200, y=200, z=initial_z)\n",
        "steps = []\n",
        "#Generate the layer patterns such that no travel is require between the layers\n",
        "for layer in range(layers):\n",
        "        \n",
        "        \n",
        "        layer1=[]\n",
        "        centre_point = fc.move(initial_xyz,fc.Vector(x=dia/2,y=dia/2,z=EH*layer))\n",
        "        radius = dia/2\n",
        "        start_angle =0\n",
        "        segments = 32\n",
        "        clockwise = True\n",
        "        circle_steps = fc.circleXY(centre_point, radius, start_angle, segments, clockwise)        \n",
        "        first_point=fc.move(initial_xyz,fc.Vector(y=radius,z=EH*layer))\n",
        "        line_spacing = 1        \n",
        "        infill_steps = circle_infill(dia-2*EW,first_point,line_spacing,0)              \n",
        "        layer1.extend(infill_steps)\n",
        "        layer1.extend(circle_steps)\n",
        "        print(layer1[-1])\n",
        "           \n",
        "    \n",
        "        layer2=[]\n",
        "        centre_point = fc.move(initial_xyz,fc.Vector(x=dia/2,y=dia/2,z=EH*layer))\n",
        "        radius = dia/2\n",
        "        start_angle =0\n",
        "        segments = 32\n",
        "        clockwise = False        \n",
        "        arc_steps=fc.arcXY(centre_point,radius,start_angle,-1.5*math.pi,segments)\n",
        "        line_spacing = 1 \n",
        "        first_point=fc.move(initial_xyz,fc.Vector(x=radius,y=2*radius,z=EH*layer))\n",
        "        infill_steps = circle_infill(dia-2*EW,first_point,line_spacing,1.5*math.pi)       \n",
        "        layer2.extend(arc_steps)\n",
        "        layer2.extend(infill_steps)\n",
        "        \n",
        "        \n",
        "         \n",
        "        \n",
        "        layer3=[]\n",
        "        centre_point = fc.move(initial_xyz,fc.Vector(x=dia/2,y=dia/2,z=EH*layer))\n",
        "        radius = dia/2\n",
        "        start_angle =1.5*math.pi\n",
        "        segments = 32\n",
        "        clockwise = True      \n",
        "        first_point=fc.move(initial_xyz,fc.Vector(y=radius,z=EH*layer))\n",
        "        line_spacing = 1        \n",
        "        infill_steps = circle_infill(dia-2*EW,first_point,line_spacing,0)                    \n",
        "        arc_steps=(fc.arcXY(centre_point,radius,start_angle,1.5*math.pi,segments))       \n",
        "        layer3.extend(arc_steps)\n",
        "        layer3.extend(infill_steps)\n",
        "        \n",
        "\n",
        "        # layer4=[]\n",
        "        # centre_point = fc.move(initial_xyz,fc.Vector(x=dia/2,y=dia/2,z=EH*layer))\n",
        "        # radius = dia/2\n",
        "        # start_angle =math.pi\n",
        "        # segments = 32\n",
        "        # clockwise = True\n",
        "        # circle_steps = fc.circleXY(centre_point, radius, start_angle, segments, clockwise)        \n",
        "        # first_point=circle_steps[-1]\n",
        "        # line_spacing = 1        \n",
        "        # infill_steps = circle_infill(dia-2*EW,first_point,line_spacing,0)\n",
        "        # layer4.extend(circle_steps)\n",
        "        # layer4.extend(infill_steps)\n",
        "        \n",
        "        layertypes=[layer1,layer2,layer3]\n",
        "        steps.extend(layertypes[layer%len(layertypes)]) \n",
        "\n",
        "#steps = fc.move(rectangle_steps, fc.Vector(z=EH), copy=True, copy_quantity=layers)"
      ]
    },
    {
      "cell_type": "code",
      "execution_count": 18,
      "metadata": {
        "id": "ZVdfnpt5RSUi"
      },
      "outputs": [
        {
          "data": {
            "application/vnd.plotly.v1+json": {
              "config": {
                "plotlyServerURL": "https://plot.ly"
              },
              "data": [
                {
                  "line": {
                    "color": [
                      "rgb(0.00, 0.00, 255.00)",
                      "rgb(0.00, 0.00, 255.00)",
                      "rgb(0.00, 0.00, 255.00)",
                      "rgb(0.00, 0.00, 255.00)",
                      "rgb(0.00, 0.00, 255.00)",
                      "rgb(0.00, 0.00, 255.00)",
                      "rgb(0.00, 0.00, 255.00)",
                      "rgb(0.00, 0.00, 255.00)",
                      "rgb(0.00, 0.00, 255.00)",
                      "rgb(0.00, 0.00, 255.00)",
                      "rgb(0.00, 0.00, 255.00)",
                      "rgb(0.00, 0.00, 255.00)",
                      "rgb(0.00, 0.00, 255.00)",
                      "rgb(0.00, 0.00, 255.00)",
                      "rgb(0.00, 0.00, 255.00)",
                      "rgb(0.00, 0.00, 255.00)",
                      "rgb(0.00, 0.00, 255.00)",
                      "rgb(0.00, 0.00, 255.00)",
                      "rgb(0.00, 0.00, 255.00)",
                      "rgb(0.00, 0.00, 255.00)",
                      "rgb(0.00, 0.00, 255.00)",
                      "rgb(0.00, 0.00, 255.00)",
                      "rgb(0.00, 0.00, 255.00)",
                      "rgb(0.00, 0.00, 255.00)",
                      "rgb(0.00, 0.00, 255.00)",
                      "rgb(0.00, 0.00, 255.00)",
                      "rgb(0.00, 0.00, 255.00)",
                      "rgb(0.00, 0.00, 255.00)",
                      "rgb(0.00, 0.00, 255.00)",
                      "rgb(0.00, 0.00, 255.00)",
                      "rgb(0.00, 0.00, 255.00)",
                      "rgb(0.00, 0.00, 255.00)",
                      "rgb(0.00, 0.00, 255.00)",
                      "rgb(0.00, 0.00, 255.00)",
                      "rgb(0.00, 0.00, 255.00)",
                      "rgb(0.00, 0.00, 255.00)",
                      "rgb(0.00, 0.00, 255.00)",
                      "rgb(0.00, 0.00, 255.00)",
                      "rgb(0.00, 0.00, 255.00)",
                      "rgb(0.00, 0.00, 255.00)",
                      "rgb(0.00, 0.00, 255.00)",
                      "rgb(0.00, 0.00, 255.00)",
                      "rgb(0.00, 0.00, 255.00)",
                      "rgb(0.00, 0.00, 255.00)",
                      "rgb(0.00, 0.00, 255.00)",
                      "rgb(0.00, 0.00, 255.00)",
                      "rgb(0.00, 0.00, 255.00)",
                      "rgb(0.00, 0.00, 255.00)",
                      "rgb(0.00, 0.00, 255.00)",
                      "rgb(0.00, 0.00, 255.00)",
                      "rgb(0.00, 0.00, 255.00)",
                      "rgb(0.00, 0.00, 255.00)",
                      "rgb(0.00, 0.00, 255.00)",
                      "rgb(0.00, 0.00, 255.00)",
                      "rgb(0.00, 0.00, 255.00)",
                      "rgb(0.00, 0.00, 255.00)",
                      "rgb(0.00, 0.00, 255.00)",
                      "rgb(0.00, 8.16, 255.00)",
                      "rgb(0.00, 16.32, 255.00)",
                      "rgb(0.00, 23.46, 255.00)",
                      "rgb(0.00, 31.62, 255.00)",
                      "rgb(0.00, 39.78, 255.00)",
                      "rgb(0.00, 47.94, 255.00)",
                      "rgb(0.00, 56.10, 255.00)",
                      "rgb(0.00, 63.24, 255.00)",
                      "rgb(0.00, 71.40, 255.00)",
                      "rgb(0.00, 79.56, 255.00)",
                      "rgb(0.00, 87.72, 255.00)",
                      "rgb(0.00, 95.88, 255.00)",
                      "rgb(0.00, 104.04, 255.00)",
                      "rgb(0.00, 111.18, 255.00)",
                      "rgb(0.00, 119.34, 255.00)",
                      "rgb(0.00, 127.50, 255.00)",
                      "rgb(0.00, 135.66, 255.00)",
                      "rgb(0.00, 143.82, 255.00)",
                      "rgb(0.00, 150.96, 255.00)",
                      "rgb(0.00, 159.12, 255.00)",
                      "rgb(0.00, 167.28, 255.00)",
                      "rgb(0.00, 175.44, 255.00)",
                      "rgb(0.00, 183.60, 255.00)",
                      "rgb(0.00, 191.76, 255.00)",
                      "rgb(0.00, 198.90, 255.00)",
                      "rgb(0.00, 207.06, 255.00)",
                      "rgb(0.00, 215.22, 255.00)",
                      "rgb(0.00, 223.38, 255.00)",
                      "rgb(0.00, 231.54, 255.00)",
                      "rgb(0.00, 238.68, 255.00)",
                      "rgb(0.00, 246.84, 255.00)",
                      "rgb(0.00, 255.00, 255.00)",
                      "rgb(0.00, 255.00, 255.00)",
                      "rgb(0.00, 255.00, 255.00)",
                      "rgb(0.00, 255.00, 255.00)",
                      "rgb(0.00, 255.00, 255.00)",
                      "rgb(0.00, 255.00, 255.00)",
                      "rgb(0.00, 255.00, 255.00)",
                      "rgb(0.00, 255.00, 255.00)",
                      "rgb(0.00, 255.00, 255.00)",
                      "rgb(0.00, 255.00, 255.00)",
                      "rgb(0.00, 255.00, 255.00)",
                      "rgb(0.00, 255.00, 255.00)",
                      "rgb(0.00, 255.00, 255.00)",
                      "rgb(0.00, 255.00, 255.00)",
                      "rgb(0.00, 255.00, 255.00)",
                      "rgb(0.00, 255.00, 255.00)",
                      "rgb(0.00, 255.00, 255.00)",
                      "rgb(0.00, 255.00, 255.00)",
                      "rgb(0.00, 255.00, 255.00)",
                      "rgb(0.00, 255.00, 255.00)",
                      "rgb(0.00, 255.00, 255.00)",
                      "rgb(0.00, 255.00, 255.00)",
                      "rgb(0.00, 255.00, 255.00)",
                      "rgb(0.00, 255.00, 255.00)",
                      "rgb(0.00, 255.00, 255.00)",
                      "rgb(0.00, 255.00, 255.00)",
                      "rgb(0.00, 255.00, 255.00)",
                      "rgb(0.00, 255.00, 255.00)",
                      "rgb(0.00, 255.00, 255.00)",
                      "rgb(0.00, 255.00, 255.00)",
                      "rgb(0.00, 255.00, 255.00)",
                      "rgb(0.00, 255.00, 255.00)",
                      "rgb(0.00, 255.00, 255.00)",
                      "rgb(0.00, 255.00, 255.00)",
                      "rgb(0.00, 255.00, 255.00)",
                      "rgb(0.00, 255.00, 255.00)",
                      "rgb(0.00, 255.00, 255.00)",
                      "rgb(0.00, 255.00, 255.00)",
                      "rgb(0.00, 255.00, 255.00)",
                      "rgb(0.00, 255.00, 255.00)",
                      "rgb(0.00, 255.00, 255.00)",
                      "rgb(0.00, 255.00, 255.00)",
                      "rgb(0.00, 255.00, 255.00)",
                      "rgb(0.00, 255.00, 255.00)",
                      "rgb(0.00, 255.00, 255.00)",
                      "rgb(0.00, 255.00, 255.00)",
                      "rgb(0.00, 255.00, 255.00)",
                      "rgb(0.00, 255.00, 255.00)",
                      "rgb(0.00, 255.00, 255.00)",
                      "rgb(0.00, 255.00, 255.00)",
                      "rgb(0.00, 255.00, 255.00)",
                      "rgb(0.00, 255.00, 255.00)",
                      "rgb(0.00, 255.00, 255.00)",
                      "rgb(0.00, 255.00, 255.00)",
                      "rgb(0.00, 255.00, 255.00)",
                      "rgb(0.00, 255.00, 255.00)",
                      "rgb(0.00, 255.00, 255.00)",
                      "rgb(0.00, 255.00, 255.00)",
                      "rgb(0.00, 255.00, 255.00)",
                      "rgb(0.00, 255.00, 255.00)",
                      "rgb(0.00, 255.00, 255.00)",
                      "rgb(0.00, 255.00, 255.00)",
                      "rgb(0.00, 255.00, 255.00)",
                      "rgb(0.00, 255.00, 255.00)",
                      "rgb(0.00, 255.00, 255.00)",
                      "rgb(0.00, 255.00, 255.00)",
                      "rgb(0.00, 255.00, 255.00)",
                      "rgb(0.00, 255.00, 255.00)",
                      "rgb(0.00, 255.00, 255.00)",
                      "rgb(0.00, 255.00, 255.00)",
                      "rgb(0.00, 255.00, 255.00)",
                      "rgb(0.00, 255.00, 255.00)",
                      "rgb(0.00, 255.00, 255.00)",
                      "rgb(0.00, 255.00, 255.00)",
                      "rgb(0.00, 255.00, 255.00)",
                      "rgb(0.00, 255.00, 255.00)",
                      "rgb(0.00, 255.00, 255.00)",
                      "rgb(0.00, 255.00, 255.00)",
                      "rgb(0.00, 255.00, 255.00)",
                      "rgb(0.00, 255.00, 255.00)",
                      "rgb(0.00, 255.00, 255.00)",
                      "rgb(0.00, 255.00, 255.00)",
                      "rgb(0.00, 255.00, 255.00)",
                      "rgb(0.00, 255.00, 255.00)",
                      "rgb(0.00, 255.00, 255.00)",
                      "rgb(0.00, 255.00, 255.00)",
                      "rgb(0.00, 255.00, 255.00)",
                      "rgb(0.00, 255.00, 255.00)"
                    ],
                    "width": 4
                  },
                  "mode": "lines",
                  "showlegend": false,
                  "type": "scatter3d",
                  "x": [
                    200,
                    201,
                    201,
                    202,
                    202,
                    202,
                    203,
                    203,
                    203,
                    204,
                    204,
                    204,
                    205,
                    205,
                    205,
                    206,
                    206,
                    206,
                    207,
                    207,
                    207,
                    208,
                    208,
                    208,
                    209,
                    209,
                    209,
                    210,
                    210,
                    210,
                    211,
                    211,
                    211,
                    212,
                    212,
                    212,
                    213,
                    213,
                    213,
                    214,
                    214,
                    214,
                    215,
                    215,
                    215,
                    216,
                    216,
                    216,
                    217,
                    217,
                    217,
                    218,
                    218,
                    218,
                    219,
                    219,
                    220,
                    219.808,
                    219.239,
                    218.315,
                    217.071,
                    215.556,
                    213.827,
                    211.951,
                    210,
                    208.049,
                    206.173,
                    204.444,
                    202.929,
                    201.685,
                    200.761,
                    200.192,
                    200,
                    200.192,
                    200.761,
                    201.685,
                    202.929,
                    204.444,
                    206.173,
                    208.049,
                    210,
                    211.951,
                    213.827,
                    215.556,
                    217.071,
                    218.315,
                    219.239,
                    219.808,
                    220,
                    219.892,
                    219.569,
                    219.04,
                    218.315,
                    217.41,
                    216.344,
                    215.141,
                    213.827,
                    212.43,
                    210.98,
                    209.509,
                    208.049,
                    206.631,
                    205.286,
                    204.043,
                    202.929,
                    201.968,
                    201.181,
                    200.585,
                    200.192,
                    200.012,
                    200.048,
                    200.3,
                    200.761,
                    201.423,
                    202.27,
                    203.284,
                    204.444,
                    205.724,
                    207.097,
                    208.533,
                    210,
                    210,
                    214.243,
                    214.243,
                    210,
                    204.169,
                    204.169,
                    210,
                    216.928,
                    216.928,
                    210,
                    202.254,
                    202.254,
                    210,
                    218.367,
                    218.367,
                    210,
                    201.168,
                    201.168,
                    210,
                    219.165,
                    219.165,
                    210,
                    200.619,
                    200.619,
                    210,
                    219.487,
                    219.487,
                    210,
                    200.513,
                    200.513,
                    210,
                    219.381,
                    219.381,
                    210,
                    200.835,
                    200.835,
                    210,
                    218.832,
                    218.832,
                    210,
                    201.633,
                    201.633,
                    210,
                    217.746,
                    217.746,
                    210,
                    203.072,
                    203.072,
                    210,
                    215.831,
                    215.831,
                    210,
                    205.757,
                    205.757,
                    210
                  ],
                  "y": [
                    210,
                    210,
                    214.243,
                    214.243,
                    210,
                    204.169,
                    204.169,
                    210,
                    216.928,
                    216.928,
                    210,
                    202.254,
                    202.254,
                    210,
                    218.367,
                    218.367,
                    210,
                    201.168,
                    201.168,
                    210,
                    219.165,
                    219.165,
                    210,
                    200.619,
                    200.619,
                    210,
                    219.487,
                    219.487,
                    210,
                    200.513,
                    200.513,
                    210,
                    219.381,
                    219.381,
                    210,
                    200.835,
                    200.835,
                    210,
                    218.832,
                    218.832,
                    210,
                    201.633,
                    201.633,
                    210,
                    217.746,
                    217.746,
                    210,
                    203.072,
                    203.072,
                    210,
                    215.831,
                    215.831,
                    210,
                    205.757,
                    205.757,
                    210,
                    210,
                    208.049,
                    206.173,
                    204.444,
                    202.929,
                    201.685,
                    200.761,
                    200.192,
                    200,
                    200.192,
                    200.761,
                    201.685,
                    202.929,
                    204.444,
                    206.173,
                    208.049,
                    210,
                    211.951,
                    213.827,
                    215.556,
                    217.071,
                    218.315,
                    219.239,
                    219.808,
                    220,
                    219.808,
                    219.239,
                    218.315,
                    217.071,
                    215.556,
                    213.827,
                    211.951,
                    210,
                    208.533,
                    207.097,
                    205.724,
                    204.444,
                    203.284,
                    202.27,
                    201.423,
                    200.761,
                    200.3,
                    200.048,
                    200.012,
                    200.192,
                    200.585,
                    201.181,
                    201.968,
                    202.929,
                    204.043,
                    205.286,
                    206.631,
                    208.049,
                    209.509,
                    210.98,
                    212.43,
                    213.827,
                    215.141,
                    216.344,
                    217.41,
                    218.315,
                    219.04,
                    219.569,
                    219.892,
                    220,
                    219,
                    219,
                    218,
                    218,
                    218,
                    217,
                    217,
                    217,
                    216,
                    216,
                    216,
                    215,
                    215,
                    215,
                    214,
                    214,
                    214,
                    213,
                    213,
                    213,
                    212,
                    212,
                    212,
                    211,
                    211,
                    211,
                    210,
                    210,
                    210,
                    209,
                    209,
                    209,
                    208,
                    208,
                    208,
                    207,
                    207,
                    207,
                    206,
                    206,
                    206,
                    205,
                    205,
                    205,
                    204,
                    204,
                    204,
                    203,
                    203,
                    203,
                    202,
                    202,
                    202,
                    201,
                    201
                  ],
                  "z": [
                    0.25,
                    0.25,
                    0.25,
                    0.25,
                    0.25,
                    0.25,
                    0.25,
                    0.25,
                    0.25,
                    0.25,
                    0.25,
                    0.25,
                    0.25,
                    0.25,
                    0.25,
                    0.25,
                    0.25,
                    0.25,
                    0.25,
                    0.25,
                    0.25,
                    0.25,
                    0.25,
                    0.25,
                    0.25,
                    0.25,
                    0.25,
                    0.25,
                    0.25,
                    0.25,
                    0.25,
                    0.25,
                    0.25,
                    0.25,
                    0.25,
                    0.25,
                    0.25,
                    0.25,
                    0.25,
                    0.25,
                    0.25,
                    0.25,
                    0.25,
                    0.25,
                    0.25,
                    0.25,
                    0.25,
                    0.25,
                    0.25,
                    0.25,
                    0.25,
                    0.25,
                    0.25,
                    0.25,
                    0.25,
                    0.25,
                    0.25,
                    0.258,
                    0.266,
                    0.273,
                    0.281,
                    0.289,
                    0.297,
                    0.305,
                    0.312,
                    0.32,
                    0.328,
                    0.336,
                    0.344,
                    0.352,
                    0.359,
                    0.367,
                    0.375,
                    0.383,
                    0.391,
                    0.398,
                    0.406,
                    0.414,
                    0.422,
                    0.43,
                    0.438,
                    0.445,
                    0.453,
                    0.461,
                    0.469,
                    0.477,
                    0.484,
                    0.492,
                    0.5,
                    0.5,
                    0.5,
                    0.5,
                    0.5,
                    0.5,
                    0.5,
                    0.5,
                    0.5,
                    0.5,
                    0.5,
                    0.5,
                    0.5,
                    0.5,
                    0.5,
                    0.5,
                    0.5,
                    0.5,
                    0.5,
                    0.5,
                    0.5,
                    0.5,
                    0.5,
                    0.5,
                    0.5,
                    0.5,
                    0.5,
                    0.5,
                    0.5,
                    0.5,
                    0.5,
                    0.5,
                    0.5,
                    0.5,
                    0.5,
                    0.5,
                    0.5,
                    0.5,
                    0.5,
                    0.5,
                    0.5,
                    0.5,
                    0.5,
                    0.5,
                    0.5,
                    0.5,
                    0.5,
                    0.5,
                    0.5,
                    0.5,
                    0.5,
                    0.5,
                    0.5,
                    0.5,
                    0.5,
                    0.5,
                    0.5,
                    0.5,
                    0.5,
                    0.5,
                    0.5,
                    0.5,
                    0.5,
                    0.5,
                    0.5,
                    0.5,
                    0.5,
                    0.5,
                    0.5,
                    0.5,
                    0.5,
                    0.5,
                    0.5,
                    0.5,
                    0.5,
                    0.5,
                    0.5,
                    0.5,
                    0.5,
                    0.5,
                    0.5,
                    0.5,
                    0.5,
                    0.5,
                    0.5,
                    0.5,
                    0.5,
                    0.5
                  ]
                },
                {
                  "marker": {
                    "color": "red",
                    "size": 2
                  },
                  "mode": "markers",
                  "showlegend": false,
                  "type": "scatter3d",
                  "x": [],
                  "y": [],
                  "z": []
                }
              ],
              "layout": {
                "height": 500,
                "margin": {
                  "b": 10,
                  "l": 10,
                  "pad": 4,
                  "r": 10,
                  "t": 10
                },
                "paper_bgcolor": "black",
                "scene": {
                  "aspectmode": "cube",
                  "camera": {
                    "center": {
                      "x": 0,
                      "y": 0,
                      "z": -0.49375062493750627
                    },
                    "eye": {
                      "x": -0.7142857142857143,
                      "y": -1.4285714285714286,
                      "z": 0.2142857142857143
                    }
                  },
                  "xaxis": {
                    "backgroundcolor": "black",
                    "nticks": 10,
                    "range": [
                      199.999,
                      220.001
                    ]
                  },
                  "yaxis": {
                    "backgroundcolor": "black",
                    "nticks": 10,
                    "range": [
                      199.999,
                      220.001
                    ]
                  },
                  "zaxis": {
                    "backgroundcolor": "black",
                    "nticks": 10,
                    "range": [
                      0,
                      20.002
                    ]
                  }
                },
                "template": {
                  "data": {
                    "bar": [
                      {
                        "error_x": {
                          "color": "#f2f5fa"
                        },
                        "error_y": {
                          "color": "#f2f5fa"
                        },
                        "marker": {
                          "line": {
                            "color": "rgb(17,17,17)",
                            "width": 0.5
                          },
                          "pattern": {
                            "fillmode": "overlay",
                            "size": 10,
                            "solidity": 0.2
                          }
                        },
                        "type": "bar"
                      }
                    ],
                    "barpolar": [
                      {
                        "marker": {
                          "line": {
                            "color": "rgb(17,17,17)",
                            "width": 0.5
                          },
                          "pattern": {
                            "fillmode": "overlay",
                            "size": 10,
                            "solidity": 0.2
                          }
                        },
                        "type": "barpolar"
                      }
                    ],
                    "carpet": [
                      {
                        "aaxis": {
                          "endlinecolor": "#A2B1C6",
                          "gridcolor": "#506784",
                          "linecolor": "#506784",
                          "minorgridcolor": "#506784",
                          "startlinecolor": "#A2B1C6"
                        },
                        "baxis": {
                          "endlinecolor": "#A2B1C6",
                          "gridcolor": "#506784",
                          "linecolor": "#506784",
                          "minorgridcolor": "#506784",
                          "startlinecolor": "#A2B1C6"
                        },
                        "type": "carpet"
                      }
                    ],
                    "choropleth": [
                      {
                        "colorbar": {
                          "outlinewidth": 0,
                          "ticks": ""
                        },
                        "type": "choropleth"
                      }
                    ],
                    "contour": [
                      {
                        "colorbar": {
                          "outlinewidth": 0,
                          "ticks": ""
                        },
                        "colorscale": [
                          [
                            0,
                            "#0d0887"
                          ],
                          [
                            0.1111111111111111,
                            "#46039f"
                          ],
                          [
                            0.2222222222222222,
                            "#7201a8"
                          ],
                          [
                            0.3333333333333333,
                            "#9c179e"
                          ],
                          [
                            0.4444444444444444,
                            "#bd3786"
                          ],
                          [
                            0.5555555555555556,
                            "#d8576b"
                          ],
                          [
                            0.6666666666666666,
                            "#ed7953"
                          ],
                          [
                            0.7777777777777778,
                            "#fb9f3a"
                          ],
                          [
                            0.8888888888888888,
                            "#fdca26"
                          ],
                          [
                            1,
                            "#f0f921"
                          ]
                        ],
                        "type": "contour"
                      }
                    ],
                    "contourcarpet": [
                      {
                        "colorbar": {
                          "outlinewidth": 0,
                          "ticks": ""
                        },
                        "type": "contourcarpet"
                      }
                    ],
                    "heatmap": [
                      {
                        "colorbar": {
                          "outlinewidth": 0,
                          "ticks": ""
                        },
                        "colorscale": [
                          [
                            0,
                            "#0d0887"
                          ],
                          [
                            0.1111111111111111,
                            "#46039f"
                          ],
                          [
                            0.2222222222222222,
                            "#7201a8"
                          ],
                          [
                            0.3333333333333333,
                            "#9c179e"
                          ],
                          [
                            0.4444444444444444,
                            "#bd3786"
                          ],
                          [
                            0.5555555555555556,
                            "#d8576b"
                          ],
                          [
                            0.6666666666666666,
                            "#ed7953"
                          ],
                          [
                            0.7777777777777778,
                            "#fb9f3a"
                          ],
                          [
                            0.8888888888888888,
                            "#fdca26"
                          ],
                          [
                            1,
                            "#f0f921"
                          ]
                        ],
                        "type": "heatmap"
                      }
                    ],
                    "histogram": [
                      {
                        "marker": {
                          "pattern": {
                            "fillmode": "overlay",
                            "size": 10,
                            "solidity": 0.2
                          }
                        },
                        "type": "histogram"
                      }
                    ],
                    "histogram2d": [
                      {
                        "colorbar": {
                          "outlinewidth": 0,
                          "ticks": ""
                        },
                        "colorscale": [
                          [
                            0,
                            "#0d0887"
                          ],
                          [
                            0.1111111111111111,
                            "#46039f"
                          ],
                          [
                            0.2222222222222222,
                            "#7201a8"
                          ],
                          [
                            0.3333333333333333,
                            "#9c179e"
                          ],
                          [
                            0.4444444444444444,
                            "#bd3786"
                          ],
                          [
                            0.5555555555555556,
                            "#d8576b"
                          ],
                          [
                            0.6666666666666666,
                            "#ed7953"
                          ],
                          [
                            0.7777777777777778,
                            "#fb9f3a"
                          ],
                          [
                            0.8888888888888888,
                            "#fdca26"
                          ],
                          [
                            1,
                            "#f0f921"
                          ]
                        ],
                        "type": "histogram2d"
                      }
                    ],
                    "histogram2dcontour": [
                      {
                        "colorbar": {
                          "outlinewidth": 0,
                          "ticks": ""
                        },
                        "colorscale": [
                          [
                            0,
                            "#0d0887"
                          ],
                          [
                            0.1111111111111111,
                            "#46039f"
                          ],
                          [
                            0.2222222222222222,
                            "#7201a8"
                          ],
                          [
                            0.3333333333333333,
                            "#9c179e"
                          ],
                          [
                            0.4444444444444444,
                            "#bd3786"
                          ],
                          [
                            0.5555555555555556,
                            "#d8576b"
                          ],
                          [
                            0.6666666666666666,
                            "#ed7953"
                          ],
                          [
                            0.7777777777777778,
                            "#fb9f3a"
                          ],
                          [
                            0.8888888888888888,
                            "#fdca26"
                          ],
                          [
                            1,
                            "#f0f921"
                          ]
                        ],
                        "type": "histogram2dcontour"
                      }
                    ],
                    "mesh3d": [
                      {
                        "colorbar": {
                          "outlinewidth": 0,
                          "ticks": ""
                        },
                        "type": "mesh3d"
                      }
                    ],
                    "parcoords": [
                      {
                        "line": {
                          "colorbar": {
                            "outlinewidth": 0,
                            "ticks": ""
                          }
                        },
                        "type": "parcoords"
                      }
                    ],
                    "pie": [
                      {
                        "automargin": true,
                        "type": "pie"
                      }
                    ],
                    "scatter": [
                      {
                        "marker": {
                          "line": {
                            "color": "#283442"
                          }
                        },
                        "type": "scatter"
                      }
                    ],
                    "scatter3d": [
                      {
                        "line": {
                          "colorbar": {
                            "outlinewidth": 0,
                            "ticks": ""
                          }
                        },
                        "marker": {
                          "colorbar": {
                            "outlinewidth": 0,
                            "ticks": ""
                          }
                        },
                        "type": "scatter3d"
                      }
                    ],
                    "scattercarpet": [
                      {
                        "marker": {
                          "colorbar": {
                            "outlinewidth": 0,
                            "ticks": ""
                          }
                        },
                        "type": "scattercarpet"
                      }
                    ],
                    "scattergeo": [
                      {
                        "marker": {
                          "colorbar": {
                            "outlinewidth": 0,
                            "ticks": ""
                          }
                        },
                        "type": "scattergeo"
                      }
                    ],
                    "scattergl": [
                      {
                        "marker": {
                          "line": {
                            "color": "#283442"
                          }
                        },
                        "type": "scattergl"
                      }
                    ],
                    "scattermap": [
                      {
                        "marker": {
                          "colorbar": {
                            "outlinewidth": 0,
                            "ticks": ""
                          }
                        },
                        "type": "scattermap"
                      }
                    ],
                    "scattermapbox": [
                      {
                        "marker": {
                          "colorbar": {
                            "outlinewidth": 0,
                            "ticks": ""
                          }
                        },
                        "type": "scattermapbox"
                      }
                    ],
                    "scatterpolar": [
                      {
                        "marker": {
                          "colorbar": {
                            "outlinewidth": 0,
                            "ticks": ""
                          }
                        },
                        "type": "scatterpolar"
                      }
                    ],
                    "scatterpolargl": [
                      {
                        "marker": {
                          "colorbar": {
                            "outlinewidth": 0,
                            "ticks": ""
                          }
                        },
                        "type": "scatterpolargl"
                      }
                    ],
                    "scatterternary": [
                      {
                        "marker": {
                          "colorbar": {
                            "outlinewidth": 0,
                            "ticks": ""
                          }
                        },
                        "type": "scatterternary"
                      }
                    ],
                    "surface": [
                      {
                        "colorbar": {
                          "outlinewidth": 0,
                          "ticks": ""
                        },
                        "colorscale": [
                          [
                            0,
                            "#0d0887"
                          ],
                          [
                            0.1111111111111111,
                            "#46039f"
                          ],
                          [
                            0.2222222222222222,
                            "#7201a8"
                          ],
                          [
                            0.3333333333333333,
                            "#9c179e"
                          ],
                          [
                            0.4444444444444444,
                            "#bd3786"
                          ],
                          [
                            0.5555555555555556,
                            "#d8576b"
                          ],
                          [
                            0.6666666666666666,
                            "#ed7953"
                          ],
                          [
                            0.7777777777777778,
                            "#fb9f3a"
                          ],
                          [
                            0.8888888888888888,
                            "#fdca26"
                          ],
                          [
                            1,
                            "#f0f921"
                          ]
                        ],
                        "type": "surface"
                      }
                    ],
                    "table": [
                      {
                        "cells": {
                          "fill": {
                            "color": "#506784"
                          },
                          "line": {
                            "color": "rgb(17,17,17)"
                          }
                        },
                        "header": {
                          "fill": {
                            "color": "#2a3f5f"
                          },
                          "line": {
                            "color": "rgb(17,17,17)"
                          }
                        },
                        "type": "table"
                      }
                    ]
                  },
                  "layout": {
                    "annotationdefaults": {
                      "arrowcolor": "#f2f5fa",
                      "arrowhead": 0,
                      "arrowwidth": 1
                    },
                    "autotypenumbers": "strict",
                    "coloraxis": {
                      "colorbar": {
                        "outlinewidth": 0,
                        "ticks": ""
                      }
                    },
                    "colorscale": {
                      "diverging": [
                        [
                          0,
                          "#8e0152"
                        ],
                        [
                          0.1,
                          "#c51b7d"
                        ],
                        [
                          0.2,
                          "#de77ae"
                        ],
                        [
                          0.3,
                          "#f1b6da"
                        ],
                        [
                          0.4,
                          "#fde0ef"
                        ],
                        [
                          0.5,
                          "#f7f7f7"
                        ],
                        [
                          0.6,
                          "#e6f5d0"
                        ],
                        [
                          0.7,
                          "#b8e186"
                        ],
                        [
                          0.8,
                          "#7fbc41"
                        ],
                        [
                          0.9,
                          "#4d9221"
                        ],
                        [
                          1,
                          "#276419"
                        ]
                      ],
                      "sequential": [
                        [
                          0,
                          "#0d0887"
                        ],
                        [
                          0.1111111111111111,
                          "#46039f"
                        ],
                        [
                          0.2222222222222222,
                          "#7201a8"
                        ],
                        [
                          0.3333333333333333,
                          "#9c179e"
                        ],
                        [
                          0.4444444444444444,
                          "#bd3786"
                        ],
                        [
                          0.5555555555555556,
                          "#d8576b"
                        ],
                        [
                          0.6666666666666666,
                          "#ed7953"
                        ],
                        [
                          0.7777777777777778,
                          "#fb9f3a"
                        ],
                        [
                          0.8888888888888888,
                          "#fdca26"
                        ],
                        [
                          1,
                          "#f0f921"
                        ]
                      ],
                      "sequentialminus": [
                        [
                          0,
                          "#0d0887"
                        ],
                        [
                          0.1111111111111111,
                          "#46039f"
                        ],
                        [
                          0.2222222222222222,
                          "#7201a8"
                        ],
                        [
                          0.3333333333333333,
                          "#9c179e"
                        ],
                        [
                          0.4444444444444444,
                          "#bd3786"
                        ],
                        [
                          0.5555555555555556,
                          "#d8576b"
                        ],
                        [
                          0.6666666666666666,
                          "#ed7953"
                        ],
                        [
                          0.7777777777777778,
                          "#fb9f3a"
                        ],
                        [
                          0.8888888888888888,
                          "#fdca26"
                        ],
                        [
                          1,
                          "#f0f921"
                        ]
                      ]
                    },
                    "colorway": [
                      "#636efa",
                      "#EF553B",
                      "#00cc96",
                      "#ab63fa",
                      "#FFA15A",
                      "#19d3f3",
                      "#FF6692",
                      "#B6E880",
                      "#FF97FF",
                      "#FECB52"
                    ],
                    "font": {
                      "color": "#f2f5fa"
                    },
                    "geo": {
                      "bgcolor": "rgb(17,17,17)",
                      "lakecolor": "rgb(17,17,17)",
                      "landcolor": "rgb(17,17,17)",
                      "showlakes": true,
                      "showland": true,
                      "subunitcolor": "#506784"
                    },
                    "hoverlabel": {
                      "align": "left"
                    },
                    "hovermode": "closest",
                    "mapbox": {
                      "style": "dark"
                    },
                    "paper_bgcolor": "rgb(17,17,17)",
                    "plot_bgcolor": "rgb(17,17,17)",
                    "polar": {
                      "angularaxis": {
                        "gridcolor": "#506784",
                        "linecolor": "#506784",
                        "ticks": ""
                      },
                      "bgcolor": "rgb(17,17,17)",
                      "radialaxis": {
                        "gridcolor": "#506784",
                        "linecolor": "#506784",
                        "ticks": ""
                      }
                    },
                    "scene": {
                      "xaxis": {
                        "backgroundcolor": "rgb(17,17,17)",
                        "gridcolor": "#506784",
                        "gridwidth": 2,
                        "linecolor": "#506784",
                        "showbackground": true,
                        "ticks": "",
                        "zerolinecolor": "#C8D4E3"
                      },
                      "yaxis": {
                        "backgroundcolor": "rgb(17,17,17)",
                        "gridcolor": "#506784",
                        "gridwidth": 2,
                        "linecolor": "#506784",
                        "showbackground": true,
                        "ticks": "",
                        "zerolinecolor": "#C8D4E3"
                      },
                      "zaxis": {
                        "backgroundcolor": "rgb(17,17,17)",
                        "gridcolor": "#506784",
                        "gridwidth": 2,
                        "linecolor": "#506784",
                        "showbackground": true,
                        "ticks": "",
                        "zerolinecolor": "#C8D4E3"
                      }
                    },
                    "shapedefaults": {
                      "line": {
                        "color": "#f2f5fa"
                      }
                    },
                    "sliderdefaults": {
                      "bgcolor": "#C8D4E3",
                      "bordercolor": "rgb(17,17,17)",
                      "borderwidth": 1,
                      "tickwidth": 0
                    },
                    "ternary": {
                      "aaxis": {
                        "gridcolor": "#506784",
                        "linecolor": "#506784",
                        "ticks": ""
                      },
                      "baxis": {
                        "gridcolor": "#506784",
                        "linecolor": "#506784",
                        "ticks": ""
                      },
                      "bgcolor": "rgb(17,17,17)",
                      "caxis": {
                        "gridcolor": "#506784",
                        "linecolor": "#506784",
                        "ticks": ""
                      }
                    },
                    "title": {
                      "x": 0.05
                    },
                    "updatemenudefaults": {
                      "bgcolor": "#506784",
                      "borderwidth": 0
                    },
                    "xaxis": {
                      "automargin": true,
                      "gridcolor": "#283442",
                      "linecolor": "#506784",
                      "ticks": "",
                      "title": {
                        "standoff": 15
                      },
                      "zerolinecolor": "#283442",
                      "zerolinewidth": 2
                    },
                    "yaxis": {
                      "automargin": true,
                      "gridcolor": "#283442",
                      "linecolor": "#506784",
                      "ticks": "",
                      "title": {
                        "standoff": 15
                      },
                      "zerolinecolor": "#283442",
                      "zerolinewidth": 2
                    }
                  }
                },
                "width": 800
              }
            }
          },
          "metadata": {},
          "output_type": "display_data"
        },
        {
          "data": {
            "application/vnd.plotly.v1+json": {
              "config": {
                "plotlyServerURL": "https://plot.ly"
              },
              "data": [
                {
                  "i": {
                    "bdata": "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",
                    "dtype": "i2"
                  },
                  "j": {
                    "bdata": "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",
                    "dtype": "i2"
                  },
                  "k": {
                    "bdata": "AQAFAAIABgADAAcAAAAEAAUACQAGAAoABwALAAQACAAJAA0ACgAOAAsADwAIAAwADQARAA4AEgAPABMADAAQABEAFQASABYAEwAXABAAFAAVABkAFgAaABcAGwAUABgAGQAdABoAHgAbAB8AGAAcAB0AIQAeACIAHwAjABwAIAAhACUAIgAmACMAJwAgACQAJQApACYAKgAnACsAJAAoACkALQAqAC4AKwAvACgALAAtADEALgAyAC8AMwAsADAAMQA1ADIANgAzADcAMAA0ADUAOQA2ADoANwA7ADQAOAA5AD0AOgA+ADsAPwA4ADwAPQBBAD4AQgA/AEMAPABAAEEARQBCAEYAQwBHAEAARABFAEkARgBKAEcASwBEAEgASQBNAEoATgBLAE8ASABMAE0AUQBOAFIATwBTAEwAUABRAFUAUgBWAFMAVwBQAFQAVQBZAFYAWgBXAFsAVABYAFkAXQBaAF4AWwBfAFgAXABdAGEAXgBiAF8AYwBcAGAAYQBlAGIAZgBjAGcAYABkAGUAaQBmAGoAZwBrAGQAaABpAG0AagBuAGsAbwBoAGwAbQBxAG4AcgBvAHMAbABwAHEAdQByAHYAcwB3AHAAdAB1AHkAdgB6AHcAewB0AHgAeQB9AHoAfgB7AH8AeAB8AH0AgQB+AIIAfwCDAHwAgACBAIUAggCGAIMAhwCAAIQAhQCJAIYAigCHAIsAhACIAIkAjQCKAI4AiwCPAIgAjACNAJEAjgCSAI8AkwCMAJAAkQCVAJIAlgCTAJcAkACUAJUAmQCWAJoAlwCbAJQAmACZAJ0AmgCeAJsAnwCYAJwAnQChAJ4AogCfAKMAnACgAKEApQCiAKYAowCnAKAApAClAKkApgCqAKcAqwCkAKgAqQCtAKoArgCrAK8AqACsAK0AsQCuALIArwCzAKwAsACxALUAsgC2ALMAtwCwALQAtQC5ALYAugC3ALsAtAC4ALkAvQC6AL4AuwC/ALgAvAC9AMEAvgDCAL8AwwC8AMAAwQDFAMIAxgDDAMcAwADEAMUAyQDGAMoAxwDLAMQAyADJAM0AygDOAMsAzwDIAMwAzQDRAM4A0gDPANMAzADQANEA1QDSANYA0wDXANAA1ADVANkA1gDaANcA2wDUANgA2QDdANoA3gDbAN8A2ADcAN0A4QDeAOIA3wDjANwA4ADhAOUA4gDmAOMA5wDgAOQA5QDpAOYA6gDnAOsA5ADoAOkA7QDqAO4A6wDvAOgA7ADtAPEA7gDyAO8A8wDsAPAA8QD1APIA9gDzAPcA8AD0APUA+QD2APoA9wD7APQA+AD5AP0A+gD+APsA/wD4APwA/QABAf4AAgH/AAMB/AAAAQEBBQECAQYBAwEHAQABBAEFAQkBBgEKAQcBCwEEAQgBCQENAQoBDgELAQ8BCAEMAQ0BEQEOARIBDwETAQwBEAERARUBEgEWARMBFwEQARQBFQEZARYBGgEXARsBFAEYARkBHQEaAR4BGwEfARgBHAEdASEBHgEiAR8BIwEcASABIQElASIBJgEjAScBIAEkASUBKQEmASoBJwErASQBKAEpAS0BKgEuASsBLwEoASwBLQExAS4BMgEvATMBLAEwATEBNQEyATYBMwE3ATABNAE1ATkBNgE6ATcBOwE0ATgBOQE9AToBPgE7AT8BOAE8AT0BQQE+AUIBPwFDATwBQAFBAUUBQgFGAUMBRwFAAUQBRQFJAUYBSgFHAUsBRAFIAUkBTQFKAU4BSwFPAUgBTAFNAVEBTgFSAU8BUwFMAVABUQFVAVIBVgFTAVcBUAFUAVUBWQFWAVoBVwFbAVQBWAFZAV0BWgFeAVsBXwFYAVwBXQFhAV4BYgFfAWMBXAFgAWEBZQFiAWYBYwFnAWABZAFlAWkBZgFqAWcBawFkAWgBaQFtAWoBbgFrAW8BaAFsAW0BcQFuAXIBbwFzAWwBcAFxAXUBcgF2AXMBdwFwAXQBdQF5AXYBegF3AXsBdAF4AXkBfQF6AX4BewF/AXgBfAF9AYEBfgGCAX8BgwF8AYABgQGFAYIBhgGDAYcBgAGEAYUBiQGGAYoBhwGLAYQBiAGJAY0BigGOAYsBjwGIAYwBjQGRAY4BkgGPAZMBjAGQAZEBlQGSAZYBkwGXAZABlAGVAZkBlgGaAZcBmwGUAZgBmQGdAZoBngGbAZ8BmAGcAZ0BoQGeAaIBnwGjAZwBoAGhAaUBogGmAaMBpwGgAaQBpQGpAaYBqgGnAasBpAGoAakBrQGqAa4BqwGvAagBrAGtAbEBrgGyAa8BswGsAbABsQG1AbIBtgGzAbcBsAG0AbUBuQG2AboBtwG7AbQBuAG5Ab0BugG+AbsBvwG4AbwBvQHBAb4BwgG/AcMBvAHAAcEBxQHCAcYBwwHHAcABxAHFAckBxgHKAccBywHEAcgByQHNAcoBzgHLAc8ByAHMAc0B0QHOAdIBzwHTAcwB0AHRAdUB0gHWAdMB1wHQAdQB1QHZAdYB2gHXAdsB1AHYAdkB3QHaAd4B2wHfAdgB3AHdAeEB3gHiAd8B4wHcAeAB4QHlAeIB5gHjAecB4AHkAeUB6QHmAeoB5wHrAeQB6AHpAe0B6gHuAesB7wHoAewB7QHxAe4B8gHvAfMB7AHwAfEB9QHyAfYB8wH3AfAB9AH1AfkB9gH6AfcB+wH0AfgB+QH9AfoB/gH7Af8B+AH8Af0BAQL+AQIC/wEDAvwBAAIBAgUCAgIGAgMCBwIAAgQCBQIJAgYCCgIHAgsCBAIIAgkCDQIKAg4CCwIPAggCDAINAhECDgISAg8CEwIMAhACEQIVAhICFgITAhcCEAIUAhUCGQIWAhoCFwIbAhQCGAIZAh0CGgIeAhsCHwIYAhwCHQIhAh4CIgIfAiMCHAIgAiECJQIiAiYCIwInAiACJAIlAikCJgIqAicCKwIkAigCKQItAioCLgIrAi8CKAIsAi0CMQIuAjICLwIzAiwCMAIxAjUCMgI2AjMCNwIwAjQCNQI5AjYCOgI3AjsCNAI4AjkCPQI6Aj4COwI/AjgCPAI9AkECPgJCAj8CQwI8AkACQQJFAkICRgJDAkcCQAJEAkUCSQJGAkoCRwJLAkQCSAJJAk0CSgJOAksCTwJIAkwCTQJRAk4CUgJPAlMCTAJQAlECVQJSAlYCUwJXAlACVAJVAlkCVgJaAlcCWwJUAlgCWQJdAloCXgJbAl8CWAJcAl0CYQJeAmICXwJjAlwCYAJhAmUCYgJmAmMCZwJgAmQCZQJpAmYCagJnAmsCZAJoAmkCbQJqAm4CawJvAmgCbAJtAnECbgJyAm8CcwJsAnACcQJ1AnICdgJzAncCcAJ0AnUCeQJ2AnoCdwJ7AnQCeAJ5An0CegJ+AnsCfwJ4AnwCfQKBAn4CggJ/AoMCfAKAAoEChQKCAoYCgwKHAoAChAKFAokChgKKAocCiwKEAogCiQKNAooCjgKLAo8CiAKMAo0CkQKOApICjwKTAowCkAKRApUCkgKWApMClwKQApQClQKZApYCmgKXApsClAKYApkCnQKaAp4CmwKfApgCnAKdAqECngKiAp8CowKcAqACoQKlAqICpgKjAqcCoAKkAqUCqQKmAqoCpwKrAqQCqAKpAq0CqgKuAqsCrwKoAqwCrQKxAq4CsgKvArMCrAKwArECtQKyArYCswK3ArACtAK1ArkCtgK6ArcCuwK0ArgCuQK9AroCvgK7Ar8CuAK8Ar0CwQK+AsICvwLDArwCwALBAsUCwgLGAsMCxwLAAsQCxQLJAsYCygLHAssCxALIAskCzQLKAs4CywLPAsgCzALNAtECzgLSAs8C0wLMAtAC0QLVAtIC1gLTAtcC0ALUAtUC2QLWAtoC1wLbAtQC2ALZAt0C2gLeAtsC3wLYAtwC3QLhAt4C4gLfAuMC3ALgAuEC5QLiAuYC4wLnAuAC5ALlAukC5gLqAucC6wLkAugC6QLtAuoC7gLrAu8C6ALsAu0C8QLuAvIC7wLzAuwC8ALxAvUC8gL2AvMC9wLwAvQC9QL5AvYC+gL3AvsC9AL4AvkC/QL6Av4C+wL/AvgC/AL9AgED/gICA/8CAwP8AgADAQMFAwIDBgMDAwcDAAMEAwUDCQMGAwoDBwMLAwQDCAMJAw0DCgMOAwsDDwMIAwwDDQMRAw4DEgMPAxMDDAMQAxEDFQMSAxYDEwMXAxADFAMVAxkDFgMaAxcDGwMUAxgDGQMdAxoDHgMbAx8DGAMcAx0DIQMeAyIDHwMjAxwDIAMhAyUDIgMmAyMDJwMgAyQDJQMpAyYDKgMnAysDJAMoAykDLQMqAy4DKwMvAygDLAMtAzEDLgMyAy8DMwMsAzADMQM1AzIDNgMzAzcDMAM0AzUDOQM2AzoDNwM7AzQDOAM5Az0DOgM+AzsDPwM4AzwDPQNBAz4DQgM/A0MDPANAA0EDRQNCA0YDQwNHA0ADRANFA0kDRgNKA0cDSwNEA0gDSQNNA0oDTgNLA08DSANMA00DUQNOA1IDTwNTA0wDUANRA1UDUgNWA1MDVwNQA1QDVQNZA1YDWgNXA1sDVANYA1kDXQNaA14DWwNfA1gDXANdA2EDXgNiA18DYwNcA2ADYQNlA2IDZgNjA2cDYANkA2UDaQNmA2oDZwNrA2QDaANpA20DagNuA2sDbwNoA2wDbQNxA24DcgNvA3MDbANwA3EDdQNyA3YDcwN3A3ADdAN1A3kDdgN6A3cDewN0A3gDeQN9A3oDfgN7A38DeAN8A30DgQN+A4IDfwODA3wDgAOBA4UDggOGA4MDhwOAA4QDhQOJA4YDigOHA4sDhAOIA4kDjQOKA44DiwOPA4gDjAONA5EDjgOSA48DkwOMA5ADkQOVA5IDlgOTA5cDkAOUA5UDmQOWA5oDlwObA5QDmAOZA50DmgOeA5sDnwOYA5wDnQOhA54DogOfA6MDnAOgA6EDpQOiA6YDowOnA6ADpAOlA6kDpgOqA6cDqwOkA6gDqQOtA6oDrgOrA68DqAOsA60DsQOuA7IDrwOzA6wDsAOxA7UDsgO2A7MDtwOwA7QDtQO5A7YDugO3A7sDtAO4A7kDvQO6A74DuwO/A7gDvAO9A8EDvgPCA78DwwO8A8ADwQPFA8IDxgPDA8cDwAPEA8UDyQPGA8oDxwPLA8QDyAPJA80DygPOA8sDzwPIA8wDzQPRA84D0gPPA9MDzAPQA9ED1QPSA9YD0wPXA9AD1APVA9kD1gPaA9cD2wPUA9gD2QPdA9oD3gPbA98D2APcA90D4QPeA+ID3wPjA9wD4APhA+UD4gPmA+MD5wPgA+QD5QPpA+YD6gPnA+sD5APoA+kD7QPqA+4D6wPvA+gD7APtA/ED7gPyA+8D8wPsA/AD",
                    "dtype": "i2"
                  },
                  "type": "mesh3d",
                  "vertexcolor": [
                    "rgb(0.00, 0.00, 255.00)",
                    "rgb(0.00, 0.00, 255.00)",
                    "rgb(0.00, 0.00, 255.00)",
                    "rgb(0.00, 0.00, 255.00)",
                    "rgb(0.00, 0.00, 255.00)",
                    "rgb(0.00, 0.00, 255.00)",
                    "rgb(0.00, 0.00, 255.00)",
                    "rgb(0.00, 0.00, 255.00)",
                    "rgb(0.00, 0.00, 255.00)",
                    "rgb(0.00, 0.00, 255.00)",
                    "rgb(0.00, 0.00, 255.00)",
                    "rgb(0.00, 0.00, 255.00)",
                    "rgb(0.00, 0.00, 255.00)",
                    "rgb(0.00, 0.00, 255.00)",
                    "rgb(0.00, 0.00, 255.00)",
                    "rgb(0.00, 0.00, 255.00)",
                    "rgb(0.00, 0.00, 255.00)",
                    "rgb(0.00, 0.00, 255.00)",
                    "rgb(0.00, 0.00, 255.00)",
                    "rgb(0.00, 0.00, 255.00)",
                    "rgb(0.00, 0.00, 255.00)",
                    "rgb(0.00, 0.00, 255.00)",
                    "rgb(0.00, 0.00, 255.00)",
                    "rgb(0.00, 0.00, 255.00)",
                    "rgb(0.00, 0.00, 255.00)",
                    "rgb(0.00, 0.00, 255.00)",
                    "rgb(0.00, 0.00, 255.00)",
                    "rgb(0.00, 0.00, 255.00)",
                    "rgb(0.00, 0.00, 255.00)",
                    "rgb(0.00, 0.00, 255.00)",
                    "rgb(0.00, 0.00, 255.00)",
                    "rgb(0.00, 0.00, 255.00)",
                    "rgb(0.00, 0.00, 255.00)",
                    "rgb(0.00, 0.00, 255.00)",
                    "rgb(0.00, 0.00, 255.00)",
                    "rgb(0.00, 0.00, 255.00)",
                    "rgb(0.00, 0.00, 255.00)",
                    "rgb(0.00, 0.00, 255.00)",
                    "rgb(0.00, 0.00, 255.00)",
                    "rgb(0.00, 0.00, 255.00)",
                    "rgb(0.00, 0.00, 255.00)",
                    "rgb(0.00, 0.00, 255.00)",
                    "rgb(0.00, 0.00, 255.00)",
                    "rgb(0.00, 0.00, 255.00)",
                    "rgb(0.00, 0.00, 255.00)",
                    "rgb(0.00, 0.00, 255.00)",
                    "rgb(0.00, 0.00, 255.00)",
                    "rgb(0.00, 0.00, 255.00)",
                    "rgb(0.00, 0.00, 255.00)",
                    "rgb(0.00, 0.00, 255.00)",
                    "rgb(0.00, 0.00, 255.00)",
                    "rgb(0.00, 0.00, 255.00)",
                    "rgb(0.00, 0.00, 255.00)",
                    "rgb(0.00, 0.00, 255.00)",
                    "rgb(0.00, 0.00, 255.00)",
                    "rgb(0.00, 0.00, 255.00)",
                    "rgb(0.00, 0.00, 255.00)",
                    "rgb(0.00, 0.00, 255.00)",
                    "rgb(0.00, 0.00, 255.00)",
                    "rgb(0.00, 0.00, 255.00)",
                    "rgb(0.00, 0.00, 255.00)",
                    "rgb(0.00, 0.00, 255.00)",
                    "rgb(0.00, 0.00, 255.00)",
                    "rgb(0.00, 0.00, 255.00)",
                    "rgb(0.00, 0.00, 255.00)",
                    "rgb(0.00, 0.00, 255.00)",
                    "rgb(0.00, 0.00, 255.00)",
                    "rgb(0.00, 0.00, 255.00)",
                    "rgb(0.00, 0.00, 255.00)",
                    "rgb(0.00, 0.00, 255.00)",
                    "rgb(0.00, 0.00, 255.00)",
                    "rgb(0.00, 0.00, 255.00)",
                    "rgb(0.00, 0.00, 255.00)",
                    "rgb(0.00, 0.00, 255.00)",
                    "rgb(0.00, 0.00, 255.00)",
                    "rgb(0.00, 0.00, 255.00)",
                    "rgb(0.00, 0.00, 255.00)",
                    "rgb(0.00, 0.00, 255.00)",
                    "rgb(0.00, 0.00, 255.00)",
                    "rgb(0.00, 0.00, 255.00)",
                    "rgb(0.00, 0.00, 255.00)",
                    "rgb(0.00, 0.00, 255.00)",
                    "rgb(0.00, 0.00, 255.00)",
                    "rgb(0.00, 0.00, 255.00)",
                    "rgb(0.00, 0.00, 255.00)",
                    "rgb(0.00, 0.00, 255.00)",
                    "rgb(0.00, 0.00, 255.00)",
                    "rgb(0.00, 0.00, 255.00)",
                    "rgb(0.00, 0.00, 255.00)",
                    "rgb(0.00, 0.00, 255.00)",
                    "rgb(0.00, 0.00, 255.00)",
                    "rgb(0.00, 0.00, 255.00)",
                    "rgb(0.00, 0.00, 255.00)",
                    "rgb(0.00, 0.00, 255.00)",
                    "rgb(0.00, 0.00, 255.00)",
                    "rgb(0.00, 0.00, 255.00)",
                    "rgb(0.00, 0.00, 255.00)",
                    "rgb(0.00, 0.00, 255.00)",
                    "rgb(0.00, 0.00, 255.00)",
                    "rgb(0.00, 0.00, 255.00)",
                    "rgb(0.00, 0.00, 255.00)",
                    "rgb(0.00, 0.00, 255.00)",
                    "rgb(0.00, 0.00, 255.00)",
                    "rgb(0.00, 0.00, 255.00)",
                    "rgb(0.00, 0.00, 255.00)",
                    "rgb(0.00, 0.00, 255.00)",
                    "rgb(0.00, 0.00, 255.00)",
                    "rgb(0.00, 0.00, 255.00)",
                    "rgb(0.00, 0.00, 255.00)",
                    "rgb(0.00, 0.00, 255.00)",
                    "rgb(0.00, 0.00, 255.00)",
                    "rgb(0.00, 0.00, 255.00)",
                    "rgb(0.00, 0.00, 255.00)",
                    "rgb(0.00, 0.00, 255.00)",
                    "rgb(0.00, 0.00, 255.00)",
                    "rgb(0.00, 0.00, 255.00)",
                    "rgb(0.00, 0.00, 255.00)",
                    "rgb(0.00, 0.00, 255.00)",
                    "rgb(0.00, 0.00, 255.00)",
                    "rgb(0.00, 0.00, 255.00)",
                    "rgb(0.00, 0.00, 255.00)",
                    "rgb(0.00, 0.00, 255.00)",
                    "rgb(0.00, 0.00, 255.00)",
                    "rgb(0.00, 0.00, 255.00)",
                    "rgb(0.00, 0.00, 255.00)",
                    "rgb(0.00, 0.00, 255.00)",
                    "rgb(0.00, 0.00, 255.00)",
                    "rgb(0.00, 0.00, 255.00)",
                    "rgb(0.00, 0.00, 255.00)",
                    "rgb(0.00, 0.00, 255.00)",
                    "rgb(0.00, 0.00, 255.00)",
                    "rgb(0.00, 0.00, 255.00)",
                    "rgb(0.00, 0.00, 255.00)",
                    "rgb(0.00, 0.00, 255.00)",
                    "rgb(0.00, 0.00, 255.00)",
                    "rgb(0.00, 0.00, 255.00)",
                    "rgb(0.00, 0.00, 255.00)",
                    "rgb(0.00, 0.00, 255.00)",
                    "rgb(0.00, 0.00, 255.00)",
                    "rgb(0.00, 0.00, 255.00)",
                    "rgb(0.00, 0.00, 255.00)",
                    "rgb(0.00, 0.00, 255.00)",
                    "rgb(0.00, 0.00, 255.00)",
                    "rgb(0.00, 0.00, 255.00)",
                    "rgb(0.00, 0.00, 255.00)",
                    "rgb(0.00, 0.00, 255.00)",
                    "rgb(0.00, 0.00, 255.00)",
                    "rgb(0.00, 0.00, 255.00)",
                    "rgb(0.00, 0.00, 255.00)",
                    "rgb(0.00, 0.00, 255.00)",
                    "rgb(0.00, 0.00, 255.00)",
                    "rgb(0.00, 0.00, 255.00)",
                    "rgb(0.00, 0.00, 255.00)",
                    "rgb(0.00, 0.00, 255.00)",
                    "rgb(0.00, 0.00, 255.00)",
                    "rgb(0.00, 0.00, 255.00)",
                    "rgb(0.00, 0.00, 255.00)",
                    "rgb(0.00, 0.00, 255.00)",
                    "rgb(0.00, 0.00, 255.00)",
                    "rgb(0.00, 0.00, 255.00)",
                    "rgb(0.00, 0.00, 255.00)",
                    "rgb(0.00, 0.00, 255.00)",
                    "rgb(0.00, 0.00, 255.00)",
                    "rgb(0.00, 0.00, 255.00)",
                    "rgb(0.00, 0.00, 255.00)",
                    "rgb(0.00, 0.00, 255.00)",
                    "rgb(0.00, 0.00, 255.00)",
                    "rgb(0.00, 0.00, 255.00)",
                    "rgb(0.00, 0.00, 255.00)",
                    "rgb(0.00, 0.00, 255.00)",
                    "rgb(0.00, 0.00, 255.00)",
                    "rgb(0.00, 0.00, 255.00)",
                    "rgb(0.00, 0.00, 255.00)",
                    "rgb(0.00, 0.00, 255.00)",
                    "rgb(0.00, 0.00, 255.00)",
                    "rgb(0.00, 0.00, 255.00)",
                    "rgb(0.00, 0.00, 255.00)",
                    "rgb(0.00, 0.00, 255.00)",
                    "rgb(0.00, 0.00, 255.00)",
                    "rgb(0.00, 0.00, 255.00)",
                    "rgb(0.00, 0.00, 255.00)",
                    "rgb(0.00, 0.00, 255.00)",
                    "rgb(0.00, 0.00, 255.00)",
                    "rgb(0.00, 0.00, 255.00)",
                    "rgb(0.00, 0.00, 255.00)",
                    "rgb(0.00, 0.00, 255.00)",
                    "rgb(0.00, 0.00, 255.00)",
                    "rgb(0.00, 0.00, 255.00)",
                    "rgb(0.00, 0.00, 255.00)",
                    "rgb(0.00, 0.00, 255.00)",
                    "rgb(0.00, 0.00, 255.00)",
                    "rgb(0.00, 0.00, 255.00)",
                    "rgb(0.00, 0.00, 255.00)",
                    "rgb(0.00, 0.00, 255.00)",
                    "rgb(0.00, 0.00, 255.00)",
                    "rgb(0.00, 0.00, 255.00)",
                    "rgb(0.00, 0.00, 255.00)",
                    "rgb(0.00, 0.00, 255.00)",
                    "rgb(0.00, 0.00, 255.00)",
                    "rgb(0.00, 0.00, 255.00)",
                    "rgb(0.00, 0.00, 255.00)",
                    "rgb(0.00, 0.00, 255.00)",
                    "rgb(0.00, 0.00, 255.00)",
                    "rgb(0.00, 0.00, 255.00)",
                    "rgb(0.00, 0.00, 255.00)",
                    "rgb(0.00, 0.00, 255.00)",
                    "rgb(0.00, 0.00, 255.00)",
                    "rgb(0.00, 0.00, 255.00)",
                    "rgb(0.00, 0.00, 255.00)",
                    "rgb(0.00, 0.00, 255.00)",
                    "rgb(0.00, 0.00, 255.00)",
                    "rgb(0.00, 0.00, 255.00)",
                    "rgb(0.00, 0.00, 255.00)",
                    "rgb(0.00, 0.00, 255.00)",
                    "rgb(0.00, 0.00, 255.00)",
                    "rgb(0.00, 0.00, 255.00)",
                    "rgb(0.00, 0.00, 255.00)",
                    "rgb(0.00, 0.00, 255.00)",
                    "rgb(0.00, 0.00, 255.00)",
                    "rgb(0.00, 0.00, 255.00)",
                    "rgb(0.00, 0.00, 255.00)",
                    "rgb(0.00, 0.00, 255.00)",
                    "rgb(0.00, 0.00, 255.00)",
                    "rgb(0.00, 0.00, 255.00)",
                    "rgb(0.00, 0.00, 255.00)",
                    "rgb(0.00, 0.00, 255.00)",
                    "rgb(0.00, 0.00, 255.00)",
                    "rgb(0.00, 0.00, 255.00)",
                    "rgb(0.00, 0.00, 255.00)",
                    "rgb(0.00, 0.00, 255.00)",
                    "rgb(0.00, 0.00, 255.00)",
                    "rgb(0.00, 0.00, 255.00)",
                    "rgb(0.00, 0.00, 255.00)",
                    "rgb(0.00, 0.00, 255.00)",
                    "rgb(0.00, 0.00, 255.00)",
                    "rgb(0.00, 0.00, 255.00)",
                    "rgb(0.00, 0.00, 255.00)",
                    "rgb(0.00, 0.00, 255.00)",
                    "rgb(0.00, 0.00, 255.00)",
                    "rgb(0.00, 0.00, 255.00)",
                    "rgb(0.00, 0.00, 255.00)",
                    "rgb(0.00, 0.00, 255.00)",
                    "rgb(0.00, 0.00, 255.00)",
                    "rgb(0.00, 0.00, 255.00)",
                    "rgb(0.00, 0.00, 255.00)",
                    "rgb(0.00, 0.00, 255.00)",
                    "rgb(0.00, 0.00, 255.00)",
                    "rgb(0.00, 0.00, 255.00)",
                    "rgb(0.00, 0.00, 255.00)",
                    "rgb(0.00, 0.00, 255.00)",
                    "rgb(0.00, 0.00, 255.00)",
                    "rgb(0.00, 0.00, 255.00)",
                    "rgb(0.00, 0.00, 255.00)",
                    "rgb(0.00, 0.00, 255.00)",
                    "rgb(0.00, 0.00, 255.00)",
                    "rgb(0.00, 0.00, 255.00)",
                    "rgb(0.00, 0.00, 255.00)",
                    "rgb(0.00, 0.00, 255.00)",
                    "rgb(0.00, 0.00, 255.00)",
                    "rgb(0.00, 0.00, 255.00)",
                    "rgb(0.00, 0.00, 255.00)",
                    "rgb(0.00, 0.00, 255.00)",
                    "rgb(0.00, 0.00, 255.00)",
                    "rgb(0.00, 0.00, 255.00)",
                    "rgb(0.00, 0.00, 255.00)",
                    "rgb(0.00, 0.00, 255.00)",
                    "rgb(0.00, 0.00, 255.00)",
                    "rgb(0.00, 0.00, 255.00)",
                    "rgb(0.00, 0.00, 255.00)",
                    "rgb(0.00, 0.00, 255.00)",
                    "rgb(0.00, 0.00, 255.00)",
                    "rgb(0.00, 0.00, 255.00)",
                    "rgb(0.00, 0.00, 255.00)",
                    "rgb(0.00, 0.00, 255.00)",
                    "rgb(0.00, 0.00, 255.00)",
                    "rgb(0.00, 0.00, 255.00)",
                    "rgb(0.00, 0.00, 255.00)",
                    "rgb(0.00, 0.00, 255.00)",
                    "rgb(0.00, 0.00, 255.00)",
                    "rgb(0.00, 0.00, 255.00)",
                    "rgb(0.00, 0.00, 255.00)",
                    "rgb(0.00, 0.00, 255.00)",
                    "rgb(0.00, 0.00, 255.00)",
                    "rgb(0.00, 0.00, 255.00)",
                    "rgb(0.00, 0.00, 255.00)",
                    "rgb(0.00, 0.00, 255.00)",
                    "rgb(0.00, 0.00, 255.00)",
                    "rgb(0.00, 0.00, 255.00)",
                    "rgb(0.00, 0.00, 255.00)",
                    "rgb(0.00, 0.00, 255.00)",
                    "rgb(0.00, 0.00, 255.00)",
                    "rgb(0.00, 0.00, 255.00)",
                    "rgb(0.00, 0.00, 255.00)",
                    "rgb(0.00, 0.00, 255.00)",
                    "rgb(0.00, 0.00, 255.00)",
                    "rgb(0.00, 0.00, 255.00)",
                    "rgb(0.00, 0.00, 255.00)",
                    "rgb(0.00, 0.00, 255.00)",
                    "rgb(0.00, 0.00, 255.00)",
                    "rgb(0.00, 0.00, 255.00)",
                    "rgb(0.00, 0.00, 255.00)",
                    "rgb(0.00, 0.00, 255.00)",
                    "rgb(0.00, 0.00, 255.00)",
                    "rgb(0.00, 0.00, 255.00)",
                    "rgb(0.00, 0.00, 255.00)",
                    "rgb(0.00, 0.00, 255.00)",
                    "rgb(0.00, 0.00, 255.00)",
                    "rgb(0.00, 0.00, 255.00)",
                    "rgb(0.00, 0.00, 255.00)",
                    "rgb(0.00, 0.00, 255.00)",
                    "rgb(0.00, 0.00, 255.00)",
                    "rgb(0.00, 0.00, 255.00)",
                    "rgb(0.00, 0.00, 255.00)",
                    "rgb(0.00, 0.00, 255.00)",
                    "rgb(0.00, 0.00, 255.00)",
                    "rgb(0.00, 0.00, 255.00)",
                    "rgb(0.00, 0.00, 255.00)",
                    "rgb(0.00, 0.00, 255.00)",
                    "rgb(0.00, 0.00, 255.00)",
                    "rgb(0.00, 0.00, 255.00)",
                    "rgb(0.00, 0.00, 255.00)",
                    "rgb(0.00, 0.00, 255.00)",
                    "rgb(0.00, 0.00, 255.00)",
                    "rgb(0.00, 0.00, 255.00)",
                    "rgb(0.00, 0.00, 255.00)",
                    "rgb(0.00, 0.00, 255.00)",
                    "rgb(0.00, 0.00, 255.00)",
                    "rgb(0.00, 0.00, 255.00)",
                    "rgb(0.00, 0.00, 255.00)",
                    "rgb(0.00, 0.00, 255.00)",
                    "rgb(0.00, 0.00, 255.00)",
                    "rgb(0.00, 0.00, 255.00)",
                    "rgb(0.00, 0.00, 255.00)",
                    "rgb(0.00, 0.00, 255.00)",
                    "rgb(0.00, 0.00, 255.00)",
                    "rgb(0.00, 0.00, 255.00)",
                    "rgb(0.00, 0.00, 255.00)",
                    "rgb(0.00, 0.00, 255.00)",
                    "rgb(0.00, 0.00, 255.00)",
                    "rgb(0.00, 0.00, 255.00)",
                    "rgb(0.00, 0.00, 255.00)",
                    "rgb(0.00, 0.00, 255.00)",
                    "rgb(0.00, 0.00, 255.00)",
                    "rgb(0.00, 0.00, 255.00)",
                    "rgb(0.00, 0.00, 255.00)",
                    "rgb(0.00, 0.00, 255.00)",
                    "rgb(0.00, 0.00, 255.00)",
                    "rgb(0.00, 0.00, 255.00)",
                    "rgb(0.00, 0.00, 255.00)",
                    "rgb(0.00, 0.00, 255.00)",
                    "rgb(0.00, 0.00, 255.00)",
                    "rgb(0.00, 0.00, 255.00)",
                    "rgb(0.00, 0.00, 255.00)",
                    "rgb(0.00, 0.00, 255.00)",
                    "rgb(0.00, 0.00, 255.00)",
                    "rgb(0.00, 0.00, 255.00)",
                    "rgb(0.00, 0.00, 255.00)",
                    "rgb(0.00, 0.00, 255.00)",
                    "rgb(0.00, 0.00, 255.00)",
                    "rgb(0.00, 0.00, 255.00)",
                    "rgb(0.00, 0.00, 255.00)",
                    "rgb(0.00, 0.00, 255.00)",
                    "rgb(0.00, 0.00, 255.00)",
                    "rgb(0.00, 0.00, 255.00)",
                    "rgb(0.00, 0.00, 255.00)",
                    "rgb(0.00, 0.00, 255.00)",
                    "rgb(0.00, 0.00, 255.00)",
                    "rgb(0.00, 0.00, 255.00)",
                    "rgb(0.00, 0.00, 255.00)",
                    "rgb(0.00, 0.00, 255.00)",
                    "rgb(0.00, 0.00, 255.00)",
                    "rgb(0.00, 0.00, 255.00)",
                    "rgb(0.00, 0.00, 255.00)",
                    "rgb(0.00, 0.00, 255.00)",
                    "rgb(0.00, 0.00, 255.00)",
                    "rgb(0.00, 0.00, 255.00)",
                    "rgb(0.00, 0.00, 255.00)",
                    "rgb(0.00, 0.00, 255.00)",
                    "rgb(0.00, 0.00, 255.00)",
                    "rgb(0.00, 0.00, 255.00)",
                    "rgb(0.00, 0.00, 255.00)",
                    "rgb(0.00, 0.00, 255.00)",
                    "rgb(0.00, 0.00, 255.00)",
                    "rgb(0.00, 0.00, 255.00)",
                    "rgb(0.00, 8.16, 255.00)",
                    "rgb(0.00, 8.16, 255.00)",
                    "rgb(0.00, 8.16, 255.00)",
                    "rgb(0.00, 8.16, 255.00)",
                    "rgb(0.00, 16.32, 255.00)",
                    "rgb(0.00, 16.32, 255.00)",
                    "rgb(0.00, 16.32, 255.00)",
                    "rgb(0.00, 16.32, 255.00)",
                    "rgb(0.00, 23.46, 255.00)",
                    "rgb(0.00, 23.46, 255.00)",
                    "rgb(0.00, 23.46, 255.00)",
                    "rgb(0.00, 23.46, 255.00)",
                    "rgb(0.00, 31.62, 255.00)",
                    "rgb(0.00, 31.62, 255.00)",
                    "rgb(0.00, 31.62, 255.00)",
                    "rgb(0.00, 31.62, 255.00)",
                    "rgb(0.00, 39.78, 255.00)",
                    "rgb(0.00, 39.78, 255.00)",
                    "rgb(0.00, 39.78, 255.00)",
                    "rgb(0.00, 39.78, 255.00)",
                    "rgb(0.00, 47.94, 255.00)",
                    "rgb(0.00, 47.94, 255.00)",
                    "rgb(0.00, 47.94, 255.00)",
                    "rgb(0.00, 47.94, 255.00)",
                    "rgb(0.00, 56.10, 255.00)",
                    "rgb(0.00, 56.10, 255.00)",
                    "rgb(0.00, 56.10, 255.00)",
                    "rgb(0.00, 56.10, 255.00)",
                    "rgb(0.00, 63.24, 255.00)",
                    "rgb(0.00, 63.24, 255.00)",
                    "rgb(0.00, 63.24, 255.00)",
                    "rgb(0.00, 63.24, 255.00)",
                    "rgb(0.00, 71.40, 255.00)",
                    "rgb(0.00, 71.40, 255.00)",
                    "rgb(0.00, 71.40, 255.00)",
                    "rgb(0.00, 71.40, 255.00)",
                    "rgb(0.00, 79.56, 255.00)",
                    "rgb(0.00, 79.56, 255.00)",
                    "rgb(0.00, 79.56, 255.00)",
                    "rgb(0.00, 79.56, 255.00)",
                    "rgb(0.00, 87.72, 255.00)",
                    "rgb(0.00, 87.72, 255.00)",
                    "rgb(0.00, 87.72, 255.00)",
                    "rgb(0.00, 87.72, 255.00)",
                    "rgb(0.00, 95.88, 255.00)",
                    "rgb(0.00, 95.88, 255.00)",
                    "rgb(0.00, 95.88, 255.00)",
                    "rgb(0.00, 95.88, 255.00)",
                    "rgb(0.00, 104.04, 255.00)",
                    "rgb(0.00, 104.04, 255.00)",
                    "rgb(0.00, 104.04, 255.00)",
                    "rgb(0.00, 104.04, 255.00)",
                    "rgb(0.00, 111.18, 255.00)",
                    "rgb(0.00, 111.18, 255.00)",
                    "rgb(0.00, 111.18, 255.00)",
                    "rgb(0.00, 111.18, 255.00)",
                    "rgb(0.00, 119.34, 255.00)",
                    "rgb(0.00, 119.34, 255.00)",
                    "rgb(0.00, 119.34, 255.00)",
                    "rgb(0.00, 119.34, 255.00)",
                    "rgb(0.00, 127.50, 255.00)",
                    "rgb(0.00, 127.50, 255.00)",
                    "rgb(0.00, 127.50, 255.00)",
                    "rgb(0.00, 127.50, 255.00)",
                    "rgb(0.00, 135.66, 255.00)",
                    "rgb(0.00, 135.66, 255.00)",
                    "rgb(0.00, 135.66, 255.00)",
                    "rgb(0.00, 135.66, 255.00)",
                    "rgb(0.00, 143.82, 255.00)",
                    "rgb(0.00, 143.82, 255.00)",
                    "rgb(0.00, 143.82, 255.00)",
                    "rgb(0.00, 143.82, 255.00)",
                    "rgb(0.00, 150.96, 255.00)",
                    "rgb(0.00, 150.96, 255.00)",
                    "rgb(0.00, 150.96, 255.00)",
                    "rgb(0.00, 150.96, 255.00)",
                    "rgb(0.00, 159.12, 255.00)",
                    "rgb(0.00, 159.12, 255.00)",
                    "rgb(0.00, 159.12, 255.00)",
                    "rgb(0.00, 159.12, 255.00)",
                    "rgb(0.00, 167.28, 255.00)",
                    "rgb(0.00, 167.28, 255.00)",
                    "rgb(0.00, 167.28, 255.00)",
                    "rgb(0.00, 167.28, 255.00)",
                    "rgb(0.00, 175.44, 255.00)",
                    "rgb(0.00, 175.44, 255.00)",
                    "rgb(0.00, 175.44, 255.00)",
                    "rgb(0.00, 175.44, 255.00)",
                    "rgb(0.00, 183.60, 255.00)",
                    "rgb(0.00, 183.60, 255.00)",
                    "rgb(0.00, 183.60, 255.00)",
                    "rgb(0.00, 183.60, 255.00)",
                    "rgb(0.00, 191.76, 255.00)",
                    "rgb(0.00, 191.76, 255.00)",
                    "rgb(0.00, 191.76, 255.00)",
                    "rgb(0.00, 191.76, 255.00)",
                    "rgb(0.00, 198.90, 255.00)",
                    "rgb(0.00, 198.90, 255.00)",
                    "rgb(0.00, 198.90, 255.00)",
                    "rgb(0.00, 198.90, 255.00)",
                    "rgb(0.00, 207.06, 255.00)",
                    "rgb(0.00, 207.06, 255.00)",
                    "rgb(0.00, 207.06, 255.00)",
                    "rgb(0.00, 207.06, 255.00)",
                    "rgb(0.00, 215.22, 255.00)",
                    "rgb(0.00, 215.22, 255.00)",
                    "rgb(0.00, 215.22, 255.00)",
                    "rgb(0.00, 215.22, 255.00)",
                    "rgb(0.00, 223.38, 255.00)",
                    "rgb(0.00, 223.38, 255.00)",
                    "rgb(0.00, 223.38, 255.00)",
                    "rgb(0.00, 223.38, 255.00)",
                    "rgb(0.00, 231.54, 255.00)",
                    "rgb(0.00, 231.54, 255.00)",
                    "rgb(0.00, 231.54, 255.00)",
                    "rgb(0.00, 231.54, 255.00)",
                    "rgb(0.00, 238.68, 255.00)",
                    "rgb(0.00, 238.68, 255.00)",
                    "rgb(0.00, 238.68, 255.00)",
                    "rgb(0.00, 238.68, 255.00)",
                    "rgb(0.00, 246.84, 255.00)",
                    "rgb(0.00, 246.84, 255.00)",
                    "rgb(0.00, 246.84, 255.00)",
                    "rgb(0.00, 246.84, 255.00)",
                    "rgb(0.00, 255.00, 255.00)",
                    "rgb(0.00, 255.00, 255.00)",
                    "rgb(0.00, 255.00, 255.00)",
                    "rgb(0.00, 255.00, 255.00)",
                    "rgb(0.00, 255.00, 255.00)",
                    "rgb(0.00, 255.00, 255.00)",
                    "rgb(0.00, 255.00, 255.00)",
                    "rgb(0.00, 255.00, 255.00)",
                    "rgb(0.00, 255.00, 255.00)",
                    "rgb(0.00, 255.00, 255.00)",
                    "rgb(0.00, 255.00, 255.00)",
                    "rgb(0.00, 255.00, 255.00)",
                    "rgb(0.00, 255.00, 255.00)",
                    "rgb(0.00, 255.00, 255.00)",
                    "rgb(0.00, 255.00, 255.00)",
                    "rgb(0.00, 255.00, 255.00)",
                    "rgb(0.00, 255.00, 255.00)",
                    "rgb(0.00, 255.00, 255.00)",
                    "rgb(0.00, 255.00, 255.00)",
                    "rgb(0.00, 255.00, 255.00)",
                    "rgb(0.00, 255.00, 255.00)",
                    "rgb(0.00, 255.00, 255.00)",
                    "rgb(0.00, 255.00, 255.00)",
                    "rgb(0.00, 255.00, 255.00)",
                    "rgb(0.00, 255.00, 255.00)",
                    "rgb(0.00, 255.00, 255.00)",
                    "rgb(0.00, 255.00, 255.00)",
                    "rgb(0.00, 255.00, 255.00)",
                    "rgb(0.00, 255.00, 255.00)",
                    "rgb(0.00, 255.00, 255.00)",
                    "rgb(0.00, 255.00, 255.00)",
                    "rgb(0.00, 255.00, 255.00)",
                    "rgb(0.00, 255.00, 255.00)",
                    "rgb(0.00, 255.00, 255.00)",
                    "rgb(0.00, 255.00, 255.00)",
                    "rgb(0.00, 255.00, 255.00)",
                    "rgb(0.00, 255.00, 255.00)",
                    "rgb(0.00, 255.00, 255.00)",
                    "rgb(0.00, 255.00, 255.00)",
                    "rgb(0.00, 255.00, 255.00)",
                    "rgb(0.00, 255.00, 255.00)",
                    "rgb(0.00, 255.00, 255.00)",
                    "rgb(0.00, 255.00, 255.00)",
                    "rgb(0.00, 255.00, 255.00)",
                    "rgb(0.00, 255.00, 255.00)",
                    "rgb(0.00, 255.00, 255.00)",
                    "rgb(0.00, 255.00, 255.00)",
                    "rgb(0.00, 255.00, 255.00)",
                    "rgb(0.00, 255.00, 255.00)",
                    "rgb(0.00, 255.00, 255.00)",
                    "rgb(0.00, 255.00, 255.00)",
                    "rgb(0.00, 255.00, 255.00)",
                    "rgb(0.00, 255.00, 255.00)",
                    "rgb(0.00, 255.00, 255.00)",
                    "rgb(0.00, 255.00, 255.00)",
                    "rgb(0.00, 255.00, 255.00)",
                    "rgb(0.00, 255.00, 255.00)",
                    "rgb(0.00, 255.00, 255.00)",
                    "rgb(0.00, 255.00, 255.00)",
                    "rgb(0.00, 255.00, 255.00)",
                    "rgb(0.00, 255.00, 255.00)",
                    "rgb(0.00, 255.00, 255.00)",
                    "rgb(0.00, 255.00, 255.00)",
                    "rgb(0.00, 255.00, 255.00)",
                    "rgb(0.00, 255.00, 255.00)",
                    "rgb(0.00, 255.00, 255.00)",
                    "rgb(0.00, 255.00, 255.00)",
                    "rgb(0.00, 255.00, 255.00)",
                    "rgb(0.00, 255.00, 255.00)",
                    "rgb(0.00, 255.00, 255.00)",
                    "rgb(0.00, 255.00, 255.00)",
                    "rgb(0.00, 255.00, 255.00)",
                    "rgb(0.00, 255.00, 255.00)",
                    "rgb(0.00, 255.00, 255.00)",
                    "rgb(0.00, 255.00, 255.00)",
                    "rgb(0.00, 255.00, 255.00)",
                    "rgb(0.00, 255.00, 255.00)",
                    "rgb(0.00, 255.00, 255.00)",
                    "rgb(0.00, 255.00, 255.00)",
                    "rgb(0.00, 255.00, 255.00)",
                    "rgb(0.00, 255.00, 255.00)",
                    "rgb(0.00, 255.00, 255.00)",
                    "rgb(0.00, 255.00, 255.00)",
                    "rgb(0.00, 255.00, 255.00)",
                    "rgb(0.00, 255.00, 255.00)",
                    "rgb(0.00, 255.00, 255.00)",
                    "rgb(0.00, 255.00, 255.00)",
                    "rgb(0.00, 255.00, 255.00)",
                    "rgb(0.00, 255.00, 255.00)",
                    "rgb(0.00, 255.00, 255.00)",
                    "rgb(0.00, 255.00, 255.00)",
                    "rgb(0.00, 255.00, 255.00)",
                    "rgb(0.00, 255.00, 255.00)",
                    "rgb(0.00, 255.00, 255.00)",
                    "rgb(0.00, 255.00, 255.00)",
                    "rgb(0.00, 255.00, 255.00)",
                    "rgb(0.00, 255.00, 255.00)",
                    "rgb(0.00, 255.00, 255.00)",
                    "rgb(0.00, 255.00, 255.00)",
                    "rgb(0.00, 255.00, 255.00)",
                    "rgb(0.00, 255.00, 255.00)",
                    "rgb(0.00, 255.00, 255.00)",
                    "rgb(0.00, 255.00, 255.00)",
                    "rgb(0.00, 255.00, 255.00)",
                    "rgb(0.00, 255.00, 255.00)",
                    "rgb(0.00, 255.00, 255.00)",
                    "rgb(0.00, 255.00, 255.00)",
                    "rgb(0.00, 255.00, 255.00)",
                    "rgb(0.00, 255.00, 255.00)",
                    "rgb(0.00, 255.00, 255.00)",
                    "rgb(0.00, 255.00, 255.00)",
                    "rgb(0.00, 255.00, 255.00)",
                    "rgb(0.00, 255.00, 255.00)",
                    "rgb(0.00, 255.00, 255.00)",
                    "rgb(0.00, 255.00, 255.00)",
                    "rgb(0.00, 255.00, 255.00)",
                    "rgb(0.00, 255.00, 255.00)",
                    "rgb(0.00, 255.00, 255.00)",
                    "rgb(0.00, 255.00, 255.00)",
                    "rgb(0.00, 255.00, 255.00)",
                    "rgb(0.00, 255.00, 255.00)",
                    "rgb(0.00, 255.00, 255.00)",
                    "rgb(0.00, 255.00, 255.00)",
                    "rgb(0.00, 255.00, 255.00)",
                    "rgb(0.00, 255.00, 255.00)",
                    "rgb(0.00, 255.00, 255.00)",
                    "rgb(0.00, 255.00, 255.00)",
                    "rgb(0.00, 255.00, 255.00)",
                    "rgb(0.00, 255.00, 255.00)",
                    "rgb(0.00, 255.00, 255.00)",
                    "rgb(0.00, 255.00, 255.00)",
                    "rgb(0.00, 255.00, 255.00)",
                    "rgb(0.00, 255.00, 255.00)",
                    "rgb(0.00, 255.00, 255.00)",
                    "rgb(0.00, 255.00, 255.00)",
                    "rgb(0.00, 255.00, 255.00)",
                    "rgb(0.00, 255.00, 255.00)",
                    "rgb(0.00, 255.00, 255.00)",
                    "rgb(0.00, 255.00, 255.00)",
                    "rgb(0.00, 255.00, 255.00)",
                    "rgb(0.00, 255.00, 255.00)",
                    "rgb(0.00, 255.00, 255.00)",
                    "rgb(0.00, 255.00, 255.00)",
                    "rgb(0.00, 255.00, 255.00)",
                    "rgb(0.00, 255.00, 255.00)",
                    "rgb(0.00, 255.00, 255.00)",
                    "rgb(0.00, 255.00, 255.00)",
                    "rgb(0.00, 255.00, 255.00)",
                    "rgb(0.00, 255.00, 255.00)",
                    "rgb(0.00, 255.00, 255.00)",
                    "rgb(0.00, 255.00, 255.00)",
                    "rgb(0.00, 255.00, 255.00)",
                    "rgb(0.00, 255.00, 255.00)",
                    "rgb(0.00, 255.00, 255.00)",
                    "rgb(0.00, 255.00, 255.00)",
                    "rgb(0.00, 255.00, 255.00)",
                    "rgb(0.00, 255.00, 255.00)",
                    "rgb(0.00, 255.00, 255.00)",
                    "rgb(0.00, 255.00, 255.00)",
                    "rgb(0.00, 255.00, 255.00)",
                    "rgb(0.00, 255.00, 255.00)",
                    "rgb(0.00, 255.00, 255.00)",
                    "rgb(0.00, 255.00, 255.00)",
                    "rgb(0.00, 255.00, 255.00)",
                    "rgb(0.00, 255.00, 255.00)",
                    "rgb(0.00, 255.00, 255.00)",
                    "rgb(0.00, 255.00, 255.00)",
                    "rgb(0.00, 255.00, 255.00)",
                    "rgb(0.00, 255.00, 255.00)",
                    "rgb(0.00, 255.00, 255.00)",
                    "rgb(0.00, 255.00, 255.00)",
                    "rgb(0.00, 255.00, 255.00)",
                    "rgb(0.00, 255.00, 255.00)",
                    "rgb(0.00, 255.00, 255.00)",
                    "rgb(0.00, 255.00, 255.00)",
                    "rgb(0.00, 255.00, 255.00)",
                    "rgb(0.00, 255.00, 255.00)",
                    "rgb(0.00, 255.00, 255.00)",
                    "rgb(0.00, 255.00, 255.00)",
                    "rgb(0.00, 255.00, 255.00)",
                    "rgb(0.00, 255.00, 255.00)",
                    "rgb(0.00, 255.00, 255.00)",
                    "rgb(0.00, 255.00, 255.00)",
                    "rgb(0.00, 255.00, 255.00)",
                    "rgb(0.00, 255.00, 255.00)",
                    "rgb(0.00, 255.00, 255.00)",
                    "rgb(0.00, 255.00, 255.00)",
                    "rgb(0.00, 255.00, 255.00)",
                    "rgb(0.00, 255.00, 255.00)",
                    "rgb(0.00, 255.00, 255.00)",
                    "rgb(0.00, 255.00, 255.00)",
                    "rgb(0.00, 255.00, 255.00)",
                    "rgb(0.00, 255.00, 255.00)",
                    "rgb(0.00, 255.00, 255.00)",
                    "rgb(0.00, 255.00, 255.00)",
                    "rgb(0.00, 255.00, 255.00)",
                    "rgb(0.00, 255.00, 255.00)",
                    "rgb(0.00, 255.00, 255.00)",
                    "rgb(0.00, 255.00, 255.00)",
                    "rgb(0.00, 255.00, 255.00)",
                    "rgb(0.00, 255.00, 255.00)",
                    "rgb(0.00, 255.00, 255.00)",
                    "rgb(0.00, 255.00, 255.00)",
                    "rgb(0.00, 255.00, 255.00)",
                    "rgb(0.00, 255.00, 255.00)",
                    "rgb(0.00, 255.00, 255.00)",
                    "rgb(0.00, 255.00, 255.00)",
                    "rgb(0.00, 255.00, 255.00)",
                    "rgb(0.00, 255.00, 255.00)",
                    "rgb(0.00, 255.00, 255.00)",
                    "rgb(0.00, 255.00, 255.00)",
                    "rgb(0.00, 255.00, 255.00)",
                    "rgb(0.00, 255.00, 255.00)",
                    "rgb(0.00, 255.00, 255.00)",
                    "rgb(0.00, 255.00, 255.00)",
                    "rgb(0.00, 255.00, 255.00)",
                    "rgb(0.00, 255.00, 255.00)",
                    "rgb(0.00, 255.00, 255.00)",
                    "rgb(0.00, 255.00, 255.00)",
                    "rgb(0.00, 255.00, 255.00)",
                    "rgb(0.00, 255.00, 255.00)",
                    "rgb(0.00, 255.00, 255.00)",
                    "rgb(0.00, 255.00, 255.00)",
                    "rgb(0.00, 255.00, 255.00)",
                    "rgb(0.00, 255.00, 255.00)",
                    "rgb(0.00, 255.00, 255.00)",
                    "rgb(0.00, 255.00, 255.00)",
                    "rgb(0.00, 255.00, 255.00)",
                    "rgb(0.00, 255.00, 255.00)",
                    "rgb(0.00, 255.00, 255.00)",
                    "rgb(0.00, 255.00, 255.00)",
                    "rgb(0.00, 255.00, 255.00)",
                    "rgb(0.00, 255.00, 255.00)",
                    "rgb(0.00, 255.00, 255.00)",
                    "rgb(0.00, 255.00, 255.00)",
                    "rgb(0.00, 255.00, 255.00)",
                    "rgb(0.00, 255.00, 255.00)",
                    "rgb(0.00, 255.00, 255.00)",
                    "rgb(0.00, 255.00, 255.00)",
                    "rgb(0.00, 255.00, 255.00)",
                    "rgb(0.00, 255.00, 255.00)",
                    "rgb(0.00, 255.00, 255.00)",
                    "rgb(0.00, 255.00, 255.00)",
                    "rgb(0.00, 255.00, 255.00)",
                    "rgb(0.00, 255.00, 255.00)",
                    "rgb(0.00, 255.00, 255.00)",
                    "rgb(0.00, 255.00, 255.00)",
                    "rgb(0.00, 255.00, 255.00)",
                    "rgb(0.00, 255.00, 255.00)",
                    "rgb(0.00, 255.00, 255.00)",
                    "rgb(0.00, 255.00, 255.00)",
                    "rgb(0.00, 255.00, 255.00)",
                    "rgb(0.00, 255.00, 255.00)",
                    "rgb(0.00, 255.00, 255.00)",
                    "rgb(0.00, 255.00, 255.00)",
                    "rgb(0.00, 255.00, 255.00)",
                    "rgb(0.00, 255.00, 255.00)",
                    "rgb(0.00, 255.00, 255.00)",
                    "rgb(0.00, 255.00, 255.00)",
                    "rgb(0.00, 255.00, 255.00)",
                    "rgb(0.00, 255.00, 255.00)",
                    "rgb(0.00, 255.00, 255.00)",
                    "rgb(0.00, 255.00, 255.00)",
                    "rgb(0.00, 255.00, 255.00)",
                    "rgb(0.00, 255.00, 255.00)",
                    "rgb(0.00, 255.00, 255.00)",
                    "rgb(0.00, 255.00, 255.00)",
                    "rgb(0.00, 255.00, 255.00)",
                    "rgb(0.00, 255.00, 255.00)",
                    "rgb(0.00, 255.00, 255.00)",
                    "rgb(0.00, 255.00, 255.00)",
                    "rgb(0.00, 255.00, 255.00)",
                    "rgb(0.00, 255.00, 255.00)",
                    "rgb(0.00, 255.00, 255.00)",
                    "rgb(0.00, 255.00, 255.00)",
                    "rgb(0.00, 255.00, 255.00)",
                    "rgb(0.00, 255.00, 255.00)",
                    "rgb(0.00, 255.00, 255.00)",
                    "rgb(0.00, 255.00, 255.00)",
                    "rgb(0.00, 255.00, 255.00)",
                    "rgb(0.00, 255.00, 255.00)",
                    "rgb(0.00, 255.00, 255.00)",
                    "rgb(0.00, 255.00, 255.00)",
                    "rgb(0.00, 255.00, 255.00)",
                    "rgb(0.00, 255.00, 255.00)",
                    "rgb(0.00, 255.00, 255.00)",
                    "rgb(0.00, 255.00, 255.00)",
                    "rgb(0.00, 255.00, 255.00)",
                    "rgb(0.00, 255.00, 255.00)",
                    "rgb(0.00, 255.00, 255.00)",
                    "rgb(0.00, 255.00, 255.00)",
                    "rgb(0.00, 255.00, 255.00)",
                    "rgb(0.00, 255.00, 255.00)",
                    "rgb(0.00, 255.00, 255.00)",
                    "rgb(0.00, 255.00, 255.00)",
                    "rgb(0.00, 255.00, 255.00)",
                    "rgb(0.00, 255.00, 255.00)",
                    "rgb(0.00, 255.00, 255.00)",
                    "rgb(0.00, 255.00, 255.00)",
                    "rgb(0.00, 255.00, 255.00)",
                    "rgb(0.00, 255.00, 255.00)",
                    "rgb(0.00, 255.00, 255.00)",
                    "rgb(0.00, 255.00, 255.00)",
                    "rgb(0.00, 255.00, 255.00)",
                    "rgb(0.00, 255.00, 255.00)",
                    "rgb(0.00, 255.00, 255.00)",
                    "rgb(0.00, 255.00, 255.00)",
                    "rgb(0.00, 255.00, 255.00)",
                    "rgb(0.00, 255.00, 255.00)",
                    "rgb(0.00, 255.00, 255.00)",
                    "rgb(0.00, 255.00, 255.00)",
                    "rgb(0.00, 255.00, 255.00)",
                    "rgb(0.00, 255.00, 255.00)",
                    "rgb(0.00, 255.00, 255.00)",
                    "rgb(0.00, 255.00, 255.00)",
                    "rgb(0.00, 255.00, 255.00)",
                    "rgb(0.00, 255.00, 255.00)",
                    "rgb(0.00, 255.00, 255.00)",
                    "rgb(0.00, 255.00, 255.00)",
                    "rgb(0.00, 255.00, 255.00)",
                    "rgb(0.00, 255.00, 255.00)",
                    "rgb(0.00, 255.00, 255.00)",
                    "rgb(0.00, 255.00, 255.00)",
                    "rgb(0.00, 255.00, 255.00)",
                    "rgb(0.00, 255.00, 255.00)",
                    "rgb(0.00, 255.00, 255.00)",
                    "rgb(0.00, 255.00, 255.00)",
                    "rgb(0.00, 255.00, 255.00)",
                    "rgb(0.00, 255.00, 255.00)",
                    "rgb(0.00, 255.00, 255.00)",
                    "rgb(0.00, 255.00, 255.00)",
                    "rgb(0.00, 255.00, 255.00)",
                    "rgb(0.00, 255.00, 255.00)",
                    "rgb(0.00, 255.00, 255.00)",
                    "rgb(0.00, 255.00, 255.00)",
                    "rgb(0.00, 255.00, 255.00)",
                    "rgb(0.00, 255.00, 255.00)",
                    "rgb(0.00, 255.00, 255.00)",
                    "rgb(0.00, 255.00, 255.00)",
                    "rgb(0.00, 255.00, 255.00)",
                    "rgb(0.00, 255.00, 255.00)",
                    "rgb(0.00, 255.00, 255.00)",
                    "rgb(0.00, 255.00, 255.00)",
                    "rgb(0.00, 255.00, 255.00)",
                    "rgb(0.00, 255.00, 255.00)",
                    "rgb(0.00, 255.00, 255.00)",
                    "rgb(0.00, 255.00, 255.00)",
                    "rgb(0.00, 255.00, 255.00)",
                    "rgb(0.00, 255.00, 255.00)",
                    "rgb(0.00, 255.00, 255.00)",
                    "rgb(0.00, 255.00, 255.00)",
                    "rgb(0.00, 255.00, 255.00)",
                    "rgb(0.00, 255.00, 255.00)",
                    "rgb(0.00, 255.00, 255.00)",
                    "rgb(0.00, 255.00, 255.00)",
                    "rgb(0.00, 255.00, 255.00)",
                    "rgb(0.00, 255.00, 255.00)",
                    "rgb(0.00, 255.00, 255.00)",
                    "rgb(0.00, 255.00, 255.00)",
                    "rgb(0.00, 255.00, 255.00)",
                    "rgb(0.00, 255.00, 255.00)",
                    "rgb(0.00, 255.00, 255.00)",
                    "rgb(0.00, 255.00, 255.00)",
                    "rgb(0.00, 255.00, 255.00)",
                    "rgb(0.00, 255.00, 255.00)",
                    "rgb(0.00, 255.00, 255.00)",
                    "rgb(0.00, 255.00, 255.00)",
                    "rgb(0.00, 255.00, 255.00)",
                    "rgb(0.00, 255.00, 255.00)",
                    "rgb(0.00, 255.00, 255.00)",
                    "rgb(0.00, 255.00, 255.00)",
                    "rgb(0.00, 255.00, 255.00)",
                    "rgb(0.00, 255.00, 255.00)",
                    "rgb(0.00, 255.00, 255.00)",
                    "rgb(0.00, 255.00, 255.00)",
                    "rgb(0.00, 255.00, 255.00)",
                    "rgb(0.00, 255.00, 255.00)",
                    "rgb(0.00, 255.00, 255.00)",
                    "rgb(0.00, 255.00, 255.00)",
                    "rgb(0.00, 255.00, 255.00)",
                    "rgb(0.00, 255.00, 255.00)",
                    "rgb(0.00, 255.00, 255.00)",
                    "rgb(0.00, 255.00, 255.00)",
                    "rgb(0.00, 255.00, 255.00)",
                    "rgb(0.00, 255.00, 255.00)",
                    "rgb(0.00, 255.00, 255.00)",
                    "rgb(0.00, 255.00, 255.00)",
                    "rgb(0.00, 255.00, 255.00)",
                    "rgb(0.00, 255.00, 255.00)",
                    "rgb(0.00, 255.00, 255.00)",
                    "rgb(0.00, 255.00, 255.00)",
                    "rgb(0.00, 255.00, 255.00)",
                    "rgb(0.00, 255.00, 255.00)",
                    "rgb(0.00, 255.00, 255.00)",
                    "rgb(0.00, 255.00, 255.00)",
                    "rgb(0.00, 255.00, 255.00)",
                    "rgb(0.00, 255.00, 255.00)",
                    "rgb(0.00, 255.00, 255.00)",
                    "rgb(0.00, 255.00, 255.00)",
                    "rgb(0.00, 255.00, 255.00)",
                    "rgb(0.00, 255.00, 255.00)",
                    "rgb(0.00, 255.00, 255.00)",
                    "rgb(0.00, 255.00, 255.00)",
                    "rgb(0.00, 255.00, 255.00)",
                    "rgb(0.00, 255.00, 255.00)",
                    "rgb(0.00, 255.00, 255.00)",
                    "rgb(0.00, 255.00, 255.00)",
                    "rgb(0.00, 255.00, 255.00)",
                    "rgb(0.00, 255.00, 255.00)",
                    "rgb(0.00, 255.00, 255.00)",
                    "rgb(0.00, 255.00, 255.00)",
                    "rgb(0.00, 255.00, 255.00)",
                    "rgb(0.00, 255.00, 255.00)",
                    "rgb(0.00, 255.00, 255.00)",
                    "rgb(0.00, 255.00, 255.00)",
                    "rgb(0.00, 255.00, 255.00)",
                    "rgb(0.00, 255.00, 255.00)",
                    "rgb(0.00, 255.00, 255.00)",
                    "rgb(0.00, 255.00, 255.00)",
                    "rgb(0.00, 255.00, 255.00)",
                    "rgb(0.00, 255.00, 255.00)",
                    "rgb(0.00, 255.00, 255.00)",
                    "rgb(0.00, 255.00, 255.00)",
                    "rgb(0.00, 255.00, 255.00)",
                    "rgb(0.00, 255.00, 255.00)",
                    "rgb(0.00, 255.00, 255.00)",
                    "rgb(0.00, 255.00, 255.00)",
                    "rgb(0.00, 255.00, 255.00)",
                    "rgb(0.00, 255.00, 255.00)",
                    "rgb(0.00, 255.00, 255.00)",
                    "rgb(0.00, 255.00, 255.00)",
                    "rgb(0.00, 255.00, 255.00)",
                    "rgb(0.00, 255.00, 255.00)",
                    "rgb(0.00, 255.00, 255.00)",
                    "rgb(0.00, 255.00, 255.00)",
                    "rgb(0.00, 255.00, 255.00)",
                    "rgb(0.00, 255.00, 255.00)",
                    "rgb(0.00, 255.00, 255.00)",
                    "rgb(0.00, 255.00, 255.00)",
                    "rgb(0.00, 255.00, 255.00)",
                    "rgb(0.00, 255.00, 255.00)",
                    "rgb(0.00, 255.00, 255.00)",
                    "rgb(0.00, 255.00, 255.00)",
                    "rgb(0.00, 255.00, 255.00)",
                    "rgb(0.00, 255.00, 255.00)",
                    "rgb(0.00, 255.00, 255.00)",
                    "rgb(0.00, 255.00, 255.00)",
                    "rgb(0.00, 255.00, 255.00)",
                    "rgb(0.00, 255.00, 255.00)",
                    "rgb(0.00, 255.00, 255.00)",
                    "rgb(0.00, 255.00, 255.00)",
                    "rgb(0.00, 255.00, 255.00)",
                    "rgb(0.00, 255.00, 255.00)",
                    "rgb(0.00, 255.00, 255.00)",
                    "rgb(0.00, 255.00, 255.00)",
                    "rgb(0.00, 255.00, 255.00)",
                    "rgb(0.00, 255.00, 255.00)",
                    "rgb(0.00, 255.00, 255.00)",
                    "rgb(0.00, 255.00, 255.00)",
                    "rgb(0.00, 255.00, 255.00)",
                    "rgb(0.00, 255.00, 255.00)",
                    "rgb(0.00, 255.00, 255.00)",
                    "rgb(0.00, 255.00, 255.00)",
                    "rgb(0.00, 255.00, 255.00)",
                    "rgb(0.00, 255.00, 255.00)",
                    "rgb(0.00, 255.00, 255.00)",
                    "rgb(0.00, 255.00, 255.00)",
                    "rgb(0.00, 255.00, 255.00)",
                    "rgb(0.00, 255.00, 255.00)",
                    "rgb(0.00, 255.00, 255.00)",
                    "rgb(0.00, 255.00, 255.00)",
                    "rgb(0.00, 255.00, 255.00)",
                    "rgb(0.00, 255.00, 255.00)",
                    "rgb(0.00, 255.00, 255.00)",
                    "rgb(0.00, 255.00, 255.00)",
                    "rgb(0.00, 255.00, 255.00)",
                    "rgb(0.00, 255.00, 255.00)",
                    "rgb(0.00, 255.00, 255.00)",
                    "rgb(0.00, 255.00, 255.00)",
                    "rgb(0.00, 255.00, 255.00)",
                    "rgb(0.00, 255.00, 255.00)",
                    "rgb(0.00, 255.00, 255.00)",
                    "rgb(0.00, 255.00, 255.00)",
                    "rgb(0.00, 255.00, 255.00)",
                    "rgb(0.00, 255.00, 255.00)",
                    "rgb(0.00, 255.00, 255.00)",
                    "rgb(0.00, 255.00, 255.00)",
                    "rgb(0.00, 255.00, 255.00)",
                    "rgb(0.00, 255.00, 255.00)",
                    "rgb(0.00, 255.00, 255.00)",
                    "rgb(0.00, 255.00, 255.00)",
                    "rgb(0.00, 255.00, 255.00)",
                    "rgb(0.00, 255.00, 255.00)",
                    "rgb(0.00, 255.00, 255.00)",
                    "rgb(0.00, 255.00, 255.00)",
                    "rgb(0.00, 255.00, 255.00)",
                    "rgb(0.00, 255.00, 255.00)",
                    "rgb(0.00, 255.00, 255.00)",
                    "rgb(0.00, 255.00, 255.00)",
                    "rgb(0.00, 255.00, 255.00)",
                    "rgb(0.00, 255.00, 255.00)",
                    "rgb(0.00, 255.00, 255.00)",
                    "rgb(0.00, 255.00, 255.00)",
                    "rgb(0.00, 255.00, 255.00)"
                  ],
                  "x": {
                    "bdata": "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",
                    "dtype": "f8"
                  },
                  "y": {
                    "bdata": "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",
                    "dtype": "f8"
                  },
                  "z": {
                    "bdata": "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",
                    "dtype": "f8"
                  }
                },
                {
                  "marker": {
                    "color": "red",
                    "size": 2
                  },
                  "mode": "markers",
                  "showlegend": false,
                  "type": "scatter3d",
                  "x": [],
                  "y": [],
                  "z": []
                }
              ],
              "layout": {
                "height": 500,
                "margin": {
                  "b": 10,
                  "l": 10,
                  "pad": 4,
                  "r": 10,
                  "t": 10
                },
                "paper_bgcolor": "black",
                "scene": {
                  "aspectmode": "cube",
                  "camera": {
                    "center": {
                      "x": 0,
                      "y": 0,
                      "z": -0.49390303385035605
                    },
                    "eye": {
                      "x": -0.7142857142857143,
                      "y": -1.4285714285714286,
                      "z": 0.2142857142857143
                    }
                  },
                  "xaxis": {
                    "backgroundcolor": "black",
                    "nticks": 10,
                    "range": [
                      199.749,
                      220.251
                    ]
                  },
                  "yaxis": {
                    "backgroundcolor": "black",
                    "nticks": 10,
                    "range": [
                      199.749,
                      220.251
                    ]
                  },
                  "zaxis": {
                    "backgroundcolor": "black",
                    "nticks": 10,
                    "range": [
                      0,
                      20.502
                    ]
                  }
                },
                "template": {
                  "data": {
                    "bar": [
                      {
                        "error_x": {
                          "color": "#f2f5fa"
                        },
                        "error_y": {
                          "color": "#f2f5fa"
                        },
                        "marker": {
                          "line": {
                            "color": "rgb(17,17,17)",
                            "width": 0.5
                          },
                          "pattern": {
                            "fillmode": "overlay",
                            "size": 10,
                            "solidity": 0.2
                          }
                        },
                        "type": "bar"
                      }
                    ],
                    "barpolar": [
                      {
                        "marker": {
                          "line": {
                            "color": "rgb(17,17,17)",
                            "width": 0.5
                          },
                          "pattern": {
                            "fillmode": "overlay",
                            "size": 10,
                            "solidity": 0.2
                          }
                        },
                        "type": "barpolar"
                      }
                    ],
                    "carpet": [
                      {
                        "aaxis": {
                          "endlinecolor": "#A2B1C6",
                          "gridcolor": "#506784",
                          "linecolor": "#506784",
                          "minorgridcolor": "#506784",
                          "startlinecolor": "#A2B1C6"
                        },
                        "baxis": {
                          "endlinecolor": "#A2B1C6",
                          "gridcolor": "#506784",
                          "linecolor": "#506784",
                          "minorgridcolor": "#506784",
                          "startlinecolor": "#A2B1C6"
                        },
                        "type": "carpet"
                      }
                    ],
                    "choropleth": [
                      {
                        "colorbar": {
                          "outlinewidth": 0,
                          "ticks": ""
                        },
                        "type": "choropleth"
                      }
                    ],
                    "contour": [
                      {
                        "colorbar": {
                          "outlinewidth": 0,
                          "ticks": ""
                        },
                        "colorscale": [
                          [
                            0,
                            "#0d0887"
                          ],
                          [
                            0.1111111111111111,
                            "#46039f"
                          ],
                          [
                            0.2222222222222222,
                            "#7201a8"
                          ],
                          [
                            0.3333333333333333,
                            "#9c179e"
                          ],
                          [
                            0.4444444444444444,
                            "#bd3786"
                          ],
                          [
                            0.5555555555555556,
                            "#d8576b"
                          ],
                          [
                            0.6666666666666666,
                            "#ed7953"
                          ],
                          [
                            0.7777777777777778,
                            "#fb9f3a"
                          ],
                          [
                            0.8888888888888888,
                            "#fdca26"
                          ],
                          [
                            1,
                            "#f0f921"
                          ]
                        ],
                        "type": "contour"
                      }
                    ],
                    "contourcarpet": [
                      {
                        "colorbar": {
                          "outlinewidth": 0,
                          "ticks": ""
                        },
                        "type": "contourcarpet"
                      }
                    ],
                    "heatmap": [
                      {
                        "colorbar": {
                          "outlinewidth": 0,
                          "ticks": ""
                        },
                        "colorscale": [
                          [
                            0,
                            "#0d0887"
                          ],
                          [
                            0.1111111111111111,
                            "#46039f"
                          ],
                          [
                            0.2222222222222222,
                            "#7201a8"
                          ],
                          [
                            0.3333333333333333,
                            "#9c179e"
                          ],
                          [
                            0.4444444444444444,
                            "#bd3786"
                          ],
                          [
                            0.5555555555555556,
                            "#d8576b"
                          ],
                          [
                            0.6666666666666666,
                            "#ed7953"
                          ],
                          [
                            0.7777777777777778,
                            "#fb9f3a"
                          ],
                          [
                            0.8888888888888888,
                            "#fdca26"
                          ],
                          [
                            1,
                            "#f0f921"
                          ]
                        ],
                        "type": "heatmap"
                      }
                    ],
                    "histogram": [
                      {
                        "marker": {
                          "pattern": {
                            "fillmode": "overlay",
                            "size": 10,
                            "solidity": 0.2
                          }
                        },
                        "type": "histogram"
                      }
                    ],
                    "histogram2d": [
                      {
                        "colorbar": {
                          "outlinewidth": 0,
                          "ticks": ""
                        },
                        "colorscale": [
                          [
                            0,
                            "#0d0887"
                          ],
                          [
                            0.1111111111111111,
                            "#46039f"
                          ],
                          [
                            0.2222222222222222,
                            "#7201a8"
                          ],
                          [
                            0.3333333333333333,
                            "#9c179e"
                          ],
                          [
                            0.4444444444444444,
                            "#bd3786"
                          ],
                          [
                            0.5555555555555556,
                            "#d8576b"
                          ],
                          [
                            0.6666666666666666,
                            "#ed7953"
                          ],
                          [
                            0.7777777777777778,
                            "#fb9f3a"
                          ],
                          [
                            0.8888888888888888,
                            "#fdca26"
                          ],
                          [
                            1,
                            "#f0f921"
                          ]
                        ],
                        "type": "histogram2d"
                      }
                    ],
                    "histogram2dcontour": [
                      {
                        "colorbar": {
                          "outlinewidth": 0,
                          "ticks": ""
                        },
                        "colorscale": [
                          [
                            0,
                            "#0d0887"
                          ],
                          [
                            0.1111111111111111,
                            "#46039f"
                          ],
                          [
                            0.2222222222222222,
                            "#7201a8"
                          ],
                          [
                            0.3333333333333333,
                            "#9c179e"
                          ],
                          [
                            0.4444444444444444,
                            "#bd3786"
                          ],
                          [
                            0.5555555555555556,
                            "#d8576b"
                          ],
                          [
                            0.6666666666666666,
                            "#ed7953"
                          ],
                          [
                            0.7777777777777778,
                            "#fb9f3a"
                          ],
                          [
                            0.8888888888888888,
                            "#fdca26"
                          ],
                          [
                            1,
                            "#f0f921"
                          ]
                        ],
                        "type": "histogram2dcontour"
                      }
                    ],
                    "mesh3d": [
                      {
                        "colorbar": {
                          "outlinewidth": 0,
                          "ticks": ""
                        },
                        "type": "mesh3d"
                      }
                    ],
                    "parcoords": [
                      {
                        "line": {
                          "colorbar": {
                            "outlinewidth": 0,
                            "ticks": ""
                          }
                        },
                        "type": "parcoords"
                      }
                    ],
                    "pie": [
                      {
                        "automargin": true,
                        "type": "pie"
                      }
                    ],
                    "scatter": [
                      {
                        "marker": {
                          "line": {
                            "color": "#283442"
                          }
                        },
                        "type": "scatter"
                      }
                    ],
                    "scatter3d": [
                      {
                        "line": {
                          "colorbar": {
                            "outlinewidth": 0,
                            "ticks": ""
                          }
                        },
                        "marker": {
                          "colorbar": {
                            "outlinewidth": 0,
                            "ticks": ""
                          }
                        },
                        "type": "scatter3d"
                      }
                    ],
                    "scattercarpet": [
                      {
                        "marker": {
                          "colorbar": {
                            "outlinewidth": 0,
                            "ticks": ""
                          }
                        },
                        "type": "scattercarpet"
                      }
                    ],
                    "scattergeo": [
                      {
                        "marker": {
                          "colorbar": {
                            "outlinewidth": 0,
                            "ticks": ""
                          }
                        },
                        "type": "scattergeo"
                      }
                    ],
                    "scattergl": [
                      {
                        "marker": {
                          "line": {
                            "color": "#283442"
                          }
                        },
                        "type": "scattergl"
                      }
                    ],
                    "scattermap": [
                      {
                        "marker": {
                          "colorbar": {
                            "outlinewidth": 0,
                            "ticks": ""
                          }
                        },
                        "type": "scattermap"
                      }
                    ],
                    "scattermapbox": [
                      {
                        "marker": {
                          "colorbar": {
                            "outlinewidth": 0,
                            "ticks": ""
                          }
                        },
                        "type": "scattermapbox"
                      }
                    ],
                    "scatterpolar": [
                      {
                        "marker": {
                          "colorbar": {
                            "outlinewidth": 0,
                            "ticks": ""
                          }
                        },
                        "type": "scatterpolar"
                      }
                    ],
                    "scatterpolargl": [
                      {
                        "marker": {
                          "colorbar": {
                            "outlinewidth": 0,
                            "ticks": ""
                          }
                        },
                        "type": "scatterpolargl"
                      }
                    ],
                    "scatterternary": [
                      {
                        "marker": {
                          "colorbar": {
                            "outlinewidth": 0,
                            "ticks": ""
                          }
                        },
                        "type": "scatterternary"
                      }
                    ],
                    "surface": [
                      {
                        "colorbar": {
                          "outlinewidth": 0,
                          "ticks": ""
                        },
                        "colorscale": [
                          [
                            0,
                            "#0d0887"
                          ],
                          [
                            0.1111111111111111,
                            "#46039f"
                          ],
                          [
                            0.2222222222222222,
                            "#7201a8"
                          ],
                          [
                            0.3333333333333333,
                            "#9c179e"
                          ],
                          [
                            0.4444444444444444,
                            "#bd3786"
                          ],
                          [
                            0.5555555555555556,
                            "#d8576b"
                          ],
                          [
                            0.6666666666666666,
                            "#ed7953"
                          ],
                          [
                            0.7777777777777778,
                            "#fb9f3a"
                          ],
                          [
                            0.8888888888888888,
                            "#fdca26"
                          ],
                          [
                            1,
                            "#f0f921"
                          ]
                        ],
                        "type": "surface"
                      }
                    ],
                    "table": [
                      {
                        "cells": {
                          "fill": {
                            "color": "#506784"
                          },
                          "line": {
                            "color": "rgb(17,17,17)"
                          }
                        },
                        "header": {
                          "fill": {
                            "color": "#2a3f5f"
                          },
                          "line": {
                            "color": "rgb(17,17,17)"
                          }
                        },
                        "type": "table"
                      }
                    ]
                  },
                  "layout": {
                    "annotationdefaults": {
                      "arrowcolor": "#f2f5fa",
                      "arrowhead": 0,
                      "arrowwidth": 1
                    },
                    "autotypenumbers": "strict",
                    "coloraxis": {
                      "colorbar": {
                        "outlinewidth": 0,
                        "ticks": ""
                      }
                    },
                    "colorscale": {
                      "diverging": [
                        [
                          0,
                          "#8e0152"
                        ],
                        [
                          0.1,
                          "#c51b7d"
                        ],
                        [
                          0.2,
                          "#de77ae"
                        ],
                        [
                          0.3,
                          "#f1b6da"
                        ],
                        [
                          0.4,
                          "#fde0ef"
                        ],
                        [
                          0.5,
                          "#f7f7f7"
                        ],
                        [
                          0.6,
                          "#e6f5d0"
                        ],
                        [
                          0.7,
                          "#b8e186"
                        ],
                        [
                          0.8,
                          "#7fbc41"
                        ],
                        [
                          0.9,
                          "#4d9221"
                        ],
                        [
                          1,
                          "#276419"
                        ]
                      ],
                      "sequential": [
                        [
                          0,
                          "#0d0887"
                        ],
                        [
                          0.1111111111111111,
                          "#46039f"
                        ],
                        [
                          0.2222222222222222,
                          "#7201a8"
                        ],
                        [
                          0.3333333333333333,
                          "#9c179e"
                        ],
                        [
                          0.4444444444444444,
                          "#bd3786"
                        ],
                        [
                          0.5555555555555556,
                          "#d8576b"
                        ],
                        [
                          0.6666666666666666,
                          "#ed7953"
                        ],
                        [
                          0.7777777777777778,
                          "#fb9f3a"
                        ],
                        [
                          0.8888888888888888,
                          "#fdca26"
                        ],
                        [
                          1,
                          "#f0f921"
                        ]
                      ],
                      "sequentialminus": [
                        [
                          0,
                          "#0d0887"
                        ],
                        [
                          0.1111111111111111,
                          "#46039f"
                        ],
                        [
                          0.2222222222222222,
                          "#7201a8"
                        ],
                        [
                          0.3333333333333333,
                          "#9c179e"
                        ],
                        [
                          0.4444444444444444,
                          "#bd3786"
                        ],
                        [
                          0.5555555555555556,
                          "#d8576b"
                        ],
                        [
                          0.6666666666666666,
                          "#ed7953"
                        ],
                        [
                          0.7777777777777778,
                          "#fb9f3a"
                        ],
                        [
                          0.8888888888888888,
                          "#fdca26"
                        ],
                        [
                          1,
                          "#f0f921"
                        ]
                      ]
                    },
                    "colorway": [
                      "#636efa",
                      "#EF553B",
                      "#00cc96",
                      "#ab63fa",
                      "#FFA15A",
                      "#19d3f3",
                      "#FF6692",
                      "#B6E880",
                      "#FF97FF",
                      "#FECB52"
                    ],
                    "font": {
                      "color": "#f2f5fa"
                    },
                    "geo": {
                      "bgcolor": "rgb(17,17,17)",
                      "lakecolor": "rgb(17,17,17)",
                      "landcolor": "rgb(17,17,17)",
                      "showlakes": true,
                      "showland": true,
                      "subunitcolor": "#506784"
                    },
                    "hoverlabel": {
                      "align": "left"
                    },
                    "hovermode": "closest",
                    "mapbox": {
                      "style": "dark"
                    },
                    "paper_bgcolor": "rgb(17,17,17)",
                    "plot_bgcolor": "rgb(17,17,17)",
                    "polar": {
                      "angularaxis": {
                        "gridcolor": "#506784",
                        "linecolor": "#506784",
                        "ticks": ""
                      },
                      "bgcolor": "rgb(17,17,17)",
                      "radialaxis": {
                        "gridcolor": "#506784",
                        "linecolor": "#506784",
                        "ticks": ""
                      }
                    },
                    "scene": {
                      "xaxis": {
                        "backgroundcolor": "rgb(17,17,17)",
                        "gridcolor": "#506784",
                        "gridwidth": 2,
                        "linecolor": "#506784",
                        "showbackground": true,
                        "ticks": "",
                        "zerolinecolor": "#C8D4E3"
                      },
                      "yaxis": {
                        "backgroundcolor": "rgb(17,17,17)",
                        "gridcolor": "#506784",
                        "gridwidth": 2,
                        "linecolor": "#506784",
                        "showbackground": true,
                        "ticks": "",
                        "zerolinecolor": "#C8D4E3"
                      },
                      "zaxis": {
                        "backgroundcolor": "rgb(17,17,17)",
                        "gridcolor": "#506784",
                        "gridwidth": 2,
                        "linecolor": "#506784",
                        "showbackground": true,
                        "ticks": "",
                        "zerolinecolor": "#C8D4E3"
                      }
                    },
                    "shapedefaults": {
                      "line": {
                        "color": "#f2f5fa"
                      }
                    },
                    "sliderdefaults": {
                      "bgcolor": "#C8D4E3",
                      "bordercolor": "rgb(17,17,17)",
                      "borderwidth": 1,
                      "tickwidth": 0
                    },
                    "ternary": {
                      "aaxis": {
                        "gridcolor": "#506784",
                        "linecolor": "#506784",
                        "ticks": ""
                      },
                      "baxis": {
                        "gridcolor": "#506784",
                        "linecolor": "#506784",
                        "ticks": ""
                      },
                      "bgcolor": "rgb(17,17,17)",
                      "caxis": {
                        "gridcolor": "#506784",
                        "linecolor": "#506784",
                        "ticks": ""
                      }
                    },
                    "title": {
                      "x": 0.05
                    },
                    "updatemenudefaults": {
                      "bgcolor": "#506784",
                      "borderwidth": 0
                    },
                    "xaxis": {
                      "automargin": true,
                      "gridcolor": "#283442",
                      "linecolor": "#506784",
                      "ticks": "",
                      "title": {
                        "standoff": 15
                      },
                      "zerolinecolor": "#283442",
                      "zerolinewidth": 2
                    },
                    "yaxis": {
                      "automargin": true,
                      "gridcolor": "#283442",
                      "linecolor": "#506784",
                      "ticks": "",
                      "title": {
                        "standoff": 15
                      },
                      "zerolinecolor": "#283442",
                      "zerolinewidth": 2
                    }
                  }
                },
                "width": 800
              }
            }
          },
          "metadata": {},
          "output_type": "display_data"
        }
      ],
      "source": [
        "# preview the design\n",
        "\n",
        "fc.transform(steps, 'plot', fc.PlotControls(style='line', zoom=0.7))\n",
        "# hover the cursor over the lines in the plot to check xyz positions of the points in the design\n",
        "\n",
        "# uncomment the next line to create a plot with real heights/widths for extruded lines to preview the real 3D printed geometry\n",
        "fc.transform(steps, 'plot', fc.PlotControls(style='tube', zoom=0.7, initialization_data={'extrusion_width': EW, 'extrusion_height': EH}))\n",
        "\n",
        "# uncomment the next line to create a neat preview (click the top-left button in the plot for a .png file) - post and tag @FullControlXYZ :)\n",
        "# fc.transform(steps, 'plot', fc.PlotControls(neat_for_publishing=True, zoom=0.5, initialization_data={'extrusion_width': EW, 'extrusion_height': EH}))\n"
      ]
    },
    {
      "cell_type": "code",
      "execution_count": null,
      "metadata": {
        "colab": {
          "base_uri": "https://localhost:8080/",
          "height": 17
        },
        "id": "tggFoUeJReQR",
        "outputId": "3e9733ce-224b-4aa9-abe7-d54bca6a0a96"
      },
      "outputs": [],
      "source": [
        "# generate and save gcode\n",
        "\n",
        "gcode_controls = fc.GcodeControls(\n",
        "    printer_name=printer_name,\n",
        "    save_as=design_name,\n",
        "    initialization_data={\n",
        "        'primer': 'front_lines_then_y',\n",
        "        'print_speed': print_speed,\n",
        "        'nozzle_temp': nozzle_temp,\n",
        "        'bed_temp': bed_temp,\n",
        "        'fan_percent': fan_percent,\n",
        "        'extrusion_width': EW,\n",
        "        'extrusion_height': EH})\n",
        "gcode = fc.transform(steps, 'gcode', gcode_controls)"
      ]
    },
    {
      "attachments": {},
      "cell_type": "markdown",
      "metadata": {},
      "source": [
        "#### please tell us what you're doing with FullControl!\n",
        "\n",
        "- tag FullControlXYZ on social media ([twitter](https://twitter.com/FullControlXYZ), [instagram](https://www.instagram.com/fullcontrolxyz/), [linkedin](https://www.linkedin.com/in/andrew-gleadall-068587119/), [tiktok](https://www.tiktok.com/@fullcontrolxyz))\n",
        "- email [info@fullcontrol.xyz](mailto:info@fullcontrol.xyz)\n",
        "- post on the [subreddit](https://reddit.com/r/fullcontrol)\n",
        "- post in the [github discussions or issues tabs](https://github.com/FullControlXYZ/fullcontrol/issues)\n",
        "\n",
        "in publications, please cite the original FullControl paper and the github repo for the new python version:\n",
        "\n",
        "- Gleadall, A. (2021). FullControl GCode Designer: open-source software for unconstrained design in additive manufacturing. Additive Manufacturing, 46, 102109. \n",
        "- Gleadall, A. and Leas, D. (2023). FullControl [electronic resource: python source code]. available at: https://github.com/FullControlXYZ/fullcontrol"
      ]
    }
  ],
  "metadata": {
    "colab": {
      "include_colab_link": true,
      "provenance": []
    },
    "kernelspec": {
      "display_name": "base",
      "language": "python",
      "name": "python3"
    },
    "language_info": {
      "codemirror_mode": {
        "name": "ipython",
        "version": 3
      },
      "file_extension": ".py",
      "mimetype": "text/x-python",
      "name": "python",
      "nbconvert_exporter": "python",
      "pygments_lexer": "ipython3",
      "version": "3.12.9"
    }
  },
  "nbformat": 4,
  "nbformat_minor": 0
}
